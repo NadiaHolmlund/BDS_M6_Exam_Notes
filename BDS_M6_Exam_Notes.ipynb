{
  "nbformat": 4,
  "nbformat_minor": 0,
  "metadata": {
    "colab": {
      "provenance": [],
      "toc_visible": true,
      "authorship_tag": "ABX9TyPVmJtgOljnKlbDOaYExsi7",
      "include_colab_link": true
    },
    "kernelspec": {
      "name": "python3",
      "display_name": "Python 3"
    },
    "language_info": {
      "name": "python"
    }
  },
  "cells": [
    {
      "cell_type": "markdown",
      "metadata": {
        "id": "view-in-github",
        "colab_type": "text"
      },
      "source": [
        "<a href=\"https://colab.research.google.com/github/NadiaHolmlund/BDS_M6_Exam_Notes/blob/main/BDS_M6_Exam_Notes.ipynb\" target=\"_parent\"><img src=\"https://colab.research.google.com/assets/colab-badge.svg\" alt=\"Open In Colab\"/></a>"
      ]
    },
    {
      "cell_type": "markdown",
      "source": [
        "# Databases"
      ],
      "metadata": {
        "id": "W5SEn1HkmP-M"
      }
    },
    {
      "cell_type": "markdown",
      "source": [
        "## 1. What are the main types of databases and what are the main differences between them?"
      ],
      "metadata": {
        "id": "WizReHWCR7nQ"
      }
    },
    {
      "cell_type": "markdown",
      "source": [
        "There are several types of databases, each with its own unique features and characteristics. Some of the main types of databases are:\n",
        "\n",
        "- Relational databases: These are the most common type of database and store data in tables with rows and columns. They are based on the relational model and use SQL (Structured Query Language) to manipulate data. Relational databases are well suited for structured data and are widely used in business applications.\n",
        "\n",
        "- NoSQL databases: These are databases that do not use the traditional table-based model of relational databases. Instead, they use a document-based model, key-value pairs, or graphs. NoSQL databases are often used for large and unstructured data sets and can handle different types of data such as images, videos, and social media feeds.\n",
        "\n",
        "- Object-oriented databases: These databases store data in objects rather than in tables. They are used primarily in object-oriented programming and can store complex data structures such as arrays and linked lists.\n",
        "\n",
        "- Graph databases: These databases use graph structures to store and organize data. They are used to represent complex relationships between data entities and are often used in social networks, recommendation systems, and fraud detection.\n",
        "\n",
        "\n",
        "The main differences between these types of databases are the data structures they use, the way they store and organize data, and the way they handle queries and data access. Relational databases are well suited for structured data and support complex queries, while NoSQL databases are better suited for unstructured data and are more scalable. Object-oriented databases are designed for object-oriented programming languages, and graph databases are designed to handle complex relationships between data entities."
      ],
      "metadata": {
        "id": "pPu_rtkOUisU"
      }
    },
    {
      "cell_type": "markdown",
      "source": [],
      "metadata": {
        "id": "DdkD3kma-d3D"
      }
    },
    {
      "cell_type": "markdown",
      "source": [
        "**Faiss** is a suitable database for storing embeddings and performing semantic search for the following reasons:\n",
        "\n",
        "* Efficiency: Faiss is designed to perform efficient similarity search and clustering of dense vectors. It allows for fast nearest neighbor searches, which is ideal for semantic search tasks.\n",
        "* Scalability: Faiss can handle large datasets with millions or even billions of vectors, making it suitable for real-world applications.\n",
        "Flexibility: Faiss supports different types of indexes, each with its own trade-offs between search speed, memory usage, and search quality. This allows you to choose the most suitable index for your specific use case.\n",
        "* GPU Support: Faiss can leverage GPUs for faster similarity search, which can be particularly useful for large-scale applications.\n",
        "* Integration with PyTorch: Faiss is compatible with PyTorch tensors, making it easy to integrate with the Hugging Face Transformers library and other PyTorch-based tools.\n",
        "* In summary, Faiss is an excellent choice for storing embeddings and performing semantic search due to its efficiency, scalability, flexibility, and compatibility with popular machine learning libraries like PyTorch.\n",
        "\n",
        "There are several alternative libraries and tools for storing embeddings and performing similarity searches. Some of these alternatives include:\n",
        "\n",
        "1. [Annoy (Approximate Nearest Neighbors Oh Yeah)](https://github.com/spotify/annoy): Annoy is a C++ library with Python bindings that enables fast approximate nearest neighbor searches. It creates static read-only data structures that are memory-mapped, allowing for efficient memory usage and fast queries. Annoy is particularly useful when you need to perform queries on large datasets.\n",
        "2. [NMSLIB (Non-Metric Space Library)](https://github.com/nmslib/nmslib): NMSLIB is an efficient similarity search library that supports both metric and non-metric spaces. It provides several search algorithms, including approximate nearest neighbor search, and it is known for its performance and flexibility. [GitHub\n",
        "3. [Elasticsearch](https://www.elastic.co/elasticsearch/): Elasticsearch is a distributed, RESTful search and analytics engine built on top of Apache Lucene. It supports full-text search and can be used for similarity search by indexing document embeddings and using the cosine similarity metric. Elasticsearch provides horizontal scalability and can handle very large datasets, but it may not be as fast as specialized libraries like Faiss or Annoy for nearest neighbor searches.\n",
        "4. [Milvus](https://milvus.io/): Milvus is an open-source vector database for similarity search and analytics. It supports multiple index types, including HNSW, IVF, and ANNOY, and provides a simple-to-use Python API. Milvus can be a good choice for large-scale applications and can be integrated with popular machine learning frameworks like TensorFlow and PyTorch.\n",
        "5. [Chroma](https://www.trychroma.com/): The newest thing! Chroma is the open-source embedding database. Chroma makes it easy to build LLM apps by making knowledge, facts, and skills pluggable for LLMs. Nicely integrated wityh langchain. [Demo colab](https://colab.research.google.com/drive/1QEzFyqnoFxq7LUGyP1vzR4iLt9PpCDXv?usp=sharing) "
      ],
      "metadata": {
        "id": "HYZ48X6irjsW"
      }
    },
    {
      "cell_type": "markdown",
      "source": [
        "# Introduction to the Structured Query Language (SQL)"
      ],
      "metadata": {
        "id": "6LBp5R5TufRy"
      }
    },
    {
      "cell_type": "markdown",
      "source": [
        "## SQL vs NoSQL Databases\n",
        "\n",
        "### SQL Databases\n",
        "* Structured Query Language (SQL)\n",
        "* Pre-defined schema\n",
        "* Relational databases (tables with relationships)\n",
        "* Examples: MySQL, PostgreSQL, Oracle, MS SQL Server\n",
        "\n",
        "### NoSQL Databases\n",
        "* Not only SQL\n",
        "* Flexible schema\n",
        "* Non-relational databases (document, key-value, column-family, graph)\n",
        "* Examples: MongoDB, Cassandra, Redis, Neo4j\n",
        "\n",
        "## Relational Databases \n",
        "\n",
        "* Relational database managament systems (RDBMS) store data in tables with rows and columns\n",
        "  * Each row represents a record or an entity\n",
        "  * Each column represents an attribute of the record\n",
        "* Tables are connected through relationships (primary and foreign keys)\n",
        "\n",
        "Example: \n",
        "\n",
        "| id | first_name | last_name | age | affiliation_id |\n",
        "|----|------------|-----------|-----|----------------|\n",
        "| 1  | John       | Doe       | 30  | 1337           |\n",
        "| 2  | Jane       | Smith     | 25  | 1505           |\n",
        "\n",
        "## SQL\n",
        "\n",
        "* SQL stands for Structured Query Language\n",
        "* SQL is a domain-specific language for managing relational databases\n",
        "* CRUD operations: Create, Read, Update, and Delete data\n",
        "* Used to communicate with relational databases\n",
        "* Allows you to create, read, update, and delete data\n",
        "* Commonly used in data analytics, data science, and data engineering\n",
        "\n",
        "## Advantages of SQL\n",
        "* Data integrity through schema enforcement and constraints\n",
        "* ACID transactions (Atomicity, Consistency, Isolation, Durability)\n",
        "* Standardized language (SQL) for querying and managing data\n",
        "* Mature technology with extensive community support\n",
        "\n",
        "## Applications of SQL\n",
        "\n",
        "### Business Analytics\n",
        "* Data warehousing for storing historical data\n",
        "* Structured data analysis for business intelligence and reporting\n",
        "* Support for complex queries and aggregations for decision-making\n",
        "\n",
        "### Machine Learning\n",
        "* Data preprocessing for machine learning algorithms\n",
        "* Feature engineering to create relevant features from raw data\n",
        "* Joining multiple data sources for a comprehensive dataset\n",
        "* Storing and managing machine learning model metadata and results\n",
        "\n",
        "## SQL Syntax Overview\n",
        "\n",
        "* SELECT: Read data from the database\n",
        "* INSERT: Add new records to the database\n",
        "* UPDATE: Modify existing records in the database\n",
        "* DELETE: Remove records from the database\n",
        "* CREATE, ALTER, DROP: Manage database structure\n"
      ],
      "metadata": {
        "id": "TLJ5VZ_T8TAk"
      }
    },
    {
      "cell_type": "markdown",
      "source": [
        "## Types of SQL databases\n",
        "\n",
        "### MySQL\n",
        "MySQL is one of the most popular fully-managed database types in SQL-based management. It originally started as an open-source project built on C and C++ and has now been acquired by Oracle Corporation.\n",
        "\n",
        "### PostgreSQL\n",
        "PostgreSQL is an advanced type of database in SQL management systems that seeks to step up MySQL solutions. PostgreSQL blends the traditional table-based approach with user-defined objects to create resilient databases supporting and analyzing complex and voluminous data. PostgreSQL is an open-source, freely-accessibly service owned by the PostgreSQL Global Development Group.\n",
        "\n",
        "### SQLite\n",
        "SQLite is a type of SQL database or storage engine structurally considered equivalent to a C library. It is embedded within other applications to enhance their storage capabilities. It is often used as the on-disk file format in applications for financial analysis, cataloging, etc.\n",
        "\n",
        "### Microsoft SQL Server\n",
        "Microsoft SQL Server (MSSQL) is one of the most popular DBMS in SQL for innovative management solutions. T-SQL, a derivative of SQL, is used to interact with MSSQL databases. The 2019 version of MSSQL comes integrated with Apache Spark and Hadoop Distributed File System for big data management and analysis.\n",
        "\n",
        "### MariaDB\n",
        "MariaDB is an open-source fork of MySQL. It intends to remain freely accessible to all under the General Public License. It is a database management system in SQL that seeks to be an alternative to MySQL DBMS.\n",
        "\n",
        "### Oracle\n",
        "The relational database management system provided by Oracle Corp. is a multi-model RDBMS that can support diverse, multiple workloads. This DBMS type in SQL is commonly used for online transaction processing and data warehousing.\n"
      ],
      "metadata": {
        "id": "gg0gtf6MQtyb"
      }
    },
    {
      "cell_type": "markdown",
      "source": [
        "## 2. What is a primary key in a relational database?"
      ],
      "metadata": {
        "id": "z06Dk_q8SE2_"
      }
    },
    {
      "cell_type": "markdown",
      "source": [
        "In a relational database, a primary key is a unique identifier for each record (row) in a table. It is a column or combination of columns that uniquely identifies a record and ensures that each record in a table can be accessed and updated efficiently.\n",
        "\n",
        "The primary key constraint is used to enforce this uniqueness and requires that no two records in a table have the same value for the primary key column(s). This means that a primary key cannot contain duplicate values, and every record in the table must have a unique value for the primary key.\n",
        "\n",
        "The primary key can be a single column or a combination of columns in the table, and it is typically used as a reference in other tables (foreign keys) to establish relationships between tables.\n",
        "\n",
        "For example, in a customer and orders table, the customer ID column could be the primary key in the customer table and a foreign key in the orders table, linking the two tables together.\n",
        "\n",
        "Using primary keys in a database helps ensure data integrity, consistency, and efficient data retrieval."
      ],
      "metadata": {
        "id": "QkQfH83tUzV0"
      }
    },
    {
      "cell_type": "markdown",
      "source": [
        "## 3. What is a foreign key in a relational database?"
      ],
      "metadata": {
        "id": "8MR8z6d2SMT4"
      }
    },
    {
      "cell_type": "markdown",
      "source": [
        "In a relational database, a foreign key is a column or a combination of columns that references the primary key of another table. It is used to establish a relationship between two tables by creating a link between them.\n",
        "\n",
        "A foreign key column in one table is used to refer to the primary key column(s) in another table. This allows data from one table to be linked to data in another table, creating a relationship between the two tables.\n",
        "\n",
        "For example, in a database for an e-commerce website, there may be a customer table and an orders table. The customer table might have a primary key column called \"customer_id\", and the orders table might have a foreign key column called \"customer_id\" that references the primary key column in the customer table. This allows the orders table to associate each order with a specific customer in the customer table.\n",
        "\n",
        "Foreign keys ensure referential integrity in the database by preventing actions that would violate relationships between tables, such as deleting a record that is referenced by a foreign key in another table. They also allow for efficient retrieval of related data from multiple tables."
      ],
      "metadata": {
        "id": "roUKaf-IVkt3"
      }
    },
    {
      "cell_type": "markdown",
      "source": [
        "## 4. Can you give me some examples of SQL syntax (statements) and their applications?"
      ],
      "metadata": {
        "id": "R1kUC0fUSMRl"
      }
    },
    {
      "cell_type": "markdown",
      "source": [
        "SELECT statement: This statement is used to retrieve data from one or more tables in a database. For example:\n",
        "\n",
        "This would retrieve all the columns and rows from the \"customers\" table."
      ],
      "metadata": {
        "id": "eeQiIvqaWAi-"
      }
    },
    {
      "cell_type": "code",
      "source": [
        "SELECT * FROM customers;"
      ],
      "metadata": {
        "id": "1cvu7ykqWF4f"
      },
      "execution_count": null,
      "outputs": []
    },
    {
      "cell_type": "markdown",
      "source": [
        "INSERT statement: This statement is used to insert new data into a table. For example:\n",
        "\n",
        "This would insert a new record into the \"customers\" table with the values \"John\" for the first_name column, \"Doe\" for the last_name column, and \"johndoe@example.com\" for the email column."
      ],
      "metadata": {
        "id": "3OyHEyyLWAZZ"
      }
    },
    {
      "cell_type": "code",
      "source": [
        "INSERT INTO customers (first_name, last_name, email)\n",
        "VALUES ('John', 'Doe', 'johndoe@example.com');"
      ],
      "metadata": {
        "id": "BbnfnKjVWNh4"
      },
      "execution_count": null,
      "outputs": []
    },
    {
      "cell_type": "markdown",
      "source": [
        "UPDATE statement: This statement is used to update existing data in a table. For example:\n",
        "\n",
        "This would update the email address of the customer with a customer_id of 123 in the \"customers\" table."
      ],
      "metadata": {
        "id": "MBNqxaczWAQU"
      }
    },
    {
      "cell_type": "code",
      "source": [
        "UPDATE customers\n",
        "SET email = 'newemail@example.com'\n",
        "WHERE customer_id = 123;"
      ],
      "metadata": {
        "id": "XhsPN8ChWSQC"
      },
      "execution_count": null,
      "outputs": []
    },
    {
      "cell_type": "markdown",
      "source": [
        "DELETE statement: This statement is used to delete data from a table. For example:\n",
        "\n",
        "This would delete the record for the customer with a customer_id of 123 from the \"customers\" table."
      ],
      "metadata": {
        "id": "tql2XuzUWAJD"
      }
    },
    {
      "cell_type": "code",
      "source": [
        "DELETE FROM customers\n",
        "WHERE customer_id = 123;\n"
      ],
      "metadata": {
        "id": "8YkMf9k6WYMJ"
      },
      "execution_count": null,
      "outputs": []
    },
    {
      "cell_type": "markdown",
      "source": [
        "CREATE TABLE statement: This statement is used to create a new table in a database. For example:\n",
        "\n",
        "This would create a new table called \"orders\" with columns for order_id, customer_id, order_date, and total_amount."
      ],
      "metadata": {
        "id": "3faG7jOTWYvS"
      }
    },
    {
      "cell_type": "code",
      "source": [
        "CREATE TABLE orders (\n",
        "  order_id INT PRIMARY KEY,\n",
        "  customer_id INT,\n",
        "  order_date DATE,\n",
        "  total_amount DECIMAL(10, 2)\n",
        ");"
      ],
      "metadata": {
        "id": "MBeT42yTWdFx"
      },
      "execution_count": null,
      "outputs": []
    },
    {
      "cell_type": "markdown",
      "source": [
        "First steps in SQL(ite)\n",
        "\n",
        "SQLite is a lightweight, serverless, and self-contained database engine that's easy to set up and use within Python applications. In comparison to other SQL dastabases, it does not require a sepperated server.\n",
        "The sqlite3 module is included in the Python standard library, so you don't need to install any additional packages to use it."
      ],
      "metadata": {
        "id": "SZuBFtSX9OxS"
      }
    },
    {
      "cell_type": "markdown",
      "source": [],
      "metadata": {
        "id": "zW-lq8y09ZkZ"
      }
    },
    {
      "cell_type": "markdown",
      "source": [
        "## Create and populate a database\n",
        "\n",
        "In this example, we'll create a SQLite database for a music streaming service like Spotify. The database will have the following tables: \n",
        "\n",
        "1. artists\n",
        "2. albums\n",
        "3. tracks\n",
        "4. playlists\n",
        "5. playlist_tracks\n",
        "\n",
        "We'll also insert sample data into these tables. In the schema, we will also define the relationship within and between the tables (primary & foreign key).\n",
        "\n",
        "Let's start by connecting to the SQLite database and creating a few records in the tables:"
      ],
      "metadata": {
        "id": "yeBOg78zRExZ"
      }
    },
    {
      "cell_type": "code",
      "source": [
        "# Connect to the SQLite database (creates a new file if it doesn't exist)\n",
        "conn = sqlite3.connect('music.db')\n",
        "\n",
        "# Set up a cursor (pointer to rows in database)\n",
        "c = conn.cursor()"
      ],
      "metadata": {
        "id": "jpSJ8NyJOMMu"
      },
      "execution_count": null,
      "outputs": []
    },
    {
      "cell_type": "code",
      "source": [
        "# Create the `artists` table\n",
        "c.execute('''\n",
        "CREATE TABLE artists (\n",
        "    id INTEGER PRIMARY KEY,\n",
        "    name TEXT\n",
        ")\n",
        "''')\n",
        "\n",
        "# Note: Primary key is the unique identifier of the table"
      ],
      "metadata": {
        "id": "67e6tXo_OMWF",
        "outputId": "70d71f20-a862-4926-ff69-86a58f38b0ef",
        "colab": {
          "base_uri": "https://localhost:8080/"
        }
      },
      "execution_count": null,
      "outputs": [
        {
          "output_type": "execute_result",
          "data": {
            "text/plain": [
              "<sqlite3.Cursor at 0x7ff66443f9d0>"
            ]
          },
          "metadata": {},
          "execution_count": 17
        }
      ]
    },
    {
      "cell_type": "code",
      "source": [
        "# Insert sample data into the `artists` table\n",
        "artists_data = [\n",
        "    (1, 'The Beatles'),\n",
        "    (2, 'Pink Floyd'),\n",
        "    (3, 'Led Zeppelin'),\n",
        "    (4, 'Queen')\n",
        "]"
      ],
      "metadata": {
        "id": "4eFAsBoTOMdN"
      },
      "execution_count": null,
      "outputs": []
    },
    {
      "cell_type": "code",
      "source": [
        "# with executemany get several rows in at once\n",
        "c.executemany(\"INSERT INTO artists (id, name) VALUES (?, ?)\", artists_data)"
      ],
      "metadata": {
        "id": "H3atweUxOMhG",
        "outputId": "994e8239-f9c1-4d83-cb5c-3c8839a3c20d",
        "colab": {
          "base_uri": "https://localhost:8080/"
        }
      },
      "execution_count": null,
      "outputs": [
        {
          "output_type": "execute_result",
          "data": {
            "text/plain": [
              "<sqlite3.Cursor at 0x7ff66443f9d0>"
            ]
          },
          "metadata": {},
          "execution_count": 19
        }
      ]
    },
    {
      "cell_type": "markdown",
      "source": [],
      "metadata": {
        "id": "HoIGmsLw9nQ5"
      }
    },
    {
      "cell_type": "markdown",
      "source": [
        "## Querying SQL\n",
        "\n",
        "Now, let's demonstrate some common SQLite commands:\n",
        "\n",
        "* **SELECT:** Fetch data from a table."
      ],
      "metadata": {
        "id": "nwYJ0k5UWUkZ"
      }
    },
    {
      "cell_type": "code",
      "source": [
        "c.execute(\"SELECT * FROM artists\")\n",
        "artists = c.fetchall()\n",
        "for artist in artists:\n",
        "    print(artist)"
      ],
      "metadata": {
        "id": "OzC-JTsEXJhY",
        "outputId": "47781e4b-ddf1-4a9f-e1d4-f3bf76dc0f44",
        "colab": {
          "base_uri": "https://localhost:8080/"
        }
      },
      "execution_count": null,
      "outputs": [
        {
          "output_type": "stream",
          "name": "stdout",
          "text": [
            "(1, 'The Beatles')\n",
            "(2, 'Pink Floyd')\n",
            "(3, 'Led Zeppelin')\n",
            "(4, 'Queen')\n"
          ]
        }
      ]
    },
    {
      "cell_type": "markdown",
      "source": [
        "* **WHERE:** Filter rows based on a condition.\n"
      ],
      "metadata": {
        "id": "sA815c3rXkXO"
      }
    },
    {
      "cell_type": "code",
      "source": [
        "c.execute(\"SELECT * FROM albums WHERE release_year >= 1970\")\n",
        "albums = c.fetchall()\n",
        "for album in albums:\n",
        "    print(album)"
      ],
      "metadata": {
        "id": "_y7UP1KcXpYx",
        "outputId": "81d5d7f6-cafc-422c-85f0-631885b8cb2c",
        "colab": {
          "base_uri": "https://localhost:8080/"
        }
      },
      "execution_count": null,
      "outputs": [
        {
          "output_type": "stream",
          "name": "stdout",
          "text": [
            "(2, 'The Wall', 2, 1979)\n",
            "(3, 'IV', 3, 1971)\n",
            "(4, 'A Night at the Opera', 4, 1975)\n"
          ]
        }
      ]
    },
    {
      "cell_type": "markdown",
      "source": [
        "* **ORDER BY:** Arrange rows based on a column."
      ],
      "metadata": {
        "id": "C7yA5yGeYGXm"
      }
    },
    {
      "cell_type": "code",
      "source": [
        "c.execute(\"SELECT * FROM albums ORDER BY release_year DESC\")\n",
        "sorted_albums = c.fetchall()\n",
        "for album in sorted_albums:\n",
        "    print(album)"
      ],
      "metadata": {
        "id": "GLEJIpNrYmDv",
        "outputId": "5d243143-d162-41fb-a6ad-cf4960613fa6",
        "colab": {
          "base_uri": "https://localhost:8080/"
        }
      },
      "execution_count": null,
      "outputs": [
        {
          "output_type": "stream",
          "name": "stdout",
          "text": [
            "(2, 'The Wall', 2, 1979)\n",
            "(4, 'A Night at the Opera', 4, 1975)\n",
            "(3, 'IV', 3, 1971)\n",
            "(1, 'Abbey Road', 1, 1969)\n"
          ]
        }
      ]
    },
    {
      "cell_type": "markdown",
      "source": [
        "* **JOIN:** Combine tables based on common columns. (you know that already)"
      ],
      "metadata": {
        "id": "pV7ndHIFYv-W"
      }
    },
    {
      "cell_type": "code",
      "source": [
        "c.execute(\"\"\"\n",
        "    SELECT tracks.name AS track_name, albums.name AS album_name, artists.name AS artist_name\n",
        "    FROM tracks\n",
        "    JOIN albums ON tracks.album_id = albums.id\n",
        "    JOIN artists ON albums.artist_id = artists.id\n",
        "\"\"\")\n",
        "track_details = c.fetchall()\n",
        "for track in track_details:\n",
        "    print(track)\n"
      ],
      "metadata": {
        "id": "6RzWQ24uY7Lg",
        "outputId": "eb4ffd2f-0b21-4fd9-c2df-a0b6519fe8c9",
        "colab": {
          "base_uri": "https://localhost:8080/"
        }
      },
      "execution_count": null,
      "outputs": [
        {
          "output_type": "stream",
          "name": "stdout",
          "text": [
            "('Come Together', 'Abbey Road', 'The Beatles')\n",
            "('Something', 'Abbey Road', 'The Beatles')\n",
            "('Another Brick in the Wall', 'The Wall', 'Pink Floyd')\n",
            "('Mother', 'The Wall', 'Pink Floyd')\n",
            "('Stairway to Heaven', 'IV', 'Led Zeppelin')\n",
            "('Black Dog', 'IV', 'Led Zeppelin')\n",
            "('Bohemian Rhapsody', 'A Night at the Opera', 'Queen')\n",
            "(\"You're My Best Friend\", 'A Night at the Opera', 'Queen')\n"
          ]
        }
      ]
    },
    {
      "cell_type": "markdown",
      "source": [
        "* **GROUP BY:** operations on group level (like in pandas)."
      ],
      "metadata": {
        "id": "e7u4R5sKZ3tv"
      }
    },
    {
      "cell_type": "code",
      "source": [
        "c.execute(\"\"\"\n",
        "    SELECT artists.name, SUM(tracks.duration) AS total_duration\n",
        "    FROM tracks\n",
        "    JOIN albums ON tracks.album_id = albums.id\n",
        "    JOIN artists ON albums.artist_id = artists.id\n",
        "    GROUP BY artists.id\n",
        "\"\"\")\n",
        "artist_durations = c.fetchall()\n",
        "for artist_duration in artist_durations:\n",
        "    print(artist_duration)"
      ],
      "metadata": {
        "id": "26TGLIdAaUjA",
        "outputId": "5d3a89b6-4686-48ce-baad-a4e50aceb40e",
        "colab": {
          "base_uri": "https://localhost:8080/"
        }
      },
      "execution_count": null,
      "outputs": [
        {
          "output_type": "stream",
          "name": "stdout",
          "text": [
            "('The Beatles', 442)\n",
            "('Pink Floyd', 565)\n",
            "('Led Zeppelin', 778)\n",
            "('Queen', 518)\n"
          ]
        }
      ]
    },
    {
      "cell_type": "markdown",
      "source": [
        "Now, let's combine multiple commands into a more complex query. This query will fetch the track names and their artist names, along with the total duration of tracks per artist, for tracks that are part of the \"Classic Rock\" playlist, ordered by the artist's name:"
      ],
      "metadata": {
        "id": "C6vsi3yRag3Q"
      }
    },
    {
      "cell_type": "code",
      "source": [
        "sql_query = \"\"\"\n",
        "    SELECT\n",
        "        artists.name AS artist_name,\n",
        "        tracks.name AS track_name,\n",
        "        SUM(tracks.duration) OVER (PARTITION BY artists.id) AS total_duration\n",
        "    FROM tracks\n",
        "    JOIN albums ON tracks.album_id = albums.id\n",
        "    JOIN artists ON albums.artist_id = artists.id\n",
        "    JOIN playlist_tracks ON tracks.id = playlist_tracks.track_id\n",
        "    JOIN playlists ON playlist_tracks.playlist_id = playlists.id\n",
        "    WHERE playlists.name = \"Classic Rock\"\n",
        "    ORDER BY artists.name\n",
        "\"\"\""
      ],
      "metadata": {
        "id": "zxDeEBFggfXl"
      },
      "execution_count": null,
      "outputs": []
    },
    {
      "cell_type": "code",
      "source": [
        "c.execute(sql_query)\n",
        "results = c.fetchall()\n",
        "for result in results:\n",
        "    print(result)"
      ],
      "metadata": {
        "id": "o6p0mYn1antw",
        "outputId": "28b79ce1-d9b7-4fe4-9f90-f28367d4c91b",
        "colab": {
          "base_uri": "https://localhost:8080/"
        }
      },
      "execution_count": null,
      "outputs": [
        {
          "output_type": "stream",
          "name": "stdout",
          "text": [
            "('Pink Floyd', 'Another Brick in the Wall', 231)\n",
            "('The Beatles', 'Come Together', 442)\n",
            "('The Beatles', 'Something', 442)\n"
          ]
        }
      ]
    },
    {
      "cell_type": "markdown",
      "source": [
        "## 5. Give some examples of SQL applications."
      ],
      "metadata": {
        "id": "nFzxxuFWSMPE"
      }
    },
    {
      "cell_type": "markdown",
      "source": [
        "SQL (Structured Query Language) is a popular programming language used to manage and manipulate relational databases. Here are some examples of applications of SQL:\n",
        "\n",
        "- Database management: SQL is used to create and manage relational databases. SQL statements can be used to create tables, insert data, retrieve data, update data, and delete data from a database.\n",
        "- Business intelligence: SQL is used to query databases to generate reports and analyze data. SQL statements can be used to filter data, group data, calculate averages, sums, and other metrics, and combine data from multiple tables.\n",
        "- E-commerce websites: SQL is used to manage online transactions, such as tracking orders and customer information, and updating inventory levels. SQL statements can be used to update order status, retrieve customer information, and adjust inventory levels.\n",
        "- Healthcare: SQL is used to manage patient information, including medical records, insurance information, and billing information. SQL statements can be used to retrieve patient data, update medical records, and generate billing statements.\n",
        "- Social media: SQL is used to store and manage large amounts of user-generated data, such as posts, comments, and likes. SQL statements can be used to retrieve user data, update user profiles, and track engagement metrics."
      ],
      "metadata": {
        "id": "rtWHYHRcWsje"
      }
    },
    {
      "cell_type": "markdown",
      "source": [
        "## 6. What are the different types of SQL and what are their key features and use cases?"
      ],
      "metadata": {
        "id": "ZDjdCf47SMMi"
      }
    },
    {
      "cell_type": "markdown",
      "source": [
        "There are several types of SQL, each with its own unique features and use cases. Here are some of the most common types of SQL:\n",
        "\n",
        "- Standard SQL: Standard SQL is the most common and widely used type of SQL. It is a standardized version of SQL that is supported by most relational database management systems (RDBMS). Standard SQL is used for managing and querying relational databases, and it includes features such as data definition language (DDL), data manipulation language (DML), and data control language (DCL).\n",
        "- Transact-SQL (T-SQL): T-SQL is a proprietary implementation of SQL used by Microsoft SQL Server. It includes extensions to standard SQL, such as additional built-in functions, error handling, and support for procedural programming constructs like IF-ELSE statements and loops. T-SQL is commonly used for building complex queries and stored procedures in SQL Server databases.\n",
        "- PL/SQL: PL/SQL is a procedural extension to SQL used by Oracle databases. It includes support for loops, conditionals, and exception handling, and it is used for building complex database applications and stored procedures.\n",
        "- MySQL: MySQL is a popular open-source relational database management system that uses a variant of SQL called MySQL SQL. MySQL SQL includes support for features such as transactions, subqueries, and triggers, and it is commonly used for web development and data-driven applications.\n",
        "- PostgreSQL: PostgreSQL is an open-source relational database management system that uses a variant of SQL called PostgreSQL SQL. PostgreSQL SQL includes support for features such as nested transactions, user-defined functions, and full-text search, and it is commonly used for enterprise applications and data warehousing.\n",
        "- NoSQL: NoSQL databases use non-relational data models and query languages, and they are used for managing large volumes of unstructured data, such as social media posts, sensor data, and log files. Some popular NoSQL databases include MongoDB, Cassandra, and Couchbase."
      ],
      "metadata": {
        "id": "LQHogdkpXH1x"
      }
    },
    {
      "cell_type": "markdown",
      "source": [
        "## 7. What are the different types of NoSQL and what are their key features and use cases?"
      ],
      "metadata": {
        "id": "nynsTuegSMKG"
      }
    },
    {
      "cell_type": "markdown",
      "source": [
        "NoSQL (Not only SQL) databases are non-relational databases that do not use the traditional table-based relational database model. Instead, they use a variety of data models and structures that are designed to handle large volumes of unstructured and semi-structured data. Here are some of the most common types of NoSQL databases and their key features and use cases:\n",
        "\n",
        "- Document databases: Document databases store data in flexible, semi-structured documents, such as JSON or BSON. These documents can contain nested values and arrays, making them highly flexible and scalable. Document databases are commonly used for content management systems, e-commerce platforms, and mobile applications. Examples of document databases include MongoDB, CouchDB, and RavenDB.\n",
        "- Key-value stores: Key-value stores are simple databases that store data as key-value pairs, where the value can be any type of data, including binary data or complex objects. Key-value stores are highly scalable and can handle high volumes of read and write operations. They are commonly used for caching, session management, and real-time analytics. Examples of key-value stores include Redis, Riak, and Amazon DynamoDB.\n",
        "- Column-family databases: Column-family databases store data in columns rather than rows, making them highly scalable and efficient for handling large volumes of data. Column-family databases are commonly used for content management, time-series data, and analytics. Examples of column-family databases include Apache Cassandra, HBase, and Amazon SimpleDB.\n",
        "- Graph databases: Graph databases store data as nodes and edges, allowing for highly efficient traversal and querying of relationships between data. Graph databases are commonly used for social networking, recommendation engines, and fraud detection. Examples of graph databases include Neo4j, OrientDB, and Titan."
      ],
      "metadata": {
        "id": "QBMhG9ffXlNj"
      }
    },
    {
      "cell_type": "markdown",
      "source": [],
      "metadata": {
        "id": "rNcJ4Obx9-PF"
      }
    },
    {
      "cell_type": "markdown",
      "source": [
        "# Introduction to Unstructured (NoSQL) Databases"
      ],
      "metadata": {
        "id": "5xZxb-JJslUr"
      }
    },
    {
      "cell_type": "markdown",
      "source": [
        "## NoSQL Databases Logic\n",
        "* NoSQL stands for \"Not only SQL\"\n",
        "* Designed to handle unstructured data and scalability challenges\n",
        "* Flexible schema allows for evolving data structures\n",
        "* Horizontal scalability for handling large volumes of data\n",
        "* Generally, weaker consistency models compared to SQL databases\n",
        "\n",
        "\n",
        "## Advantages of NoSQL Databases\n",
        "* Schema flexibility for changing data requirements\n",
        "* High scalability for large data volumes and high read/write rates\n",
        "* High availability and fault tolerance through data replication\n",
        "* Optimized for specific use cases, depending on the type of NoSQL database\n",
        "\n",
        "## Types and Structure of NoSQL Databases\n",
        "\n",
        "### 1. Document Databases\n",
        "* Store data in documents (usually JSON or BSON)\n",
        "* Documents can have nested structures\n",
        "* Documents can be organized in collections\n",
        "* Examples: MongoDB, Couchbase, RavenDB\n",
        "\n",
        "**Applications:**\n",
        "* Content management systems (CMS) with complex data structures\n",
        "* Real-time analytics for handling unstructured data\n",
        "* IoT data management for handling diverse data from multiple devices\n",
        "\n",
        "### 2. Key-Value Stores\n",
        "* Store data as key-value pairs\n",
        "* Keys are unique identifiers for the data\n",
        "* Values can be any data type, including complex structures\n",
        "* Examples: Redis, Amazon DynamoDB, Riak KV\n",
        "\n",
        "**Applications:**\n",
        "* Caching for improving the performance of data retrieval\n",
        "* Session management for storing user-specific data across sessions\n",
        "* Configuration data storage for application settings and metadata\n",
        "\n",
        "### 3. Column-Family Stores\n",
        "* Store data in column families (loosely related to tables)\n",
        "* Data is organized as rows and columns\n",
        "* Designed for high write and read performance on large-scale data\n",
        "* Examples: Apache Cassandra, HBase, ScyllaDB\n",
        "\n",
        "**Applications:**\n",
        "* Time-series data management for high write and read workloads\n",
        "* Event logging and analytics for large-scale systems\n",
        "* Recommendation systems for analyzing user behavior and preferences\n",
        "\n",
        "### 4. Graph Databases\n",
        "* Store data as nodes (entities) and edges (relationships)\n",
        "* Designed for graph traversal and querying connected data\n",
        "* Examples: Neo4j, Amazon Neptune, ArangoDB\n",
        "\n",
        "**Applications:**\n",
        "* Social network analysis for exploring connections between users\n",
        "* Fraud detection for uncovering complex patterns in financial transactions\n",
        "* Knowledge graphs for storing and querying complex, interrelated information"
      ],
      "metadata": {
        "id": "v-kYwdXM7Yfc"
      }
    },
    {
      "cell_type": "markdown",
      "source": [
        "In this tutorial, we'll introduce NoSQL databases, specifically using the TinyDB library in Python. TinyDB is a lightweight, document-oriented NoSQL database, perfect for beginners to learn the basics of NoSQL."
      ],
      "metadata": {
        "id": "n9YUJ0pdPJ5o"
      }
    },
    {
      "cell_type": "markdown",
      "source": [
        "TinyDB is a lightweight document-oriented database optimized for simplicity and ease of use. It doesn't use SQL queries like SQLite. Instead, it uses JSON-like structures to store and query data."
      ],
      "metadata": {
        "id": "VBCsRos7-qlA"
      }
    },
    {
      "cell_type": "markdown",
      "source": [],
      "metadata": {
        "id": "pXxS1gHx_c3N"
      }
    },
    {
      "cell_type": "markdown",
      "source": [
        "### Step 4: Running basic operations\n",
        "\n",
        "Now we'll perform four basic operations: SELECT, INSERT, UPDATE, and DELETE.\n"
      ],
      "metadata": {
        "id": "xXuRjvj_k3t8"
      }
    },
    {
      "cell_type": "code",
      "source": [
        "# Select all records from the 'reviews' table\n",
        "rows = table.all()\n",
        "\n",
        "\n",
        "# Print the records\n",
        "for row in rows[:3]:\n",
        "    print(row)"
      ],
      "metadata": {
        "colab": {
          "base_uri": "https://localhost:8080/"
        },
        "id": "lwTBAg7Kk1D-",
        "outputId": "c54b4636-431d-4324-9075-3bc6c4b4d5fa"
      },
      "execution_count": null,
      "outputs": [
        {
          "output_type": "stream",
          "name": "stdout",
          "text": [
            "{'row_number': 0, 'text': \"Oh gosh!! I love movie sooooooooooooooooooooo much!!!!!!!!!!!!!!!!!!!!!!!!!!!!!!!!!!!! It incredible......I loved wee babe still love adult. It favorite Disney movie allllllllllllllllllllllllllllll time! You watch it, watch love it. My friends I watch ton.....It soooooooooooooooooooooooooooooooooo good. I recommend anyone child child heart. My favorite part song dance number strays Thomas O'Malley. The writers/producers/director completely nailed one.....yeah, nailed wall.xoxo~Wolly~xoxo\"}\n",
            "{'row_number': 1, 'text': \"I saw Borderline several years ago AMC. I've looking ever since. It haunting: visual, textural, sensual. This movie took somewhere like dream I didn't care where. I never forget curtain blowing breeze. I still remember way made tilt head. I remember facial expression I saw it. I didn't know happened movie over, I find life way. It didn't bother me. The unfairness ultimate rejection innocent character strikes sadly real. I loved faces, way camera dwelt upon them. The camera gazed set unfocused eyes daydreamer. Borderline real way movies aren't. It exactly lack explanation, color, sharpness made enter consciousness like thief night. I love movie. Someday I it.\"}\n",
            "{'row_number': 2, 'text': 'Let say GRANNY extremely well made horror violence sure suspense moves!!!!!! best indie horror movie I ever seen 58 minutes long...It 5 20 favorite movie time. You people love this. I give 10 10!!!'}\n"
          ]
        }
      ]
    },
    {
      "cell_type": "code",
      "source": [
        "# Select all records from the 'reviews' table\n",
        "rows = table.search(Query().row_number >= 3)\n",
        "\n",
        "\n",
        "# Print the records\n",
        "for row in rows[:3]:\n",
        "    print(row)"
      ],
      "metadata": {
        "colab": {
          "base_uri": "https://localhost:8080/"
        },
        "id": "5B4WEGPUo59-",
        "outputId": "5efa6a14-2ec7-4fbd-ea5b-6e6f305810dd"
      },
      "execution_count": null,
      "outputs": [
        {
          "output_type": "stream",
          "name": "stdout",
          "text": [
            "{'row_number': 3, 'text': \"I like Full Moon Pictures I ordered movie USA, Germany can't get anywhere. I thought would nice amusing like Subspecies Puppetmaster Series, full atmosphere.I glad movie finally arrived.But watching cheesy movie, I disappointed. The actors ( I think can't even say actors) boring untalented. The story poor performance even set monster cheap lousy.I hope one ever make sequel remake terrible movie. :-)\"}\n",
            "{'row_number': 4, 'text': 'Worst horror film ever funniest film ever rolled one got see film cheap unbeliaveble see really!!!! P.s watch carrot'}\n",
            "{'row_number': 5, 'text': \"I first saw I teen last year Junior High. I riveted it! I loved special effects, fantastic places trial-aspect flashback method telling story.Several years later I read book interesting I could definitely see Swift trying say, I think it's perfect book social commentary, story movie better. It makes sense one long adventure Gulliver return voyage making profit selling tiny Lilliput sheep whatever.It's much arresting everyone thinks he's crazy sheep DO make cameo anyway. As side note, I saw Laputa I stunned. It looks much like Kingdom Zeal Chrono Trigger video game (1995) also made like mini-series even more.I saw 4 years ago, realized I still enjoyed much. Really high quality stuff began excellent run Sweeps mini-series NBC followed solid Merlin interesting Alice Wonderland.\"}\n"
          ]
        }
      ]
    },
    {
      "cell_type": "code",
      "source": [
        "# Insert a new record into the 'reviews' table\n",
        "new_record = {'row_number': 10000, 'text': 'Fantastic Film!'}\n",
        "table.insert(new_record)\n",
        "\n",
        "# Verify the insertion\n",
        "rows = table.search(Query().text == 'Fantastic Film!')\n",
        "print(rows)"
      ],
      "metadata": {
        "colab": {
          "base_uri": "https://localhost:8080/"
        },
        "id": "iO21re6KlGXv",
        "outputId": "e18b80ed-b34a-4cc1-fe08-915c0d639fe1"
      },
      "execution_count": null,
      "outputs": [
        {
          "output_type": "stream",
          "name": "stdout",
          "text": [
            "[{'row_number': 10000, 'text': 'Fantastic Film!'}]\n"
          ]
        }
      ]
    },
    {
      "cell_type": "code",
      "source": [
        "from tinydb import TinyDB, where\n",
        "\n",
        "result = table.search(where('row_number') > 9999)\n",
        "print(result)"
      ],
      "metadata": {
        "colab": {
          "base_uri": "https://localhost:8080/"
        },
        "id": "iXgVodUH4pol",
        "outputId": "0c372946-962a-42eb-ae81-43a0e4402a4b"
      },
      "execution_count": null,
      "outputs": [
        {
          "output_type": "stream",
          "name": "stdout",
          "text": [
            "[{'row_number': 10000, 'text': 'Fantastic Film!'}]\n"
          ]
        }
      ]
    },
    {
      "cell_type": "code",
      "source": [
        "# To update data, you can use the update method along with a query. Here's an example:\n",
        "\n",
        "table.update({'row_number': 10026}, where('text') == 'Fantastic Film!')"
      ],
      "metadata": {
        "colab": {
          "base_uri": "https://localhost:8080/"
        },
        "id": "u0lzOJ-f5SP4",
        "outputId": "9436d16d-7b6c-4f23-a686-a72e7428dedb"
      },
      "execution_count": null,
      "outputs": [
        {
          "output_type": "execute_result",
          "data": {
            "text/plain": [
              "[101]"
            ]
          },
          "metadata": {},
          "execution_count": 9
        }
      ]
    },
    {
      "cell_type": "code",
      "source": [
        "# To delete data, use the remove method along with a query. Here's an example:\n",
        "\n",
        "table.remove(where('row_number') == 10026)"
      ],
      "metadata": {
        "colab": {
          "base_uri": "https://localhost:8080/"
        },
        "id": "4vLVlG7e5h3J",
        "outputId": "c0cf473c-382d-426e-fdaf-88306211873c"
      },
      "execution_count": null,
      "outputs": [
        {
          "output_type": "execute_result",
          "data": {
            "text/plain": [
              "[101]"
            ]
          },
          "metadata": {},
          "execution_count": 10
        }
      ]
    },
    {
      "cell_type": "code",
      "source": [
        "rows = table.search(Query().text == 'Fantastic Film!')\n",
        "print(rows)"
      ],
      "metadata": {
        "colab": {
          "base_uri": "https://localhost:8080/"
        },
        "id": "EDsJVKDW5wTI",
        "outputId": "e485b28e-7292-4999-d3e3-f4feb02631c4"
      },
      "execution_count": null,
      "outputs": [
        {
          "output_type": "stream",
          "name": "stdout",
          "text": [
            "[]\n"
          ]
        }
      ]
    },
    {
      "cell_type": "markdown",
      "source": [
        "## Simple DB example"
      ],
      "metadata": {
        "id": "NEDQLRwL-2Vn"
      }
    },
    {
      "cell_type": "code",
      "source": [
        "# Initialize a new TinyDB instance\n",
        "db = TinyDB('my_database.json')"
      ],
      "metadata": {
        "id": "TGCeW5P-P2-S"
      },
      "execution_count": null,
      "outputs": []
    },
    {
      "cell_type": "markdown",
      "source": [
        "**Populating the database the database:** Lets get some data in first:"
      ],
      "metadata": {
        "id": "_GKZZc0JQtyF"
      }
    },
    {
      "cell_type": "code",
      "source": [
        "# PÅopulating database with some data\n",
        "students = [\n",
        "    {'name': 'Mette', 'age': 26, 'major': 'Data Science'},\n",
        "    {'name': 'Jeppe', 'age': 22, 'major': 'Data Science'},\n",
        "    {'name': 'John', 'age': 23, 'major': 'Computer Science'},\n",
        "    {'name': 'David', 'age': 24, 'major': 'Data Science'},\n",
        "    {'name': 'Pernille', 'age': 25, 'major': 'Economics'},\n",
        "    {'name': 'Alexandra', 'age': 21, 'major': 'Economics'},\n",
        "]\n",
        "\n",
        "# Insert the students into the database\n",
        "for student in students:\n",
        "    db.insert(student)"
      ],
      "metadata": {
        "id": "r38gZmfhQC5S"
      },
      "execution_count": null,
      "outputs": []
    },
    {
      "cell_type": "markdown",
      "source": [
        "**Querying the database:** TinyDB allows us to perform various types of queries on the database. Let's explore some common query operations:"
      ],
      "metadata": {
        "id": "Z6uPOfvtQl0f"
      }
    },
    {
      "cell_type": "code",
      "source": [
        "# Query object to perform queries\n",
        "Student = Query()"
      ],
      "metadata": {
        "id": "H9mLVGtZQ3ge"
      },
      "execution_count": null,
      "outputs": []
    },
    {
      "cell_type": "code",
      "source": [
        "# Find all students majoring in Data Science\n",
        "data_science_students = db.search(Student.major == 'Data Science')\n",
        "print(\"Data Science students:\", data_science_students)"
      ],
      "metadata": {
        "colab": {
          "base_uri": "https://localhost:8080/"
        },
        "id": "AUNP7OXPRHiq",
        "outputId": "ca1ee807-1d26-4ccd-c846-a19104891c86"
      },
      "execution_count": null,
      "outputs": [
        {
          "output_type": "stream",
          "name": "stdout",
          "text": [
            "Data Science students: [{'name': 'Mette', 'age': 26, 'major': 'Data Science'}, {'name': 'Jeppe', 'age': 22, 'major': 'Data Science'}, {'name': 'David', 'age': 24, 'major': 'Data Science'}]\n"
          ]
        }
      ]
    },
    {
      "cell_type": "code",
      "source": [
        "# Find all students who are 24 years old\n",
        "students_24 = db.search(Student.age == 24)\n",
        "print(\"Students aged 24:\", students_24)"
      ],
      "metadata": {
        "colab": {
          "base_uri": "https://localhost:8080/"
        },
        "id": "7jRNbzowRHo4",
        "outputId": "f4d1bed7-95bb-4201-e75c-e41e7d63896e"
      },
      "execution_count": null,
      "outputs": [
        {
          "output_type": "stream",
          "name": "stdout",
          "text": [
            "Students aged 24: [{'name': 'David', 'age': 24, 'major': 'Data Science'}]\n"
          ]
        }
      ]
    },
    {
      "cell_type": "code",
      "source": [
        "# Find all students whose name starts with 'A'\n",
        "students_starting_with_A = db.search(Student.name.matches('^A.*'))\n",
        "print(\"Students whose name starts with 'A':\", students_starting_with_A)"
      ],
      "metadata": {
        "colab": {
          "base_uri": "https://localhost:8080/"
        },
        "id": "fJCFErjwRHvr",
        "outputId": "b60d4ef8-f006-4ea0-ecbc-5519be5bcccd"
      },
      "execution_count": null,
      "outputs": [
        {
          "output_type": "stream",
          "name": "stdout",
          "text": [
            "Students whose name starts with 'A': [{'name': 'Alexandra', 'age': 21, 'major': 'Economics'}]\n"
          ]
        }
      ]
    },
    {
      "cell_type": "code",
      "source": [
        "# Find all students who are majoring in Data Science and are 22 years old\n",
        "data_science_and_22 = db.search((Student.major == 'Data Science') & (Student.age == 22))\n",
        "print(\"Data Science students aged 22:\", data_science_and_22)"
      ],
      "metadata": {
        "colab": {
          "base_uri": "https://localhost:8080/"
        },
        "id": "2kMaLF7hRH1Y",
        "outputId": "098c1ade-8f18-49c5-ce88-cc7079ff4e5e"
      },
      "execution_count": null,
      "outputs": [
        {
          "output_type": "stream",
          "name": "stdout",
          "text": [
            "Data Science students aged 22: [{'name': 'Jeppe', 'age': 22, 'major': 'Data Science'}]\n"
          ]
        }
      ]
    },
    {
      "cell_type": "markdown",
      "source": [
        "**Updating data in the database:** To update an entry in the database, use the update method."
      ],
      "metadata": {
        "id": "gOZhV9AQRjgV"
      }
    },
    {
      "cell_type": "code",
      "source": [
        "# Update Alexandras age\n",
        "db.update({'age': 23}, Student.name == 'Alexandra')"
      ],
      "metadata": {
        "colab": {
          "base_uri": "https://localhost:8080/"
        },
        "id": "do6TCisQRj7t",
        "outputId": "059fb775-1e55-408f-c4a0-73db5991dcb9"
      },
      "execution_count": null,
      "outputs": [
        {
          "output_type": "execute_result",
          "data": {
            "text/plain": [
              "[6]"
            ]
          },
          "metadata": {},
          "execution_count": 10
        }
      ]
    },
    {
      "cell_type": "markdown",
      "source": [
        "**Removing data from the database:** To remove entries from the database, use the remove method. "
      ],
      "metadata": {
        "id": "PdiYcspER_zW"
      }
    },
    {
      "cell_type": "code",
      "source": [
        "# Remove all Business Modelling students\n",
        "db.remove(Student.major == 'Business Modelling')"
      ],
      "metadata": {
        "colab": {
          "base_uri": "https://localhost:8080/"
        },
        "id": "F35PE1WdR_7q",
        "outputId": "b80a4d9f-7870-4bb4-bead-878b946bc21e"
      },
      "execution_count": null,
      "outputs": [
        {
          "output_type": "execute_result",
          "data": {
            "text/plain": [
              "[]"
            ]
          },
          "metadata": {},
          "execution_count": 11
        }
      ]
    },
    {
      "cell_type": "markdown",
      "source": [
        "## 8. How can we use a database in an ML project, and can you give an example?"
      ],
      "metadata": {
        "id": "nTKlBBkKSMH3"
      }
    },
    {
      "cell_type": "markdown",
      "source": [
        "Databases can be used in machine learning projects to store and manage large amounts of data, which can then be used for model training, testing, and validation. Here is an example of how a database can be used in an ML project:\n",
        "\n",
        "Let's say we want to build a machine learning model that can predict the likelihood of a customer making a purchase on an e-commerce website. To build this model, we will need to collect and store data about customer behavior, such as their browsing history, purchase history, demographics, and other relevant features.\n",
        "\n",
        "We can use a database, such as MySQL or PostgreSQL, to store this data in a structured format. We can then use SQL queries to extract and transform the data into a format that can be used for training and testing our machine learning model.\n",
        "\n",
        "For example, we can use SQL queries to:\n",
        "\n",
        "Join multiple tables to combine data from different sources\n",
        "Filter and select data based on specific criteria\n",
        "Aggregate data to calculate summary statistics, such as average purchase value or conversion rate\n",
        "Normalize and preprocess data to prepare it for machine learning algorithms, such as scaling or one-hot encoding categorical features.\n",
        "Once the data has been transformed and preprocessed, we can use it to train and test our machine learning model. We can then use the trained model to make predictions about new customers and their likelihood of making a purchase.\n",
        "\n",
        "In summary, databases can be used in machine learning projects to store, manage, and preprocess large amounts of data, which can then be used for model training, testing, and validation."
      ],
      "metadata": {
        "id": "m2QtN6qoX5KN"
      }
    },
    {
      "cell_type": "markdown",
      "source": [
        "## 9. What are the main advantages of SQL?"
      ],
      "metadata": {
        "id": "8j1UQec6SMFT"
      }
    },
    {
      "cell_type": "markdown",
      "source": [
        "Here are some of the main advantages of SQL:\n",
        "\n",
        "- Easy to learn and use: SQL is a simple and user-friendly language that is easy to learn, even for those with no programming experience. Its intuitive syntax and simple structure make it easy to write and understand SQL queries.\n",
        "- Widely used: SQL is a standard language that is widely used in the industry and is supported by many relational database management systems (RDBMS). This means that SQL skills are in high demand, and there are many resources available for learning and using SQL.\n",
        "- High performance: SQL is designed to work efficiently with large volumes of data, making it a good choice for handling big data applications. Its optimized queries and indexing techniques help to ensure fast query execution times.\n",
        "- Data integrity: SQL databases ensure data integrity through the use of constraints and rules that enforce data consistency and accuracy. This helps to prevent errors and inconsistencies in the data, ensuring its reliability and trustworthiness.\n",
        "- Scalability: SQL databases are highly scalable and can handle large volumes of data and users. They can also be easily scaled up or down to meet changing business needs.\n",
        "- Security: SQL databases have built-in security features that help to protect data from unauthorized access and ensure its confidentiality and integrity.\n",
        "\n",
        "In summary, SQL is a widely used and powerful language that offers a range of benefits, including ease of use, high performance, data integrity, scalability, and security."
      ],
      "metadata": {
        "id": "kuazTZpcYZtZ"
      }
    },
    {
      "cell_type": "markdown",
      "source": [
        "## 10. What are the main advantages of NoSQL?"
      ],
      "metadata": {
        "id": "TzPbFlHiSMCw"
      }
    },
    {
      "cell_type": "markdown",
      "source": [
        "Here are some of the main advantages of NoSQL:\n",
        "\n",
        "- Scalability: NoSQL databases are highly scalable and can handle large volumes of data and traffic. They are designed to be horizontally scalable, meaning that additional servers can be added to the cluster to handle increased load and traffic.\n",
        "- Flexible data models: NoSQL databases do not use a fixed schema, which allows for more flexible data models that can be adapted to changing business needs. This means that data can be added or modified without the need for complex schema migrations.\n",
        "- High performance: NoSQL databases are optimized for performance and can handle large volumes of read and write operations. They use techniques such as sharding, caching, and distributed processing to ensure fast query response times.\n",
        "- Cost-effective: NoSQL databases can be more cost-effective than traditional relational databases, especially for large-scale applications. They require less hardware and can be run on commodity hardware, which can help to reduce infrastructure costs.\n",
        "- Availability: NoSQL databases are designed to be highly available, with built-in redundancy and failover mechanisms. This means that if one server fails, the system can automatically switch to a backup server without any interruption to service.\n",
        "- Easy to use: NoSQL databases are often easier to use than traditional relational databases, with simpler query languages and more intuitive interfaces. This can make it easier for developers to work with the database and to build applications that use it.\n",
        "\n",
        "In summary, NoSQL databases offer a range of benefits, including scalability, flexible data models, high performance, cost-effectiveness, availability, and ease of use. These advantages make NoSQL databases a good choice for many modern applications that require flexible and scalable data storage."
      ],
      "metadata": {
        "id": "cWWsUuJ0ZHha"
      }
    },
    {
      "cell_type": "markdown",
      "source": [
        "# Big Data"
      ],
      "metadata": {
        "id": "YcgKriaCl2zz"
      }
    },
    {
      "cell_type": "markdown",
      "source": [
        "Spark is a powerful Big Data processing engine that allows you to work with large datasets in ML projects. It provides a flexible and scalable platform for data processing, allowing you to process data in real-time or in batch mode, and enabling you to run complex algorithms and models on massive datasets.\n",
        "\n",
        "Polars is another Big Data processing engine that is gaining popularity due to its speed, scalability, and ease of use. It is an open-source data processing library designed for processing large, complex datasets with ease. It provides a Pandas-like API for data manipulation, enabling users to easily perform a wide range of data processing tasks, such as filtering, aggregating, and transforming data.\n",
        "\n",
        "Both Spark and Polars offer powerful solutions for handling Big Data in ML projects, and choosing the right engine largely depends on the specific needs and requirements of your project. Regardless of which engine you choose, however, both Spark and Polars have revolutionized the way that we process and analyze large datasets, and have enabled us to unlock valuable insights and knowledge from data that was previously impossible to handle."
      ],
      "metadata": {
        "id": "ivRdF_MgAEcr"
      }
    },
    {
      "cell_type": "markdown",
      "source": [
        "## 11. What is Apache Spark used for?"
      ],
      "metadata": {
        "id": "5-oSPfY7SMAY"
      }
    },
    {
      "cell_type": "markdown",
      "source": [
        "Apache Spark is a popular open-source distributed computing system used for large-scale data processing and analytics. It is designed to handle batch processing, streaming data processing, machine learning, graph processing, and other data processing workloads. Here are some common use cases for Apache Spark:\n",
        "\n",
        "- Data processing: Apache Spark can be used to process large volumes of data quickly and efficiently. It supports a wide range of data sources and data formats, including structured, semi-structured, and unstructured data.\n",
        "- Machine learning: Apache Spark provides built-in libraries for machine learning, including classification, regression, clustering, and collaborative filtering. These libraries can be used to build and train machine learning models on large datasets.\n",
        "- Real-time analytics: Apache Spark's streaming API enables real-time data processing and analytics. It can be used to process and analyze data as it is generated, making it a useful tool for real-time applications.\n",
        "- Graph processing: Apache Spark's graph processing API enables the processing and analysis of large-scale graph data. This makes it useful for applications such as social network analysis and recommendation engines.\n",
        "- Data integration: Apache Spark can be used to integrate data from multiple sources and transform it into a common format for analysis. This makes it useful for data warehousing and ETL (extract, transform, load) processes.\n",
        "\n",
        "Overall, Apache Spark is a powerful tool for large-scale data processing and analytics that can be used for a wide range of applications, including data processing, machine learning, real-time analytics, graph processing, and data integration."
      ],
      "metadata": {
        "id": "Jx3pxEASZaZ1"
      }
    },
    {
      "cell_type": "markdown",
      "source": [
        "## 12. Can you provide an example of a use case where Apache Spark might be preferred?"
      ],
      "metadata": {
        "id": "jh33tigjSL-H"
      }
    },
    {
      "cell_type": "markdown",
      "source": [
        "Sure, here's an example of a use case where Apache Spark might be preferred:\n",
        "\n",
        "Let's say you are working for a company that runs a large e-commerce website. The website generates a massive amount of data, including customer interactions, clickstream data, and purchase history. You need to analyze this data to gain insights into customer behavior, optimize marketing campaigns, and improve the customer experience.\n",
        "\n",
        "To process this data efficiently, you might consider using Apache Spark. With Spark, you can process and analyze large volumes of data quickly and efficiently, making it easier to gain insights and take action in real-time.\n",
        "\n",
        "Here are some specific use cases for Apache Spark in this scenario:\n",
        "\n",
        "- Real-time analytics: With Spark's streaming API, you can analyze customer interactions and clickstream data in real-time, allowing you to optimize the customer experience and improve conversion rates.\n",
        "- Machine learning: Apache Spark provides built-in libraries for machine learning, allowing you to build and train models on large datasets. You can use these models to personalize the customer experience, recommend products, and optimize marketing campaigns.\n",
        "- Data integration: Apache Spark can be used to integrate data from multiple sources, including social media, email marketing, and customer service, into a single platform for analysis. This makes it easier to gain a comprehensive view of customer behavior and preferences.\n",
        "- Data processing: Apache Spark can be used to process and clean up large volumes of data quickly and efficiently, making it easier to prepare data for analysis.\n",
        "\n",
        "Overall, Apache Spark can be a powerful tool for e-commerce companies looking to analyze large volumes of customer data and gain insights to improve the customer experience and optimize marketing campaigns. Its scalability, real-time processing capabilities, and machine learning libraries make it an ideal choice for this type of use case."
      ],
      "metadata": {
        "id": "YCI6kMS5Ztrn"
      }
    },
    {
      "cell_type": "markdown",
      "source": [],
      "metadata": {
        "id": "BdewPnbFA_tL"
      }
    },
    {
      "cell_type": "markdown",
      "source": [
        "#Introduction\n",
        "Apache Spark is an open-source distributed computing system that provides an interface for programming entire clusters with implicit data parallelism and fault tolerance. It is designed to handle large datasets by distributing the data and computation across a cluster of computers. In this tutorial, we will be using PySpark, the Python API for Spark, to perform a big data workflow."
      ],
      "metadata": {
        "id": "z7TkN6aZfgpO"
      }
    },
    {
      "cell_type": "markdown",
      "source": [
        "#A few word about Apache Spark\n",
        "Apache Spark started as a research project at the University of California, Berkeley in 2009 and it is an open source project written mostly in Scala. In a nutshell, Apache Spark is a fast and general engine for large-scale data processing.\n",
        "Spark’s main property is in-memory processing, but you can also process data on disk and it can be fully integrated with Hadoop to process data from HDFS. Spark provides three main API, in  Java, Scala and Python. \n",
        "Spark offers an abstraction called resilient distributed datasets (RDDs),  which are  immutable and lazy data collections partitioned across the nodes of a cluster.\n",
        "\n",
        "MLlib is a standard component of Spark providing machine learning primitives on top of Spark which contains common algorithms (regression, classification, recommendation, optimization, clustering..), and also basic statistics and feature extraction functions.\n",
        "\n",
        "If you want to get a better look at Apache Spark and its ecosystem, just check out the web site Apache Spark and its documentation."
      ],
      "metadata": {
        "id": "I4fBODs2406V"
      }
    },
    {
      "cell_type": "code",
      "source": [
        "!pip install pyspark --q"
      ],
      "metadata": {
        "colab": {
          "base_uri": "https://localhost:8080/"
        },
        "id": "uyIDbIszeazz",
        "outputId": "02b8f334-6513-4cbe-e2d1-7c8ee955d069"
      },
      "execution_count": null,
      "outputs": [
        {
          "output_type": "stream",
          "name": "stdout",
          "text": [
            "\u001b[2K     \u001b[90m━━━━━━━━━━━━━━━━━━━━━━━━━━━━━━━━━━━━━━━\u001b[0m \u001b[32m281.4/281.4 MB\u001b[0m \u001b[31m3.6 MB/s\u001b[0m eta \u001b[36m0:00:00\u001b[0m\n",
            "\u001b[?25h  Preparing metadata (setup.py) ... \u001b[?25l\u001b[?25hdone\n",
            "\u001b[2K     \u001b[90m━━━━━━━━━━━━━━━━━━━━━━━━━━━━━━━━━━━━━━\u001b[0m \u001b[32m199.7/199.7 KB\u001b[0m \u001b[31m10.7 MB/s\u001b[0m eta \u001b[36m0:00:00\u001b[0m\n",
            "\u001b[?25h  Building wheel for pyspark (setup.py) ... \u001b[?25l\u001b[?25hdone\n"
          ]
        }
      ]
    },
    {
      "cell_type": "markdown",
      "source": [
        "#Step 1: Setup\n",
        "Let's import the necessary modules and create a SparkSession, which is the entry point to programming Spark with the DataFrame and Dataset APIs:"
      ],
      "metadata": {
        "id": "mP9IREcWflM-"
      }
    },
    {
      "cell_type": "code",
      "execution_count": null,
      "metadata": {
        "id": "G_TizRRGeOOl"
      },
      "outputs": [],
      "source": [
        "from pyspark.sql import SparkSession\n",
        "\n",
        "spark = SparkSession.builder \\\n",
        "    .appName(\"Big Data Workflow with Spark\") \\\n",
        "    .getOrCreate()"
      ]
    },
    {
      "cell_type": "markdown",
      "source": [
        "#Step 2: Load Data\n",
        "Next, let's load some data into Spark. We'll be using the Iris dataset, which is a well-known dataset in machine learning. "
      ],
      "metadata": {
        "id": "j2ZtXCSofrYX"
      }
    },
    {
      "cell_type": "code",
      "source": [
        "from pyspark import SparkFiles\n",
        "\n",
        "url = \"https://archive.ics.uci.edu/ml/machine-learning-databases/iris/iris.data\"\n",
        "spark.sparkContext.addFile(url)\n",
        "\n",
        "df = spark.read.csv(SparkFiles.get(\"iris.data\"), header=False, inferSchema=True)\n",
        "df.show()\n"
      ],
      "metadata": {
        "colab": {
          "base_uri": "https://localhost:8080/"
        },
        "id": "qpNh7n93eUjp",
        "outputId": "d08eca10-21b1-45b7-8739-6bbdb9745314"
      },
      "execution_count": null,
      "outputs": [
        {
          "output_type": "stream",
          "name": "stdout",
          "text": [
            "+---+---+---+---+-----------+\n",
            "|_c0|_c1|_c2|_c3|        _c4|\n",
            "+---+---+---+---+-----------+\n",
            "|5.1|3.5|1.4|0.2|Iris-setosa|\n",
            "|4.9|3.0|1.4|0.2|Iris-setosa|\n",
            "|4.7|3.2|1.3|0.2|Iris-setosa|\n",
            "|4.6|3.1|1.5|0.2|Iris-setosa|\n",
            "|5.0|3.6|1.4|0.2|Iris-setosa|\n",
            "|5.4|3.9|1.7|0.4|Iris-setosa|\n",
            "|4.6|3.4|1.4|0.3|Iris-setosa|\n",
            "|5.0|3.4|1.5|0.2|Iris-setosa|\n",
            "|4.4|2.9|1.4|0.2|Iris-setosa|\n",
            "|4.9|3.1|1.5|0.1|Iris-setosa|\n",
            "|5.4|3.7|1.5|0.2|Iris-setosa|\n",
            "|4.8|3.4|1.6|0.2|Iris-setosa|\n",
            "|4.8|3.0|1.4|0.1|Iris-setosa|\n",
            "|4.3|3.0|1.1|0.1|Iris-setosa|\n",
            "|5.8|4.0|1.2|0.2|Iris-setosa|\n",
            "|5.7|4.4|1.5|0.4|Iris-setosa|\n",
            "|5.4|3.9|1.3|0.4|Iris-setosa|\n",
            "|5.1|3.5|1.4|0.3|Iris-setosa|\n",
            "|5.7|3.8|1.7|0.3|Iris-setosa|\n",
            "|5.1|3.8|1.5|0.3|Iris-setosa|\n",
            "+---+---+---+---+-----------+\n",
            "only showing top 20 rows\n",
            "\n"
          ]
        }
      ]
    },
    {
      "cell_type": "markdown",
      "source": [
        "#Step 3: Data Preprocessing\n",
        "Now that we have our data loaded into Spark, we can start preprocessing it. In this step, we will be renaming the columns and removing any null values."
      ],
      "metadata": {
        "id": "Wbi3I-GIfu49"
      }
    },
    {
      "cell_type": "code",
      "source": [
        "df = df.toDF(\"sepal_length\", \"sepal_width\", \"petal_length\", \"petal_width\", \"class\")\n",
        "df = df.dropna()\n",
        "\n",
        "df.show()"
      ],
      "metadata": {
        "colab": {
          "base_uri": "https://localhost:8080/"
        },
        "id": "teu2ycgYfD3f",
        "outputId": "d5179e96-3f43-4027-9daf-1ca676d105a5"
      },
      "execution_count": null,
      "outputs": [
        {
          "output_type": "stream",
          "name": "stdout",
          "text": [
            "+------------+-----------+------------+-----------+-----------+\n",
            "|sepal_length|sepal_width|petal_length|petal_width|      class|\n",
            "+------------+-----------+------------+-----------+-----------+\n",
            "|         5.1|        3.5|         1.4|        0.2|Iris-setosa|\n",
            "|         4.9|        3.0|         1.4|        0.2|Iris-setosa|\n",
            "|         4.7|        3.2|         1.3|        0.2|Iris-setosa|\n",
            "|         4.6|        3.1|         1.5|        0.2|Iris-setosa|\n",
            "|         5.0|        3.6|         1.4|        0.2|Iris-setosa|\n",
            "|         5.4|        3.9|         1.7|        0.4|Iris-setosa|\n",
            "|         4.6|        3.4|         1.4|        0.3|Iris-setosa|\n",
            "|         5.0|        3.4|         1.5|        0.2|Iris-setosa|\n",
            "|         4.4|        2.9|         1.4|        0.2|Iris-setosa|\n",
            "|         4.9|        3.1|         1.5|        0.1|Iris-setosa|\n",
            "|         5.4|        3.7|         1.5|        0.2|Iris-setosa|\n",
            "|         4.8|        3.4|         1.6|        0.2|Iris-setosa|\n",
            "|         4.8|        3.0|         1.4|        0.1|Iris-setosa|\n",
            "|         4.3|        3.0|         1.1|        0.1|Iris-setosa|\n",
            "|         5.8|        4.0|         1.2|        0.2|Iris-setosa|\n",
            "|         5.7|        4.4|         1.5|        0.4|Iris-setosa|\n",
            "|         5.4|        3.9|         1.3|        0.4|Iris-setosa|\n",
            "|         5.1|        3.5|         1.4|        0.3|Iris-setosa|\n",
            "|         5.7|        3.8|         1.7|        0.3|Iris-setosa|\n",
            "|         5.1|        3.8|         1.5|        0.3|Iris-setosa|\n",
            "+------------+-----------+------------+-----------+-----------+\n",
            "only showing top 20 rows\n",
            "\n"
          ]
        }
      ]
    },
    {
      "cell_type": "markdown",
      "source": [
        "#Step 4: Data Exploration\n",
        "Let's explore our data a bit. We can use the describe() method to get some basic statistics about each column."
      ],
      "metadata": {
        "id": "Tw63jLfffzJQ"
      }
    },
    {
      "cell_type": "code",
      "source": [
        "df.describe().show()"
      ],
      "metadata": {
        "colab": {
          "base_uri": "https://localhost:8080/"
        },
        "id": "qXEOugB2fPB-",
        "outputId": "e24ab177-cc4b-404a-f1c7-fc1c4183f6cc"
      },
      "execution_count": null,
      "outputs": [
        {
          "output_type": "stream",
          "name": "stdout",
          "text": [
            "+-------+------------------+-------------------+------------------+------------------+--------------+\n",
            "|summary|      sepal_length|        sepal_width|      petal_length|       petal_width|         class|\n",
            "+-------+------------------+-------------------+------------------+------------------+--------------+\n",
            "|  count|               150|                150|               150|               150|           150|\n",
            "|   mean| 5.843333333333335| 3.0540000000000007|3.7586666666666693|1.1986666666666672|          null|\n",
            "| stddev|0.8280661279778637|0.43359431136217375| 1.764420419952262|0.7631607417008414|          null|\n",
            "|    min|               4.3|                2.0|               1.0|               0.1|   Iris-setosa|\n",
            "|    max|               7.9|                4.4|               6.9|               2.5|Iris-virginica|\n",
            "+-------+------------------+-------------------+------------------+------------------+--------------+\n",
            "\n"
          ]
        }
      ]
    },
    {
      "cell_type": "markdown",
      "source": [
        "#Step 5: Data Analysis\n",
        "Now we can perform some data analysis. Let's group our data by class and calculate the average sepal length for each class."
      ],
      "metadata": {
        "id": "21kEMOWzf2k5"
      }
    },
    {
      "cell_type": "code",
      "source": [
        "from pyspark.sql.functions import avg\n",
        "\n",
        "avg_sepal_length = df.groupBy(\"class\").agg(avg(\"sepal_length\"))\n",
        "avg_sepal_length.show()\n"
      ],
      "metadata": {
        "colab": {
          "base_uri": "https://localhost:8080/"
        },
        "id": "HHLx5oSBfVD4",
        "outputId": "5314e187-7bda-4cb8-ddbb-aad9b9de36c0"
      },
      "execution_count": null,
      "outputs": [
        {
          "output_type": "stream",
          "name": "stdout",
          "text": [
            "+---------------+-----------------+\n",
            "|          class|avg(sepal_length)|\n",
            "+---------------+-----------------+\n",
            "| Iris-virginica|6.587999999999998|\n",
            "|    Iris-setosa|5.005999999999999|\n",
            "|Iris-versicolor|            5.936|\n",
            "+---------------+-----------------+\n",
            "\n"
          ]
        }
      ]
    },
    {
      "cell_type": "markdown",
      "source": [
        "#Step 6: Data Visualization\n",
        "Finally, let's visualize our data. We'll be using the matplotlib library to create a scatter plot of the sepal length and width."
      ],
      "metadata": {
        "id": "OgWnZ34df5sP"
      }
    },
    {
      "cell_type": "code",
      "source": [
        "import matplotlib.pyplot as plt\n",
        "\n",
        "plt.scatter(df.select(\"sepal_length\").collect(),\n",
        "            df.select(\"sepal_width\").collect())\n",
        "plt.xlabel(\"Sepal Length\")\n",
        "plt.ylabel(\"Sepal Width\")\n",
        "plt.show()\n"
      ],
      "metadata": {
        "colab": {
          "base_uri": "https://localhost:8080/",
          "height": 282
        },
        "id": "91jckeYyfYg5",
        "outputId": "8fb96139-ffec-45ce-c86c-4e8ec00dcd12"
      },
      "execution_count": null,
      "outputs": [
        {
          "output_type": "display_data",
          "data": {
            "text/plain": [
              "<Figure size 432x288 with 1 Axes>"
            ],
            "image/png": "[encoded data removed]"
          },
          "metadata": {
            "needs_background": "light"
          }
        }
      ]
    },
    {
      "cell_type": "markdown",
      "source": [
        "#Conclusion\n",
        "That's it! In this tutorial, we covered the basics of performing a big data workflow with Spark in Python. We loaded data, preprocessed it, explored it, analyzed it, and visualized it. Spark is a powerful tool for handling big data, and with PySpark, we can easily interface with it in Python."
      ],
      "metadata": {
        "id": "w77ANmL-f9ON"
      }
    },
    {
      "cell_type": "markdown",
      "source": [],
      "metadata": {
        "id": "R61-AZUMBL7G"
      }
    },
    {
      "cell_type": "markdown",
      "metadata": {
        "id": "Wyi0JgJOUTiV"
      },
      "source": [
        "This notebook will give a tutorial for starting out with PySpark using Titanic dataset. Let's get started. \n",
        "\n",
        "\n",
        "###  Goals\n",
        "\n",
        "There are two primary goals of this kernel.\n",
        "- Provide a tutorial for someone who is starting out with pyspark.\n",
        "- Do an exploratory data analysis(EDA) of titanic with visualizations and storytelling.  \n",
        "\n",
        "\n",
        "### What is Spark, anyway?\n",
        "Spark is a distributed computing platform that enables the distribution of data and processing across clusters with multiple nodes. Each node in the cluster is akin to a separate computer, and splitting up data among nodes allows for efficient processing of very large datasets, with each node handling only a small portion of the data. The parallel nature of Spark's architecture allows each node to work on its own subset of the total data, enabling parallel processing of both data and computation across the nodes in the cluster. As a result, programming tasks that can be parallelized may be performed much faster.\n",
        "\n",
        "\n",
        "\n",
        "Determining whether Spark is the most suitable solution for your problem requires some experience, but there are certain factors to consider, such as:\n",
        "\n",
        "* Is the data too large to be processed on a single machine?\n",
        "* Can the calculations be easily parallelized?\n",
        "\n"
      ]
    },
    {
      "cell_type": "code",
      "execution_count": null,
      "metadata": {
        "id": "Vdxqe8EhUTia"
      },
      "outputs": [],
      "source": [
        "## installing pyspark\n",
        "!pip install pyspark --q"
      ]
    },
    {
      "cell_type": "code",
      "execution_count": null,
      "metadata": {
        "id": "H-8jf75BUTia"
      },
      "outputs": [],
      "source": [
        "## installing pyarrow\n",
        "!pip install pyarrow --q"
      ]
    },
    {
      "cell_type": "markdown",
      "metadata": {
        "id": "A_7ghnqkUTia"
      },
      "source": [
        "The first step in using Spark is connecting to a cluster. In practice, the cluster will be hosted on a remote machine that's connected to all other nodes. There will be one computer, called the master that manages splitting up the data and the computations. The master is connected to the rest of the computers in the cluster, which are called worker. The master sends the workers data and calculations to run, and they send their results back to the master.\n",
        "\n",
        "We definitely don't need many clusters for the Titanic dataset. Moreover, the syntax for running Spark locally or on multiple clusters is quite similar. To begin working with Spark DataFrames, we need to create a SparkSession object from SparkContext. The SparkContext acts as the connection to the cluster, while the SparkSession serves as the interface for interacting with that connection. Let's create a SparkSession."
      ]
    },
    {
      "cell_type": "markdown",
      "metadata": {
        "id": "4SK9s0K_UTib"
      },
      "source": [
        "# Beginner Tutorial\n",
        "This part is solely for beginners. I recommend starting from here to get a good understanding of the flow. "
      ]
    },
    {
      "cell_type": "code",
      "execution_count": null,
      "metadata": {
        "id": "W2l_gdiSUTib"
      },
      "outputs": [],
      "source": [
        "## creating a spark session\n",
        "from pyspark.sql import SparkSession\n",
        "spark = SparkSession.builder.appName('tutorial').getOrCreate()"
      ]
    },
    {
      "cell_type": "markdown",
      "metadata": {
        "id": "vaUWoczqUTib"
      },
      "source": [
        "Let's read the dataset. "
      ]
    },
    {
      "cell_type": "code",
      "execution_count": null,
      "metadata": {
        "id": "5ymEM3CNU1GX"
      },
      "outputs": [],
      "source": [
        "import pandas as pd\n",
        "import numpy as np\n",
        "\n",
        "df = pd.read_csv('https://raw.githubusercontent.com/datasciencedojo/datasets/master/titanic.csv')"
      ]
    },
    {
      "cell_type": "code",
      "execution_count": null,
      "metadata": {
        "colab": {
          "base_uri": "https://localhost:8080/"
        },
        "id": "Mfn0ngT-VrK3",
        "outputId": "1fbe1cb3-53af-42bc-dd83-c9dc7561ba84"
      },
      "outputs": [
        {
          "output_type": "execute_result",
          "data": {
            "text/plain": [
              "(891, 12)"
            ]
          },
          "metadata": {},
          "execution_count": 199
        }
      ],
      "source": [
        "df.shape"
      ]
    },
    {
      "cell_type": "code",
      "execution_count": null,
      "metadata": {
        "id": "f1NcO4QTVpBN"
      },
      "outputs": [],
      "source": [
        "df_train = df[:600]\n",
        "df_test = df[600:]"
      ]
    },
    {
      "cell_type": "code",
      "execution_count": null,
      "metadata": {
        "id": "OaHP2_FKVynY"
      },
      "outputs": [],
      "source": [
        "df_train.to_csv('titanic_train.csv', index=False)\n",
        "df_test.to_csv('titanic_test.csv', index=False)"
      ]
    },
    {
      "cell_type": "code",
      "execution_count": null,
      "metadata": {
        "id": "YmhlMpFzUTib"
      },
      "outputs": [],
      "source": [
        "df_train = spark.read.csv('/content/titanic_train.csv', header = True, inferSchema=True)\n",
        "df_test = spark.read.csv('/content/titanic_test.csv', header = True, inferSchema=True)"
      ]
    },
    {
      "cell_type": "code",
      "execution_count": null,
      "metadata": {
        "id": "RFERvOO6UTib"
      },
      "outputs": [],
      "source": [
        "titanic_train = df_train.alias(\"titanic_train\")"
      ]
    },
    {
      "cell_type": "code",
      "execution_count": null,
      "metadata": {
        "colab": {
          "base_uri": "https://localhost:8080/"
        },
        "id": "kJOTPxGGUTic",
        "outputId": "3112a91c-f3a2-40a1-ae03-c85bdb70dfe8"
      },
      "outputs": [
        {
          "output_type": "execute_result",
          "data": {
            "text/plain": [
              "pyspark.sql.dataframe.DataFrame"
            ]
          },
          "metadata": {},
          "execution_count": 204
        }
      ],
      "source": [
        "## So, what is df_train?\n",
        "type(df_train)"
      ]
    },
    {
      "cell_type": "code",
      "execution_count": null,
      "metadata": {
        "colab": {
          "base_uri": "https://localhost:8080/"
        },
        "id": "z6KixhrWUTic",
        "outputId": "830dacc2-d15d-4c35-f9a7-379e3fe8576b"
      },
      "outputs": [
        {
          "output_type": "stream",
          "name": "stdout",
          "text": [
            "+-----------+--------+------+--------------------+------+----+-----+-----+----------------+-------+-----+--------+\n",
            "|PassengerId|Survived|Pclass|                Name|   Sex| Age|SibSp|Parch|          Ticket|   Fare|Cabin|Embarked|\n",
            "+-----------+--------+------+--------------------+------+----+-----+-----+----------------+-------+-----+--------+\n",
            "|          1|       0|     3|Braund, Mr. Owen ...|  male|22.0|    1|    0|       A/5 21171|   7.25| null|       S|\n",
            "|          2|       1|     1|Cumings, Mrs. Joh...|female|38.0|    1|    0|        PC 17599|71.2833|  C85|       C|\n",
            "|          3|       1|     3|Heikkinen, Miss. ...|female|26.0|    0|    0|STON/O2. 3101282|  7.925| null|       S|\n",
            "|          4|       1|     1|Futrelle, Mrs. Ja...|female|35.0|    1|    0|          113803|   53.1| C123|       S|\n",
            "|          5|       0|     3|Allen, Mr. Willia...|  male|35.0|    0|    0|          373450|   8.05| null|       S|\n",
            "|          6|       0|     3|    Moran, Mr. James|  male|null|    0|    0|          330877| 8.4583| null|       Q|\n",
            "|          7|       0|     1|McCarthy, Mr. Tim...|  male|54.0|    0|    0|           17463|51.8625|  E46|       S|\n",
            "|          8|       0|     3|Palsson, Master. ...|  male| 2.0|    3|    1|          349909| 21.075| null|       S|\n",
            "|          9|       1|     3|Johnson, Mrs. Osc...|female|27.0|    0|    2|          347742|11.1333| null|       S|\n",
            "|         10|       1|     2|Nasser, Mrs. Nich...|female|14.0|    1|    0|          237736|30.0708| null|       C|\n",
            "|         11|       1|     3|Sandstrom, Miss. ...|female| 4.0|    1|    1|         PP 9549|   16.7|   G6|       S|\n",
            "|         12|       1|     1|Bonnell, Miss. El...|female|58.0|    0|    0|          113783|  26.55| C103|       S|\n",
            "|         13|       0|     3|Saundercock, Mr. ...|  male|20.0|    0|    0|       A/5. 2151|   8.05| null|       S|\n",
            "|         14|       0|     3|Andersson, Mr. An...|  male|39.0|    1|    5|          347082| 31.275| null|       S|\n",
            "|         15|       0|     3|Vestrom, Miss. Hu...|female|14.0|    0|    0|          350406| 7.8542| null|       S|\n",
            "|         16|       1|     2|Hewlett, Mrs. (Ma...|female|55.0|    0|    0|          248706|   16.0| null|       S|\n",
            "|         17|       0|     3|Rice, Master. Eugene|  male| 2.0|    4|    1|          382652| 29.125| null|       Q|\n",
            "|         18|       1|     2|Williams, Mr. Cha...|  male|null|    0|    0|          244373|   13.0| null|       S|\n",
            "|         19|       0|     3|Vander Planke, Mr...|female|31.0|    1|    0|          345763|   18.0| null|       S|\n",
            "|         20|       1|     3|Masselmani, Mrs. ...|female|null|    0|    0|            2649|  7.225| null|       C|\n",
            "+-----------+--------+------+--------------------+------+----+-----+-----+----------------+-------+-----+--------+\n",
            "only showing top 20 rows\n",
            "\n"
          ]
        }
      ],
      "source": [
        "## As you can see it's a Spark dataframe. Let's take a look at the preview of the dataset. \n",
        "df_train.show()"
      ]
    },
    {
      "cell_type": "code",
      "execution_count": null,
      "metadata": {
        "colab": {
          "base_uri": "https://localhost:8080/",
          "height": 537
        },
        "id": "5rdJf_iPUTic",
        "outputId": "872d0d9e-8055-4b79-ba55-d75d4348a526"
      },
      "outputs": [
        {
          "output_type": "execute_result",
          "data": {
            "text/plain": [
              "     PassengerId  Survived  Pclass  \\\n",
              "0              1         0       3   \n",
              "1              2         1       1   \n",
              "2              3         1       3   \n",
              "3              4         1       1   \n",
              "4              5         0       3   \n",
              "..           ...       ...     ...   \n",
              "595          596         0       3   \n",
              "596          597         1       2   \n",
              "597          598         0       3   \n",
              "598          599         0       3   \n",
              "599          600         1       1   \n",
              "\n",
              "                                                  Name     Sex   Age  SibSp  \\\n",
              "0                              Braund, Mr. Owen Harris    male  22.0      1   \n",
              "1    Cumings, Mrs. John Bradley (Florence Briggs Th...  female  38.0      1   \n",
              "2                               Heikkinen, Miss. Laina  female  26.0      0   \n",
              "3         Futrelle, Mrs. Jacques Heath (Lily May Peel)  female  35.0      1   \n",
              "4                             Allen, Mr. William Henry    male  35.0      0   \n",
              "..                                                 ...     ...   ...    ...   \n",
              "595                        Van Impe, Mr. Jean Baptiste    male  36.0      1   \n",
              "596                         Leitch, Miss. Jessie Wills  female   NaN      0   \n",
              "597                                Johnson, Mr. Alfred    male  49.0      0   \n",
              "598                                  Boulos, Mr. Hanna    male   NaN      0   \n",
              "599   \"Duff Gordon, Sir. Cosmo Edmund (\"\"Mr Morgan\"\")\"    male  49.0      1   \n",
              "\n",
              "     Parch            Ticket     Fare Cabin Embarked  \n",
              "0        0         A/5 21171   7.2500  None        S  \n",
              "1        0          PC 17599  71.2833   C85        C  \n",
              "2        0  STON/O2. 3101282   7.9250  None        S  \n",
              "3        0            113803  53.1000  C123        S  \n",
              "4        0            373450   8.0500  None        S  \n",
              "..     ...               ...      ...   ...      ...  \n",
              "595      1            345773  24.1500  None        S  \n",
              "596      0            248727  33.0000  None        S  \n",
              "597      0              LINE   0.0000  None        S  \n",
              "598      0              2664   7.2250  None        C  \n",
              "599      0          PC 17485  56.9292   A20        C  \n",
              "\n",
              "[600 rows x 12 columns]"
            ],
            "text/html": [
              "\n",
              "  <div id=\"df-175265d8-6b2c-4ff2-be8d-03d1551c7e8e\">\n",
              "    <div class=\"colab-df-container\">\n",
              "      <div>\n",
              "<style scoped>\n",
              "    .dataframe tbody tr th:only-of-type {\n",
              "        vertical-align: middle;\n",
              "    }\n",
              "\n",
              "    .dataframe tbody tr th {\n",
              "        vertical-align: top;\n",
              "    }\n",
              "\n",
              "    .dataframe thead th {\n",
              "        text-align: right;\n",
              "    }\n",
              "</style>\n",
              "<table border=\"1\" class=\"dataframe\">\n",
              "  <thead>\n",
              "    <tr style=\"text-align: right;\">\n",
              "      <th></th>\n",
              "      <th>PassengerId</th>\n",
              "      <th>Survived</th>\n",
              "      <th>Pclass</th>\n",
              "      <th>Name</th>\n",
              "      <th>Sex</th>\n",
              "      <th>Age</th>\n",
              "      <th>SibSp</th>\n",
              "      <th>Parch</th>\n",
              "      <th>Ticket</th>\n",
              "      <th>Fare</th>\n",
              "      <th>Cabin</th>\n",
              "      <th>Embarked</th>\n",
              "    </tr>\n",
              "  </thead>\n",
              "  <tbody>\n",
              "    <tr>\n",
              "      <th>0</th>\n",
              "      <td>1</td>\n",
              "      <td>0</td>\n",
              "      <td>3</td>\n",
              "      <td>Braund, Mr. Owen Harris</td>\n",
              "      <td>male</td>\n",
              "      <td>22.0</td>\n",
              "      <td>1</td>\n",
              "      <td>0</td>\n",
              "      <td>A/5 21171</td>\n",
              "      <td>7.2500</td>\n",
              "      <td>None</td>\n",
              "      <td>S</td>\n",
              "    </tr>\n",
              "    <tr>\n",
              "      <th>1</th>\n",
              "      <td>2</td>\n",
              "      <td>1</td>\n",
              "      <td>1</td>\n",
              "      <td>Cumings, Mrs. John Bradley (Florence Briggs Th...</td>\n",
              "      <td>female</td>\n",
              "      <td>38.0</td>\n",
              "      <td>1</td>\n",
              "      <td>0</td>\n",
              "      <td>PC 17599</td>\n",
              "      <td>71.2833</td>\n",
              "      <td>C85</td>\n",
              "      <td>C</td>\n",
              "    </tr>\n",
              "    <tr>\n",
              "      <th>2</th>\n",
              "      <td>3</td>\n",
              "      <td>1</td>\n",
              "      <td>3</td>\n",
              "      <td>Heikkinen, Miss. Laina</td>\n",
              "      <td>female</td>\n",
              "      <td>26.0</td>\n",
              "      <td>0</td>\n",
              "      <td>0</td>\n",
              "      <td>STON/O2. 3101282</td>\n",
              "      <td>7.9250</td>\n",
              "      <td>None</td>\n",
              "      <td>S</td>\n",
              "    </tr>\n",
              "    <tr>\n",
              "      <th>3</th>\n",
              "      <td>4</td>\n",
              "      <td>1</td>\n",
              "      <td>1</td>\n",
              "      <td>Futrelle, Mrs. Jacques Heath (Lily May Peel)</td>\n",
              "      <td>female</td>\n",
              "      <td>35.0</td>\n",
              "      <td>1</td>\n",
              "      <td>0</td>\n",
              "      <td>113803</td>\n",
              "      <td>53.1000</td>\n",
              "      <td>C123</td>\n",
              "      <td>S</td>\n",
              "    </tr>\n",
              "    <tr>\n",
              "      <th>4</th>\n",
              "      <td>5</td>\n",
              "      <td>0</td>\n",
              "      <td>3</td>\n",
              "      <td>Allen, Mr. William Henry</td>\n",
              "      <td>male</td>\n",
              "      <td>35.0</td>\n",
              "      <td>0</td>\n",
              "      <td>0</td>\n",
              "      <td>373450</td>\n",
              "      <td>8.0500</td>\n",
              "      <td>None</td>\n",
              "      <td>S</td>\n",
              "    </tr>\n",
              "    <tr>\n",
              "      <th>...</th>\n",
              "      <td>...</td>\n",
              "      <td>...</td>\n",
              "      <td>...</td>\n",
              "      <td>...</td>\n",
              "      <td>...</td>\n",
              "      <td>...</td>\n",
              "      <td>...</td>\n",
              "      <td>...</td>\n",
              "      <td>...</td>\n",
              "      <td>...</td>\n",
              "      <td>...</td>\n",
              "      <td>...</td>\n",
              "    </tr>\n",
              "    <tr>\n",
              "      <th>595</th>\n",
              "      <td>596</td>\n",
              "      <td>0</td>\n",
              "      <td>3</td>\n",
              "      <td>Van Impe, Mr. Jean Baptiste</td>\n",
              "      <td>male</td>\n",
              "      <td>36.0</td>\n",
              "      <td>1</td>\n",
              "      <td>1</td>\n",
              "      <td>345773</td>\n",
              "      <td>24.1500</td>\n",
              "      <td>None</td>\n",
              "      <td>S</td>\n",
              "    </tr>\n",
              "    <tr>\n",
              "      <th>596</th>\n",
              "      <td>597</td>\n",
              "      <td>1</td>\n",
              "      <td>2</td>\n",
              "      <td>Leitch, Miss. Jessie Wills</td>\n",
              "      <td>female</td>\n",
              "      <td>NaN</td>\n",
              "      <td>0</td>\n",
              "      <td>0</td>\n",
              "      <td>248727</td>\n",
              "      <td>33.0000</td>\n",
              "      <td>None</td>\n",
              "      <td>S</td>\n",
              "    </tr>\n",
              "    <tr>\n",
              "      <th>597</th>\n",
              "      <td>598</td>\n",
              "      <td>0</td>\n",
              "      <td>3</td>\n",
              "      <td>Johnson, Mr. Alfred</td>\n",
              "      <td>male</td>\n",
              "      <td>49.0</td>\n",
              "      <td>0</td>\n",
              "      <td>0</td>\n",
              "      <td>LINE</td>\n",
              "      <td>0.0000</td>\n",
              "      <td>None</td>\n",
              "      <td>S</td>\n",
              "    </tr>\n",
              "    <tr>\n",
              "      <th>598</th>\n",
              "      <td>599</td>\n",
              "      <td>0</td>\n",
              "      <td>3</td>\n",
              "      <td>Boulos, Mr. Hanna</td>\n",
              "      <td>male</td>\n",
              "      <td>NaN</td>\n",
              "      <td>0</td>\n",
              "      <td>0</td>\n",
              "      <td>2664</td>\n",
              "      <td>7.2250</td>\n",
              "      <td>None</td>\n",
              "      <td>C</td>\n",
              "    </tr>\n",
              "    <tr>\n",
              "      <th>599</th>\n",
              "      <td>600</td>\n",
              "      <td>1</td>\n",
              "      <td>1</td>\n",
              "      <td>\"Duff Gordon, Sir. Cosmo Edmund (\"\"Mr Morgan\"\")\"</td>\n",
              "      <td>male</td>\n",
              "      <td>49.0</td>\n",
              "      <td>1</td>\n",
              "      <td>0</td>\n",
              "      <td>PC 17485</td>\n",
              "      <td>56.9292</td>\n",
              "      <td>A20</td>\n",
              "      <td>C</td>\n",
              "    </tr>\n",
              "  </tbody>\n",
              "</table>\n",
              "<p>600 rows × 12 columns</p>\n",
              "</div>\n",
              "      <button class=\"colab-df-convert\" onclick=\"convertToInteractive('df-175265d8-6b2c-4ff2-be8d-03d1551c7e8e')\"\n",
              "              title=\"Convert this dataframe to an interactive table.\"\n",
              "              style=\"display:none;\">\n",
              "        \n",
              "  <svg xmlns=\"http://www.w3.org/2000/svg\" height=\"24px\"viewBox=\"0 0 24 24\"\n",
              "       width=\"24px\">\n",
              "    <path d=\"M0 0h24v24H0V0z\" fill=\"none\"/>\n",
              "    <path d=\"M18.56 5.44l.94 2.06.94-2.06 2.06-.94-2.06-.94-.94-2.06-.94 2.06-2.06.94zm-11 1L8.5 8.5l.94-2.06 2.06-.94-2.06-.94L8.5 2.5l-.94 2.06-2.06.94zm10 10l.94 2.06.94-2.06 2.06-.94-2.06-.94-.94-2.06-.94 2.06-2.06.94z\"/><path d=\"M17.41 7.96l-1.37-1.37c-.4-.4-.92-.59-1.43-.59-.52 0-1.04.2-1.43.59L10.3 9.45l-7.72 7.72c-.78.78-.78 2.05 0 2.83L4 21.41c.39.39.9.59 1.41.59.51 0 1.02-.2 1.41-.59l7.78-7.78 2.81-2.81c.8-.78.8-2.07 0-2.86zM5.41 20L4 18.59l7.72-7.72 1.47 1.35L5.41 20z\"/>\n",
              "  </svg>\n",
              "      </button>\n",
              "      \n",
              "  <style>\n",
              "    .colab-df-container {\n",
              "      display:flex;\n",
              "      flex-wrap:wrap;\n",
              "      gap: 12px;\n",
              "    }\n",
              "\n",
              "    .colab-df-convert {\n",
              "      background-color: #E8F0FE;\n",
              "      border: none;\n",
              "      border-radius: 50%;\n",
              "      cursor: pointer;\n",
              "      display: none;\n",
              "      fill: #1967D2;\n",
              "      height: 32px;\n",
              "      padding: 0 0 0 0;\n",
              "      width: 32px;\n",
              "    }\n",
              "\n",
              "    .colab-df-convert:hover {\n",
              "      background-color: #E2EBFA;\n",
              "      box-shadow: 0px 1px 2px rgba(60, 64, 67, 0.3), 0px 1px 3px 1px rgba(60, 64, 67, 0.15);\n",
              "      fill: #174EA6;\n",
              "    }\n",
              "\n",
              "    [theme=dark] .colab-df-convert {\n",
              "      background-color: #3B4455;\n",
              "      fill: #D2E3FC;\n",
              "    }\n",
              "\n",
              "    [theme=dark] .colab-df-convert:hover {\n",
              "      background-color: #434B5C;\n",
              "      box-shadow: 0px 1px 3px 1px rgba(0, 0, 0, 0.15);\n",
              "      filter: drop-shadow(0px 1px 2px rgba(0, 0, 0, 0.3));\n",
              "      fill: #FFFFFF;\n",
              "    }\n",
              "  </style>\n",
              "\n",
              "      <script>\n",
              "        const buttonEl =\n",
              "          document.querySelector('#df-175265d8-6b2c-4ff2-be8d-03d1551c7e8e button.colab-df-convert');\n",
              "        buttonEl.style.display =\n",
              "          google.colab.kernel.accessAllowed ? 'block' : 'none';\n",
              "\n",
              "        async function convertToInteractive(key) {\n",
              "          const element = document.querySelector('#df-175265d8-6b2c-4ff2-be8d-03d1551c7e8e');\n",
              "          const dataTable =\n",
              "            await google.colab.kernel.invokeFunction('convertToInteractive',\n",
              "                                                     [key], {});\n",
              "          if (!dataTable) return;\n",
              "\n",
              "          const docLinkHtml = 'Like what you see? Visit the ' +\n",
              "            '<a target=\"_blank\" href=https://colab.research.google.com/notebooks/data_table.ipynb>data table notebook</a>'\n",
              "            + ' to learn more about interactive tables.';\n",
              "          element.innerHTML = '';\n",
              "          dataTable['output_type'] = 'display_data';\n",
              "          await google.colab.output.renderOutput(dataTable, element);\n",
              "          const docLink = document.createElement('div');\n",
              "          docLink.innerHTML = docLinkHtml;\n",
              "          element.appendChild(docLink);\n",
              "        }\n",
              "      </script>\n",
              "    </div>\n",
              "  </div>\n",
              "  "
            ]
          },
          "metadata": {},
          "execution_count": 206
        }
      ],
      "source": [
        "## It looks a bit messi. See what I did there? ;). Anyway, how about using .toPandas() for change. \n",
        "df_train.toPandas()"
      ]
    },
    {
      "cell_type": "code",
      "execution_count": null,
      "metadata": {
        "id": "wT2fLMNdUTic"
      },
      "outputs": [],
      "source": [
        "## how about a summary. \n",
        "result = df_train.describe().toPandas()"
      ]
    },
    {
      "cell_type": "code",
      "execution_count": null,
      "metadata": {
        "colab": {
          "base_uri": "https://localhost:8080/",
          "height": 322
        },
        "id": "5a1YVObIUTic",
        "outputId": "2116ee39-f166-40f5-83bd-0d71742df1fe"
      },
      "outputs": [
        {
          "output_type": "execute_result",
          "data": {
            "text/plain": [
              "  summary         PassengerId            Survived              Pclass  \\\n",
              "0   count                 600                 600                 600   \n",
              "1    mean               300.5  0.3933333333333333   2.308333333333333   \n",
              "2  stddev  173.34935823359717  0.4888973203772024  0.8353203911166349   \n",
              "3     min                   1                   0                   1   \n",
              "4     max                 600                   1                   3   \n",
              "\n",
              "                                               Name     Sex  \\\n",
              "0                                               600     600   \n",
              "1                                              None    None   \n",
              "2                                              None    None   \n",
              "3  \"Andersson, Mr. August Edvard (\"\"Wennerstrom\"\")\"  female   \n",
              "4                   van Billiard, Mr. Austin Blyler    male   \n",
              "\n",
              "                  Age               SibSp               Parch  \\\n",
              "0                 474                 600                 600   \n",
              "1  29.782700421940927  0.5383333333333333               0.375   \n",
              "2  14.535148472123723  1.0972102530757932  0.7737610593468783   \n",
              "3                0.75                   0                   0   \n",
              "4                71.0                   8                   5   \n",
              "\n",
              "               Ticket                Fare Cabin Embarked  \n",
              "0                 600                 600   137      599  \n",
              "1  272022.38051044085  31.846033999999975  None     None  \n",
              "2  501365.61217018607    46.2863007052945  None     None  \n",
              "3              110152                 0.0   A10        C  \n",
              "4           WE/P 5735            512.3292     T        S  "
            ],
            "text/html": [
              "\n",
              "  <div id=\"df-b6582b26-a598-415c-b635-39a5d68a1d92\">\n",
              "    <div class=\"colab-df-container\">\n",
              "      <div>\n",
              "<style scoped>\n",
              "    .dataframe tbody tr th:only-of-type {\n",
              "        vertical-align: middle;\n",
              "    }\n",
              "\n",
              "    .dataframe tbody tr th {\n",
              "        vertical-align: top;\n",
              "    }\n",
              "\n",
              "    .dataframe thead th {\n",
              "        text-align: right;\n",
              "    }\n",
              "</style>\n",
              "<table border=\"1\" class=\"dataframe\">\n",
              "  <thead>\n",
              "    <tr style=\"text-align: right;\">\n",
              "      <th></th>\n",
              "      <th>summary</th>\n",
              "      <th>PassengerId</th>\n",
              "      <th>Survived</th>\n",
              "      <th>Pclass</th>\n",
              "      <th>Name</th>\n",
              "      <th>Sex</th>\n",
              "      <th>Age</th>\n",
              "      <th>SibSp</th>\n",
              "      <th>Parch</th>\n",
              "      <th>Ticket</th>\n",
              "      <th>Fare</th>\n",
              "      <th>Cabin</th>\n",
              "      <th>Embarked</th>\n",
              "    </tr>\n",
              "  </thead>\n",
              "  <tbody>\n",
              "    <tr>\n",
              "      <th>0</th>\n",
              "      <td>count</td>\n",
              "      <td>600</td>\n",
              "      <td>600</td>\n",
              "      <td>600</td>\n",
              "      <td>600</td>\n",
              "      <td>600</td>\n",
              "      <td>474</td>\n",
              "      <td>600</td>\n",
              "      <td>600</td>\n",
              "      <td>600</td>\n",
              "      <td>600</td>\n",
              "      <td>137</td>\n",
              "      <td>599</td>\n",
              "    </tr>\n",
              "    <tr>\n",
              "      <th>1</th>\n",
              "      <td>mean</td>\n",
              "      <td>300.5</td>\n",
              "      <td>0.3933333333333333</td>\n",
              "      <td>2.308333333333333</td>\n",
              "      <td>None</td>\n",
              "      <td>None</td>\n",
              "      <td>29.782700421940927</td>\n",
              "      <td>0.5383333333333333</td>\n",
              "      <td>0.375</td>\n",
              "      <td>272022.38051044085</td>\n",
              "      <td>31.846033999999975</td>\n",
              "      <td>None</td>\n",
              "      <td>None</td>\n",
              "    </tr>\n",
              "    <tr>\n",
              "      <th>2</th>\n",
              "      <td>stddev</td>\n",
              "      <td>173.34935823359717</td>\n",
              "      <td>0.4888973203772024</td>\n",
              "      <td>0.8353203911166349</td>\n",
              "      <td>None</td>\n",
              "      <td>None</td>\n",
              "      <td>14.535148472123723</td>\n",
              "      <td>1.0972102530757932</td>\n",
              "      <td>0.7737610593468783</td>\n",
              "      <td>501365.61217018607</td>\n",
              "      <td>46.2863007052945</td>\n",
              "      <td>None</td>\n",
              "      <td>None</td>\n",
              "    </tr>\n",
              "    <tr>\n",
              "      <th>3</th>\n",
              "      <td>min</td>\n",
              "      <td>1</td>\n",
              "      <td>0</td>\n",
              "      <td>1</td>\n",
              "      <td>\"Andersson, Mr. August Edvard (\"\"Wennerstrom\"\")\"</td>\n",
              "      <td>female</td>\n",
              "      <td>0.75</td>\n",
              "      <td>0</td>\n",
              "      <td>0</td>\n",
              "      <td>110152</td>\n",
              "      <td>0.0</td>\n",
              "      <td>A10</td>\n",
              "      <td>C</td>\n",
              "    </tr>\n",
              "    <tr>\n",
              "      <th>4</th>\n",
              "      <td>max</td>\n",
              "      <td>600</td>\n",
              "      <td>1</td>\n",
              "      <td>3</td>\n",
              "      <td>van Billiard, Mr. Austin Blyler</td>\n",
              "      <td>male</td>\n",
              "      <td>71.0</td>\n",
              "      <td>8</td>\n",
              "      <td>5</td>\n",
              "      <td>WE/P 5735</td>\n",
              "      <td>512.3292</td>\n",
              "      <td>T</td>\n",
              "      <td>S</td>\n",
              "    </tr>\n",
              "  </tbody>\n",
              "</table>\n",
              "</div>\n",
              "      <button class=\"colab-df-convert\" onclick=\"convertToInteractive('df-b6582b26-a598-415c-b635-39a5d68a1d92')\"\n",
              "              title=\"Convert this dataframe to an interactive table.\"\n",
              "              style=\"display:none;\">\n",
              "        \n",
              "  <svg xmlns=\"http://www.w3.org/2000/svg\" height=\"24px\"viewBox=\"0 0 24 24\"\n",
              "       width=\"24px\">\n",
              "    <path d=\"M0 0h24v24H0V0z\" fill=\"none\"/>\n",
              "    <path d=\"M18.56 5.44l.94 2.06.94-2.06 2.06-.94-2.06-.94-.94-2.06-.94 2.06-2.06.94zm-11 1L8.5 8.5l.94-2.06 2.06-.94-2.06-.94L8.5 2.5l-.94 2.06-2.06.94zm10 10l.94 2.06.94-2.06 2.06-.94-2.06-.94-.94-2.06-.94 2.06-2.06.94z\"/><path d=\"M17.41 7.96l-1.37-1.37c-.4-.4-.92-.59-1.43-.59-.52 0-1.04.2-1.43.59L10.3 9.45l-7.72 7.72c-.78.78-.78 2.05 0 2.83L4 21.41c.39.39.9.59 1.41.59.51 0 1.02-.2 1.41-.59l7.78-7.78 2.81-2.81c.8-.78.8-2.07 0-2.86zM5.41 20L4 18.59l7.72-7.72 1.47 1.35L5.41 20z\"/>\n",
              "  </svg>\n",
              "      </button>\n",
              "      \n",
              "  <style>\n",
              "    .colab-df-container {\n",
              "      display:flex;\n",
              "      flex-wrap:wrap;\n",
              "      gap: 12px;\n",
              "    }\n",
              "\n",
              "    .colab-df-convert {\n",
              "      background-color: #E8F0FE;\n",
              "      border: none;\n",
              "      border-radius: 50%;\n",
              "      cursor: pointer;\n",
              "      display: none;\n",
              "      fill: #1967D2;\n",
              "      height: 32px;\n",
              "      padding: 0 0 0 0;\n",
              "      width: 32px;\n",
              "    }\n",
              "\n",
              "    .colab-df-convert:hover {\n",
              "      background-color: #E2EBFA;\n",
              "      box-shadow: 0px 1px 2px rgba(60, 64, 67, 0.3), 0px 1px 3px 1px rgba(60, 64, 67, 0.15);\n",
              "      fill: #174EA6;\n",
              "    }\n",
              "\n",
              "    [theme=dark] .colab-df-convert {\n",
              "      background-color: #3B4455;\n",
              "      fill: #D2E3FC;\n",
              "    }\n",
              "\n",
              "    [theme=dark] .colab-df-convert:hover {\n",
              "      background-color: #434B5C;\n",
              "      box-shadow: 0px 1px 3px 1px rgba(0, 0, 0, 0.15);\n",
              "      filter: drop-shadow(0px 1px 2px rgba(0, 0, 0, 0.3));\n",
              "      fill: #FFFFFF;\n",
              "    }\n",
              "  </style>\n",
              "\n",
              "      <script>\n",
              "        const buttonEl =\n",
              "          document.querySelector('#df-b6582b26-a598-415c-b635-39a5d68a1d92 button.colab-df-convert');\n",
              "        buttonEl.style.display =\n",
              "          google.colab.kernel.accessAllowed ? 'block' : 'none';\n",
              "\n",
              "        async function convertToInteractive(key) {\n",
              "          const element = document.querySelector('#df-b6582b26-a598-415c-b635-39a5d68a1d92');\n",
              "          const dataTable =\n",
              "            await google.colab.kernel.invokeFunction('convertToInteractive',\n",
              "                                                     [key], {});\n",
              "          if (!dataTable) return;\n",
              "\n",
              "          const docLinkHtml = 'Like what you see? Visit the ' +\n",
              "            '<a target=\"_blank\" href=https://colab.research.google.com/notebooks/data_table.ipynb>data table notebook</a>'\n",
              "            + ' to learn more about interactive tables.';\n",
              "          element.innerHTML = '';\n",
              "          dataTable['output_type'] = 'display_data';\n",
              "          await google.colab.output.renderOutput(dataTable, element);\n",
              "          const docLink = document.createElement('div');\n",
              "          docLink.innerHTML = docLinkHtml;\n",
              "          element.appendChild(docLink);\n",
              "        }\n",
              "      </script>\n",
              "    </div>\n",
              "  </div>\n",
              "  "
            ]
          },
          "metadata": {},
          "execution_count": 208
        }
      ],
      "source": [
        "result"
      ]
    },
    {
      "cell_type": "code",
      "execution_count": null,
      "metadata": {
        "colab": {
          "base_uri": "https://localhost:8080/"
        },
        "id": "if_5AUH0UTid",
        "outputId": "6fa24267-7d3a-4dc1-959f-36b652467c4d"
      },
      "outputs": [
        {
          "output_type": "execute_result",
          "data": {
            "text/plain": [
              "600"
            ]
          },
          "metadata": {},
          "execution_count": 209
        }
      ],
      "source": [
        "# getting the total row count\n",
        "df_train.count()"
      ]
    },
    {
      "cell_type": "code",
      "execution_count": null,
      "metadata": {
        "colab": {
          "base_uri": "https://localhost:8080/"
        },
        "id": "0h4yyqn2UTid",
        "outputId": "d46ecbe5-c3f5-40d8-efd5-e6dc6e686cd0"
      },
      "outputs": [
        {
          "output_type": "stream",
          "name": "stdout",
          "text": [
            "Before: <class 'pandas.core.frame.DataFrame'>\n",
            "After: <class 'pyspark.sql.dataframe.DataFrame'>\n"
          ]
        }
      ],
      "source": [
        "# We can also convert a pandas dataframe to spark dataframe. Here is how we do it. \n",
        "print(f\"Before: {type(result)}\")\n",
        "spark_temp = spark.createDataFrame(result)\n",
        "print(f\"After: {type(spark_temp)}\")"
      ]
    },
    {
      "cell_type": "code",
      "execution_count": null,
      "metadata": {
        "colab": {
          "base_uri": "https://localhost:8080/"
        },
        "id": "qIe-lUIsUTid",
        "outputId": "eb1df84a-b8a7-4d6e-b178-7c98d41ac183"
      },
      "outputs": [
        {
          "output_type": "stream",
          "name": "stdout",
          "text": [
            "root\n",
            " |-- PassengerId: integer (nullable = true)\n",
            " |-- Survived: integer (nullable = true)\n",
            " |-- Pclass: integer (nullable = true)\n",
            " |-- Name: string (nullable = true)\n",
            " |-- Sex: string (nullable = true)\n",
            " |-- Age: double (nullable = true)\n",
            " |-- SibSp: integer (nullable = true)\n",
            " |-- Parch: integer (nullable = true)\n",
            " |-- Ticket: string (nullable = true)\n",
            " |-- Fare: double (nullable = true)\n",
            " |-- Cabin: string (nullable = true)\n",
            " |-- Embarked: string (nullable = true)\n",
            "\n"
          ]
        }
      ],
      "source": [
        "# Cool, Let's print the schema of the df using .printSchema()\n",
        "df_train.printSchema()"
      ]
    },
    {
      "cell_type": "code",
      "execution_count": null,
      "metadata": {
        "colab": {
          "base_uri": "https://localhost:8080/"
        },
        "id": "vmFQWzjPUTid",
        "outputId": "c1553811-f90f-48d7-cf52-d63df30c95c7"
      },
      "outputs": [
        {
          "output_type": "execute_result",
          "data": {
            "text/plain": [
              "[('PassengerId', 'int'),\n",
              " ('Survived', 'int'),\n",
              " ('Pclass', 'int'),\n",
              " ('Name', 'string'),\n",
              " ('Sex', 'string'),\n",
              " ('Age', 'double'),\n",
              " ('SibSp', 'int'),\n",
              " ('Parch', 'int'),\n",
              " ('Ticket', 'string'),\n",
              " ('Fare', 'double'),\n",
              " ('Cabin', 'string'),\n",
              " ('Embarked', 'string')]"
            ]
          },
          "metadata": {},
          "execution_count": 212
        }
      ],
      "source": [
        "# similar approach\n",
        "df_train.dtypes"
      ]
    },
    {
      "cell_type": "markdown",
      "metadata": {
        "id": "ldVmXJ0lUTid"
      },
      "source": [
        "In the real world, data is rarely clean and often requires creating our own schema to process it. Speaking of schemas, you may be curious if Spark supports implementing SQL. The answer is yes, it does.\n",
        "\n",
        "One of the main advantages of Spark is its ability to run SQL commands for data analysis. Let's take an example."
      ]
    },
    {
      "cell_type": "code",
      "execution_count": null,
      "metadata": {
        "colab": {
          "base_uri": "https://localhost:8080/",
          "height": 580
        },
        "id": "CcD6s6WtUTie",
        "outputId": "89a1e3ad-9708-4ce9-b1f4-6ae855693d85"
      },
      "outputs": [
        {
          "output_type": "execute_result",
          "data": {
            "text/plain": [
              "   PassengerId  Survived  Pclass  \\\n",
              "0          259         1       1   \n",
              "1           28         0       1   \n",
              "2           89         1       1   \n",
              "3          342         1       1   \n",
              "4          439         0       1   \n",
              "5          312         1       1   \n",
              "6          300         1       1   \n",
              "7          119         0       1   \n",
              "8          381         1       1   \n",
              "9          558         0       1   \n",
              "\n",
              "                                              Name     Sex   Age  SibSp  \\\n",
              "0                                 Ward, Miss. Anna  female  35.0      0   \n",
              "1                   Fortune, Mr. Charles Alexander    male  19.0      3   \n",
              "2                       Fortune, Miss. Mabel Helen  female  23.0      3   \n",
              "3                   Fortune, Miss. Alice Elizabeth  female  24.0      3   \n",
              "4                                Fortune, Mr. Mark    male  64.0      1   \n",
              "5                       Ryerson, Miss. Emily Borie  female  18.0      2   \n",
              "6  Baxter, Mrs. James (Helene DeLaudeniere Chaput)  female  50.0      0   \n",
              "7                         Baxter, Mr. Quigg Edmond    male  24.0      0   \n",
              "8                            Bidois, Miss. Rosalie  female  42.0      0   \n",
              "9                              Robbins, Mr. Victor    male   NaN      0   \n",
              "\n",
              "   Parch    Ticket      Fare            Cabin Embarked  \n",
              "0      0  PC 17755  512.3292             None        C  \n",
              "1      2     19950  263.0000      C23 C25 C27        S  \n",
              "2      2     19950  263.0000      C23 C25 C27        S  \n",
              "3      2     19950  263.0000      C23 C25 C27        S  \n",
              "4      4     19950  263.0000      C23 C25 C27        S  \n",
              "5      2  PC 17608  262.3750  B57 B59 B63 B66        C  \n",
              "6      1  PC 17558  247.5208          B58 B60        C  \n",
              "7      1  PC 17558  247.5208          B58 B60        C  \n",
              "8      0  PC 17757  227.5250             None        C  \n",
              "9      0  PC 17757  227.5250             None        C  "
            ],
            "text/html": [
              "\n",
              "  <div id=\"df-60ce17d7-0497-46b3-aadc-68724b505d0b\">\n",
              "    <div class=\"colab-df-container\">\n",
              "      <div>\n",
              "<style scoped>\n",
              "    .dataframe tbody tr th:only-of-type {\n",
              "        vertical-align: middle;\n",
              "    }\n",
              "\n",
              "    .dataframe tbody tr th {\n",
              "        vertical-align: top;\n",
              "    }\n",
              "\n",
              "    .dataframe thead th {\n",
              "        text-align: right;\n",
              "    }\n",
              "</style>\n",
              "<table border=\"1\" class=\"dataframe\">\n",
              "  <thead>\n",
              "    <tr style=\"text-align: right;\">\n",
              "      <th></th>\n",
              "      <th>PassengerId</th>\n",
              "      <th>Survived</th>\n",
              "      <th>Pclass</th>\n",
              "      <th>Name</th>\n",
              "      <th>Sex</th>\n",
              "      <th>Age</th>\n",
              "      <th>SibSp</th>\n",
              "      <th>Parch</th>\n",
              "      <th>Ticket</th>\n",
              "      <th>Fare</th>\n",
              "      <th>Cabin</th>\n",
              "      <th>Embarked</th>\n",
              "    </tr>\n",
              "  </thead>\n",
              "  <tbody>\n",
              "    <tr>\n",
              "      <th>0</th>\n",
              "      <td>259</td>\n",
              "      <td>1</td>\n",
              "      <td>1</td>\n",
              "      <td>Ward, Miss. Anna</td>\n",
              "      <td>female</td>\n",
              "      <td>35.0</td>\n",
              "      <td>0</td>\n",
              "      <td>0</td>\n",
              "      <td>PC 17755</td>\n",
              "      <td>512.3292</td>\n",
              "      <td>None</td>\n",
              "      <td>C</td>\n",
              "    </tr>\n",
              "    <tr>\n",
              "      <th>1</th>\n",
              "      <td>28</td>\n",
              "      <td>0</td>\n",
              "      <td>1</td>\n",
              "      <td>Fortune, Mr. Charles Alexander</td>\n",
              "      <td>male</td>\n",
              "      <td>19.0</td>\n",
              "      <td>3</td>\n",
              "      <td>2</td>\n",
              "      <td>19950</td>\n",
              "      <td>263.0000</td>\n",
              "      <td>C23 C25 C27</td>\n",
              "      <td>S</td>\n",
              "    </tr>\n",
              "    <tr>\n",
              "      <th>2</th>\n",
              "      <td>89</td>\n",
              "      <td>1</td>\n",
              "      <td>1</td>\n",
              "      <td>Fortune, Miss. Mabel Helen</td>\n",
              "      <td>female</td>\n",
              "      <td>23.0</td>\n",
              "      <td>3</td>\n",
              "      <td>2</td>\n",
              "      <td>19950</td>\n",
              "      <td>263.0000</td>\n",
              "      <td>C23 C25 C27</td>\n",
              "      <td>S</td>\n",
              "    </tr>\n",
              "    <tr>\n",
              "      <th>3</th>\n",
              "      <td>342</td>\n",
              "      <td>1</td>\n",
              "      <td>1</td>\n",
              "      <td>Fortune, Miss. Alice Elizabeth</td>\n",
              "      <td>female</td>\n",
              "      <td>24.0</td>\n",
              "      <td>3</td>\n",
              "      <td>2</td>\n",
              "      <td>19950</td>\n",
              "      <td>263.0000</td>\n",
              "      <td>C23 C25 C27</td>\n",
              "      <td>S</td>\n",
              "    </tr>\n",
              "    <tr>\n",
              "      <th>4</th>\n",
              "      <td>439</td>\n",
              "      <td>0</td>\n",
              "      <td>1</td>\n",
              "      <td>Fortune, Mr. Mark</td>\n",
              "      <td>male</td>\n",
              "      <td>64.0</td>\n",
              "      <td>1</td>\n",
              "      <td>4</td>\n",
              "      <td>19950</td>\n",
              "      <td>263.0000</td>\n",
              "      <td>C23 C25 C27</td>\n",
              "      <td>S</td>\n",
              "    </tr>\n",
              "    <tr>\n",
              "      <th>5</th>\n",
              "      <td>312</td>\n",
              "      <td>1</td>\n",
              "      <td>1</td>\n",
              "      <td>Ryerson, Miss. Emily Borie</td>\n",
              "      <td>female</td>\n",
              "      <td>18.0</td>\n",
              "      <td>2</td>\n",
              "      <td>2</td>\n",
              "      <td>PC 17608</td>\n",
              "      <td>262.3750</td>\n",
              "      <td>B57 B59 B63 B66</td>\n",
              "      <td>C</td>\n",
              "    </tr>\n",
              "    <tr>\n",
              "      <th>6</th>\n",
              "      <td>300</td>\n",
              "      <td>1</td>\n",
              "      <td>1</td>\n",
              "      <td>Baxter, Mrs. James (Helene DeLaudeniere Chaput)</td>\n",
              "      <td>female</td>\n",
              "      <td>50.0</td>\n",
              "      <td>0</td>\n",
              "      <td>1</td>\n",
              "      <td>PC 17558</td>\n",
              "      <td>247.5208</td>\n",
              "      <td>B58 B60</td>\n",
              "      <td>C</td>\n",
              "    </tr>\n",
              "    <tr>\n",
              "      <th>7</th>\n",
              "      <td>119</td>\n",
              "      <td>0</td>\n",
              "      <td>1</td>\n",
              "      <td>Baxter, Mr. Quigg Edmond</td>\n",
              "      <td>male</td>\n",
              "      <td>24.0</td>\n",
              "      <td>0</td>\n",
              "      <td>1</td>\n",
              "      <td>PC 17558</td>\n",
              "      <td>247.5208</td>\n",
              "      <td>B58 B60</td>\n",
              "      <td>C</td>\n",
              "    </tr>\n",
              "    <tr>\n",
              "      <th>8</th>\n",
              "      <td>381</td>\n",
              "      <td>1</td>\n",
              "      <td>1</td>\n",
              "      <td>Bidois, Miss. Rosalie</td>\n",
              "      <td>female</td>\n",
              "      <td>42.0</td>\n",
              "      <td>0</td>\n",
              "      <td>0</td>\n",
              "      <td>PC 17757</td>\n",
              "      <td>227.5250</td>\n",
              "      <td>None</td>\n",
              "      <td>C</td>\n",
              "    </tr>\n",
              "    <tr>\n",
              "      <th>9</th>\n",
              "      <td>558</td>\n",
              "      <td>0</td>\n",
              "      <td>1</td>\n",
              "      <td>Robbins, Mr. Victor</td>\n",
              "      <td>male</td>\n",
              "      <td>NaN</td>\n",
              "      <td>0</td>\n",
              "      <td>0</td>\n",
              "      <td>PC 17757</td>\n",
              "      <td>227.5250</td>\n",
              "      <td>None</td>\n",
              "      <td>C</td>\n",
              "    </tr>\n",
              "  </tbody>\n",
              "</table>\n",
              "</div>\n",
              "      <button class=\"colab-df-convert\" onclick=\"convertToInteractive('df-60ce17d7-0497-46b3-aadc-68724b505d0b')\"\n",
              "              title=\"Convert this dataframe to an interactive table.\"\n",
              "              style=\"display:none;\">\n",
              "        \n",
              "  <svg xmlns=\"http://www.w3.org/2000/svg\" height=\"24px\"viewBox=\"0 0 24 24\"\n",
              "       width=\"24px\">\n",
              "    <path d=\"M0 0h24v24H0V0z\" fill=\"none\"/>\n",
              "    <path d=\"M18.56 5.44l.94 2.06.94-2.06 2.06-.94-2.06-.94-.94-2.06-.94 2.06-2.06.94zm-11 1L8.5 8.5l.94-2.06 2.06-.94-2.06-.94L8.5 2.5l-.94 2.06-2.06.94zm10 10l.94 2.06.94-2.06 2.06-.94-2.06-.94-.94-2.06-.94 2.06-2.06.94z\"/><path d=\"M17.41 7.96l-1.37-1.37c-.4-.4-.92-.59-1.43-.59-.52 0-1.04.2-1.43.59L10.3 9.45l-7.72 7.72c-.78.78-.78 2.05 0 2.83L4 21.41c.39.39.9.59 1.41.59.51 0 1.02-.2 1.41-.59l7.78-7.78 2.81-2.81c.8-.78.8-2.07 0-2.86zM5.41 20L4 18.59l7.72-7.72 1.47 1.35L5.41 20z\"/>\n",
              "  </svg>\n",
              "      </button>\n",
              "      \n",
              "  <style>\n",
              "    .colab-df-container {\n",
              "      display:flex;\n",
              "      flex-wrap:wrap;\n",
              "      gap: 12px;\n",
              "    }\n",
              "\n",
              "    .colab-df-convert {\n",
              "      background-color: #E8F0FE;\n",
              "      border: none;\n",
              "      border-radius: 50%;\n",
              "      cursor: pointer;\n",
              "      display: none;\n",
              "      fill: #1967D2;\n",
              "      height: 32px;\n",
              "      padding: 0 0 0 0;\n",
              "      width: 32px;\n",
              "    }\n",
              "\n",
              "    .colab-df-convert:hover {\n",
              "      background-color: #E2EBFA;\n",
              "      box-shadow: 0px 1px 2px rgba(60, 64, 67, 0.3), 0px 1px 3px 1px rgba(60, 64, 67, 0.15);\n",
              "      fill: #174EA6;\n",
              "    }\n",
              "\n",
              "    [theme=dark] .colab-df-convert {\n",
              "      background-color: #3B4455;\n",
              "      fill: #D2E3FC;\n",
              "    }\n",
              "\n",
              "    [theme=dark] .colab-df-convert:hover {\n",
              "      background-color: #434B5C;\n",
              "      box-shadow: 0px 1px 3px 1px rgba(0, 0, 0, 0.15);\n",
              "      filter: drop-shadow(0px 1px 2px rgba(0, 0, 0, 0.3));\n",
              "      fill: #FFFFFF;\n",
              "    }\n",
              "  </style>\n",
              "\n",
              "      <script>\n",
              "        const buttonEl =\n",
              "          document.querySelector('#df-60ce17d7-0497-46b3-aadc-68724b505d0b button.colab-df-convert');\n",
              "        buttonEl.style.display =\n",
              "          google.colab.kernel.accessAllowed ? 'block' : 'none';\n",
              "\n",
              "        async function convertToInteractive(key) {\n",
              "          const element = document.querySelector('#df-60ce17d7-0497-46b3-aadc-68724b505d0b');\n",
              "          const dataTable =\n",
              "            await google.colab.kernel.invokeFunction('convertToInteractive',\n",
              "                                                     [key], {});\n",
              "          if (!dataTable) return;\n",
              "\n",
              "          const docLinkHtml = 'Like what you see? Visit the ' +\n",
              "            '<a target=\"_blank\" href=https://colab.research.google.com/notebooks/data_table.ipynb>data table notebook</a>'\n",
              "            + ' to learn more about interactive tables.';\n",
              "          element.innerHTML = '';\n",
              "          dataTable['output_type'] = 'display_data';\n",
              "          await google.colab.output.renderOutput(dataTable, element);\n",
              "          const docLink = document.createElement('div');\n",
              "          docLink.innerHTML = docLinkHtml;\n",
              "          element.appendChild(docLink);\n",
              "        }\n",
              "      </script>\n",
              "    </div>\n",
              "  </div>\n",
              "  "
            ]
          },
          "metadata": {},
          "execution_count": 213
        }
      ],
      "source": [
        "## First, we need to register a sql temporary view.\n",
        "df_train.createOrReplaceTempView(\"mytable\");\n",
        "\n",
        "## Then, we use spark.sql and write sql inside it, which returns a spark Dataframe.  \n",
        "result = spark.sql(\"SELECT * FROM mytable ORDER BY Fare DESC LIMIT 10\")\n",
        "result.toPandas()"
      ]
    },
    {
      "cell_type": "markdown",
      "metadata": {
        "id": "fdYNaa91UTie"
      },
      "source": [
        "Similarly we can also register another sql temp view. "
      ]
    },
    {
      "cell_type": "code",
      "execution_count": null,
      "metadata": {
        "id": "MSQiJQRvUTie"
      },
      "outputs": [],
      "source": [
        "df_test.createOrReplaceTempView(\"df_test\")"
      ]
    },
    {
      "cell_type": "markdown",
      "metadata": {
        "id": "znyAoS13UTie"
      },
      "source": [
        "Now that we have registered two tables with in this spark session, wondering how we can see which once are registered?"
      ]
    },
    {
      "cell_type": "code",
      "execution_count": null,
      "metadata": {
        "colab": {
          "base_uri": "https://localhost:8080/"
        },
        "id": "D1sGsiJ6UTie",
        "outputId": "58550edf-f56b-4a84-e60f-f8e59aea3297"
      },
      "outputs": [
        {
          "output_type": "execute_result",
          "data": {
            "text/plain": [
              "[Table(name='df_test', database=None, description=None, tableType='TEMPORARY', isTemporary=True),\n",
              " Table(name='mytable', database=None, description=None, tableType='TEMPORARY', isTemporary=True)]"
            ]
          },
          "metadata": {},
          "execution_count": 215
        }
      ],
      "source": [
        "spark.catalog.listTables()"
      ]
    },
    {
      "cell_type": "code",
      "execution_count": null,
      "metadata": {
        "colab": {
          "base_uri": "https://localhost:8080/"
        },
        "id": "a5L2reOUUTie",
        "outputId": "75972e12-c36e-4a3b-c3c3-f2bc434b4c79"
      },
      "outputs": [
        {
          "output_type": "stream",
          "name": "stdout",
          "text": [
            "+---------+--------+-----------+\n",
            "|namespace|viewName|isTemporary|\n",
            "+---------+--------+-----------+\n",
            "|         | df_test|       true|\n",
            "|         | mytable|       true|\n",
            "+---------+--------+-----------+\n",
            "\n"
          ]
        }
      ],
      "source": [
        "# similarly\n",
        "spark.sql(\"SHOW views\").show()"
      ]
    },
    {
      "cell_type": "code",
      "execution_count": null,
      "metadata": {
        "colab": {
          "base_uri": "https://localhost:8080/"
        },
        "id": "OpiTI-MNUTif",
        "outputId": "810a2c9f-ce9b-4a4c-abf1-cb125f64b7fb"
      },
      "outputs": [
        {
          "output_type": "stream",
          "name": "stdout",
          "text": [
            "<class 'pyspark.sql.dataframe.DataFrame'>\n",
            "+-----------+--------+------+--------------------+------+----+-----+-----+------+------+-----+--------+\n",
            "|PassengerId|Survived|Pclass|                Name|   Sex| Age|SibSp|Parch|Ticket|  Fare|Cabin|Embarked|\n",
            "+-----------+--------+------+--------------------+------+----+-----+-----+------+------+-----+--------+\n",
            "|        601|       1|     2|Jacobsohn, Mrs. S...|female|24.0|    2|    1|243847|  27.0| null|       S|\n",
            "|        602|       0|     3|Slabenoff, Mr. Petco|  male|null|    0|    0|349214|7.8958| null|       S|\n",
            "|        603|       0|     1|Harrington, Mr. C...|  male|null|    0|    0|113796|  42.4| null|       S|\n",
            "|        604|       0|     3|Torber, Mr. Ernst...|  male|44.0|    0|    0|364511|  8.05| null|       S|\n",
            "|        605|       1|     1|\"Homer, Mr. Harry...|  male|35.0|    0|    0|111426| 26.55| null|       C|\n",
            "+-----------+--------+------+--------------------+------+----+-----+-----+------+------+-----+--------+\n",
            "only showing top 5 rows\n",
            "\n"
          ]
        }
      ],
      "source": [
        "# We can also create spark dataframe out of these tables using spark.table\n",
        "temp_table = spark.table(\"df_test\")\n",
        "print(type(temp_table))\n",
        "temp_table.show(5)"
      ]
    },
    {
      "cell_type": "code",
      "execution_count": null,
      "metadata": {
        "colab": {
          "base_uri": "https://localhost:8080/"
        },
        "id": "d2TYFAvsUTif",
        "outputId": "7d9eb30d-d8bc-4dcb-808c-9e98f756a890"
      },
      "outputs": [
        {
          "output_type": "execute_result",
          "data": {
            "text/plain": [
              "['PassengerId',\n",
              " 'Survived',\n",
              " 'Pclass',\n",
              " 'Name',\n",
              " 'Sex',\n",
              " 'Age',\n",
              " 'SibSp',\n",
              " 'Parch',\n",
              " 'Ticket',\n",
              " 'Fare',\n",
              " 'Cabin',\n",
              " 'Embarked']"
            ]
          },
          "metadata": {},
          "execution_count": 218
        }
      ],
      "source": [
        "# What if want the column names only. \n",
        "df_train.columns"
      ]
    },
    {
      "cell_type": "code",
      "execution_count": null,
      "metadata": {
        "colab": {
          "base_uri": "https://localhost:8080/"
        },
        "id": "g-zjeaA4UTif",
        "outputId": "97ce2374-dece-401c-a2f9-6a1e3f304484"
      },
      "outputs": [
        {
          "output_type": "execute_result",
          "data": {
            "text/plain": [
              "Column<'Age'>"
            ]
          },
          "metadata": {},
          "execution_count": 219
        }
      ],
      "source": [
        "# What about just a column?\n",
        "df_train['Age']"
      ]
    },
    {
      "cell_type": "code",
      "execution_count": null,
      "metadata": {
        "colab": {
          "base_uri": "https://localhost:8080/"
        },
        "id": "xQAOBwC5UTif",
        "outputId": "e897086a-2ccf-4817-d4a0-8d89a0fcd518"
      },
      "outputs": [
        {
          "output_type": "execute_result",
          "data": {
            "text/plain": [
              "Column<'Age'>"
            ]
          },
          "metadata": {},
          "execution_count": 220
        }
      ],
      "source": [
        "df_train.Age"
      ]
    },
    {
      "cell_type": "code",
      "execution_count": null,
      "metadata": {
        "colab": {
          "base_uri": "https://localhost:8080/"
        },
        "id": "Cs1x5obSUTif",
        "outputId": "eec29daf-07c0-42fa-ea0f-7c99312d14c7"
      },
      "outputs": [
        {
          "output_type": "execute_result",
          "data": {
            "text/plain": [
              "pyspark.sql.column.Column"
            ]
          },
          "metadata": {},
          "execution_count": 221
        }
      ],
      "source": [
        "type(df_train['Age'])"
      ]
    },
    {
      "cell_type": "code",
      "execution_count": null,
      "metadata": {
        "colab": {
          "base_uri": "https://localhost:8080/"
        },
        "id": "s-y94rTHUTif",
        "outputId": "6c8a41a9-bf89-4d41-a91f-fdd67659f87a"
      },
      "outputs": [
        {
          "output_type": "stream",
          "name": "stdout",
          "text": [
            "+----+\n",
            "| Age|\n",
            "+----+\n",
            "|22.0|\n",
            "|38.0|\n",
            "|26.0|\n",
            "|35.0|\n",
            "|35.0|\n",
            "|null|\n",
            "|54.0|\n",
            "| 2.0|\n",
            "|27.0|\n",
            "|14.0|\n",
            "| 4.0|\n",
            "|58.0|\n",
            "|20.0|\n",
            "|39.0|\n",
            "|14.0|\n",
            "|55.0|\n",
            "| 2.0|\n",
            "|null|\n",
            "|31.0|\n",
            "|null|\n",
            "+----+\n",
            "only showing top 20 rows\n",
            "\n"
          ]
        }
      ],
      "source": [
        "# Well, that's not what we pandas users have expected. \n",
        "# Yes, in order to get a column we need to use select().  \n",
        "# df.select(df['Age']).show()\n",
        "df_train.select('Age').show()"
      ]
    },
    {
      "cell_type": "code",
      "execution_count": null,
      "metadata": {
        "colab": {
          "base_uri": "https://localhost:8080/"
        },
        "id": "rLm9MdzOUTig",
        "outputId": "7104f754-4f0f-495c-f561-bae8c5384141"
      },
      "outputs": [
        {
          "output_type": "stream",
          "name": "stdout",
          "text": [
            "+----+-------+\n",
            "| Age|   Fare|\n",
            "+----+-------+\n",
            "|22.0|   7.25|\n",
            "|38.0|71.2833|\n",
            "|26.0|  7.925|\n",
            "|35.0|   53.1|\n",
            "|35.0|   8.05|\n",
            "|null| 8.4583|\n",
            "|54.0|51.8625|\n",
            "| 2.0| 21.075|\n",
            "|27.0|11.1333|\n",
            "|14.0|30.0708|\n",
            "| 4.0|   16.7|\n",
            "|58.0|  26.55|\n",
            "|20.0|   8.05|\n",
            "|39.0| 31.275|\n",
            "|14.0| 7.8542|\n",
            "|55.0|   16.0|\n",
            "| 2.0| 29.125|\n",
            "|null|   13.0|\n",
            "|31.0|   18.0|\n",
            "|null|  7.225|\n",
            "+----+-------+\n",
            "only showing top 20 rows\n",
            "\n"
          ]
        }
      ],
      "source": [
        "## What if we want multiple columns?\n",
        "df_train.select(['Age', 'Fare']).show()"
      ]
    },
    {
      "cell_type": "code",
      "execution_count": null,
      "metadata": {
        "colab": {
          "base_uri": "https://localhost:8080/"
        },
        "id": "oziHDuBHUTig",
        "outputId": "f2f3fce7-89dd-46ee-a773-cc41fcc1b713"
      },
      "outputs": [
        {
          "output_type": "stream",
          "name": "stdout",
          "text": [
            "+----+-------+\n",
            "| Age|   Fare|\n",
            "+----+-------+\n",
            "|22.0|   7.25|\n",
            "|38.0|71.2833|\n",
            "|26.0|  7.925|\n",
            "|35.0|   53.1|\n",
            "|35.0|   8.05|\n",
            "|null| 8.4583|\n",
            "|54.0|51.8625|\n",
            "| 2.0| 21.075|\n",
            "|27.0|11.1333|\n",
            "|14.0|30.0708|\n",
            "| 4.0|   16.7|\n",
            "|58.0|  26.55|\n",
            "|20.0|   8.05|\n",
            "|39.0| 31.275|\n",
            "|14.0| 7.8542|\n",
            "|55.0|   16.0|\n",
            "| 2.0| 29.125|\n",
            "|null|   13.0|\n",
            "|31.0|   18.0|\n",
            "|null|  7.225|\n",
            "+----+-------+\n",
            "only showing top 20 rows\n",
            "\n"
          ]
        }
      ],
      "source": [
        "# similarly \n",
        "df_train[['Age', 'Fare']].show()"
      ]
    },
    {
      "cell_type": "code",
      "execution_count": null,
      "metadata": {
        "colab": {
          "base_uri": "https://localhost:8080/"
        },
        "id": "7AsS_ZdWUTig",
        "outputId": "7d91adb7-2ff8-4b09-9268-08f3a8917b4c"
      },
      "outputs": [
        {
          "output_type": "stream",
          "name": "stdout",
          "text": [
            "+----+-------+\n",
            "| Age|   Fare|\n",
            "+----+-------+\n",
            "|22.0|   7.25|\n",
            "|38.0|71.2833|\n",
            "|26.0|  7.925|\n",
            "|35.0|   53.1|\n",
            "|35.0|   8.05|\n",
            "|null| 8.4583|\n",
            "|54.0|51.8625|\n",
            "| 2.0| 21.075|\n",
            "|27.0|11.1333|\n",
            "|14.0|30.0708|\n",
            "| 4.0|   16.7|\n",
            "|58.0|  26.55|\n",
            "|20.0|   8.05|\n",
            "|39.0| 31.275|\n",
            "|14.0| 7.8542|\n",
            "|55.0|   16.0|\n",
            "| 2.0| 29.125|\n",
            "|null|   13.0|\n",
            "|31.0|   18.0|\n",
            "|null|  7.225|\n",
            "+----+-------+\n",
            "only showing top 20 rows\n",
            "\n"
          ]
        }
      ],
      "source": [
        "# or \n",
        "df_train[df_train.Age, \n",
        "         df_train.Fare].show()"
      ]
    },
    {
      "cell_type": "markdown",
      "metadata": {
        "id": "yvm6CXR4UTig"
      },
      "source": [
        "The syntax for Pyspark DataFrame is simple, as you can see, with multiple ways of implementation. The choice of the best syntax depends on what we aim to achieve, and I will elaborate more on this later. Let us now see how we can access a row."
      ]
    },
    {
      "cell_type": "code",
      "execution_count": null,
      "metadata": {
        "colab": {
          "base_uri": "https://localhost:8080/"
        },
        "id": "OaU1stymUTig",
        "outputId": "03aab2a2-0195-46d7-d290-fe76eb24931a"
      },
      "outputs": [
        {
          "output_type": "execute_result",
          "data": {
            "text/plain": [
              "[Row(PassengerId=1, Survived=0, Pclass=3, Name='Braund, Mr. Owen Harris', Sex='male', Age=22.0, SibSp=1, Parch=0, Fare=7.25, Cabin='G', Embarked='S', name_length=23, nLength_group='medium', title='Mr', family_size=1, family_group='loner', is_alone=1, calculated_fare=7.25, fare_group='low'),\n",
              " Row(PassengerId=2, Survived=1, Pclass=1, Name='Cumings, Mrs. John Bradley (Florence Briggs Thayer)', Sex='female', Age=38.0, SibSp=1, Parch=0, Fare=71.2833, Cabin='C', Embarked='C', name_length=51, nLength_group='long', title='Mrs', family_size=1, family_group='loner', is_alone=1, calculated_fare=71.2833, fare_group='very_high')]"
            ]
          },
          "metadata": {},
          "execution_count": 390
        }
      ],
      "source": [
        "df_train.head(2)"
      ]
    },
    {
      "cell_type": "code",
      "execution_count": null,
      "metadata": {
        "colab": {
          "base_uri": "https://localhost:8080/"
        },
        "id": "faWlzcrRUTig",
        "outputId": "b9116ae9-3fc6-48a2-b680-f9f79b11568d"
      },
      "outputs": [
        {
          "output_type": "execute_result",
          "data": {
            "text/plain": [
              "list"
            ]
          },
          "metadata": {},
          "execution_count": 391
        }
      ],
      "source": [
        "type(df_train.head(1))"
      ]
    },
    {
      "cell_type": "code",
      "execution_count": null,
      "metadata": {
        "colab": {
          "base_uri": "https://localhost:8080/"
        },
        "id": "jFZ4xmzvUTig",
        "outputId": "df7f1d78-11af-4bf2-d236-47288eea9aad"
      },
      "outputs": [
        {
          "output_type": "execute_result",
          "data": {
            "text/plain": [
              "Row(PassengerId=1, Survived=0, Pclass=3, Name='Braund, Mr. Owen Harris', Sex='male', Age=22.0, SibSp=1, Parch=0, Fare=7.25, Cabin='G', Embarked='S', name_length=23, nLength_group='medium', title='Mr', family_size=1, family_group='loner', is_alone=1, calculated_fare=7.25, fare_group='low')"
            ]
          },
          "metadata": {},
          "execution_count": 392
        }
      ],
      "source": [
        "## returns a list. let's get the item in the list\n",
        "row = df_train.head(1)[0]\n",
        "row"
      ]
    },
    {
      "cell_type": "code",
      "execution_count": null,
      "metadata": {
        "colab": {
          "base_uri": "https://localhost:8080/"
        },
        "id": "DJ2D7N21UTig",
        "outputId": "9d272c5c-efd9-45cd-8c9e-4feae603ddf5"
      },
      "outputs": [
        {
          "output_type": "execute_result",
          "data": {
            "text/plain": [
              "pyspark.sql.types.Row"
            ]
          },
          "metadata": {},
          "execution_count": 393
        }
      ],
      "source": [
        "type(row)"
      ]
    },
    {
      "cell_type": "code",
      "execution_count": null,
      "metadata": {
        "colab": {
          "base_uri": "https://localhost:8080/"
        },
        "id": "FdRepnKPUTih",
        "outputId": "23416e69-82bc-4c68-dd1e-0cf6f02e2f3f"
      },
      "outputs": [
        {
          "output_type": "execute_result",
          "data": {
            "text/plain": [
              "{'PassengerId': 1,\n",
              " 'Survived': 0,\n",
              " 'Pclass': 3,\n",
              " 'Name': 'Braund, Mr. Owen Harris',\n",
              " 'Sex': 'male',\n",
              " 'Age': 22.0,\n",
              " 'SibSp': 1,\n",
              " 'Parch': 0,\n",
              " 'Fare': 7.25,\n",
              " 'Cabin': 'G',\n",
              " 'Embarked': 'S',\n",
              " 'name_length': 23,\n",
              " 'nLength_group': 'medium',\n",
              " 'title': 'Mr',\n",
              " 'family_size': 1,\n",
              " 'family_group': 'loner',\n",
              " 'is_alone': 1,\n",
              " 'calculated_fare': 7.25,\n",
              " 'fare_group': 'low'}"
            ]
          },
          "metadata": {},
          "execution_count": 394
        }
      ],
      "source": [
        "## row can be converted into dict using .asDict()\n",
        "row.asDict()"
      ]
    },
    {
      "cell_type": "code",
      "execution_count": null,
      "metadata": {
        "colab": {
          "base_uri": "https://localhost:8080/"
        },
        "id": "My8-yu_NUTih",
        "outputId": "a2996866-227c-484b-df88-1ce93f852d4e"
      },
      "outputs": [
        {
          "output_type": "execute_result",
          "data": {
            "text/plain": [
              "1"
            ]
          },
          "metadata": {},
          "execution_count": 395
        }
      ],
      "source": [
        "## Then the value can be accessed from the row dictionaly. \n",
        "row.asDict()['PassengerId']"
      ]
    },
    {
      "cell_type": "code",
      "execution_count": null,
      "metadata": {
        "colab": {
          "base_uri": "https://localhost:8080/",
          "height": 36
        },
        "id": "DGWI2fu9UTih",
        "outputId": "b1f7970d-dc6f-4f6d-c2a8-698060715562"
      },
      "outputs": [
        {
          "output_type": "execute_result",
          "data": {
            "text/plain": [
              "'Braund, Mr. Owen Harris'"
            ],
            "application/vnd.google.colaboratory.intrinsic+json": {
              "type": "string"
            }
          },
          "metadata": {},
          "execution_count": 396
        }
      ],
      "source": [
        "## similarly\n",
        "row.asDict()['Name']"
      ]
    },
    {
      "cell_type": "code",
      "execution_count": null,
      "metadata": {
        "colab": {
          "base_uri": "https://localhost:8080/",
          "height": 302
        },
        "id": "mv0uyYWgUTih",
        "outputId": "67b32169-dfea-4f1a-c430-b7e913c4b327"
      },
      "outputs": [
        {
          "output_type": "execute_result",
          "data": {
            "text/plain": [
              "   PassengerId  Survived  Pclass  \\\n",
              "0            1         0       3   \n",
              "1            2         1       1   \n",
              "2            3         1       3   \n",
              "3            4         1       1   \n",
              "4            5         0       3   \n",
              "\n",
              "                                                Name     Sex  newA  SibSp  \\\n",
              "0                            Braund, Mr. Owen Harris    male  22.0      1   \n",
              "1  Cumings, Mrs. John Bradley (Florence Briggs Th...  female  38.0      1   \n",
              "2                             Heikkinen, Miss. Laina  female  26.0      0   \n",
              "3       Futrelle, Mrs. Jacques Heath (Lily May Peel)  female  35.0      1   \n",
              "4                           Allen, Mr. William Henry    male  35.0      0   \n",
              "\n",
              "   Parch            Ticket     Fare Cabin Embarked  \n",
              "0      0         A/5 21171   7.2500  None        S  \n",
              "1      0          PC 17599  71.2833   C85        C  \n",
              "2      0  STON/O2. 3101282   7.9250  None        S  \n",
              "3      0            113803  53.1000  C123        S  \n",
              "4      0            373450   8.0500  None        S  "
            ],
            "text/html": [
              "\n",
              "  <div id=\"df-3399ef69-292e-4877-9036-5c40e5ae8b7a\">\n",
              "    <div class=\"colab-df-container\">\n",
              "      <div>\n",
              "<style scoped>\n",
              "    .dataframe tbody tr th:only-of-type {\n",
              "        vertical-align: middle;\n",
              "    }\n",
              "\n",
              "    .dataframe tbody tr th {\n",
              "        vertical-align: top;\n",
              "    }\n",
              "\n",
              "    .dataframe thead th {\n",
              "        text-align: right;\n",
              "    }\n",
              "</style>\n",
              "<table border=\"1\" class=\"dataframe\">\n",
              "  <thead>\n",
              "    <tr style=\"text-align: right;\">\n",
              "      <th></th>\n",
              "      <th>PassengerId</th>\n",
              "      <th>Survived</th>\n",
              "      <th>Pclass</th>\n",
              "      <th>Name</th>\n",
              "      <th>Sex</th>\n",
              "      <th>newA</th>\n",
              "      <th>SibSp</th>\n",
              "      <th>Parch</th>\n",
              "      <th>Ticket</th>\n",
              "      <th>Fare</th>\n",
              "      <th>Cabin</th>\n",
              "      <th>Embarked</th>\n",
              "    </tr>\n",
              "  </thead>\n",
              "  <tbody>\n",
              "    <tr>\n",
              "      <th>0</th>\n",
              "      <td>1</td>\n",
              "      <td>0</td>\n",
              "      <td>3</td>\n",
              "      <td>Braund, Mr. Owen Harris</td>\n",
              "      <td>male</td>\n",
              "      <td>22.0</td>\n",
              "      <td>1</td>\n",
              "      <td>0</td>\n",
              "      <td>A/5 21171</td>\n",
              "      <td>7.2500</td>\n",
              "      <td>None</td>\n",
              "      <td>S</td>\n",
              "    </tr>\n",
              "    <tr>\n",
              "      <th>1</th>\n",
              "      <td>2</td>\n",
              "      <td>1</td>\n",
              "      <td>1</td>\n",
              "      <td>Cumings, Mrs. John Bradley (Florence Briggs Th...</td>\n",
              "      <td>female</td>\n",
              "      <td>38.0</td>\n",
              "      <td>1</td>\n",
              "      <td>0</td>\n",
              "      <td>PC 17599</td>\n",
              "      <td>71.2833</td>\n",
              "      <td>C85</td>\n",
              "      <td>C</td>\n",
              "    </tr>\n",
              "    <tr>\n",
              "      <th>2</th>\n",
              "      <td>3</td>\n",
              "      <td>1</td>\n",
              "      <td>3</td>\n",
              "      <td>Heikkinen, Miss. Laina</td>\n",
              "      <td>female</td>\n",
              "      <td>26.0</td>\n",
              "      <td>0</td>\n",
              "      <td>0</td>\n",
              "      <td>STON/O2. 3101282</td>\n",
              "      <td>7.9250</td>\n",
              "      <td>None</td>\n",
              "      <td>S</td>\n",
              "    </tr>\n",
              "    <tr>\n",
              "      <th>3</th>\n",
              "      <td>4</td>\n",
              "      <td>1</td>\n",
              "      <td>1</td>\n",
              "      <td>Futrelle, Mrs. Jacques Heath (Lily May Peel)</td>\n",
              "      <td>female</td>\n",
              "      <td>35.0</td>\n",
              "      <td>1</td>\n",
              "      <td>0</td>\n",
              "      <td>113803</td>\n",
              "      <td>53.1000</td>\n",
              "      <td>C123</td>\n",
              "      <td>S</td>\n",
              "    </tr>\n",
              "    <tr>\n",
              "      <th>4</th>\n",
              "      <td>5</td>\n",
              "      <td>0</td>\n",
              "      <td>3</td>\n",
              "      <td>Allen, Mr. William Henry</td>\n",
              "      <td>male</td>\n",
              "      <td>35.0</td>\n",
              "      <td>0</td>\n",
              "      <td>0</td>\n",
              "      <td>373450</td>\n",
              "      <td>8.0500</td>\n",
              "      <td>None</td>\n",
              "      <td>S</td>\n",
              "    </tr>\n",
              "  </tbody>\n",
              "</table>\n",
              "</div>\n",
              "      <button class=\"colab-df-convert\" onclick=\"convertToInteractive('df-3399ef69-292e-4877-9036-5c40e5ae8b7a')\"\n",
              "              title=\"Convert this dataframe to an interactive table.\"\n",
              "              style=\"display:none;\">\n",
              "        \n",
              "  <svg xmlns=\"http://www.w3.org/2000/svg\" height=\"24px\"viewBox=\"0 0 24 24\"\n",
              "       width=\"24px\">\n",
              "    <path d=\"M0 0h24v24H0V0z\" fill=\"none\"/>\n",
              "    <path d=\"M18.56 5.44l.94 2.06.94-2.06 2.06-.94-2.06-.94-.94-2.06-.94 2.06-2.06.94zm-11 1L8.5 8.5l.94-2.06 2.06-.94-2.06-.94L8.5 2.5l-.94 2.06-2.06.94zm10 10l.94 2.06.94-2.06 2.06-.94-2.06-.94-.94-2.06-.94 2.06-2.06.94z\"/><path d=\"M17.41 7.96l-1.37-1.37c-.4-.4-.92-.59-1.43-.59-.52 0-1.04.2-1.43.59L10.3 9.45l-7.72 7.72c-.78.78-.78 2.05 0 2.83L4 21.41c.39.39.9.59 1.41.59.51 0 1.02-.2 1.41-.59l7.78-7.78 2.81-2.81c.8-.78.8-2.07 0-2.86zM5.41 20L4 18.59l7.72-7.72 1.47 1.35L5.41 20z\"/>\n",
              "  </svg>\n",
              "      </button>\n",
              "      \n",
              "  <style>\n",
              "    .colab-df-container {\n",
              "      display:flex;\n",
              "      flex-wrap:wrap;\n",
              "      gap: 12px;\n",
              "    }\n",
              "\n",
              "    .colab-df-convert {\n",
              "      background-color: #E8F0FE;\n",
              "      border: none;\n",
              "      border-radius: 50%;\n",
              "      cursor: pointer;\n",
              "      display: none;\n",
              "      fill: #1967D2;\n",
              "      height: 32px;\n",
              "      padding: 0 0 0 0;\n",
              "      width: 32px;\n",
              "    }\n",
              "\n",
              "    .colab-df-convert:hover {\n",
              "      background-color: #E2EBFA;\n",
              "      box-shadow: 0px 1px 2px rgba(60, 64, 67, 0.3), 0px 1px 3px 1px rgba(60, 64, 67, 0.15);\n",
              "      fill: #174EA6;\n",
              "    }\n",
              "\n",
              "    [theme=dark] .colab-df-convert {\n",
              "      background-color: #3B4455;\n",
              "      fill: #D2E3FC;\n",
              "    }\n",
              "\n",
              "    [theme=dark] .colab-df-convert:hover {\n",
              "      background-color: #434B5C;\n",
              "      box-shadow: 0px 1px 3px 1px rgba(0, 0, 0, 0.15);\n",
              "      filter: drop-shadow(0px 1px 2px rgba(0, 0, 0, 0.3));\n",
              "      fill: #FFFFFF;\n",
              "    }\n",
              "  </style>\n",
              "\n",
              "      <script>\n",
              "        const buttonEl =\n",
              "          document.querySelector('#df-3399ef69-292e-4877-9036-5c40e5ae8b7a button.colab-df-convert');\n",
              "        buttonEl.style.display =\n",
              "          google.colab.kernel.accessAllowed ? 'block' : 'none';\n",
              "\n",
              "        async function convertToInteractive(key) {\n",
              "          const element = document.querySelector('#df-3399ef69-292e-4877-9036-5c40e5ae8b7a');\n",
              "          const dataTable =\n",
              "            await google.colab.kernel.invokeFunction('convertToInteractive',\n",
              "                                                     [key], {});\n",
              "          if (!dataTable) return;\n",
              "\n",
              "          const docLinkHtml = 'Like what you see? Visit the ' +\n",
              "            '<a target=\"_blank\" href=https://colab.research.google.com/notebooks/data_table.ipynb>data table notebook</a>'\n",
              "            + ' to learn more about interactive tables.';\n",
              "          element.innerHTML = '';\n",
              "          dataTable['output_type'] = 'display_data';\n",
              "          await google.colab.output.renderOutput(dataTable, element);\n",
              "          const docLink = document.createElement('div');\n",
              "          docLink.innerHTML = docLinkHtml;\n",
              "          element.appendChild(docLink);\n",
              "        }\n",
              "      </script>\n",
              "    </div>\n",
              "  </div>\n",
              "  "
            ]
          },
          "metadata": {},
          "execution_count": 233
        }
      ],
      "source": [
        "## let's say we want to change the name of a column. we can use withColumnRenamed\n",
        "# df.withColumnRenamed('exsisting name', 'anticipated name');\n",
        "df_train.withColumnRenamed(\"Age\", \"newA\").limit(5).toPandas()"
      ]
    },
    {
      "cell_type": "code",
      "execution_count": null,
      "metadata": {
        "colab": {
          "base_uri": "https://localhost:8080/"
        },
        "id": "C5RniqvMUTih",
        "outputId": "905dd486-4072-4c71-9115-a513c666510b",
        "scrolled": false
      },
      "outputs": [
        {
          "output_type": "stream",
          "name": "stdout",
          "text": [
            "+-----------+--------+------+--------------------+------+----+-----+-----+----------------+-------+-----+--------+\n",
            "|PassengerId|Survived|Pclass|                Name|   Sex| Age|SibSp|Parch|          Ticket|   Fare|Cabin|Embarked|\n",
            "+-----------+--------+------+--------------------+------+----+-----+-----+----------------+-------+-----+--------+\n",
            "|          1|       0|     3|Braund, Mr. Owen ...|  male|22.0|    1|    0|       A/5 21171|  27.25| null|       S|\n",
            "|          2|       1|     1|Cumings, Mrs. Joh...|female|38.0|    1|    0|        PC 17599|91.2833|  C85|       C|\n",
            "|          3|       1|     3|Heikkinen, Miss. ...|female|26.0|    0|    0|STON/O2. 3101282| 27.925| null|       S|\n",
            "|          4|       1|     1|Futrelle, Mrs. Ja...|female|35.0|    1|    0|          113803|   73.1| C123|       S|\n",
            "|          5|       0|     3|Allen, Mr. Willia...|  male|35.0|    0|    0|          373450|  28.05| null|       S|\n",
            "+-----------+--------+------+--------------------+------+----+-----+-----+----------------+-------+-----+--------+\n",
            "\n"
          ]
        }
      ],
      "source": [
        "# Let's say we want to modify a column, for example, add in this case, adding $20 with every fare. \n",
        "## df.withColumn('existing column', 'calculation with the column(we have to put df not just column)')\n",
        "## so not df.withColumn('Fare', 'Fare' +20).show()\n",
        "df_train.withColumn('Fare', df_train['Fare']+20).limit(5).show()"
      ]
    },
    {
      "cell_type": "markdown",
      "metadata": {
        "id": "RI7-nCbpUTih"
      },
      "source": [
        "Now this change isn't permanent since we are not assigning it to any variables. "
      ]
    },
    {
      "cell_type": "code",
      "execution_count": null,
      "metadata": {
        "id": "uhy2vZ6-UTii"
      },
      "outputs": [],
      "source": [
        "## let's say we want to get the average fare.\n",
        "# we will use the \"mean\" function from pyspark.sql.functions(this is where all the functions are stored) and\n",
        "# collect the data using \".collect()\" instead of using .show()\n",
        "# collect returns a list so we need to get the value from the list using index"
      ]
    },
    {
      "cell_type": "code",
      "execution_count": null,
      "metadata": {
        "colab": {
          "base_uri": "https://localhost:8080/"
        },
        "id": "WB2YnD6nUTii",
        "outputId": "9195a386-78d6-4f6b-a6a2-e5be2f02d304"
      },
      "outputs": [
        {
          "output_type": "execute_result",
          "data": {
            "text/plain": [
              "31.846033999999975"
            ]
          },
          "metadata": {},
          "execution_count": 236
        }
      ],
      "source": [
        "from pyspark.sql.functions import mean\n",
        "fare_mean = df_train.select(mean(\"Fare\")).collect()\n",
        "fare_mean[0][0]"
      ]
    },
    {
      "cell_type": "code",
      "execution_count": null,
      "metadata": {
        "colab": {
          "base_uri": "https://localhost:8080/"
        },
        "id": "Hct3LsGeUTii",
        "outputId": "6034007c-2709-41ba-b2ad-8ad3bf8ac911"
      },
      "outputs": [
        {
          "output_type": "execute_result",
          "data": {
            "text/plain": [
              "31.846033999999975"
            ]
          },
          "metadata": {},
          "execution_count": 237
        }
      ],
      "source": [
        "fare_mean = fare_mean[0][0]\n",
        "fare_mean"
      ]
    },
    {
      "cell_type": "markdown",
      "metadata": {
        "id": "lgX0ZnYBUTii"
      },
      "source": [
        "#### Filter"
      ]
    },
    {
      "cell_type": "code",
      "execution_count": null,
      "metadata": {
        "colab": {
          "base_uri": "https://localhost:8080/"
        },
        "id": "6PwRuYVgUTij",
        "outputId": "fdf209d5-bff3-4b0a-cbf2-c9969c8d9f27"
      },
      "outputs": [
        {
          "output_type": "stream",
          "name": "stdout",
          "text": [
            "+-----------+--------+------+--------------------+------+----+-----+-----+--------+-------+-----+--------+\n",
            "|PassengerId|Survived|Pclass|                Name|   Sex| Age|SibSp|Parch|  Ticket|   Fare|Cabin|Embarked|\n",
            "+-----------+--------+------+--------------------+------+----+-----+-----+--------+-------+-----+--------+\n",
            "|          2|       1|     1|Cumings, Mrs. Joh...|female|38.0|    1|    0|PC 17599|71.2833|  C85|       C|\n",
            "|          4|       1|     1|Futrelle, Mrs. Ja...|female|35.0|    1|    0|  113803|   53.1| C123|       S|\n",
            "|          7|       0|     1|McCarthy, Mr. Tim...|  male|54.0|    0|    0|   17463|51.8625|  E46|       S|\n",
            "+-----------+--------+------+--------------------+------+----+-----+-----+--------+-------+-----+--------+\n",
            "\n"
          ]
        }
      ],
      "source": [
        "# What if we want to filter data and see all fare above average. \n",
        "# there are two approaches of this, we can use sql syntex/passing a string\n",
        "# or just dataframe approach. \n",
        "df_train.filter(\"Fare > 32.20\" ).limit(3).show()"
      ]
    },
    {
      "cell_type": "code",
      "execution_count": null,
      "metadata": {
        "colab": {
          "base_uri": "https://localhost:8080/"
        },
        "id": "y1yVk8_JUTij",
        "outputId": "8a07ee2e-55b1-47a0-f3b4-29f9010d6543"
      },
      "outputs": [
        {
          "output_type": "stream",
          "name": "stdout",
          "text": [
            "+-----------+--------+------+--------------------+------+----+-----+-----+--------+-------+-----+--------+\n",
            "|PassengerId|Survived|Pclass|                Name|   Sex| Age|SibSp|Parch|  Ticket|   Fare|Cabin|Embarked|\n",
            "+-----------+--------+------+--------------------+------+----+-----+-----+--------+-------+-----+--------+\n",
            "|          2|       1|     1|Cumings, Mrs. Joh...|female|38.0|    1|    0|PC 17599|71.2833|  C85|       C|\n",
            "|          4|       1|     1|Futrelle, Mrs. Ja...|female|35.0|    1|    0|  113803|   53.1| C123|       S|\n",
            "|          7|       0|     1|McCarthy, Mr. Tim...|  male|54.0|    0|    0|   17463|51.8625|  E46|       S|\n",
            "+-----------+--------+------+--------------------+------+----+-----+-----+--------+-------+-----+--------+\n",
            "\n"
          ]
        }
      ],
      "source": [
        "# similarly \n",
        "df_train[df_train.Fare > 32.20].limit(3).show()"
      ]
    },
    {
      "cell_type": "code",
      "execution_count": null,
      "metadata": {
        "colab": {
          "base_uri": "https://localhost:8080/"
        },
        "id": "c166zPD9UTij",
        "outputId": "cced3373-363f-440b-e28e-9d196e569d95"
      },
      "outputs": [
        {
          "output_type": "stream",
          "name": "stdout",
          "text": [
            "+-----------+--------+------+--------------------+------+----+-----+-----+--------+-------+-----+--------+\n",
            "|PassengerId|Survived|Pclass|                Name|   Sex| Age|SibSp|Parch|  Ticket|   Fare|Cabin|Embarked|\n",
            "+-----------+--------+------+--------------------+------+----+-----+-----+--------+-------+-----+--------+\n",
            "|          2|       1|     1|Cumings, Mrs. Joh...|female|38.0|    1|    0|PC 17599|71.2833|  C85|       C|\n",
            "|          4|       1|     1|Futrelle, Mrs. Ja...|female|35.0|    1|    0|  113803|   53.1| C123|       S|\n",
            "|          7|       0|     1|McCarthy, Mr. Tim...|  male|54.0|    0|    0|   17463|51.8625|  E46|       S|\n",
            "+-----------+--------+------+--------------------+------+----+-----+-----+--------+-------+-----+--------+\n",
            "\n"
          ]
        }
      ],
      "source": [
        "# or we can use the dataframe approach\n",
        "df_train.filter(df_train['Fare'] > fare_mean).limit(3).show()"
      ]
    },
    {
      "cell_type": "code",
      "execution_count": null,
      "metadata": {
        "colab": {
          "base_uri": "https://localhost:8080/"
        },
        "id": "NsAIlYUCUTij",
        "outputId": "4882603f-0eaf-4875-fb92-3c296e8796d5"
      },
      "outputs": [
        {
          "output_type": "stream",
          "name": "stdout",
          "text": [
            "+-----------+--------+------+--------------------+----+----+-----+-----+---------+------+-----+--------+\n",
            "|PassengerId|Survived|Pclass|                Name| Sex| Age|SibSp|Parch|   Ticket|  Fare|Cabin|Embarked|\n",
            "+-----------+--------+------+--------------------+----+----+-----+-----+---------+------+-----+--------+\n",
            "|          1|       0|     3|Braund, Mr. Owen ...|male|22.0|    1|    0|A/5 21171|  7.25| null|       S|\n",
            "|          5|       0|     3|Allen, Mr. Willia...|male|35.0|    0|    0|   373450|  8.05| null|       S|\n",
            "|          6|       0|     3|    Moran, Mr. James|male|null|    0|    0|   330877|8.4583| null|       Q|\n",
            "|          8|       0|     3|Palsson, Master. ...|male| 2.0|    3|    1|   349909|21.075| null|       S|\n",
            "|         13|       0|     3|Saundercock, Mr. ...|male|20.0|    0|    0|A/5. 2151|  8.05| null|       S|\n",
            "+-----------+--------+------+--------------------+----+----+-----+-----+---------+------+-----+--------+\n",
            "only showing top 5 rows\n",
            "\n"
          ]
        }
      ],
      "source": [
        "## What if we want to filter by multiple columns.\n",
        "# passenger with below average fare with a sex equals male\n",
        "temp_df = df_train.filter((df_train['Fare'] < fare_mean) &\n",
        "          (df_train['Sex'] ==  'male')\n",
        "         )\n",
        "temp_df.show(5)"
      ]
    },
    {
      "cell_type": "code",
      "execution_count": null,
      "metadata": {
        "colab": {
          "base_uri": "https://localhost:8080/"
        },
        "id": "NmR96HcpUTij",
        "outputId": "0164272b-08c1-4e49-d46c-f4871ebe3254"
      },
      "outputs": [
        {
          "output_type": "stream",
          "name": "stdout",
          "text": [
            "+-----------+--------+------+--------------------+----+----+-----+-----+---------+------+-----+--------+\n",
            "|PassengerId|Survived|Pclass|                Name| Sex| Age|SibSp|Parch|   Ticket|  Fare|Cabin|Embarked|\n",
            "+-----------+--------+------+--------------------+----+----+-----+-----+---------+------+-----+--------+\n",
            "|          1|       0|     3|Braund, Mr. Owen ...|male|22.0|    1|    0|A/5 21171|  7.25| null|       S|\n",
            "|          5|       0|     3|Allen, Mr. Willia...|male|35.0|    0|    0|   373450|  8.05| null|       S|\n",
            "|          6|       0|     3|    Moran, Mr. James|male|null|    0|    0|   330877|8.4583| null|       Q|\n",
            "|          8|       0|     3|Palsson, Master. ...|male| 2.0|    3|    1|   349909|21.075| null|       S|\n",
            "|         13|       0|     3|Saundercock, Mr. ...|male|20.0|    0|    0|A/5. 2151|  8.05| null|       S|\n",
            "+-----------+--------+------+--------------------+----+----+-----+-----+---------+------+-----+--------+\n",
            "only showing top 5 rows\n",
            "\n"
          ]
        }
      ],
      "source": [
        "# similarly \n",
        "df_train[(df_train.Fare < fare_mean) & \n",
        "         (df_train.Sex == \"male\")].show(5)"
      ]
    },
    {
      "cell_type": "code",
      "execution_count": null,
      "metadata": {
        "colab": {
          "base_uri": "https://localhost:8080/"
        },
        "id": "DMa5wOAQUTij",
        "outputId": "332caadd-1525-4226-b28a-a48d62996d7b"
      },
      "outputs": [
        {
          "output_type": "stream",
          "name": "stdout",
          "text": [
            "+-----------+--------+------+--------------------+------+----+-----+-----+----------------+-------+-----+--------+\n",
            "|PassengerId|Survived|Pclass|                Name|   Sex| Age|SibSp|Parch|          Ticket|   Fare|Cabin|Embarked|\n",
            "+-----------+--------+------+--------------------+------+----+-----+-----+----------------+-------+-----+--------+\n",
            "|          3|       1|     3|Heikkinen, Miss. ...|female|26.0|    0|    0|STON/O2. 3101282|  7.925| null|       S|\n",
            "|          9|       1|     3|Johnson, Mrs. Osc...|female|27.0|    0|    2|          347742|11.1333| null|       S|\n",
            "|         10|       1|     2|Nasser, Mrs. Nich...|female|14.0|    1|    0|          237736|30.0708| null|       C|\n",
            "|         11|       1|     3|Sandstrom, Miss. ...|female| 4.0|    1|    1|         PP 9549|   16.7|   G6|       S|\n",
            "|         12|       1|     1|Bonnell, Miss. El...|female|58.0|    0|    0|          113783|  26.55| C103|       S|\n",
            "|         15|       0|     3|Vestrom, Miss. Hu...|female|14.0|    0|    0|          350406| 7.8542| null|       S|\n",
            "|         16|       1|     2|Hewlett, Mrs. (Ma...|female|55.0|    0|    0|          248706|   16.0| null|       S|\n",
            "|         19|       0|     3|Vander Planke, Mr...|female|31.0|    1|    0|          345763|   18.0| null|       S|\n",
            "|         20|       1|     3|Masselmani, Mrs. ...|female|null|    0|    0|            2649|  7.225| null|       C|\n",
            "|         23|       1|     3|\"McGowan, Miss. A...|female|15.0|    0|    0|          330923| 8.0292| null|       Q|\n",
            "+-----------+--------+------+--------------------+------+----+-----+-----+----------------+-------+-----+--------+\n",
            "only showing top 10 rows\n",
            "\n"
          ]
        }
      ],
      "source": [
        "# passenger with below average fare and are not male\n",
        "filter1_less_than_mean_fare = df_train['Fare'] < fare_mean\n",
        "filter2_sex_not_male = df_train['Sex'] != \"male\"\n",
        "df_train.filter((filter1_less_than_mean_fare) &\n",
        "                (filter2_sex_not_male)).show(10)"
      ]
    },
    {
      "cell_type": "code",
      "execution_count": null,
      "metadata": {
        "colab": {
          "base_uri": "https://localhost:8080/"
        },
        "id": "QoieYiTgUTik",
        "outputId": "7ece39f9-48a6-4336-c204-18ada904eebd"
      },
      "outputs": [
        {
          "output_type": "stream",
          "name": "stdout",
          "text": [
            "+-----------+--------+------+--------------------+------+----+-----+-----+----------------+-------+-----+--------+\n",
            "|PassengerId|Survived|Pclass|                Name|   Sex| Age|SibSp|Parch|          Ticket|   Fare|Cabin|Embarked|\n",
            "+-----------+--------+------+--------------------+------+----+-----+-----+----------------+-------+-----+--------+\n",
            "|          3|       1|     3|Heikkinen, Miss. ...|female|26.0|    0|    0|STON/O2. 3101282|  7.925| null|       S|\n",
            "|          9|       1|     3|Johnson, Mrs. Osc...|female|27.0|    0|    2|          347742|11.1333| null|       S|\n",
            "|         10|       1|     2|Nasser, Mrs. Nich...|female|14.0|    1|    0|          237736|30.0708| null|       C|\n",
            "|         11|       1|     3|Sandstrom, Miss. ...|female| 4.0|    1|    1|         PP 9549|   16.7|   G6|       S|\n",
            "|         12|       1|     1|Bonnell, Miss. El...|female|58.0|    0|    0|          113783|  26.55| C103|       S|\n",
            "|         15|       0|     3|Vestrom, Miss. Hu...|female|14.0|    0|    0|          350406| 7.8542| null|       S|\n",
            "|         16|       1|     2|Hewlett, Mrs. (Ma...|female|55.0|    0|    0|          248706|   16.0| null|       S|\n",
            "|         19|       0|     3|Vander Planke, Mr...|female|31.0|    1|    0|          345763|   18.0| null|       S|\n",
            "|         20|       1|     3|Masselmani, Mrs. ...|female|null|    0|    0|            2649|  7.225| null|       C|\n",
            "|         23|       1|     3|\"McGowan, Miss. A...|female|15.0|    0|    0|          330923| 8.0292| null|       Q|\n",
            "+-----------+--------+------+--------------------+------+----+-----+-----+----------------+-------+-----+--------+\n",
            "only showing top 10 rows\n",
            "\n"
          ]
        }
      ],
      "source": [
        "# We can also apply it this way\n",
        "# passenger with below fare and are not male\n",
        "# creating filters\n",
        "filter1_less_than_mean_fare = df_train['Fare'] < fare_mean\n",
        "filter2_sex_not_male = df_train['Sex'] != \"male\"\n",
        "# applying filters\n",
        "df_train.filter(filter1_less_than_mean_fare).filter(filter2_sex_not_male).show(10)"
      ]
    },
    {
      "cell_type": "code",
      "execution_count": null,
      "metadata": {
        "colab": {
          "base_uri": "https://localhost:8080/"
        },
        "id": "nUo-Z2tXUTik",
        "outputId": "71092469-74d1-4fd0-b4ee-cb196d91738c"
      },
      "outputs": [
        {
          "output_type": "stream",
          "name": "stdout",
          "text": [
            "+-----------+-------+\n",
            "|PassengerId|   Fare|\n",
            "+-----------+-------+\n",
            "|          8| 21.075|\n",
            "|          9|11.1333|\n",
            "|         10|30.0708|\n",
            "|         11|   16.7|\n",
            "|         12|  26.55|\n",
            "|         14| 31.275|\n",
            "|         16|   16.0|\n",
            "|         17| 29.125|\n",
            "|         18|   13.0|\n",
            "|         19|   18.0|\n",
            "|         21|   26.0|\n",
            "|         22|   13.0|\n",
            "|         24|   35.5|\n",
            "|         25| 21.075|\n",
            "|         26|31.3875|\n",
            "|         31|27.7208|\n",
            "|         34|   10.5|\n",
            "|         39|   18.0|\n",
            "|         40|11.2417|\n",
            "|         42|   21.0|\n",
            "+-----------+-------+\n",
            "only showing top 20 rows\n",
            "\n"
          ]
        }
      ],
      "source": [
        "# we can also filter by using builtin functions.\n",
        "# between\n",
        "df_train.select(\"PassengerId\", \"Fare\").filter(df_train.Fare.between(10,40)).show()"
      ]
    },
    {
      "cell_type": "code",
      "execution_count": null,
      "metadata": {
        "colab": {
          "base_uri": "https://localhost:8080/"
        },
        "id": "fA-oWXZeUTik",
        "outputId": "77c01cea-f928-4056-d876-a4ef670d4c04"
      },
      "outputs": [
        {
          "output_type": "stream",
          "name": "stdout",
          "text": [
            "+-----------+-------------------------------+\n",
            "|PassengerID|((Fare >= 10) AND (Fare <= 40))|\n",
            "+-----------+-------------------------------+\n",
            "|          1|                          false|\n",
            "|          2|                          false|\n",
            "|          3|                          false|\n",
            "|          4|                          false|\n",
            "|          5|                          false|\n",
            "|          6|                          false|\n",
            "|          7|                          false|\n",
            "|          8|                           true|\n",
            "|          9|                           true|\n",
            "|         10|                           true|\n",
            "|         11|                           true|\n",
            "|         12|                           true|\n",
            "|         13|                          false|\n",
            "|         14|                           true|\n",
            "|         15|                          false|\n",
            "|         16|                           true|\n",
            "|         17|                           true|\n",
            "|         18|                           true|\n",
            "|         19|                           true|\n",
            "|         20|                          false|\n",
            "+-----------+-------------------------------+\n",
            "only showing top 20 rows\n",
            "\n"
          ]
        }
      ],
      "source": [
        "df_train.select(\"PassengerID\", df_train.Fare.between(10,40)).show()"
      ]
    },
    {
      "cell_type": "code",
      "execution_count": null,
      "metadata": {
        "colab": {
          "base_uri": "https://localhost:8080/"
        },
        "id": "DtcpQyKBUTik",
        "outputId": "5c8da310-835f-4b7e-bdcb-0ba3188aa049"
      },
      "outputs": [
        {
          "output_type": "stream",
          "name": "stdout",
          "text": [
            "+-----------+--------------------+\n",
            "|PassengerId|                Name|\n",
            "+-----------+--------------------+\n",
            "|          1|Braund, Mr. Owen ...|\n",
            "|          2|Cumings, Mrs. Joh...|\n",
            "|          4|Futrelle, Mrs. Ja...|\n",
            "|          5|Allen, Mr. Willia...|\n",
            "|          6|    Moran, Mr. James|\n",
            "|          7|McCarthy, Mr. Tim...|\n",
            "|          9|Johnson, Mrs. Osc...|\n",
            "|         10|Nasser, Mrs. Nich...|\n",
            "|         13|Saundercock, Mr. ...|\n",
            "|         14|Andersson, Mr. An...|\n",
            "|         16|Hewlett, Mrs. (Ma...|\n",
            "|         18|Williams, Mr. Cha...|\n",
            "|         19|Vander Planke, Mr...|\n",
            "|         20|Masselmani, Mrs. ...|\n",
            "|         21|Fynney, Mr. Joseph J|\n",
            "|         22|Beesley, Mr. Lawr...|\n",
            "|         24|Sloper, Mr. Willi...|\n",
            "|         26|Asplund, Mrs. Car...|\n",
            "|         27|Emir, Mr. Farred ...|\n",
            "|         28|Fortune, Mr. Char...|\n",
            "+-----------+--------------------+\n",
            "only showing top 20 rows\n",
            "\n"
          ]
        }
      ],
      "source": [
        "# contains\n",
        "df_train.select(\"PassengerId\", \"Name\").filter(df_train.Name.contains(\"Mr\")).show()"
      ]
    },
    {
      "cell_type": "code",
      "execution_count": null,
      "metadata": {
        "colab": {
          "base_uri": "https://localhost:8080/"
        },
        "id": "0s72lJVHUTik",
        "outputId": "fde942be-0909-4daf-f85b-ccd926122c86"
      },
      "outputs": [
        {
          "output_type": "stream",
          "name": "stdout",
          "text": [
            "+-----------+------+\n",
            "|PassengerID|   Sex|\n",
            "+-----------+------+\n",
            "|          2|female|\n",
            "|          3|female|\n",
            "|          4|female|\n",
            "|          9|female|\n",
            "|         10|female|\n",
            "|         11|female|\n",
            "|         12|female|\n",
            "|         15|female|\n",
            "|         16|female|\n",
            "|         19|female|\n",
            "|         20|female|\n",
            "|         23|female|\n",
            "|         25|female|\n",
            "|         26|female|\n",
            "|         29|female|\n",
            "|         32|female|\n",
            "|         33|female|\n",
            "|         39|female|\n",
            "|         40|female|\n",
            "|         41|female|\n",
            "+-----------+------+\n",
            "only showing top 20 rows\n",
            "\n"
          ]
        }
      ],
      "source": [
        "# startswith \n",
        "df_train.select(\"PassengerID\", 'Sex').filter(df_train.Sex.startswith(\"fe\")).show()"
      ]
    },
    {
      "cell_type": "code",
      "execution_count": null,
      "metadata": {
        "colab": {
          "base_uri": "https://localhost:8080/"
        },
        "id": "78zxShStUTik",
        "outputId": "6dcd2ec3-0b60-45a1-c902-3a414e88c527"
      },
      "outputs": [
        {
          "output_type": "stream",
          "name": "stdout",
          "text": [
            "+-----------+------+\n",
            "|PassengerID|Ticket|\n",
            "+-----------+------+\n",
            "|          5|373450|\n",
            "|         28| 19950|\n",
            "|         89| 19950|\n",
            "|        256|  2650|\n",
            "|        342| 19950|\n",
            "|        439| 19950|\n",
            "|        537|113050|\n",
            "+-----------+------+\n",
            "\n"
          ]
        }
      ],
      "source": [
        "# endswith\n",
        "df_train.select(\"PassengerID\", 'Ticket').filter(df_train.Ticket.endswith(\"50\")).show()"
      ]
    },
    {
      "cell_type": "code",
      "execution_count": null,
      "metadata": {
        "colab": {
          "base_uri": "https://localhost:8080/"
        },
        "id": "iKU_uc3dUTil",
        "outputId": "f2af8705-1460-4254-d39c-2e05054029e8"
      },
      "outputs": [
        {
          "output_type": "stream",
          "name": "stdout",
          "text": [
            "+-----------+--------+------+--------------------+------+----+-----+-----+----------------+-------+-----+--------+\n",
            "|PassengerId|Survived|Pclass|                Name|   Sex| Age|SibSp|Parch|          Ticket|   Fare|Cabin|Embarked|\n",
            "+-----------+--------+------+--------------------+------+----+-----+-----+----------------+-------+-----+--------+\n",
            "|          1|       0|     3|Braund, Mr. Owen ...|  male|22.0|    1|    0|       A/5 21171|   7.25| null|       S|\n",
            "|          2|       1|     1|Cumings, Mrs. Joh...|female|38.0|    1|    0|        PC 17599|71.2833|  C85|       C|\n",
            "|          3|       1|     3|Heikkinen, Miss. ...|female|26.0|    0|    0|STON/O2. 3101282|  7.925| null|       S|\n",
            "+-----------+--------+------+--------------------+------+----+-----+-----+----------------+-------+-----+--------+\n",
            "\n"
          ]
        }
      ],
      "source": [
        "# isin\n",
        "df_train[df_train.PassengerId.isin([1,2,3])].show()"
      ]
    },
    {
      "cell_type": "code",
      "execution_count": null,
      "metadata": {
        "colab": {
          "base_uri": "https://localhost:8080/"
        },
        "id": "lJVGQcNNUTil",
        "outputId": "68c5d0ff-bb8d-48c0-ed5f-7fb245ce555c"
      },
      "outputs": [
        {
          "output_type": "stream",
          "name": "stdout",
          "text": [
            "+-----------+--------+------+--------------------+------+----+-----+-----+---------+-------+-----+--------+\n",
            "|PassengerId|Survived|Pclass|                Name|   Sex| Age|SibSp|Parch|   Ticket|   Fare|Cabin|Embarked|\n",
            "+-----------+--------+------+--------------------+------+----+-----+-----+---------+-------+-----+--------+\n",
            "|          1|       0|     3|Braund, Mr. Owen ...|  male|22.0|    1|    0|A/5 21171|   7.25| null|       S|\n",
            "|        195|       1|     1|Brown, Mrs. James...|female|44.0|    0|    0| PC 17610|27.7208|   B4|       C|\n",
            "|        222|       0|     2|Bracken, Mr. James H|  male|27.0|    0|    0|   220367|   13.0| null|       S|\n",
            "|        478|       0|     3|Braund, Mr. Lewis...|  male|29.0|    1|    0|     3460| 7.0458| null|       S|\n",
            "+-----------+--------+------+--------------------+------+----+-----+-----+---------+-------+-----+--------+\n",
            "\n"
          ]
        }
      ],
      "source": [
        "# like\n",
        "df_train[df_train.Name.like(\"Br%\")].show()"
      ]
    },
    {
      "cell_type": "code",
      "execution_count": null,
      "metadata": {
        "colab": {
          "base_uri": "https://localhost:8080/"
        },
        "id": "qtC69MFAUTil",
        "outputId": "e57ce950-bad2-4c60-8728-a544c87a6ef6"
      },
      "outputs": [
        {
          "output_type": "stream",
          "name": "stdout",
          "text": [
            "+---------------------+\n",
            "|substring(Name, 1, 5)|\n",
            "+---------------------+\n",
            "|                Braun|\n",
            "|                Cumin|\n",
            "|                Heikk|\n",
            "|                Futre|\n",
            "|                Allen|\n",
            "|                Moran|\n",
            "|                McCar|\n",
            "|                Palss|\n",
            "|                Johns|\n",
            "|                Nasse|\n",
            "|                Sands|\n",
            "|                Bonne|\n",
            "|                Saund|\n",
            "|                Ander|\n",
            "|                Vestr|\n",
            "|                Hewle|\n",
            "|                Rice,|\n",
            "|                Willi|\n",
            "|                Vande|\n",
            "|                Masse|\n",
            "+---------------------+\n",
            "only showing top 20 rows\n",
            "\n"
          ]
        }
      ],
      "source": [
        "# substr\n",
        "df_train.select(df_train.Name.substr(1,5)).show()"
      ]
    },
    {
      "cell_type": "code",
      "execution_count": null,
      "metadata": {
        "colab": {
          "base_uri": "https://localhost:8080/"
        },
        "id": "lXS_-eG_UTil",
        "outputId": "3c85118b-0a23-472e-ee4b-a3e480fa133b"
      },
      "outputs": [
        {
          "output_type": "stream",
          "name": "stdout",
          "text": [
            "+---------------------+\n",
            "|substring(Name, 1, 5)|\n",
            "+---------------------+\n",
            "|                Braun|\n",
            "|                Cumin|\n",
            "|                Heikk|\n",
            "|                Futre|\n",
            "|                Allen|\n",
            "|                Moran|\n",
            "|                McCar|\n",
            "|                Palss|\n",
            "|                Johns|\n",
            "|                Nasse|\n",
            "|                Sands|\n",
            "|                Bonne|\n",
            "|                Saund|\n",
            "|                Ander|\n",
            "|                Vestr|\n",
            "|                Hewle|\n",
            "|                Rice,|\n",
            "|                Willi|\n",
            "|                Vande|\n",
            "|                Masse|\n",
            "+---------------------+\n",
            "only showing top 20 rows\n",
            "\n"
          ]
        }
      ],
      "source": [
        "# similarly \n",
        "df_train[[df_train.Name.substr(1,5)]].show()"
      ]
    },
    {
      "cell_type": "markdown",
      "metadata": {
        "id": "7yUWAvetUTil"
      },
      "source": [
        "One interesting thing about substr method is that we can't implement the following syntax while working with substr. This syntax is best implemented in a filter when the return values are boolean not a column."
      ]
    },
    {
      "cell_type": "code",
      "execution_count": null,
      "metadata": {
        "id": "sZ5STMBwUTil"
      },
      "outputs": [],
      "source": [
        "# df_train[df_train.Name.substr(1,5)].show()"
      ]
    },
    {
      "cell_type": "markdown",
      "metadata": {
        "id": "T2gZMm_XUTil"
      },
      "source": [
        "#### GroupBy"
      ]
    },
    {
      "cell_type": "code",
      "execution_count": null,
      "metadata": {
        "colab": {
          "base_uri": "https://localhost:8080/",
          "height": 143
        },
        "id": "ak2GpLPZUTil",
        "outputId": "3bde6125-e251-433b-c3e6-ec83c24f3736"
      },
      "outputs": [
        {
          "output_type": "execute_result",
          "data": {
            "text/plain": [
              "   Pclass  avg(PassengerId)  avg(Survived)  avg(Pclass)   avg(Age)  \\\n",
              "0       1        323.813793       0.593103          1.0  38.379360   \n",
              "1       3        288.269697       0.263636          3.0  25.189914   \n",
              "2       2        305.744000       0.504000          2.0  29.744224   \n",
              "\n",
              "   avg(SibSp)  avg(Parch)  avg(Fare)  \n",
              "0    0.441379    0.400000  84.436120  \n",
              "1    0.648485    0.375758  13.315656  \n",
              "2    0.360000    0.344000  19.761733  "
            ],
            "text/html": [
              "\n",
              "  <div id=\"df-1fe67cbe-8de7-41f8-b60d-dfeb0e7cccf9\">\n",
              "    <div class=\"colab-df-container\">\n",
              "      <div>\n",
              "<style scoped>\n",
              "    .dataframe tbody tr th:only-of-type {\n",
              "        vertical-align: middle;\n",
              "    }\n",
              "\n",
              "    .dataframe tbody tr th {\n",
              "        vertical-align: top;\n",
              "    }\n",
              "\n",
              "    .dataframe thead th {\n",
              "        text-align: right;\n",
              "    }\n",
              "</style>\n",
              "<table border=\"1\" class=\"dataframe\">\n",
              "  <thead>\n",
              "    <tr style=\"text-align: right;\">\n",
              "      <th></th>\n",
              "      <th>Pclass</th>\n",
              "      <th>avg(PassengerId)</th>\n",
              "      <th>avg(Survived)</th>\n",
              "      <th>avg(Pclass)</th>\n",
              "      <th>avg(Age)</th>\n",
              "      <th>avg(SibSp)</th>\n",
              "      <th>avg(Parch)</th>\n",
              "      <th>avg(Fare)</th>\n",
              "    </tr>\n",
              "  </thead>\n",
              "  <tbody>\n",
              "    <tr>\n",
              "      <th>0</th>\n",
              "      <td>1</td>\n",
              "      <td>323.813793</td>\n",
              "      <td>0.593103</td>\n",
              "      <td>1.0</td>\n",
              "      <td>38.379360</td>\n",
              "      <td>0.441379</td>\n",
              "      <td>0.400000</td>\n",
              "      <td>84.436120</td>\n",
              "    </tr>\n",
              "    <tr>\n",
              "      <th>1</th>\n",
              "      <td>3</td>\n",
              "      <td>288.269697</td>\n",
              "      <td>0.263636</td>\n",
              "      <td>3.0</td>\n",
              "      <td>25.189914</td>\n",
              "      <td>0.648485</td>\n",
              "      <td>0.375758</td>\n",
              "      <td>13.315656</td>\n",
              "    </tr>\n",
              "    <tr>\n",
              "      <th>2</th>\n",
              "      <td>2</td>\n",
              "      <td>305.744000</td>\n",
              "      <td>0.504000</td>\n",
              "      <td>2.0</td>\n",
              "      <td>29.744224</td>\n",
              "      <td>0.360000</td>\n",
              "      <td>0.344000</td>\n",
              "      <td>19.761733</td>\n",
              "    </tr>\n",
              "  </tbody>\n",
              "</table>\n",
              "</div>\n",
              "      <button class=\"colab-df-convert\" onclick=\"convertToInteractive('df-1fe67cbe-8de7-41f8-b60d-dfeb0e7cccf9')\"\n",
              "              title=\"Convert this dataframe to an interactive table.\"\n",
              "              style=\"display:none;\">\n",
              "        \n",
              "  <svg xmlns=\"http://www.w3.org/2000/svg\" height=\"24px\"viewBox=\"0 0 24 24\"\n",
              "       width=\"24px\">\n",
              "    <path d=\"M0 0h24v24H0V0z\" fill=\"none\"/>\n",
              "    <path d=\"M18.56 5.44l.94 2.06.94-2.06 2.06-.94-2.06-.94-.94-2.06-.94 2.06-2.06.94zm-11 1L8.5 8.5l.94-2.06 2.06-.94-2.06-.94L8.5 2.5l-.94 2.06-2.06.94zm10 10l.94 2.06.94-2.06 2.06-.94-2.06-.94-.94-2.06-.94 2.06-2.06.94z\"/><path d=\"M17.41 7.96l-1.37-1.37c-.4-.4-.92-.59-1.43-.59-.52 0-1.04.2-1.43.59L10.3 9.45l-7.72 7.72c-.78.78-.78 2.05 0 2.83L4 21.41c.39.39.9.59 1.41.59.51 0 1.02-.2 1.41-.59l7.78-7.78 2.81-2.81c.8-.78.8-2.07 0-2.86zM5.41 20L4 18.59l7.72-7.72 1.47 1.35L5.41 20z\"/>\n",
              "  </svg>\n",
              "      </button>\n",
              "      \n",
              "  <style>\n",
              "    .colab-df-container {\n",
              "      display:flex;\n",
              "      flex-wrap:wrap;\n",
              "      gap: 12px;\n",
              "    }\n",
              "\n",
              "    .colab-df-convert {\n",
              "      background-color: #E8F0FE;\n",
              "      border: none;\n",
              "      border-radius: 50%;\n",
              "      cursor: pointer;\n",
              "      display: none;\n",
              "      fill: #1967D2;\n",
              "      height: 32px;\n",
              "      padding: 0 0 0 0;\n",
              "      width: 32px;\n",
              "    }\n",
              "\n",
              "    .colab-df-convert:hover {\n",
              "      background-color: #E2EBFA;\n",
              "      box-shadow: 0px 1px 2px rgba(60, 64, 67, 0.3), 0px 1px 3px 1px rgba(60, 64, 67, 0.15);\n",
              "      fill: #174EA6;\n",
              "    }\n",
              "\n",
              "    [theme=dark] .colab-df-convert {\n",
              "      background-color: #3B4455;\n",
              "      fill: #D2E3FC;\n",
              "    }\n",
              "\n",
              "    [theme=dark] .colab-df-convert:hover {\n",
              "      background-color: #434B5C;\n",
              "      box-shadow: 0px 1px 3px 1px rgba(0, 0, 0, 0.15);\n",
              "      filter: drop-shadow(0px 1px 2px rgba(0, 0, 0, 0.3));\n",
              "      fill: #FFFFFF;\n",
              "    }\n",
              "  </style>\n",
              "\n",
              "      <script>\n",
              "        const buttonEl =\n",
              "          document.querySelector('#df-1fe67cbe-8de7-41f8-b60d-dfeb0e7cccf9 button.colab-df-convert');\n",
              "        buttonEl.style.display =\n",
              "          google.colab.kernel.accessAllowed ? 'block' : 'none';\n",
              "\n",
              "        async function convertToInteractive(key) {\n",
              "          const element = document.querySelector('#df-1fe67cbe-8de7-41f8-b60d-dfeb0e7cccf9');\n",
              "          const dataTable =\n",
              "            await google.colab.kernel.invokeFunction('convertToInteractive',\n",
              "                                                     [key], {});\n",
              "          if (!dataTable) return;\n",
              "\n",
              "          const docLinkHtml = 'Like what you see? Visit the ' +\n",
              "            '<a target=\"_blank\" href=https://colab.research.google.com/notebooks/data_table.ipynb>data table notebook</a>'\n",
              "            + ' to learn more about interactive tables.';\n",
              "          element.innerHTML = '';\n",
              "          dataTable['output_type'] = 'display_data';\n",
              "          await google.colab.output.renderOutput(dataTable, element);\n",
              "          const docLink = document.createElement('div');\n",
              "          docLink.innerHTML = docLinkHtml;\n",
              "          element.appendChild(docLink);\n",
              "        }\n",
              "      </script>\n",
              "    </div>\n",
              "  </div>\n",
              "  "
            ]
          },
          "metadata": {},
          "execution_count": 255
        }
      ],
      "source": [
        "## Let's group by Pclass and get the average fare price per Pclass.  \n",
        "df_train.groupBy(\"Pclass\").mean().toPandas()"
      ]
    },
    {
      "cell_type": "code",
      "execution_count": null,
      "metadata": {
        "colab": {
          "base_uri": "https://localhost:8080/"
        },
        "id": "kC-bEOJyUTim",
        "outputId": "cbee7bb1-40d5-4efb-d9a7-418fa728796c"
      },
      "outputs": [
        {
          "output_type": "stream",
          "name": "stdout",
          "text": [
            "+------+------------------+\n",
            "|Pclass|         avg(Fare)|\n",
            "+------+------------------+\n",
            "|     1| 84.43611999999995|\n",
            "|     3| 13.31565575757576|\n",
            "|     2|19.761732799999997|\n",
            "+------+------------------+\n",
            "\n"
          ]
        }
      ],
      "source": [
        "## let's just look at the Pclass and avg(Fare)\n",
        "df_train.groupBy(\"Pclass\").mean().select('Pclass', 'avg(Fare)').show()"
      ]
    },
    {
      "cell_type": "code",
      "execution_count": null,
      "metadata": {
        "colab": {
          "base_uri": "https://localhost:8080/"
        },
        "id": "nzdUOsVbUTim",
        "outputId": "382bd47f-393d-457b-b055-5ec40f681ec7"
      },
      "outputs": [
        {
          "output_type": "stream",
          "name": "stdout",
          "text": [
            "+------+------------------+\n",
            "|Pclass|         avg(Fare)|\n",
            "+------+------------------+\n",
            "|     1| 84.43611999999995|\n",
            "|     3| 13.31565575757576|\n",
            "|     2|19.761732799999997|\n",
            "+------+------------------+\n",
            "\n"
          ]
        }
      ],
      "source": [
        "# Alternative way\n",
        "df_train.groupBy(\"Pclass\").mean(\"Fare\").show()"
      ]
    },
    {
      "cell_type": "code",
      "execution_count": null,
      "metadata": {
        "colab": {
          "base_uri": "https://localhost:8080/"
        },
        "id": "J3H-31kGUTim",
        "outputId": "e34e9847-71e8-4d28-fb54-9fb0002ee346"
      },
      "outputs": [
        {
          "output_type": "stream",
          "name": "stdout",
          "text": [
            "+------------------+\n",
            "|         avg(Fare)|\n",
            "+------------------+\n",
            "|31.846033999999975|\n",
            "+------------------+\n",
            "\n"
          ]
        }
      ],
      "source": [
        "## What if we want just the average of all fare, we can use .agg with the dataframe. \n",
        "df_train.agg({'Fare':'mean'}).show()"
      ]
    },
    {
      "cell_type": "code",
      "execution_count": null,
      "metadata": {
        "colab": {
          "base_uri": "https://localhost:8080/"
        },
        "id": "IAaB_ZK5UTim",
        "outputId": "7ca2cf0f-514a-4c56-a798-e662f535b39f"
      },
      "outputs": [
        {
          "output_type": "stream",
          "name": "stdout",
          "text": [
            "+------------------+\n",
            "|         avg(Fare)|\n",
            "+------------------+\n",
            "|31.846033999999975|\n",
            "+------------------+\n",
            "\n"
          ]
        }
      ],
      "source": [
        "## another way this can be done is by importing \"mean\" funciton from pyspark.sql.functions\n",
        "from pyspark.sql.functions import mean\n",
        "df_train.select(mean(\"Fare\")).show()"
      ]
    },
    {
      "cell_type": "code",
      "execution_count": null,
      "metadata": {
        "colab": {
          "base_uri": "https://localhost:8080/"
        },
        "id": "0gcjicuYUTim",
        "outputId": "11650474-b131-4613-dbca-230e20f6087c"
      },
      "outputs": [
        {
          "output_type": "stream",
          "name": "stdout",
          "text": [
            "+------+------------------+\n",
            "|Pclass|         avg(Fare)|\n",
            "+------+------------------+\n",
            "|     1| 84.43611999999995|\n",
            "|     3| 13.31565575757576|\n",
            "|     2|19.761732799999997|\n",
            "+------+------------------+\n",
            "\n"
          ]
        }
      ],
      "source": [
        "## we can also combine the few previous approaches to get similar results. \n",
        "temp = df_train.groupBy(\"Pclass\")\n",
        "temp.agg({\"Fare\": 'mean'}).show()"
      ]
    },
    {
      "cell_type": "code",
      "execution_count": null,
      "metadata": {
        "colab": {
          "base_uri": "https://localhost:8080/"
        },
        "id": "wC2VphQWUTin",
        "outputId": "dc8d4b67-6093-4573-e920-291af356d78a"
      },
      "outputs": [
        {
          "output_type": "stream",
          "name": "stdout",
          "text": [
            "+------+------------+\n",
            "|Pclass|average fare|\n",
            "+------+------------+\n",
            "|     1|       84.44|\n",
            "|     3|       13.32|\n",
            "|     2|       19.76|\n",
            "+------+------------+\n",
            "\n"
          ]
        }
      ],
      "source": [
        "# What if we want to format the results. \n",
        "# for example,\n",
        "# I want to rename the column. this will be accomplished using .alias() method.  \n",
        "# I want to format the number with only two decimals. this can be done using \"format_number\"\n",
        "from pyspark.sql.functions import format_number\n",
        "temp = df_train.groupBy(\"Pclass\")\n",
        "temp = temp.agg({\"Fare\": 'mean'})\n",
        "temp.select('Pclass', format_number(\"avg(Fare)\", 2).alias(\"average fare\")).show()"
      ]
    },
    {
      "cell_type": "markdown",
      "metadata": {
        "id": "avofU0qPUTin"
      },
      "source": [
        "#### OrderBy\n",
        "There are many built in functions that we can use to do orderby in spark. Let's look at some of those. "
      ]
    },
    {
      "cell_type": "code",
      "execution_count": null,
      "metadata": {
        "colab": {
          "base_uri": "https://localhost:8080/",
          "height": 824
        },
        "id": "2RInoUbCUTin",
        "outputId": "391c4967-55fe-4f76-b5d6-402fbe745075"
      },
      "outputs": [
        {
          "output_type": "execute_result",
          "data": {
            "text/plain": [
              "    PassengerId  Survived  Pclass                                  Name   Sex  \\\n",
              "0           278         0       2       \"Parkes, Mr. Francis \"\"Frank\"\"\"  male   \n",
              "1           303         0       3       Johnson, Mr. William Cahoone Jr  male   \n",
              "2           482         0       2  \"Frost, Mr. Anthony Wood \"\"Archie\"\"\"  male   \n",
              "3           180         0       3                   Leonard, Mr. Lionel  male   \n",
              "4           414         0       2        Cunningham, Mr. Alfred Fleming  male   \n",
              "5           467         0       2                 Campbell, Mr. William  male   \n",
              "6           272         1       3          Tornquist, Mr. William Henry  male   \n",
              "7           598         0       3                   Johnson, Mr. Alfred  male   \n",
              "8           264         0       1                 Harrison, Mr. William  male   \n",
              "9           379         0       3                   Betros, Mr. Tannous  male   \n",
              "10          327         0       3             Nysveen, Mr. Johan Hansen  male   \n",
              "11          372         0       3             Wiklund, Mr. Jakob Alfred  male   \n",
              "12          203         0       3            Johanson, Mr. Jakob Alfred  male   \n",
              "13          144         0       3                   Burke, Mr. Jeremiah  male   \n",
              "14          412         0       3                       Hart, Mr. Henry  male   \n",
              "15          130         0       3                    Ekstrom, Mr. Johan  male   \n",
              "16          478         0       3             Braund, Mr. Lewis Richard  male   \n",
              "17          132         0       3        Coelho, Mr. Domingos Fernandeo  male   \n",
              "18          364         0       3                       Asim, Mr. Adola  male   \n",
              "19          466         0       3       Goncalves, Mr. Manuel Estanslas  male   \n",
              "\n",
              "     Age  SibSp  Parch              Ticket    Fare Cabin Embarked  \n",
              "0    NaN      0      0              239853  0.0000  None        S  \n",
              "1   19.0      0      0                LINE  0.0000  None        S  \n",
              "2    NaN      0      0              239854  0.0000  None        S  \n",
              "3   36.0      0      0                LINE  0.0000  None        S  \n",
              "4    NaN      0      0              239853  0.0000  None        S  \n",
              "5    NaN      0      0              239853  0.0000  None        S  \n",
              "6   25.0      0      0                LINE  0.0000  None        S  \n",
              "7   49.0      0      0                LINE  0.0000  None        S  \n",
              "8   40.0      0      0              112059  0.0000   B94        S  \n",
              "9   20.0      0      0                2648  4.0125  None        C  \n",
              "10  61.0      0      0              345364  6.2375  None        S  \n",
              "11  18.0      1      0             3101267  6.4958  None        S  \n",
              "12  34.0      0      0             3101264  6.4958  None        S  \n",
              "13  19.0      0      0              365222  6.7500  None        Q  \n",
              "14   NaN      0      0              394140  6.8583  None        Q  \n",
              "15  45.0      0      0              347061  6.9750  None        S  \n",
              "16  29.0      1      0                3460  7.0458  None        S  \n",
              "17  20.0      0      0  SOTON/O.Q. 3101307  7.0500  None        S  \n",
              "18  35.0      0      0  SOTON/O.Q. 3101310  7.0500  None        S  \n",
              "19  38.0      0      0  SOTON/O.Q. 3101306  7.0500  None        S  "
            ],
            "text/html": [
              "\n",
              "  <div id=\"df-f06e756e-a268-44be-8c03-c734516eb956\">\n",
              "    <div class=\"colab-df-container\">\n",
              "      <div>\n",
              "<style scoped>\n",
              "    .dataframe tbody tr th:only-of-type {\n",
              "        vertical-align: middle;\n",
              "    }\n",
              "\n",
              "    .dataframe tbody tr th {\n",
              "        vertical-align: top;\n",
              "    }\n",
              "\n",
              "    .dataframe thead th {\n",
              "        text-align: right;\n",
              "    }\n",
              "</style>\n",
              "<table border=\"1\" class=\"dataframe\">\n",
              "  <thead>\n",
              "    <tr style=\"text-align: right;\">\n",
              "      <th></th>\n",
              "      <th>PassengerId</th>\n",
              "      <th>Survived</th>\n",
              "      <th>Pclass</th>\n",
              "      <th>Name</th>\n",
              "      <th>Sex</th>\n",
              "      <th>Age</th>\n",
              "      <th>SibSp</th>\n",
              "      <th>Parch</th>\n",
              "      <th>Ticket</th>\n",
              "      <th>Fare</th>\n",
              "      <th>Cabin</th>\n",
              "      <th>Embarked</th>\n",
              "    </tr>\n",
              "  </thead>\n",
              "  <tbody>\n",
              "    <tr>\n",
              "      <th>0</th>\n",
              "      <td>278</td>\n",
              "      <td>0</td>\n",
              "      <td>2</td>\n",
              "      <td>\"Parkes, Mr. Francis \"\"Frank\"\"\"</td>\n",
              "      <td>male</td>\n",
              "      <td>NaN</td>\n",
              "      <td>0</td>\n",
              "      <td>0</td>\n",
              "      <td>239853</td>\n",
              "      <td>0.0000</td>\n",
              "      <td>None</td>\n",
              "      <td>S</td>\n",
              "    </tr>\n",
              "    <tr>\n",
              "      <th>1</th>\n",
              "      <td>303</td>\n",
              "      <td>0</td>\n",
              "      <td>3</td>\n",
              "      <td>Johnson, Mr. William Cahoone Jr</td>\n",
              "      <td>male</td>\n",
              "      <td>19.0</td>\n",
              "      <td>0</td>\n",
              "      <td>0</td>\n",
              "      <td>LINE</td>\n",
              "      <td>0.0000</td>\n",
              "      <td>None</td>\n",
              "      <td>S</td>\n",
              "    </tr>\n",
              "    <tr>\n",
              "      <th>2</th>\n",
              "      <td>482</td>\n",
              "      <td>0</td>\n",
              "      <td>2</td>\n",
              "      <td>\"Frost, Mr. Anthony Wood \"\"Archie\"\"\"</td>\n",
              "      <td>male</td>\n",
              "      <td>NaN</td>\n",
              "      <td>0</td>\n",
              "      <td>0</td>\n",
              "      <td>239854</td>\n",
              "      <td>0.0000</td>\n",
              "      <td>None</td>\n",
              "      <td>S</td>\n",
              "    </tr>\n",
              "    <tr>\n",
              "      <th>3</th>\n",
              "      <td>180</td>\n",
              "      <td>0</td>\n",
              "      <td>3</td>\n",
              "      <td>Leonard, Mr. Lionel</td>\n",
              "      <td>male</td>\n",
              "      <td>36.0</td>\n",
              "      <td>0</td>\n",
              "      <td>0</td>\n",
              "      <td>LINE</td>\n",
              "      <td>0.0000</td>\n",
              "      <td>None</td>\n",
              "      <td>S</td>\n",
              "    </tr>\n",
              "    <tr>\n",
              "      <th>4</th>\n",
              "      <td>414</td>\n",
              "      <td>0</td>\n",
              "      <td>2</td>\n",
              "      <td>Cunningham, Mr. Alfred Fleming</td>\n",
              "      <td>male</td>\n",
              "      <td>NaN</td>\n",
              "      <td>0</td>\n",
              "      <td>0</td>\n",
              "      <td>239853</td>\n",
              "      <td>0.0000</td>\n",
              "      <td>None</td>\n",
              "      <td>S</td>\n",
              "    </tr>\n",
              "    <tr>\n",
              "      <th>5</th>\n",
              "      <td>467</td>\n",
              "      <td>0</td>\n",
              "      <td>2</td>\n",
              "      <td>Campbell, Mr. William</td>\n",
              "      <td>male</td>\n",
              "      <td>NaN</td>\n",
              "      <td>0</td>\n",
              "      <td>0</td>\n",
              "      <td>239853</td>\n",
              "      <td>0.0000</td>\n",
              "      <td>None</td>\n",
              "      <td>S</td>\n",
              "    </tr>\n",
              "    <tr>\n",
              "      <th>6</th>\n",
              "      <td>272</td>\n",
              "      <td>1</td>\n",
              "      <td>3</td>\n",
              "      <td>Tornquist, Mr. William Henry</td>\n",
              "      <td>male</td>\n",
              "      <td>25.0</td>\n",
              "      <td>0</td>\n",
              "      <td>0</td>\n",
              "      <td>LINE</td>\n",
              "      <td>0.0000</td>\n",
              "      <td>None</td>\n",
              "      <td>S</td>\n",
              "    </tr>\n",
              "    <tr>\n",
              "      <th>7</th>\n",
              "      <td>598</td>\n",
              "      <td>0</td>\n",
              "      <td>3</td>\n",
              "      <td>Johnson, Mr. Alfred</td>\n",
              "      <td>male</td>\n",
              "      <td>49.0</td>\n",
              "      <td>0</td>\n",
              "      <td>0</td>\n",
              "      <td>LINE</td>\n",
              "      <td>0.0000</td>\n",
              "      <td>None</td>\n",
              "      <td>S</td>\n",
              "    </tr>\n",
              "    <tr>\n",
              "      <th>8</th>\n",
              "      <td>264</td>\n",
              "      <td>0</td>\n",
              "      <td>1</td>\n",
              "      <td>Harrison, Mr. William</td>\n",
              "      <td>male</td>\n",
              "      <td>40.0</td>\n",
              "      <td>0</td>\n",
              "      <td>0</td>\n",
              "      <td>112059</td>\n",
              "      <td>0.0000</td>\n",
              "      <td>B94</td>\n",
              "      <td>S</td>\n",
              "    </tr>\n",
              "    <tr>\n",
              "      <th>9</th>\n",
              "      <td>379</td>\n",
              "      <td>0</td>\n",
              "      <td>3</td>\n",
              "      <td>Betros, Mr. Tannous</td>\n",
              "      <td>male</td>\n",
              "      <td>20.0</td>\n",
              "      <td>0</td>\n",
              "      <td>0</td>\n",
              "      <td>2648</td>\n",
              "      <td>4.0125</td>\n",
              "      <td>None</td>\n",
              "      <td>C</td>\n",
              "    </tr>\n",
              "    <tr>\n",
              "      <th>10</th>\n",
              "      <td>327</td>\n",
              "      <td>0</td>\n",
              "      <td>3</td>\n",
              "      <td>Nysveen, Mr. Johan Hansen</td>\n",
              "      <td>male</td>\n",
              "      <td>61.0</td>\n",
              "      <td>0</td>\n",
              "      <td>0</td>\n",
              "      <td>345364</td>\n",
              "      <td>6.2375</td>\n",
              "      <td>None</td>\n",
              "      <td>S</td>\n",
              "    </tr>\n",
              "    <tr>\n",
              "      <th>11</th>\n",
              "      <td>372</td>\n",
              "      <td>0</td>\n",
              "      <td>3</td>\n",
              "      <td>Wiklund, Mr. Jakob Alfred</td>\n",
              "      <td>male</td>\n",
              "      <td>18.0</td>\n",
              "      <td>1</td>\n",
              "      <td>0</td>\n",
              "      <td>3101267</td>\n",
              "      <td>6.4958</td>\n",
              "      <td>None</td>\n",
              "      <td>S</td>\n",
              "    </tr>\n",
              "    <tr>\n",
              "      <th>12</th>\n",
              "      <td>203</td>\n",
              "      <td>0</td>\n",
              "      <td>3</td>\n",
              "      <td>Johanson, Mr. Jakob Alfred</td>\n",
              "      <td>male</td>\n",
              "      <td>34.0</td>\n",
              "      <td>0</td>\n",
              "      <td>0</td>\n",
              "      <td>3101264</td>\n",
              "      <td>6.4958</td>\n",
              "      <td>None</td>\n",
              "      <td>S</td>\n",
              "    </tr>\n",
              "    <tr>\n",
              "      <th>13</th>\n",
              "      <td>144</td>\n",
              "      <td>0</td>\n",
              "      <td>3</td>\n",
              "      <td>Burke, Mr. Jeremiah</td>\n",
              "      <td>male</td>\n",
              "      <td>19.0</td>\n",
              "      <td>0</td>\n",
              "      <td>0</td>\n",
              "      <td>365222</td>\n",
              "      <td>6.7500</td>\n",
              "      <td>None</td>\n",
              "      <td>Q</td>\n",
              "    </tr>\n",
              "    <tr>\n",
              "      <th>14</th>\n",
              "      <td>412</td>\n",
              "      <td>0</td>\n",
              "      <td>3</td>\n",
              "      <td>Hart, Mr. Henry</td>\n",
              "      <td>male</td>\n",
              "      <td>NaN</td>\n",
              "      <td>0</td>\n",
              "      <td>0</td>\n",
              "      <td>394140</td>\n",
              "      <td>6.8583</td>\n",
              "      <td>None</td>\n",
              "      <td>Q</td>\n",
              "    </tr>\n",
              "    <tr>\n",
              "      <th>15</th>\n",
              "      <td>130</td>\n",
              "      <td>0</td>\n",
              "      <td>3</td>\n",
              "      <td>Ekstrom, Mr. Johan</td>\n",
              "      <td>male</td>\n",
              "      <td>45.0</td>\n",
              "      <td>0</td>\n",
              "      <td>0</td>\n",
              "      <td>347061</td>\n",
              "      <td>6.9750</td>\n",
              "      <td>None</td>\n",
              "      <td>S</td>\n",
              "    </tr>\n",
              "    <tr>\n",
              "      <th>16</th>\n",
              "      <td>478</td>\n",
              "      <td>0</td>\n",
              "      <td>3</td>\n",
              "      <td>Braund, Mr. Lewis Richard</td>\n",
              "      <td>male</td>\n",
              "      <td>29.0</td>\n",
              "      <td>1</td>\n",
              "      <td>0</td>\n",
              "      <td>3460</td>\n",
              "      <td>7.0458</td>\n",
              "      <td>None</td>\n",
              "      <td>S</td>\n",
              "    </tr>\n",
              "    <tr>\n",
              "      <th>17</th>\n",
              "      <td>132</td>\n",
              "      <td>0</td>\n",
              "      <td>3</td>\n",
              "      <td>Coelho, Mr. Domingos Fernandeo</td>\n",
              "      <td>male</td>\n",
              "      <td>20.0</td>\n",
              "      <td>0</td>\n",
              "      <td>0</td>\n",
              "      <td>SOTON/O.Q. 3101307</td>\n",
              "      <td>7.0500</td>\n",
              "      <td>None</td>\n",
              "      <td>S</td>\n",
              "    </tr>\n",
              "    <tr>\n",
              "      <th>18</th>\n",
              "      <td>364</td>\n",
              "      <td>0</td>\n",
              "      <td>3</td>\n",
              "      <td>Asim, Mr. Adola</td>\n",
              "      <td>male</td>\n",
              "      <td>35.0</td>\n",
              "      <td>0</td>\n",
              "      <td>0</td>\n",
              "      <td>SOTON/O.Q. 3101310</td>\n",
              "      <td>7.0500</td>\n",
              "      <td>None</td>\n",
              "      <td>S</td>\n",
              "    </tr>\n",
              "    <tr>\n",
              "      <th>19</th>\n",
              "      <td>466</td>\n",
              "      <td>0</td>\n",
              "      <td>3</td>\n",
              "      <td>Goncalves, Mr. Manuel Estanslas</td>\n",
              "      <td>male</td>\n",
              "      <td>38.0</td>\n",
              "      <td>0</td>\n",
              "      <td>0</td>\n",
              "      <td>SOTON/O.Q. 3101306</td>\n",
              "      <td>7.0500</td>\n",
              "      <td>None</td>\n",
              "      <td>S</td>\n",
              "    </tr>\n",
              "  </tbody>\n",
              "</table>\n",
              "</div>\n",
              "      <button class=\"colab-df-convert\" onclick=\"convertToInteractive('df-f06e756e-a268-44be-8c03-c734516eb956')\"\n",
              "              title=\"Convert this dataframe to an interactive table.\"\n",
              "              style=\"display:none;\">\n",
              "        \n",
              "  <svg xmlns=\"http://www.w3.org/2000/svg\" height=\"24px\"viewBox=\"0 0 24 24\"\n",
              "       width=\"24px\">\n",
              "    <path d=\"M0 0h24v24H0V0z\" fill=\"none\"/>\n",
              "    <path d=\"M18.56 5.44l.94 2.06.94-2.06 2.06-.94-2.06-.94-.94-2.06-.94 2.06-2.06.94zm-11 1L8.5 8.5l.94-2.06 2.06-.94-2.06-.94L8.5 2.5l-.94 2.06-2.06.94zm10 10l.94 2.06.94-2.06 2.06-.94-2.06-.94-.94-2.06-.94 2.06-2.06.94z\"/><path d=\"M17.41 7.96l-1.37-1.37c-.4-.4-.92-.59-1.43-.59-.52 0-1.04.2-1.43.59L10.3 9.45l-7.72 7.72c-.78.78-.78 2.05 0 2.83L4 21.41c.39.39.9.59 1.41.59.51 0 1.02-.2 1.41-.59l7.78-7.78 2.81-2.81c.8-.78.8-2.07 0-2.86zM5.41 20L4 18.59l7.72-7.72 1.47 1.35L5.41 20z\"/>\n",
              "  </svg>\n",
              "      </button>\n",
              "      \n",
              "  <style>\n",
              "    .colab-df-container {\n",
              "      display:flex;\n",
              "      flex-wrap:wrap;\n",
              "      gap: 12px;\n",
              "    }\n",
              "\n",
              "    .colab-df-convert {\n",
              "      background-color: #E8F0FE;\n",
              "      border: none;\n",
              "      border-radius: 50%;\n",
              "      cursor: pointer;\n",
              "      display: none;\n",
              "      fill: #1967D2;\n",
              "      height: 32px;\n",
              "      padding: 0 0 0 0;\n",
              "      width: 32px;\n",
              "    }\n",
              "\n",
              "    .colab-df-convert:hover {\n",
              "      background-color: #E2EBFA;\n",
              "      box-shadow: 0px 1px 2px rgba(60, 64, 67, 0.3), 0px 1px 3px 1px rgba(60, 64, 67, 0.15);\n",
              "      fill: #174EA6;\n",
              "    }\n",
              "\n",
              "    [theme=dark] .colab-df-convert {\n",
              "      background-color: #3B4455;\n",
              "      fill: #D2E3FC;\n",
              "    }\n",
              "\n",
              "    [theme=dark] .colab-df-convert:hover {\n",
              "      background-color: #434B5C;\n",
              "      box-shadow: 0px 1px 3px 1px rgba(0, 0, 0, 0.15);\n",
              "      filter: drop-shadow(0px 1px 2px rgba(0, 0, 0, 0.3));\n",
              "      fill: #FFFFFF;\n",
              "    }\n",
              "  </style>\n",
              "\n",
              "      <script>\n",
              "        const buttonEl =\n",
              "          document.querySelector('#df-f06e756e-a268-44be-8c03-c734516eb956 button.colab-df-convert');\n",
              "        buttonEl.style.display =\n",
              "          google.colab.kernel.accessAllowed ? 'block' : 'none';\n",
              "\n",
              "        async function convertToInteractive(key) {\n",
              "          const element = document.querySelector('#df-f06e756e-a268-44be-8c03-c734516eb956');\n",
              "          const dataTable =\n",
              "            await google.colab.kernel.invokeFunction('convertToInteractive',\n",
              "                                                     [key], {});\n",
              "          if (!dataTable) return;\n",
              "\n",
              "          const docLinkHtml = 'Like what you see? Visit the ' +\n",
              "            '<a target=\"_blank\" href=https://colab.research.google.com/notebooks/data_table.ipynb>data table notebook</a>'\n",
              "            + ' to learn more about interactive tables.';\n",
              "          element.innerHTML = '';\n",
              "          dataTable['output_type'] = 'display_data';\n",
              "          await google.colab.output.renderOutput(dataTable, element);\n",
              "          const docLink = document.createElement('div');\n",
              "          docLink.innerHTML = docLinkHtml;\n",
              "          element.appendChild(docLink);\n",
              "        }\n",
              "      </script>\n",
              "    </div>\n",
              "  </div>\n",
              "  "
            ]
          },
          "metadata": {},
          "execution_count": 262
        }
      ],
      "source": [
        "## What if I want to order by Fare in ascending order. \n",
        "df_train.orderBy(\"Fare\").limit(20).toPandas()"
      ]
    },
    {
      "cell_type": "code",
      "execution_count": null,
      "metadata": {
        "colab": {
          "base_uri": "https://localhost:8080/"
        },
        "id": "sx0O7JcGUTin",
        "outputId": "38e6ceaa-f1aa-4b9b-8be5-752ed56b3e4a"
      },
      "outputs": [
        {
          "output_type": "stream",
          "name": "stdout",
          "text": [
            "+-----------+--------+------+--------------------+----+----+-----+-----+------------------+------+-----+--------+\n",
            "|PassengerId|Survived|Pclass|                Name| Sex| Age|SibSp|Parch|            Ticket|  Fare|Cabin|Embarked|\n",
            "+-----------+--------+------+--------------------+----+----+-----+-----+------------------+------+-----+--------+\n",
            "|        278|       0|     2|\"Parkes, Mr. Fran...|male|null|    0|    0|            239853|   0.0| null|       S|\n",
            "|        180|       0|     3| Leonard, Mr. Lionel|male|36.0|    0|    0|              LINE|   0.0| null|       S|\n",
            "|        272|       1|     3|Tornquist, Mr. Wi...|male|25.0|    0|    0|              LINE|   0.0| null|       S|\n",
            "|        414|       0|     2|Cunningham, Mr. A...|male|null|    0|    0|            239853|   0.0| null|       S|\n",
            "|        467|       0|     2|Campbell, Mr. Wil...|male|null|    0|    0|            239853|   0.0| null|       S|\n",
            "|        264|       0|     1|Harrison, Mr. Wil...|male|40.0|    0|    0|            112059|   0.0|  B94|       S|\n",
            "|        598|       0|     3| Johnson, Mr. Alfred|male|49.0|    0|    0|              LINE|   0.0| null|       S|\n",
            "|        482|       0|     2|\"Frost, Mr. Antho...|male|null|    0|    0|            239854|   0.0| null|       S|\n",
            "|        303|       0|     3|Johnson, Mr. Will...|male|19.0|    0|    0|              LINE|   0.0| null|       S|\n",
            "|        379|       0|     3| Betros, Mr. Tannous|male|20.0|    0|    0|              2648|4.0125| null|       C|\n",
            "|        327|       0|     3|Nysveen, Mr. Joha...|male|61.0|    0|    0|            345364|6.2375| null|       S|\n",
            "|        372|       0|     3|Wiklund, Mr. Jako...|male|18.0|    1|    0|           3101267|6.4958| null|       S|\n",
            "|        203|       0|     3|Johanson, Mr. Jak...|male|34.0|    0|    0|           3101264|6.4958| null|       S|\n",
            "|        144|       0|     3| Burke, Mr. Jeremiah|male|19.0|    0|    0|            365222|  6.75| null|       Q|\n",
            "|        412|       0|     3|     Hart, Mr. Henry|male|null|    0|    0|            394140|6.8583| null|       Q|\n",
            "|        130|       0|     3|  Ekstrom, Mr. Johan|male|45.0|    0|    0|            347061| 6.975| null|       S|\n",
            "|        478|       0|     3|Braund, Mr. Lewis...|male|29.0|    1|    0|              3460|7.0458| null|       S|\n",
            "|        132|       0|     3|Coelho, Mr. Domin...|male|20.0|    0|    0|SOTON/O.Q. 3101307|  7.05| null|       S|\n",
            "|        364|       0|     3|     Asim, Mr. Adola|male|35.0|    0|    0|SOTON/O.Q. 3101310|  7.05| null|       S|\n",
            "|        466|       0|     3|Goncalves, Mr. Ma...|male|38.0|    0|    0|SOTON/O.Q. 3101306|  7.05| null|       S|\n",
            "+-----------+--------+------+--------------------+----+----+-----+-----+------------------+------+-----+--------+\n",
            "only showing top 20 rows\n",
            "\n"
          ]
        }
      ],
      "source": [
        "# similarly\n",
        "df_train.orderBy(df_train.Fare.asc()).show()"
      ]
    },
    {
      "cell_type": "code",
      "execution_count": null,
      "metadata": {
        "colab": {
          "base_uri": "https://localhost:8080/"
        },
        "id": "sYtuA099UTin",
        "outputId": "75ff1a76-7b6f-456f-f7d7-20caefd40075"
      },
      "outputs": [
        {
          "output_type": "stream",
          "name": "stdout",
          "text": [
            "+-----------+--------+------+--------------------+------+----+-----+-----+--------+--------+-----------+--------+\n",
            "|PassengerId|Survived|Pclass|                Name|   Sex| Age|SibSp|Parch|  Ticket|    Fare|      Cabin|Embarked|\n",
            "+-----------+--------+------+--------------------+------+----+-----+-----+--------+--------+-----------+--------+\n",
            "|        259|       1|     1|    Ward, Miss. Anna|female|35.0|    0|    0|PC 17755|512.3292|       null|       C|\n",
            "|         89|       1|     1|Fortune, Miss. Ma...|female|23.0|    3|    2|   19950|   263.0|C23 C25 C27|       S|\n",
            "|         28|       0|     1|Fortune, Mr. Char...|  male|19.0|    3|    2|   19950|   263.0|C23 C25 C27|       S|\n",
            "|        342|       1|     1|Fortune, Miss. Al...|female|24.0|    3|    2|   19950|   263.0|C23 C25 C27|       S|\n",
            "|        439|       0|     1|   Fortune, Mr. Mark|  male|64.0|    1|    4|   19950|   263.0|C23 C25 C27|       S|\n",
            "+-----------+--------+------+--------------------+------+----+-----+-----+--------+--------+-----------+--------+\n",
            "\n"
          ]
        }
      ],
      "source": [
        "# What about descending order\n",
        "# df.orderBy(df['Fare'].desc()).limit(5).show()\n",
        "# dot notation\n",
        "df_train.orderBy(df_train.Fare.desc()).limit(5).show()"
      ]
    },
    {
      "cell_type": "code",
      "execution_count": null,
      "metadata": {
        "colab": {
          "base_uri": "https://localhost:8080/"
        },
        "id": "2aXQz2kGUTin",
        "outputId": "fbd1e069-3eb6-485f-a0ce-21249ff19e30"
      },
      "outputs": [
        {
          "output_type": "execute_result",
          "data": {
            "text/plain": [
              "1"
            ]
          },
          "metadata": {},
          "execution_count": 265
        }
      ],
      "source": [
        "df_train.filter(df_train.Embarked.isNull()).count()"
      ]
    },
    {
      "cell_type": "code",
      "execution_count": null,
      "metadata": {
        "colab": {
          "base_uri": "https://localhost:8080/"
        },
        "id": "TeE05vmsUTio",
        "outputId": "6e46d895-22b8-4639-a108-57555a137fa0"
      },
      "outputs": [
        {
          "output_type": "stream",
          "name": "stdout",
          "text": [
            "+-----------+--------+\n",
            "|PassengerID|Embarked|\n",
            "+-----------+--------+\n",
            "|         62|    null|\n",
            "|        204|       C|\n",
            "|         66|       C|\n",
            "|         74|       C|\n",
            "|         31|       C|\n",
            "|         97|       C|\n",
            "|         65|       C|\n",
            "|         98|       C|\n",
            "|         53|       C|\n",
            "|        112|       C|\n",
            "|         35|       C|\n",
            "|        115|       C|\n",
            "|         40|       C|\n",
            "|        119|       C|\n",
            "|         44|       C|\n",
            "|        123|       C|\n",
            "|        126|       C|\n",
            "|         58|       C|\n",
            "|        129|       C|\n",
            "|          2|       C|\n",
            "+-----------+--------+\n",
            "only showing top 20 rows\n",
            "\n"
          ]
        }
      ],
      "source": [
        "df_train.select('PassengerID','Embarked').orderBy(df_train.Embarked.asc_nulls_first()).show()"
      ]
    },
    {
      "cell_type": "code",
      "execution_count": null,
      "metadata": {
        "colab": {
          "base_uri": "https://localhost:8080/"
        },
        "id": "osXDEE7aUTio",
        "outputId": "edebfc42-7bbc-40e3-90ea-881497b72863"
      },
      "outputs": [
        {
          "output_type": "execute_result",
          "data": {
            "text/plain": [
              "[Row(PassengerID=595, Embarked='S'),\n",
              " Row(PassengerID=596, Embarked='S'),\n",
              " Row(PassengerID=597, Embarked='S'),\n",
              " Row(PassengerID=598, Embarked='S'),\n",
              " Row(PassengerID=62, Embarked=None)]"
            ]
          },
          "metadata": {},
          "execution_count": 267
        }
      ],
      "source": [
        "df_train.select('PassengerID','Embarked').orderBy(df_train.Embarked.asc_nulls_last()).tail(5)"
      ]
    },
    {
      "cell_type": "code",
      "execution_count": null,
      "metadata": {
        "colab": {
          "base_uri": "https://localhost:8080/",
          "height": 285
        },
        "id": "GNG_xUfmUTio",
        "outputId": "2dec7c0e-9782-4012-f65c-25a93c12ae23"
      },
      "outputs": [
        {
          "output_type": "execute_result",
          "data": {
            "text/plain": [
              "   PassengerId  Survived  Pclass  \\\n",
              "0            2         1       1   \n",
              "1            4         1       1   \n",
              "2            7         0       1   \n",
              "3           11         1       3   \n",
              "4           12         1       1   \n",
              "\n",
              "                                                Name     Sex   Age  SibSp  \\\n",
              "0  Cumings, Mrs. John Bradley (Florence Briggs Th...  female  38.0      1   \n",
              "1       Futrelle, Mrs. Jacques Heath (Lily May Peel)  female  35.0      1   \n",
              "2                            McCarthy, Mr. Timothy J    male  54.0      0   \n",
              "3                    Sandstrom, Miss. Marguerite Rut  female   4.0      1   \n",
              "4                           Bonnell, Miss. Elizabeth  female  58.0      0   \n",
              "\n",
              "   Parch    Ticket     Fare Cabin Embarked  \n",
              "0      0  PC 17599  71.2833   C85        C  \n",
              "1      0    113803  53.1000  C123        S  \n",
              "2      0     17463  51.8625   E46        S  \n",
              "3      1   PP 9549  16.7000    G6        S  \n",
              "4      0    113783  26.5500  C103        S  "
            ],
            "text/html": [
              "\n",
              "  <div id=\"df-105b2cfe-99a3-41d2-8d8c-3cc40ccb2ba3\">\n",
              "    <div class=\"colab-df-container\">\n",
              "      <div>\n",
              "<style scoped>\n",
              "    .dataframe tbody tr th:only-of-type {\n",
              "        vertical-align: middle;\n",
              "    }\n",
              "\n",
              "    .dataframe tbody tr th {\n",
              "        vertical-align: top;\n",
              "    }\n",
              "\n",
              "    .dataframe thead th {\n",
              "        text-align: right;\n",
              "    }\n",
              "</style>\n",
              "<table border=\"1\" class=\"dataframe\">\n",
              "  <thead>\n",
              "    <tr style=\"text-align: right;\">\n",
              "      <th></th>\n",
              "      <th>PassengerId</th>\n",
              "      <th>Survived</th>\n",
              "      <th>Pclass</th>\n",
              "      <th>Name</th>\n",
              "      <th>Sex</th>\n",
              "      <th>Age</th>\n",
              "      <th>SibSp</th>\n",
              "      <th>Parch</th>\n",
              "      <th>Ticket</th>\n",
              "      <th>Fare</th>\n",
              "      <th>Cabin</th>\n",
              "      <th>Embarked</th>\n",
              "    </tr>\n",
              "  </thead>\n",
              "  <tbody>\n",
              "    <tr>\n",
              "      <th>0</th>\n",
              "      <td>2</td>\n",
              "      <td>1</td>\n",
              "      <td>1</td>\n",
              "      <td>Cumings, Mrs. John Bradley (Florence Briggs Th...</td>\n",
              "      <td>female</td>\n",
              "      <td>38.0</td>\n",
              "      <td>1</td>\n",
              "      <td>0</td>\n",
              "      <td>PC 17599</td>\n",
              "      <td>71.2833</td>\n",
              "      <td>C85</td>\n",
              "      <td>C</td>\n",
              "    </tr>\n",
              "    <tr>\n",
              "      <th>1</th>\n",
              "      <td>4</td>\n",
              "      <td>1</td>\n",
              "      <td>1</td>\n",
              "      <td>Futrelle, Mrs. Jacques Heath (Lily May Peel)</td>\n",
              "      <td>female</td>\n",
              "      <td>35.0</td>\n",
              "      <td>1</td>\n",
              "      <td>0</td>\n",
              "      <td>113803</td>\n",
              "      <td>53.1000</td>\n",
              "      <td>C123</td>\n",
              "      <td>S</td>\n",
              "    </tr>\n",
              "    <tr>\n",
              "      <th>2</th>\n",
              "      <td>7</td>\n",
              "      <td>0</td>\n",
              "      <td>1</td>\n",
              "      <td>McCarthy, Mr. Timothy J</td>\n",
              "      <td>male</td>\n",
              "      <td>54.0</td>\n",
              "      <td>0</td>\n",
              "      <td>0</td>\n",
              "      <td>17463</td>\n",
              "      <td>51.8625</td>\n",
              "      <td>E46</td>\n",
              "      <td>S</td>\n",
              "    </tr>\n",
              "    <tr>\n",
              "      <th>3</th>\n",
              "      <td>11</td>\n",
              "      <td>1</td>\n",
              "      <td>3</td>\n",
              "      <td>Sandstrom, Miss. Marguerite Rut</td>\n",
              "      <td>female</td>\n",
              "      <td>4.0</td>\n",
              "      <td>1</td>\n",
              "      <td>1</td>\n",
              "      <td>PP 9549</td>\n",
              "      <td>16.7000</td>\n",
              "      <td>G6</td>\n",
              "      <td>S</td>\n",
              "    </tr>\n",
              "    <tr>\n",
              "      <th>4</th>\n",
              "      <td>12</td>\n",
              "      <td>1</td>\n",
              "      <td>1</td>\n",
              "      <td>Bonnell, Miss. Elizabeth</td>\n",
              "      <td>female</td>\n",
              "      <td>58.0</td>\n",
              "      <td>0</td>\n",
              "      <td>0</td>\n",
              "      <td>113783</td>\n",
              "      <td>26.5500</td>\n",
              "      <td>C103</td>\n",
              "      <td>S</td>\n",
              "    </tr>\n",
              "  </tbody>\n",
              "</table>\n",
              "</div>\n",
              "      <button class=\"colab-df-convert\" onclick=\"convertToInteractive('df-105b2cfe-99a3-41d2-8d8c-3cc40ccb2ba3')\"\n",
              "              title=\"Convert this dataframe to an interactive table.\"\n",
              "              style=\"display:none;\">\n",
              "        \n",
              "  <svg xmlns=\"http://www.w3.org/2000/svg\" height=\"24px\"viewBox=\"0 0 24 24\"\n",
              "       width=\"24px\">\n",
              "    <path d=\"M0 0h24v24H0V0z\" fill=\"none\"/>\n",
              "    <path d=\"M18.56 5.44l.94 2.06.94-2.06 2.06-.94-2.06-.94-.94-2.06-.94 2.06-2.06.94zm-11 1L8.5 8.5l.94-2.06 2.06-.94-2.06-.94L8.5 2.5l-.94 2.06-2.06.94zm10 10l.94 2.06.94-2.06 2.06-.94-2.06-.94-.94-2.06-.94 2.06-2.06.94z\"/><path d=\"M17.41 7.96l-1.37-1.37c-.4-.4-.92-.59-1.43-.59-.52 0-1.04.2-1.43.59L10.3 9.45l-7.72 7.72c-.78.78-.78 2.05 0 2.83L4 21.41c.39.39.9.59 1.41.59.51 0 1.02-.2 1.41-.59l7.78-7.78 2.81-2.81c.8-.78.8-2.07 0-2.86zM5.41 20L4 18.59l7.72-7.72 1.47 1.35L5.41 20z\"/>\n",
              "  </svg>\n",
              "      </button>\n",
              "      \n",
              "  <style>\n",
              "    .colab-df-container {\n",
              "      display:flex;\n",
              "      flex-wrap:wrap;\n",
              "      gap: 12px;\n",
              "    }\n",
              "\n",
              "    .colab-df-convert {\n",
              "      background-color: #E8F0FE;\n",
              "      border: none;\n",
              "      border-radius: 50%;\n",
              "      cursor: pointer;\n",
              "      display: none;\n",
              "      fill: #1967D2;\n",
              "      height: 32px;\n",
              "      padding: 0 0 0 0;\n",
              "      width: 32px;\n",
              "    }\n",
              "\n",
              "    .colab-df-convert:hover {\n",
              "      background-color: #E2EBFA;\n",
              "      box-shadow: 0px 1px 2px rgba(60, 64, 67, 0.3), 0px 1px 3px 1px rgba(60, 64, 67, 0.15);\n",
              "      fill: #174EA6;\n",
              "    }\n",
              "\n",
              "    [theme=dark] .colab-df-convert {\n",
              "      background-color: #3B4455;\n",
              "      fill: #D2E3FC;\n",
              "    }\n",
              "\n",
              "    [theme=dark] .colab-df-convert:hover {\n",
              "      background-color: #434B5C;\n",
              "      box-shadow: 0px 1px 3px 1px rgba(0, 0, 0, 0.15);\n",
              "      filter: drop-shadow(0px 1px 2px rgba(0, 0, 0, 0.3));\n",
              "      fill: #FFFFFF;\n",
              "    }\n",
              "  </style>\n",
              "\n",
              "      <script>\n",
              "        const buttonEl =\n",
              "          document.querySelector('#df-105b2cfe-99a3-41d2-8d8c-3cc40ccb2ba3 button.colab-df-convert');\n",
              "        buttonEl.style.display =\n",
              "          google.colab.kernel.accessAllowed ? 'block' : 'none';\n",
              "\n",
              "        async function convertToInteractive(key) {\n",
              "          const element = document.querySelector('#df-105b2cfe-99a3-41d2-8d8c-3cc40ccb2ba3');\n",
              "          const dataTable =\n",
              "            await google.colab.kernel.invokeFunction('convertToInteractive',\n",
              "                                                     [key], {});\n",
              "          if (!dataTable) return;\n",
              "\n",
              "          const docLinkHtml = 'Like what you see? Visit the ' +\n",
              "            '<a target=\"_blank\" href=https://colab.research.google.com/notebooks/data_table.ipynb>data table notebook</a>'\n",
              "            + ' to learn more about interactive tables.';\n",
              "          element.innerHTML = '';\n",
              "          dataTable['output_type'] = 'display_data';\n",
              "          await google.colab.output.renderOutput(dataTable, element);\n",
              "          const docLink = document.createElement('div');\n",
              "          docLink.innerHTML = docLinkHtml;\n",
              "          element.appendChild(docLink);\n",
              "        }\n",
              "      </script>\n",
              "    </div>\n",
              "  </div>\n",
              "  "
            ]
          },
          "metadata": {},
          "execution_count": 268
        }
      ],
      "source": [
        "## How do we deal with missing values. \n",
        "# df.na.drop(how=(\"any\"/\"all\"), thresh=(1,2,3,4,5...))\n",
        "df_train.na.drop(how=\"any\").limit(5).toPandas()"
      ]
    },
    {
      "cell_type": "markdown",
      "source": [],
      "metadata": {
        "id": "WaPdbKB5BakG"
      }
    },
    {
      "cell_type": "markdown",
      "metadata": {
        "id": "IYROXU43UTio"
      },
      "source": [
        "# Advanced Tutorial\n"
      ]
    },
    {
      "cell_type": "markdown",
      "metadata": {
        "id": "DxJEmdqAUTio"
      },
      "source": [
        "### Spark Catalog"
      ]
    },
    {
      "cell_type": "code",
      "execution_count": null,
      "metadata": {
        "id": "sEh1md8iUTio"
      },
      "outputs": [],
      "source": [
        "# If you have used Spark for a while now, this is a good time to learn about spark Catalog.\n",
        "# you can also totally skip this section since it is totally independed of what follows."
      ]
    },
    {
      "cell_type": "code",
      "execution_count": null,
      "metadata": {
        "colab": {
          "base_uri": "https://localhost:8080/"
        },
        "id": "cz-D9jU_UTio",
        "outputId": "eb549149-a919-431a-c1b6-dc5aff080751"
      },
      "outputs": [
        {
          "output_type": "execute_result",
          "data": {
            "text/plain": [
              "[Database(name='default', description='default database', locationUri='file:/content/spark-warehouse')]"
            ]
          },
          "metadata": {},
          "execution_count": 270
        }
      ],
      "source": [
        "# get all the databases in the database. \n",
        "spark.catalog.listDatabases()"
      ]
    },
    {
      "cell_type": "code",
      "execution_count": null,
      "metadata": {
        "colab": {
          "base_uri": "https://localhost:8080/",
          "height": 36
        },
        "id": "xhMh1ls5UTio",
        "outputId": "472f7f62-f9b5-46f6-c8e4-7ba856fc462c"
      },
      "outputs": [
        {
          "output_type": "execute_result",
          "data": {
            "text/plain": [
              "'default'"
            ],
            "application/vnd.google.colaboratory.intrinsic+json": {
              "type": "string"
            }
          },
          "metadata": {},
          "execution_count": 271
        }
      ],
      "source": [
        "# get the name of the current database\n",
        "spark.catalog.currentDatabase()"
      ]
    },
    {
      "cell_type": "code",
      "execution_count": null,
      "metadata": {
        "colab": {
          "base_uri": "https://localhost:8080/"
        },
        "id": "QU7cQKdoUTip",
        "outputId": "2a4f68fe-6cdc-4477-d61a-1cbe0679b81b"
      },
      "outputs": [
        {
          "output_type": "execute_result",
          "data": {
            "text/plain": [
              "[Table(name='df_test', database=None, description=None, tableType='TEMPORARY', isTemporary=True),\n",
              " Table(name='mytable', database=None, description=None, tableType='TEMPORARY', isTemporary=True)]"
            ]
          },
          "metadata": {},
          "execution_count": 272
        }
      ],
      "source": [
        "## lists tables\n",
        "spark.catalog.listTables()"
      ]
    },
    {
      "cell_type": "code",
      "execution_count": null,
      "metadata": {
        "id": "XSH4dg69UTip"
      },
      "outputs": [],
      "source": [
        "# add a table to the catalog\n",
        "df_train.createOrReplaceTempView(\"df_train\")"
      ]
    },
    {
      "cell_type": "code",
      "execution_count": null,
      "metadata": {
        "colab": {
          "base_uri": "https://localhost:8080/"
        },
        "id": "qvsunqnHUTip",
        "outputId": "cbb66624-21c8-4bbd-d210-dcee3012ed5c"
      },
      "outputs": [
        {
          "output_type": "execute_result",
          "data": {
            "text/plain": [
              "[Table(name='df_test', database=None, description=None, tableType='TEMPORARY', isTemporary=True),\n",
              " Table(name='df_train', database=None, description=None, tableType='TEMPORARY', isTemporary=True),\n",
              " Table(name='mytable', database=None, description=None, tableType='TEMPORARY', isTemporary=True)]"
            ]
          },
          "metadata": {},
          "execution_count": 274
        }
      ],
      "source": [
        "# list tables\n",
        "spark.catalog.listTables()"
      ]
    },
    {
      "cell_type": "code",
      "execution_count": null,
      "metadata": {
        "id": "GsgnwCbyUTip"
      },
      "outputs": [],
      "source": [
        "# Caching\n",
        "# cached table \"df_train\"\n",
        "spark.catalog.cacheTable(\"df_train\")"
      ]
    },
    {
      "cell_type": "code",
      "execution_count": null,
      "metadata": {
        "colab": {
          "base_uri": "https://localhost:8080/"
        },
        "id": "K-KNPBSRUTip",
        "outputId": "773f79ac-8bc6-4f6c-e34f-8b292d736044"
      },
      "outputs": [
        {
          "output_type": "execute_result",
          "data": {
            "text/plain": [
              "True"
            ]
          },
          "metadata": {},
          "execution_count": 276
        }
      ],
      "source": [
        "# checks if the table is cached\n",
        "spark.catalog.isCached(\"df_train\")"
      ]
    },
    {
      "cell_type": "code",
      "execution_count": null,
      "metadata": {
        "colab": {
          "base_uri": "https://localhost:8080/"
        },
        "id": "lrENR_IhUTip",
        "outputId": "f5ab2681-e33f-4655-8841-cdeb7c8a4f01"
      },
      "outputs": [
        {
          "output_type": "execute_result",
          "data": {
            "text/plain": [
              "False"
            ]
          },
          "metadata": {},
          "execution_count": 277
        }
      ],
      "source": [
        "spark.catalog.isCached(\"df_test\")"
      ]
    },
    {
      "cell_type": "code",
      "execution_count": null,
      "metadata": {
        "id": "-E5bjDAmUTip"
      },
      "outputs": [],
      "source": [
        "# lets cahche df_test as well\n",
        "spark.catalog.cacheTable(\"df_test\")"
      ]
    },
    {
      "cell_type": "code",
      "execution_count": null,
      "metadata": {
        "colab": {
          "base_uri": "https://localhost:8080/"
        },
        "id": "oW9gWQyiUTip",
        "outputId": "46547363-abd7-4d06-eee5-3dea37487d59"
      },
      "outputs": [
        {
          "output_type": "execute_result",
          "data": {
            "text/plain": [
              "True"
            ]
          },
          "metadata": {},
          "execution_count": 279
        }
      ],
      "source": [
        "spark.catalog.isCached(\"df_test\")"
      ]
    },
    {
      "cell_type": "code",
      "execution_count": null,
      "metadata": {
        "id": "FoWzagtAUTiq"
      },
      "outputs": [],
      "source": [
        "# let's uncache df_train\n",
        "spark.catalog.uncacheTable(\"df_train\")"
      ]
    },
    {
      "cell_type": "code",
      "execution_count": null,
      "metadata": {
        "colab": {
          "base_uri": "https://localhost:8080/"
        },
        "id": "Q8e7wp9EUTiq",
        "outputId": "a44325f6-48a3-4d59-8bce-a416da559cb2"
      },
      "outputs": [
        {
          "output_type": "execute_result",
          "data": {
            "text/plain": [
              "False"
            ]
          },
          "metadata": {},
          "execution_count": 281
        }
      ],
      "source": [
        "spark.catalog.isCached(\"df_train\")"
      ]
    },
    {
      "cell_type": "code",
      "execution_count": null,
      "metadata": {
        "colab": {
          "base_uri": "https://localhost:8080/"
        },
        "id": "HuFI_7VNUTiq",
        "outputId": "5e9b2f2d-8ce6-400f-d061-1e7e288806f6"
      },
      "outputs": [
        {
          "output_type": "execute_result",
          "data": {
            "text/plain": [
              "True"
            ]
          },
          "metadata": {},
          "execution_count": 282
        }
      ],
      "source": [
        "spark.catalog.isCached(\"df_test\")"
      ]
    },
    {
      "cell_type": "code",
      "execution_count": null,
      "metadata": {
        "id": "M0m7VEAEUTiq"
      },
      "outputs": [],
      "source": [
        "# How about clearing all cached tables at once. \n",
        "spark.catalog.clearCache()"
      ]
    },
    {
      "cell_type": "code",
      "execution_count": null,
      "metadata": {
        "colab": {
          "base_uri": "https://localhost:8080/"
        },
        "id": "9dCUjcxrUTiq",
        "outputId": "4cb22780-8961-4ee0-cfb4-344e10389e9b"
      },
      "outputs": [
        {
          "output_type": "execute_result",
          "data": {
            "text/plain": [
              "False"
            ]
          },
          "metadata": {},
          "execution_count": 284
        }
      ],
      "source": [
        "spark.catalog.isCached(\"df_train\")"
      ]
    },
    {
      "cell_type": "code",
      "execution_count": null,
      "metadata": {
        "id": "XKYT6cIIUTiq"
      },
      "outputs": [],
      "source": [
        "# creating a global temp view\n",
        "df_train.createGlobalTempView(\"df_train\")"
      ]
    },
    {
      "cell_type": "code",
      "execution_count": null,
      "metadata": {
        "colab": {
          "base_uri": "https://localhost:8080/"
        },
        "id": "y_T7DpKvUTiq",
        "outputId": "935fe939-ccba-4179-de3a-ffac4217c375"
      },
      "outputs": [
        {
          "output_type": "stream",
          "name": "stdout",
          "text": [
            "+-----------+--------+-----------+\n",
            "|  namespace|viewName|isTemporary|\n",
            "+-----------+--------+-----------+\n",
            "|global_temp|df_train|       true|\n",
            "|           | df_test|       true|\n",
            "|           |df_train|       true|\n",
            "|           | mytable|       true|\n",
            "+-----------+--------+-----------+\n",
            "\n"
          ]
        }
      ],
      "source": [
        "# listing all views in global_temp\n",
        "spark.sql(\"SHOW VIEWS IN global_temp;\").show()"
      ]
    },
    {
      "cell_type": "code",
      "execution_count": null,
      "metadata": {
        "colab": {
          "base_uri": "https://localhost:8080/"
        },
        "id": "Y5idzW9UUTiq",
        "outputId": "b74c38c7-9933-4001-b848-82455bad9e52"
      },
      "outputs": [
        {
          "output_type": "execute_result",
          "data": {
            "text/plain": [
              "True"
            ]
          },
          "metadata": {},
          "execution_count": 287
        }
      ],
      "source": [
        "# dropping a table. \n",
        "spark.catalog.dropGlobalTempView(\"df_train\")"
      ]
    },
    {
      "cell_type": "code",
      "execution_count": null,
      "metadata": {
        "colab": {
          "base_uri": "https://localhost:8080/"
        },
        "id": "-oXnvZ4xUTir",
        "outputId": "f7444b37-cddd-43e9-8b13-1d127a2240ee"
      },
      "outputs": [
        {
          "output_type": "stream",
          "name": "stdout",
          "text": [
            "+---------+--------+-----------+\n",
            "|namespace|viewName|isTemporary|\n",
            "+---------+--------+-----------+\n",
            "|         | df_test|       true|\n",
            "|         |df_train|       true|\n",
            "|         | mytable|       true|\n",
            "+---------+--------+-----------+\n",
            "\n"
          ]
        }
      ],
      "source": [
        "# checking that global temp view is dropped.\n",
        "spark.sql(\"SHOW VIEWS IN global_temp;\").show()"
      ]
    },
    {
      "cell_type": "code",
      "execution_count": null,
      "metadata": {
        "colab": {
          "base_uri": "https://localhost:8080/"
        },
        "id": "IXoJ2BIgUTir",
        "outputId": "418a0908-a63e-4884-bbf3-1d9f195f8ee8"
      },
      "outputs": [
        {
          "output_type": "execute_result",
          "data": {
            "text/plain": [
              "True"
            ]
          },
          "metadata": {},
          "execution_count": 289
        }
      ],
      "source": [
        "spark.catalog.dropTempView(\"df_train\")"
      ]
    },
    {
      "cell_type": "code",
      "execution_count": null,
      "metadata": {
        "colab": {
          "base_uri": "https://localhost:8080/"
        },
        "id": "3Jw3EEVpUTir",
        "outputId": "9716f793-f0c3-4c73-bb91-c5bb064de60e"
      },
      "outputs": [
        {
          "output_type": "stream",
          "name": "stdout",
          "text": [
            "+---------+--------+-----------+\n",
            "|namespace|viewName|isTemporary|\n",
            "+---------+--------+-----------+\n",
            "|         | df_test|       true|\n",
            "|         | mytable|       true|\n",
            "+---------+--------+-----------+\n",
            "\n"
          ]
        }
      ],
      "source": [
        "# checking that global temp view is dropped.\n",
        "spark.sql(\"SHOW VIEWS IN global_temp;\").show()"
      ]
    },
    {
      "cell_type": "code",
      "execution_count": null,
      "metadata": {
        "colab": {
          "base_uri": "https://localhost:8080/"
        },
        "id": "bsd2WQHwUTir",
        "outputId": "ade1f689-c535-4cc2-a954-ee47fd1720d4"
      },
      "outputs": [
        {
          "output_type": "stream",
          "name": "stdout",
          "text": [
            "+---------+--------+-----------+\n",
            "|namespace|viewName|isTemporary|\n",
            "+---------+--------+-----------+\n",
            "|         | df_test|       true|\n",
            "|         | mytable|       true|\n",
            "+---------+--------+-----------+\n",
            "\n"
          ]
        }
      ],
      "source": [
        "spark.sql(\"SHOW VIEWS\").show()"
      ]
    },
    {
      "cell_type": "markdown",
      "metadata": {
        "id": "dhc2Yb2QUTir"
      },
      "source": [
        "## Dealing with Missing Values\n",
        "### Cabin"
      ]
    },
    {
      "cell_type": "code",
      "execution_count": null,
      "metadata": {
        "id": "ltGav-IYUTir"
      },
      "outputs": [],
      "source": [
        "# filling the null values in cabin with \"N\".\n",
        "# df.fillna(value, subset=[]);\n",
        "df_train = df_train.na.fill('N', subset=['Cabin'])\n",
        "df_test = df_test.na.fill('N', subset=['Cabin'])"
      ]
    },
    {
      "cell_type": "markdown",
      "metadata": {
        "id": "uwTQdRxaUTir"
      },
      "source": [
        "### Fare"
      ]
    },
    {
      "cell_type": "code",
      "execution_count": null,
      "metadata": {
        "colab": {
          "base_uri": "https://localhost:8080/"
        },
        "id": "a4oARuz9UTir",
        "outputId": "f10ac623-2b2b-4985-9c45-34f506987ad0",
        "scrolled": true
      },
      "outputs": [
        {
          "output_type": "stream",
          "name": "stdout",
          "text": [
            "+-----------+--------+------+----+---+---+-----+-----+------+----+-----+--------+\n",
            "|PassengerId|Survived|Pclass|Name|Sex|Age|SibSp|Parch|Ticket|Fare|Cabin|Embarked|\n",
            "+-----------+--------+------+----+---+---+-----+-----+------+----+-----+--------+\n",
            "+-----------+--------+------+----+---+---+-----+-----+------+----+-----+--------+\n",
            "\n"
          ]
        }
      ],
      "source": [
        "## how do we find out the rows with missing values?\n",
        "# we can use .where(condition) with .isNull()\n",
        "df_test.where(df_test['Fare'].isNull()).show()"
      ]
    },
    {
      "cell_type": "markdown",
      "metadata": {
        "id": "uulvZcZFUTir"
      },
      "source": [
        "Here, We can take the average of the **Fare** column to fill in the NaN value. However, for the sake of learning and practicing, we will try something else. We can take the average of the values where **Pclass** is ***3***, **Sex** is ***male*** and **Embarked** is ***S***"
      ]
    },
    {
      "cell_type": "code",
      "execution_count": null,
      "metadata": {
        "id": "jI0gQhYjUTis"
      },
      "outputs": [],
      "source": [
        "missing_value = df_test.filter(\n",
        "    (df_test['Pclass'] == 3) &\n",
        "    (df_test.Embarked == 'S') &\n",
        "    (df_test.Sex == \"male\")\n",
        ")\n",
        "## filling in the null value in the fare column using Fare mean. \n",
        "df_test = df_test.na.fill(\n",
        "    missing_value.select(mean('Fare')).collect()[0][0],\n",
        "    subset=['Fare']\n",
        ")"
      ]
    },
    {
      "cell_type": "code",
      "execution_count": null,
      "metadata": {
        "colab": {
          "base_uri": "https://localhost:8080/"
        },
        "id": "qiXye11yUTis",
        "outputId": "0f3c430f-1402-4a6c-e334-b18a5675e896"
      },
      "outputs": [
        {
          "output_type": "stream",
          "name": "stdout",
          "text": [
            "+-----------+--------+------+----+---+---+-----+-----+------+----+-----+--------+\n",
            "|PassengerId|Survived|Pclass|Name|Sex|Age|SibSp|Parch|Ticket|Fare|Cabin|Embarked|\n",
            "+-----------+--------+------+----+---+---+-----+-----+------+----+-----+--------+\n",
            "+-----------+--------+------+----+---+---+-----+-----+------+----+-----+--------+\n",
            "\n"
          ]
        }
      ],
      "source": [
        "# Checking\n",
        "df_test.where(df_test['Fare'].isNull()).show()"
      ]
    },
    {
      "cell_type": "markdown",
      "metadata": {
        "id": "eAGtuzqwUTis"
      },
      "source": [
        "### Embarked"
      ]
    },
    {
      "cell_type": "code",
      "execution_count": null,
      "metadata": {
        "colab": {
          "base_uri": "https://localhost:8080/"
        },
        "id": "5SdZR6SSUTis",
        "outputId": "7c0d2684-42d4-448f-dae8-e26bc0c06cc5"
      },
      "outputs": [
        {
          "output_type": "stream",
          "name": "stdout",
          "text": [
            "+-----------+--------+------+-------------------+------+----+-----+-----+------+----+-----+--------+\n",
            "|PassengerId|Survived|Pclass|               Name|   Sex| Age|SibSp|Parch|Ticket|Fare|Cabin|Embarked|\n",
            "+-----------+--------+------+-------------------+------+----+-----+-----+------+----+-----+--------+\n",
            "|         62|       1|     1|Icard, Miss. Amelie|female|38.0|    0|    0|113572|80.0|  B28|    null|\n",
            "+-----------+--------+------+-------------------+------+----+-----+-----+------+----+-----+--------+\n",
            "\n"
          ]
        }
      ],
      "source": [
        "df_train.where(df_train['Embarked'].isNull()).show()"
      ]
    },
    {
      "cell_type": "code",
      "execution_count": null,
      "metadata": {
        "id": "C31111uAUTis"
      },
      "outputs": [],
      "source": [
        "## Replacing the null values in the Embarked column with the mode. \n",
        "df_train = df_train.na.fill('C', subset=['Embarked'])"
      ]
    },
    {
      "cell_type": "code",
      "execution_count": null,
      "metadata": {
        "colab": {
          "base_uri": "https://localhost:8080/"
        },
        "id": "VoYj1A4cUTis",
        "outputId": "cf749693-250d-49bd-b5bc-fa43cc48496f"
      },
      "outputs": [
        {
          "output_type": "stream",
          "name": "stdout",
          "text": [
            "+-----------+--------+------+----+---+---+-----+-----+------+----+-----+--------+\n",
            "|PassengerId|Survived|Pclass|Name|Sex|Age|SibSp|Parch|Ticket|Fare|Cabin|Embarked|\n",
            "+-----------+--------+------+----+---+---+-----+-----+------+----+-----+--------+\n",
            "+-----------+--------+------+----+---+---+-----+-----+------+----+-----+--------+\n",
            "\n"
          ]
        }
      ],
      "source": [
        "## checking\n",
        "df_train.where(df_train['Embarked'].isNull()).show()"
      ]
    },
    {
      "cell_type": "code",
      "execution_count": null,
      "metadata": {
        "colab": {
          "base_uri": "https://localhost:8080/"
        },
        "id": "ixWNtxEHUTis",
        "outputId": "68ef5be4-7499-422b-8859-7df0136dbaca"
      },
      "outputs": [
        {
          "output_type": "stream",
          "name": "stdout",
          "text": [
            "+-----------+--------+------+--------------------+------+----+-----+-----+------+----+-----+--------+\n",
            "|PassengerId|Survived|Pclass|                Name|   Sex| Age|SibSp|Parch|Ticket|Fare|Cabin|Embarked|\n",
            "+-----------+--------+------+--------------------+------+----+-----+-----+------+----+-----+--------+\n",
            "|        830|       1|     1|Stone, Mrs. Georg...|female|62.0|    0|    0|113572|80.0|  B28|    null|\n",
            "+-----------+--------+------+--------------------+------+----+-----+-----+------+----+-----+--------+\n",
            "\n"
          ]
        }
      ],
      "source": [
        "df_test.where(df_test.Embarked.isNull()).show()"
      ]
    },
    {
      "cell_type": "markdown",
      "metadata": {
        "id": "TdJ0DKvvUTis"
      },
      "source": [
        "## Feature Engineering\n",
        "### Cabin"
      ]
    },
    {
      "cell_type": "code",
      "execution_count": null,
      "metadata": {
        "id": "efigpn2_UTis"
      },
      "outputs": [],
      "source": [
        "## this is a code to create a wrapper for function, that works for both python and Pyspark.\n",
        "from typing import Callable\n",
        "from pyspark.sql import Column\n",
        "from pyspark.sql.functions import udf, col\n",
        "from pyspark.sql.types import StringType, IntegerType, ArrayType, DataType\n",
        "class py_or_udf:\n",
        "    def __init__(self, returnType : DataType=StringType()):\n",
        "        self.spark_udf_type = returnType\n",
        "        \n",
        "    def __call__(self, func : Callable):\n",
        "        def wrapped_func(*args, **kwargs):\n",
        "            if any([isinstance(arg, Column) for arg in args]) or \\\n",
        "                any([isinstance(vv, Column) for vv in kwargs.values()]):\n",
        "                return udf(func, self.spark_udf_type)(*args, **kwargs)\n",
        "            else:\n",
        "                return func(*args, **kwargs)\n",
        "        return wrapped_func\n",
        "\n",
        "    \n",
        "@py_or_udf(returnType=StringType())\n",
        "def first_char(col):\n",
        "    return col[0]\n",
        "    "
      ]
    },
    {
      "cell_type": "code",
      "execution_count": null,
      "metadata": {
        "id": "VwwE7Ig5UTis"
      },
      "outputs": [],
      "source": [
        "df_train = df_train.withColumn('Cabin', first_char(df_train['Cabin']))"
      ]
    },
    {
      "cell_type": "code",
      "execution_count": null,
      "metadata": {
        "id": "bY-Zt90tUTit"
      },
      "outputs": [],
      "source": [
        "df_test = df_test.withColumn('Cabin', first_char(df_test['Cabin']))"
      ]
    },
    {
      "cell_type": "code",
      "execution_count": null,
      "metadata": {
        "colab": {
          "base_uri": "https://localhost:8080/",
          "height": 302
        },
        "id": "dCFSYm9EUTit",
        "outputId": "6d490ac3-45a0-4ea9-aae0-abd26f95420a"
      },
      "outputs": [
        {
          "output_type": "execute_result",
          "data": {
            "text/plain": [
              "   PassengerId  Survived  Pclass  \\\n",
              "0            1         0       3   \n",
              "1            2         1       1   \n",
              "2            3         1       3   \n",
              "3            4         1       1   \n",
              "4            5         0       3   \n",
              "\n",
              "                                                Name     Sex   Age  SibSp  \\\n",
              "0                            Braund, Mr. Owen Harris    male  22.0      1   \n",
              "1  Cumings, Mrs. John Bradley (Florence Briggs Th...  female  38.0      1   \n",
              "2                             Heikkinen, Miss. Laina  female  26.0      0   \n",
              "3       Futrelle, Mrs. Jacques Heath (Lily May Peel)  female  35.0      1   \n",
              "4                           Allen, Mr. William Henry    male  35.0      0   \n",
              "\n",
              "   Parch            Ticket     Fare Cabin Embarked  \n",
              "0      0         A/5 21171   7.2500     N        S  \n",
              "1      0          PC 17599  71.2833     C        C  \n",
              "2      0  STON/O2. 3101282   7.9250     N        S  \n",
              "3      0            113803  53.1000     C        S  \n",
              "4      0            373450   8.0500     N        S  "
            ],
            "text/html": [
              "\n",
              "  <div id=\"df-10082f74-3dad-4bbf-bbb2-19104f047c24\">\n",
              "    <div class=\"colab-df-container\">\n",
              "      <div>\n",
              "<style scoped>\n",
              "    .dataframe tbody tr th:only-of-type {\n",
              "        vertical-align: middle;\n",
              "    }\n",
              "\n",
              "    .dataframe tbody tr th {\n",
              "        vertical-align: top;\n",
              "    }\n",
              "\n",
              "    .dataframe thead th {\n",
              "        text-align: right;\n",
              "    }\n",
              "</style>\n",
              "<table border=\"1\" class=\"dataframe\">\n",
              "  <thead>\n",
              "    <tr style=\"text-align: right;\">\n",
              "      <th></th>\n",
              "      <th>PassengerId</th>\n",
              "      <th>Survived</th>\n",
              "      <th>Pclass</th>\n",
              "      <th>Name</th>\n",
              "      <th>Sex</th>\n",
              "      <th>Age</th>\n",
              "      <th>SibSp</th>\n",
              "      <th>Parch</th>\n",
              "      <th>Ticket</th>\n",
              "      <th>Fare</th>\n",
              "      <th>Cabin</th>\n",
              "      <th>Embarked</th>\n",
              "    </tr>\n",
              "  </thead>\n",
              "  <tbody>\n",
              "    <tr>\n",
              "      <th>0</th>\n",
              "      <td>1</td>\n",
              "      <td>0</td>\n",
              "      <td>3</td>\n",
              "      <td>Braund, Mr. Owen Harris</td>\n",
              "      <td>male</td>\n",
              "      <td>22.0</td>\n",
              "      <td>1</td>\n",
              "      <td>0</td>\n",
              "      <td>A/5 21171</td>\n",
              "      <td>7.2500</td>\n",
              "      <td>N</td>\n",
              "      <td>S</td>\n",
              "    </tr>\n",
              "    <tr>\n",
              "      <th>1</th>\n",
              "      <td>2</td>\n",
              "      <td>1</td>\n",
              "      <td>1</td>\n",
              "      <td>Cumings, Mrs. John Bradley (Florence Briggs Th...</td>\n",
              "      <td>female</td>\n",
              "      <td>38.0</td>\n",
              "      <td>1</td>\n",
              "      <td>0</td>\n",
              "      <td>PC 17599</td>\n",
              "      <td>71.2833</td>\n",
              "      <td>C</td>\n",
              "      <td>C</td>\n",
              "    </tr>\n",
              "    <tr>\n",
              "      <th>2</th>\n",
              "      <td>3</td>\n",
              "      <td>1</td>\n",
              "      <td>3</td>\n",
              "      <td>Heikkinen, Miss. Laina</td>\n",
              "      <td>female</td>\n",
              "      <td>26.0</td>\n",
              "      <td>0</td>\n",
              "      <td>0</td>\n",
              "      <td>STON/O2. 3101282</td>\n",
              "      <td>7.9250</td>\n",
              "      <td>N</td>\n",
              "      <td>S</td>\n",
              "    </tr>\n",
              "    <tr>\n",
              "      <th>3</th>\n",
              "      <td>4</td>\n",
              "      <td>1</td>\n",
              "      <td>1</td>\n",
              "      <td>Futrelle, Mrs. Jacques Heath (Lily May Peel)</td>\n",
              "      <td>female</td>\n",
              "      <td>35.0</td>\n",
              "      <td>1</td>\n",
              "      <td>0</td>\n",
              "      <td>113803</td>\n",
              "      <td>53.1000</td>\n",
              "      <td>C</td>\n",
              "      <td>S</td>\n",
              "    </tr>\n",
              "    <tr>\n",
              "      <th>4</th>\n",
              "      <td>5</td>\n",
              "      <td>0</td>\n",
              "      <td>3</td>\n",
              "      <td>Allen, Mr. William Henry</td>\n",
              "      <td>male</td>\n",
              "      <td>35.0</td>\n",
              "      <td>0</td>\n",
              "      <td>0</td>\n",
              "      <td>373450</td>\n",
              "      <td>8.0500</td>\n",
              "      <td>N</td>\n",
              "      <td>S</td>\n",
              "    </tr>\n",
              "  </tbody>\n",
              "</table>\n",
              "</div>\n",
              "      <button class=\"colab-df-convert\" onclick=\"convertToInteractive('df-10082f74-3dad-4bbf-bbb2-19104f047c24')\"\n",
              "              title=\"Convert this dataframe to an interactive table.\"\n",
              "              style=\"display:none;\">\n",
              "        \n",
              "  <svg xmlns=\"http://www.w3.org/2000/svg\" height=\"24px\"viewBox=\"0 0 24 24\"\n",
              "       width=\"24px\">\n",
              "    <path d=\"M0 0h24v24H0V0z\" fill=\"none\"/>\n",
              "    <path d=\"M18.56 5.44l.94 2.06.94-2.06 2.06-.94-2.06-.94-.94-2.06-.94 2.06-2.06.94zm-11 1L8.5 8.5l.94-2.06 2.06-.94-2.06-.94L8.5 2.5l-.94 2.06-2.06.94zm10 10l.94 2.06.94-2.06 2.06-.94-2.06-.94-.94-2.06-.94 2.06-2.06.94z\"/><path d=\"M17.41 7.96l-1.37-1.37c-.4-.4-.92-.59-1.43-.59-.52 0-1.04.2-1.43.59L10.3 9.45l-7.72 7.72c-.78.78-.78 2.05 0 2.83L4 21.41c.39.39.9.59 1.41.59.51 0 1.02-.2 1.41-.59l7.78-7.78 2.81-2.81c.8-.78.8-2.07 0-2.86zM5.41 20L4 18.59l7.72-7.72 1.47 1.35L5.41 20z\"/>\n",
              "  </svg>\n",
              "      </button>\n",
              "      \n",
              "  <style>\n",
              "    .colab-df-container {\n",
              "      display:flex;\n",
              "      flex-wrap:wrap;\n",
              "      gap: 12px;\n",
              "    }\n",
              "\n",
              "    .colab-df-convert {\n",
              "      background-color: #E8F0FE;\n",
              "      border: none;\n",
              "      border-radius: 50%;\n",
              "      cursor: pointer;\n",
              "      display: none;\n",
              "      fill: #1967D2;\n",
              "      height: 32px;\n",
              "      padding: 0 0 0 0;\n",
              "      width: 32px;\n",
              "    }\n",
              "\n",
              "    .colab-df-convert:hover {\n",
              "      background-color: #E2EBFA;\n",
              "      box-shadow: 0px 1px 2px rgba(60, 64, 67, 0.3), 0px 1px 3px 1px rgba(60, 64, 67, 0.15);\n",
              "      fill: #174EA6;\n",
              "    }\n",
              "\n",
              "    [theme=dark] .colab-df-convert {\n",
              "      background-color: #3B4455;\n",
              "      fill: #D2E3FC;\n",
              "    }\n",
              "\n",
              "    [theme=dark] .colab-df-convert:hover {\n",
              "      background-color: #434B5C;\n",
              "      box-shadow: 0px 1px 3px 1px rgba(0, 0, 0, 0.15);\n",
              "      filter: drop-shadow(0px 1px 2px rgba(0, 0, 0, 0.3));\n",
              "      fill: #FFFFFF;\n",
              "    }\n",
              "  </style>\n",
              "\n",
              "      <script>\n",
              "        const buttonEl =\n",
              "          document.querySelector('#df-10082f74-3dad-4bbf-bbb2-19104f047c24 button.colab-df-convert');\n",
              "        buttonEl.style.display =\n",
              "          google.colab.kernel.accessAllowed ? 'block' : 'none';\n",
              "\n",
              "        async function convertToInteractive(key) {\n",
              "          const element = document.querySelector('#df-10082f74-3dad-4bbf-bbb2-19104f047c24');\n",
              "          const dataTable =\n",
              "            await google.colab.kernel.invokeFunction('convertToInteractive',\n",
              "                                                     [key], {});\n",
              "          if (!dataTable) return;\n",
              "\n",
              "          const docLinkHtml = 'Like what you see? Visit the ' +\n",
              "            '<a target=\"_blank\" href=https://colab.research.google.com/notebooks/data_table.ipynb>data table notebook</a>'\n",
              "            + ' to learn more about interactive tables.';\n",
              "          element.innerHTML = '';\n",
              "          dataTable['output_type'] = 'display_data';\n",
              "          await google.colab.output.renderOutput(dataTable, element);\n",
              "          const docLink = document.createElement('div');\n",
              "          docLink.innerHTML = docLinkHtml;\n",
              "          element.appendChild(docLink);\n",
              "        }\n",
              "      </script>\n",
              "    </div>\n",
              "  </div>\n",
              "  "
            ]
          },
          "metadata": {},
          "execution_count": 303
        }
      ],
      "source": [
        "df_train.limit(5).toPandas()"
      ]
    },
    {
      "cell_type": "markdown",
      "metadata": {
        "id": "puoI6uckUTit"
      },
      "source": [
        "We can use the average of the fare column We can use pyspark's ***groupby*** function to get the mean fare of each cabin letter."
      ]
    },
    {
      "cell_type": "code",
      "execution_count": null,
      "metadata": {
        "colab": {
          "base_uri": "https://localhost:8080/"
        },
        "id": "MMMC49a5UTit",
        "outputId": "8e7919df-44c3-4a50-b31a-f997598d7fef"
      },
      "outputs": [
        {
          "output_type": "stream",
          "name": "stdout",
          "text": [
            "+-----+------------------+\n",
            "|Cabin|         avg(Fare)|\n",
            "+-----+------------------+\n",
            "|    F|20.112033333333333|\n",
            "|    E|53.944447619047615|\n",
            "|    T|              35.5|\n",
            "|    B| 94.72019230769232|\n",
            "|    D| 59.19123157894737|\n",
            "|    C|102.14492608695654|\n",
            "|    A|43.487500000000004|\n",
            "|    N|19.307918358531317|\n",
            "|    G|          13.58125|\n",
            "+-----+------------------+\n",
            "\n"
          ]
        }
      ],
      "source": [
        "df_train.groupBy('Cabin').mean(\"Fare\").show()"
      ]
    },
    {
      "cell_type": "markdown",
      "metadata": {
        "id": "ChcH1OKeUTit"
      },
      "source": [
        "Now, these mean can help us determine the unknown cabins, if we compare each unknown cabin rows with the given mean's above. Let's write a simple function so that we can give cabin names based on the means. "
      ]
    },
    {
      "cell_type": "code",
      "execution_count": null,
      "metadata": {
        "id": "MdhoPhOcUTit"
      },
      "outputs": [],
      "source": [
        "@py_or_udf(returnType=StringType())\n",
        "def cabin_estimator(i):\n",
        "    \"\"\"Grouping cabin feature by the first letter\"\"\"\n",
        "    a = 0\n",
        "    if i<16:\n",
        "        a = \"G\"\n",
        "    elif i>=16 and i<27:\n",
        "        a = \"F\"\n",
        "    elif i>=27 and i<38:\n",
        "        a = \"T\"\n",
        "    elif i>=38 and i<47:\n",
        "        a = \"A\"\n",
        "    elif i>= 47 and i<53:\n",
        "        a = \"E\"\n",
        "    elif i>= 53 and i<54:\n",
        "        a = \"D\"\n",
        "    elif i>=54 and i<116:\n",
        "        a = 'C'\n",
        "    else:\n",
        "        a = \"B\"\n",
        "    return a"
      ]
    },
    {
      "cell_type": "code",
      "execution_count": null,
      "metadata": {
        "id": "-csuzlUqUTit"
      },
      "outputs": [],
      "source": [
        "## separating data where Cabin == 'N', remeber we used 'N' for Null. \n",
        "df_withN = df_train.filter(df_train['Cabin'] == 'N')\n",
        "df2 = df_train.filter(df_train['Cabin'] != 'N')\n",
        "\n",
        "## replacing 'N' using cabin estimated function. \n",
        "df_withN = df_withN.withColumn('Cabin', cabin_estimator(df_withN['Fare']))\n",
        "\n",
        "# putting the dataframe back together. \n",
        "df_train = df_withN.union(df2).orderBy('PassengerId') "
      ]
    },
    {
      "cell_type": "code",
      "execution_count": null,
      "metadata": {
        "id": "sXeG2rM5UTit"
      },
      "outputs": [],
      "source": [
        "#let's do the same for test set\n",
        "df_testN = df_test.filter(df_test['Cabin'] == 'N')\n",
        "df_testNoN = df_test.filter(df_test['Cabin'] != 'N')\n",
        "df_testN = df_testN.withColumn('Cabin', cabin_estimator(df_testN['Fare']))\n",
        "df_test = df_testN.union(df_testNoN).orderBy('PassengerId')"
      ]
    },
    {
      "cell_type": "markdown",
      "metadata": {
        "id": "uRwVf6fVUTit"
      },
      "source": [
        "### Name"
      ]
    },
    {
      "cell_type": "code",
      "execution_count": null,
      "metadata": {
        "id": "1gLIB3ZzUTit"
      },
      "outputs": [],
      "source": [
        "## creating UDF functions\n",
        "@py_or_udf(returnType=IntegerType())\n",
        "def name_length(name):\n",
        "    return len(name)\n",
        "\n",
        "\n",
        "@py_or_udf(returnType=StringType())\n",
        "def name_length_group(size):\n",
        "    a = ''\n",
        "    if (size <=20):\n",
        "        a = 'short'\n",
        "    elif (size <=35):\n",
        "        a = 'medium'\n",
        "    elif (size <=45):\n",
        "        a = 'good'\n",
        "    else:\n",
        "        a = 'long'\n",
        "    return a"
      ]
    },
    {
      "cell_type": "code",
      "execution_count": null,
      "metadata": {
        "id": "JYjJbYvKUTiu"
      },
      "outputs": [],
      "source": [
        "## getting the name length from name. \n",
        "df_train = df_train.withColumn(\"name_length\", name_length(df_train['Name']))\n",
        "\n",
        "## grouping based on name length. \n",
        "df_train = df_train.withColumn(\"nLength_group\", name_length_group(df_train['name_length']))"
      ]
    },
    {
      "cell_type": "code",
      "execution_count": null,
      "metadata": {
        "id": "thA8aucHUTiu"
      },
      "outputs": [],
      "source": [
        "## Let's do the same for test set. \n",
        "df_test = df_test.withColumn(\"name_length\", name_length(df_test['Name']))\n",
        "\n",
        "df_test = df_test.withColumn(\"nLength_group\", name_length_group(df_test['name_length']))"
      ]
    },
    {
      "cell_type": "markdown",
      "metadata": {
        "id": "gZQx5mr3UTiu"
      },
      "source": [
        "### Title"
      ]
    },
    {
      "cell_type": "code",
      "execution_count": null,
      "metadata": {
        "id": "Id-FvlJsUTiu"
      },
      "outputs": [],
      "source": [
        "## this function helps getting the title from the name. \n",
        "@py_or_udf(returnType=StringType())\n",
        "def get_title(name):\n",
        "    return name.split('.')[0].split(',')[1].strip()\n",
        "\n",
        "df_train = df_train.withColumn(\"title\", get_title(df_train['Name']))\n",
        "df_test = df_test.withColumn('title', get_title(df_test['Name']))"
      ]
    },
    {
      "cell_type": "code",
      "execution_count": null,
      "metadata": {
        "id": "oXgYL50BUTiu"
      },
      "outputs": [],
      "source": [
        "## we are writing a function that can help us modify title column\n",
        "@py_or_udf(returnType=StringType())\n",
        "def fuse_title1(feature):\n",
        "    \"\"\"\n",
        "    This function helps modifying the title column\n",
        "    \"\"\"\n",
        "    if feature in ['the Countess','Capt','Lady','Sir','Jonkheer','Don','Major','Col', 'Rev', 'Dona', 'Dr']:\n",
        "        return 'rare'\n",
        "    elif feature in ['Ms', 'Mlle']:\n",
        "        return 'Miss'\n",
        "    elif feature == 'Mme':\n",
        "        return 'Mrs'\n",
        "    else:\n",
        "        return feature"
      ]
    },
    {
      "cell_type": "code",
      "execution_count": null,
      "metadata": {
        "id": "Z690V3TyUTiu"
      },
      "outputs": [],
      "source": [
        "df_train = df_train.withColumn(\"title\", fuse_title1(df_train[\"title\"]))"
      ]
    },
    {
      "cell_type": "code",
      "execution_count": null,
      "metadata": {
        "id": "FUiMABKtUTiu"
      },
      "outputs": [],
      "source": [
        "df_test = df_test.withColumn(\"title\", fuse_title1(df_test['title']))"
      ]
    },
    {
      "cell_type": "code",
      "execution_count": null,
      "metadata": {
        "colab": {
          "base_uri": "https://localhost:8080/"
        },
        "id": "bkbZl3GXUTiu",
        "outputId": "247f0ff3-b66d-4333-c6e5-163a628d3cf3"
      },
      "outputs": [
        {
          "output_type": "stream",
          "name": "stdout",
          "text": [
            "['Mr' 'Mrs' 'Miss' 'Master' 'rare']\n",
            "['Mrs' 'Mr' 'Miss' 'rare' 'Master']\n"
          ]
        }
      ],
      "source": [
        "print(df_train.toPandas()['title'].unique())\n",
        "print(df_test.toPandas()['title'].unique())"
      ]
    },
    {
      "cell_type": "markdown",
      "metadata": {
        "id": "yhnGabOfUTiv"
      },
      "source": [
        "### family_size"
      ]
    },
    {
      "cell_type": "code",
      "execution_count": null,
      "metadata": {
        "id": "7fU6BHlxUTiv"
      },
      "outputs": [],
      "source": [
        "df_train = df_train.withColumn(\"family_size\", df_train['SibSp']+df_train['Parch'])\n",
        "df_test = df_test.withColumn(\"family_size\", df_test['SibSp']+df_test['Parch'])"
      ]
    },
    {
      "cell_type": "code",
      "execution_count": null,
      "metadata": {
        "id": "-pv5fGSdUTiv"
      },
      "outputs": [],
      "source": [
        "## bin the family size. \n",
        "@py_or_udf(returnType=StringType())\n",
        "def family_group(size):\n",
        "    \"\"\"\n",
        "    This funciton groups(loner, small, large) family based on family size\n",
        "    \"\"\"\n",
        "    \n",
        "    a = ''\n",
        "    if (size <= 1):\n",
        "        a = 'loner'\n",
        "    elif (size <= 4):\n",
        "        a = 'small'\n",
        "    else:\n",
        "        a = 'large'\n",
        "    return a"
      ]
    },
    {
      "cell_type": "code",
      "execution_count": null,
      "metadata": {
        "id": "aSTago3YUTiv"
      },
      "outputs": [],
      "source": [
        "df_train = df_train.withColumn(\"family_group\", family_group(df_train['family_size']))\n",
        "df_test = df_test.withColumn(\"family_group\", family_group(df_test['family_size']))\n"
      ]
    },
    {
      "cell_type": "markdown",
      "metadata": {
        "id": "56IwtHVMUTiv"
      },
      "source": [
        "### is_alone"
      ]
    },
    {
      "cell_type": "code",
      "execution_count": null,
      "metadata": {
        "id": "DnQlh4o_UTiv"
      },
      "outputs": [],
      "source": [
        "@py_or_udf(returnType=IntegerType())\n",
        "def is_alone(num):\n",
        "    if num<2:\n",
        "        return 1\n",
        "    else:\n",
        "        return 0"
      ]
    },
    {
      "cell_type": "code",
      "execution_count": null,
      "metadata": {
        "id": "3mxZhDcmUTiv"
      },
      "outputs": [],
      "source": [
        "df_train = df_train.withColumn(\"is_alone\", is_alone(df_train['family_size']))\n",
        "df_test = df_test.withColumn(\"is_alone\", is_alone(df_test[\"family_size\"]))"
      ]
    },
    {
      "cell_type": "markdown",
      "metadata": {
        "id": "wfDt5VMRUTiv"
      },
      "source": [
        "### ticket"
      ]
    },
    {
      "cell_type": "code",
      "execution_count": null,
      "metadata": {
        "id": "G1vY8uuhUTiv"
      },
      "outputs": [],
      "source": [
        "## dropping ticket column\n",
        "df_train = df_train.drop('ticket')\n",
        "df_test = df_test.drop(\"ticket\")"
      ]
    },
    {
      "cell_type": "markdown",
      "metadata": {
        "id": "erAIDopGUTiv"
      },
      "source": [
        "### calculated_fare"
      ]
    },
    {
      "cell_type": "code",
      "execution_count": null,
      "metadata": {
        "id": "cRy0e0GBUTiw"
      },
      "outputs": [],
      "source": [
        "from pyspark.sql.functions import expr, col, when, coalesce, lit"
      ]
    },
    {
      "cell_type": "code",
      "execution_count": null,
      "metadata": {
        "id": "Csd4z2rIUTiz"
      },
      "outputs": [],
      "source": [
        "## here I am using a something similar to if and else statement, \n",
        "#when(condition, value_when_condition_met).otherwise(alt_condition)\n",
        "df_train = df_train.withColumn(\n",
        "    \"calculated_fare\", \n",
        "    when((col(\"Fare\")/col(\"family_size\")).isNull(), col('Fare'))\n",
        "    .otherwise((col(\"Fare\")/col(\"family_size\"))))"
      ]
    },
    {
      "cell_type": "code",
      "execution_count": null,
      "metadata": {
        "id": "S1IC4j1LUTiz"
      },
      "outputs": [],
      "source": [
        "df_test = df_test.withColumn(\n",
        "    \"calculated_fare\", \n",
        "    when((col(\"Fare\")/col(\"family_size\")).isNull(), col('Fare'))\n",
        "    .otherwise((col(\"Fare\")/col(\"family_size\"))))"
      ]
    },
    {
      "cell_type": "markdown",
      "metadata": {
        "id": "tE2fqr8aUTi0"
      },
      "source": [
        "### fare_group"
      ]
    },
    {
      "cell_type": "code",
      "execution_count": null,
      "metadata": {
        "id": "UfvETnFFUTi0"
      },
      "outputs": [],
      "source": [
        "@py_or_udf(returnType=StringType())\n",
        "def fare_group(fare):\n",
        "    \"\"\"\n",
        "    This function creates a fare group based on the fare provided\n",
        "    \"\"\"\n",
        "    \n",
        "    a= ''\n",
        "    if fare <= 4:\n",
        "        a = 'Very_low'\n",
        "    elif fare <= 10:\n",
        "        a = 'low'\n",
        "    elif fare <= 20:\n",
        "        a = 'mid'\n",
        "    elif fare <= 45:\n",
        "        a = 'high'\n",
        "    else:\n",
        "        a = \"very_high\"\n",
        "    return a"
      ]
    },
    {
      "cell_type": "code",
      "execution_count": null,
      "metadata": {
        "id": "bboOV8g6UTi0"
      },
      "outputs": [],
      "source": [
        "df_train = df_train.withColumn(\"fare_group\", fare_group(col(\"Fare\")))\n",
        "df_test = df_test.withColumn(\"fare_group\", fare_group(col(\"Fare\")))"
      ]
    },
    {
      "cell_type": "markdown",
      "source": [],
      "metadata": {
        "id": "lyeo8sfCAecJ"
      }
    },
    {
      "cell_type": "markdown",
      "source": [
        "#What is Polars and Why is it Faster Than Pandas?\n",
        "\n",
        "Polars is a DataFrame library designed for parallelization. It is built from the ground up and written in Rust but also has a Python package, making it a potential alternative to Pandas. \n",
        "> Polars has two different APIs: an eager API and a lazy API. Eager execution is similar to Pandas, while lazy execution is more efficient because it avoids running unnecessary code. \n",
        "\n",
        "Polars is faster than Pandas because it utilizes all available cores on your machine. Polars has different syntax from Pandas and can perform operations in parallel. However, Polars code is usually a little longer than the Pandas code. If you need to do a lot of data processing on large datasets, Polars can be a good alternative to Pandas."
      ],
      "metadata": {
        "id": "xusDi4AqU7qX"
      }
    },
    {
      "cell_type": "markdown",
      "source": [
        "# Database-like ops benchmark\n",
        "\n",
        "![](https://www.dominodatalab.com/hs-fs/hubfs/Imported_Blog_Media/polars_benchmark.png?width=774&name=polars_benchmark.png)"
      ],
      "metadata": {
        "id": "WE7rY0Egi9BL"
      }
    },
    {
      "cell_type": "markdown",
      "source": [
        "#Comparison between Pandas and Polars\n",
        "At first glance, Pandas and Polars (eager API) are similar regarding syntax because of their shared main building blocks: Series and DataFrames."
      ],
      "metadata": {
        "id": "cWOfcy0sWGp4"
      }
    },
    {
      "cell_type": "markdown",
      "source": [
        "This section explores the main aspects of how the Polars package differs from Pandas regarding syntax and execution time:\n",
        "\n",
        "- Reading Data\n",
        "- Selecting and Filtering Data\n",
        "- Creating New Columns\n",
        "- Grouping and Aggregation\n",
        "- Missing Data"
      ],
      "metadata": {
        "id": "rg_R_d-lWKkQ"
      }
    },
    {
      "cell_type": "code",
      "source": [
        "!pip install polars --q"
      ],
      "metadata": {
        "id": "9xVZYo5xG98_"
      },
      "execution_count": null,
      "outputs": []
    },
    {
      "cell_type": "markdown",
      "source": [
        "##Reading Data\n",
        "Reading a CSV file in Polars will feel familiar because you can use the .read_csv() method like in Pandas:"
      ],
      "metadata": {
        "id": "2Bg2-TwLWU6r"
      }
    },
    {
      "cell_type": "code",
      "source": [
        "%%time\n",
        "import pandas as pd\n",
        "\n",
        "# Pandas\n",
        "df_pd = pd.read_csv(\"https://raw.githubusercontent.com/RandomFractals/chicago-crimes/main/data/crimes-2022.csv\")"
      ],
      "metadata": {
        "colab": {
          "base_uri": "https://localhost:8080/"
        },
        "id": "EGaTgqUDG4PH",
        "outputId": "114008a5-79fe-48be-b58c-2842b2a4b1ad"
      },
      "execution_count": null,
      "outputs": [
        {
          "output_type": "stream",
          "name": "stdout",
          "text": [
            "CPU times: user 1.55 s, sys: 259 ms, total: 1.81 s\n",
            "Wall time: 3.2 s\n"
          ]
        }
      ]
    },
    {
      "cell_type": "code",
      "execution_count": null,
      "metadata": {
        "colab": {
          "base_uri": "https://localhost:8080/"
        },
        "id": "f47MLagkF3A6",
        "outputId": "76ca69bc-eb71-440d-e32f-8368517ff288"
      },
      "outputs": [
        {
          "output_type": "stream",
          "name": "stdout",
          "text": [
            "CPU times: user 507 ms, sys: 248 ms, total: 755 ms\n",
            "Wall time: 1.31 s\n"
          ]
        }
      ],
      "source": [
        "%%time\n",
        "import polars as pl\n",
        "\n",
        "# Polars\n",
        "df_pl = pl.read_csv(\"https://raw.githubusercontent.com/RandomFractals/chicago-crimes/main/data/crimes-2022.csv\")"
      ]
    },
    {
      "cell_type": "markdown",
      "source": [
        "##Selecting and Filtering Data\n",
        "The first major difference between Pandas and Polars is that Polars does not use an index [1]."
      ],
      "metadata": {
        "id": "7-WkUgHaWuav"
      }
    },
    {
      "cell_type": "code",
      "source": [
        "%%time\n",
        "# Pandas\n",
        "df_pd[['ID', 'Case Number', 'Date']] "
      ],
      "metadata": {
        "colab": {
          "base_uri": "https://localhost:8080/",
          "height": 459
        },
        "id": "OLV0BMbCHHdC",
        "outputId": "49f7c83f-4b3a-4443-d76f-68ef8279a684"
      },
      "execution_count": null,
      "outputs": [
        {
          "output_type": "stream",
          "name": "stdout",
          "text": [
            "CPU times: user 10 ms, sys: 1.87 ms, total: 11.9 ms\n",
            "Wall time: 13.2 ms\n"
          ]
        },
        {
          "output_type": "execute_result",
          "data": {
            "text/plain": [
              "              ID Case Number                    Date\n",
              "0       12757446    JF313117  07/08/2022 10:38:00 AM\n",
              "1       12755229    JF310109  07/08/2022 03:21:00 AM\n",
              "2       12763369    JF320208  07/16/2022 10:55:00 PM\n",
              "3       12766036    JF323691  07/19/2022 04:00:00 PM\n",
              "4       12758668    JF314314  07/12/2022 06:30:00 AM\n",
              "...          ...         ...                     ...\n",
              "215546  12759190    JF315350  07/09/2022 07:00:00 AM\n",
              "215547  12765045    JF321506  07/08/2022 02:00:00 PM\n",
              "215548  12742026    JF294494  06/24/2022 03:43:00 PM\n",
              "215549  12757420    JF313061  07/01/2022 12:00:00 AM\n",
              "215550  12760994    JF317539  07/14/2022 02:45:00 PM\n",
              "\n",
              "[215551 rows x 3 columns]"
            ],
            "text/html": [
              "\n",
              "  <div id=\"df-70121a49-e562-4fa7-a8f5-dbfe52402020\">\n",
              "    <div class=\"colab-df-container\">\n",
              "      <div>\n",
              "<style scoped>\n",
              "    .dataframe tbody tr th:only-of-type {\n",
              "        vertical-align: middle;\n",
              "    }\n",
              "\n",
              "    .dataframe tbody tr th {\n",
              "        vertical-align: top;\n",
              "    }\n",
              "\n",
              "    .dataframe thead th {\n",
              "        text-align: right;\n",
              "    }\n",
              "</style>\n",
              "<table border=\"1\" class=\"dataframe\">\n",
              "  <thead>\n",
              "    <tr style=\"text-align: right;\">\n",
              "      <th></th>\n",
              "      <th>ID</th>\n",
              "      <th>Case Number</th>\n",
              "      <th>Date</th>\n",
              "    </tr>\n",
              "  </thead>\n",
              "  <tbody>\n",
              "    <tr>\n",
              "      <th>0</th>\n",
              "      <td>12757446</td>\n",
              "      <td>JF313117</td>\n",
              "      <td>07/08/2022 10:38:00 AM</td>\n",
              "    </tr>\n",
              "    <tr>\n",
              "      <th>1</th>\n",
              "      <td>12755229</td>\n",
              "      <td>JF310109</td>\n",
              "      <td>07/08/2022 03:21:00 AM</td>\n",
              "    </tr>\n",
              "    <tr>\n",
              "      <th>2</th>\n",
              "      <td>12763369</td>\n",
              "      <td>JF320208</td>\n",
              "      <td>07/16/2022 10:55:00 PM</td>\n",
              "    </tr>\n",
              "    <tr>\n",
              "      <th>3</th>\n",
              "      <td>12766036</td>\n",
              "      <td>JF323691</td>\n",
              "      <td>07/19/2022 04:00:00 PM</td>\n",
              "    </tr>\n",
              "    <tr>\n",
              "      <th>4</th>\n",
              "      <td>12758668</td>\n",
              "      <td>JF314314</td>\n",
              "      <td>07/12/2022 06:30:00 AM</td>\n",
              "    </tr>\n",
              "    <tr>\n",
              "      <th>...</th>\n",
              "      <td>...</td>\n",
              "      <td>...</td>\n",
              "      <td>...</td>\n",
              "    </tr>\n",
              "    <tr>\n",
              "      <th>215546</th>\n",
              "      <td>12759190</td>\n",
              "      <td>JF315350</td>\n",
              "      <td>07/09/2022 07:00:00 AM</td>\n",
              "    </tr>\n",
              "    <tr>\n",
              "      <th>215547</th>\n",
              "      <td>12765045</td>\n",
              "      <td>JF321506</td>\n",
              "      <td>07/08/2022 02:00:00 PM</td>\n",
              "    </tr>\n",
              "    <tr>\n",
              "      <th>215548</th>\n",
              "      <td>12742026</td>\n",
              "      <td>JF294494</td>\n",
              "      <td>06/24/2022 03:43:00 PM</td>\n",
              "    </tr>\n",
              "    <tr>\n",
              "      <th>215549</th>\n",
              "      <td>12757420</td>\n",
              "      <td>JF313061</td>\n",
              "      <td>07/01/2022 12:00:00 AM</td>\n",
              "    </tr>\n",
              "    <tr>\n",
              "      <th>215550</th>\n",
              "      <td>12760994</td>\n",
              "      <td>JF317539</td>\n",
              "      <td>07/14/2022 02:45:00 PM</td>\n",
              "    </tr>\n",
              "  </tbody>\n",
              "</table>\n",
              "<p>215551 rows × 3 columns</p>\n",
              "</div>\n",
              "      <button class=\"colab-df-convert\" onclick=\"convertToInteractive('df-70121a49-e562-4fa7-a8f5-dbfe52402020')\"\n",
              "              title=\"Convert this dataframe to an interactive table.\"\n",
              "              style=\"display:none;\">\n",
              "        \n",
              "  <svg xmlns=\"http://www.w3.org/2000/svg\" height=\"24px\"viewBox=\"0 0 24 24\"\n",
              "       width=\"24px\">\n",
              "    <path d=\"M0 0h24v24H0V0z\" fill=\"none\"/>\n",
              "    <path d=\"M18.56 5.44l.94 2.06.94-2.06 2.06-.94-2.06-.94-.94-2.06-.94 2.06-2.06.94zm-11 1L8.5 8.5l.94-2.06 2.06-.94-2.06-.94L8.5 2.5l-.94 2.06-2.06.94zm10 10l.94 2.06.94-2.06 2.06-.94-2.06-.94-.94-2.06-.94 2.06-2.06.94z\"/><path d=\"M17.41 7.96l-1.37-1.37c-.4-.4-.92-.59-1.43-.59-.52 0-1.04.2-1.43.59L10.3 9.45l-7.72 7.72c-.78.78-.78 2.05 0 2.83L4 21.41c.39.39.9.59 1.41.59.51 0 1.02-.2 1.41-.59l7.78-7.78 2.81-2.81c.8-.78.8-2.07 0-2.86zM5.41 20L4 18.59l7.72-7.72 1.47 1.35L5.41 20z\"/>\n",
              "  </svg>\n",
              "      </button>\n",
              "      \n",
              "  <style>\n",
              "    .colab-df-container {\n",
              "      display:flex;\n",
              "      flex-wrap:wrap;\n",
              "      gap: 12px;\n",
              "    }\n",
              "\n",
              "    .colab-df-convert {\n",
              "      background-color: #E8F0FE;\n",
              "      border: none;\n",
              "      border-radius: 50%;\n",
              "      cursor: pointer;\n",
              "      display: none;\n",
              "      fill: #1967D2;\n",
              "      height: 32px;\n",
              "      padding: 0 0 0 0;\n",
              "      width: 32px;\n",
              "    }\n",
              "\n",
              "    .colab-df-convert:hover {\n",
              "      background-color: #E2EBFA;\n",
              "      box-shadow: 0px 1px 2px rgba(60, 64, 67, 0.3), 0px 1px 3px 1px rgba(60, 64, 67, 0.15);\n",
              "      fill: #174EA6;\n",
              "    }\n",
              "\n",
              "    [theme=dark] .colab-df-convert {\n",
              "      background-color: #3B4455;\n",
              "      fill: #D2E3FC;\n",
              "    }\n",
              "\n",
              "    [theme=dark] .colab-df-convert:hover {\n",
              "      background-color: #434B5C;\n",
              "      box-shadow: 0px 1px 3px 1px rgba(0, 0, 0, 0.15);\n",
              "      filter: drop-shadow(0px 1px 2px rgba(0, 0, 0, 0.3));\n",
              "      fill: #FFFFFF;\n",
              "    }\n",
              "  </style>\n",
              "\n",
              "      <script>\n",
              "        const buttonEl =\n",
              "          document.querySelector('#df-70121a49-e562-4fa7-a8f5-dbfe52402020 button.colab-df-convert');\n",
              "        buttonEl.style.display =\n",
              "          google.colab.kernel.accessAllowed ? 'block' : 'none';\n",
              "\n",
              "        async function convertToInteractive(key) {\n",
              "          const element = document.querySelector('#df-70121a49-e562-4fa7-a8f5-dbfe52402020');\n",
              "          const dataTable =\n",
              "            await google.colab.kernel.invokeFunction('convertToInteractive',\n",
              "                                                     [key], {});\n",
              "          if (!dataTable) return;\n",
              "\n",
              "          const docLinkHtml = 'Like what you see? Visit the ' +\n",
              "            '<a target=\"_blank\" href=https://colab.research.google.com/notebooks/data_table.ipynb>data table notebook</a>'\n",
              "            + ' to learn more about interactive tables.';\n",
              "          element.innerHTML = '';\n",
              "          dataTable['output_type'] = 'display_data';\n",
              "          await google.colab.output.renderOutput(dataTable, element);\n",
              "          const docLink = document.createElement('div');\n",
              "          docLink.innerHTML = docLinkHtml;\n",
              "          element.appendChild(docLink);\n",
              "        }\n",
              "      </script>\n",
              "    </div>\n",
              "  </div>\n",
              "  "
            ]
          },
          "metadata": {},
          "execution_count": 26
        }
      ]
    },
    {
      "cell_type": "code",
      "source": [
        "%%time\n",
        "# The above code will run with Polars as well, \n",
        "# but the correct way in Polars is:\n",
        "df_pl.select(pl.col(['ID', 'Case Number', 'Date'])) "
      ],
      "metadata": {
        "colab": {
          "base_uri": "https://localhost:8080/",
          "height": 917
        },
        "id": "sZeFvaQiW1Xn",
        "outputId": "e1e5b831-b108-4851-9246-6bdf03883461"
      },
      "execution_count": null,
      "outputs": [
        {
          "output_type": "stream",
          "name": "stdout",
          "text": [
            "CPU times: user 2.1 ms, sys: 22 µs, total: 2.12 ms\n",
            "Wall time: 2.41 ms\n"
          ]
        },
        {
          "output_type": "execute_result",
          "data": {
            "text/plain": [
              "shape: (215551, 3)\n",
              "┌──────────┬─────────────┬────────────────────────┐\n",
              "│ ID       ┆ Case Number ┆ Date                   │\n",
              "│ ---      ┆ ---         ┆ ---                    │\n",
              "│ i64      ┆ str         ┆ str                    │\n",
              "╞══════════╪═════════════╪════════════════════════╡\n",
              "│ 12757446 ┆ JF313117    ┆ 07/08/2022 10:38:00 AM │\n",
              "│ 12755229 ┆ JF310109    ┆ 07/08/2022 03:21:00 AM │\n",
              "│ 12763369 ┆ JF320208    ┆ 07/16/2022 10:55:00 PM │\n",
              "│ 12766036 ┆ JF323691    ┆ 07/19/2022 04:00:00 PM │\n",
              "│ …        ┆ …           ┆ …                      │\n",
              "│ 12765045 ┆ JF321506    ┆ 07/08/2022 02:00:00 PM │\n",
              "│ 12742026 ┆ JF294494    ┆ 06/24/2022 03:43:00 PM │\n",
              "│ 12757420 ┆ JF313061    ┆ 07/01/2022 12:00:00 AM │\n",
              "│ 12760994 ┆ JF317539    ┆ 07/14/2022 02:45:00 PM │\n",
              "└──────────┴─────────────┴────────────────────────┘"
            ],
            "text/html": [
              "<div><style>\n",
              ".dataframe > thead > tr > th,\n",
              ".dataframe > tbody > tr > td {\n",
              "  text-align: right;\n",
              "}\n",
              "</style>\n",
              "<small>shape: (215551, 3)</small><table border=\"1\" class=\"dataframe\"><thead><tr><th>ID</th><th>Case Number</th><th>Date</th></tr><tr><td>i64</td><td>str</td><td>str</td></tr></thead><tbody><tr><td>12757446</td><td>&quot;JF313117&quot;</td><td>&quot;07/08/2022 10:…</td></tr><tr><td>12755229</td><td>&quot;JF310109&quot;</td><td>&quot;07/08/2022 03:…</td></tr><tr><td>12763369</td><td>&quot;JF320208&quot;</td><td>&quot;07/16/2022 10:…</td></tr><tr><td>12766036</td><td>&quot;JF323691&quot;</td><td>&quot;07/19/2022 04:…</td></tr><tr><td>12758668</td><td>&quot;JF314314&quot;</td><td>&quot;07/12/2022 06:…</td></tr><tr><td>12765741</td><td>&quot;JF323255&quot;</td><td>&quot;06/27/2022 09:…</td></tr><tr><td>12759104</td><td>&quot;JF315164&quot;</td><td>&quot;07/12/2022 01:…</td></tr><tr><td>12756232</td><td>&quot;JF311569&quot;</td><td>&quot;07/09/2022 09:…</td></tr><tr><td>12761035</td><td>&quot;JF317440&quot;</td><td>&quot;07/13/2022 07:…</td></tr><tr><td>12757374</td><td>&quot;JF313010&quot;</td><td>&quot;07/01/2022 09:…</td></tr><tr><td>12765479</td><td>&quot;JF322734&quot;</td><td>&quot;07/18/2022 11:…</td></tr><tr><td>12758857</td><td>&quot;JF314516&quot;</td><td>&quot;07/11/2022 08:…</td></tr><tr><td>&hellip;</td><td>&hellip;</td><td>&hellip;</td></tr><tr><td>12763743</td><td>&quot;JF320740&quot;</td><td>&quot;07/17/2022 12:…</td></tr><tr><td>12764921</td><td>&quot;JF322439&quot;</td><td>&quot;07/08/2022 12:…</td></tr><tr><td>12748153</td><td>&quot;JF301761&quot;</td><td>&quot;07/01/2022 05:…</td></tr><tr><td>12745535</td><td>&quot;JF298679&quot;</td><td>&quot;06/29/2022 05:…</td></tr><tr><td>12756421</td><td>&quot;JF311702&quot;</td><td>&quot;07/09/2022 11:…</td></tr><tr><td>12755419</td><td>&quot;JF310675&quot;</td><td>&quot;07/09/2022 02:…</td></tr><tr><td>12754184</td><td>&quot;JF308283&quot;</td><td>&quot;06/02/2022 09:…</td></tr><tr><td>12759190</td><td>&quot;JF315350&quot;</td><td>&quot;07/09/2022 07:…</td></tr><tr><td>12765045</td><td>&quot;JF321506&quot;</td><td>&quot;07/08/2022 02:…</td></tr><tr><td>12742026</td><td>&quot;JF294494&quot;</td><td>&quot;06/24/2022 03:…</td></tr><tr><td>12757420</td><td>&quot;JF313061&quot;</td><td>&quot;07/01/2022 12:…</td></tr><tr><td>12760994</td><td>&quot;JF317539&quot;</td><td>&quot;07/14/2022 02:…</td></tr></tbody></table></div>"
            ]
          },
          "metadata": {},
          "execution_count": 5
        }
      ]
    },
    {
      "cell_type": "code",
      "source": [
        "%%time\n",
        "# Pandas\n",
        "df_pd.query('Year > 2021')"
      ],
      "metadata": {
        "colab": {
          "base_uri": "https://localhost:8080/",
          "height": 922
        },
        "id": "kBwn7rdgXOLM",
        "outputId": "9062c943-de3e-4e3a-e6b8-f78c2a5df0c0"
      },
      "execution_count": null,
      "outputs": [
        {
          "output_type": "stream",
          "name": "stdout",
          "text": [
            "CPU times: user 115 ms, sys: 34.4 ms, total: 149 ms\n",
            "Wall time: 153 ms\n"
          ]
        },
        {
          "output_type": "execute_result",
          "data": {
            "text/plain": [
              "              ID Case Number                    Date                   Block  \\\n",
              "0       12757446    JF313117  07/08/2022 10:38:00 AM  087XX S WINCHESTER AVE   \n",
              "1       12755229    JF310109  07/08/2022 03:21:00 AM   056XX N SPAULDING AVE   \n",
              "2       12763369    JF320208  07/16/2022 10:55:00 PM   038XX N SHEFFIELD AVE   \n",
              "3       12766036    JF323691  07/19/2022 04:00:00 PM     113XX S PARNELL AVE   \n",
              "4       12758668    JF314314  07/12/2022 06:30:00 AM       044XX W WALTON ST   \n",
              "...          ...         ...                     ...                     ...   \n",
              "215546  12759190    JF315350  07/09/2022 07:00:00 AM     098XX S CALHOUN AVE   \n",
              "215547  12765045    JF321506  07/08/2022 02:00:00 PM    006XX S MICHIGAN AVE   \n",
              "215548  12742026    JF294494  06/24/2022 03:43:00 PM        075XX N CLARK ST   \n",
              "215549  12757420    JF313061  07/01/2022 12:00:00 AM          001XX N MAY ST   \n",
              "215550  12760994    JF317539  07/14/2022 02:45:00 PM     063XX S WESTERN AVE   \n",
              "\n",
              "        IUCR             Primary Type  \\\n",
              "0       0820                    THEFT   \n",
              "1       1154       DECEPTIVE PRACTICE   \n",
              "2       0330                  ROBBERY   \n",
              "3       1792               KIDNAPPING   \n",
              "4       0610                 BURGLARY   \n",
              "...      ...                      ...   \n",
              "215546  0820                    THEFT   \n",
              "215547  0810                    THEFT   \n",
              "215548  0860                    THEFT   \n",
              "215549  0281  CRIMINAL SEXUAL ASSAULT   \n",
              "215550  0460                  BATTERY   \n",
              "\n",
              "                                    Description  \\\n",
              "0                                $500 AND UNDER   \n",
              "1       FINANCIAL IDENTITY THEFT $300 AND UNDER   \n",
              "2                                    AGGRAVATED   \n",
              "3                    CHILD ABDUCTION / STRANGER   \n",
              "4                                FORCIBLE ENTRY   \n",
              "...                                         ...   \n",
              "215546                           $500 AND UNDER   \n",
              "215547                                OVER $500   \n",
              "215548                             RETAIL THEFT   \n",
              "215549                           NON-AGGRAVATED   \n",
              "215550                                   SIMPLE   \n",
              "\n",
              "                          Location Description  Arrest  Domestic  ...  \\\n",
              "0                                    RESIDENCE   False      True  ...   \n",
              "1                                          NaN   False     False  ...   \n",
              "2                                     SIDEWALK    True     False  ...   \n",
              "3                                     SIDEWALK   False     False  ...   \n",
              "4                                    RESIDENCE   False      True  ...   \n",
              "...                                        ...     ...       ...  ...   \n",
              "215546                               RESIDENCE   False     False  ...   \n",
              "215547                           HOTEL / MOTEL   False     False  ...   \n",
              "215548                        DEPARTMENT STORE   False     False  ...   \n",
              "215549                           HOTEL / MOTEL   False     False  ...   \n",
              "215550  PARKING LOT / GARAGE (NON RESIDENTIAL)   False     False  ...   \n",
              "\n",
              "        Community Area  FBI Code  X Coordinate  Y Coordinate  Year  \\\n",
              "0                   71        06     1165137.0     1846655.0  2022   \n",
              "1                   13        11     1153364.0     1937188.0  2022   \n",
              "2                    6        03     1168917.0     1925693.0  2022   \n",
              "3                   49        26     1174663.0     1829726.0  2022   \n",
              "4                   23        05     1146679.0     1905959.0  2022   \n",
              "...                ...       ...           ...           ...   ...   \n",
              "215546              51        06     1194763.0     1840111.0  2022   \n",
              "215547              32        06     1177377.0     1897431.0  2022   \n",
              "215548               1        06     1162907.0     1949949.0  2022   \n",
              "215549              28        02     1168809.0     1900813.0  2022   \n",
              "215550              66       08B     1161460.0     1862589.0  2022   \n",
              "\n",
              "                    Updated On   Latitude  Longitude  \\\n",
              "0       11/12/2022 03:46:21 PM  41.734817 -87.670596   \n",
              "1       11/12/2022 03:46:21 PM  41.983491 -87.711324   \n",
              "2       11/12/2022 03:46:21 PM  41.951624 -87.654458   \n",
              "3       11/12/2022 03:46:21 PM  41.688155 -87.636199   \n",
              "4       11/12/2022 03:46:21 PM  41.897926 -87.736710   \n",
              "...                        ...        ...        ...   \n",
              "215546  11/12/2022 03:46:21 PM  41.716183 -87.562275   \n",
              "215547  11/12/2022 03:46:21 PM  41.873884 -87.624219   \n",
              "215548  11/12/2022 03:46:21 PM  42.018312 -87.675867   \n",
              "215549  11/12/2022 03:46:21 PM  41.883354 -87.655578   \n",
              "215550  11/12/2022 03:46:21 PM  41.778619 -87.683626   \n",
              "\n",
              "                             Location  new_year  \n",
              "0       (41.734817155, -87.670595647)      2022  \n",
              "1       (41.983490742, -87.711324421)      2022  \n",
              "2       (41.951623924, -87.654458486)      2022  \n",
              "3       (41.688154968, -87.636198645)      2022  \n",
              "4       (41.897926219, -87.736710223)      2022  \n",
              "...                               ...       ...  \n",
              "215546   (41.71618255, -87.562274818)      2022  \n",
              "215547  (41.873883785, -87.624218932)      2022  \n",
              "215548  (42.018311737, -87.675866628)      2022  \n",
              "215549  (41.883354174, -87.655578272)      2022  \n",
              "215550  (41.778619322, -87.683625816)      2022  \n",
              "\n",
              "[215551 rows x 23 columns]"
            ],
            "text/html": [
              "\n",
              "  <div id=\"df-acc59d9b-c37b-4372-9628-646a8082e015\">\n",
              "    <div class=\"colab-df-container\">\n",
              "      <div>\n",
              "<style scoped>\n",
              "    .dataframe tbody tr th:only-of-type {\n",
              "        vertical-align: middle;\n",
              "    }\n",
              "\n",
              "    .dataframe tbody tr th {\n",
              "        vertical-align: top;\n",
              "    }\n",
              "\n",
              "    .dataframe thead th {\n",
              "        text-align: right;\n",
              "    }\n",
              "</style>\n",
              "<table border=\"1\" class=\"dataframe\">\n",
              "  <thead>\n",
              "    <tr style=\"text-align: right;\">\n",
              "      <th></th>\n",
              "      <th>ID</th>\n",
              "      <th>Case Number</th>\n",
              "      <th>Date</th>\n",
              "      <th>Block</th>\n",
              "      <th>IUCR</th>\n",
              "      <th>Primary Type</th>\n",
              "      <th>Description</th>\n",
              "      <th>Location Description</th>\n",
              "      <th>Arrest</th>\n",
              "      <th>Domestic</th>\n",
              "      <th>...</th>\n",
              "      <th>Community Area</th>\n",
              "      <th>FBI Code</th>\n",
              "      <th>X Coordinate</th>\n",
              "      <th>Y Coordinate</th>\n",
              "      <th>Year</th>\n",
              "      <th>Updated On</th>\n",
              "      <th>Latitude</th>\n",
              "      <th>Longitude</th>\n",
              "      <th>Location</th>\n",
              "      <th>new_year</th>\n",
              "    </tr>\n",
              "  </thead>\n",
              "  <tbody>\n",
              "    <tr>\n",
              "      <th>0</th>\n",
              "      <td>12757446</td>\n",
              "      <td>JF313117</td>\n",
              "      <td>07/08/2022 10:38:00 AM</td>\n",
              "      <td>087XX S WINCHESTER AVE</td>\n",
              "      <td>0820</td>\n",
              "      <td>THEFT</td>\n",
              "      <td>$500 AND UNDER</td>\n",
              "      <td>RESIDENCE</td>\n",
              "      <td>False</td>\n",
              "      <td>True</td>\n",
              "      <td>...</td>\n",
              "      <td>71</td>\n",
              "      <td>06</td>\n",
              "      <td>1165137.0</td>\n",
              "      <td>1846655.0</td>\n",
              "      <td>2022</td>\n",
              "      <td>11/12/2022 03:46:21 PM</td>\n",
              "      <td>41.734817</td>\n",
              "      <td>-87.670596</td>\n",
              "      <td>(41.734817155, -87.670595647)</td>\n",
              "      <td>2022</td>\n",
              "    </tr>\n",
              "    <tr>\n",
              "      <th>1</th>\n",
              "      <td>12755229</td>\n",
              "      <td>JF310109</td>\n",
              "      <td>07/08/2022 03:21:00 AM</td>\n",
              "      <td>056XX N SPAULDING AVE</td>\n",
              "      <td>1154</td>\n",
              "      <td>DECEPTIVE PRACTICE</td>\n",
              "      <td>FINANCIAL IDENTITY THEFT $300 AND UNDER</td>\n",
              "      <td>NaN</td>\n",
              "      <td>False</td>\n",
              "      <td>False</td>\n",
              "      <td>...</td>\n",
              "      <td>13</td>\n",
              "      <td>11</td>\n",
              "      <td>1153364.0</td>\n",
              "      <td>1937188.0</td>\n",
              "      <td>2022</td>\n",
              "      <td>11/12/2022 03:46:21 PM</td>\n",
              "      <td>41.983491</td>\n",
              "      <td>-87.711324</td>\n",
              "      <td>(41.983490742, -87.711324421)</td>\n",
              "      <td>2022</td>\n",
              "    </tr>\n",
              "    <tr>\n",
              "      <th>2</th>\n",
              "      <td>12763369</td>\n",
              "      <td>JF320208</td>\n",
              "      <td>07/16/2022 10:55:00 PM</td>\n",
              "      <td>038XX N SHEFFIELD AVE</td>\n",
              "      <td>0330</td>\n",
              "      <td>ROBBERY</td>\n",
              "      <td>AGGRAVATED</td>\n",
              "      <td>SIDEWALK</td>\n",
              "      <td>True</td>\n",
              "      <td>False</td>\n",
              "      <td>...</td>\n",
              "      <td>6</td>\n",
              "      <td>03</td>\n",
              "      <td>1168917.0</td>\n",
              "      <td>1925693.0</td>\n",
              "      <td>2022</td>\n",
              "      <td>11/12/2022 03:46:21 PM</td>\n",
              "      <td>41.951624</td>\n",
              "      <td>-87.654458</td>\n",
              "      <td>(41.951623924, -87.654458486)</td>\n",
              "      <td>2022</td>\n",
              "    </tr>\n",
              "    <tr>\n",
              "      <th>3</th>\n",
              "      <td>12766036</td>\n",
              "      <td>JF323691</td>\n",
              "      <td>07/19/2022 04:00:00 PM</td>\n",
              "      <td>113XX S PARNELL AVE</td>\n",
              "      <td>1792</td>\n",
              "      <td>KIDNAPPING</td>\n",
              "      <td>CHILD ABDUCTION / STRANGER</td>\n",
              "      <td>SIDEWALK</td>\n",
              "      <td>False</td>\n",
              "      <td>False</td>\n",
              "      <td>...</td>\n",
              "      <td>49</td>\n",
              "      <td>26</td>\n",
              "      <td>1174663.0</td>\n",
              "      <td>1829726.0</td>\n",
              "      <td>2022</td>\n",
              "      <td>11/12/2022 03:46:21 PM</td>\n",
              "      <td>41.688155</td>\n",
              "      <td>-87.636199</td>\n",
              "      <td>(41.688154968, -87.636198645)</td>\n",
              "      <td>2022</td>\n",
              "    </tr>\n",
              "    <tr>\n",
              "      <th>4</th>\n",
              "      <td>12758668</td>\n",
              "      <td>JF314314</td>\n",
              "      <td>07/12/2022 06:30:00 AM</td>\n",
              "      <td>044XX W WALTON ST</td>\n",
              "      <td>0610</td>\n",
              "      <td>BURGLARY</td>\n",
              "      <td>FORCIBLE ENTRY</td>\n",
              "      <td>RESIDENCE</td>\n",
              "      <td>False</td>\n",
              "      <td>True</td>\n",
              "      <td>...</td>\n",
              "      <td>23</td>\n",
              "      <td>05</td>\n",
              "      <td>1146679.0</td>\n",
              "      <td>1905959.0</td>\n",
              "      <td>2022</td>\n",
              "      <td>11/12/2022 03:46:21 PM</td>\n",
              "      <td>41.897926</td>\n",
              "      <td>-87.736710</td>\n",
              "      <td>(41.897926219, -87.736710223)</td>\n",
              "      <td>2022</td>\n",
              "    </tr>\n",
              "    <tr>\n",
              "      <th>...</th>\n",
              "      <td>...</td>\n",
              "      <td>...</td>\n",
              "      <td>...</td>\n",
              "      <td>...</td>\n",
              "      <td>...</td>\n",
              "      <td>...</td>\n",
              "      <td>...</td>\n",
              "      <td>...</td>\n",
              "      <td>...</td>\n",
              "      <td>...</td>\n",
              "      <td>...</td>\n",
              "      <td>...</td>\n",
              "      <td>...</td>\n",
              "      <td>...</td>\n",
              "      <td>...</td>\n",
              "      <td>...</td>\n",
              "      <td>...</td>\n",
              "      <td>...</td>\n",
              "      <td>...</td>\n",
              "      <td>...</td>\n",
              "      <td>...</td>\n",
              "    </tr>\n",
              "    <tr>\n",
              "      <th>215546</th>\n",
              "      <td>12759190</td>\n",
              "      <td>JF315350</td>\n",
              "      <td>07/09/2022 07:00:00 AM</td>\n",
              "      <td>098XX S CALHOUN AVE</td>\n",
              "      <td>0820</td>\n",
              "      <td>THEFT</td>\n",
              "      <td>$500 AND UNDER</td>\n",
              "      <td>RESIDENCE</td>\n",
              "      <td>False</td>\n",
              "      <td>False</td>\n",
              "      <td>...</td>\n",
              "      <td>51</td>\n",
              "      <td>06</td>\n",
              "      <td>1194763.0</td>\n",
              "      <td>1840111.0</td>\n",
              "      <td>2022</td>\n",
              "      <td>11/12/2022 03:46:21 PM</td>\n",
              "      <td>41.716183</td>\n",
              "      <td>-87.562275</td>\n",
              "      <td>(41.71618255, -87.562274818)</td>\n",
              "      <td>2022</td>\n",
              "    </tr>\n",
              "    <tr>\n",
              "      <th>215547</th>\n",
              "      <td>12765045</td>\n",
              "      <td>JF321506</td>\n",
              "      <td>07/08/2022 02:00:00 PM</td>\n",
              "      <td>006XX S MICHIGAN AVE</td>\n",
              "      <td>0810</td>\n",
              "      <td>THEFT</td>\n",
              "      <td>OVER $500</td>\n",
              "      <td>HOTEL / MOTEL</td>\n",
              "      <td>False</td>\n",
              "      <td>False</td>\n",
              "      <td>...</td>\n",
              "      <td>32</td>\n",
              "      <td>06</td>\n",
              "      <td>1177377.0</td>\n",
              "      <td>1897431.0</td>\n",
              "      <td>2022</td>\n",
              "      <td>11/12/2022 03:46:21 PM</td>\n",
              "      <td>41.873884</td>\n",
              "      <td>-87.624219</td>\n",
              "      <td>(41.873883785, -87.624218932)</td>\n",
              "      <td>2022</td>\n",
              "    </tr>\n",
              "    <tr>\n",
              "      <th>215548</th>\n",
              "      <td>12742026</td>\n",
              "      <td>JF294494</td>\n",
              "      <td>06/24/2022 03:43:00 PM</td>\n",
              "      <td>075XX N CLARK ST</td>\n",
              "      <td>0860</td>\n",
              "      <td>THEFT</td>\n",
              "      <td>RETAIL THEFT</td>\n",
              "      <td>DEPARTMENT STORE</td>\n",
              "      <td>False</td>\n",
              "      <td>False</td>\n",
              "      <td>...</td>\n",
              "      <td>1</td>\n",
              "      <td>06</td>\n",
              "      <td>1162907.0</td>\n",
              "      <td>1949949.0</td>\n",
              "      <td>2022</td>\n",
              "      <td>11/12/2022 03:46:21 PM</td>\n",
              "      <td>42.018312</td>\n",
              "      <td>-87.675867</td>\n",
              "      <td>(42.018311737, -87.675866628)</td>\n",
              "      <td>2022</td>\n",
              "    </tr>\n",
              "    <tr>\n",
              "      <th>215549</th>\n",
              "      <td>12757420</td>\n",
              "      <td>JF313061</td>\n",
              "      <td>07/01/2022 12:00:00 AM</td>\n",
              "      <td>001XX N MAY ST</td>\n",
              "      <td>0281</td>\n",
              "      <td>CRIMINAL SEXUAL ASSAULT</td>\n",
              "      <td>NON-AGGRAVATED</td>\n",
              "      <td>HOTEL / MOTEL</td>\n",
              "      <td>False</td>\n",
              "      <td>False</td>\n",
              "      <td>...</td>\n",
              "      <td>28</td>\n",
              "      <td>02</td>\n",
              "      <td>1168809.0</td>\n",
              "      <td>1900813.0</td>\n",
              "      <td>2022</td>\n",
              "      <td>11/12/2022 03:46:21 PM</td>\n",
              "      <td>41.883354</td>\n",
              "      <td>-87.655578</td>\n",
              "      <td>(41.883354174, -87.655578272)</td>\n",
              "      <td>2022</td>\n",
              "    </tr>\n",
              "    <tr>\n",
              "      <th>215550</th>\n",
              "      <td>12760994</td>\n",
              "      <td>JF317539</td>\n",
              "      <td>07/14/2022 02:45:00 PM</td>\n",
              "      <td>063XX S WESTERN AVE</td>\n",
              "      <td>0460</td>\n",
              "      <td>BATTERY</td>\n",
              "      <td>SIMPLE</td>\n",
              "      <td>PARKING LOT / GARAGE (NON RESIDENTIAL)</td>\n",
              "      <td>False</td>\n",
              "      <td>False</td>\n",
              "      <td>...</td>\n",
              "      <td>66</td>\n",
              "      <td>08B</td>\n",
              "      <td>1161460.0</td>\n",
              "      <td>1862589.0</td>\n",
              "      <td>2022</td>\n",
              "      <td>11/12/2022 03:46:21 PM</td>\n",
              "      <td>41.778619</td>\n",
              "      <td>-87.683626</td>\n",
              "      <td>(41.778619322, -87.683625816)</td>\n",
              "      <td>2022</td>\n",
              "    </tr>\n",
              "  </tbody>\n",
              "</table>\n",
              "<p>215551 rows × 23 columns</p>\n",
              "</div>\n",
              "      <button class=\"colab-df-convert\" onclick=\"convertToInteractive('df-acc59d9b-c37b-4372-9628-646a8082e015')\"\n",
              "              title=\"Convert this dataframe to an interactive table.\"\n",
              "              style=\"display:none;\">\n",
              "        \n",
              "  <svg xmlns=\"http://www.w3.org/2000/svg\" height=\"24px\"viewBox=\"0 0 24 24\"\n",
              "       width=\"24px\">\n",
              "    <path d=\"M0 0h24v24H0V0z\" fill=\"none\"/>\n",
              "    <path d=\"M18.56 5.44l.94 2.06.94-2.06 2.06-.94-2.06-.94-.94-2.06-.94 2.06-2.06.94zm-11 1L8.5 8.5l.94-2.06 2.06-.94-2.06-.94L8.5 2.5l-.94 2.06-2.06.94zm10 10l.94 2.06.94-2.06 2.06-.94-2.06-.94-.94-2.06-.94 2.06-2.06.94z\"/><path d=\"M17.41 7.96l-1.37-1.37c-.4-.4-.92-.59-1.43-.59-.52 0-1.04.2-1.43.59L10.3 9.45l-7.72 7.72c-.78.78-.78 2.05 0 2.83L4 21.41c.39.39.9.59 1.41.59.51 0 1.02-.2 1.41-.59l7.78-7.78 2.81-2.81c.8-.78.8-2.07 0-2.86zM5.41 20L4 18.59l7.72-7.72 1.47 1.35L5.41 20z\"/>\n",
              "  </svg>\n",
              "      </button>\n",
              "      \n",
              "  <style>\n",
              "    .colab-df-container {\n",
              "      display:flex;\n",
              "      flex-wrap:wrap;\n",
              "      gap: 12px;\n",
              "    }\n",
              "\n",
              "    .colab-df-convert {\n",
              "      background-color: #E8F0FE;\n",
              "      border: none;\n",
              "      border-radius: 50%;\n",
              "      cursor: pointer;\n",
              "      display: none;\n",
              "      fill: #1967D2;\n",
              "      height: 32px;\n",
              "      padding: 0 0 0 0;\n",
              "      width: 32px;\n",
              "    }\n",
              "\n",
              "    .colab-df-convert:hover {\n",
              "      background-color: #E2EBFA;\n",
              "      box-shadow: 0px 1px 2px rgba(60, 64, 67, 0.3), 0px 1px 3px 1px rgba(60, 64, 67, 0.15);\n",
              "      fill: #174EA6;\n",
              "    }\n",
              "\n",
              "    [theme=dark] .colab-df-convert {\n",
              "      background-color: #3B4455;\n",
              "      fill: #D2E3FC;\n",
              "    }\n",
              "\n",
              "    [theme=dark] .colab-df-convert:hover {\n",
              "      background-color: #434B5C;\n",
              "      box-shadow: 0px 1px 3px 1px rgba(0, 0, 0, 0.15);\n",
              "      filter: drop-shadow(0px 1px 2px rgba(0, 0, 0, 0.3));\n",
              "      fill: #FFFFFF;\n",
              "    }\n",
              "  </style>\n",
              "\n",
              "      <script>\n",
              "        const buttonEl =\n",
              "          document.querySelector('#df-acc59d9b-c37b-4372-9628-646a8082e015 button.colab-df-convert');\n",
              "        buttonEl.style.display =\n",
              "          google.colab.kernel.accessAllowed ? 'block' : 'none';\n",
              "\n",
              "        async function convertToInteractive(key) {\n",
              "          const element = document.querySelector('#df-acc59d9b-c37b-4372-9628-646a8082e015');\n",
              "          const dataTable =\n",
              "            await google.colab.kernel.invokeFunction('convertToInteractive',\n",
              "                                                     [key], {});\n",
              "          if (!dataTable) return;\n",
              "\n",
              "          const docLinkHtml = 'Like what you see? Visit the ' +\n",
              "            '<a target=\"_blank\" href=https://colab.research.google.com/notebooks/data_table.ipynb>data table notebook</a>'\n",
              "            + ' to learn more about interactive tables.';\n",
              "          element.innerHTML = '';\n",
              "          dataTable['output_type'] = 'display_data';\n",
              "          await google.colab.output.renderOutput(dataTable, element);\n",
              "          const docLink = document.createElement('div');\n",
              "          docLink.innerHTML = docLinkHtml;\n",
              "          element.appendChild(docLink);\n",
              "        }\n",
              "      </script>\n",
              "    </div>\n",
              "  </div>\n",
              "  "
            ]
          },
          "metadata": {},
          "execution_count": 20
        }
      ]
    },
    {
      "cell_type": "code",
      "source": [
        "%%time\n",
        "# Polars\n",
        "df_pl.filter(pl.col('Year') > 2021)"
      ],
      "metadata": {
        "colab": {
          "base_uri": "https://localhost:8080/",
          "height": 1000
        },
        "id": "h8_Gfpp5X54m",
        "outputId": "d364c760-3013-40df-b596-50733dee51f9"
      },
      "execution_count": null,
      "outputs": [
        {
          "output_type": "stream",
          "name": "stdout",
          "text": [
            "CPU times: user 16.9 ms, sys: 13.7 ms, total: 30.6 ms\n",
            "Wall time: 41.1 ms\n"
          ]
        },
        {
          "output_type": "execute_result",
          "data": {
            "text/plain": [
              "shape: (215551, 22)\n",
              "┌──────────┬───────────┬────────────┬───────────┬───┬──────────┬───────────┬───────────┬───────────┐\n",
              "│ ID       ┆ Case      ┆ Date       ┆ Block     ┆ … ┆ Updated  ┆ Latitude  ┆ Longitude ┆ Location  │\n",
              "│ ---      ┆ Number    ┆ ---        ┆ ---       ┆   ┆ On       ┆ ---       ┆ ---       ┆ ---       │\n",
              "│ i64      ┆ ---       ┆ str        ┆ str       ┆   ┆ ---      ┆ f64       ┆ f64       ┆ str       │\n",
              "│          ┆ str       ┆            ┆           ┆   ┆ str      ┆           ┆           ┆           │\n",
              "╞══════════╪═══════════╪════════════╪═══════════╪═══╪══════════╪═══════════╪═══════════╪═══════════╡\n",
              "│ 12757446 ┆ JF313117  ┆ 07/08/2022 ┆ 087XX S   ┆ … ┆ 11/12/20 ┆ 41.734817 ┆ -87.67059 ┆ (41.73481 │\n",
              "│          ┆           ┆ 10:38:00   ┆ WINCHESTE ┆   ┆ 22       ┆           ┆ 6         ┆ 7155, -87 │\n",
              "│          ┆           ┆ AM         ┆ R AVE     ┆   ┆ 03:46:21 ┆           ┆           ┆ .67059564 │\n",
              "│          ┆           ┆            ┆           ┆   ┆ PM       ┆           ┆           ┆ 7)        │\n",
              "│ 12755229 ┆ JF310109  ┆ 07/08/2022 ┆ 056XX N   ┆ … ┆ 11/12/20 ┆ 41.983491 ┆ -87.71132 ┆ (41.98349 │\n",
              "│          ┆           ┆ 03:21:00   ┆ SPAULDING ┆   ┆ 22       ┆           ┆ 4         ┆ 0742, -87 │\n",
              "│          ┆           ┆ AM         ┆ AVE       ┆   ┆ 03:46:21 ┆           ┆           ┆ .71132442 │\n",
              "│          ┆           ┆            ┆           ┆   ┆ PM       ┆           ┆           ┆ 1)        │\n",
              "│ 12763369 ┆ JF320208  ┆ 07/16/2022 ┆ 038XX N   ┆ … ┆ 11/12/20 ┆ 41.951624 ┆ -87.65445 ┆ (41.95162 │\n",
              "│          ┆           ┆ 10:55:00   ┆ SHEFFIELD ┆   ┆ 22       ┆           ┆ 8         ┆ 3924, -87 │\n",
              "│          ┆           ┆ PM         ┆ AVE       ┆   ┆ 03:46:21 ┆           ┆           ┆ .65445848 │\n",
              "│          ┆           ┆            ┆           ┆   ┆ PM       ┆           ┆           ┆ 6)        │\n",
              "│ 12766036 ┆ JF323691  ┆ 07/19/2022 ┆ 113XX S   ┆ … ┆ 11/12/20 ┆ 41.688155 ┆ -87.63619 ┆ (41.68815 │\n",
              "│          ┆           ┆ 04:00:00   ┆ PARNELL   ┆   ┆ 22       ┆           ┆ 9         ┆ 4968, -87 │\n",
              "│          ┆           ┆ PM         ┆ AVE       ┆   ┆ 03:46:21 ┆           ┆           ┆ .63619864 │\n",
              "│          ┆           ┆            ┆           ┆   ┆ PM       ┆           ┆           ┆ 5)        │\n",
              "│ …        ┆ …         ┆ …          ┆ …         ┆ … ┆ …        ┆ …         ┆ …         ┆ …         │\n",
              "│ 12765045 ┆ JF321506  ┆ 07/08/2022 ┆ 006XX S   ┆ … ┆ 11/12/20 ┆ 41.873884 ┆ -87.62421 ┆ (41.87388 │\n",
              "│          ┆           ┆ 02:00:00   ┆ MICHIGAN  ┆   ┆ 22       ┆           ┆ 9         ┆ 3785, -87 │\n",
              "│          ┆           ┆ PM         ┆ AVE       ┆   ┆ 03:46:21 ┆           ┆           ┆ .62421893 │\n",
              "│          ┆           ┆            ┆           ┆   ┆ PM       ┆           ┆           ┆ 2)        │\n",
              "│ 12742026 ┆ JF294494  ┆ 06/24/2022 ┆ 075XX N   ┆ … ┆ 11/12/20 ┆ 42.018312 ┆ -87.67586 ┆ (42.01831 │\n",
              "│          ┆           ┆ 03:43:00   ┆ CLARK ST  ┆   ┆ 22       ┆           ┆ 7         ┆ 1737, -87 │\n",
              "│          ┆           ┆ PM         ┆           ┆   ┆ 03:46:21 ┆           ┆           ┆ .67586662 │\n",
              "│          ┆           ┆            ┆           ┆   ┆ PM       ┆           ┆           ┆ 8)        │\n",
              "│ 12757420 ┆ JF313061  ┆ 07/01/2022 ┆ 001XX N   ┆ … ┆ 11/12/20 ┆ 41.883354 ┆ -87.65557 ┆ (41.88335 │\n",
              "│          ┆           ┆ 12:00:00   ┆ MAY ST    ┆   ┆ 22       ┆           ┆ 8         ┆ 4174, -87 │\n",
              "│          ┆           ┆ AM         ┆           ┆   ┆ 03:46:21 ┆           ┆           ┆ .65557827 │\n",
              "│          ┆           ┆            ┆           ┆   ┆ PM       ┆           ┆           ┆ 2)        │\n",
              "│ 12760994 ┆ JF317539  ┆ 07/14/2022 ┆ 063XX S   ┆ … ┆ 11/12/20 ┆ 41.778619 ┆ -87.68362 ┆ (41.77861 │\n",
              "│          ┆           ┆ 02:45:00   ┆ WESTERN   ┆   ┆ 22       ┆           ┆ 6         ┆ 9322, -87 │\n",
              "│          ┆           ┆ PM         ┆ AVE       ┆   ┆ 03:46:21 ┆           ┆           ┆ .68362581 │\n",
              "│          ┆           ┆            ┆           ┆   ┆ PM       ┆           ┆           ┆ 6)        │\n",
              "└──────────┴───────────┴────────────┴───────────┴───┴──────────┴───────────┴───────────┴───────────┘"
            ],
            "text/html": [
              "<div><style>\n",
              ".dataframe > thead > tr > th,\n",
              ".dataframe > tbody > tr > td {\n",
              "  text-align: right;\n",
              "}\n",
              "</style>\n",
              "<small>shape: (215551, 22)</small><table border=\"1\" class=\"dataframe\"><thead><tr><th>ID</th><th>Case Number</th><th>Date</th><th>Block</th><th>IUCR</th><th>Primary Type</th><th>Description</th><th>Location Description</th><th>Arrest</th><th>Domestic</th><th>Beat</th><th>District</th><th>Ward</th><th>Community Area</th><th>FBI Code</th><th>X Coordinate</th><th>Y Coordinate</th><th>Year</th><th>Updated On</th><th>Latitude</th><th>Longitude</th><th>Location</th></tr><tr><td>i64</td><td>str</td><td>str</td><td>str</td><td>str</td><td>str</td><td>str</td><td>str</td><td>bool</td><td>bool</td><td>i64</td><td>i64</td><td>i64</td><td>i64</td><td>str</td><td>i64</td><td>i64</td><td>i64</td><td>str</td><td>f64</td><td>f64</td><td>str</td></tr></thead><tbody><tr><td>12757446</td><td>&quot;JF313117&quot;</td><td>&quot;07/08/2022 10:…</td><td>&quot;087XX S WINCHE…</td><td>&quot;0820&quot;</td><td>&quot;THEFT&quot;</td><td>&quot;$500 AND UNDER…</td><td>&quot;RESIDENCE&quot;</td><td>false</td><td>true</td><td>2221</td><td>22</td><td>21</td><td>71</td><td>&quot;06&quot;</td><td>1165137</td><td>1846655</td><td>2022</td><td>&quot;11/12/2022 03:…</td><td>41.734817</td><td>-87.670596</td><td>&quot;(41.734817155,…</td></tr><tr><td>12755229</td><td>&quot;JF310109&quot;</td><td>&quot;07/08/2022 03:…</td><td>&quot;056XX N SPAULD…</td><td>&quot;1154&quot;</td><td>&quot;DECEPTIVE PRAC…</td><td>&quot;FINANCIAL IDEN…</td><td>null</td><td>false</td><td>false</td><td>1711</td><td>17</td><td>39</td><td>13</td><td>&quot;11&quot;</td><td>1153364</td><td>1937188</td><td>2022</td><td>&quot;11/12/2022 03:…</td><td>41.983491</td><td>-87.711324</td><td>&quot;(41.983490742,…</td></tr><tr><td>12763369</td><td>&quot;JF320208&quot;</td><td>&quot;07/16/2022 10:…</td><td>&quot;038XX N SHEFFI…</td><td>&quot;0330&quot;</td><td>&quot;ROBBERY&quot;</td><td>&quot;AGGRAVATED&quot;</td><td>&quot;SIDEWALK&quot;</td><td>true</td><td>false</td><td>1923</td><td>19</td><td>46</td><td>6</td><td>&quot;03&quot;</td><td>1168917</td><td>1925693</td><td>2022</td><td>&quot;11/12/2022 03:…</td><td>41.951624</td><td>-87.654458</td><td>&quot;(41.951623924,…</td></tr><tr><td>12766036</td><td>&quot;JF323691&quot;</td><td>&quot;07/19/2022 04:…</td><td>&quot;113XX S PARNEL…</td><td>&quot;1792&quot;</td><td>&quot;KIDNAPPING&quot;</td><td>&quot;CHILD ABDUCTIO…</td><td>&quot;SIDEWALK&quot;</td><td>false</td><td>false</td><td>2233</td><td>22</td><td>34</td><td>49</td><td>&quot;26&quot;</td><td>1174663</td><td>1829726</td><td>2022</td><td>&quot;11/12/2022 03:…</td><td>41.688155</td><td>-87.636199</td><td>&quot;(41.688154968,…</td></tr><tr><td>12758668</td><td>&quot;JF314314&quot;</td><td>&quot;07/12/2022 06:…</td><td>&quot;044XX W WALTON…</td><td>&quot;0610&quot;</td><td>&quot;BURGLARY&quot;</td><td>&quot;FORCIBLE ENTRY…</td><td>&quot;RESIDENCE&quot;</td><td>false</td><td>true</td><td>1111</td><td>11</td><td>37</td><td>23</td><td>&quot;05&quot;</td><td>1146679</td><td>1905959</td><td>2022</td><td>&quot;11/12/2022 03:…</td><td>41.897926</td><td>-87.73671</td><td>&quot;(41.897926219,…</td></tr><tr><td>12765741</td><td>&quot;JF323255&quot;</td><td>&quot;06/27/2022 09:…</td><td>&quot;002XX S LAVERG…</td><td>&quot;1320&quot;</td><td>&quot;CRIMINAL DAMAG…</td><td>&quot;TO VEHICLE&quot;</td><td>&quot;RESIDENCE&quot;</td><td>false</td><td>false</td><td>1533</td><td>15</td><td>28</td><td>25</td><td>&quot;14&quot;</td><td>1143292</td><td>1898696</td><td>2022</td><td>&quot;11/12/2022 03:…</td><td>41.87806</td><td>-87.749332</td><td>&quot;(41.878059641,…</td></tr><tr><td>12759104</td><td>&quot;JF315164&quot;</td><td>&quot;07/12/2022 01:…</td><td>&quot;012XX N ARTESI…</td><td>&quot;0820&quot;</td><td>&quot;THEFT&quot;</td><td>&quot;$500 AND UNDER…</td><td>&quot;STREET&quot;</td><td>false</td><td>false</td><td>1423</td><td>14</td><td>26</td><td>24</td><td>&quot;06&quot;</td><td>1159848</td><td>1908228</td><td>2022</td><td>&quot;11/12/2022 03:…</td><td>41.903891</td><td>-87.688279</td><td>&quot;(41.903891052,…</td></tr><tr><td>12756232</td><td>&quot;JF311569&quot;</td><td>&quot;07/09/2022 09:…</td><td>&quot;020XX W NORTH …</td><td>&quot;0460&quot;</td><td>&quot;BATTERY&quot;</td><td>&quot;SIMPLE&quot;</td><td>&quot;HOTEL / MOTEL&quot;</td><td>true</td><td>false</td><td>1434</td><td>14</td><td>2</td><td>24</td><td>&quot;08B&quot;</td><td>1162488</td><td>1910644</td><td>2022</td><td>&quot;11/12/2022 03:…</td><td>41.910466</td><td>-87.678514</td><td>&quot;(41.910465849,…</td></tr><tr><td>12761035</td><td>&quot;JF317440&quot;</td><td>&quot;07/13/2022 07:…</td><td>&quot;029XX N SACRAM…</td><td>&quot;0917&quot;</td><td>&quot;MOTOR VEHICLE …</td><td>&quot;CYCLE, SCOOTER…</td><td>&quot;STREET&quot;</td><td>false</td><td>false</td><td>1411</td><td>14</td><td>33</td><td>21</td><td>&quot;07&quot;</td><td>1155869</td><td>1919370</td><td>2022</td><td>&quot;11/12/2022 03:…</td><td>41.934547</td><td>-87.702594</td><td>&quot;(41.93454677, …</td></tr><tr><td>12757374</td><td>&quot;JF313010&quot;</td><td>&quot;07/01/2022 09:…</td><td>&quot;043XX S PACKER…</td><td>&quot;1153&quot;</td><td>&quot;DECEPTIVE PRAC…</td><td>&quot;FINANCIAL IDEN…</td><td>&quot;OTHER COMMERCI…</td><td>false</td><td>false</td><td>924</td><td>9</td><td>11</td><td>61</td><td>&quot;11&quot;</td><td>1168167</td><td>1876163</td><td>2022</td><td>&quot;11/12/2022 03:…</td><td>41.815726</td><td>-87.658647</td><td>&quot;(41.815726254,…</td></tr><tr><td>12765479</td><td>&quot;JF322734&quot;</td><td>&quot;07/18/2022 11:…</td><td>&quot;021XX W CONGRE…</td><td>&quot;0486&quot;</td><td>&quot;BATTERY&quot;</td><td>&quot;DOMESTIC BATTE…</td><td>&quot;STREET&quot;</td><td>false</td><td>true</td><td>1225</td><td>12</td><td>27</td><td>28</td><td>&quot;08B&quot;</td><td>1162233</td><td>1897705</td><td>2022</td><td>&quot;11/12/2022 03:…</td><td>41.874966</td><td>-87.679813</td><td>&quot;(41.874965525,…</td></tr><tr><td>12758857</td><td>&quot;JF314516&quot;</td><td>&quot;07/11/2022 08:…</td><td>&quot;011XX W FARWEL…</td><td>&quot;0430&quot;</td><td>&quot;BATTERY&quot;</td><td>&quot;AGGRAVATED - O…</td><td>&quot;PARK PROPERTY&quot;</td><td>false</td><td>false</td><td>2431</td><td>24</td><td>49</td><td>1</td><td>&quot;04B&quot;</td><td>1167450</td><td>1945788</td><td>2022</td><td>&quot;11/12/2022 03:…</td><td>42.006797</td><td>-87.65927</td><td>&quot;(42.00679693, …</td></tr><tr><td>&hellip;</td><td>&hellip;</td><td>&hellip;</td><td>&hellip;</td><td>&hellip;</td><td>&hellip;</td><td>&hellip;</td><td>&hellip;</td><td>&hellip;</td><td>&hellip;</td><td>&hellip;</td><td>&hellip;</td><td>&hellip;</td><td>&hellip;</td><td>&hellip;</td><td>&hellip;</td><td>&hellip;</td><td>&hellip;</td><td>&hellip;</td><td>&hellip;</td><td>&hellip;</td><td>&hellip;</td></tr><tr><td>12763743</td><td>&quot;JF320740&quot;</td><td>&quot;07/17/2022 12:…</td><td>&quot;066XX S WESTER…</td><td>&quot;0860&quot;</td><td>&quot;THEFT&quot;</td><td>&quot;RETAIL THEFT&quot;</td><td>&quot;SMALL RETAIL S…</td><td>false</td><td>false</td><td>832</td><td>8</td><td>16</td><td>66</td><td>&quot;06&quot;</td><td>1161518</td><td>1860508</td><td>2022</td><td>&quot;11/12/2022 03:…</td><td>41.772908</td><td>-87.683471</td><td>&quot;(41.772907566,…</td></tr><tr><td>12764921</td><td>&quot;JF322439&quot;</td><td>&quot;07/08/2022 12:…</td><td>&quot;009XX W 31ST S…</td><td>&quot;1242&quot;</td><td>&quot;DECEPTIVE PRAC…</td><td>&quot;COMPUTER FRAUD…</td><td>&quot;OTHER (SPECIFY…</td><td>false</td><td>false</td><td>913</td><td>9</td><td>11</td><td>60</td><td>&quot;11&quot;</td><td>1170484</td><td>1884298</td><td>2022</td><td>&quot;11/12/2022 03:…</td><td>41.837999</td><td>-87.64991</td><td>&quot;(41.837999238,…</td></tr><tr><td>12748153</td><td>&quot;JF301761&quot;</td><td>&quot;07/01/2022 05:…</td><td>&quot;044XX N KASSON…</td><td>&quot;1811&quot;</td><td>&quot;NARCOTICS&quot;</td><td>&quot;POSSESS - CANN…</td><td>&quot;STREET&quot;</td><td>true</td><td>false</td><td>1722</td><td>17</td><td>39</td><td>14</td><td>&quot;18&quot;</td><td>1148374</td><td>1929416</td><td>2022</td><td>&quot;11/12/2022 03:…</td><td>41.962262</td><td>-87.729878</td><td>&quot;(41.962261812,…</td></tr><tr><td>12745535</td><td>&quot;JF298679&quot;</td><td>&quot;06/29/2022 05:…</td><td>&quot;002XX E ILLINO…</td><td>&quot;0820&quot;</td><td>&quot;THEFT&quot;</td><td>&quot;$500 AND UNDER…</td><td>&quot;PARKING LOT / …</td><td>false</td><td>false</td><td>1834</td><td>18</td><td>42</td><td>8</td><td>&quot;06&quot;</td><td>1178196</td><td>1903671</td><td>2022</td><td>&quot;11/12/2022 03:…</td><td>41.890988</td><td>-87.621022</td><td>&quot;(41.890988065,…</td></tr><tr><td>12756421</td><td>&quot;JF311702&quot;</td><td>&quot;07/09/2022 11:…</td><td>&quot;071XX S YALE A…</td><td>&quot;0486&quot;</td><td>&quot;BATTERY&quot;</td><td>&quot;DOMESTIC BATTE…</td><td>&quot;RESIDENCE&quot;</td><td>false</td><td>true</td><td>731</td><td>7</td><td>6</td><td>69</td><td>&quot;08B&quot;</td><td>1175860</td><td>1857623</td><td>2022</td><td>&quot;11/12/2022 03:…</td><td>41.764681</td><td>-87.630983</td><td>&quot;(41.764681384,…</td></tr><tr><td>12755419</td><td>&quot;JF310675&quot;</td><td>&quot;07/09/2022 02:…</td><td>&quot;034XX N HALSTE…</td><td>&quot;0460&quot;</td><td>&quot;BATTERY&quot;</td><td>&quot;SIMPLE&quot;</td><td>&quot;SIDEWALK&quot;</td><td>true</td><td>false</td><td>1924</td><td>19</td><td>44</td><td>6</td><td>&quot;08B&quot;</td><td>1170308</td><td>1923273</td><td>2022</td><td>&quot;11/12/2022 03:…</td><td>41.944953</td><td>-87.649416</td><td>&quot;(41.944953005,…</td></tr><tr><td>12754184</td><td>&quot;JF308283&quot;</td><td>&quot;06/02/2022 09:…</td><td>&quot;0000X N STATE …</td><td>&quot;0860&quot;</td><td>&quot;THEFT&quot;</td><td>&quot;RETAIL THEFT&quot;</td><td>&quot;DEPARTMENT STO…</td><td>false</td><td>false</td><td>112</td><td>1</td><td>42</td><td>32</td><td>&quot;06&quot;</td><td>1176364</td><td>1900524</td><td>2022</td><td>&quot;11/12/2022 03:…</td><td>41.882394</td><td>-87.627845</td><td>&quot;(41.882394062,…</td></tr><tr><td>12759190</td><td>&quot;JF315350&quot;</td><td>&quot;07/09/2022 07:…</td><td>&quot;098XX S CALHOU…</td><td>&quot;0820&quot;</td><td>&quot;THEFT&quot;</td><td>&quot;$500 AND UNDER…</td><td>&quot;RESIDENCE&quot;</td><td>false</td><td>false</td><td>431</td><td>4</td><td>10</td><td>51</td><td>&quot;06&quot;</td><td>1194763</td><td>1840111</td><td>2022</td><td>&quot;11/12/2022 03:…</td><td>41.716183</td><td>-87.562275</td><td>&quot;(41.71618255, …</td></tr><tr><td>12765045</td><td>&quot;JF321506&quot;</td><td>&quot;07/08/2022 02:…</td><td>&quot;006XX S MICHIG…</td><td>&quot;0810&quot;</td><td>&quot;THEFT&quot;</td><td>&quot;OVER $500&quot;</td><td>&quot;HOTEL / MOTEL&quot;</td><td>false</td><td>false</td><td>123</td><td>1</td><td>42</td><td>32</td><td>&quot;06&quot;</td><td>1177377</td><td>1897431</td><td>2022</td><td>&quot;11/12/2022 03:…</td><td>41.873884</td><td>-87.624219</td><td>&quot;(41.873883785,…</td></tr><tr><td>12742026</td><td>&quot;JF294494&quot;</td><td>&quot;06/24/2022 03:…</td><td>&quot;075XX N CLARK …</td><td>&quot;0860&quot;</td><td>&quot;THEFT&quot;</td><td>&quot;RETAIL THEFT&quot;</td><td>&quot;DEPARTMENT STO…</td><td>false</td><td>false</td><td>2422</td><td>24</td><td>49</td><td>1</td><td>&quot;06&quot;</td><td>1162907</td><td>1949949</td><td>2022</td><td>&quot;11/12/2022 03:…</td><td>42.018312</td><td>-87.675867</td><td>&quot;(42.018311737,…</td></tr><tr><td>12757420</td><td>&quot;JF313061&quot;</td><td>&quot;07/01/2022 12:…</td><td>&quot;001XX N MAY ST…</td><td>&quot;0281&quot;</td><td>&quot;CRIMINAL SEXUA…</td><td>&quot;NON-AGGRAVATED…</td><td>&quot;HOTEL / MOTEL&quot;</td><td>false</td><td>false</td><td>1224</td><td>12</td><td>27</td><td>28</td><td>&quot;02&quot;</td><td>1168809</td><td>1900813</td><td>2022</td><td>&quot;11/12/2022 03:…</td><td>41.883354</td><td>-87.655578</td><td>&quot;(41.883354174,…</td></tr><tr><td>12760994</td><td>&quot;JF317539&quot;</td><td>&quot;07/14/2022 02:…</td><td>&quot;063XX S WESTER…</td><td>&quot;0460&quot;</td><td>&quot;BATTERY&quot;</td><td>&quot;SIMPLE&quot;</td><td>&quot;PARKING LOT / …</td><td>false</td><td>false</td><td>825</td><td>8</td><td>16</td><td>66</td><td>&quot;08B&quot;</td><td>1161460</td><td>1862589</td><td>2022</td><td>&quot;11/12/2022 03:…</td><td>41.778619</td><td>-87.683626</td><td>&quot;(41.778619322,…</td></tr></tbody></table></div>"
            ]
          },
          "metadata": {},
          "execution_count": 7
        }
      ]
    },
    {
      "cell_type": "markdown",
      "source": [
        "##Creating New Columns\n",
        "Creating a new column in Polars also differs from what you might be used to in Pandas. In Polars, you need to use the .with_column() or the .with_columns() method depending on how many columns you want to create."
      ],
      "metadata": {
        "id": "5_YAJ4UTYbL2"
      }
    },
    {
      "cell_type": "code",
      "source": [
        "%%time\n",
        "# Pandas\n",
        "df_pd[\"new_year\"] = df_pd[\"Year\"] "
      ],
      "metadata": {
        "colab": {
          "base_uri": "https://localhost:8080/"
        },
        "id": "QPavioiGYR0p",
        "outputId": "a51e3a98-636d-43e5-93df-d95f9e448736"
      },
      "execution_count": null,
      "outputs": [
        {
          "output_type": "stream",
          "name": "stdout",
          "text": [
            "CPU times: user 1.53 ms, sys: 0 ns, total: 1.53 ms\n",
            "Wall time: 1.54 ms\n"
          ]
        }
      ]
    },
    {
      "cell_type": "code",
      "source": [
        "%%time\n",
        "# Polars\n",
        "df_pl.with_columns([(pl.col(\"Year\")).alias(\"new_year\")])\n"
      ],
      "metadata": {
        "colab": {
          "base_uri": "https://localhost:8080/",
          "height": 1000
        },
        "id": "qfWeJ8jyZB5z",
        "outputId": "01b951fe-a445-4d39-c128-d798a0767c84"
      },
      "execution_count": null,
      "outputs": [
        {
          "output_type": "stream",
          "name": "stdout",
          "text": [
            "CPU times: user 429 µs, sys: 0 ns, total: 429 µs\n",
            "Wall time: 452 µs\n"
          ]
        },
        {
          "output_type": "execute_result",
          "data": {
            "text/plain": [
              "shape: (215551, 23)\n",
              "┌──────────┬───────────┬────────────┬───────────┬───┬───────────┬───────────┬───────────┬──────────┐\n",
              "│ ID       ┆ Case      ┆ Date       ┆ Block     ┆ … ┆ Latitude  ┆ Longitude ┆ Location  ┆ new_year │\n",
              "│ ---      ┆ Number    ┆ ---        ┆ ---       ┆   ┆ ---       ┆ ---       ┆ ---       ┆ ---      │\n",
              "│ i64      ┆ ---       ┆ str        ┆ str       ┆   ┆ f64       ┆ f64       ┆ str       ┆ i64      │\n",
              "│          ┆ str       ┆            ┆           ┆   ┆           ┆           ┆           ┆          │\n",
              "╞══════════╪═══════════╪════════════╪═══════════╪═══╪═══════════╪═══════════╪═══════════╪══════════╡\n",
              "│ 12757446 ┆ JF313117  ┆ 07/08/2022 ┆ 087XX S   ┆ … ┆ 41.734817 ┆ -87.67059 ┆ (41.73481 ┆ 2022     │\n",
              "│          ┆           ┆ 10:38:00   ┆ WINCHESTE ┆   ┆           ┆ 6         ┆ 7155, -87 ┆          │\n",
              "│          ┆           ┆ AM         ┆ R AVE     ┆   ┆           ┆           ┆ .67059564 ┆          │\n",
              "│          ┆           ┆            ┆           ┆   ┆           ┆           ┆ 7)        ┆          │\n",
              "│ 12755229 ┆ JF310109  ┆ 07/08/2022 ┆ 056XX N   ┆ … ┆ 41.983491 ┆ -87.71132 ┆ (41.98349 ┆ 2022     │\n",
              "│          ┆           ┆ 03:21:00   ┆ SPAULDING ┆   ┆           ┆ 4         ┆ 0742, -87 ┆          │\n",
              "│          ┆           ┆ AM         ┆ AVE       ┆   ┆           ┆           ┆ .71132442 ┆          │\n",
              "│          ┆           ┆            ┆           ┆   ┆           ┆           ┆ 1)        ┆          │\n",
              "│ 12763369 ┆ JF320208  ┆ 07/16/2022 ┆ 038XX N   ┆ … ┆ 41.951624 ┆ -87.65445 ┆ (41.95162 ┆ 2022     │\n",
              "│          ┆           ┆ 10:55:00   ┆ SHEFFIELD ┆   ┆           ┆ 8         ┆ 3924, -87 ┆          │\n",
              "│          ┆           ┆ PM         ┆ AVE       ┆   ┆           ┆           ┆ .65445848 ┆          │\n",
              "│          ┆           ┆            ┆           ┆   ┆           ┆           ┆ 6)        ┆          │\n",
              "│ 12766036 ┆ JF323691  ┆ 07/19/2022 ┆ 113XX S   ┆ … ┆ 41.688155 ┆ -87.63619 ┆ (41.68815 ┆ 2022     │\n",
              "│          ┆           ┆ 04:00:00   ┆ PARNELL   ┆   ┆           ┆ 9         ┆ 4968, -87 ┆          │\n",
              "│          ┆           ┆ PM         ┆ AVE       ┆   ┆           ┆           ┆ .63619864 ┆          │\n",
              "│          ┆           ┆            ┆           ┆   ┆           ┆           ┆ 5)        ┆          │\n",
              "│ …        ┆ …         ┆ …          ┆ …         ┆ … ┆ …         ┆ …         ┆ …         ┆ …        │\n",
              "│ 12765045 ┆ JF321506  ┆ 07/08/2022 ┆ 006XX S   ┆ … ┆ 41.873884 ┆ -87.62421 ┆ (41.87388 ┆ 2022     │\n",
              "│          ┆           ┆ 02:00:00   ┆ MICHIGAN  ┆   ┆           ┆ 9         ┆ 3785, -87 ┆          │\n",
              "│          ┆           ┆ PM         ┆ AVE       ┆   ┆           ┆           ┆ .62421893 ┆          │\n",
              "│          ┆           ┆            ┆           ┆   ┆           ┆           ┆ 2)        ┆          │\n",
              "│ 12742026 ┆ JF294494  ┆ 06/24/2022 ┆ 075XX N   ┆ … ┆ 42.018312 ┆ -87.67586 ┆ (42.01831 ┆ 2022     │\n",
              "│          ┆           ┆ 03:43:00   ┆ CLARK ST  ┆   ┆           ┆ 7         ┆ 1737, -87 ┆          │\n",
              "│          ┆           ┆ PM         ┆           ┆   ┆           ┆           ┆ .67586662 ┆          │\n",
              "│          ┆           ┆            ┆           ┆   ┆           ┆           ┆ 8)        ┆          │\n",
              "│ 12757420 ┆ JF313061  ┆ 07/01/2022 ┆ 001XX N   ┆ … ┆ 41.883354 ┆ -87.65557 ┆ (41.88335 ┆ 2022     │\n",
              "│          ┆           ┆ 12:00:00   ┆ MAY ST    ┆   ┆           ┆ 8         ┆ 4174, -87 ┆          │\n",
              "│          ┆           ┆ AM         ┆           ┆   ┆           ┆           ┆ .65557827 ┆          │\n",
              "│          ┆           ┆            ┆           ┆   ┆           ┆           ┆ 2)        ┆          │\n",
              "│ 12760994 ┆ JF317539  ┆ 07/14/2022 ┆ 063XX S   ┆ … ┆ 41.778619 ┆ -87.68362 ┆ (41.77861 ┆ 2022     │\n",
              "│          ┆           ┆ 02:45:00   ┆ WESTERN   ┆   ┆           ┆ 6         ┆ 9322, -87 ┆          │\n",
              "│          ┆           ┆ PM         ┆ AVE       ┆   ┆           ┆           ┆ .68362581 ┆          │\n",
              "│          ┆           ┆            ┆           ┆   ┆           ┆           ┆ 6)        ┆          │\n",
              "└──────────┴───────────┴────────────┴───────────┴───┴───────────┴───────────┴───────────┴──────────┘"
            ],
            "text/html": [
              "<div><style>\n",
              ".dataframe > thead > tr > th,\n",
              ".dataframe > tbody > tr > td {\n",
              "  text-align: right;\n",
              "}\n",
              "</style>\n",
              "<small>shape: (215551, 23)</small><table border=\"1\" class=\"dataframe\"><thead><tr><th>ID</th><th>Case Number</th><th>Date</th><th>Block</th><th>IUCR</th><th>Primary Type</th><th>Description</th><th>Location Description</th><th>Arrest</th><th>Domestic</th><th>Beat</th><th>District</th><th>Ward</th><th>Community Area</th><th>FBI Code</th><th>X Coordinate</th><th>Y Coordinate</th><th>Year</th><th>Updated On</th><th>Latitude</th><th>Longitude</th><th>Location</th><th>new_year</th></tr><tr><td>i64</td><td>str</td><td>str</td><td>str</td><td>str</td><td>str</td><td>str</td><td>str</td><td>bool</td><td>bool</td><td>i64</td><td>i64</td><td>i64</td><td>i64</td><td>str</td><td>i64</td><td>i64</td><td>i64</td><td>str</td><td>f64</td><td>f64</td><td>str</td><td>i64</td></tr></thead><tbody><tr><td>12757446</td><td>&quot;JF313117&quot;</td><td>&quot;07/08/2022 10:…</td><td>&quot;087XX S WINCHE…</td><td>&quot;0820&quot;</td><td>&quot;THEFT&quot;</td><td>&quot;$500 AND UNDER…</td><td>&quot;RESIDENCE&quot;</td><td>false</td><td>true</td><td>2221</td><td>22</td><td>21</td><td>71</td><td>&quot;06&quot;</td><td>1165137</td><td>1846655</td><td>2022</td><td>&quot;11/12/2022 03:…</td><td>41.734817</td><td>-87.670596</td><td>&quot;(41.734817155,…</td><td>2022</td></tr><tr><td>12755229</td><td>&quot;JF310109&quot;</td><td>&quot;07/08/2022 03:…</td><td>&quot;056XX N SPAULD…</td><td>&quot;1154&quot;</td><td>&quot;DECEPTIVE PRAC…</td><td>&quot;FINANCIAL IDEN…</td><td>null</td><td>false</td><td>false</td><td>1711</td><td>17</td><td>39</td><td>13</td><td>&quot;11&quot;</td><td>1153364</td><td>1937188</td><td>2022</td><td>&quot;11/12/2022 03:…</td><td>41.983491</td><td>-87.711324</td><td>&quot;(41.983490742,…</td><td>2022</td></tr><tr><td>12763369</td><td>&quot;JF320208&quot;</td><td>&quot;07/16/2022 10:…</td><td>&quot;038XX N SHEFFI…</td><td>&quot;0330&quot;</td><td>&quot;ROBBERY&quot;</td><td>&quot;AGGRAVATED&quot;</td><td>&quot;SIDEWALK&quot;</td><td>true</td><td>false</td><td>1923</td><td>19</td><td>46</td><td>6</td><td>&quot;03&quot;</td><td>1168917</td><td>1925693</td><td>2022</td><td>&quot;11/12/2022 03:…</td><td>41.951624</td><td>-87.654458</td><td>&quot;(41.951623924,…</td><td>2022</td></tr><tr><td>12766036</td><td>&quot;JF323691&quot;</td><td>&quot;07/19/2022 04:…</td><td>&quot;113XX S PARNEL…</td><td>&quot;1792&quot;</td><td>&quot;KIDNAPPING&quot;</td><td>&quot;CHILD ABDUCTIO…</td><td>&quot;SIDEWALK&quot;</td><td>false</td><td>false</td><td>2233</td><td>22</td><td>34</td><td>49</td><td>&quot;26&quot;</td><td>1174663</td><td>1829726</td><td>2022</td><td>&quot;11/12/2022 03:…</td><td>41.688155</td><td>-87.636199</td><td>&quot;(41.688154968,…</td><td>2022</td></tr><tr><td>12758668</td><td>&quot;JF314314&quot;</td><td>&quot;07/12/2022 06:…</td><td>&quot;044XX W WALTON…</td><td>&quot;0610&quot;</td><td>&quot;BURGLARY&quot;</td><td>&quot;FORCIBLE ENTRY…</td><td>&quot;RESIDENCE&quot;</td><td>false</td><td>true</td><td>1111</td><td>11</td><td>37</td><td>23</td><td>&quot;05&quot;</td><td>1146679</td><td>1905959</td><td>2022</td><td>&quot;11/12/2022 03:…</td><td>41.897926</td><td>-87.73671</td><td>&quot;(41.897926219,…</td><td>2022</td></tr><tr><td>12765741</td><td>&quot;JF323255&quot;</td><td>&quot;06/27/2022 09:…</td><td>&quot;002XX S LAVERG…</td><td>&quot;1320&quot;</td><td>&quot;CRIMINAL DAMAG…</td><td>&quot;TO VEHICLE&quot;</td><td>&quot;RESIDENCE&quot;</td><td>false</td><td>false</td><td>1533</td><td>15</td><td>28</td><td>25</td><td>&quot;14&quot;</td><td>1143292</td><td>1898696</td><td>2022</td><td>&quot;11/12/2022 03:…</td><td>41.87806</td><td>-87.749332</td><td>&quot;(41.878059641,…</td><td>2022</td></tr><tr><td>12759104</td><td>&quot;JF315164&quot;</td><td>&quot;07/12/2022 01:…</td><td>&quot;012XX N ARTESI…</td><td>&quot;0820&quot;</td><td>&quot;THEFT&quot;</td><td>&quot;$500 AND UNDER…</td><td>&quot;STREET&quot;</td><td>false</td><td>false</td><td>1423</td><td>14</td><td>26</td><td>24</td><td>&quot;06&quot;</td><td>1159848</td><td>1908228</td><td>2022</td><td>&quot;11/12/2022 03:…</td><td>41.903891</td><td>-87.688279</td><td>&quot;(41.903891052,…</td><td>2022</td></tr><tr><td>12756232</td><td>&quot;JF311569&quot;</td><td>&quot;07/09/2022 09:…</td><td>&quot;020XX W NORTH …</td><td>&quot;0460&quot;</td><td>&quot;BATTERY&quot;</td><td>&quot;SIMPLE&quot;</td><td>&quot;HOTEL / MOTEL&quot;</td><td>true</td><td>false</td><td>1434</td><td>14</td><td>2</td><td>24</td><td>&quot;08B&quot;</td><td>1162488</td><td>1910644</td><td>2022</td><td>&quot;11/12/2022 03:…</td><td>41.910466</td><td>-87.678514</td><td>&quot;(41.910465849,…</td><td>2022</td></tr><tr><td>12761035</td><td>&quot;JF317440&quot;</td><td>&quot;07/13/2022 07:…</td><td>&quot;029XX N SACRAM…</td><td>&quot;0917&quot;</td><td>&quot;MOTOR VEHICLE …</td><td>&quot;CYCLE, SCOOTER…</td><td>&quot;STREET&quot;</td><td>false</td><td>false</td><td>1411</td><td>14</td><td>33</td><td>21</td><td>&quot;07&quot;</td><td>1155869</td><td>1919370</td><td>2022</td><td>&quot;11/12/2022 03:…</td><td>41.934547</td><td>-87.702594</td><td>&quot;(41.93454677, …</td><td>2022</td></tr><tr><td>12757374</td><td>&quot;JF313010&quot;</td><td>&quot;07/01/2022 09:…</td><td>&quot;043XX S PACKER…</td><td>&quot;1153&quot;</td><td>&quot;DECEPTIVE PRAC…</td><td>&quot;FINANCIAL IDEN…</td><td>&quot;OTHER COMMERCI…</td><td>false</td><td>false</td><td>924</td><td>9</td><td>11</td><td>61</td><td>&quot;11&quot;</td><td>1168167</td><td>1876163</td><td>2022</td><td>&quot;11/12/2022 03:…</td><td>41.815726</td><td>-87.658647</td><td>&quot;(41.815726254,…</td><td>2022</td></tr><tr><td>12765479</td><td>&quot;JF322734&quot;</td><td>&quot;07/18/2022 11:…</td><td>&quot;021XX W CONGRE…</td><td>&quot;0486&quot;</td><td>&quot;BATTERY&quot;</td><td>&quot;DOMESTIC BATTE…</td><td>&quot;STREET&quot;</td><td>false</td><td>true</td><td>1225</td><td>12</td><td>27</td><td>28</td><td>&quot;08B&quot;</td><td>1162233</td><td>1897705</td><td>2022</td><td>&quot;11/12/2022 03:…</td><td>41.874966</td><td>-87.679813</td><td>&quot;(41.874965525,…</td><td>2022</td></tr><tr><td>12758857</td><td>&quot;JF314516&quot;</td><td>&quot;07/11/2022 08:…</td><td>&quot;011XX W FARWEL…</td><td>&quot;0430&quot;</td><td>&quot;BATTERY&quot;</td><td>&quot;AGGRAVATED - O…</td><td>&quot;PARK PROPERTY&quot;</td><td>false</td><td>false</td><td>2431</td><td>24</td><td>49</td><td>1</td><td>&quot;04B&quot;</td><td>1167450</td><td>1945788</td><td>2022</td><td>&quot;11/12/2022 03:…</td><td>42.006797</td><td>-87.65927</td><td>&quot;(42.00679693, …</td><td>2022</td></tr><tr><td>&hellip;</td><td>&hellip;</td><td>&hellip;</td><td>&hellip;</td><td>&hellip;</td><td>&hellip;</td><td>&hellip;</td><td>&hellip;</td><td>&hellip;</td><td>&hellip;</td><td>&hellip;</td><td>&hellip;</td><td>&hellip;</td><td>&hellip;</td><td>&hellip;</td><td>&hellip;</td><td>&hellip;</td><td>&hellip;</td><td>&hellip;</td><td>&hellip;</td><td>&hellip;</td><td>&hellip;</td><td>&hellip;</td></tr><tr><td>12763743</td><td>&quot;JF320740&quot;</td><td>&quot;07/17/2022 12:…</td><td>&quot;066XX S WESTER…</td><td>&quot;0860&quot;</td><td>&quot;THEFT&quot;</td><td>&quot;RETAIL THEFT&quot;</td><td>&quot;SMALL RETAIL S…</td><td>false</td><td>false</td><td>832</td><td>8</td><td>16</td><td>66</td><td>&quot;06&quot;</td><td>1161518</td><td>1860508</td><td>2022</td><td>&quot;11/12/2022 03:…</td><td>41.772908</td><td>-87.683471</td><td>&quot;(41.772907566,…</td><td>2022</td></tr><tr><td>12764921</td><td>&quot;JF322439&quot;</td><td>&quot;07/08/2022 12:…</td><td>&quot;009XX W 31ST S…</td><td>&quot;1242&quot;</td><td>&quot;DECEPTIVE PRAC…</td><td>&quot;COMPUTER FRAUD…</td><td>&quot;OTHER (SPECIFY…</td><td>false</td><td>false</td><td>913</td><td>9</td><td>11</td><td>60</td><td>&quot;11&quot;</td><td>1170484</td><td>1884298</td><td>2022</td><td>&quot;11/12/2022 03:…</td><td>41.837999</td><td>-87.64991</td><td>&quot;(41.837999238,…</td><td>2022</td></tr><tr><td>12748153</td><td>&quot;JF301761&quot;</td><td>&quot;07/01/2022 05:…</td><td>&quot;044XX N KASSON…</td><td>&quot;1811&quot;</td><td>&quot;NARCOTICS&quot;</td><td>&quot;POSSESS - CANN…</td><td>&quot;STREET&quot;</td><td>true</td><td>false</td><td>1722</td><td>17</td><td>39</td><td>14</td><td>&quot;18&quot;</td><td>1148374</td><td>1929416</td><td>2022</td><td>&quot;11/12/2022 03:…</td><td>41.962262</td><td>-87.729878</td><td>&quot;(41.962261812,…</td><td>2022</td></tr><tr><td>12745535</td><td>&quot;JF298679&quot;</td><td>&quot;06/29/2022 05:…</td><td>&quot;002XX E ILLINO…</td><td>&quot;0820&quot;</td><td>&quot;THEFT&quot;</td><td>&quot;$500 AND UNDER…</td><td>&quot;PARKING LOT / …</td><td>false</td><td>false</td><td>1834</td><td>18</td><td>42</td><td>8</td><td>&quot;06&quot;</td><td>1178196</td><td>1903671</td><td>2022</td><td>&quot;11/12/2022 03:…</td><td>41.890988</td><td>-87.621022</td><td>&quot;(41.890988065,…</td><td>2022</td></tr><tr><td>12756421</td><td>&quot;JF311702&quot;</td><td>&quot;07/09/2022 11:…</td><td>&quot;071XX S YALE A…</td><td>&quot;0486&quot;</td><td>&quot;BATTERY&quot;</td><td>&quot;DOMESTIC BATTE…</td><td>&quot;RESIDENCE&quot;</td><td>false</td><td>true</td><td>731</td><td>7</td><td>6</td><td>69</td><td>&quot;08B&quot;</td><td>1175860</td><td>1857623</td><td>2022</td><td>&quot;11/12/2022 03:…</td><td>41.764681</td><td>-87.630983</td><td>&quot;(41.764681384,…</td><td>2022</td></tr><tr><td>12755419</td><td>&quot;JF310675&quot;</td><td>&quot;07/09/2022 02:…</td><td>&quot;034XX N HALSTE…</td><td>&quot;0460&quot;</td><td>&quot;BATTERY&quot;</td><td>&quot;SIMPLE&quot;</td><td>&quot;SIDEWALK&quot;</td><td>true</td><td>false</td><td>1924</td><td>19</td><td>44</td><td>6</td><td>&quot;08B&quot;</td><td>1170308</td><td>1923273</td><td>2022</td><td>&quot;11/12/2022 03:…</td><td>41.944953</td><td>-87.649416</td><td>&quot;(41.944953005,…</td><td>2022</td></tr><tr><td>12754184</td><td>&quot;JF308283&quot;</td><td>&quot;06/02/2022 09:…</td><td>&quot;0000X N STATE …</td><td>&quot;0860&quot;</td><td>&quot;THEFT&quot;</td><td>&quot;RETAIL THEFT&quot;</td><td>&quot;DEPARTMENT STO…</td><td>false</td><td>false</td><td>112</td><td>1</td><td>42</td><td>32</td><td>&quot;06&quot;</td><td>1176364</td><td>1900524</td><td>2022</td><td>&quot;11/12/2022 03:…</td><td>41.882394</td><td>-87.627845</td><td>&quot;(41.882394062,…</td><td>2022</td></tr><tr><td>12759190</td><td>&quot;JF315350&quot;</td><td>&quot;07/09/2022 07:…</td><td>&quot;098XX S CALHOU…</td><td>&quot;0820&quot;</td><td>&quot;THEFT&quot;</td><td>&quot;$500 AND UNDER…</td><td>&quot;RESIDENCE&quot;</td><td>false</td><td>false</td><td>431</td><td>4</td><td>10</td><td>51</td><td>&quot;06&quot;</td><td>1194763</td><td>1840111</td><td>2022</td><td>&quot;11/12/2022 03:…</td><td>41.716183</td><td>-87.562275</td><td>&quot;(41.71618255, …</td><td>2022</td></tr><tr><td>12765045</td><td>&quot;JF321506&quot;</td><td>&quot;07/08/2022 02:…</td><td>&quot;006XX S MICHIG…</td><td>&quot;0810&quot;</td><td>&quot;THEFT&quot;</td><td>&quot;OVER $500&quot;</td><td>&quot;HOTEL / MOTEL&quot;</td><td>false</td><td>false</td><td>123</td><td>1</td><td>42</td><td>32</td><td>&quot;06&quot;</td><td>1177377</td><td>1897431</td><td>2022</td><td>&quot;11/12/2022 03:…</td><td>41.873884</td><td>-87.624219</td><td>&quot;(41.873883785,…</td><td>2022</td></tr><tr><td>12742026</td><td>&quot;JF294494&quot;</td><td>&quot;06/24/2022 03:…</td><td>&quot;075XX N CLARK …</td><td>&quot;0860&quot;</td><td>&quot;THEFT&quot;</td><td>&quot;RETAIL THEFT&quot;</td><td>&quot;DEPARTMENT STO…</td><td>false</td><td>false</td><td>2422</td><td>24</td><td>49</td><td>1</td><td>&quot;06&quot;</td><td>1162907</td><td>1949949</td><td>2022</td><td>&quot;11/12/2022 03:…</td><td>42.018312</td><td>-87.675867</td><td>&quot;(42.018311737,…</td><td>2022</td></tr><tr><td>12757420</td><td>&quot;JF313061&quot;</td><td>&quot;07/01/2022 12:…</td><td>&quot;001XX N MAY ST…</td><td>&quot;0281&quot;</td><td>&quot;CRIMINAL SEXUA…</td><td>&quot;NON-AGGRAVATED…</td><td>&quot;HOTEL / MOTEL&quot;</td><td>false</td><td>false</td><td>1224</td><td>12</td><td>27</td><td>28</td><td>&quot;02&quot;</td><td>1168809</td><td>1900813</td><td>2022</td><td>&quot;11/12/2022 03:…</td><td>41.883354</td><td>-87.655578</td><td>&quot;(41.883354174,…</td><td>2022</td></tr><tr><td>12760994</td><td>&quot;JF317539&quot;</td><td>&quot;07/14/2022 02:…</td><td>&quot;063XX S WESTER…</td><td>&quot;0460&quot;</td><td>&quot;BATTERY&quot;</td><td>&quot;SIMPLE&quot;</td><td>&quot;PARKING LOT / …</td><td>false</td><td>false</td><td>825</td><td>8</td><td>16</td><td>66</td><td>&quot;08B&quot;</td><td>1161460</td><td>1862589</td><td>2022</td><td>&quot;11/12/2022 03:…</td><td>41.778619</td><td>-87.683626</td><td>&quot;(41.778619322,…</td><td>2022</td></tr></tbody></table></div>"
            ]
          },
          "metadata": {},
          "execution_count": 9
        }
      ]
    },
    {
      "cell_type": "code",
      "source": [
        "%%time\n",
        "# Polars for multiple columns\n",
        "# df.with_columns([(pl.col(\"col\") * 10).alias(\"new_col\"), ...])"
      ],
      "metadata": {
        "colab": {
          "base_uri": "https://localhost:8080/"
        },
        "id": "xKfDzzpyZDbq",
        "outputId": "60f17571-c052-4749-e4ba-2c262416d3c3"
      },
      "execution_count": null,
      "outputs": [
        {
          "output_type": "stream",
          "name": "stdout",
          "text": [
            "CPU times: user 3 µs, sys: 1 µs, total: 4 µs\n",
            "Wall time: 8.11 µs\n"
          ]
        }
      ]
    },
    {
      "cell_type": "markdown",
      "source": [
        "##Grouping and Aggregation\n",
        "Grouping and aggregation are slightly different between Pandas and Polars syntax-wise, but both use the .groupby() and .agg() methods."
      ],
      "metadata": {
        "id": "-rWa1dQ1aPAF"
      }
    },
    {
      "cell_type": "code",
      "source": [
        "%%time\n",
        "# Pandas\n",
        "df_pd.groupby('Year')['Arrest'].agg('value_counts')"
      ],
      "metadata": {
        "colab": {
          "base_uri": "https://localhost:8080/"
        },
        "id": "VJjq8o4jaOyx",
        "outputId": "c15f1970-4fb7-4c43-b5da-cacab1fee2b9"
      },
      "execution_count": null,
      "outputs": [
        {
          "output_type": "stream",
          "name": "stdout",
          "text": [
            "CPU times: user 20.1 ms, sys: 853 µs, total: 21 ms\n",
            "Wall time: 26.3 ms\n"
          ]
        },
        {
          "output_type": "execute_result",
          "data": {
            "text/plain": [
              "Year  Arrest\n",
              "2022  False     191418\n",
              "      True       24133\n",
              "Name: Arrest, dtype: int64"
            ]
          },
          "metadata": {},
          "execution_count": 11
        }
      ]
    },
    {
      "cell_type": "code",
      "source": [
        "%%time\n",
        "# Polars\n",
        "# df.groupby('col1').agg([pl.col('col2').mean()]) # As suggested in Polars docs\n",
        "df_pl.groupby('Year').agg([pl.col(['Arrest']).value_counts()]) # Shorter"
      ],
      "metadata": {
        "colab": {
          "base_uri": "https://localhost:8080/",
          "height": 165
        },
        "id": "qPEBKFIqaUbs",
        "outputId": "53224441-1726-4645-ef60-ce9d0a045283"
      },
      "execution_count": null,
      "outputs": [
        {
          "output_type": "stream",
          "name": "stdout",
          "text": [
            "CPU times: user 14.3 ms, sys: 0 ns, total: 14.3 ms\n",
            "Wall time: 15 ms\n"
          ]
        },
        {
          "output_type": "execute_result",
          "data": {
            "text/plain": [
              "shape: (1, 2)\n",
              "┌──────┬────────────────────────────────┐\n",
              "│ Year ┆ Arrest                         │\n",
              "│ ---  ┆ ---                            │\n",
              "│ i64  ┆ list[struct[2]]                │\n",
              "╞══════╪════════════════════════════════╡\n",
              "│ 2022 ┆ [{false,191418}, {true,24133}] │\n",
              "└──────┴────────────────────────────────┘"
            ],
            "text/html": [
              "<div><style>\n",
              ".dataframe > thead > tr > th,\n",
              ".dataframe > tbody > tr > td {\n",
              "  text-align: right;\n",
              "}\n",
              "</style>\n",
              "<small>shape: (1, 2)</small><table border=\"1\" class=\"dataframe\"><thead><tr><th>Year</th><th>Arrest</th></tr><tr><td>i64</td><td>list[struct[2]]</td></tr></thead><tbody><tr><td>2022</td><td>[{false,191418}, {true,24133}]</td></tr></tbody></table></div>"
            ]
          },
          "metadata": {},
          "execution_count": 12
        }
      ]
    },
    {
      "cell_type": "markdown",
      "source": [
        "##Missing Data\n",
        "Another major difference between Pandas and Polars is that Pandas uses NaN values to indicate missing values, while Polars uses null [1]."
      ],
      "metadata": {
        "id": "31vsMqPcek0N"
      }
    },
    {
      "cell_type": "code",
      "source": [
        "%%time\n",
        "# Pandas\n",
        "df_pd['Location'].fillna(-999)"
      ],
      "metadata": {
        "colab": {
          "base_uri": "https://localhost:8080/"
        },
        "id": "DjHKovJFeZVx",
        "outputId": "24a87cd1-c89f-40d4-edef-40919eada478"
      },
      "execution_count": null,
      "outputs": [
        {
          "output_type": "stream",
          "name": "stdout",
          "text": [
            "CPU times: user 25.5 ms, sys: 0 ns, total: 25.5 ms\n",
            "Wall time: 31.9 ms\n"
          ]
        },
        {
          "output_type": "execute_result",
          "data": {
            "text/plain": [
              "0         (41.734817155, -87.670595647)\n",
              "1         (41.983490742, -87.711324421)\n",
              "2         (41.951623924, -87.654458486)\n",
              "3         (41.688154968, -87.636198645)\n",
              "4         (41.897926219, -87.736710223)\n",
              "                      ...              \n",
              "215546     (41.71618255, -87.562274818)\n",
              "215547    (41.873883785, -87.624218932)\n",
              "215548    (42.018311737, -87.675866628)\n",
              "215549    (41.883354174, -87.655578272)\n",
              "215550    (41.778619322, -87.683625816)\n",
              "Name: Location, Length: 215551, dtype: object"
            ]
          },
          "metadata": {},
          "execution_count": 13
        }
      ]
    },
    {
      "cell_type": "code",
      "source": [
        "%%time\n",
        "# Polars\n",
        "# df_pl.with_column(pl.col('col2').fill_null(pl.lit(-999))) # As suggested in Polars docs\n",
        "df_pl.with_column(pl.col('Location').fill_null(-999)) # Shorter"
      ],
      "metadata": {
        "colab": {
          "base_uri": "https://localhost:8080/",
          "height": 1000
        },
        "id": "O9swXeXNeqXe",
        "outputId": "0c9378b5-6625-42d9-b009-67586cd2799a"
      },
      "execution_count": null,
      "outputs": [
        {
          "output_type": "stream",
          "name": "stdout",
          "text": [
            "CPU times: user 13.4 ms, sys: 6.51 ms, total: 19.9 ms\n",
            "Wall time: 29.7 ms\n"
          ]
        },
        {
          "output_type": "stream",
          "name": "stderr",
          "text": [
            "<timed eval>:3: DeprecationWarning: `DataFrame.with_column` has been renamed; this redirect is temporary, please use `.with_columns` instead\n"
          ]
        },
        {
          "output_type": "execute_result",
          "data": {
            "text/plain": [
              "shape: (215551, 22)\n",
              "┌──────────┬───────────┬────────────┬───────────┬───┬──────────┬───────────┬───────────┬───────────┐\n",
              "│ ID       ┆ Case      ┆ Date       ┆ Block     ┆ … ┆ Updated  ┆ Latitude  ┆ Longitude ┆ Location  │\n",
              "│ ---      ┆ Number    ┆ ---        ┆ ---       ┆   ┆ On       ┆ ---       ┆ ---       ┆ ---       │\n",
              "│ i64      ┆ ---       ┆ str        ┆ str       ┆   ┆ ---      ┆ f64       ┆ f64       ┆ str       │\n",
              "│          ┆ str       ┆            ┆           ┆   ┆ str      ┆           ┆           ┆           │\n",
              "╞══════════╪═══════════╪════════════╪═══════════╪═══╪══════════╪═══════════╪═══════════╪═══════════╡\n",
              "│ 12757446 ┆ JF313117  ┆ 07/08/2022 ┆ 087XX S   ┆ … ┆ 11/12/20 ┆ 41.734817 ┆ -87.67059 ┆ (41.73481 │\n",
              "│          ┆           ┆ 10:38:00   ┆ WINCHESTE ┆   ┆ 22       ┆           ┆ 6         ┆ 7155, -87 │\n",
              "│          ┆           ┆ AM         ┆ R AVE     ┆   ┆ 03:46:21 ┆           ┆           ┆ .67059564 │\n",
              "│          ┆           ┆            ┆           ┆   ┆ PM       ┆           ┆           ┆ 7)        │\n",
              "│ 12755229 ┆ JF310109  ┆ 07/08/2022 ┆ 056XX N   ┆ … ┆ 11/12/20 ┆ 41.983491 ┆ -87.71132 ┆ (41.98349 │\n",
              "│          ┆           ┆ 03:21:00   ┆ SPAULDING ┆   ┆ 22       ┆           ┆ 4         ┆ 0742, -87 │\n",
              "│          ┆           ┆ AM         ┆ AVE       ┆   ┆ 03:46:21 ┆           ┆           ┆ .71132442 │\n",
              "│          ┆           ┆            ┆           ┆   ┆ PM       ┆           ┆           ┆ 1)        │\n",
              "│ 12763369 ┆ JF320208  ┆ 07/16/2022 ┆ 038XX N   ┆ … ┆ 11/12/20 ┆ 41.951624 ┆ -87.65445 ┆ (41.95162 │\n",
              "│          ┆           ┆ 10:55:00   ┆ SHEFFIELD ┆   ┆ 22       ┆           ┆ 8         ┆ 3924, -87 │\n",
              "│          ┆           ┆ PM         ┆ AVE       ┆   ┆ 03:46:21 ┆           ┆           ┆ .65445848 │\n",
              "│          ┆           ┆            ┆           ┆   ┆ PM       ┆           ┆           ┆ 6)        │\n",
              "│ 12766036 ┆ JF323691  ┆ 07/19/2022 ┆ 113XX S   ┆ … ┆ 11/12/20 ┆ 41.688155 ┆ -87.63619 ┆ (41.68815 │\n",
              "│          ┆           ┆ 04:00:00   ┆ PARNELL   ┆   ┆ 22       ┆           ┆ 9         ┆ 4968, -87 │\n",
              "│          ┆           ┆ PM         ┆ AVE       ┆   ┆ 03:46:21 ┆           ┆           ┆ .63619864 │\n",
              "│          ┆           ┆            ┆           ┆   ┆ PM       ┆           ┆           ┆ 5)        │\n",
              "│ …        ┆ …         ┆ …          ┆ …         ┆ … ┆ …        ┆ …         ┆ …         ┆ …         │\n",
              "│ 12765045 ┆ JF321506  ┆ 07/08/2022 ┆ 006XX S   ┆ … ┆ 11/12/20 ┆ 41.873884 ┆ -87.62421 ┆ (41.87388 │\n",
              "│          ┆           ┆ 02:00:00   ┆ MICHIGAN  ┆   ┆ 22       ┆           ┆ 9         ┆ 3785, -87 │\n",
              "│          ┆           ┆ PM         ┆ AVE       ┆   ┆ 03:46:21 ┆           ┆           ┆ .62421893 │\n",
              "│          ┆           ┆            ┆           ┆   ┆ PM       ┆           ┆           ┆ 2)        │\n",
              "│ 12742026 ┆ JF294494  ┆ 06/24/2022 ┆ 075XX N   ┆ … ┆ 11/12/20 ┆ 42.018312 ┆ -87.67586 ┆ (42.01831 │\n",
              "│          ┆           ┆ 03:43:00   ┆ CLARK ST  ┆   ┆ 22       ┆           ┆ 7         ┆ 1737, -87 │\n",
              "│          ┆           ┆ PM         ┆           ┆   ┆ 03:46:21 ┆           ┆           ┆ .67586662 │\n",
              "│          ┆           ┆            ┆           ┆   ┆ PM       ┆           ┆           ┆ 8)        │\n",
              "│ 12757420 ┆ JF313061  ┆ 07/01/2022 ┆ 001XX N   ┆ … ┆ 11/12/20 ┆ 41.883354 ┆ -87.65557 ┆ (41.88335 │\n",
              "│          ┆           ┆ 12:00:00   ┆ MAY ST    ┆   ┆ 22       ┆           ┆ 8         ┆ 4174, -87 │\n",
              "│          ┆           ┆ AM         ┆           ┆   ┆ 03:46:21 ┆           ┆           ┆ .65557827 │\n",
              "│          ┆           ┆            ┆           ┆   ┆ PM       ┆           ┆           ┆ 2)        │\n",
              "│ 12760994 ┆ JF317539  ┆ 07/14/2022 ┆ 063XX S   ┆ … ┆ 11/12/20 ┆ 41.778619 ┆ -87.68362 ┆ (41.77861 │\n",
              "│          ┆           ┆ 02:45:00   ┆ WESTERN   ┆   ┆ 22       ┆           ┆ 6         ┆ 9322, -87 │\n",
              "│          ┆           ┆ PM         ┆ AVE       ┆   ┆ 03:46:21 ┆           ┆           ┆ .68362581 │\n",
              "│          ┆           ┆            ┆           ┆   ┆ PM       ┆           ┆           ┆ 6)        │\n",
              "└──────────┴───────────┴────────────┴───────────┴───┴──────────┴───────────┴───────────┴───────────┘"
            ],
            "text/html": [
              "<div><style>\n",
              ".dataframe > thead > tr > th,\n",
              ".dataframe > tbody > tr > td {\n",
              "  text-align: right;\n",
              "}\n",
              "</style>\n",
              "<small>shape: (215551, 22)</small><table border=\"1\" class=\"dataframe\"><thead><tr><th>ID</th><th>Case Number</th><th>Date</th><th>Block</th><th>IUCR</th><th>Primary Type</th><th>Description</th><th>Location Description</th><th>Arrest</th><th>Domestic</th><th>Beat</th><th>District</th><th>Ward</th><th>Community Area</th><th>FBI Code</th><th>X Coordinate</th><th>Y Coordinate</th><th>Year</th><th>Updated On</th><th>Latitude</th><th>Longitude</th><th>Location</th></tr><tr><td>i64</td><td>str</td><td>str</td><td>str</td><td>str</td><td>str</td><td>str</td><td>str</td><td>bool</td><td>bool</td><td>i64</td><td>i64</td><td>i64</td><td>i64</td><td>str</td><td>i64</td><td>i64</td><td>i64</td><td>str</td><td>f64</td><td>f64</td><td>str</td></tr></thead><tbody><tr><td>12757446</td><td>&quot;JF313117&quot;</td><td>&quot;07/08/2022 10:…</td><td>&quot;087XX S WINCHE…</td><td>&quot;0820&quot;</td><td>&quot;THEFT&quot;</td><td>&quot;$500 AND UNDER…</td><td>&quot;RESIDENCE&quot;</td><td>false</td><td>true</td><td>2221</td><td>22</td><td>21</td><td>71</td><td>&quot;06&quot;</td><td>1165137</td><td>1846655</td><td>2022</td><td>&quot;11/12/2022 03:…</td><td>41.734817</td><td>-87.670596</td><td>&quot;(41.734817155,…</td></tr><tr><td>12755229</td><td>&quot;JF310109&quot;</td><td>&quot;07/08/2022 03:…</td><td>&quot;056XX N SPAULD…</td><td>&quot;1154&quot;</td><td>&quot;DECEPTIVE PRAC…</td><td>&quot;FINANCIAL IDEN…</td><td>null</td><td>false</td><td>false</td><td>1711</td><td>17</td><td>39</td><td>13</td><td>&quot;11&quot;</td><td>1153364</td><td>1937188</td><td>2022</td><td>&quot;11/12/2022 03:…</td><td>41.983491</td><td>-87.711324</td><td>&quot;(41.983490742,…</td></tr><tr><td>12763369</td><td>&quot;JF320208&quot;</td><td>&quot;07/16/2022 10:…</td><td>&quot;038XX N SHEFFI…</td><td>&quot;0330&quot;</td><td>&quot;ROBBERY&quot;</td><td>&quot;AGGRAVATED&quot;</td><td>&quot;SIDEWALK&quot;</td><td>true</td><td>false</td><td>1923</td><td>19</td><td>46</td><td>6</td><td>&quot;03&quot;</td><td>1168917</td><td>1925693</td><td>2022</td><td>&quot;11/12/2022 03:…</td><td>41.951624</td><td>-87.654458</td><td>&quot;(41.951623924,…</td></tr><tr><td>12766036</td><td>&quot;JF323691&quot;</td><td>&quot;07/19/2022 04:…</td><td>&quot;113XX S PARNEL…</td><td>&quot;1792&quot;</td><td>&quot;KIDNAPPING&quot;</td><td>&quot;CHILD ABDUCTIO…</td><td>&quot;SIDEWALK&quot;</td><td>false</td><td>false</td><td>2233</td><td>22</td><td>34</td><td>49</td><td>&quot;26&quot;</td><td>1174663</td><td>1829726</td><td>2022</td><td>&quot;11/12/2022 03:…</td><td>41.688155</td><td>-87.636199</td><td>&quot;(41.688154968,…</td></tr><tr><td>12758668</td><td>&quot;JF314314&quot;</td><td>&quot;07/12/2022 06:…</td><td>&quot;044XX W WALTON…</td><td>&quot;0610&quot;</td><td>&quot;BURGLARY&quot;</td><td>&quot;FORCIBLE ENTRY…</td><td>&quot;RESIDENCE&quot;</td><td>false</td><td>true</td><td>1111</td><td>11</td><td>37</td><td>23</td><td>&quot;05&quot;</td><td>1146679</td><td>1905959</td><td>2022</td><td>&quot;11/12/2022 03:…</td><td>41.897926</td><td>-87.73671</td><td>&quot;(41.897926219,…</td></tr><tr><td>12765741</td><td>&quot;JF323255&quot;</td><td>&quot;06/27/2022 09:…</td><td>&quot;002XX S LAVERG…</td><td>&quot;1320&quot;</td><td>&quot;CRIMINAL DAMAG…</td><td>&quot;TO VEHICLE&quot;</td><td>&quot;RESIDENCE&quot;</td><td>false</td><td>false</td><td>1533</td><td>15</td><td>28</td><td>25</td><td>&quot;14&quot;</td><td>1143292</td><td>1898696</td><td>2022</td><td>&quot;11/12/2022 03:…</td><td>41.87806</td><td>-87.749332</td><td>&quot;(41.878059641,…</td></tr><tr><td>12759104</td><td>&quot;JF315164&quot;</td><td>&quot;07/12/2022 01:…</td><td>&quot;012XX N ARTESI…</td><td>&quot;0820&quot;</td><td>&quot;THEFT&quot;</td><td>&quot;$500 AND UNDER…</td><td>&quot;STREET&quot;</td><td>false</td><td>false</td><td>1423</td><td>14</td><td>26</td><td>24</td><td>&quot;06&quot;</td><td>1159848</td><td>1908228</td><td>2022</td><td>&quot;11/12/2022 03:…</td><td>41.903891</td><td>-87.688279</td><td>&quot;(41.903891052,…</td></tr><tr><td>12756232</td><td>&quot;JF311569&quot;</td><td>&quot;07/09/2022 09:…</td><td>&quot;020XX W NORTH …</td><td>&quot;0460&quot;</td><td>&quot;BATTERY&quot;</td><td>&quot;SIMPLE&quot;</td><td>&quot;HOTEL / MOTEL&quot;</td><td>true</td><td>false</td><td>1434</td><td>14</td><td>2</td><td>24</td><td>&quot;08B&quot;</td><td>1162488</td><td>1910644</td><td>2022</td><td>&quot;11/12/2022 03:…</td><td>41.910466</td><td>-87.678514</td><td>&quot;(41.910465849,…</td></tr><tr><td>12761035</td><td>&quot;JF317440&quot;</td><td>&quot;07/13/2022 07:…</td><td>&quot;029XX N SACRAM…</td><td>&quot;0917&quot;</td><td>&quot;MOTOR VEHICLE …</td><td>&quot;CYCLE, SCOOTER…</td><td>&quot;STREET&quot;</td><td>false</td><td>false</td><td>1411</td><td>14</td><td>33</td><td>21</td><td>&quot;07&quot;</td><td>1155869</td><td>1919370</td><td>2022</td><td>&quot;11/12/2022 03:…</td><td>41.934547</td><td>-87.702594</td><td>&quot;(41.93454677, …</td></tr><tr><td>12757374</td><td>&quot;JF313010&quot;</td><td>&quot;07/01/2022 09:…</td><td>&quot;043XX S PACKER…</td><td>&quot;1153&quot;</td><td>&quot;DECEPTIVE PRAC…</td><td>&quot;FINANCIAL IDEN…</td><td>&quot;OTHER COMMERCI…</td><td>false</td><td>false</td><td>924</td><td>9</td><td>11</td><td>61</td><td>&quot;11&quot;</td><td>1168167</td><td>1876163</td><td>2022</td><td>&quot;11/12/2022 03:…</td><td>41.815726</td><td>-87.658647</td><td>&quot;(41.815726254,…</td></tr><tr><td>12765479</td><td>&quot;JF322734&quot;</td><td>&quot;07/18/2022 11:…</td><td>&quot;021XX W CONGRE…</td><td>&quot;0486&quot;</td><td>&quot;BATTERY&quot;</td><td>&quot;DOMESTIC BATTE…</td><td>&quot;STREET&quot;</td><td>false</td><td>true</td><td>1225</td><td>12</td><td>27</td><td>28</td><td>&quot;08B&quot;</td><td>1162233</td><td>1897705</td><td>2022</td><td>&quot;11/12/2022 03:…</td><td>41.874966</td><td>-87.679813</td><td>&quot;(41.874965525,…</td></tr><tr><td>12758857</td><td>&quot;JF314516&quot;</td><td>&quot;07/11/2022 08:…</td><td>&quot;011XX W FARWEL…</td><td>&quot;0430&quot;</td><td>&quot;BATTERY&quot;</td><td>&quot;AGGRAVATED - O…</td><td>&quot;PARK PROPERTY&quot;</td><td>false</td><td>false</td><td>2431</td><td>24</td><td>49</td><td>1</td><td>&quot;04B&quot;</td><td>1167450</td><td>1945788</td><td>2022</td><td>&quot;11/12/2022 03:…</td><td>42.006797</td><td>-87.65927</td><td>&quot;(42.00679693, …</td></tr><tr><td>&hellip;</td><td>&hellip;</td><td>&hellip;</td><td>&hellip;</td><td>&hellip;</td><td>&hellip;</td><td>&hellip;</td><td>&hellip;</td><td>&hellip;</td><td>&hellip;</td><td>&hellip;</td><td>&hellip;</td><td>&hellip;</td><td>&hellip;</td><td>&hellip;</td><td>&hellip;</td><td>&hellip;</td><td>&hellip;</td><td>&hellip;</td><td>&hellip;</td><td>&hellip;</td><td>&hellip;</td></tr><tr><td>12763743</td><td>&quot;JF320740&quot;</td><td>&quot;07/17/2022 12:…</td><td>&quot;066XX S WESTER…</td><td>&quot;0860&quot;</td><td>&quot;THEFT&quot;</td><td>&quot;RETAIL THEFT&quot;</td><td>&quot;SMALL RETAIL S…</td><td>false</td><td>false</td><td>832</td><td>8</td><td>16</td><td>66</td><td>&quot;06&quot;</td><td>1161518</td><td>1860508</td><td>2022</td><td>&quot;11/12/2022 03:…</td><td>41.772908</td><td>-87.683471</td><td>&quot;(41.772907566,…</td></tr><tr><td>12764921</td><td>&quot;JF322439&quot;</td><td>&quot;07/08/2022 12:…</td><td>&quot;009XX W 31ST S…</td><td>&quot;1242&quot;</td><td>&quot;DECEPTIVE PRAC…</td><td>&quot;COMPUTER FRAUD…</td><td>&quot;OTHER (SPECIFY…</td><td>false</td><td>false</td><td>913</td><td>9</td><td>11</td><td>60</td><td>&quot;11&quot;</td><td>1170484</td><td>1884298</td><td>2022</td><td>&quot;11/12/2022 03:…</td><td>41.837999</td><td>-87.64991</td><td>&quot;(41.837999238,…</td></tr><tr><td>12748153</td><td>&quot;JF301761&quot;</td><td>&quot;07/01/2022 05:…</td><td>&quot;044XX N KASSON…</td><td>&quot;1811&quot;</td><td>&quot;NARCOTICS&quot;</td><td>&quot;POSSESS - CANN…</td><td>&quot;STREET&quot;</td><td>true</td><td>false</td><td>1722</td><td>17</td><td>39</td><td>14</td><td>&quot;18&quot;</td><td>1148374</td><td>1929416</td><td>2022</td><td>&quot;11/12/2022 03:…</td><td>41.962262</td><td>-87.729878</td><td>&quot;(41.962261812,…</td></tr><tr><td>12745535</td><td>&quot;JF298679&quot;</td><td>&quot;06/29/2022 05:…</td><td>&quot;002XX E ILLINO…</td><td>&quot;0820&quot;</td><td>&quot;THEFT&quot;</td><td>&quot;$500 AND UNDER…</td><td>&quot;PARKING LOT / …</td><td>false</td><td>false</td><td>1834</td><td>18</td><td>42</td><td>8</td><td>&quot;06&quot;</td><td>1178196</td><td>1903671</td><td>2022</td><td>&quot;11/12/2022 03:…</td><td>41.890988</td><td>-87.621022</td><td>&quot;(41.890988065,…</td></tr><tr><td>12756421</td><td>&quot;JF311702&quot;</td><td>&quot;07/09/2022 11:…</td><td>&quot;071XX S YALE A…</td><td>&quot;0486&quot;</td><td>&quot;BATTERY&quot;</td><td>&quot;DOMESTIC BATTE…</td><td>&quot;RESIDENCE&quot;</td><td>false</td><td>true</td><td>731</td><td>7</td><td>6</td><td>69</td><td>&quot;08B&quot;</td><td>1175860</td><td>1857623</td><td>2022</td><td>&quot;11/12/2022 03:…</td><td>41.764681</td><td>-87.630983</td><td>&quot;(41.764681384,…</td></tr><tr><td>12755419</td><td>&quot;JF310675&quot;</td><td>&quot;07/09/2022 02:…</td><td>&quot;034XX N HALSTE…</td><td>&quot;0460&quot;</td><td>&quot;BATTERY&quot;</td><td>&quot;SIMPLE&quot;</td><td>&quot;SIDEWALK&quot;</td><td>true</td><td>false</td><td>1924</td><td>19</td><td>44</td><td>6</td><td>&quot;08B&quot;</td><td>1170308</td><td>1923273</td><td>2022</td><td>&quot;11/12/2022 03:…</td><td>41.944953</td><td>-87.649416</td><td>&quot;(41.944953005,…</td></tr><tr><td>12754184</td><td>&quot;JF308283&quot;</td><td>&quot;06/02/2022 09:…</td><td>&quot;0000X N STATE …</td><td>&quot;0860&quot;</td><td>&quot;THEFT&quot;</td><td>&quot;RETAIL THEFT&quot;</td><td>&quot;DEPARTMENT STO…</td><td>false</td><td>false</td><td>112</td><td>1</td><td>42</td><td>32</td><td>&quot;06&quot;</td><td>1176364</td><td>1900524</td><td>2022</td><td>&quot;11/12/2022 03:…</td><td>41.882394</td><td>-87.627845</td><td>&quot;(41.882394062,…</td></tr><tr><td>12759190</td><td>&quot;JF315350&quot;</td><td>&quot;07/09/2022 07:…</td><td>&quot;098XX S CALHOU…</td><td>&quot;0820&quot;</td><td>&quot;THEFT&quot;</td><td>&quot;$500 AND UNDER…</td><td>&quot;RESIDENCE&quot;</td><td>false</td><td>false</td><td>431</td><td>4</td><td>10</td><td>51</td><td>&quot;06&quot;</td><td>1194763</td><td>1840111</td><td>2022</td><td>&quot;11/12/2022 03:…</td><td>41.716183</td><td>-87.562275</td><td>&quot;(41.71618255, …</td></tr><tr><td>12765045</td><td>&quot;JF321506&quot;</td><td>&quot;07/08/2022 02:…</td><td>&quot;006XX S MICHIG…</td><td>&quot;0810&quot;</td><td>&quot;THEFT&quot;</td><td>&quot;OVER $500&quot;</td><td>&quot;HOTEL / MOTEL&quot;</td><td>false</td><td>false</td><td>123</td><td>1</td><td>42</td><td>32</td><td>&quot;06&quot;</td><td>1177377</td><td>1897431</td><td>2022</td><td>&quot;11/12/2022 03:…</td><td>41.873884</td><td>-87.624219</td><td>&quot;(41.873883785,…</td></tr><tr><td>12742026</td><td>&quot;JF294494&quot;</td><td>&quot;06/24/2022 03:…</td><td>&quot;075XX N CLARK …</td><td>&quot;0860&quot;</td><td>&quot;THEFT&quot;</td><td>&quot;RETAIL THEFT&quot;</td><td>&quot;DEPARTMENT STO…</td><td>false</td><td>false</td><td>2422</td><td>24</td><td>49</td><td>1</td><td>&quot;06&quot;</td><td>1162907</td><td>1949949</td><td>2022</td><td>&quot;11/12/2022 03:…</td><td>42.018312</td><td>-87.675867</td><td>&quot;(42.018311737,…</td></tr><tr><td>12757420</td><td>&quot;JF313061&quot;</td><td>&quot;07/01/2022 12:…</td><td>&quot;001XX N MAY ST…</td><td>&quot;0281&quot;</td><td>&quot;CRIMINAL SEXUA…</td><td>&quot;NON-AGGRAVATED…</td><td>&quot;HOTEL / MOTEL&quot;</td><td>false</td><td>false</td><td>1224</td><td>12</td><td>27</td><td>28</td><td>&quot;02&quot;</td><td>1168809</td><td>1900813</td><td>2022</td><td>&quot;11/12/2022 03:…</td><td>41.883354</td><td>-87.655578</td><td>&quot;(41.883354174,…</td></tr><tr><td>12760994</td><td>&quot;JF317539&quot;</td><td>&quot;07/14/2022 02:…</td><td>&quot;063XX S WESTER…</td><td>&quot;0460&quot;</td><td>&quot;BATTERY&quot;</td><td>&quot;SIMPLE&quot;</td><td>&quot;PARKING LOT / …</td><td>false</td><td>false</td><td>825</td><td>8</td><td>16</td><td>66</td><td>&quot;08B&quot;</td><td>1161460</td><td>1862589</td><td>2022</td><td>&quot;11/12/2022 03:…</td><td>41.778619</td><td>-87.683626</td><td>&quot;(41.778619322,…</td></tr></tbody></table></div>"
            ]
          },
          "metadata": {},
          "execution_count": 14
        }
      ]
    },
    {
      "cell_type": "code",
      "source": [
        "import pandas as pd\n",
        "\n",
        "# Create a sample DataFrame with 1,000 rows\n",
        "df = pd.DataFrame({'col1': range(1000), 'col2': ['abc'] * 1000})\n",
        "\n",
        "# Get the total size of the DataFrame in memory (in bytes)\n",
        "total_size = df.memory_usage(deep=True).sum()\n",
        "\n",
        "# Calculate the average memory usage per row (in bytes)\n",
        "row_size = total_size / len(df)\n",
        "\n",
        "# Calculate the memory usage for 1 million rows (in bytes)\n",
        "million_rows_size = row_size * 1000000\n",
        "\n",
        "print(f\"Average memory usage per row: {row_size:.2f} bytes\")\n",
        "print(f\"Memory usage for 1 million rows: {million_rows_size:.2f} bytes\")\n"
      ],
      "metadata": {
        "colab": {
          "base_uri": "https://localhost:8080/"
        },
        "id": "tKpYJ6kLVspw",
        "outputId": "fc354d36-91d4-4210-c885-6df765008d52"
      },
      "execution_count": null,
      "outputs": [
        {
          "output_type": "stream",
          "name": "stdout",
          "text": [
            "Average memory usage per row: 68.13 bytes\n",
            "Memory usage for 1 million rows: 68128000.00 bytes\n"
          ]
        }
      ]
    },
    {
      "cell_type": "markdown",
      "source": [],
      "metadata": {
        "id": "9QZ0-DdJAz_l"
      }
    },
    {
      "cell_type": "markdown",
      "source": [
        "Polars is a DataFrame library that is completely written in Rust. In this article, I will walk you through the basics of Polars and how it can be used in place of Pandas. "
      ],
      "metadata": {
        "id": "TGfDKjRMrHcm"
      }
    },
    {
      "cell_type": "markdown",
      "source": [
        "#What is Polars?\n",
        "The best way to understand Polars is that it is a better dataframe library than Pandas. Here are some advantages of Polars over Pandas:\n",
        "\n",
        "- Polars does not use an index for the dataframe. Eliminating the index makes it much easier to manipulate the dataframe (the index is mostly redundant in Pandas dataframe anyway).\n",
        "- Polars represents data internally using Apache Arrow arrays while Pandas stores data internally using NumPy arrays. Apache Arrow arrays is much more efficient in areas like load time, memory usage, and computation.\n",
        "- Polars supports more parallel operations than Pandas. As Polars is written in Rust, it can run many operations in parallel.\n",
        "- Polars supports lazy evaluation. Based on your query, Polars will examine your queries, optimize them, and look for ways to accelerate the query or reduce memory usage. Pandas, on the other hand, support only eager evaluation, which immediately evaluates an expression as soon as it encounters one."
      ],
      "metadata": {
        "id": "n95MoZGirkDF"
      }
    },
    {
      "cell_type": "code",
      "execution_count": null,
      "metadata": {
        "colab": {
          "base_uri": "https://localhost:8080/"
        },
        "id": "nM_DqUaurC_6",
        "outputId": "908b83dc-87a5-492b-9243-8bbb3ff859b6"
      },
      "outputs": [
        {
          "output_type": "stream",
          "name": "stdout",
          "text": [
            "\u001b[2K     \u001b[90m━━━━━━━━━━━━━━━━━━━━━━━━━━━━━━━━━━━━━━━━\u001b[0m \u001b[32m16.6/16.6 MB\u001b[0m \u001b[31m30.7 MB/s\u001b[0m eta \u001b[36m0:00:00\u001b[0m\n",
            "\u001b[?25h"
          ]
        }
      ],
      "source": [
        "#Installing Polars\n",
        "!pip install polars --q"
      ]
    },
    {
      "cell_type": "code",
      "source": [
        "import polars as pl\n",
        "\n",
        "df = pl.DataFrame(\n",
        "     {\n",
        "         'Model': ['iPhone X','iPhone XS','iPhone 12',\n",
        "                   'iPhone 13','Samsung S11','Samsung S12',\n",
        "                   'Mi A1','Mi A2'],\n",
        "         'Sales': [80,170,130,205,400,30,14,8],     \n",
        "         'Company': ['Apple','Apple','Apple','Apple',\n",
        "                     'Samsung','Samsung','Xiao Mi','Xiao Mi'],\n",
        "     }\n",
        ")\n",
        "\n",
        "df"
      ],
      "metadata": {
        "colab": {
          "base_uri": "https://localhost:8080/",
          "height": 349
        },
        "id": "0MmdKTD9svLU",
        "outputId": "70a75250-4422-4628-9f55-d6a26e5c8a5c"
      },
      "execution_count": null,
      "outputs": [
        {
          "output_type": "execute_result",
          "data": {
            "text/plain": [
              "shape: (8, 3)\n",
              "┌─────────────┬───────┬─────────┐\n",
              "│ Model       ┆ Sales ┆ Company │\n",
              "│ ---         ┆ ---   ┆ ---     │\n",
              "│ str         ┆ i64   ┆ str     │\n",
              "╞═════════════╪═══════╪═════════╡\n",
              "│ iPhone X    ┆ 80    ┆ Apple   │\n",
              "│ iPhone XS   ┆ 170   ┆ Apple   │\n",
              "│ iPhone 12   ┆ 130   ┆ Apple   │\n",
              "│ iPhone 13   ┆ 205   ┆ Apple   │\n",
              "│ Samsung S11 ┆ 400   ┆ Samsung │\n",
              "│ Samsung S12 ┆ 30    ┆ Samsung │\n",
              "│ Mi A1       ┆ 14    ┆ Xiao Mi │\n",
              "│ Mi A2       ┆ 8     ┆ Xiao Mi │\n",
              "└─────────────┴───────┴─────────┘"
            ],
            "text/html": [
              "<div><style>\n",
              ".dataframe > thead > tr > th,\n",
              ".dataframe > tbody > tr > td {\n",
              "  text-align: right;\n",
              "}\n",
              "</style>\n",
              "<small>shape: (8, 3)</small><table border=\"1\" class=\"dataframe\"><thead><tr><th>Model</th><th>Sales</th><th>Company</th></tr><tr><td>str</td><td>i64</td><td>str</td></tr></thead><tbody><tr><td>&quot;iPhone X&quot;</td><td>80</td><td>&quot;Apple&quot;</td></tr><tr><td>&quot;iPhone XS&quot;</td><td>170</td><td>&quot;Apple&quot;</td></tr><tr><td>&quot;iPhone 12&quot;</td><td>130</td><td>&quot;Apple&quot;</td></tr><tr><td>&quot;iPhone 13&quot;</td><td>205</td><td>&quot;Apple&quot;</td></tr><tr><td>&quot;Samsung S11&quot;</td><td>400</td><td>&quot;Samsung&quot;</td></tr><tr><td>&quot;Samsung S12&quot;</td><td>30</td><td>&quot;Samsung&quot;</td></tr><tr><td>&quot;Mi A1&quot;</td><td>14</td><td>&quot;Xiao Mi&quot;</td></tr><tr><td>&quot;Mi A2&quot;</td><td>8</td><td>&quot;Xiao Mi&quot;</td></tr></tbody></table></div>"
            ]
          },
          "metadata": {},
          "execution_count": 3
        }
      ]
    },
    {
      "cell_type": "code",
      "source": [
        "import polars as pl\n",
        "\n",
        "df = pl.read_csv(\"https://j.mp/iriscsv\")"
      ],
      "metadata": {
        "id": "R3USBbpar77r"
      },
      "execution_count": null,
      "outputs": []
    },
    {
      "cell_type": "code",
      "source": [
        "df.head()"
      ],
      "metadata": {
        "colab": {
          "base_uri": "https://localhost:8080/",
          "height": 255
        },
        "id": "n-ZATN3oslIs",
        "outputId": "6804ead8-35cf-4c59-f842-b7aa984929e2"
      },
      "execution_count": null,
      "outputs": [
        {
          "output_type": "execute_result",
          "data": {
            "text/plain": [
              "shape: (5, 5)\n",
              "┌──────────────┬─────────────┬──────────────┬─────────────┬─────────┐\n",
              "│ sepal_length ┆ sepal_width ┆ petal_length ┆ petal_width ┆ species │\n",
              "│ ---          ┆ ---         ┆ ---          ┆ ---         ┆ ---     │\n",
              "│ f64          ┆ f64         ┆ f64          ┆ f64         ┆ str     │\n",
              "╞══════════════╪═════════════╪══════════════╪═════════════╪═════════╡\n",
              "│ 5.1          ┆ 3.5         ┆ 1.4          ┆ 0.2         ┆ setosa  │\n",
              "│ 4.9          ┆ 3.0         ┆ 1.4          ┆ 0.2         ┆ setosa  │\n",
              "│ 4.7          ┆ 3.2         ┆ 1.3          ┆ 0.2         ┆ setosa  │\n",
              "│ 4.6          ┆ 3.1         ┆ 1.5          ┆ 0.2         ┆ setosa  │\n",
              "│ 5.0          ┆ 3.6         ┆ 1.4          ┆ 0.2         ┆ setosa  │\n",
              "└──────────────┴─────────────┴──────────────┴─────────────┴─────────┘"
            ],
            "text/html": [
              "<div><style>\n",
              ".dataframe > thead > tr > th,\n",
              ".dataframe > tbody > tr > td {\n",
              "  text-align: right;\n",
              "}\n",
              "</style>\n",
              "<small>shape: (5, 5)</small><table border=\"1\" class=\"dataframe\"><thead><tr><th>sepal_length</th><th>sepal_width</th><th>petal_length</th><th>petal_width</th><th>species</th></tr><tr><td>f64</td><td>f64</td><td>f64</td><td>f64</td><td>str</td></tr></thead><tbody><tr><td>5.1</td><td>3.5</td><td>1.4</td><td>0.2</td><td>&quot;setosa&quot;</td></tr><tr><td>4.9</td><td>3.0</td><td>1.4</td><td>0.2</td><td>&quot;setosa&quot;</td></tr><tr><td>4.7</td><td>3.2</td><td>1.3</td><td>0.2</td><td>&quot;setosa&quot;</td></tr><tr><td>4.6</td><td>3.1</td><td>1.5</td><td>0.2</td><td>&quot;setosa&quot;</td></tr><tr><td>5.0</td><td>3.6</td><td>1.4</td><td>0.2</td><td>&quot;setosa&quot;</td></tr></tbody></table></div>"
            ]
          },
          "metadata": {},
          "execution_count": 5
        }
      ]
    },
    {
      "cell_type": "code",
      "source": [
        "df.dtypes"
      ],
      "metadata": {
        "colab": {
          "base_uri": "https://localhost:8080/"
        },
        "id": "xTSkfzUXs5m3",
        "outputId": "c14f4e4a-edae-4a74-951f-60abfac31f2e"
      },
      "execution_count": null,
      "outputs": [
        {
          "output_type": "execute_result",
          "data": {
            "text/plain": [
              "[Float64, Float64, Float64, Float64, Utf8]"
            ]
          },
          "metadata": {},
          "execution_count": 6
        }
      ]
    },
    {
      "cell_type": "code",
      "source": [
        "df.columns "
      ],
      "metadata": {
        "colab": {
          "base_uri": "https://localhost:8080/"
        },
        "id": "2qkor4z2s_tC",
        "outputId": "2d94fff7-4fdc-45c4-fdab-c1aa237ff549"
      },
      "execution_count": null,
      "outputs": [
        {
          "output_type": "execute_result",
          "data": {
            "text/plain": [
              "['sepal_length', 'sepal_width', 'petal_length', 'petal_width', 'species']"
            ]
          },
          "metadata": {},
          "execution_count": 7
        }
      ]
    },
    {
      "cell_type": "markdown",
      "source": [
        "> Polars does not have the concept of index, unlike Pandas. The design philosophy of Polars explicitly states that index is not useful in dataframes."
      ],
      "metadata": {
        "id": "9lxtV4v0tK2p"
      }
    },
    {
      "cell_type": "code",
      "source": [
        "df.rows()"
      ],
      "metadata": {
        "colab": {
          "base_uri": "https://localhost:8080/"
        },
        "id": "xNNDGr9-tAwe",
        "outputId": "fda81740-1a0f-431e-ad2f-47a8f3fffbcd"
      },
      "execution_count": null,
      "outputs": [
        {
          "output_type": "execute_result",
          "data": {
            "text/plain": [
              "[(5.1, 3.5, 1.4, 0.2, 'setosa'),\n",
              " (4.9, 3.0, 1.4, 0.2, 'setosa'),\n",
              " (4.7, 3.2, 1.3, 0.2, 'setosa'),\n",
              " (4.6, 3.1, 1.5, 0.2, 'setosa'),\n",
              " (5.0, 3.6, 1.4, 0.2, 'setosa'),\n",
              " (5.4, 3.9, 1.7, 0.4, 'setosa'),\n",
              " (4.6, 3.4, 1.4, 0.3, 'setosa'),\n",
              " (5.0, 3.4, 1.5, 0.2, 'setosa'),\n",
              " (4.4, 2.9, 1.4, 0.2, 'setosa'),\n",
              " (4.9, 3.1, 1.5, 0.1, 'setosa'),\n",
              " (5.4, 3.7, 1.5, 0.2, 'setosa'),\n",
              " (4.8, 3.4, 1.6, 0.2, 'setosa'),\n",
              " (4.8, 3.0, 1.4, 0.1, 'setosa'),\n",
              " (4.3, 3.0, 1.1, 0.1, 'setosa'),\n",
              " (5.8, 4.0, 1.2, 0.2, 'setosa'),\n",
              " (5.7, 4.4, 1.5, 0.4, 'setosa'),\n",
              " (5.4, 3.9, 1.3, 0.4, 'setosa'),\n",
              " (5.1, 3.5, 1.4, 0.3, 'setosa'),\n",
              " (5.7, 3.8, 1.7, 0.3, 'setosa'),\n",
              " (5.1, 3.8, 1.5, 0.3, 'setosa'),\n",
              " (5.4, 3.4, 1.7, 0.2, 'setosa'),\n",
              " (5.1, 3.7, 1.5, 0.4, 'setosa'),\n",
              " (4.6, 3.6, 1.0, 0.2, 'setosa'),\n",
              " (5.1, 3.3, 1.7, 0.5, 'setosa'),\n",
              " (4.8, 3.4, 1.9, 0.2, 'setosa'),\n",
              " (5.0, 3.0, 1.6, 0.2, 'setosa'),\n",
              " (5.0, 3.4, 1.6, 0.4, 'setosa'),\n",
              " (5.2, 3.5, 1.5, 0.2, 'setosa'),\n",
              " (5.2, 3.4, 1.4, 0.2, 'setosa'),\n",
              " (4.7, 3.2, 1.6, 0.2, 'setosa'),\n",
              " (4.8, 3.1, 1.6, 0.2, 'setosa'),\n",
              " (5.4, 3.4, 1.5, 0.4, 'setosa'),\n",
              " (5.2, 4.1, 1.5, 0.1, 'setosa'),\n",
              " (5.5, 4.2, 1.4, 0.2, 'setosa'),\n",
              " (4.9, 3.1, 1.5, 0.1, 'setosa'),\n",
              " (5.0, 3.2, 1.2, 0.2, 'setosa'),\n",
              " (5.5, 3.5, 1.3, 0.2, 'setosa'),\n",
              " (4.9, 3.1, 1.5, 0.1, 'setosa'),\n",
              " (4.4, 3.0, 1.3, 0.2, 'setosa'),\n",
              " (5.1, 3.4, 1.5, 0.2, 'setosa'),\n",
              " (5.0, 3.5, 1.3, 0.3, 'setosa'),\n",
              " (4.5, 2.3, 1.3, 0.3, 'setosa'),\n",
              " (4.4, 3.2, 1.3, 0.2, 'setosa'),\n",
              " (5.0, 3.5, 1.6, 0.6, 'setosa'),\n",
              " (5.1, 3.8, 1.9, 0.4, 'setosa'),\n",
              " (4.8, 3.0, 1.4, 0.3, 'setosa'),\n",
              " (5.1, 3.8, 1.6, 0.2, 'setosa'),\n",
              " (4.6, 3.2, 1.4, 0.2, 'setosa'),\n",
              " (5.3, 3.7, 1.5, 0.2, 'setosa'),\n",
              " (5.0, 3.3, 1.4, 0.2, 'setosa'),\n",
              " (7.0, 3.2, 4.7, 1.4, 'versicolor'),\n",
              " (6.4, 3.2, 4.5, 1.5, 'versicolor'),\n",
              " (6.9, 3.1, 4.9, 1.5, 'versicolor'),\n",
              " (5.5, 2.3, 4.0, 1.3, 'versicolor'),\n",
              " (6.5, 2.8, 4.6, 1.5, 'versicolor'),\n",
              " (5.7, 2.8, 4.5, 1.3, 'versicolor'),\n",
              " (6.3, 3.3, 4.7, 1.6, 'versicolor'),\n",
              " (4.9, 2.4, 3.3, 1.0, 'versicolor'),\n",
              " (6.6, 2.9, 4.6, 1.3, 'versicolor'),\n",
              " (5.2, 2.7, 3.9, 1.4, 'versicolor'),\n",
              " (5.0, 2.0, 3.5, 1.0, 'versicolor'),\n",
              " (5.9, 3.0, 4.2, 1.5, 'versicolor'),\n",
              " (6.0, 2.2, 4.0, 1.0, 'versicolor'),\n",
              " (6.1, 2.9, 4.7, 1.4, 'versicolor'),\n",
              " (5.6, 2.9, 3.6, 1.3, 'versicolor'),\n",
              " (6.7, 3.1, 4.4, 1.4, 'versicolor'),\n",
              " (5.6, 3.0, 4.5, 1.5, 'versicolor'),\n",
              " (5.8, 2.7, 4.1, 1.0, 'versicolor'),\n",
              " (6.2, 2.2, 4.5, 1.5, 'versicolor'),\n",
              " (5.6, 2.5, 3.9, 1.1, 'versicolor'),\n",
              " (5.9, 3.2, 4.8, 1.8, 'versicolor'),\n",
              " (6.1, 2.8, 4.0, 1.3, 'versicolor'),\n",
              " (6.3, 2.5, 4.9, 1.5, 'versicolor'),\n",
              " (6.1, 2.8, 4.7, 1.2, 'versicolor'),\n",
              " (6.4, 2.9, 4.3, 1.3, 'versicolor'),\n",
              " (6.6, 3.0, 4.4, 1.4, 'versicolor'),\n",
              " (6.8, 2.8, 4.8, 1.4, 'versicolor'),\n",
              " (6.7, 3.0, 5.0, 1.7, 'versicolor'),\n",
              " (6.0, 2.9, 4.5, 1.5, 'versicolor'),\n",
              " (5.7, 2.6, 3.5, 1.0, 'versicolor'),\n",
              " (5.5, 2.4, 3.8, 1.1, 'versicolor'),\n",
              " (5.5, 2.4, 3.7, 1.0, 'versicolor'),\n",
              " (5.8, 2.7, 3.9, 1.2, 'versicolor'),\n",
              " (6.0, 2.7, 5.1, 1.6, 'versicolor'),\n",
              " (5.4, 3.0, 4.5, 1.5, 'versicolor'),\n",
              " (6.0, 3.4, 4.5, 1.6, 'versicolor'),\n",
              " (6.7, 3.1, 4.7, 1.5, 'versicolor'),\n",
              " (6.3, 2.3, 4.4, 1.3, 'versicolor'),\n",
              " (5.6, 3.0, 4.1, 1.3, 'versicolor'),\n",
              " (5.5, 2.5, 4.0, 1.3, 'versicolor'),\n",
              " (5.5, 2.6, 4.4, 1.2, 'versicolor'),\n",
              " (6.1, 3.0, 4.6, 1.4, 'versicolor'),\n",
              " (5.8, 2.6, 4.0, 1.2, 'versicolor'),\n",
              " (5.0, 2.3, 3.3, 1.0, 'versicolor'),\n",
              " (5.6, 2.7, 4.2, 1.3, 'versicolor'),\n",
              " (5.7, 3.0, 4.2, 1.2, 'versicolor'),\n",
              " (5.7, 2.9, 4.2, 1.3, 'versicolor'),\n",
              " (6.2, 2.9, 4.3, 1.3, 'versicolor'),\n",
              " (5.1, 2.5, 3.0, 1.1, 'versicolor'),\n",
              " (5.7, 2.8, 4.1, 1.3, 'versicolor'),\n",
              " (6.3, 3.3, 6.0, 2.5, 'virginica'),\n",
              " (5.8, 2.7, 5.1, 1.9, 'virginica'),\n",
              " (7.1, 3.0, 5.9, 2.1, 'virginica'),\n",
              " (6.3, 2.9, 5.6, 1.8, 'virginica'),\n",
              " (6.5, 3.0, 5.8, 2.2, 'virginica'),\n",
              " (7.6, 3.0, 6.6, 2.1, 'virginica'),\n",
              " (4.9, 2.5, 4.5, 1.7, 'virginica'),\n",
              " (7.3, 2.9, 6.3, 1.8, 'virginica'),\n",
              " (6.7, 2.5, 5.8, 1.8, 'virginica'),\n",
              " (7.2, 3.6, 6.1, 2.5, 'virginica'),\n",
              " (6.5, 3.2, 5.1, 2.0, 'virginica'),\n",
              " (6.4, 2.7, 5.3, 1.9, 'virginica'),\n",
              " (6.8, 3.0, 5.5, 2.1, 'virginica'),\n",
              " (5.7, 2.5, 5.0, 2.0, 'virginica'),\n",
              " (5.8, 2.8, 5.1, 2.4, 'virginica'),\n",
              " (6.4, 3.2, 5.3, 2.3, 'virginica'),\n",
              " (6.5, 3.0, 5.5, 1.8, 'virginica'),\n",
              " (7.7, 3.8, 6.7, 2.2, 'virginica'),\n",
              " (7.7, 2.6, 6.9, 2.3, 'virginica'),\n",
              " (6.0, 2.2, 5.0, 1.5, 'virginica'),\n",
              " (6.9, 3.2, 5.7, 2.3, 'virginica'),\n",
              " (5.6, 2.8, 4.9, 2.0, 'virginica'),\n",
              " (7.7, 2.8, 6.7, 2.0, 'virginica'),\n",
              " (6.3, 2.7, 4.9, 1.8, 'virginica'),\n",
              " (6.7, 3.3, 5.7, 2.1, 'virginica'),\n",
              " (7.2, 3.2, 6.0, 1.8, 'virginica'),\n",
              " (6.2, 2.8, 4.8, 1.8, 'virginica'),\n",
              " (6.1, 3.0, 4.9, 1.8, 'virginica'),\n",
              " (6.4, 2.8, 5.6, 2.1, 'virginica'),\n",
              " (7.2, 3.0, 5.8, 1.6, 'virginica'),\n",
              " (7.4, 2.8, 6.1, 1.9, 'virginica'),\n",
              " (7.9, 3.8, 6.4, 2.0, 'virginica'),\n",
              " (6.4, 2.8, 5.6, 2.2, 'virginica'),\n",
              " (6.3, 2.8, 5.1, 1.5, 'virginica'),\n",
              " (6.1, 2.6, 5.6, 1.4, 'virginica'),\n",
              " (7.7, 3.0, 6.1, 2.3, 'virginica'),\n",
              " (6.3, 3.4, 5.6, 2.4, 'virginica'),\n",
              " (6.4, 3.1, 5.5, 1.8, 'virginica'),\n",
              " (6.0, 3.0, 4.8, 1.8, 'virginica'),\n",
              " (6.9, 3.1, 5.4, 2.1, 'virginica'),\n",
              " (6.7, 3.1, 5.6, 2.4, 'virginica'),\n",
              " (6.9, 3.1, 5.1, 2.3, 'virginica'),\n",
              " (5.8, 2.7, 5.1, 1.9, 'virginica'),\n",
              " (6.8, 3.2, 5.9, 2.3, 'virginica'),\n",
              " (6.7, 3.3, 5.7, 2.5, 'virginica'),\n",
              " (6.7, 3.0, 5.2, 2.3, 'virginica'),\n",
              " (6.3, 2.5, 5.0, 1.9, 'virginica'),\n",
              " (6.5, 3.0, 5.2, 2.0, 'virginica'),\n",
              " (6.2, 3.4, 5.4, 2.3, 'virginica'),\n",
              " (5.9, 3.0, 5.1, 1.8, 'virginica')]"
            ]
          },
          "metadata": {},
          "execution_count": 8
        }
      ]
    },
    {
      "cell_type": "markdown",
      "source": [
        "#Selecting Column(s)\n",
        "Selecting column(s) in Polars is straight-forward — simply specify the column name using the select() method:"
      ],
      "metadata": {
        "id": "iTrtgS3stRSJ"
      }
    },
    {
      "cell_type": "code",
      "source": [
        "df[['species']]"
      ],
      "metadata": {
        "colab": {
          "base_uri": "https://localhost:8080/",
          "height": 882
        },
        "id": "9CcwmN81ubqB",
        "outputId": "0672a424-6f2b-43fd-a8f0-7ffe7657107c"
      },
      "execution_count": null,
      "outputs": [
        {
          "output_type": "execute_result",
          "data": {
            "text/plain": [
              "shape: (150, 1)\n",
              "┌───────────┐\n",
              "│ species   │\n",
              "│ ---       │\n",
              "│ str       │\n",
              "╞═══════════╡\n",
              "│ setosa    │\n",
              "│ setosa    │\n",
              "│ setosa    │\n",
              "│ setosa    │\n",
              "│ …         │\n",
              "│ virginica │\n",
              "│ virginica │\n",
              "│ virginica │\n",
              "│ virginica │\n",
              "└───────────┘"
            ],
            "text/html": [
              "<div><style>\n",
              ".dataframe > thead > tr > th,\n",
              ".dataframe > tbody > tr > td {\n",
              "  text-align: right;\n",
              "}\n",
              "</style>\n",
              "<small>shape: (150, 1)</small><table border=\"1\" class=\"dataframe\"><thead><tr><th>species</th></tr><tr><td>str</td></tr></thead><tbody><tr><td>&quot;setosa&quot;</td></tr><tr><td>&quot;setosa&quot;</td></tr><tr><td>&quot;setosa&quot;</td></tr><tr><td>&quot;setosa&quot;</td></tr><tr><td>&quot;setosa&quot;</td></tr><tr><td>&quot;setosa&quot;</td></tr><tr><td>&quot;setosa&quot;</td></tr><tr><td>&quot;setosa&quot;</td></tr><tr><td>&quot;setosa&quot;</td></tr><tr><td>&quot;setosa&quot;</td></tr><tr><td>&quot;setosa&quot;</td></tr><tr><td>&quot;setosa&quot;</td></tr><tr><td>&hellip;</td></tr><tr><td>&quot;virginica&quot;</td></tr><tr><td>&quot;virginica&quot;</td></tr><tr><td>&quot;virginica&quot;</td></tr><tr><td>&quot;virginica&quot;</td></tr><tr><td>&quot;virginica&quot;</td></tr><tr><td>&quot;virginica&quot;</td></tr><tr><td>&quot;virginica&quot;</td></tr><tr><td>&quot;virginica&quot;</td></tr><tr><td>&quot;virginica&quot;</td></tr><tr><td>&quot;virginica&quot;</td></tr><tr><td>&quot;virginica&quot;</td></tr><tr><td>&quot;virginica&quot;</td></tr></tbody></table></div>"
            ]
          },
          "metadata": {},
          "execution_count": 9
        }
      ]
    },
    {
      "cell_type": "markdown",
      "source": [
        "> Polars also support the square bracket indexing method, the method that most Pandas developers are familiar with. However, the documentation for Polars specifically mentioned that the square bracket indexing method is an anti-pattern for Polars. While you can do the above using df[:,[0]], there is a possibility that the square bracket indexing method may be removed in a future version of Polars."
      ],
      "metadata": {
        "id": "G459ZMUTuew4"
      }
    },
    {
      "cell_type": "code",
      "source": [
        "df.select(\n",
        "    'species'\n",
        ")"
      ],
      "metadata": {
        "colab": {
          "base_uri": "https://localhost:8080/",
          "height": 882
        },
        "id": "FRTrspP6tGDX",
        "outputId": "f9f974db-343a-46ad-fb26-f43b96122628"
      },
      "execution_count": null,
      "outputs": [
        {
          "output_type": "execute_result",
          "data": {
            "text/plain": [
              "shape: (150, 1)\n",
              "┌───────────┐\n",
              "│ species   │\n",
              "│ ---       │\n",
              "│ str       │\n",
              "╞═══════════╡\n",
              "│ setosa    │\n",
              "│ setosa    │\n",
              "│ setosa    │\n",
              "│ setosa    │\n",
              "│ …         │\n",
              "│ virginica │\n",
              "│ virginica │\n",
              "│ virginica │\n",
              "│ virginica │\n",
              "└───────────┘"
            ],
            "text/html": [
              "<div><style>\n",
              ".dataframe > thead > tr > th,\n",
              ".dataframe > tbody > tr > td {\n",
              "  text-align: right;\n",
              "}\n",
              "</style>\n",
              "<small>shape: (150, 1)</small><table border=\"1\" class=\"dataframe\"><thead><tr><th>species</th></tr><tr><td>str</td></tr></thead><tbody><tr><td>&quot;setosa&quot;</td></tr><tr><td>&quot;setosa&quot;</td></tr><tr><td>&quot;setosa&quot;</td></tr><tr><td>&quot;setosa&quot;</td></tr><tr><td>&quot;setosa&quot;</td></tr><tr><td>&quot;setosa&quot;</td></tr><tr><td>&quot;setosa&quot;</td></tr><tr><td>&quot;setosa&quot;</td></tr><tr><td>&quot;setosa&quot;</td></tr><tr><td>&quot;setosa&quot;</td></tr><tr><td>&quot;setosa&quot;</td></tr><tr><td>&quot;setosa&quot;</td></tr><tr><td>&hellip;</td></tr><tr><td>&quot;virginica&quot;</td></tr><tr><td>&quot;virginica&quot;</td></tr><tr><td>&quot;virginica&quot;</td></tr><tr><td>&quot;virginica&quot;</td></tr><tr><td>&quot;virginica&quot;</td></tr><tr><td>&quot;virginica&quot;</td></tr><tr><td>&quot;virginica&quot;</td></tr><tr><td>&quot;virginica&quot;</td></tr><tr><td>&quot;virginica&quot;</td></tr><tr><td>&quot;virginica&quot;</td></tr><tr><td>&quot;virginica&quot;</td></tr><tr><td>&quot;virginica&quot;</td></tr></tbody></table></div>"
            ]
          },
          "metadata": {},
          "execution_count": 10
        }
      ]
    },
    {
      "cell_type": "code",
      "source": [
        "df.select(\n",
        "    ['species','sepal_length']\n",
        ")"
      ],
      "metadata": {
        "colab": {
          "base_uri": "https://localhost:8080/",
          "height": 882
        },
        "id": "d4BdzUocuy4C",
        "outputId": "45081788-8fcf-4fb3-9796-8b4b75833da7"
      },
      "execution_count": null,
      "outputs": [
        {
          "output_type": "execute_result",
          "data": {
            "text/plain": [
              "shape: (150, 2)\n",
              "┌───────────┬──────────────┐\n",
              "│ species   ┆ sepal_length │\n",
              "│ ---       ┆ ---          │\n",
              "│ str       ┆ f64          │\n",
              "╞═══════════╪══════════════╡\n",
              "│ setosa    ┆ 5.1          │\n",
              "│ setosa    ┆ 4.9          │\n",
              "│ setosa    ┆ 4.7          │\n",
              "│ setosa    ┆ 4.6          │\n",
              "│ …         ┆ …            │\n",
              "│ virginica ┆ 6.3          │\n",
              "│ virginica ┆ 6.5          │\n",
              "│ virginica ┆ 6.2          │\n",
              "│ virginica ┆ 5.9          │\n",
              "└───────────┴──────────────┘"
            ],
            "text/html": [
              "<div><style>\n",
              ".dataframe > thead > tr > th,\n",
              ".dataframe > tbody > tr > td {\n",
              "  text-align: right;\n",
              "}\n",
              "</style>\n",
              "<small>shape: (150, 2)</small><table border=\"1\" class=\"dataframe\"><thead><tr><th>species</th><th>sepal_length</th></tr><tr><td>str</td><td>f64</td></tr></thead><tbody><tr><td>&quot;setosa&quot;</td><td>5.1</td></tr><tr><td>&quot;setosa&quot;</td><td>4.9</td></tr><tr><td>&quot;setosa&quot;</td><td>4.7</td></tr><tr><td>&quot;setosa&quot;</td><td>4.6</td></tr><tr><td>&quot;setosa&quot;</td><td>5.0</td></tr><tr><td>&quot;setosa&quot;</td><td>5.4</td></tr><tr><td>&quot;setosa&quot;</td><td>4.6</td></tr><tr><td>&quot;setosa&quot;</td><td>5.0</td></tr><tr><td>&quot;setosa&quot;</td><td>4.4</td></tr><tr><td>&quot;setosa&quot;</td><td>4.9</td></tr><tr><td>&quot;setosa&quot;</td><td>5.4</td></tr><tr><td>&quot;setosa&quot;</td><td>4.8</td></tr><tr><td>&hellip;</td><td>&hellip;</td></tr><tr><td>&quot;virginica&quot;</td><td>6.0</td></tr><tr><td>&quot;virginica&quot;</td><td>6.9</td></tr><tr><td>&quot;virginica&quot;</td><td>6.7</td></tr><tr><td>&quot;virginica&quot;</td><td>6.9</td></tr><tr><td>&quot;virginica&quot;</td><td>5.8</td></tr><tr><td>&quot;virginica&quot;</td><td>6.8</td></tr><tr><td>&quot;virginica&quot;</td><td>6.7</td></tr><tr><td>&quot;virginica&quot;</td><td>6.7</td></tr><tr><td>&quot;virginica&quot;</td><td>6.3</td></tr><tr><td>&quot;virginica&quot;</td><td>6.5</td></tr><tr><td>&quot;virginica&quot;</td><td>6.2</td></tr><tr><td>&quot;virginica&quot;</td><td>5.9</td></tr></tbody></table></div>"
            ]
          },
          "metadata": {},
          "execution_count": 11
        }
      ]
    },
    {
      "cell_type": "markdown",
      "source": [
        "If you want to retrieve all the integer (specifically Int64) columns in the dataframe, you can use an expression within the select() method:"
      ],
      "metadata": {
        "id": "jzYUD8znvDfH"
      }
    },
    {
      "cell_type": "code",
      "source": [
        "df.select(\n",
        "    pl.col(pl.Float64)\n",
        ")"
      ],
      "metadata": {
        "colab": {
          "base_uri": "https://localhost:8080/",
          "height": 882
        },
        "id": "_bcnjQ7DvE2u",
        "outputId": "5c452835-6a71-4327-fa00-d41b24264855"
      },
      "execution_count": null,
      "outputs": [
        {
          "output_type": "execute_result",
          "data": {
            "text/plain": [
              "shape: (150, 4)\n",
              "┌──────────────┬─────────────┬──────────────┬─────────────┐\n",
              "│ sepal_length ┆ sepal_width ┆ petal_length ┆ petal_width │\n",
              "│ ---          ┆ ---         ┆ ---          ┆ ---         │\n",
              "│ f64          ┆ f64         ┆ f64          ┆ f64         │\n",
              "╞══════════════╪═════════════╪══════════════╪═════════════╡\n",
              "│ 5.1          ┆ 3.5         ┆ 1.4          ┆ 0.2         │\n",
              "│ 4.9          ┆ 3.0         ┆ 1.4          ┆ 0.2         │\n",
              "│ 4.7          ┆ 3.2         ┆ 1.3          ┆ 0.2         │\n",
              "│ 4.6          ┆ 3.1         ┆ 1.5          ┆ 0.2         │\n",
              "│ …            ┆ …           ┆ …            ┆ …           │\n",
              "│ 6.3          ┆ 2.5         ┆ 5.0          ┆ 1.9         │\n",
              "│ 6.5          ┆ 3.0         ┆ 5.2          ┆ 2.0         │\n",
              "│ 6.2          ┆ 3.4         ┆ 5.4          ┆ 2.3         │\n",
              "│ 5.9          ┆ 3.0         ┆ 5.1          ┆ 1.8         │\n",
              "└──────────────┴─────────────┴──────────────┴─────────────┘"
            ],
            "text/html": [
              "<div><style>\n",
              ".dataframe > thead > tr > th,\n",
              ".dataframe > tbody > tr > td {\n",
              "  text-align: right;\n",
              "}\n",
              "</style>\n",
              "<small>shape: (150, 4)</small><table border=\"1\" class=\"dataframe\"><thead><tr><th>sepal_length</th><th>sepal_width</th><th>petal_length</th><th>petal_width</th></tr><tr><td>f64</td><td>f64</td><td>f64</td><td>f64</td></tr></thead><tbody><tr><td>5.1</td><td>3.5</td><td>1.4</td><td>0.2</td></tr><tr><td>4.9</td><td>3.0</td><td>1.4</td><td>0.2</td></tr><tr><td>4.7</td><td>3.2</td><td>1.3</td><td>0.2</td></tr><tr><td>4.6</td><td>3.1</td><td>1.5</td><td>0.2</td></tr><tr><td>5.0</td><td>3.6</td><td>1.4</td><td>0.2</td></tr><tr><td>5.4</td><td>3.9</td><td>1.7</td><td>0.4</td></tr><tr><td>4.6</td><td>3.4</td><td>1.4</td><td>0.3</td></tr><tr><td>5.0</td><td>3.4</td><td>1.5</td><td>0.2</td></tr><tr><td>4.4</td><td>2.9</td><td>1.4</td><td>0.2</td></tr><tr><td>4.9</td><td>3.1</td><td>1.5</td><td>0.1</td></tr><tr><td>5.4</td><td>3.7</td><td>1.5</td><td>0.2</td></tr><tr><td>4.8</td><td>3.4</td><td>1.6</td><td>0.2</td></tr><tr><td>&hellip;</td><td>&hellip;</td><td>&hellip;</td><td>&hellip;</td></tr><tr><td>6.0</td><td>3.0</td><td>4.8</td><td>1.8</td></tr><tr><td>6.9</td><td>3.1</td><td>5.4</td><td>2.1</td></tr><tr><td>6.7</td><td>3.1</td><td>5.6</td><td>2.4</td></tr><tr><td>6.9</td><td>3.1</td><td>5.1</td><td>2.3</td></tr><tr><td>5.8</td><td>2.7</td><td>5.1</td><td>1.9</td></tr><tr><td>6.8</td><td>3.2</td><td>5.9</td><td>2.3</td></tr><tr><td>6.7</td><td>3.3</td><td>5.7</td><td>2.5</td></tr><tr><td>6.7</td><td>3.0</td><td>5.2</td><td>2.3</td></tr><tr><td>6.3</td><td>2.5</td><td>5.0</td><td>1.9</td></tr><tr><td>6.5</td><td>3.0</td><td>5.2</td><td>2.0</td></tr><tr><td>6.2</td><td>3.4</td><td>5.4</td><td>2.3</td></tr><tr><td>5.9</td><td>3.0</td><td>5.1</td><td>1.8</td></tr></tbody></table></div>"
            ]
          },
          "metadata": {},
          "execution_count": 12
        }
      ]
    },
    {
      "cell_type": "markdown",
      "source": [
        "> The statement pl.col(pl.Float64) is known as an expression in Polars. This expression is interpreted as “get me all the columns whose data type is Float64. "
      ],
      "metadata": {
        "id": "ZZ_Er_9TvZTE"
      }
    },
    {
      "cell_type": "code",
      "source": [
        "df.select(\n",
        "    pl.col(['species','sepal_length']).sort_by('sepal_length', descending=True)    \n",
        ")"
      ],
      "metadata": {
        "colab": {
          "base_uri": "https://localhost:8080/",
          "height": 882
        },
        "id": "kz5lYNgJzG6B",
        "outputId": "cb349293-cfcb-4e76-8aa5-b60e2c1367da"
      },
      "execution_count": null,
      "outputs": [
        {
          "output_type": "execute_result",
          "data": {
            "text/plain": [
              "shape: (150, 2)\n",
              "┌───────────┬──────────────┐\n",
              "│ species   ┆ sepal_length │\n",
              "│ ---       ┆ ---          │\n",
              "│ str       ┆ f64          │\n",
              "╞═══════════╪══════════════╡\n",
              "│ virginica ┆ 7.9          │\n",
              "│ virginica ┆ 7.7          │\n",
              "│ virginica ┆ 7.7          │\n",
              "│ virginica ┆ 7.7          │\n",
              "│ …         ┆ …            │\n",
              "│ setosa    ┆ 4.4          │\n",
              "│ setosa    ┆ 4.4          │\n",
              "│ setosa    ┆ 4.4          │\n",
              "│ setosa    ┆ 4.3          │\n",
              "└───────────┴──────────────┘"
            ],
            "text/html": [
              "<div><style>\n",
              ".dataframe > thead > tr > th,\n",
              ".dataframe > tbody > tr > td {\n",
              "  text-align: right;\n",
              "}\n",
              "</style>\n",
              "<small>shape: (150, 2)</small><table border=\"1\" class=\"dataframe\"><thead><tr><th>species</th><th>sepal_length</th></tr><tr><td>str</td><td>f64</td></tr></thead><tbody><tr><td>&quot;virginica&quot;</td><td>7.9</td></tr><tr><td>&quot;virginica&quot;</td><td>7.7</td></tr><tr><td>&quot;virginica&quot;</td><td>7.7</td></tr><tr><td>&quot;virginica&quot;</td><td>7.7</td></tr><tr><td>&quot;virginica&quot;</td><td>7.7</td></tr><tr><td>&quot;virginica&quot;</td><td>7.6</td></tr><tr><td>&quot;virginica&quot;</td><td>7.4</td></tr><tr><td>&quot;virginica&quot;</td><td>7.3</td></tr><tr><td>&quot;virginica&quot;</td><td>7.2</td></tr><tr><td>&quot;virginica&quot;</td><td>7.2</td></tr><tr><td>&quot;virginica&quot;</td><td>7.2</td></tr><tr><td>&quot;virginica&quot;</td><td>7.1</td></tr><tr><td>&hellip;</td><td>&hellip;</td></tr><tr><td>&quot;setosa&quot;</td><td>4.8</td></tr><tr><td>&quot;setosa&quot;</td><td>4.7</td></tr><tr><td>&quot;setosa&quot;</td><td>4.7</td></tr><tr><td>&quot;setosa&quot;</td><td>4.6</td></tr><tr><td>&quot;setosa&quot;</td><td>4.6</td></tr><tr><td>&quot;setosa&quot;</td><td>4.6</td></tr><tr><td>&quot;setosa&quot;</td><td>4.6</td></tr><tr><td>&quot;setosa&quot;</td><td>4.5</td></tr><tr><td>&quot;setosa&quot;</td><td>4.4</td></tr><tr><td>&quot;setosa&quot;</td><td>4.4</td></tr><tr><td>&quot;setosa&quot;</td><td>4.4</td></tr><tr><td>&quot;setosa&quot;</td><td>4.3</td></tr></tbody></table></div>"
            ]
          },
          "metadata": {},
          "execution_count": 13
        }
      ]
    },
    {
      "cell_type": "code",
      "source": [
        "df.select(\n",
        "    [pl.col(pl.Float64),'species']\n",
        ")"
      ],
      "metadata": {
        "colab": {
          "base_uri": "https://localhost:8080/",
          "height": 882
        },
        "id": "X3Umkvamz2fm",
        "outputId": "1b57f4ba-face-4e98-9c26-5689e1910201"
      },
      "execution_count": null,
      "outputs": [
        {
          "output_type": "execute_result",
          "data": {
            "text/plain": [
              "shape: (150, 5)\n",
              "┌──────────────┬─────────────┬──────────────┬─────────────┬───────────┐\n",
              "│ sepal_length ┆ sepal_width ┆ petal_length ┆ petal_width ┆ species   │\n",
              "│ ---          ┆ ---         ┆ ---          ┆ ---         ┆ ---       │\n",
              "│ f64          ┆ f64         ┆ f64          ┆ f64         ┆ str       │\n",
              "╞══════════════╪═════════════╪══════════════╪═════════════╪═══════════╡\n",
              "│ 5.1          ┆ 3.5         ┆ 1.4          ┆ 0.2         ┆ setosa    │\n",
              "│ 4.9          ┆ 3.0         ┆ 1.4          ┆ 0.2         ┆ setosa    │\n",
              "│ 4.7          ┆ 3.2         ┆ 1.3          ┆ 0.2         ┆ setosa    │\n",
              "│ 4.6          ┆ 3.1         ┆ 1.5          ┆ 0.2         ┆ setosa    │\n",
              "│ …            ┆ …           ┆ …            ┆ …           ┆ …         │\n",
              "│ 6.3          ┆ 2.5         ┆ 5.0          ┆ 1.9         ┆ virginica │\n",
              "│ 6.5          ┆ 3.0         ┆ 5.2          ┆ 2.0         ┆ virginica │\n",
              "│ 6.2          ┆ 3.4         ┆ 5.4          ┆ 2.3         ┆ virginica │\n",
              "│ 5.9          ┆ 3.0         ┆ 5.1          ┆ 1.8         ┆ virginica │\n",
              "└──────────────┴─────────────┴──────────────┴─────────────┴───────────┘"
            ],
            "text/html": [
              "<div><style>\n",
              ".dataframe > thead > tr > th,\n",
              ".dataframe > tbody > tr > td {\n",
              "  text-align: right;\n",
              "}\n",
              "</style>\n",
              "<small>shape: (150, 5)</small><table border=\"1\" class=\"dataframe\"><thead><tr><th>sepal_length</th><th>sepal_width</th><th>petal_length</th><th>petal_width</th><th>species</th></tr><tr><td>f64</td><td>f64</td><td>f64</td><td>f64</td><td>str</td></tr></thead><tbody><tr><td>5.1</td><td>3.5</td><td>1.4</td><td>0.2</td><td>&quot;setosa&quot;</td></tr><tr><td>4.9</td><td>3.0</td><td>1.4</td><td>0.2</td><td>&quot;setosa&quot;</td></tr><tr><td>4.7</td><td>3.2</td><td>1.3</td><td>0.2</td><td>&quot;setosa&quot;</td></tr><tr><td>4.6</td><td>3.1</td><td>1.5</td><td>0.2</td><td>&quot;setosa&quot;</td></tr><tr><td>5.0</td><td>3.6</td><td>1.4</td><td>0.2</td><td>&quot;setosa&quot;</td></tr><tr><td>5.4</td><td>3.9</td><td>1.7</td><td>0.4</td><td>&quot;setosa&quot;</td></tr><tr><td>4.6</td><td>3.4</td><td>1.4</td><td>0.3</td><td>&quot;setosa&quot;</td></tr><tr><td>5.0</td><td>3.4</td><td>1.5</td><td>0.2</td><td>&quot;setosa&quot;</td></tr><tr><td>4.4</td><td>2.9</td><td>1.4</td><td>0.2</td><td>&quot;setosa&quot;</td></tr><tr><td>4.9</td><td>3.1</td><td>1.5</td><td>0.1</td><td>&quot;setosa&quot;</td></tr><tr><td>5.4</td><td>3.7</td><td>1.5</td><td>0.2</td><td>&quot;setosa&quot;</td></tr><tr><td>4.8</td><td>3.4</td><td>1.6</td><td>0.2</td><td>&quot;setosa&quot;</td></tr><tr><td>&hellip;</td><td>&hellip;</td><td>&hellip;</td><td>&hellip;</td><td>&hellip;</td></tr><tr><td>6.0</td><td>3.0</td><td>4.8</td><td>1.8</td><td>&quot;virginica&quot;</td></tr><tr><td>6.9</td><td>3.1</td><td>5.4</td><td>2.1</td><td>&quot;virginica&quot;</td></tr><tr><td>6.7</td><td>3.1</td><td>5.6</td><td>2.4</td><td>&quot;virginica&quot;</td></tr><tr><td>6.9</td><td>3.1</td><td>5.1</td><td>2.3</td><td>&quot;virginica&quot;</td></tr><tr><td>5.8</td><td>2.7</td><td>5.1</td><td>1.9</td><td>&quot;virginica&quot;</td></tr><tr><td>6.8</td><td>3.2</td><td>5.9</td><td>2.3</td><td>&quot;virginica&quot;</td></tr><tr><td>6.7</td><td>3.3</td><td>5.7</td><td>2.5</td><td>&quot;virginica&quot;</td></tr><tr><td>6.7</td><td>3.0</td><td>5.2</td><td>2.3</td><td>&quot;virginica&quot;</td></tr><tr><td>6.3</td><td>2.5</td><td>5.0</td><td>1.9</td><td>&quot;virginica&quot;</td></tr><tr><td>6.5</td><td>3.0</td><td>5.2</td><td>2.0</td><td>&quot;virginica&quot;</td></tr><tr><td>6.2</td><td>3.4</td><td>5.4</td><td>2.3</td><td>&quot;virginica&quot;</td></tr><tr><td>5.9</td><td>3.0</td><td>5.1</td><td>1.8</td><td>&quot;virginica&quot;</td></tr></tbody></table></div>"
            ]
          },
          "metadata": {},
          "execution_count": 14
        }
      ]
    },
    {
      "cell_type": "code",
      "source": [
        "df.select(\n",
        "    [pl.col(pl.Utf8)]\n",
        ")"
      ],
      "metadata": {
        "colab": {
          "base_uri": "https://localhost:8080/",
          "height": 882
        },
        "id": "8g3kiYyk0DJD",
        "outputId": "d6f68b8f-f021-4915-80dd-6fbbc964ba66"
      },
      "execution_count": null,
      "outputs": [
        {
          "output_type": "execute_result",
          "data": {
            "text/plain": [
              "shape: (150, 1)\n",
              "┌───────────┐\n",
              "│ species   │\n",
              "│ ---       │\n",
              "│ str       │\n",
              "╞═══════════╡\n",
              "│ setosa    │\n",
              "│ setosa    │\n",
              "│ setosa    │\n",
              "│ setosa    │\n",
              "│ …         │\n",
              "│ virginica │\n",
              "│ virginica │\n",
              "│ virginica │\n",
              "│ virginica │\n",
              "└───────────┘"
            ],
            "text/html": [
              "<div><style>\n",
              ".dataframe > thead > tr > th,\n",
              ".dataframe > tbody > tr > td {\n",
              "  text-align: right;\n",
              "}\n",
              "</style>\n",
              "<small>shape: (150, 1)</small><table border=\"1\" class=\"dataframe\"><thead><tr><th>species</th></tr><tr><td>str</td></tr></thead><tbody><tr><td>&quot;setosa&quot;</td></tr><tr><td>&quot;setosa&quot;</td></tr><tr><td>&quot;setosa&quot;</td></tr><tr><td>&quot;setosa&quot;</td></tr><tr><td>&quot;setosa&quot;</td></tr><tr><td>&quot;setosa&quot;</td></tr><tr><td>&quot;setosa&quot;</td></tr><tr><td>&quot;setosa&quot;</td></tr><tr><td>&quot;setosa&quot;</td></tr><tr><td>&quot;setosa&quot;</td></tr><tr><td>&quot;setosa&quot;</td></tr><tr><td>&quot;setosa&quot;</td></tr><tr><td>&hellip;</td></tr><tr><td>&quot;virginica&quot;</td></tr><tr><td>&quot;virginica&quot;</td></tr><tr><td>&quot;virginica&quot;</td></tr><tr><td>&quot;virginica&quot;</td></tr><tr><td>&quot;virginica&quot;</td></tr><tr><td>&quot;virginica&quot;</td></tr><tr><td>&quot;virginica&quot;</td></tr><tr><td>&quot;virginica&quot;</td></tr><tr><td>&quot;virginica&quot;</td></tr><tr><td>&quot;virginica&quot;</td></tr><tr><td>&quot;virginica&quot;</td></tr><tr><td>&quot;virginica&quot;</td></tr></tbody></table></div>"
            ]
          },
          "metadata": {},
          "execution_count": 15
        }
      ]
    },
    {
      "cell_type": "markdown",
      "source": [
        "#Selecting Row(s)\n",
        "To select a single row in a dataframe, pass in the row number using the row() method:"
      ],
      "metadata": {
        "id": "coSsb_mT1xh3"
      }
    },
    {
      "cell_type": "code",
      "source": [
        "df.row(0)   # get the first row"
      ],
      "metadata": {
        "colab": {
          "base_uri": "https://localhost:8080/"
        },
        "id": "ZFoT5cQf1zxG",
        "outputId": "d2b46971-95ae-47ed-935e-c79ebc74e82a"
      },
      "execution_count": null,
      "outputs": [
        {
          "output_type": "execute_result",
          "data": {
            "text/plain": [
              "(5.1, 3.5, 1.4, 0.2, 'setosa')"
            ]
          },
          "metadata": {},
          "execution_count": 16
        }
      ]
    },
    {
      "cell_type": "markdown",
      "source": [
        "If you need to get multiple rows based on row numbers, you need to use the square bracket indexing method, although it is not the recommended way to do in Polars. Here are some examples:\n",
        "\n",
        "> - df[:2]# first 2 rows\n",
        "> - df[[1,3]] # second and fourth row\n",
        "\n",
        "To select multiple rows, Polars recommends using the filter() function. For example, if you want to retrieve all Apple’s products, you can use the following expression:"
      ],
      "metadata": {
        "id": "jHF7o26y2KDh"
      }
    },
    {
      "cell_type": "code",
      "source": [
        "df.filter(\n",
        "    pl.col('species') == 'setosa'\n",
        ")"
      ],
      "metadata": {
        "colab": {
          "base_uri": "https://localhost:8080/",
          "height": 882
        },
        "id": "Vb4UEo1U2boS",
        "outputId": "8dff0f01-f728-49fe-f2cb-735c35408508"
      },
      "execution_count": null,
      "outputs": [
        {
          "output_type": "execute_result",
          "data": {
            "text/plain": [
              "shape: (50, 5)\n",
              "┌──────────────┬─────────────┬──────────────┬─────────────┬─────────┐\n",
              "│ sepal_length ┆ sepal_width ┆ petal_length ┆ petal_width ┆ species │\n",
              "│ ---          ┆ ---         ┆ ---          ┆ ---         ┆ ---     │\n",
              "│ f64          ┆ f64         ┆ f64          ┆ f64         ┆ str     │\n",
              "╞══════════════╪═════════════╪══════════════╪═════════════╪═════════╡\n",
              "│ 5.1          ┆ 3.5         ┆ 1.4          ┆ 0.2         ┆ setosa  │\n",
              "│ 4.9          ┆ 3.0         ┆ 1.4          ┆ 0.2         ┆ setosa  │\n",
              "│ 4.7          ┆ 3.2         ┆ 1.3          ┆ 0.2         ┆ setosa  │\n",
              "│ 4.6          ┆ 3.1         ┆ 1.5          ┆ 0.2         ┆ setosa  │\n",
              "│ …            ┆ …           ┆ …            ┆ …           ┆ …       │\n",
              "│ 5.1          ┆ 3.8         ┆ 1.6          ┆ 0.2         ┆ setosa  │\n",
              "│ 4.6          ┆ 3.2         ┆ 1.4          ┆ 0.2         ┆ setosa  │\n",
              "│ 5.3          ┆ 3.7         ┆ 1.5          ┆ 0.2         ┆ setosa  │\n",
              "│ 5.0          ┆ 3.3         ┆ 1.4          ┆ 0.2         ┆ setosa  │\n",
              "└──────────────┴─────────────┴──────────────┴─────────────┴─────────┘"
            ],
            "text/html": [
              "<div><style>\n",
              ".dataframe > thead > tr > th,\n",
              ".dataframe > tbody > tr > td {\n",
              "  text-align: right;\n",
              "}\n",
              "</style>\n",
              "<small>shape: (50, 5)</small><table border=\"1\" class=\"dataframe\"><thead><tr><th>sepal_length</th><th>sepal_width</th><th>petal_length</th><th>petal_width</th><th>species</th></tr><tr><td>f64</td><td>f64</td><td>f64</td><td>f64</td><td>str</td></tr></thead><tbody><tr><td>5.1</td><td>3.5</td><td>1.4</td><td>0.2</td><td>&quot;setosa&quot;</td></tr><tr><td>4.9</td><td>3.0</td><td>1.4</td><td>0.2</td><td>&quot;setosa&quot;</td></tr><tr><td>4.7</td><td>3.2</td><td>1.3</td><td>0.2</td><td>&quot;setosa&quot;</td></tr><tr><td>4.6</td><td>3.1</td><td>1.5</td><td>0.2</td><td>&quot;setosa&quot;</td></tr><tr><td>5.0</td><td>3.6</td><td>1.4</td><td>0.2</td><td>&quot;setosa&quot;</td></tr><tr><td>5.4</td><td>3.9</td><td>1.7</td><td>0.4</td><td>&quot;setosa&quot;</td></tr><tr><td>4.6</td><td>3.4</td><td>1.4</td><td>0.3</td><td>&quot;setosa&quot;</td></tr><tr><td>5.0</td><td>3.4</td><td>1.5</td><td>0.2</td><td>&quot;setosa&quot;</td></tr><tr><td>4.4</td><td>2.9</td><td>1.4</td><td>0.2</td><td>&quot;setosa&quot;</td></tr><tr><td>4.9</td><td>3.1</td><td>1.5</td><td>0.1</td><td>&quot;setosa&quot;</td></tr><tr><td>5.4</td><td>3.7</td><td>1.5</td><td>0.2</td><td>&quot;setosa&quot;</td></tr><tr><td>4.8</td><td>3.4</td><td>1.6</td><td>0.2</td><td>&quot;setosa&quot;</td></tr><tr><td>&hellip;</td><td>&hellip;</td><td>&hellip;</td><td>&hellip;</td><td>&hellip;</td></tr><tr><td>4.4</td><td>3.0</td><td>1.3</td><td>0.2</td><td>&quot;setosa&quot;</td></tr><tr><td>5.1</td><td>3.4</td><td>1.5</td><td>0.2</td><td>&quot;setosa&quot;</td></tr><tr><td>5.0</td><td>3.5</td><td>1.3</td><td>0.3</td><td>&quot;setosa&quot;</td></tr><tr><td>4.5</td><td>2.3</td><td>1.3</td><td>0.3</td><td>&quot;setosa&quot;</td></tr><tr><td>4.4</td><td>3.2</td><td>1.3</td><td>0.2</td><td>&quot;setosa&quot;</td></tr><tr><td>5.0</td><td>3.5</td><td>1.6</td><td>0.6</td><td>&quot;setosa&quot;</td></tr><tr><td>5.1</td><td>3.8</td><td>1.9</td><td>0.4</td><td>&quot;setosa&quot;</td></tr><tr><td>4.8</td><td>3.0</td><td>1.4</td><td>0.3</td><td>&quot;setosa&quot;</td></tr><tr><td>5.1</td><td>3.8</td><td>1.6</td><td>0.2</td><td>&quot;setosa&quot;</td></tr><tr><td>4.6</td><td>3.2</td><td>1.4</td><td>0.2</td><td>&quot;setosa&quot;</td></tr><tr><td>5.3</td><td>3.7</td><td>1.5</td><td>0.2</td><td>&quot;setosa&quot;</td></tr><tr><td>5.0</td><td>3.3</td><td>1.4</td><td>0.2</td><td>&quot;setosa&quot;</td></tr></tbody></table></div>"
            ]
          },
          "metadata": {},
          "execution_count": 17
        }
      ]
    },
    {
      "cell_type": "markdown",
      "source": [
        "You can also specify multiple conditions using the logical operator:\n"
      ],
      "metadata": {
        "id": "LPT79jH52nqv"
      }
    },
    {
      "cell_type": "code",
      "source": [
        "df.filter(\n",
        "    (pl.col('species') == 'setosa') | \n",
        "    (pl.col('species') == 'versicolor')\n",
        ")"
      ],
      "metadata": {
        "colab": {
          "base_uri": "https://localhost:8080/",
          "height": 882
        },
        "id": "cXsJuy0x2pVR",
        "outputId": "6422032b-10da-4572-b5ac-dfc7fd6de1d3"
      },
      "execution_count": null,
      "outputs": [
        {
          "output_type": "execute_result",
          "data": {
            "text/plain": [
              "shape: (100, 5)\n",
              "┌──────────────┬─────────────┬──────────────┬─────────────┬────────────┐\n",
              "│ sepal_length ┆ sepal_width ┆ petal_length ┆ petal_width ┆ species    │\n",
              "│ ---          ┆ ---         ┆ ---          ┆ ---         ┆ ---        │\n",
              "│ f64          ┆ f64         ┆ f64          ┆ f64         ┆ str        │\n",
              "╞══════════════╪═════════════╪══════════════╪═════════════╪════════════╡\n",
              "│ 5.1          ┆ 3.5         ┆ 1.4          ┆ 0.2         ┆ setosa     │\n",
              "│ 4.9          ┆ 3.0         ┆ 1.4          ┆ 0.2         ┆ setosa     │\n",
              "│ 4.7          ┆ 3.2         ┆ 1.3          ┆ 0.2         ┆ setosa     │\n",
              "│ 4.6          ┆ 3.1         ┆ 1.5          ┆ 0.2         ┆ setosa     │\n",
              "│ …            ┆ …           ┆ …            ┆ …           ┆ …          │\n",
              "│ 5.7          ┆ 2.9         ┆ 4.2          ┆ 1.3         ┆ versicolor │\n",
              "│ 6.2          ┆ 2.9         ┆ 4.3          ┆ 1.3         ┆ versicolor │\n",
              "│ 5.1          ┆ 2.5         ┆ 3.0          ┆ 1.1         ┆ versicolor │\n",
              "│ 5.7          ┆ 2.8         ┆ 4.1          ┆ 1.3         ┆ versicolor │\n",
              "└──────────────┴─────────────┴──────────────┴─────────────┴────────────┘"
            ],
            "text/html": [
              "<div><style>\n",
              ".dataframe > thead > tr > th,\n",
              ".dataframe > tbody > tr > td {\n",
              "  text-align: right;\n",
              "}\n",
              "</style>\n",
              "<small>shape: (100, 5)</small><table border=\"1\" class=\"dataframe\"><thead><tr><th>sepal_length</th><th>sepal_width</th><th>petal_length</th><th>petal_width</th><th>species</th></tr><tr><td>f64</td><td>f64</td><td>f64</td><td>f64</td><td>str</td></tr></thead><tbody><tr><td>5.1</td><td>3.5</td><td>1.4</td><td>0.2</td><td>&quot;setosa&quot;</td></tr><tr><td>4.9</td><td>3.0</td><td>1.4</td><td>0.2</td><td>&quot;setosa&quot;</td></tr><tr><td>4.7</td><td>3.2</td><td>1.3</td><td>0.2</td><td>&quot;setosa&quot;</td></tr><tr><td>4.6</td><td>3.1</td><td>1.5</td><td>0.2</td><td>&quot;setosa&quot;</td></tr><tr><td>5.0</td><td>3.6</td><td>1.4</td><td>0.2</td><td>&quot;setosa&quot;</td></tr><tr><td>5.4</td><td>3.9</td><td>1.7</td><td>0.4</td><td>&quot;setosa&quot;</td></tr><tr><td>4.6</td><td>3.4</td><td>1.4</td><td>0.3</td><td>&quot;setosa&quot;</td></tr><tr><td>5.0</td><td>3.4</td><td>1.5</td><td>0.2</td><td>&quot;setosa&quot;</td></tr><tr><td>4.4</td><td>2.9</td><td>1.4</td><td>0.2</td><td>&quot;setosa&quot;</td></tr><tr><td>4.9</td><td>3.1</td><td>1.5</td><td>0.1</td><td>&quot;setosa&quot;</td></tr><tr><td>5.4</td><td>3.7</td><td>1.5</td><td>0.2</td><td>&quot;setosa&quot;</td></tr><tr><td>4.8</td><td>3.4</td><td>1.6</td><td>0.2</td><td>&quot;setosa&quot;</td></tr><tr><td>&hellip;</td><td>&hellip;</td><td>&hellip;</td><td>&hellip;</td><td>&hellip;</td></tr><tr><td>5.6</td><td>3.0</td><td>4.1</td><td>1.3</td><td>&quot;versicolor&quot;</td></tr><tr><td>5.5</td><td>2.5</td><td>4.0</td><td>1.3</td><td>&quot;versicolor&quot;</td></tr><tr><td>5.5</td><td>2.6</td><td>4.4</td><td>1.2</td><td>&quot;versicolor&quot;</td></tr><tr><td>6.1</td><td>3.0</td><td>4.6</td><td>1.4</td><td>&quot;versicolor&quot;</td></tr><tr><td>5.8</td><td>2.6</td><td>4.0</td><td>1.2</td><td>&quot;versicolor&quot;</td></tr><tr><td>5.0</td><td>2.3</td><td>3.3</td><td>1.0</td><td>&quot;versicolor&quot;</td></tr><tr><td>5.6</td><td>2.7</td><td>4.2</td><td>1.3</td><td>&quot;versicolor&quot;</td></tr><tr><td>5.7</td><td>3.0</td><td>4.2</td><td>1.2</td><td>&quot;versicolor&quot;</td></tr><tr><td>5.7</td><td>2.9</td><td>4.2</td><td>1.3</td><td>&quot;versicolor&quot;</td></tr><tr><td>6.2</td><td>2.9</td><td>4.3</td><td>1.3</td><td>&quot;versicolor&quot;</td></tr><tr><td>5.1</td><td>2.5</td><td>3.0</td><td>1.1</td><td>&quot;versicolor&quot;</td></tr><tr><td>5.7</td><td>2.8</td><td>4.1</td><td>1.3</td><td>&quot;versicolor&quot;</td></tr></tbody></table></div>"
            ]
          },
          "metadata": {},
          "execution_count": 18
        }
      ]
    },
    {
      "cell_type": "markdown",
      "source": [
        "You can use the following logical operators in Polars:\n",
        "\n",
        "> - OR (|)\n",
        "> - AND (&)\n",
        "> - Not (~)"
      ],
      "metadata": {
        "id": "3XaX2lVK2z7X"
      }
    },
    {
      "cell_type": "markdown",
      "source": [
        "#Selecting Rows and Columns\n",
        "Very often, you need to select rows and columns at the same time. You can do so by chaining the filter() and select() methods, like this:"
      ],
      "metadata": {
        "id": "sB108FNy3KU3"
      }
    },
    {
      "cell_type": "code",
      "source": [
        "df.filter(pl.col('species') == 'versicolor').select(['petal_length', 'petal_width'])"
      ],
      "metadata": {
        "colab": {
          "base_uri": "https://localhost:8080/",
          "height": 882
        },
        "id": "HmfYsmV_3Jz0",
        "outputId": "eb6ce981-77a1-4ce5-9b81-8268b627c5e9"
      },
      "execution_count": null,
      "outputs": [
        {
          "output_type": "execute_result",
          "data": {
            "text/plain": [
              "shape: (50, 2)\n",
              "┌──────────────┬─────────────┐\n",
              "│ petal_length ┆ petal_width │\n",
              "│ ---          ┆ ---         │\n",
              "│ f64          ┆ f64         │\n",
              "╞══════════════╪═════════════╡\n",
              "│ 4.7          ┆ 1.4         │\n",
              "│ 4.5          ┆ 1.5         │\n",
              "│ 4.9          ┆ 1.5         │\n",
              "│ 4.0          ┆ 1.3         │\n",
              "│ …            ┆ …           │\n",
              "│ 4.2          ┆ 1.3         │\n",
              "│ 4.3          ┆ 1.3         │\n",
              "│ 3.0          ┆ 1.1         │\n",
              "│ 4.1          ┆ 1.3         │\n",
              "└──────────────┴─────────────┘"
            ],
            "text/html": [
              "<div><style>\n",
              ".dataframe > thead > tr > th,\n",
              ".dataframe > tbody > tr > td {\n",
              "  text-align: right;\n",
              "}\n",
              "</style>\n",
              "<small>shape: (50, 2)</small><table border=\"1\" class=\"dataframe\"><thead><tr><th>petal_length</th><th>petal_width</th></tr><tr><td>f64</td><td>f64</td></tr></thead><tbody><tr><td>4.7</td><td>1.4</td></tr><tr><td>4.5</td><td>1.5</td></tr><tr><td>4.9</td><td>1.5</td></tr><tr><td>4.0</td><td>1.3</td></tr><tr><td>4.6</td><td>1.5</td></tr><tr><td>4.5</td><td>1.3</td></tr><tr><td>4.7</td><td>1.6</td></tr><tr><td>3.3</td><td>1.0</td></tr><tr><td>4.6</td><td>1.3</td></tr><tr><td>3.9</td><td>1.4</td></tr><tr><td>3.5</td><td>1.0</td></tr><tr><td>4.2</td><td>1.5</td></tr><tr><td>&hellip;</td><td>&hellip;</td></tr><tr><td>4.1</td><td>1.3</td></tr><tr><td>4.0</td><td>1.3</td></tr><tr><td>4.4</td><td>1.2</td></tr><tr><td>4.6</td><td>1.4</td></tr><tr><td>4.0</td><td>1.2</td></tr><tr><td>3.3</td><td>1.0</td></tr><tr><td>4.2</td><td>1.3</td></tr><tr><td>4.2</td><td>1.2</td></tr><tr><td>4.2</td><td>1.3</td></tr><tr><td>4.3</td><td>1.3</td></tr><tr><td>3.0</td><td>1.1</td></tr><tr><td>4.1</td><td>1.3</td></tr></tbody></table></div>"
            ]
          },
          "metadata": {},
          "execution_count": 19
        }
      ]
    },
    {
      "cell_type": "code",
      "source": [
        "df.filter(pl.col(\"sepal_length\") > 5).groupby(\"species\", maintain_order=True).agg(pl.all().sum())"
      ],
      "metadata": {
        "colab": {
          "base_uri": "https://localhost:8080/",
          "height": 192
        },
        "id": "dsRvqQGZsdJ-",
        "outputId": "00b8921f-8e66-4005-a3d4-3e1a0be82bbb"
      },
      "execution_count": null,
      "outputs": [
        {
          "output_type": "execute_result",
          "data": {
            "text/plain": [
              "shape: (3, 5)\n",
              "┌────────────┬──────────────┬─────────────┬──────────────┬─────────────┐\n",
              "│ species    ┆ sepal_length ┆ sepal_width ┆ petal_length ┆ petal_width │\n",
              "│ ---        ┆ ---          ┆ ---         ┆ ---          ┆ ---         │\n",
              "│ str        ┆ f64          ┆ f64         ┆ f64          ┆ f64         │\n",
              "╞════════════╪══════════════╪═════════════╪══════════════╪═════════════╡\n",
              "│ setosa     ┆ 116.9        ┆ 81.7        ┆ 33.2         ┆ 6.1         │\n",
              "│ versicolor ┆ 281.9        ┆ 131.8       ┆ 202.9        ┆ 63.3        │\n",
              "│ virginica  ┆ 324.5        ┆ 146.2       ┆ 273.1        ┆ 99.6        │\n",
              "└────────────┴──────────────┴─────────────┴──────────────┴─────────────┘"
            ],
            "text/html": [
              "<div><style>\n",
              ".dataframe > thead > tr > th,\n",
              ".dataframe > tbody > tr > td {\n",
              "  text-align: right;\n",
              "}\n",
              "</style>\n",
              "<small>shape: (3, 5)</small><table border=\"1\" class=\"dataframe\"><thead><tr><th>species</th><th>sepal_length</th><th>sepal_width</th><th>petal_length</th><th>petal_width</th></tr><tr><td>str</td><td>f64</td><td>f64</td><td>f64</td><td>f64</td></tr></thead><tbody><tr><td>&quot;setosa&quot;</td><td>116.9</td><td>81.7</td><td>33.2</td><td>6.1</td></tr><tr><td>&quot;versicolor&quot;</td><td>281.9</td><td>131.8</td><td>202.9</td><td>63.3</td></tr><tr><td>&quot;virginica&quot;</td><td>324.5</td><td>146.2</td><td>273.1</td><td>99.6</td></tr></tbody></table></div>"
            ]
          },
          "metadata": {},
          "execution_count": 20
        }
      ]
    },
    {
      "cell_type": "markdown",
      "source": [
        "## 13. What are the key differences between Apache Spark, Polars, and Pandas, and their use cases?"
      ],
      "metadata": {
        "id": "wfL_slosSL7q"
      }
    },
    {
      "cell_type": "markdown",
      "source": [
        "Apache Spark, Polars, and Pandas are all popular data processing and analytics tools, but they have some key differences in terms of their design, features, and use cases. Here's a comparison of the three:\n",
        "\n",
        "- Apache Spark: Apache Spark is a distributed computing system that is designed to process large datasets quickly and efficiently. It includes a range of libraries for batch processing, streaming data processing, machine learning, and graph processing. Spark's key features include scalability, fault tolerance, and real-time data processing. It is best suited for processing and analyzing very large datasets, where distributed processing is necessary for performance.\n",
        "- Polars: Polars is a data processing library for Python and Rust that is designed to provide fast, memory-efficient data processing capabilities for large datasets. It includes a range of data manipulation and aggregation functions, as well as support for parallel processing and GPU acceleration. Polars is best suited for working with large, structured datasets that require complex data transformations and filtering.\n",
        "- Pandas: Pandas is a popular data manipulation library for Python that is designed for working with smaller datasets. It includes a range of functions for data cleaning, transformation, and aggregation, as well as support for data visualization. Pandas is best suited for working with structured data that can fit into memory on a single machine.\n",
        "\n",
        "Overall, the key differences between these tools come down to their scalability and performance capabilities. Apache Spark is designed for processing and analyzing very large datasets that require distributed processing, while Polars is designed for fast, memory-efficient processing of large structured datasets. Pandas is designed for working with smaller datasets that can fit into memory on a single machine. The choice of tool depends on the size and complexity of the dataset, the performance requirements, and the specific use case."
      ],
      "metadata": {
        "id": "DSRI3a6paGHW"
      }
    },
    {
      "cell_type": "markdown",
      "source": [
        "# MLOps"
      ],
      "metadata": {
        "id": "AJBtpNqGmBGG"
      }
    },
    {
      "cell_type": "markdown",
      "source": [
        "## 14. What is MLOps, and why is it important in the context of machine learning projects?"
      ],
      "metadata": {
        "id": "RcZnwuR9SL5D"
      }
    },
    {
      "cell_type": "markdown",
      "source": [
        "MLOps (Machine Learning Operations) is a set of practices and tools used to manage the lifecycle of machine learning models in production environments. It is an extension of DevOps (Development Operations) and aims to bring the same level of automation, collaboration, and agility to machine learning development and deployment.\n",
        "\n",
        "ML is revolutionizing the world by modernizing industries like healthcare, education, transportation, food, entertainment, and various assembly lines, among others. However, some of the bitter truths of the ML world, when taken to production are:\n",
        "\n",
        "Deploying machine learning models to production takes much more time than creating them.\n",
        "\n",
        "In real-world machine learning systems, the actual code that does the machine learning work is only a small part of the overall system. The infrastructure surrounding the code in the production environment is complex and extensive."
      ],
      "metadata": {
        "id": "N-wRgaOiDkmI"
      }
    },
    {
      "cell_type": "markdown",
      "source": [
        "![pciture](https://raw.githubusercontent.com/aaubs/ds-master/main/data/Images/HIddenTechnicalDebtinML.jpg)"
      ],
      "metadata": {
        "id": "bnyjJUniDoe2"
      }
    },
    {
      "cell_type": "markdown",
      "source": [
        "Historically, ~85 % of ML models that are built never reach production. Surveys & reports also suggest that only ~60% of projects make it from prototype to production — that too at organizations that have a decent experience with AI. Wikipedia defines MLOps as:\n",
        "\n",
        "MLOps is the process of taking an experimental Machine Learning model into a production system.\n",
        "\n",
        "![picture](https://raw.githubusercontent.com/aaubs/ds-master/main/data/Images/ML_Ops_Venn_Diagram.svg.png)"
      ],
      "metadata": {
        "id": "-Cg3fwfgDtjE"
      }
    },
    {
      "cell_type": "markdown",
      "source": [
        "MLOps, or Machine Learning Operations, is a set of practices and tools that aims to streamline the development, deployment, and maintenance of machine learning models. It combines principles and techniques from software engineering, DevOps, and data science to create a consistent and efficient process for managing machine learning projects.\n",
        "\n",
        "MLOps is important in the context of machine learning projects for several reasons:\n",
        "\n",
        "- Collaboration: Machine learning projects typically involve multiple teams and stakeholders, including data scientists, software engineers, and business analysts. MLOps provides a common framework for collaboration and communication across these teams, ensuring that everyone is working towards the same goals.\n",
        "- Efficiency: MLOps helps to automate many of the repetitive tasks involved in machine learning projects, such as data cleaning, feature engineering, model training, and deployment. This can help to reduce the time and effort required to develop and deploy models, allowing teams to focus on more creative and innovative tasks.\n",
        "- Reproducibility: MLOps provides a systematic approach to managing machine learning projects, including version control, testing, and documentation. This helps to ensure that models are reproducible, and that results can be verified and validated across different environments.\n",
        "- Scalability: As machine learning projects grow in size and complexity, it becomes increasingly important to have a scalable and reliable infrastructure for managing models. MLOps provides tools and techniques for managing data, models, and infrastructure at scale, allowing teams to deploy and manage models across multiple environments.\n",
        "\n",
        "Overall, MLOps is important in the context of machine learning projects because it helps to streamline the development, deployment, and maintenance of models, making it easier to collaborate across teams, improve efficiency, ensure reproducibility, and scale up projects as needed."
      ],
      "metadata": {
        "id": "XEcirHsca-3R"
      }
    },
    {
      "cell_type": "markdown",
      "source": [
        "## 15. How does MLOps help in streamlining the machine learning lifecycle from development to deployment? Answer based on an example."
      ],
      "metadata": {
        "id": "5zHEKfP6SL2y"
      }
    },
    {
      "cell_type": "markdown",
      "source": [
        "MLOps helps to streamline the machine learning lifecycle from development to deployment by providing a systematic approach to managing machine learning projects. Here's an example of how MLOps can help to streamline the lifecycle:\n",
        "\n",
        "- Data preparation: MLOps provides tools and techniques for managing data, including data cleaning, transformation, and feature engineering. For example, data pipelines can be developed and managed using tools such as Apache Airflow or Kubeflow, allowing data to be processed and transformed automatically.\n",
        "- Model development: MLOps provides tools and techniques for managing the model development process, including version control, testing, and documentation. For example, models can be developed and tested using tools such as Jupyter notebooks or PyCharm, and code can be managed using version control systems such as Git.\n",
        "- Model training: MLOps provides tools and techniques for managing the model training process, including scalability and reproducibility. For example, models can be trained using distributed computing frameworks such as Apache Spark or TensorFlow, and training can be managed using tools such as Kubeflow or MLflow.\n",
        "- Model deployment: MLOps provides tools and techniques for managing the model deployment process, including automation and scalability. For example, models can be deployed using containerization technologies such as Docker or Kubernetes, and deployment can be managed using tools such as GitOps or Jenkins.\n",
        "- Model monitoring: MLOps provides tools and techniques for managing the model monitoring process, including tracking model performance and detecting anomalies. For example, models can be monitored using tools such as Prometheus or Grafana, and alerts can be triggered based on specific criteria.\n",
        "\n",
        "By using MLOps, the entire machine learning lifecycle can be managed in a systematic and consistent way, allowing teams to collaborate effectively and improve efficiency. For example, data scientists can work on developing and testing models, while software engineers can focus on deploying and managing models in production. This helps to reduce the time and effort required to develop and deploy models, and improves the overall quality and reliability of the models."
      ],
      "metadata": {
        "id": "E33sBrj5bU-6"
      }
    },
    {
      "cell_type": "markdown",
      "source": [
        "## 16. How do Continuous Integration (CI) and Continuous Deployment (CD) principles apply to MLOps, and can you give a use case?"
      ],
      "metadata": {
        "id": "mejZAYZ0SL0d"
      }
    },
    {
      "cell_type": "markdown",
      "source": [
        "Continuous Integration (CI) and Continuous Deployment (CD) principles apply to MLOps in much the same way as they apply to software development. CI is the practice of regularly integrating code changes into a shared repository, and automatically building and testing the code to identify and fix any issues. CD is the practice of automatically deploying code changes to production once they have been tested and verified.\n",
        "\n",
        "In the context of MLOps, CI/CD can help to streamline the machine learning development process, by automating many of the tasks involved in building, testing, and deploying models. Here's an example of how CI/CD principles can be applied to MLOps:\n",
        "\n",
        "- Continuous Integration: Data scientists can use CI tools such as GitHub Actions, CircleCI, or Jenkins to automatically build and test their models whenever changes are made to the code or data. For example, when a new feature is added to the model or when new data becomes available, the CI system can automatically rebuild and test the model to ensure that it is still working as expected.\n",
        "- Continuous Deployment: Once a model has been developed and tested, CD tools such as Kubernetes, Argo, or Jenkins can be used to automatically deploy the model to production. For example, when a new version of the model is ready, the CD system can automatically deploy it to a testing environment, where it can be further evaluated and tested. Once the model has passed all tests, it can be automatically deployed to production.\n",
        "\n",
        "By using CI/CD principles in MLOps, the machine learning development process can be streamlined, with changes to the model and data being automatically tested and deployed. This helps to reduce the time and effort required to deploy new models and updates, and improves the overall quality and reliability of the models in production."
      ],
      "metadata": {
        "id": "QWvh4SdMb4K4"
      }
    },
    {
      "cell_type": "markdown",
      "source": [],
      "metadata": {
        "id": "4KtOgdTrFA1C"
      }
    },
    {
      "cell_type": "markdown",
      "source": [
        "CI/CD is an essential practice for modern software development, enabling developers to automate the build, testing, and deployment process of their applications. For example, when it comes to deploying a Streamlit app, you can utilize cloud-based platforms like Streamlit server, Heroku, Google Cloud Platform (GCP), or Amazon Web Services (AWS) that provide a suite of tools and services to automate these processes.\n",
        "\n"
      ],
      "metadata": {
        "id": "6-LLXB6JnJpo"
      }
    },
    {
      "cell_type": "markdown",
      "source": [
        "![](https://www.synopsys.com/glossary/what-is-cicd/_jcr_content/root/synopsyscontainer/column_1946395452_co/colRight/image_copy.coreimg.svg/1663683682045/cicd.svg)"
      ],
      "metadata": {
        "id": "QSWaDGetqkrk"
      }
    },
    {
      "cell_type": "markdown",
      "source": [
        "####Step 1: Create a Streamlit app for Iris classification\n",
        "\n",
        "Create a Streamlit app for Iris classification using Python and Scikit-learn. The app should take user inputs for the sepal length, sepal width, petal length, and petal width of an Iris flower and predict its species using a pre-trained K-nearest neighbors (KNN) classification model. "
      ],
      "metadata": {
        "id": "N01CCy7jnOgP"
      }
    },
    {
      "cell_type": "code",
      "execution_count": null,
      "metadata": {
        "id": "TolNH-OMmbMN"
      },
      "outputs": [],
      "source": [
        "#app.py\n",
        "from sklearn.datasets import load_iris\n",
        "from sklearn.model_selection import train_test_split\n",
        "from sklearn.neighbors import KNeighborsClassifier\n",
        "\n",
        "iris = load_iris()\n",
        "X_train, X_test, y_train, y_test = train_test_split(iris.data, iris.target, test_size=0.2)\n",
        "\n",
        "model = KNeighborsClassifier(n_neighbors=5)\n",
        "model.fit(X_train, y_train)\n",
        "\n",
        "import streamlit as st\n",
        "\n",
        "st.title(\"Iris Classification\")\n",
        "st.sidebar.title(\"Input Parameters\")\n",
        "\n",
        "sepal_length = st.sidebar.slider(\"Sepal length\", 0.0, 10.0, 5.0)\n",
        "sepal_width = st.sidebar.slider(\"Sepal width\", 0.0, 10.0, 5.0)\n",
        "petal_length = st.sidebar.slider(\"Petal length\", 0.0, 10.0, 5.0)\n",
        "petal_width = st.sidebar.slider(\"Petal width\", 0.0, 10.0, 5.0)\n",
        "\n",
        "input_data = [[sepal_length, sepal_width, petal_length, petal_width]]\n",
        "\n",
        "if st.sidebar.button(\"Predict\"):\n",
        "    prediction = model.predict(input_data)\n",
        "    st.write(f\"Predicted iris species: {iris.target_names[prediction[0]]}\")"
      ]
    },
    {
      "cell_type": "markdown",
      "source": [
        "####Step 2: Set up a GitHub repository for your app\n",
        "Set up a new repository on GitHub for your Streamlit app. This repository will host your code and allow you to deploy your app using the Streamlit server.\n",
        "\n"
      ],
      "metadata": {
        "id": "KPn620aNooli"
      }
    },
    {
      "cell_type": "markdown",
      "source": [
        "####Step 3: Install and configure the Streamlit server\n",
        "\n",
        "Install the Streamlit server on your local machine by running pip install streamlit. Once installed, you can run the Streamlit server using the command streamlit run app.py. This will start the server and display your Streamlit app in a web browser."
      ],
      "metadata": {
        "id": "UZs9otBDouu8"
      }
    },
    {
      "cell_type": "markdown",
      "source": [
        "####Step 4: Connect your GitHub repository to the Streamlit server\n",
        "To deploy your app on the Streamlit server, you need to connect your GitHub repository to the server. You can do this by creating an account on the Streamlit sharing platform (https://share.streamlit.io/) and linking your GitHub repository to the platform."
      ],
      "metadata": {
        "id": "Oe9Rf8eEpici"
      }
    },
    {
      "cell_type": "markdown",
      "source": [
        "####Step 5: Deploy your app on the Streamlit server\n",
        "Once you have connected your GitHub repository to the Streamlit server, you can deploy your app by clicking on the \"Deploy app\" button on the Streamlit sharing platform. This will trigger a build process that deploys your app on the Streamlit server. You can then access your app using the URL provided by the Streamlit server.\n",
        "\n"
      ],
      "metadata": {
        "id": "Ug0Lxv_AppOh"
      }
    },
    {
      "cell_type": "markdown",
      "source": [
        "####Step 7: Push your code changes to the repository and monitor the deployment process\n",
        "\n",
        "Push your code changes to the repository and monitor the deployment process. You should see the app being built, tested, and deployed automatically by the CI/CD pipeline. Once the deployment is complete, you can access the app using the URL provided by the cloud platform."
      ],
      "metadata": {
        "id": "PqjY4OHBp3BS"
      }
    },
    {
      "cell_type": "markdown",
      "source": [],
      "metadata": {
        "id": "QRjwuUNeFH1H"
      }
    },
    {
      "cell_type": "markdown",
      "source": [
        "To set up a GitHub Action that trains a machine learning model on the Iris dataset, saves it as an artifact, and deploys the app on Heroku, you can follow these steps:"
      ],
      "metadata": {
        "id": "9erXU5RplcBI"
      }
    },
    {
      "cell_type": "markdown",
      "source": [
        "###Make sure your GitHub repository contains the following files:\n",
        "- train_model.py: A Python script to train the model and save it as a .pkl file.- app.py: A Python script containing a Flask or FastAPI app that uses the trained model to make predictions. \n",
        "\n",
        "\n",
        "- requirements.txt: A list of Python dependencies.\n",
        "- Procfile: A Heroku Procfile to specify the app's entry point.\n",
        "- runtime.txt: A file to specify the Python runtime version."
      ],
      "metadata": {
        "id": "9e2c9w_Qlhtc"
      }
    },
    {
      "cell_type": "markdown",
      "source": [
        "![](https://miro.medium.com/v2/resize:fit:4800/format:webp/1*HY_qNXxMeD3LyUaXZHlcug.jpeg)"
      ],
      "metadata": {
        "id": "rmVh7cATsMaH"
      }
    },
    {
      "cell_type": "code",
      "source": [
        "#train_model.py\n",
        "import pandas as pd\n",
        "from sklearn.datasets import load_iris\n",
        "from sklearn.model_selection import train_test_split\n",
        "from sklearn.ensemble import RandomForestClassifier\n",
        "import joblib\n",
        "\n",
        "def train_model():\n",
        "    iris = load_iris()\n",
        "    X, y = iris.data, iris.target\n",
        "    X_train, X_test, y_train, y_test = train_test_split(X, y, test_size=0.3, random_state=42)\n",
        "\n",
        "    clf = RandomForestClassifier()\n",
        "    clf.fit(X_train, y_train)\n",
        "\n",
        "    return clf\n",
        "\n",
        "if __name__ == \"__main__\":\n",
        "    model = train_model()\n",
        "    joblib.dump(model, \"model.pkl\")"
      ],
      "metadata": {
        "id": "VgX3J7_TtfuM"
      },
      "execution_count": null,
      "outputs": []
    },
    {
      "cell_type": "code",
      "source": [
        "#app.py\n",
        "import joblib\n",
        "from flask import Flask, jsonify, request\n",
        "\n",
        "app = Flask(__name__)\n",
        "model = joblib.load(\"model.pkl\")\n",
        "\n",
        "@app.route(\"/predict\", methods=[\"POST\"])\n",
        "def predict():\n",
        "    data = request.get_json()\n",
        "    features = data[\"features\"]\n",
        "    prediction = model.predict([features])\n",
        "    return jsonify({\"prediction\": int(prediction[0])})\n",
        "\n",
        "if __name__ == \"__main__\":\n",
        "    app.run()"
      ],
      "metadata": {
        "id": "fz6GSIu6nIEs"
      },
      "execution_count": null,
      "outputs": []
    },
    {
      "cell_type": "code",
      "source": [
        "#requirements.txt\n",
        "flask\n",
        "joblib\n",
        "scikit-learn\n",
        "pandas\n",
        "gunicorn"
      ],
      "metadata": {
        "id": "d3TVOIAdnNVZ"
      },
      "execution_count": null,
      "outputs": []
    },
    {
      "cell_type": "code",
      "source": [
        "#Procfile\n",
        "web: gunicorn app:app"
      ],
      "metadata": {
        "id": "BYPuWjmAnSCO"
      },
      "execution_count": null,
      "outputs": []
    },
    {
      "cell_type": "code",
      "source": [
        "#runtime.txt\n",
        "python-3.8"
      ],
      "metadata": {
        "id": "us1rrL1OnWT_"
      },
      "execution_count": null,
      "outputs": []
    },
    {
      "cell_type": "markdown",
      "source": [
        "###Create a new file in your repository named .github/workflows/main.yml. This is the GitHub Actions workflow configuration file."
      ],
      "metadata": {
        "id": "7xGq56W4niCC"
      }
    },
    {
      "cell_type": "code",
      "source": [
        "#Add the following content to the main.yml file:\n",
        "\n",
        "name: Train Model and Deploy to Heroku\n",
        "\n",
        "on:\n",
        "  push:\n",
        "    branches:\n",
        "      - main\n",
        "\n",
        "jobs:\n",
        "  train:\n",
        "    runs-on: ubuntu-latest\n",
        "\n",
        "    steps:\n",
        "    - name: Checkout repository\n",
        "      uses: actions/checkout@v2\n",
        "\n",
        "    - name: Set up Python\n",
        "      uses: actions/setup-python@v2\n",
        "      with:\n",
        "        python-version: 3.8\n",
        "\n",
        "    - name: Install dependencies\n",
        "      run: |\n",
        "        python -m pip install --upgrade pip\n",
        "        pip install -r requirements.txt\n",
        "    - name: Train model\n",
        "      run: python train.py\n",
        "\n",
        "    - name: Save Model\n",
        "      uses: actions/upload-artifact@v2\n",
        "      with:\n",
        "        name: model\n",
        "        path: model.pkl\n",
        "\n",
        "  deploy:\n",
        "    runs-on: ubuntu-latest\n",
        "    needs: train\n",
        "\n",
        "    steps:\n",
        "    - name: Checkout repository\n",
        "      uses: actions/checkout@v2\n",
        "\n",
        "    - name: Download model artifact\n",
        "      uses: actions/download-artifact@v2\n",
        "      with:\n",
        "        name: model\n",
        "        path: model.pkl\n",
        "\n",
        "    - name: Install Heroku CLI\n",
        "      run: curl https://cli-assets.heroku.com/install.sh | sh\n",
        "\n",
        "    - name: Deploy to Heroku\n",
        "      run: |\n",
        "        cd ${{ github.workspace }}\n",
        "        heroku container:login\n",
        "        heroku create iris-heroku-app-mlops\n",
        "        git push heroku HEAD:main\n",
        "      env:\n",
        "        HEROKU_API_KEY: ${{ secrets.HEROKU_API_KEY }}\n",
        "        HEROKU_APP_NAME: \"your-heroku-app-name\"\n",
        "        HEROKU_EMAIL: \"your@email.com\""
      ],
      "metadata": {
        "id": "2g12W0ovn_Ab"
      },
      "execution_count": null,
      "outputs": []
    },
    {
      "cell_type": "markdown",
      "source": [
        "Replace your-heroku-app-name with your desired Heroku app name and your@email.com with your Heroku account's email address. Add your Heroku API key as a secret in your GitHub repository settings.\n",
        "\n",
        "Commit and push these files to the main branch of your repository. The GitHub Action will train the model, save it as an artifact, and deploy the Flask app to Heroku.\n",
        "\n",
        "You can then make predictions by sending a POST request to your Heroku app at https://your-heroku-app-name.herokuapp.com/predict with the following JSON payload:"
      ],
      "metadata": {
        "id": "Ol-ShLXzod6S"
      }
    },
    {
      "cell_type": "code",
      "source": [
        "{\n",
        "    \"features\": [5.1, 3.5, 1.4, 0.2]\n",
        "}"
      ],
      "metadata": {
        "id": "vUd3ccEzofwz"
      },
      "execution_count": null,
      "outputs": []
    },
    {
      "cell_type": "markdown",
      "source": [
        "## 17. What are some popular tools and platforms used in MLOps for managing and deploying machine learning models?"
      ],
      "metadata": {
        "id": "W0I3641qSLx_"
      }
    },
    {
      "cell_type": "markdown",
      "source": [
        "There are several popular tools and platforms used in MLOps for managing and deploying machine learning models. Here are some examples:\n",
        "\n",
        "- Kubeflow: An open-source machine learning toolkit for Kubernetes, which enables data scientists to build, train, and deploy machine learning models at scale.\n",
        "- TensorFlow Extended (TFX): An end-to-end machine learning platform for building production ML pipelines, which includes components for data validation, preprocessing, training, and deployment.\n",
        "- MLflow: An open-source platform for managing the ML lifecycle, which includes tools for tracking experiments, packaging code into reproducible runs, and sharing and deploying models.\n",
        "- AWS SageMaker: A cloud-based platform for building, training, and deploying machine learning models, which provides tools for data preparation, model training, and deployment.\n",
        "- Microsoft Azure Machine Learning: A cloud-based platform for building, training, and deploying machine learning models, which provides tools for data preparation, model training, and deployment.\n",
        "Google Cloud AI Platform: A cloud-based platform for building, training, and deploying machine learning models, which provides tools for data preparation, model training, and deployment.\n",
        "- Databricks: A cloud-based platform for building, deploying, and managing machine learning models at scale, which includes tools for data preparation, model training, and deployment.\n",
        "\n",
        "These tools and platforms help data scientists and machine learning engineers to streamline the MLOps process, by providing tools for managing data, building models, and deploying them into production. They also provide capabilities for monitoring and optimizing models in production, which is critical for ensuring their ongoing performance and reliability."
      ],
      "metadata": {
        "id": "8xKfh-S4d096"
      }
    },
    {
      "cell_type": "markdown",
      "source": [
        "## 18. Can you give a best practice for implementing MLOps in an organization?"
      ],
      "metadata": {
        "id": "AmIPnO3zSLvn"
      }
    },
    {
      "cell_type": "markdown",
      "source": [
        "Sure! One best practice for implementing MLOps in an organization is to follow a systematic and iterative approach that involves the following steps:\n",
        "\n",
        "- Define your ML goals and use cases: Start by identifying the business problems that you want to solve using machine learning, and define the specific ML use cases and goals that you want to achieve.\n",
        "Assemble a team: Build a team with the necessary skills and expertise in data science, machine learning, software engineering, and DevOps to work on the project.\n",
        "- Define data pipelines: Create data pipelines to collect, preprocess, and store data for machine learning. Use version control systems to manage code and data.\n",
        "- Develop and train models: Develop models using best practices in data science and machine learning. Use scalable architectures to build models that can handle large datasets.\n",
        "- Test and evaluate models: Test models using validation and testing techniques to ensure that they are accurate and reliable. Establish a process to monitor models in production and to retrain models when necessary.\n",
        "- Deploy models: Deploy models using containerization tools like Docker or Kubernetes. Establish a process for continuous integration and continuous deployment (CI/CD) to streamline the deployment process.\n",
        "- Monitor and optimize: Establish a process to monitor the performance of models in production and to optimize them when necessary. This includes collecting data on model performance and using this data to improve the accuracy and reliability of the models over time.\n",
        "\n",
        "By following this systematic and iterative approach, you can effectively implement MLOps in your organization and achieve the desired results from your machine learning projects. This approach helps to ensure that all aspects of the machine learning lifecycle are properly managed and that the models are accurate, reliable, and scalable."
      ],
      "metadata": {
        "id": "L1xRZ0W_eNQP"
      }
    },
    {
      "cell_type": "markdown",
      "source": [
        "# MLFlow"
      ],
      "metadata": {
        "id": "TT7vloFgmG38"
      }
    },
    {
      "cell_type": "markdown",
      "source": [
        "# AWS and Ubuntu"
      ],
      "metadata": {
        "id": "A3md_-8PFdEK"
      }
    },
    {
      "cell_type": "markdown",
      "source": [],
      "metadata": {
        "id": "NR5UVplvFiCL"
      }
    },
    {
      "cell_type": "markdown",
      "source": [
        "![image.png](data:image/png;base64,iVBORw0KGgoAAAANSUhEUgAABLAAAAMgCAIAAAC8ggxVAAAMa2lDQ1BJQ0MgUHJvZmlsZQAASImVVwdYU8kWnluSkJDQAhGQEnoTpFcpIbQIAlIFGyEJJJQYE4KKvSwquHYRARu6KqLoWgBZVMSuLIq9LxZUlHWxoCgqb0ICuu4r3zvfN3f+e+bMf8qdufcOAJq9XIkkB9UCIFecJ40LD2aOS0llkp4BDOgBCvABZlyeTMKKjY0CUAb7v8v7GwBR9FcdFVz/HP+vosMXyHgAIBMgTufLeLkQNwGAV/Ak0jwAiAq9xbQ8iQLPg1hXCgOEeK0CZyrxLgVOV+LGAZuEODbElwFQo3K50kwANO5BPTOflwl5ND5D7Czmi8QAaI6AOIAn5PIhVsQ+Ijd3igKXQmwL7SUQw3iAd/p3nJl/408f4udyM4ewMq8BUQsRySQ53Bn/Z2n+t+TmyAd9WMNGFUoj4hT5wxreyp4SqcBUiLvE6dExilpD3CviK+sOAEoRyiMSlfaoEU/GhvUDDIid+dyQSIiNIA4T50RHqfTpGaIwDsRwtaDTRXmcBIj1IV4ikIXGq2y2SKfEqXyhtRlSNkulP8eVDvhV+Hogz05kqfjfCAUcFT+mUSBMSIaYArFlvigpGmINiJ1k2fGRKptRBUJ29KCNVB6niN8S4jiBODxYyY/lZ0jD4lT2RbmywXyxLUIRJ1qFD+QJEyKU9cFO8bgD8cNcsMsCMStxkEcgGxc1mAtfEBKqzB17LhAnxqt4eiV5wXHKuThFkhOrssfNBTnhCr05xO6y/HjVXDwpDy5OJT+eIcmLTVDGiRdkcUfHKuPBV4IowAYhgAnksKWDKSALiFq76rrgnXIkDHCBFGQCAXBUaQZnJA+MiOE1HhSAPyESANnQvOCBUQHIh/ovQ1rl1RFkDIzmD8zIBk8hzgWRIAfeywdmiYe8JYEnUCP6h3cubDwYbw5sivF/rx/UftOwoCZKpZEPemRqDloSQ4khxAhiGNEON8QDcD88Cl6DYHPFvXGfwTy+2ROeEtoIjwjXCe2E25NFC6Q/RDkGtEP+MFUt0r+vBW4NOT3wYNwfskNmnIEbAkfcHfph4YHQswfUslVxK6rC/IH7bxl89zRUdmRnMkoeRg4i2/44U8New2OIRVHr7+ujjDV9qN7soZEf/bO/qz4f9pE/WmJLsIPYWewEdh5rxOoAEzuO1WMt2FEFHlpdTwZW16C3uIF4siGP6B/+uCqfikrKnKudO50/K8fyBNPzFBuPPUUyQyrKFOYxWfDrIGByxDynEUxXZ1c3ABTfGuXr6y1j4BuCMC580y2Ee9xf3N/f3/hNF/kJgENmcPu3f9PZXIGvCfiePreKJ5fmK3W44kKAbwlNuNMMgAmwALYwH1fgCfxAEAgFo0EMSAApYBKsshCucymYBmaB+aAQFIOVYB0oA5vBNrAL7AUHQB1oBCfAGXARXAbXwV24ejrAS9AN3oM+BEFICA2hIwaIKWKFOCCuiDcSgIQiUUgckoKkIZmIGJEjs5CFSDGyGilDtiJVyK/IEeQEch5pQ24jD5FO5A3yCcVQKqqLGqPW6EjUG2WhkWgCOhHNRKeiBegidDlailaie9Ba9AR6Eb2OtqMv0R4MYOoYAzPDHDFvjI3FYKlYBibF5mBFWAlWidVgDfA5X8XasS7sI07E6TgTd4QrOAJPxHn4VHwOvgwvw3fhtfgp/Cr+EO/GvxJoBCOCA8GXwCGMI2QSphEKCSWEHYTDhNNwL3UQ3hOJRAbRhugF92IKMYs4k7iMuJG4j9hEbCM+JvaQSCQDkgPJnxRD4pLySIWkDaQ9pOOkK6QOUq+aupqpmqtamFqqmlhtgVqJ2m61Y2pX1J6p9ZG1yFZkX3IMmU+eQV5B3k5uIF8id5D7KNoUG4o/JYGSRZlPKaXUUE5T7lHeqqurm6v7qI9VF6nPUy9V369+Tv2h+keqDtWeyqZOoMqpy6k7qU3U29S3NBrNmhZES6Xl0ZbTqmgnaQ9ovRp0DScNjgZfY65GuUatxhWNV5pkTStNluYkzQLNEs2Dmpc0u7TIWtZabC2u1hytcq0jWje1erTp2i7aMdq52su0d2uf136uQ9Kx1gnV4ess0tmmc1LnMR2jW9DZdB59IX07/TS9Q5eoa6PL0c3SLdbdq9uq262no+eul6Q3Xa9c76heOwNjWDM4jBzGCsYBxg3Gp2HGw1jDBMOWDqsZdmXYB/3h+kH6Av0i/X361/U/GTANQg2yDVYZ1BncN8QN7Q3HGk4z3GR42rBruO5wv+G84UXDDwy/Y4Qa2RvFGc002mbUYtRjbGIcbiwx3mB80rjLhGESZJJlstbkmEmnKd00wFRkutb0uOkLph6TxcxhljJPMbvNjMwizORmW81azfrMbcwTzReY7zO/b0Gx8LbIsFhr0WzRbWlqOcZylmW15R0rspW3ldBqvdVZqw/WNtbJ1out66yf2+jbcGwKbKpt7tnSbANtp9pW2l6zI9p522XbbbS7bI/ae9gL7cvtLzmgDp4OIoeNDm0jCCN8RohHVI646Uh1ZDnmO1Y7PnRiOEU5LXCqc3o10nJk6shVI8+O/Ors4ZzjvN35rouOy2iXBS4NLm9c7V15ruWu19xobmFuc93q3V67O7gL3De53/Kge4zxWOzR7PHF08tT6lnj2ell6ZXmVeF101vXO9Z7mfc5H4JPsM9cn0afj76evnm+B3z/8nP0y/bb7fd8lM0owajtox77m/tz/bf6twcwA9ICtgS0B5oFcgMrAx8FWQTxg3YEPWPZsbJYe1ivgp2DpcGHgz+wfdmz2U0hWEh4SFFIa6hOaGJoWeiDMPOwzLDqsO5wj/CZ4U0RhIjIiFURNznGHB6nitM92mv07NGnIqmR8ZFlkY+i7KOkUQ1j0DGjx6wZcy/aKlocXRcDYjgxa2Lux9rETo39bSxxbOzY8rFP41ziZsWdjafHT47fHf8+IThhRcLdRNtEeWJzkmbShKSqpA/JIcmrk9vHjRw3e9zFFMMUUUp9Kik1KXVHas/40PHrxndM8JhQOOHGRJuJ0yeen2Q4KWfS0cmak7mTD6YR0pLTdqd95sZwK7k96Zz0ivRuHpu3nveSH8Rfy+8U+AtWC55l+Gesznie6Z+5JrNTGCgsEXaJ2KIy0eusiKzNWR+yY7J3ZvfnJOfsy1XLTcs9ItYRZ4tPTTGZMn1Km8RBUihpn+o7dd3UbmmkdIcMkU2U1efpwp/6Frmt/Cf5w/yA/PL83mlJ0w5O154unt4yw37G0hnPCsIKfpmJz+TNbJ5lNmv+rIezWbO3zkHmpM9pnmsxd9Hcjnnh83bNp8zPnv/7AucFqxe8W5i8sGGR8aJ5ix7/FP5TdaFGobTw5mK/xZuX4EtES1qXui3dsPRrEb/oQrFzcUnx52W8ZRd+dvm59Of+5RnLW1d4rti0krhSvPLGqsBVu1Zrry5Y/XjNmDW1a5lri9a+Wzd53fkS95LN6ynr5evbS6NK6zdYbli54XOZsOx6eXD5vgqjiqUVHzbyN17ZFLSpZrPx5uLNn7aIttzaGr61ttK6smQbcVv+tqfbk7af/cX7l6odhjuKd3zZKd7Zvitu16kqr6qq3Ua7V1Sj1fLqzj0T9lzeG7K3vsaxZus+xr7i/WC/fP+LX9N+vXEg8kDzQe+DNYesDlUcph8uqkVqZ9R21wnr2utT6tuOjD7S3ODXcPg3p992Npo1lh/VO7riGOXYomP9xwuO9zRJmrpOZJ543Dy5+e7JcSevnRp7qvV05OlzZ8LOnDzLOnv8nP+5xvO+549c8L5Qd9HzYm2LR8vh3z1+P9zq2Vp7yetS/WWfyw1to9qOXQm8cuJqyNUz1zjXLl6Pvt52I/HGrZsTbrbf4t96fjvn9us7+Xf67s67R7hXdF/rfskDoweVf9j9sa/ds/3ow5CHLY/iH919zHv88onsyeeORU9pT0uemT6reu76vLEzrPPyi/EvOl5KXvZ1Ff6p/WfFK9tXh/4K+qule1x3x2vp6/43y94avN35zv1dc09sz4P3ue/7PhT1GvTu+uj98eyn5E/P+qZ9Jn0u/WL3peFr5Nd7/bn9/RKulDvwK4DBhmZkAPBmJwC0FADo8NxGGa88Cw4Iojy/DiDwn7DyvDggngDUwE7xG89uAmA/bNbzIDdsil/4hCCAurkNNZXIMtxclVxUeBIi9Pb3vzUGgNQAwBdpf3/fxv7+L9thsLcBaJqqPIMqhAjPDFv8Fei6Pn8e+EGU59PvcvyxB4oI3MGP/b8AjPSPwQjE5qgAAAA4ZVhJZk1NACoAAAAIAAGHaQAEAAAAAQAAABoAAAAAAAKgAgAEAAAAAQAABLCgAwAEAAAAAQAAAyAAAAAAr6+39AAAQABJREFUeAHsXQd8FMX337tLv/ReSAi9945SpAuIVBELYkHRv13sXey9/7CioFhQQUBQVAREQXrvBALpvecu1/7fy8Ky2b2dvbtcQsq7zxFmZ968mf3u3u585715o+n05FCOPoQAIUAIEAKEACFACBAChAAhQAgQAs0PAW3zO2U6Y0KAECAECAFCgBAgBAgBQoAQIAQIATsCRAjpPiAECAFCgBAgBAgBQoAQIAQIAUKgmSJAhLCZXng6bUKAECAECAFCgBAgBAgBQoAQIASIENI9QAgQAoQAIUAIEAKEACFACBAChEAzRYAIYTO98HTahAAhQAgQAoQAIUAIEAKEACFACBAhpHuAECAECAFCgBAgBAgBQoAQIAQIgWaKABHCZnrh6bQJAUKAECAECAFCgBAgBAgBQoAQIEJI9wAhQAgQAoQAIUAIEAKEACFACBACzRQBIoTN9MLTaRMChAAhQAgQAoQAIUAIEAKEACFAhJDuAUKAECAECAFCgBAgBAgBQoAQIASaKQJECJvphafTJgQIAUKAECAECAFCgBAgBAgBQoAIId0DhAAhQAgQAoQAIUAIEAKEACFACDRTBIgQNtMLT6dNCBAChAAhQAgQAoQAIUAIEAKEABFCugcIAUKAECAECAFCgBAgBAgBQoAQaKYIECFspheeTpsQIAQIAUKAECAECAFCgBAgBAgBIoR0DxAChAAhQAgQAoQAIUAIEAKEACHQTBEgQthMLzydNiFACBAChAAhQAgQAoQAIUAIEAJECOkeIAQIAUKAECAECAFCgBAgBAgBQqCZIkCEsJleeDptQoAQIAQIAUKAECAECAFCgBAgBIgQ0j1ACBAChAAhQAgQAoQAIUAIEAKEQDNFgAhhM73wdNqEACFACBAChAAhQAgQAoQAIUAIECGke4AQIAQIAUKAECAECAFCgBAgBAiBZooAEcJmeuHptAkBQoAQIAQIAUKAECAECAFCgBAgQkj3ACFACBAChAAhQAgQAoQAIUAIEALNFAEihM30wtNpEwKEACFACBAChAAhQAgQAoQAIUCEkO4BQoAQIAQIAUKAECAECAFCgBAgBJopAkQIm+mFp9MmBAgBQoAQIAQIAUKAECAECAFCgAgh3QOEACFACBAChAAhQAgQAoQAIUAINFMEiBA20wtPp00IEAKEACFACBAChAAhQAgQAoQAEUK6BwgBQoAQIAQIAUKAECAECAFCgBBopggQIWymF55OmxAgBAgBQoAQIAQIAUKAECAECAEihHQPEAKEACFACBAChAAhQAgQAoQAIdBMEfBqpudNp00IEAKEACFACBAChAAhQAg0JwQ0Fpt/rtXLYCuL11l9NM3p1OlcWQgQIWShQ2WEACFACBAChAAhQAgQAoRAE0BAn24OP2D2NtisOq4kmShAE7ikHjsFuhs8BiUpIgQIAUKAECAECAFCgBAgBBoaAhorF7XLGJhu5TtmCiTbYEO7RBe5P0QIL/IFoOYJAUKAECAECAFCgBAgBAiBOkJAa7LFbjH6FdoE/TrjhbSQSYnmjAAFlWnOV5/OnRAgBAgBQoAQIAQIAUKgySJgs9littZggzhVLwMXcsLUZM+ZTsx1BMhC6DpmVIMQIAQIAUKAECAECAFCgBBo8AiEnjD7FziwB0YcNPtnW6tCtNa6pgIazuqrsfhpDCFaiz+5qjbQO6au74IGetrULUKAECAECAFCgBAgBAgBQqAJI+BdYg0/DEugYxoWkGfFtz5PH5ywIkGLeDZWb8ddqs/OUFtiBIgQitGgNCFACBAChAAhQAgQAoQAIdAUEIjaY9LYGhD18iu24ht21FSc7FXY2cdGC9cazF1Gl6LBXArqCCFACBAChAAhQAgQAoQAIeAJBPRpZr/CejUAOtlrjUUTetISv8mgMzjwZXVSCYl5FgEihJ7Fk7QRAoQAIUAIEAKEACFACBACFxMBxJIJO9Kgw8b4FtsSNhq9y4gTXsz7RGibCKEABSUIAUKAECAECAFCgBAgBAiBRo+APtPiU97Qz8LLYIv/2+BV0RDNmA0dO0/3jwihpxElfYQAIUAIEAKEACFACBAChMDFQyAw3XLxGnehZV0VF3HA7EIFEq0bBIgQ1g2upJUQIAQIAUKAECAECAFCgBCofwSsNv+cxkEIgQ2MmX75ZCSs/7ukRotECGvAQQeEACFACBAChAAhQAgQAoRA40XAu9ymMzeg4KKqSAaeJSOhKkh1K0CEsG7xJe2EACFACBAChAAhQAgQAoRAvSHgU9rIDG76DCtHwWXq7f5w1BDtQ+gIFcojBAgBQsBFBCb1HDu8/aC20a1MFtPJ3NRfD6xff+QfF3WQOCFACBACzQ6BWf2n9GnZTem0F29Zti/tsFIp5TtEQGt0mN1wM3UmG7agsPg3Jqtmw0XTrZ4RIXQLNqpECBAChMB5BPy9/T6e/Vqflt3PZ3Cd4tpN7D5qw9F/7/7mCbO10SzkEPpPCUKAECAE6g2BHomdx3cbqdTcbwc3cBwRQiV4HOc3Rl6FiKNECB1fznrJJUJYLzBTI4RAc0IAdKhVZFJkYDj/9dZ55ZUV8N/0oqw9Zw40MY40f+ztYjYoXOrhHQbfcdmcd//8TMihRGNEwFvn3TOxS3xoDO7niMCwcH2YTqMtqiwpxreiNKskZ8/Zg7ml+Y3x1KjPhAAh0CQRqApojJSQfEYv5s1IhPBiot8o2vb18lly83v139XrP7vLaK6q/3YbXYsz+l4xo89Ez3b7v1O73lj3kas6+yX3HNV5yMhOQ+JDYhh1SwxlMJ39cWjTxmNb4V3JkHSvaEi7AXeNuEmp7vojmxduXKJU6kY+zIMz+01Sqjhn8Mz31y+y2hrZcg6l02lW+biNh3UYPKRd//6tegX4+LPPPb0oc1fqgXUHN6w/+g/2g2YLUykhQAgQAnWKgDGs8YUIsfg2RhJbp5exXpU3I0KIl7RGo+Ff1ecSeGvjzY0D7YX8eoW/MTSm1Wi7JnSs/56i3fpvtDG22D2hk8cvEOx4LkGRHJH4zKQHMG52plawX+CkHmPwTS1Ie+bnN0A+nanlvEyIfxADkCNZJ5xX5Yxku5hWjHvVz9sX4KTkpTqjimQaCAKggrcPv+HKXuO8tDonu5QQGofvFT1Ggxl+vXX5sp2ryo0VTtYlMUKAECAEPIuAzUdTFajxKWs8k1M2zrvEZg7wLAykzQUEmgUh5KkgeJ/VbK08U1xxprgys9RUZLBUmjmrTeur8wry9Y0I8E8K1rcO8w7yBX4Cb3QBSxIlBC4GAvBkuxjNnmsTP6t5w2bfNvQ6Hy8fV7vRMrzFohvfWrH715fWvldqKHO1egOR9/P2Y/fE30dFgF2dSusTgRD/YJiXZ/SdCDdR99oFLXxo3B3XD5r+xPKXt6TsdE8J1SIECAFCoJYIlMfpfI43pr0cfIqtlbHOzsHVEhyqLkegKRNCngeCBFakFpUeyTNkllUVVFqrLDAJ2g2D5z8Wg9lUbKxMKynamwVToVeIr1+0PrBtRFDHCK2fHR8Mec/L0v+EQINDID4s9iL26ZkrHoDPam06MLnXuOTIxJu/uL/SZKiNnotV93h2CqNpi9VyIucUQ4CKGg4CiBD74bUvtQiLq32X4kKiP73hjaXblr+89n3cA7VXSBoIAUKAEHAJgeI2upATZu2F0a5LtetdWMN5VTWWvtY7OPXSYJP1ygMbtBrMJYfzTn+2++zSA0W7sgzZ5XY2iPvNarP/dfS1WW2mImPp0fzM1cdSPtpZuCPDUuH5NU71cmWpkeaCQFxw9MU61ftH31ZLNsj3HBE73p31PGLPXKwTqU27hRXFO07vVdLw19F/aSmsEjgNKn9Ex0u+vfV/HmGD/HlhJvHaAVNfnPIoTSk2qAtNnSEEmgkCVl9tacvGZHDDsq5mcmka5mk2TUIIXleyP+f0F3vTfzxkzC3n+HuM54Hs68DTRchoOHNZVfa6lNOL9uRvSYOZkXciZdemUkKgnhFA2EM3fDU90smpvcffMuQaj6iCkkva9ntq4v2e0lbPeh5f/nKZsVzeKAKrPrfqTXk+5TQ0BHAzvzfrBdXIMW50G6sKYUV3oyJVIQQIAUKglggUdPE2NYJVedVGGhhrmiYjqeU1rL/qTQ1+0LaqwkrwwIxVx6ryq9f085ZAVyBFiAh7lAh7RRgMDTl/ppz9ej98SsEzXVFDsoRAnSOQEHpx/EUxdL5v9K2qp1dQXrTrzH6spEorzFQVxqAc+1WoijVAgbOFGRPfnb12//qKqkq+e4ik+v2OlVe8dwM4YQPsMHVJjED3Fp2evuJ+Z+x4BpMR8YG2nNyB7+HM407afmFFBy0Ut0hpQoAQIATqAQGblyanj49N03DHrvb1WzYNb7axNSZzZj1cvfpuolH6aCmBBDYID88zX+03lRjtfqFufbRabWxsrI+PT3GR/cNrqUgrObNkX/So1uH9E9zS2rgrCcNc1dOA1x8jGAP2GDBZGtMSZ9XzvegCjIgyWLnk5IBVfhaqFW8del2EPkxeUcjJLsl9cc27fxz+WzCt92jR+aFx/9crqasgI0lgRP7wuP+bs+heSX6jOMwpzXtg2bPoKhaP4SYnHtgorho6idv4nasXMJ5a/IlsPrHthx2rNxzbUiXaCwcxSHsmdZ3Vb/LYrsMZkWah4eFxd246trW4srSxwEL9JAQIgaaBgDFclzHEN/5vowa8q4F9zkXzON8vq8/5VAPrZzPpTpMihMbs8jNf77dUmuzGPXc/3t7eMdWfsrKy7OzsrKys0tJS0Ev8lLLXnTQVG2JGt3FXd6Osh1AffZ8f52TXsesaIuwpCb/1+ydf/PudUinlu4FAvLKF8LeDG+Yve84NnapV4Kd6w+CrGGKIvD/7s7szi3PEMnvTDt34xX0fXPMivEPF+eI0Nq4Y2m7gpuNbxZmNKy0568bV+WbY2zeuejomOIpx4kUVxQt+eRvmX7mM2WrB8lF8v9m2/LUZTzH0hOtD7x5584LVb8uVUA4hQAgQAnWKgDEMnNAvaldVQ9uFQrJmkAhhnd4GqsqbDiG0WawZPx+1Gs21YYPAy9fHJyQkpHXr1rBXpKenBwYGnjlzJr8gn1db8F+6zWKLGdvGGf8iVfRJoPYIwCbZM7Fr+5jWGHKF6UMx3w9v9PyywsKKIvgrwq1rX9rheojyB2LWOa59h9g2McGRel+9n7dPQVlRblk+DGX/pew+nX+29mfqUAPDQpian+awSu0zx3cb4cvcZOKZlW845EWwrjz604u/3L0kyC9QqRvY/K1RE0Kl86plPm7s3i27dYprjxssyE+v1ehKKkuLK0uOZp88kH7kRM7pWupvntWHtR/E3jwTCM/+/G5VeHek7pvz+b1LbnkPcyVKSE7qMfb13xa6Gko30Fc/oFWvFuHxeL7ZH3EBoZVVlQUVRYXlRXllhbvP7D+Zm6rUoqfyE8Pice91jG0brg8L9AuoMptw76Hd/emH95w9KLgAKDUXGhDSP7lnp/h2scHRet8AyINjZ5XkovOoDi9cpYpu58Pe2y+5Z+f4dtjYJtBPj4cVXLhzS/MPZRzdfnqvM9b7bgkdu7XohKizIX5B2Dam1FCO2FHHsk/uPL0Pu6e63TGhIn7O0I9XBq4p9k0FLJVVhlJjGRo6U5B+MOMoYhfXqTdNq8gkeErjmuKliecJ2iqtLMsvL0TTeGPitSV01e2ETqvrldgFpxkZGIHfhb+Pb3ZJXlZxblZJTnphJhqqoxMEmFh60CW+A5w18KIJ9g/CAAC3XFGF/Wm5O3U/7j23T6rxVsQ+9ekjfINOWxB31LuiFjaT2kNQ/chwOIS2uLx3Ve17QxouINBECCHYYPryI/b4MbW+z719fAID9aGhobhfq6qqzGYzEriBCwsL+Tdf0a5Mn4iAsL5xDm/oC9BSqi4RQCSVKb3G8eM5digIRPvYmrJrw9F/V+1d5/wb6PnJD2NMoHQGcA7kx4jYdvya/lMmdB/FXvwG4XWHNnz57zKP77bHsBCmFqQr9b+W+aM6D2NowPKqf05sVxLAaGzRP9/BWqIkMKz9QAzgVH1WlapflPyf/2+RUrsGc9XMj26Tl17d78pZ/SfL8/mcRf9+h+0Z+fSAVr1vuvTqwW36YoClJH8q78yyHathp2LjhuHRVze/p6QEN8zd3zyhVCrkY6e+xTe9IxxKErjVeddZPv+BMfOGthsgkREfgtvM/XI+TG3iTEl6Uo8xN186S5IpPoSS2796xA1qccdlc8R6JGm4uM9d/KAqG+RrgSc89fNr2LVCokQ4xDh1TJdhP+/5TchhJDCAvqrvJNjSMWpnXHdowNgdP7c1+9f/e1LxRydvyMk7dniHwXAORxBguQY+B2Pr77b9/OWW7x2C3y6m9V0jbhzWfrBSAGEsRvhp15rPN3+jOkZ38vcSFhBy27DZV/YcC5blsM/gBoDrg78W7U8/IhdAP2f1n3LdwGmMYLOoCD8XhxZjuUJJDrp3Zc9xWCzdNjpZUiQ5xL234eiWH3auhq8yP/CQCEgOnXxhwbF5Su/L8c5iv7C2ndr9zbYV8DGRtOLkYY/ELrMHTr+kXf9g5Yk/XPq/j/+3eMuy3WcOOKmWLYa3Bn5fk3tdjgkUtv82npY4u+W715Ybq8NMsPU2oVLE8Cxp5YWv/rQpeg8W79hdSDskhnhpPeyomZ5fUVhWJUYODdjORXe0j9GVBs8WXw/3RNwHSqsi0BQIIR6XhpzyshOeCd7gA59Rbx+DwVBSUgISWFFRgXs3KCiosvqDmxqhZXL+SPFvEeQXG6h0W6viTgJuI4DZX2wbfdvQ66OCIpxRgin2UZ2G4HvH8Bv+t3ExxtnOGAwxIMBoRkk/H9gT46Q3Zz4by/Q34zXg9d82es7V/Sa/9cfHGAA584JXalqSHx+iuCt9HVkI7aYq5XWA6N6KPeeYjKSrwuGqvb9j72+l3w7o/aVt+/95ZLMg3/ATjFtFaf0tjC2MWqH+IThrDGvenPnMGCb95sHBfD9ctWcNmPzE8le2n96jhBgUMhpVqiXJx8I5hhIJI/3y3++n95kADilRIj68duA0iIlzxGncD/PH3s6wvEH4rqWPOyQkYj3yNG4zxqQP5D//51tYX+UVlXIw67QzdV+flt2VBDBzpEoIYTJC8F48KzDZpKRHnA8/VRAMfGFte/fPTzH5JS5VSjOuoHDHLpj80LTeE5Q08Pl4+t0z6pYZ/a6479unJBQLhPbJifey2SwuLtjXlF6Xv7T2PTwYGW0583vBY3bp3A/xwGfoQX+Gth+I79f//fTK2vfFMxGouHTuB7AKMqqjCPfMGzOentZ7/KM/vQSrI1tYKAVdAVO9+dKrVVer8lUgNrrzUHzh5PLEilfwV1DlMOHMCys6KPLTG15XPUHoh9kcX9xLaDqjKMthiw4zW0e2vHf0XLxtHZaKM3Hpx3YZji/iMH+7/WdxkRtpPCQfGX+XM+9iKMfT8rHxd9854iascl/p3ASNG11qyFUMUTqNBoTQzr6evraXr7fiVKN7Z1Flstz70X/ZRQZx9fNU7/z/4rLzaYtTz7zz0vS/pxFoClFGMbIs3J4BT87amwcBr1anMxqNx44dO3z4MP6mpJw8feoUFhOCIp4DH+1YrNm/nsSuhh4c2Xv6yjZNfRjHrL578RMT7nWSDYpRgDFtwZUPLb/js6RwD0QGwvvs9RlPOfkG4ruBoR46gEV0HtwogmUhrBuXURgNGPOvGGD9eViFy2GFIfyFxJdGkh7R6VJJTvM8nDvkWmfYoAAOXPsw4MN+ekLORU/AIPzc6rfY3cBMDSwnSjKwULHZ4I+7fnFv+gCalRpFPmxWH21cwhBwWLRm/58O8/lMuLExSlF0edfL1t33LVZiO8kGxdowP/X5nLcQIAePJnG+e+mBrXurskFBM6alltz8ntj5tnN8+8cn3M1mg0J12E5h4Kr9HjbYt4bNBoUWkcAWke9f86K4h89PedgZssQrGdym3+Kb32WsGhW3BXPcyru+nDfseifZoKTud7d9NLmXs8v4xXUl6RenPuL8CaIu7oGvbnkfbrcSPUqHmO/46Y5PnWGDYg2IVs3+gYuF5WnMT706/cm3r37OpXcx9MB6+fLUx9646hlokKtt2jkW/YWRv8fZIKDz8dY9PquHn+s800JBZS7qnXfhtrio3XC/cVCyqiJDyaFcbBHhvhZRTavFkpmZefDgQRDC48ePnzlzNr+gAGxQwv0MmaVlR/OVrBwifZT0GAJ403wz90OMemujEW9EvF/xOq+NEtR95PI7GWSMoRyE6pPZr3lk0MYvPnHYFnxTsWrCYVEtMzvGtWVoOJlzWrAwMMSwTIVRipUtjNJmUoRBJNuh0SEOGHG+NfNZl4Z9DvV4MBPOdWsP/MVQCEdWWJkcCuAnphq+6KU1ik6wDnXymRgOYl0cQ+D77SvdsDrCy47hgADeCyuNUqPwo8bwtJZPBtiU8JBMCI1TasWZfHhOPjnxPmckBRlMcr0363m4DyAHF/Ttmc+5Sn7uH33bqE5DBYWuJib1HNs3uYdLtWAnvGfkuRsPhkqXJl/QEJgSZvdU6QSI+hc3vl2b1xaawExibcBBb+EK68ZbDyzro9mvOjM9cfvwG16b/qQbc524Wx4df7dLF04QBp9/75oXJnYfJeS4msAUDH504nkBVzU0ankvXV1RgIQI/QPTumIDN+fxseoUXUmdV0KStUGgru6G2vTJpbqgZKWHc20mq0fMg2i6vKLi6NGjp06dKqjmgVar1UF/qh1HEXSUjIQOwKmbLKwj8tTkN3jUR9e/UhtDCtYuTu8z0e0TRcCDN696xu3qQkUGIxX7i8Kghwl70OlrBkzBqOveUXNnD5qBjdG6JnR0Y0ajTVSy0AF54kCGUy52CEchryvkwKXHjY4J1ZtAAg5mr0x7XGnlFfsEMRB/ccojbJl6LoVXGDuSB35NCMgk7xWWIAIKeT6fY7VZH/nxRWcmIOQaBrTuzTB0Y/oPjs3yWqo5CGQFr1GGmMPThPxzVz44b9hsRkXni+BG8f28j2rDCW+85Gr8Bp1vkZfEyB5ueEi/MOVhxho8htpnr5zvHh9G4JAHx97O0KxUNHvQdDxF8SR0rzqeq8BKSTnyq432bwAZhowzRWAsz105X2lhpKoGXM35Y+epijkUgEPNXSNudlgkZN54yUysAhAOXU2AleGd6GotyGNpMd7FblQUV8Ecytwh14hzmkPa4uUZCwoDq95tI+ZP7RIb5qzDgsWboYyK6gMBr/popC7bgPdmxelqSwhmIjxxh2PpoJP9tVSaiw/khPaKdVKexNxGACajZybN9yBJwPv15WmPz/jfre6FjKv90A2T0xgEI2aA25igImMBIULV8QI3D5l1edcRCPTnsCFsjPbfqV3YYA2hCxwKyDPZ4RBO552VV5HnYFm/PFPIwYR0QmisM3vZC1WaWOK6QdN4Y4t754UBLkLR4Mq6V93jtRCrE4uRFl73ipJmcLNHL79LsgUltqzESFGpCvI/3/wtm30x6g5q05dReiDjKBybGQKMonu+fUqv7LSJYJXyuti5vjYTTHKFMEW+O2vBrE/uEO+aKBdzmAMjz23DrndYpJqJ9aJWm8VtWxa6DQ2Lt/yg2pBE4LqBU513FhXXxcnCtRVBql21ZwpKZg+e8cW/3yMGjJAjTrww5RH3KK5YCZ/GMxxWuJfXvi8vUs2BP4u/t5+qmJLAzH6TPtzwhVIIlt5J3e4bfZtSXSfzERHUSUlBDFMe/3fZHOFQnoCFHz9kxONtHdWyTVRLuYCQA2B/P7SpHgL2Ci1e9ERViNY/HxNf5wbNqTllP29J3ZtSWFRelRilH9QpavolrXQ6p+x7RpNlxZbUncfyU7JKA/x0vdpEXDWkVUKkfSnvgI7R+CJxOrt09bazG/dlMTYIt3k71dxFh64Jd6BxE0LczVaTFS6jCL/g9k70bl5d/I40XOmh3LDeceiGB7mKm/1putXwpn9n1gK21wreVVi9s/HYFn63A7wqYAAc1/UyRi2ofe+a56/66DY3HMPEphs4Z67e98fWlJ0ZRdmIqAEfmwGteyHEvOoqR7yksVc1NjR3+9KxLYQY5Xx/20dsHx5MOcNRCt+9Zw++sW4houezOwNHO/Z6DyfjlasGY4AdsjkTQjEbRFAHBF1ALD7Ey8VsPUY2M/pOUh0/TeszoeEQQtxUuNUx/cGgPViBhql6DMuEO/CRy+8S0vLEkawT763/TJ7vZA6itjIkDzAt2IyKKAL7xZctIy7FwsLH1VzmMoqzV+5Zhw0P8bjAirvWkUmXdxuBoDhiPZI0XI6fmngfeLgkX/UQDoq8GyQMsAiBA4/f7NI8PNbax7S5YfAM9s8fE21wTRSaQLDK73asPJV7JtA3AG7M4L3s4JaoeEWPMW4QQoENwjMC1XH58H4GDRjefhDeAkJ/HCYu63BhzS12p0CoXoQhxb4ayRGJmJKAVwWbK+KninsJrx65clwjthcrQsV8v2MlwtjiHZQcmYgIK+wFeBO7j3711w9xXeRtsXPEzxM86pftXH0sOwVVcCPhilzVbxKbLoLTYlbR4fQlkEfgK1W/WTQKv3H8ZvPLClClQ2zbUZ2HsG9g9hmhFLFkGZcG297e/93Twu5Hg1r3eWnaY0oO29ADS68bPxbVTjZYAYudfZ0jhPtSCl79Yf8dEzveNKZ9gK9uT0rhT/+c7tgipEdr9bh9iB/z4KfbO7QIua/aGJhVWPnrjrSf/k29a1Jn8bknxwTdeUXnif0Sn/5qd5kB8WwcfGxaB5mUVZ8ING5CCBpmNVks5VWeWkDoKvQVaSWmEqN3sK+rFUneeQTgjsJegIGBLzzHxFQEL9o/Dm9CTIjXZjwJa4lSWxijIJofYogrCajmr9y7DkuYxOO/EzmnYG3734bFiPqIOHsMDXjLXjtw6lu/f8yQYRcxNiEEO31p6mNsNihWjkDhi258+/V1CxnxHiEfozaPm1taIFarlIYDIXsahXFqSjqbZP66Qxsf++klwSvyaNZJODJi/5L7x9yGqBiMU2bEumTUqtMiGDcGtenDcGV8cOwdCLXPG1vgIs4IAQrD18M/vuD8LjKS88KQlB1Z6mDGMUmVujt8+PI72b/TJVt/eHPdR+LwrRheI2g+NqWAm4N4rC/pJEKPIrw+O4CTpIpwiOhQdy59DDSez8G2eNgkYNmOla/NeGpIuwGCGCPx0aYl7/zxqSCAySbwEKyTRKgkIVOeAD8B41UyRsnlxTnYeOPub54UfiyIEIsYknhEY62BeApPXEWcBuu+adF9vG8F8kGZ8OsDC/po9msMXwxI9mvV0yEhRCRSsX5Jeul/y19e+54Q5hSX6Zd9f4ATYjWB0vwywpLhd80IIyxpQn745u8fffr3UiHfDtHedUu2/PDi1EfFMYEEASHRt2V3h4QQhFmJZfF14USNbWnxOhZUIQG2BiYM0+IbVz3tZGAecXU+zaD6eLk88P2zAhuE/JaUncj58qZ3lBzFERHn1V8/wIyAvKEmmQMLIZdl5e11CZEBr93cNy7iXHheuHri6+RZYxXivAkdOyeF8vJx4QE3jmmvVDc5Nui6EW0WrnEcUg52FaWKlF8/CDR6Sm4urbIYLfUDlrQVrCQ0W+1b1Z83u0sF6LjWCGBwgKj0DDW7zuy/bcnDYjYoCMMd9OYvH8BQRsiRJ7DDG3s0Jq8i5OCN/siPL4jZoFCEQQneguJXr1AkTlzV9wrGEimxpMM0w0KIveNVJ+MlOjG7//C4/2MHk1B1f8KOcBK1Dg8xlIe9y2ERn6naEKNukynCRgIPLntOGOAK54XNzV/45R32uBAmRAwfhSoNIYETQaR+xtMSC8/mDL4KXYVhH7EHGX1++49P2b9rRl0UqSKDaR22Bk+VYpyNL0MbNu3ElJOYDQrCMGTduvhBNneaN3y2IO9SYuGGxQIbFCpiuPzoTy86E60K3EzMBnkNCLfz9h+fsPedw3g9Uh8utOh8AsRj/rIF8h8L9gL59O+vndHz0LIFAhsU5OFG+PTPrwmHDhMOGRFMqQNb93Eoj0z4zL/ya41NL3hJBCVib9ujtAZVqSFxPu4lh68kMOH7vnvaoTOzUL2Lo3lV/E6xHF2QkSdwUeYsukfCBgUxvLtnLLxVdQtKQV6SaBmhGP40ozhLvlsG3MsZEbDxInZvHaOkV43l0Bxwjn1ZrLaIYD+BDbraf4SNEdigM3UHd3awURaYYL9+MVMuazkuxFki6kxbJOMqAo3bQoixhTEbm9F7ZsMJV7Gzy9u4oj1ZUcNaanyaXeRid+ByvQ7MIHBTVKqHcRJGzIx1MvDnhCXhh9s/UZoXxGt7Rp+J2JNKqQmlfMwf442uVMrnYzoW+0ozZl6xP9vYrpe5vRUSw4zGXiLF6DZ2S4djz7IdqxzKqPK0KlOVw4ryTFw7x1tHV4uqNiRX2MRy4Bj25IpXGEaw5395h7G9ONDAiiwMyBoULHB6xCbm2FZBqVdYvQbb18x+VzLsBmDCUKKkwZn8MDWqjLW1zuipvQybsIH0wpGb0QpcId7581NsqqYkM6LDJXAd5/0DlWTk+SCZSgjjjvpq6093jrhRXkuc8/76ReJDIY1X9vt/LfrshjeEHHkiwNfZKBTiurCFKjHVjzZ9BYdAxvIB6AGDBT8RKxTSIN4gsXAfFXIkCb2jDiO0j9JLB9Wrlx06dpz78/Df2JhR0oRw6EawH74uzGVv/6HojQI2+OFfXzw+4R6hIUkCDxNJDg5hgmbPrTy54lU4xMorCjlwFZn//bPY3ELIcTIBwzjD6hsZGAEvUPnCTph84Zeu1ETPpC7ubWCjpLDB5seUWaadNXbzsptStr+6zpl++ofre9x6KS+5e+EmY1GlM7V4Gf9IfcLA1pFd43Go9/NqERmQllchVMfwfcH1vTsn2QMU45OYdeaTXHsEBPrUPwKN3kIIj02HqPn6+ur1evx1WMrIhLdGXFxcz549O3XqFBLi4CFYoy6WLhrMxrwKxrR3DXk6cBEBLF1g1Ph22wqxW4hDSdCbX5lR77HSw2FFdiZGPIzBulAXo3b2vTGgVS9B2NUEIq+4WsUZeaxoUtq3IEAtMkGVxVlCyKDx6CQsw850tQnLYDKbHeQAbIE9qd8wMYRxj3FemAjAfuiw2ytdWRiWH/3xRfZvSqmukO9wdCuUIoGJJPFhHaUxH8QwIqFRYKW6YAzPQFh4lHqI19k45iPUYcX1R/5hGB63pOxwWEvIPFuYAeO2cChJ7D6zn/3kZITkkagSH67aqziuxaMGjYqF5Wks0ZRnCjnbTu8W0vKEw9krdpzVfWmH5Hr4HHj7KxUhnzE9yqiFos83f8OG/b9TrHN0+DBhkCu0CB/jv47+w+4VSsHD5bZo1VpsAZj7ZvW/Ui4Dp9yuT1+m9H2zFss35G012Bywwcf/Lu9W5IJjnYazWavMBYez+K/N5EJd4FCZV35i9f6SM+eWk3RKrDGuHtUzXmCDEJ4ZWSejmgZ7ORpUxxq3hRBQmkuN2LtEvoYwICAgKSkJnBB7yqekpDg5gMDrE5JZWVne3t4jR45MSEj4/vvvsT09+5oZc8r94xnWDnZtKlVEAOM2TG8rFnMc27tGqIjQCOO7jRQOJYnuLTrjjS73NZKIiQ/zyws3OPGqQxX4nsGgwTASsjdDEzcqSSMMgFLsUIkkIhZkleSYzCasAHRmPAEfWkRvgxORRA8OVSfvq8yOo+3JVTn0ghPEHI6xhNLmkFh7YL3qaWL3jqHtBiqJ6X0aIqmuXv73/Le3LlQKRMGOI48ZFgb/UYJCks82a0C4zHhhAltS14OHmAxiGJHA9jcdP7eEj9EoFqGt3f/nzZdeoyQzqHXvd/9UKnScz/ZG3p92GDSV0fNtKSxqgccRnooMh/YA1yeDEGtH7u0pPjcsWmM7TbDpEE5ZrE2SdvhDw/I8rBqQSAqHDLtZZZVBEJMnfL1dnuOGEoxq4Iwq1ybOOZlr30JW6cELioU1BeI9NvGa6JWoaDWFZthsxfoZ6aXbliPsNkNAXoS1CegMuiQv4nMQkirAJwABAiRB41RnWJQUNpn8PhkmbytX6q3ZY9FozdyVA5P8mA5uxafyS9MKjWXGYz/v5UHQVEcfDW4RFpzshHe31ZaxPRXBPkrTioKT7PIdEkN/350p4Dm6V4KQRiLCy8dbozHROiwxKPWVbtyEEPzNXGGSs0GgV1hYWFVV1apVq379+rVs2XLz5s04VEIVhsTWrVuD/oFGmkymsrLSs2fTli79ukOHjhMmTEAOtiV0XNdmjzVqyCzjejoup9zaIDCwdW9cYiUNGBcixoZSqTh/y8kdWHalFEgNA1PEgnNpknL7qT1CMABxQw7TiEHKIITY3RjeL2CYDusyMhn+okItBHZb9M+3GJoIOQjUAe8pxnJ8XhJTv60jW6bkpQoV+QRjFMgLOO+9zZZUbUjSsSZ2iLEOHNVUT6qoooQhozS2Y1Spn6JDGccQ8IkdMt5hTxCD1G3/arFCVWTwTFB8W4gV1S49sE0fhgI8kcTjb4YkjMkMQoioWgiiw16yK1F+Op+1eQwefSAtDk1GvB72pjKQKTGUSloUHzI0i8XEadXdbtg+wOAMDlehC00g6KiQliccdhjevPjKhVVz8KpiyLAdX5UqoifsjUBREaQRa0QZPw0UiS3nYIOM5fe432AhVOqPJB+r+9jsTiLP9xYnxYgYBxlEMLp+0HSEzMFDo/azSPI+NNIcfzOGrVypL/eHn3dglvX6PknRIf6Mc8Fu2yCEcoHgpLAWl7aV58tz8g5lGYoqrKZzPtI9W1+gkViC2CpWuibIQmxQDmK95DRuQgiIbFU1jNc6na5Dhw4tWrTAhvJnzpw5ceIEzH0TJ07s2LHjvn37HEIaFhY2ffq0tm3b+fj4oDpUms2WKqNx46ZNv//+e1BQ0OhRo7748ktFPqnRGHNZ4TEcNkqZziAA2x1DzPnXLUYwJ3NOM14ePRO7uEQIxRSL0UO+iOE9xQvEhca4RQhj2U0jFgXiE0pk9qcfuf/7ZxAT7/nJDzOmV8HHpvYZ//pv/5NUV7Wj+ui8JVWUDn10ihuOo0p5VX2YaJT6dtHz04oyxWMvpf7A6qtUhHyH41SGfH0WLdy4eHiHQdhxwflGMaJ9euXrzsszJNnje1QEg1K91Rn6nSzqofJ8U/FMEVrBEkGM5pXmzvAz75rQYWvKLkFeNcGeaEB1gMO4u9iezHx1Rh8cGtwY8igqUtvng301VUNhlVexVkwxoFDqNmYcksJbtI5KahmRGOwfCK6FL/TgwcsOM8YuVWruUKZT95KKG39NQsj2bUHQVCenM9Bn+CdjEkFpnYLSSWF6iPFO52vByQi0EF842G88thUvPnio4seipLNZ5fOBRk0mq3DWp7JKN57RxPkZx3aPEDLtCY1GdQ1hmcH08/ZsXVDkxI66QD/WMCAs0Dcu3D+zwP6bigj0QZxScVtnqiovdEhcQOm6R6DRE0Kr+cLNo9Vqp02bNmDAALA4UDtY9tLT0xcuXPjbb7+1bdsW7qPl5VLmFhUVdc8998C5NCws1MfH18vLCw8Ls9lsNBqjY2ICAwOXL/+prKwsJibm7FmFSVObraqg0ma1abAXIn08ikC4/tw6Y4dawfEc5jvMhIsO4+Wh6kIm0YlFMpIcxmFKbipetIzJ1FD/YEZ1pSK2hRC7R8jZoKAKPrSIUHrXiJuEHHnC4eJG9rgKShinKWmCPbJRbUiirYkdqlo8+PNlr9h0Y5xabzBisIgIvT/c/in7NhD3B7uEKUUNEYs5k1aNtRPkp6/NBqHO9AEy7MfOiRypfV5JLX4smcXZjJjD7AepXK0qzpivieJqDhlFWlQJYbmRxa8Ym8uJGqmRLCwvrnEsO2AsiYRskVr1Cg91GDFCse0h9sjtGNdOyWVa1vcaGb5e7riMqtps+TbYDv+S5wl7o90jmSdq9FvtAFOibblWalI1yuGSOnvwDMa2K2JpxPjB95Yh12BeCd6z2F1TKYaQuFbTThsi7EzMKBpCP7VkV0xym7bXXX0qdW2r2JrLoKqHt8Zyg6/ezyEsG/Zm/rTxxEuf3f/V5+/Ou0xltrpzy9BzhDBEej8fqJCO0h02R5l1gUCjJ4Q2y4XJnu7du48fPz4+Ph7BYLAIEDOmlZWV8AJ9+umnkZCb+OApeuutc4cMGRIdHQ3uV20etDtOwLoI4eLiYug5cuTI/v37YUVURN/GmctN9t0IQ3yV5mgV61IBE4EwfY3FxxJZ1WlssXxRJWvEwB6ZifXwaZeWGGHRAkZIjKiJoQHuEULFZy48f/634Ut5t8U5n2z6CpteMHqFRT5yTzNVnubjxZoaFHeATR3ZAzixniaZTi/Mcua82AM4L22DfrwjtAw2IcBOJ86c6bfbf3bJhs/WqcpYgv1rDobY6twtZce2YT+yJG3iYcgkhK5tQOJwKx1xi2yCpApvhaft/6pYsR9cqh2upcMCBgbw0r9j+Jw2US3FMLqRZoTWZGhz8nkiD8sp1umlq/E8Yd+9rvq8uPQ253sFr9RnV77x9tXPubS+AHHFEbocX8z4fLvt58VblrHvDTECTSxtDLUTQkNNJ7tTR499/b9PHhrfQjhZc5Xd1dPLzwvrAM0mky/n5+XrhViO5poVeflHb543pKf6Td4lKezP6mWEcm/V3WqzM0LHKOFxBGr8wj2uvZ4VwjUUKwZBCP38/GAtBMEDu+vRowfYHTihvDMjRlx2yy1zsXQQkjyXAxWEGOrydsLY2NgbZs+e/+CD+fn58uoXcqw2U0ElCOGFHEp5AoHwANY4xqWXdJmB5YIYxmxIfirlzD305PJw/2NQL38flge/XBufg4BpWHrhsDS3NF91g1240cJOeOvQ6xxqQCbesm2ik7EFtlhA9d2JwIlieaU0lMMIo1SKfNWGGHWbQJGT9zY7bGDDxwGjMaxWxf7U7K4iXshrv37IlnGpVJUAtIlKZm+X51JzDoXhIujBORH2EkGXJrywhk31vmL/PEsrVWK0sqs7hIudWcsWVZ+Wtekw/KJfmvpY2+hk9inUaamTz5MqC8sFXdJDNiEsM7hm52HHGJM0LRz+cfjvp39+/elJD7hhbsXukXAlvXbgVLBK6BF0NvmEudqXzdfM2bw1Jn/OYLTzPf7z3PW9v9t0qmtLvdg8aMiz/5x9gv0MFecM+94B9uUeFbk1FtYO7xGXU2ysqDTNGZV0Tt35/yzVlFIjcg3t0vLc0K5VjHTq7Z9S1tz9eZX0f50g0OgJoeCoGRwcfNVVV2EBIegcnDzBCcHxkPb393/ooYdWrly5a9cu0DwBRQjMm3c74s0gB/n4wIqIBYcwG4IiIhM2RhDCa6699pc1azZs2AABoa40oYGRsB5iEEibbfLHbIsr64rIoPFsCBPnI8rIOuIgo5gZGsRBheosLBxydXsxiaqj2SoheeSv/PwyB4vLxWqjgxQdycRiGKGyp3VVGxJra3rpSuaaJeF82Xe1IOZkgv1zc1KJS2JBvnpntk6Bpdrfx48dbMOldvPLCvATZgwiO8e353a6pNJlYXW0lV848sbYd4J6WyKNzjxX2aEa2aVoysp4mYp64nxSVSG7S/AKYrflDCYONUzqMebZKx903i/aoZLaZ7Ijl17Q78p1Yce4dvUVyX4dXOihLPXjrl8Q/OzV6U8khMbJCtUz4HH67qznP970FbwV1KWbhESO3m4YjDDYOuaaCkK0lVUXbn7wwEeu6i4+y5LUghJ7RBlNSMuIyjKDn95u9ghOjig6lY8iQ365X8S5iV2sG7xpTDtxXT5deCLHVGEfHmM3QqE0MtgvIsg3v9TYumZ8/p3lJZkmxzvJCXUpUXcINHpCiCCf+ID49e/fv3PnznjzPfHEE2+++SZW/b388sszZsxAETjemDFjdu6s8YYPDQ1FFTzoUcVisaxYseLOO+/Mzc2FiymEP/nkE7iJogic8L777kOQUqxIZFwGVx6kDDVUVAOBwoqiGsc1DyRLGmoWSo8wppRmiY5VgwqIZO1JV1e5BPlJ42iJFbraurhubdKp+Wns6nLDAhZgIF5fiLJDXVRQJFsnXxodrCKGwPTO6GmqMu7Nl9cSDW/n3H0lnmO1afSpK+5nWM4FzbgPn7vyoTuXPibk1DIBeA+mH+mR2EVJT+e49kpFqvkTuo8K9pNOewu1Vu/7nQ8XBKdoGOIYHoCqW7wIOpFgP98Ky1kPUrEeSnsQAdwJL0973IMK3VZVF88Ttk72DSk/kUDX9xoRlMCYP/6d67HxIGKKukcL4SkDN+lF/3wn6GzCif3RXkYd52vh7txeedhfazmUnlboOFq12WDO3n0GbNAn0DesfXRBDpihnRBGdYtP33zSYrIcWLw1qnuCzleBR9i4ipzSguM5qII9ssLbxYhR7dEmPDWrrHOLGl5gn+aki2UoXc8IKFzIeu5FLZrTeiMuqP0TGRkJz89Fixa9/vrrsAq2b98ehkHwvZkzZ4LvYXkhLyb8BWNE7BkcQubvv/+GGOgfVhKi1sGDBydPnrxu3TowSQj07ds3PDw8JyeHMU2o82/0SArINJwEO1QAg5bITwGR3OSZQo6rAyZndvMTlCPBXpKkGsJBrMqD6fTCTLY2hyHOsV0Vw8evZYTduq76aRnOEsPssipZVW2iUQtclAkmJ8dwtRm6iS/K5V0vY+wOKpZEGnE4pvS6fPnutZJ8tw+3pOxiEMIu8e2x1kg1Ur+8dTiCvjD5YSVfULxBVu79TaiFHz4jMoeLzzdFCormVIPoCF2ihKcQaBnR4tlJ89na4Im68eiWnWf2IfCYYMQLCQheeN0r7IqulrINyK5q4+XZC03Z6//lLbLnTOXykhysfly85Qd8EToOyzXHdRnOWFIrqcsf3jvq1vWH/0ktUJkkdVi3cWWW+WqXdvO7YU+lzqbpWmHlTuaknbRzNqWPt79Px6t6iy0i3gG+yaM7nlxzwGw0Z25PVaoo5PvofdpP7SF2GUXR/03shNE32KYgdqKyfGsZTV0JeFyEhN123Kg/2uotNcHlsGkEbtnnn38eKwYjIiJgG7z66qth3KusrMDKQPh/4jTxt23bNnArBRW0Wm18TFHU/eqrr1AKsdLS0r/++mvEiBFnUlNXr16N9zc+cEZFdBkkGEB5hziOvMSoQkWqCLBNZ60ipa7qDIXYVY9R6uqASe5LyVCeFJ6gtAUiX+tiuUeqrpzMKy2Qnxc7uGtn5zYS6JLQUa5ZyEGMTVc9joS6lGAgYLZeWC4iF3OSELJdxeRqHeaACD11xQMOi5QyHxt/d3xIjTlmJUln8rem1HAYkVTBVg0w70gynTkc1mGQEhtEdSyGFEdLYj92WjEfWeLOoEU2MgUUp0GMV72kHxgzD7MDSk1hOAF71LDXpj6w7Nml/y3HpiB70w7x34PpR5VqNah8dhiY9jGtXeptbEiUS/JKwtgRCrsljXpz5vSFc9/981OEEnVy9wvY6u+4bI6S2iaWvy3B541B+pRQe5QNpVND5JjgxLCorvFd5wwMiA6Gv6hYMqp7i643DIzqEge6KM6vmbbpY4JaDG7dY+6l0FCzyH4kighpP3wzS51b2uXoU2cING67Fu5mrbcWe6QgATaID+x4wCo1NXXHjh1dunSpqKjYvXtPnz59+GgxYICxsXHYagK7UJw8cUL4MWCLQniWwpCIuiCEsBNarNa1a9dOnz4dFWF4BCFkXALMfHgHU4hRBkJuFmEDa0bNjrFtGaXiInD+djGtxDmSNDZNkuSwDxGBc+XedWwZoZSx3QVksIOFaogLQZWQ6Jfck7GvN3YE/mzzN4KwUgJz2EpFfH52aZ5cgL1wERcFb1bVoBTdEzA7qPg53rz9RRVxqXUBOzYGVjphWZ0qFW8XzfopOdnHF6c86pIFDGrhIv7StMdu+PweJ5tgi8HNDNuRO7SB8xWn9roce7ewlchLx3W5TJ4p5EgeaNgdDvsQCKWSREflIokkApYw9hTFa+6wc9vQSdTSodsIwLw8vMNgRvVXfv0AEZUcCuBt5TC/oWWy92Vhv/Uk54IJVvdcPSV6xIf4reG7cOMS2B7Hdhk+55Kr2JPCqHtZx8HOPADFrTTedEq412uX2Mf/c/Mi7rhMxUO+Or6odDIxMC408IoaDp+uo3HBQri5pHBLGYWTcR1Cj9Zo/BZCv3OctrCwEMwNdkLgA2q3atVKPFhB84qKinTVf5GPsDFYDfjL6lUbN2wor6gwGDDnYZ8gAW8UyCESiECTmZl5/PhxAWqhVMi5kNBwGi8tvhdyKOUhBNibKYPPtAxXoTR8R/okdWNYPxBvYNup3S51uW9yD+flEUeRIfyfKxtGC3oQNa5/q15KXyc98ZIjEwWFDhM5JbnyfOztK88UckAqLmnbXzh0mICJqWdSV4dFfObGo/8ySqnIbQTwHGNzQmesf91asMi8M32b1X/KJW37OSMpkcE8yOxBMySZ7h3CxwzL+Rh1sWvZ9D4TGQLyIlDWIe0GyPOFHMnEE9tKOaT9QKEiOzGs/SCGwJGsE25MOTEUUpEqAqM6DWGELMKGK0psEJrd24VItUseF5AEoJboR7AW59+SfVq68D6VNKR6iCW7P+xcPfHd2fd99zT76YdBAqZ6VRU2MYE8bynTk59gldEoz6x9jtBwZpXx2XSVEHe1b440qCLQ6GmMDoSweufAAwcOgAfCGMhPsGVmZv3+++/YXx4s0cvbZ9t/OzDtFqXnBrfihrYxtwyuLCosSj2dis0pgBFopGRaDoe8wRBDKCSwJyELSitc9BUt76yKVMZEILsk93T+WYaIk25dE7qPZig5nHkcgVIYAvIiRBJ30iUGc59Y/iTXIOT85yIX5SueyDnN8ITBWw1T1EITSokxnYcpFSE/ozg7s9jB0oK0wkwMMRkVEViPUYqiy7uOYIyWYF38iwghG8FalLKHRL2YRB3Nwvw7ouOltWifwzzO/LHzlDRgdubJFa8yYkLeN/rW2m/mxrf+yaavGT8iyDww5jZ5XCWlniP/rhE3MUyOOKlfD/wlrr7lJMttNTY4yskhNXsCiD2tJu4PpT2FQCJzjTR7/tGlpRCe6rAbelT3Zbmq7yQn1U7vM8FJSV4MkzVQrvRFqUNt2I/+1sUPsj0gGGt6HepsApmZwXbPOPbHUFEnhPC/0uKXM1IeO3v86uN788wmdh+otB4QaPSEUHveQpienp6SkvLYY4/BL5QHbvXqVbAB2gr3H/1p/JOTlmau5Q7+wP2ykFvxP+7vr60Hvy0NPj019a9bLRXZEZHREkIIT9FOnc4tc4L9EB+JwIVrAzIIB1Oj+o/qQhVKOY3A74c2MWRnD56h6ngGX5SpvS9nKGE3oVRx3rDZSkXi/AfH3sEISVplrtpycodY3sk0Kp7KY1HlGX2vYKuCiYY9+pcMXsXa1h3cKD6UpGERZbBlLKe8ecgsSRXxIcwmfBhGcSalPYUAe0eywW1UDHeTe12u+otjdBWeja9Me4KxpPanXWsQR54RPAYmaGhgTCgwWpcUwVt7zf71kkzxITbV/Pj61xjOBWJh2Aax27U4R5KGIzcmWcSZCFrDNrPcPeJmsbzDNCbF2Az5j8OsR6hDnZRZSwRiQ6IZGtjTEKM6sTxKGGrruQh3r8p0bbeRPVp0Vu0VZlcvbafiVCJREhcc/cykB5S+942aK5EXDrGkkP2Lc3IfXUFhE0ikY0dC5geDYWPdEMIsk/G7/Oy1RXklVho/M69BfRU2ekJotxBWf2DK27Jly/Dhw8eNGwdPUdgDEW7mmkGauMKHw3zW6SxlURFcRAQXHIbgMdy+LVzKPi4s+HRS6Kclf7fqGpOhtfHbddp1gQh4kO0AAEAASURBVPvp9fqbbrqZX0CYl5cHv1O+FYd/bRZbVZGB5VbqsBplOoHA4n+XMcJbI9rn08zQFBg4Lpj8EIOSgXtgTb8THZGKIJTZ1N7jpbk1jzFWm9xrXM28GkfLd//KDixRQ7rmwb8nt9fMqHEEvmrfS03hA1dbLOJSKDyXzSCEaw+sZ9hwMOjH1ltKppL5Y29nB8D4Zd8f7I7VsjQ5IvHKnmNr+WWEi6hl9+q6eoWxktHElF7jGOwC0+fYyplRXbUI4d27K3uc4sf41u8fQ8k7f3zKsGTixp433KnpGNX+fLxpCXt0jrY+ueF11YiFl3W45K2ZzzIW8qEn3277Wd6fjzd9Lc8UcmAhvGbAFOFQnoAV8aGxd8jzhZztp/eoWnIEYUp4CgH2KkDGkxlrsMd3G8Hohtv79TF0ul304841jLoYR2HXDXYANvvC4KmPuXpS+9MPM9rF1AzjFcOOX32xArwxTqeui3LNVSpNWGy6ulkSVUBWQRXo67v4HJuq72Y91B6eOLoA7+plgHaN69evnzt37gcfvL97105jceb9E2zTJtjycrhffrCOuZLTgPzCr1MTHBBsTGpt3LeTO7bP2m8oFxZpWHDbwfE9uE9WcGt3cBUmr/YdO3zy0YeDBg3EIkTQvB9//BEWQhbf03DGnHL/BFbgbw+dcbNTk19euGzHqusGTlM6cxAzBO57/pe35bwRLxvQnoGteyvVRf7X//1UZixnCDCKEFUctEeJT2Kh1GPj72JUx0j0cydCvyhpgC2FsZ4Krn2f3fDGG+s+wvIJiQa4dD407v/YvnBwakK4NklF4RDv1OW71k5T9vPBxPBnN7z50A/Ppxdd2NkClpYHx97ONl0ez05ZXceEEINsJz3xhPOVJ3al7mcwFrl8w8nJLc1nrJNBvMpXpz+JHf/k3sLgHguvfxVLg9w+F5gCbh9+A6P6++sX8avdYHz49O+v7x55i5LwrUOvR7z+/cq3qFJFST5Wc739x6dwDZXkiw9xM6+884uFGxfjFyefvsHcyq3DrsOWGOIq8vTmE9scLr796+g/R7NOMkLLPHr5XWaL5fsdK+U64Xz73qwX2E5u/9vwpbwi5dQ1Ajml+YwmsG0PwpzAg1Eigx/me7OeZ08r+Di3WahEcx0d4uWC2GZKc39oFLfo53Peuve7pxzSsLiQ6PeveREhkVztHp4SWOih9BwDgO/MWnD9Z3chapREM0aMvVt2k2SKDzOKs8SHzSFtsFqLLaYQnbfSyWJrt/D4yMqS8rIiN0dKSprTTTUilyqJUX69IdC4CSFg8tJ7czAHWu37y2/cuDEnJzsuPn7FV28f/uH6fv2MLdty8Ulc195cYAi2lQAbDOG8WmutBcntU1Fkf1wgE7v6+nNjRnNjRnBnznLbDvr2HjY9qo23qaLYyz94//4Dr732GosNVl8rQ2Yp1yu2Okl/PIzAJ39/PbH7KEa4CzATDPG/2vojhlxYdojm40NiR3S65NqB0xgzhRCDsBuBBIXTw4vniQn3Tu45bum25YgNk12Sh/BF2Jl9cJu+oD3dmDsrQAnilMJpTdDmagLRPvelHWbYW+D98tyVD84deu3RrBMpuWfg2hwXEoO+qS4vRLyNZ1e9ye7PO39+enm3EQxDGfxRf733639ObD+Re7rKbEoMi0PYPVB0ttpXf/uQYXtk16VSZxAA1R/KjFaCYdbqu5fgd7H99F4M48oMZbCPwQ0YkzK12SvM7uo5/XGGqyeWxeJ3JJwCgvJf1e9KsFAhR5yAnlemPzHlg5vk00BiMWfSn21e2iOxE9tPD/f5/aNvu2fkLXA5O5V3Jre0AL/9yMAwcEWlBUvipmH5xMJIcY44/fq6/8ExFe8vcaaQRkNwjbu822XfbV+54/ReTJDB4RbhoCZ0G3V1/ysZzrfQsOn4VlpAKCBZnwls1spu7pVpj4OZ/Ljzl7MFGbj08LEf3XnY7EHTcbnZFfE7YgvUZym2IoR396z+kxmNYrJj+R2fL9u5avXe3zH/gnk0PEbwkEHcHbwl3T4dROWBaVGpXcw9YUYS08TgjYIMfsWPT7gHHiJCjiSBeSj2QgyJfJM5zKqqCvFXJIQ4Tfjc6UOD/PUBpipPrvQ7xXRXaTLwNqITafSEEGsINVr7thP4ZGVlDRk24rv3Hjjzy+39+le1aouNBzmsKLS/aauJH6cNrDYUGnGITB/fc1cK72Ib/Kg1uhaJmhaJWC74rPHEC+lZIYbAm6+5d1lZaYnKFbVxlWdLQEo5neOXukp1KmYiAJvGA8ue+2T2awzHEsxE4lmPL24DKFMaXYnbQfCSe7972tVwMmINfBrxtXn3SzTtTLt8LQy1X1zzrlybSzkvrnln6dwPGbBAW2JYPL6cK4Eh4caGUS+7J3h3YmcLRNFgiGFwA+7Bph/i6lhkBQIpzqG0xxFYs//Pe0bNhQGZoRk0Ay7H84Y5FmHMzTuuUJ2LbdnYYd9fWvOu2HsTTO+t3z/CckElnRjYQWftf0TQ/+hPL7W5LVk1mAfuZ4Q5xVepSw7z8VjA9Ao/UeVQAPc8zI9s2+mAVr3xRXVMl7B/70ITGUVZD//wgnBIifpE4M/Dfz818T4Gu4Mp/vqB0/FFr1x6cTB2uazPExTago83Zvpg6xNy5AmYEIWTdf4GlusR5+A5hrcPw5cbM5I/zPtkX9ohzEjChwirOjEZyl4PDBcA8SNI3FzTTmeajB389arnCFOhr7fKhIWqEkEgz1x1qNLDJkdBOSXcQwBulI37g3tU2PLBW2vr4HPo7J+39ODZYPVUGsie/QuSYKcJARqbRWMtqj7kM6v/avw1XrHgg1pdrFYTorFp/fSWVm3zWwa+9soNp9vFqEGk4czlJkulmWcjatJU7jICiLzy7p+fOVMN1xgfZyRfXvsee305Q4nDqCdOtgu1GOzCi0a8RTWjLUYRLIRLtvzAEHCjCC/FD/5a5ExFjGLXHdrojKQzMjAQPfTDAmckSaY2CGSV5C7fzVr5w1YOL6wFq99iy8hLB7Xuww64gsBOW2Q7xa/a+zvDbxmtQCc0y5tzNQe/xJu+uF+ySaCrShzKY3z56PKXMHh1WCpkvv/XIsyGCIeMhJNsEE+Yu799EgYchioqqjsE4Fq8jhkOTdy05MUBMxqm28QC4jSb0ogl6yeNBRdPLH/Z+ZGPwxsYc76bjm11qcOYz52/7Dl2yFAA2yOxy7TeE7C2AiG12dDB9u7xl6lLZ3QRhdOrHLtuakLjdJ1Hsr7J7j9+1xXlU2z+i3jRHTbd6AmhRqfRnl/wOq0Pd99UrmMXW2Irzvu8Y4WIHcBWGMBZyzmbxLM8gNPGarRxGm2ERhvOaeHVprPP2lk4Pz/bhLG2N27jELmGTTKwcael0iR5sjtEnDLdQ+DjTV+9/tv/POJPiHfJs6ve+GbbCvd6glpYd+R2T+Azc++3T2HhkNutiyu+sW6hB1nZyj2/Pfmzom+buF2k8RN5cNkCj/ikwZpxy5cP1N5aK+khHTpE4NVfPzxTkO6wSDXz/fWfw8lNVUwsAA+xF6Y+yng2gr2gS+IqQhr7dwtpeQI6oZk9zpPXcpgDC951n93pwZ8SWsF5YY4DvymHLYoz8VO6+5sn1tbclEIs4FIadOLGRffWBb91qRvNXPjVXz9wb5kxFqU7XHHH4wlrW208t+viomAq54U17zjPCeV9wEunyPXJiz1nD7605r3atCv0BG9zmNPBCYWcZpVINynElakyeHUZzfhqo1q7DdSKwhy361LFOkKgcRNC+7MAgwI4amo0fZK4WcO4yDguLsHuJurgow21R5WxIvC33avw3Efjy3lFc1osMbQzPputirOWcTYTjkoquNQ0u3WxYwcuKEBc53xd0f82s9WYWyHKoKTnEfj8n2/v+PpRt2PA8B3CevSbv7wfC3Jq07+9aQfd45M5pXlY7O4wvIR7/cEU6f3fPYNI/e5VF2ph7LJg9duP/PSiS+9XrDZEABL39u0QmsZu3bDPABkhhxJ1igCu9W1LHpKHjVFtFM6iX25ZpiomEXhy4n1KSwF5SaziEwcfElffmbqPTdKg+YkJ94iruJ2G8RMzNW//8Yl743hJuwjvOfmDG53neGCPD3z/DPwgXPoBShrFIa7RVQtvxVhZXkQ59YkAphju+fZJ7A/kUqO4937e8yt7viYmONIlnfUgDBL7+IqX3fO3xMvLVfOgcEbfbFs+f9mz+O0IOW4kgPldS59gR+12Q20jqpJqcBx62lZRaMtNYZyI+aCbIcF/Lco7bqABMwPai1PUuAkhMMMCQo23fZeJKb250HAuIooTfKHtnqJgeefYn47T6DlLFmcTe9H4cNpoToO4ecAB29uXcJY0CGDZ7JEj3OLPOBjSbXAHNdt3qmBZCNGERlN+srCW7/KLcws0qlbx5pj47uxvt/8MK5+rHcdrA6EyrnhvNmIzuFpXLo+BI2NdkFwec5CwFcxYeKt4mbtczI0caEbICgzxUwvS3KiOmxbBJzB4xcvVjep4m2LcA1oIX0RXq6MuTEAzP5rHHgC5qpbkVRGACeLaT+7479QuVUlBAH6VT/38mqtjPgQBRkQoQYk8AV766d9L5flCzhu/LcS8g3AoT0zqORYxb+T57uXAE2HMW1cjZIWrQ3mhOWzOht/jDZ/fw7DzCMKSBNywZ348z0n3UUld+N298Ms7V398uxu/RIkqOvQIAlgdevtXjzD8P+Wt4A2FpyL7zokOipJXvOg5K3b/OmfRva56viCs9CtrWV4AqueFOZcZC+ciiq+qpEMBmDev/ngegv06LG0mmSeNitzMtGcVpxAL1HL8HzBGNyCqtFjeyUp1oyJVqWsEHJrS6rpRj+oH69NpvTQ2vT/n68cFBCEgUk39PCfU+HC2Cs4qDgat5XQRnBZsUGPjzJwlh7PmWbEboQ+37Eu7qptu57ClBcLPFBZwJlX2YbOVpRRiQ0KNF4s51uwZHbmDAExJz616E4PImy65eniHQYxl5YJ28I31RzYjbiHGTEJmLRMYH2PMhxie47uNZMf6g+UBjOuDv77Ay6+WjTKqYxA56b05GBlf0WM0thdnRw3h9cDWumrvuq+2/qQaQobRLl+0/sg/8B1F1Dh0oGdiF4cLRcRKsE4GdsUfdqySbNUtlqF0nSIA2nDjovtwt8wZPFMpgDvfAYxQf97z24d/feGqSxXi2T59xf3ss3jttw/l0eHFVRCJF7fojZfMFGdK0s9Mmo+NQFztnkSJcIgFYC+vfR+Pi+l9JmLLbIQLVr2fURcPBFj+4XoA26Cgyo0Elk1icgc/Iix8GtSmb4h/EFsJ5oMOZhzDMsVvt62opamE3RCVuoEA+MYV792A8CfYkJYRkxlTHpuO/7dww2K4S6AV9gRZA7QQ8sjAnj/tf7fM7DcJWy6pbiaBlw7sipjbdXWOSX4VsP781sUPYn+pKb3Gj+x0KQNnoS6eaXhjYmtQlybFhOpNLJFtqsKWgOGOdjSxFWWa/lnsfclszttPfNbW0zvN4IpufV7PSs1SclJ1SyFV8hQCmk5Pemxu1VN9cl4PjBvw1TyzZJ8xs/Spidy4YVynHlwQ3D/Pf84tILRb8HyrA4lazpdoOW0Up4uxcV6crZKzZtosRVg5eDaD27iOa9+R6zeY08BvVMNVGbnFX3F3fMyZreerIjypjw9aNplE89bVtDPx2m76VqGM1TIXVFDKQwggvuglbft1iGkTpg/F3nrYJw37K2B72cKKovyyoiNZxzFNm1Z4YTc8J5v94sa3+7fqpSQ8feFcYYkOdr1H4EEMqRFpLSYkKi44Osg/sKCsMK+8EEvj/j2xY2vKznoeqAX7BXZN6NQhtnWH2LbYpgyLrPS+/gjwXVJZVlRRnF9ehEHnjtS9RzJPYDSpdI5u54MGjOh4aeuoJFyLyKDwCH24t5dXXmkBxuv4C+fADUe31J6Cut09qihHAHcv7mGQkJjgqJCAINwqZYaKosrio1kp8I7ecOTfSoVJYrmqppeD7VvwhOma0CFcH4ZbGg+ZYP/AcmNlSWVpsaEUt/SBjCN7zx7CTgN4KXj29EFEQUcHtemTGJ6AdtGB0IBgQ5WhoKKooLw4ryx/z5kD/57cScFjPAt7XWjDwj9MX/Zt2aNNdDIuoo/OB/NxWL9wLOskSODGY1sdBiqri57Uj04EAR7VeUjb6FZ4AUUFhvt5++F8cY6n885iwyRMmuBvXfQEzy5s89gxrm3H2HaxIVHV774A/I7QOqZsMoqyj+ekwIyJ3Xfq+aVcFyfrQZ3PJrSeFK4cPtHbT5fcRxvdRuPtZy3KtKYftDJdSRkd21hSeG+q4hbHjIpUVA8INHpCiDjcZ5burzxd3D+ZW3Adl9SWa9uphpHwgsHunKmw2olUG2XT4e7XctYimzmN01m1/tzPX3OFRdysmzlvc7WvKeDXcGknuf97gVu977znKQLO6HRjx44NCwtbuXJlaWkp6J99HFCtPLRXbOyEdkQI6+HGresmnCeEdd0T0k8IEAKEACFACBAChEAdIXBpUOh7ya5sTuVWP85WGWad2FduEQwzbmmhSnWGQON2GbWTMQ2n9fXCxOx/p7nNB3x6lldlpXO9BnFBwRyMHzDx2a2DgI9ng/aVgjjAVipWmyVHYyvjdJUlZbYd27niQq5rD65dew7eo3a7oobDIrWcTG77gYQsr0gbV2PVmX2bTr1+6tSpx44dS01NzcjI4JupOFtiNVq0vjrihHV2x5JiQoAQIAQIAUKAECAECAHPIPBvaXGWyRjrfX5vbs9oraGl0Gyal3KI2GANUBrYgWS9XQPrnTPd0XA6/3O09pB1eHm5P7aRX/0dl3mWs8L+B/fBaosgosIgjS8+Ns5isxZYbDklZRW/r7EtWcQltuCmXs+1a8Npqjkk5i9KizVH9mn/2xKREThnwOBLvbHD/fmPxWLJysoCJ0Rm9+7dp0yZ0qnTuZkVU2GlMaec2OB5qOh/QoAQIAQIAUKAECAECIGGi4CVs32Qfabu+pdrqrrh5IEMk2TLt7prkDS7g0DjthDijMG+dL7nzsI3KOps/L2mvC8TojJ2b+e4HVxcMteyJRcSzOmwLaHdLsiZKrn0LO7YEVtWJhcTxXXowo0YxWlRVGE3DFZWcHk5XPopTWFVG3PkeO/BQ+PMNotvemBgYGHhhXhKx44d7dq1Kwih1Wo1Go0DBgzIycnJz8+3WW15f6cmXdvdnUtBdQgBQoAQIAQIAUKAECAECIH6RWB1Yd7I4IjhweEeb/a/0qLH0k4gbo3HNZNCzyLQ6AmhGA4vL6+QqIR839uMZxe3Cj8VHWc1VXAHdnMViKmLYKRaO+UrLeeCg7nkVtzIUXaWiH0H7d6kVq6yksvL5s6c8sozdvFtf0t48gBEjuGsJoOxCmo7dOiwdetWoa2SktLt27cPGjQIdBQfX19fGAk3b94MgfKUooozxf6JwcgX5ClBCBAChAAhQAgQAoQAIUAINEwEnko78UFyp24I1u+5j63SsDM/j9ig5xCtQ02NnhDao32WnDNDI9xLOIIa6vXZ3C1Hz35rNu6NT+badOPCojlz9WJCrc1uJsQuEwitaHeWrY4jij0583M5rDxMOxvk1fWRhE6j9QEB/gEBMACC1CGUKPjeqFGjxIQQVQ8fPhwSEgKXUTO2KeQ4RJcRrlLRrsyAJFGoU6GAEoQAIUAIEAKEACFACBAChEADQ6DUYrk55dD1kXE3RycE2B3navfB4qsKIzZt21dVWTtFVLueEGjchBBs0GaymooMQsyYwEA9eJrVYs20Xn00M9B6egvMf6Bs2LNe53Uu+qh9VaGVq7JwxkquuMhuGMzN8inxHhA+/M7IxC5Bev+g4CB//3OEECsGAwIChg4d2r59u2PHjguXBc6i//77b1FRUbt27eAsevDgQXsRVGu4shMF4KheQT5kJBTgogQhQAgQAoQAIUAIEAKEQINFwGSzfp6bvqwga0pYzKzIWDfDzCB4Y6XRZoADHpdjMW2rKmuw50sdEyPQuAkhGJe5Entqnpt+QKCXgAB9cHAw2Bp2O83RTDyc7mU9sclotIVHcP4Bdk6Ij9Vi32jeUMGVlWgK87n8wsCAfs+26DQ8WO8TGhoWEhIMNihwOfiLRkVFYcXgxIlXvPXWW/YdJkSfQ9UfUUZ1yBqDOXP1scRZXWvk0wEhQAgQAoQAIUAIEAKEACHQgBGAqXBxXsaS/Iy5YbHzIuIxdNZ4Va+5UukzLDQWDYbXRpMwVP7HUFpz1KyigoovIgKNmxACuPytaVYY+6ppGshbUFAQ+Bvy4eppMVvyrGMO5oeXnFwfmlHs62snhLg1YR7ElhKGKo1Bm6xNHB8+cHRYVEJocEBoGNhgiH3poOwTHR09bdq0H3744cwZpwIxVZwuwjcgmTapl0FJGYQAIUAIEAKEACFACBACDRiBmKCoTwtzpngHx3h52wP22+NwYLWVFvYSG/ZWw+orIVAGCs0WmxmLsWqyPy9vr1a9NXvWCPywAZ8udY1rxIQQd5gxt6JwW4b9Hq3++Pn5gg2CvGH5n50QWizgiUW6gYdKO/tWpHobC7y1Vi+tRuvl4+sf6BfXLiSxJxhgaHBgCCyDYWEwLYJSCjcFbyTk72PYHnv16vXgg/Pnz38QYUUFGccJ/HRsXN7ms0lYSag73znHopRLCBAChAAhQAgQAoQAIUAINCAE/m/onCFt+htzT1mLczQluZqyfK6iiCsvso+KTbwV5kJvBd85m1+gJijSFhxpi2xpS+493st7SdrBE7mnL4hSqqEicIH/NNQeOu4X7kgQtvx/zgpsEHIxMbEJCQm8k2dFRQWYG1xHIebtrasK1NsnLry8dL6+/v5+2EYCn+DgoJDgYDsXtLPBIA3mP85/eDaIIyR4Tujn53f11bNWrVq9bt2681LK/1ttFalF+VvTIwa3EFQpS1MJIUAIEAKEACFACBAChAAh0CAQaB2ZpPcN0LfoYsNX6BHG3oYyMEObpeY2Ehg/+wVy+lBOK6UV3eI7EiEU8GvICemVa8h9lfSt9Gh+6eFce6b9VtWEh4dNnjwZgUZxAE4YExMDQggup9WCA/ryaVgOkfb390ckUjiX4hNa/cGhQzZoVy76REREzJ07988//4TtUZStmCzYmhbcMdI73I84oSJGDbXg6/9++vPwZqXeZRXnKBVRPiFACBAChAAhQAgQAo0XAfjStYpIdNB/2Ej8gzh8nf50jeuwfO+vTouT4EVDoFESQuz/jkAyGT8fQYK3W8Or+dVXXmnfvr0AJAyA8B3FnhDghOCBPCEEURQTQviL4gM2KNRCQk7eBCMhVI0YMaJPn97bt+/gzYbiitK0jbMYzFm/nUi6ppu0iI4bPAK/H9rU4PtIHSQECAFCgBAgBAgBQsDDCLQIjfPWeXtEabcWnTyih5TUNQK6qGEt67oNz+oHEwMPzFx1tCqvQvBiHjt27HMLFvA7BwrNITwMwo1CHCsAUQTDIDaQqPYUDeYNg6GhIcgR5EH88BEOxQk+H3+hRKfzWrNmDTSLBRyn4WhdaND66PwT4I/qWLPjipRLCBAChAAhQAgQAoQAIUAI1DsCPVt0HtNpmEeaDfMPOXnyZKGhxGC1b0RBnwaLQOMjhCCBWb8cLz2Sx7NBEK02bdp8+uknLVqcW60nUC/wQD5kKJ/AIkCwQbiJIngMqCCiyfj4+AoXRqgl5CglsExx2bLvi4uLlQRq5Gs4Q1ZZSLdonW+jNMbWOBc6IAQIAUKAECAECAFCgBBoughE+YRd031S2/jWnjpF32JNz4B2nYJa++l8c4wFZptTq6481TrpcRKBRkYIYe4r3ped/2+aENsWNG/BggWwEIL14ZwlvA4+ovgIFkIQQnxACPGXX23IwySp5RA7XgYdgNPpli1bsQGhQzF5JkLxlh0rCO4SpfG2h+uVC1AOIUAIEAKEACFACBAChAAhcBERiPQJHRdzyfiYS6P1EVGRkTpR4H33eoUx8+5du3Jz7fE+9F7+rfQJfUI7m2zmdAMFYnAP0Tqs1ZgIIW4sQ2ZZ+rJDwtJBADN+/PgHHngAHI8HiWdcYt4FZ1FwQpgK4e0ZGKgHFfT1rRHlRSzMRpqXBL3EisQVK1awhcWlWEzIWW2BbcPFmZQmBAgBQoAQIAQIAUKAECAELi4CGN+Oiho4OX5EjF8E0mVlZadPn66srITRBR83+lZlNJ44cWL37t2FhYXi6l5ar7aBSTBCHik7fS4KiLiY0hcPgcbkx2iz2OAsat89wh5W1G4MjIuLu/POOxE8hgeQJ2xCGgSST+NuhlmPr8LnCH/FVYRM1cTIkSMRxTQ7O1tVUhAo3JWpbxWmbxvmXouCHkoQAoQAIUAIEAKEACFACBACHkHAS6ObnjC6fWBLsTaE00+t/iDoBpZKYXs2bNnN++KJxSRp1MrJyUlPS8vKyhIG4RIZHHYObgNm+F36bwwZeS3KqVMEGgchxB1jrbJk/HTEkF3Gs0GAgswxY8b07dtH6QYF9RJuNTkNk+c4D3R8fDwsk4sWLXK2CqZBzFaERW05p6dPhH9tmna2RZIjBAgBQoAQIAQIAUKAECAElBGI9Yu8psXlgV4XIixKZIuqP3wmvO1gX8E/JHy8vfHHbLFU4WM04o/BYMBfYeAt0SM5BP+cEnvZT5nrJfl0eLEQaByEEAyqcHtG2YkC8Tb04IGjRo0MDQ3jsXPIshxmegTr6dOnL1261PlbHzzWYrRk/3Yy6VrahcIjV4CUEAKEACFACBAChAAhQAi4g0AbfeKA8G5t9Y72G1TQh0EvPlxpqUK5C9ngjV1D2rXwj/27YPf+kmNmK0WacQG9uhBtBIQQN40ho7Tgv3Q7GzznBGqHYujQoYmJSXUBCnt6AyQTAj179oSr6tmzZ13ogNVWnlKY89epqGHJGi1Fl3EBORIlBAgBQoAQIAQIAUKAEKg9ApG+YYgckxwQL6jC4LqeR6W8wSbUJ+iK2KFDI3qvyfr7ePkZoT+UqH8E7JE5G/IH1MtSYTr7zQFLpUnMBhEhZtCgQbBWC50XszikJZ9qD1NJnohc1iwWdPIJVMOug3CM5j/IxH0MNjhhwgSJpPqhhoOp05DpgckV9bZIghAgBAgBQoAQIAQIAUKAEKhGwEfrDSo4L3m6mA3aS84H3bgoOIV4B85KvHx6/CiG5+pF6VizarShRxkF9cr750z56WIxG8QVwgrXwYMHR0VFgZiJaSE/5SC5hGB0Duc+BOFqgRqVkGM2mw2GyvLy8pKSEt6Fmv8Lcgg6irrow5IlSyBWo6baAUKklp0sDOkaTbtQqEFF5YQAIUAIEAKEACFACBACHkAgwS9qdtKk1vpzu3aLNQrjYXFmPaejfMN7hXQqMZdjr8J6bpqaAwINmhCClVWeLclac1w+ddGrV6+kpKSAAH8sasUe89hYQn45UR1cDsFzcaMjDb9nhNDFB2nsRQF5+Q8ANkBsKVFaWlJQUICNUxBHFOGS+E9eXm5eXj7yEUIXhFCv1yPG6ebNm1NSUuRNs3MQIMdmsQa1jWCLUSkhQAgQAoQAIUAIEAKEACFQSwQujeg1JX6kv84ecv/ifhybaKr75KXVdQpqFekTdrL8rMVmvbj9bG6tO+BRDQQC0DYQp+zfU8S7Dgp9S05OBkssLS1NSzuLLeZbtmwZECANkQS+FxQUhK1U9u/fDyuiyWQCkWvTpg0IpKBHSEC4oqICBLK4uBh/oRlMEh/wQ5gE8UF/eGE0h8y+ffuGh4dfe+21v/32m6DE+UTRzszQHrG+MXo5KXVeCUkSAoQAIUAIEAKEACFACBACSgj4an2mxI+Q7CrhWFijkRtgHEvWJhfDaTSk/OkS3CbBP3pZ+rpMQ56yFJV4GIGGayEEUyo5lFu8O1PiLAoAsOsD+FiAXu/vHwALIXLgt8nvPi/hVzjEDiqgcOB4sCh27twZlj1BRkjwoEKM38EC9A8KYVE0maoslmo6eJ4QogqOoQ3sEVsRJiYmfv/99zjkNaAP0AAB/pD9t+xYfnDXaK2PTtINdi0qJQQIAUKAECAECAFCgBAgBFQRCPLSz0malBgQqyoJAVg+6npEaieCTDbI99NP59stqF26IbvIREE3nLl0HpBpoITQbh40mBFLBtv3yQlhz5492rfvAKYHGx32ykQCRr/AQD3MgPytjL98ovrGs9sJQd4iIyPFmUJaQBE50ADhiOoPlEdGRkE5crC1PegiOgV+CHl0D4ZEJNq1a4dFjCtWrOCVoDO9e/fm+adgURT0SxKwf2p9vfTJoZJ8OiQECAFCgBAgBAgBQoAQIARqg0CIV+CclleG+zhwi1NSKx8bK0m6ma9mHhTU6rS6rkFt86oK86qKhExK1B0CDZQQ4oTz/z1bfrJQHgcXnG3s2LEdO3Zs27Zthw4d8LdFixZgYtgtU7iP+YT4ULzIUMhXghUCaAW2RPBMaMYnuPqj1wdiJ06sM4T3KepiPWFQUODgwZfAazQjIwM5WKCITPSnffv2lRUVCEij1IQ9X8MZcyqCOkZq/bxUu8TSQ2WEACFACBAChAAhQAgQAoTAeQRCvPQ3tpwc4h10PkP9//oYizphHhQ6qtVosaQwy5ifX2W3wdCnThFoiITQbluzcVlrT1gMZt48KL5HIyMirp45E0bCrl27Is4nlg7CIicWUErzOIpLBWSRKXzEmfD/RPgZrDwEM8QHrBCcENZCOIUaDAYwQ4SYASOFwMqVK/mKcDTNysoC/4R7KnIQmFRQKE/A/mnMrbBHHKVtCeXoUA4hQAgQAoQAIUAIEAKEgIsIeGl0NyRdEe7rmg8aht8YDLvYVN2Koz8dApNTKtJKzRV121Kz194QCSEuSsnBnKK92fzVAQED60McF/7wkksumT59erdu3UHP+CV/wkXkSZ1wyCcEpuewVCKMQ4diyATHQzfgPgrLoZ+fPUwTAs+AFiLo6MiRI//44w+EJBW0wU6IRYZwKAVp5J1LhaIaCQ1nLq0KbBvuHXTx4z7V6BgdEAKEACFACBAChAAhQAg0QgSmJYxO1l/Yd171DOxUkOO0DYwN8t3WabQdglodLk0xWKtUT4QE3EagIRJCLK5L+/4Q/sI8CNdNhJABuYLlDScJW9z8+fOHDx8ONgiSxp82T+GEQ7exEFcUdErUwhrJ00JfX9//Z+86AKQosnZN2N3ZnAMssEQBCQJKVpIRA2YEA0bMeubT8zwD5+md6VB/czgxK0YUA0FByUiUnDNszruT/6+6Znp7p8PMzqZZeM0wW13x1dc9M/X1e/UegtXDDSl0gIg/MWDAgJkzZ4L+yZ2gCIwRkRKRCfnl/MAEAh6WO5L6ZAYMFFiNzgkBQoAQIAQIAUKAECAECAFDBEakDRia1tewSv1CoRj0L6rrl0XEWbTZmhfXfk3ZFm5ASEfzIGBunm4b1Wv13jLozdAFOFJOTg5IoEyoRo06BRsIYb0pD9ACPApDBIwCkTp37tynT1+Eu4iJid62bRv0ll27dpWlEonCwsK9e/dCwwn2GFBUd+pllTuKK7cVBXVCU9eEUoQAIUAIEAKEACFACBAChEB9BLrG5Y7LHFw/L9hZK1JBf0S3YCKyHFv6aZlDg1ajCmEjEIkawqLf99nzq/AUAPaZUL7B/FLEdcB2vqeeenrIkCEyPZMTYc8/9IacFCo+M0gnSIfZbEJ8CmgOoQycPXu26BC2rPHY3Gi1wq+MFMnQDW2mLuWD4WglVxJybb1iiNBlo5qEACFACBAChAAhQAgQAscyAjZz9NWdJkRbeDy2oIdBgPigbZusAha9Ifsd7RCbfaC2oJgczDQZ+vU6ijgNISxFK7cXQ0ZQLASK8Ho8hYUFOAVTOuecc04//XSZMsmJehNq5hMMKo+LBGJOQE8Io1ZsJrzooos6d+4sSmFWmpmVBZ83CGDhdDgQLDEtPd1AtJoDFfbCarlng5pURAgQAoQAIUAIEAKEACFACAQgcHrW8DhrbECm5ilibEeK95iGKEIm5IyONkdpzogyG4lAZBFC6NBK/jjkrnFK6sEEaAjhsRP6NzAl2I5OmzYNDl3EhFuXOylHx27Gbt26grsiMXHiRKEGhJkonNCgGsIYxickYBshKiBcovbVgk2025M/d5euClG7GeUSAoQAIUAIEAKEACFACBACLDc2a2BKr1CAWFu21WKOrPV/jbs2FMkTrHFjMxpoEBtKv1QHLoUiBwTQIagHS9ccgkigUmlp6YjuUCrFf0fRpEmT+vTpo2RirSu5UpK4uHiYtoIBQoeJ7YXKIqSRL1ykduvaHWpPPbGrd5dW7y4jTqiHD+UTAoQAIUAIEAKEACFACGgicEbWCM38gMzNFbt+PrIoILPVT2PMMT/lLw5FjCGpfbNsaaHUpDoNQiCCCCG4k6OoxlnGw0skQBUYH4+IDiIEPDbrXXfddTJZUjKuBs22aSsrxQDTA/FDPHpoNSEnvODgHRWQqCgvx7jYCdmufTulOxy1MGXrjyj7VFegHEKAECAECAFCgBAgBAgBQkCJQM+EvI6x2coczfSBmvwvDs6LskSc1SV8aGwu3/V70WpNsZWZWCePTB2gzKF0kyAQQYQQ88HuQcRqt5gtySkpuOTw0olMOGi5/fbbe/bsKchSRFEmCCPLgwR2DA4fPhwygwcePnxIHC4pFkVRURH2GcLwVfuySXt7oST0uDzaFSiXECAECAFCgBAgBAgBQoAQUCFwaggeOIscpR/u+97tdVtNVlUHrZ+RFJ3wS+GKLRW7g4rSJ6lbSlRi0GpUoUEIRBYhRDx6SI8gDVAJIo4fLC3BsrKzs2+8cSr0bw2aWEtWFpwQ7+CuiIohhq6srEIcQli9ilOXy4XI9enpabq7Z73MWW4v31ggK0Jbcgo0FiFACBAChAAhQAgQAoRAm0OgX1L3jJhUY7E9Xs/MA3NFbPcocySuqBOt8VgAf3VofqVLP3a3NEmzyYxYi8bzpdKGIhAphBA3QeW2YkdhDSYAF52IRw97UaSRjxB/HTp0jHCaJHPCcePG6XFXKAyjo2NsNn0HUF5WtGgvdKQRPtmG3mRUnxAgBAgBQoAQIAQIAUKgORA4KTV4GPolxeuO2IvE6BaTrj+L5hAvxD4TLXGo6fA4fzjye9AmJyT3iDGHFF0jaFdUQSAQMQ8JvAw76CCT1WxBvEHo0xDBD6cgWuedd55MsQTvCnrx1IQqxIZBezaugFG6d+/etUuX7Tt2yLpBuQl0nlAhQv9ZU8N5r8ZhYs5SO+JP2HISNEopixAgBAgBQsCPwM2jp3TP6uw/C/z737lv7i/hLsroIAQIAULgKEYgPTol6O7BKlfNgqKVMgjWSPIoKUuVaOWEEMemil17qw91imsnTjXfo8xRA1J6Liter1lKmWEgECmE0F3rqt5fzkzMGhUFWgX1oMPhQAIh/gYP9nmYbRlSFwaIchMQUVC+9rm5IIRyppwARcSkZHIr5ysTUA/W7CuPbUe20UpUKE0IEAKEQCACw7oOGtJlYGCu//ydRZ8wIoR+NOgvIUAIHK0IDEw+LujU5hYud3nccjWLKVLMA2WRkEBICfn054IlN+RdJJ9qJgYm9SJCqIlMeJkRcU+AR5WvP+IqtyP8IFgftg7CJ6eYT9++fTt2DNNeFASspKQ0PFzCaCXzVfgaVasH0SGiEWJXoVp7WTcWXMuYTTCdrcuhFCFACBAChAAhQAgQAoQAIaCFQJ+kHlrZdXmlzop1ZVvqzrnxXUQs/pUiIR1nsck5B2sKtlTukU81Ewg+kRatE99bswFlGiIQEfeEu8ZV8OsesEEcbperuqpKBO7DKZx2Iv6EzLUM5xJYCMvM/fv3GRGwwBZNcw4vOJodQRLYwQaRByEr9pW5qp2aPVAmIUAIEAKEACFACBAChAAhAARybBnJUUE2Gf1RsjFg5QmnLBGIXpy1nouNXwtXBBUS3nSC1qEKISLQ+vcEbtOytYcRkh72olFWK8L52R0OSA8SCO8yIopDwK0c4tzKysoOHz4cYuUmqSaIK1Samr1hFiCE2B6pWSpnwmq0akdxeFOWO6EEIUAIEAKthYAtKiY5NknvFW0lTwCtdWVoXEKAEDiqEDguPs94Pm6vZ1XZpoA6Fiy4I++IV2gIId2R2iJETTQWs2u89nrbuBWVaiLQynsIOe3xstI1R2AqyTxeW2ws1Gv5+fnl5eUoSklJ6d27NxIgWoJrac5BLxOh/4RnGr0KzZEPaYWGEALz2SkOnEIep0R3FdkaycrtJcn9tNWMGrUpixAgBAiBSELgljFXTz3lCj2Jpn3334+Xf6VXSvmEACFACBACISLQPSEII9petbfGbVf1FomEMLY+IYTM68u35cZmqYSvy8i1ZUabo+CYtC6LUuEi0MoaQrCmwoV7HEXVYIOYgs1my8jIlLkfgtGnpgaJrGIwcXimgQcXuTeDmk1YBNaHWeh1WFNdLfSfehW43ayX1R6udNtdAXxStwkVEAKEACFACBAChAAhQAgcSwggekQ7W6bxjNeXb1dXMOtGxFbXbbkcULuAeBgbK3Yar4Rh+9opNqflRDyqR2pNQojLbC+oKlqyX0YYVColJRn5gsUNHDggNjY2bEYHDy6IZyh33jIJCK83qMViSUrG7Hyh6nXlga601oWXbgUqIAQIAUKAECAECAFCgBA4hhHIi80x9heKYPTbKjRcs5gi0mQUVzLeWk+hggj1+2qC7PzqEEv2dE3zGWhNQgimV7zioBe6QcmyEk8sEKMPYRvk5wHDhg3DaUMnKpo7nU7YZ6LDhjZvZH1MClsf0Yk8C7lD5KelpWF3pJyjl/A43W67O2wmrNct5RMChAAhQAgQAoQAIUAIHAUItDc0p8QE99cccXo1tAu+ZXfkQWCzBC7ad1UfNBaTCKExPqGXNphuhd61cU3wpZr95WVrj4A5iZpmi1nE6BOqbISn79QpT9CqMKgRIv7BVSk8lBqL0Ryleiw0IyMDKlA1UVTLAL8ypCFUw0I5hAAhQAgQAoQAIUAIEAJAICsGOgajY28w9ZpR49Yos5kCzfr21BwyFiQoCMbNqVRGoNUIITYNHpm7E8xHFgWqM5AlcD+rlcemz8rKys422kuqaKiRBCF0uZx63EyjQRNlQXI9rSZmJIfTMBoNj248XjdFnjDCiMoIAUKAECAECAFCgBA4dhHIiE4xnvyBmiPGFSKtVK0hxBSM9SgIZ281WyJtIm1RnlbzMuoorrUXVHPzSZ+CkCGYO0Iy4F04ZcHuwZiYesbEDcIXhNDt9uht52tQVw2trBmVHhsI8/Lyfv311xB7cyMOBx2EACFACBAChAAhQAgQAoSACoGkqERVXr2Mw/Zi5bn3sJOVuJnLmx998NetvymLIiRdUpHv9dSyTIspPUqI5PS4Sp3lqYYB6FOjkgvqzzRCptO2xGg1QlhzsDzAKhI8CqHka2trsdcOzwPAoPRUbaFADEKIDqOiWnqC0BC63RpcDvaiMIJFaMRQhKc6hEBjEEiIiR/aZWCHtPZp8Sl4pcal1DhqiqtLS6pKCytLVu9dv6NAY5d5Y0ZsW2375fbq16F396wuSbaEuOjYakdNSXXZ5sPbV+/5c2dhcGQ6peUOyuvXK6c7gE2wxdU67KU1ZXuKDvyxZ92mQ9uwib9toQFp42Pierfr0ad9z3bJWYm2hKTYRLfHXVpdVlpdvuXIjtV71h8uL2hzk4oEgRGP8cS8/r1yeuSl5+JTidOK2qqK2spdhXv/PLB546GtTrfG9p4wJM9JyhzSZWBmYkZ6QkpaXEpibEJ5TWVxVWlxVQmu3bKdqwor660LwxiCmhAChEBEIQCHnHGqHXdKCfFjVOas8OU4vd5FleyQLzxDIatZwIKYYiq7avm0t3uMabBvz1exs8KYECZYbPQT1fhr1NJ8SUgMvucssyvVgyIffkErKyvT0tK3b+d+cjWZVYhzFvHfLZbWmaBayM6dO2/evDkkk1GpsSUmUiRXz4VyBAI3j75qfN9xBmi8v/SLmX98Z1BBWXRy9yH3n3mLMicgHbS3jIS0iSdNGNl9cP8OvS2GFhRHygsWbV8xe/38xTtWBIyid3rjqCvP6XeqXunTP/7fkh0r9Url/JtHTxnfd6x8GpCY9t0LK/esC8gM5RRM5l8XPqhXc+WetQh8h9Ioi3XykAuuGHZxx9T2epXB6N76/aMf1s/XrDC258gbR195QofjNUuReags/6NlX3647MtapzruU12j4d1OevCs2+rO66e+Xz/vjYUf1M/TODO+Yb5a/eP/Fn+q0UyRFWONPqPP6AsGjsfjAzjvVpQEJkFgPl7+9Verf6iyVweWSecXDzqnV7vuctHAjn3ltDqBe6BrZqeA/FV71v3w5y8Bmc19anwhxOi4H2atnSPSId5pqIynBjeNvurMPmPwxEFvFngM8c2aH99b/Dk+j3p1jPNB4y8YeNaIboO7ZeYZ19x6ZCc+7F/88X3Qh0FvTHkmOzHDoLepM+7PryjUq3D/mbemJwQJFvX0Dy/jcYNeD9POfwDfYHqlVY6aK966zdiETK8t5RMCRxMCsYZsEDMtd1XJ8/WsqzYdcmJLky3GBn8dJoT+jsjD64FTRZfDXuvdbvemW0xduZ1glUv7d0eegdrQVC6iROgItA7r4BsF43zqYKWs1dXVCB4I00rYi0K/B/qEmsoKoacFIRTNw+4k9OGUNTWHg3/RX34JbbkDf8D4vMZr4KMchdKtjsDSnavuPPUGAzHO7X9a6IQQa8ce2V31esMCaLE+44Ia8IZTLp80+AKoIPR6UOZnJ2VeNOhsvNbs2/DivLcwEWWpZjozMd1AvIQY7lk36JGVlGHQSVxonahHiY22GXR7oJQ7rY62Rs+8+Q1oBdXNlTlYYT936aOTBp9/z6ePFVWVKIuevvjhCSecocxRp6Fhu/eMmy856dwHZz65dv9GdQWRA7gMBM7cvUavoTI/0RZv0ElGYhBnA2ccP/rBs++AZknZp166S0anv5195+3jrvvX7Be/XfOTutrJPYbgBlbna+ac1PkEvAKK8AijhQkhbobpk56A4i5AEuXpR8u+ktkg8kO501DtupGT/nLaVDyAUHalTqfGJV8z4rJLTzzv+Tmvg2+rKxjk4NLfPvba03qfovlzo254XHZXvKYMvxSPgf7vl3f3FO1X1xE5e4sO4FmDXinywdbmbtI2NsOn7KrhlwTdzzN73byF25bqDXFq75NT4pL1Smevn0dsUA8cyj+mEAgI2aeee6w5JtmaUOaq9NZ6TFv5cjouLiEyIxDKwsMJR7Q5GhaC1dWV3k12EEI8rMyKSZcraCasJtpDqAlMwzKNngo3rKcG1o7JjgftESEYZNLn9bqPHDkCWjh48GCPx41X2F/9aBh22wZOJbB6QKRB7GPMzs7evXs3rGFxl8PxKWxijX7F8QwHH4e4qNaSP3A+dK6DANjU9vzdOoU8e1BefxjgGVRQFo06bpjyNCANNnhQIjYB+TiFvuXnuz/ByjJENqjsYUDHPu9c88L0SdMM9BjK+m03fdOoK4OyQXl2gzsP+OSmV8GB5Zwrhl4UlA3KlfPSOrxz7QtDuwyScyIqgfX6fy555L+TngiRDcrCw8L26Yv+9tzEx4Ku+OUmEZuAOv21q/5tzAZBff/5PdctN+iAjeg9Z9wUlA3KfcJe95Fz777n9JvkHOMEfjvuPeOmr2995/TjRxn9jmj1gqUVnlJ9d8eMm0ZdpVXO8+ZuWqhXJPL75vbSq9Azu2so90af3J56PbRPyTFgg2ilx0X1OqR8QuBoRSBgqameZowlekqn8+ItNlbMTdOjo0GuwlSxqDtv1hw8H8QeK1O52+vyjs8akWOr+y3WHNfdBndqaE6kdTNbhxCC6kQlxlhs/AFqvI2NO4ndNYldeRbLSWWVlRW7du2EX5nk5LpnhI2kRo1sHuIVkkcpL/cZbWMKp5566plnntmvX7+UlBSwwYSEhAEnnID4imPHjh06ZEjnvDwRtLDeEF4v1IMW0hDWAyVCT4wVgFgbndx9cCiiQzGlpB/qJnoD3Xnq9VigN5LOYWX58dRXclPaqcc9OnLA0K4/eXKD5gI0Xpw0TTSBoeADZ93aoOaxUbaXL38Sq9sGtWqByvihfenyJ8EKwh4LDyBwyxnbJIfdecs0xNV57cp/t082CmcM4vHw1/9uqDz4JD510d+M7W81+4SG/9KTztMsUmaCwb565dPXn3x5Q6mgshNcu7+cdsPzEx/TfIS0YvfasppyZf2ANLbgBuTIp73bHSenDRL4QOmV9mlv1IPD5Vi4VVe1qNcn5RMCRyUCCNru8mh4rFBONjU66apO50V5uQLNGsxmQdmw1dNWC7eSGxU34MTUPkGFqfU4gtahCkERaB1CiB8zS0K0NSF6aB+281s2ZwZ7/gE24z9s9ddszABWVJi/du1a+AgtLq4z2ZLpVtApiQpgXxhFGI6G2CSMakIqvEsJ8c62bduGrhITE0H81q9fP2vWrLlz5y5ZsgRbIuFUZtHixQsWLFixYsWR/PzOXbpMnjz5hBNOCHCfE98tDXsIG/OTH8ZcqEkYCHyz5iesUQwajj5uuEGpXDSm5wg5rU5gr9H8zb+r8584/37sylPnh5EDC7TPbn79qOSE+Bz9/dy7YMzWUFhO6NhnfL9x0PG+cNnjUdKPU4N6gObn8Qn3NahJC1QGMQ7xnjQQBk8Qpp5yuUGFSC7C/fDsxH8cb0g8luz8497PHodnnYZO5MHxt3dIDfPBygNn3mr8VAj8bcb1L47qYWRKELrAZ/Ud+/bVz6s1mZj1r1uWGPTTx4gQ9jBoKBcZUEoDrojmMJSACyi5H0oQAscyAh7m3VNzMCgCCNM3JmMwNIMB68ygDVu3glnyg9A/KfhXCr6yDtbmt660R8forUMIgZ3Zap56ddys11lGGvNCo+Zm3lqWbmNz3mD3XeUtLMzfsnnzmtWrnU64RvIHpmgI5IhACN04fI02pFHD6grBJK09JORCmkzekrLaDz/8yGo1p6enL168OD9f4zYFM4T7HBiRLly4EBsLx48ff8YZZ4DB8uGxgdBsShmQHd6sGzYBqt1oBPAo3diECYagoRB74zX616t/VHsjhD7hkhPPbfQM6jrAjqYXJ08LgzjVdRGRKZjwwdFOeKLdc/qNUPiEvcTHuND9hjd0c7QC4b9t7DUGPcMXDvz6zNm4MKjrkVvGXB3UkYnBQK1Y9ND4O+AcyECAtfs23P7h35xunzs+g5oBRf07HN+YjySeIGDzakCfylN4W4FvW2VOI9MDO/V9cPwd6k7mblyozpRzYDkMlznyqTJhTLPlmuC9MNmVT5WJvvrWpKhm/GWr7IfShMCxgMDS4vWhTBN6wnCW0aF0HQF11ldsr3U341I/AqbYQiJwo81WOU7OKH5qbFFMLaLRm5g5ysSipFQtdg4+eQcrKvG+O8v+zyefTEtPO++8CULdJzhSKMtrzAhuaaxWK7btNdPs/IQNUeS9npqtzvxvzM5dGGvv5gO1hQujLeaDBw84HEGWFHCcA1oIhWFmZibsS4uLi8Ep4zolx2Qa+TlophlRt+Eh8PnK787Wd7+J/TBwSondhgadwyWMwSNzNIRvwIDmeI7+8Nl3BmQGnB4sO/Ltmp9X7l4Ll4BYa3bN6AR9l7G7CLCXf5x7998bbikXMHREncr7xMprK+ECdPH2FUjkpXfAavjyIRcaE2AwKFlrChfewPOHP+fDjz923/XM6Xb1iInp8UEcKp7b/3R4Lo0QQM4fcKaBqhNecO759FE4ShXSDu964lMX/y1Lx+Ek+rl25CT5VoEbUkTdkKeZm9rOYIPivpKD+eWBbir3FR+QmzdfYsrwS64cdrFB/1sO77glf4oGAABAAElEQVTp/QdqnOH8cOCDLPcMd6xfrJq9YOuSgooiuBqCVx5o5LBlV66gmYCfp5fmv6NZhF2s5wQz9F1/YPOstT8jgAp8eCImCr4l4IMUvmQ0OxSZ8LuL6x7gKOj37cuBAAxr9RpiG+Fe1fWCJarxWMre0MOvWxYrc0TaQEMIPcD8zYvUTSiHEDhmEdhRtW9n1f6u8R2OWQQcHuf8guXH7PSbduKtQAjNzNsxuvr5EZtsdrfZZGWmBJAgZooGL/R6q8yWIq/L9fpjzOlk736/Z8qUKXfddffjjz+OaYdIBQVA2JsXFxePIBZNi1e93rwer7PQsfGsaO/BGBN8i3M94QkdPQvfj/1hTtWFf61XV+8ExBI8EH50amvtVit8IXrTBkXcviM94SkfCCzbtQprI71H5qgAc1BjQmisRVy1d706ON5fx99uzGTeXzrz+Z9ftyvMWaH3QNgA6KzgLdOAxmBJCoeHGw5uOcouLnjOte/eJa9i4YUferCZK79/fcq/ZcpnMGVoaO/4+GF5/9K2Izt/27bs85Wznr30UWP142CVO02DUZq7CJxEbwh8EcFIUmaDqCbMJt+7brrejjjwk//8+H9g16j84ry3lT3fffqNU0+5QpmjTP9v0WcfL/9KmdMy6XG9Rj6gH+0DMsD35g3v3Stm1BiRtufvuv2jh+WbDae4W2Ys+RwfrkfPu1dtpSmPBfe/UEfvLzkk54gE7Jax6y8gU3kK1e6T30//YlW9J0crdq95b8ln8Cx63xk3G+z5RLSbnzf8qgyUgu+NRduXn9Z7lHIIZRoPsODtU5mDdNfMPAQyCcjUO4UmUE0I8UlMjk3Sa4JvQoNgFXqtKJ8QOLoR+PrQLzfkXZgUFar7uqMMDbBB7KU8yibVWtNpaZNRrljzem/rvCvO4jYzKzMnm8ypzJLGzCk8bclkpgyT2eKys6fuZYN7M4Sqf+aZZ+69996ioiKhlMO7SBhDBpNRqN1gcWpcrVGlJlPlwTk2zzqTpRMzZ0ivTGbOsZo69u/JhAVoKP1jY+HhQ4fyMmvWf2Y+Mtf27S2H+yYb7ekPpU+q05IIqDV4ytGNzUFR07gCWIeyN6RPyuuPV0Cm8vTdRZ8+NfslJRuUSxF+8MYZ9+tFkxPVbh7TNPsS5UEjIfHXL/4pL9BlecC0H/n6P/KpQeKVX/4ns0G5WllNxUNf/suYPyDShly/1RPQi+rJcLDssNqNLZR+8zb9rtcEq3+4Y9UrjbR8qKSeufQfeuQW0oIMX/+/ewJijYQxC5CWm9//q/pmQ1dfrpr95m8fGPep6cMTWk1Z0a1uDtXZfZ8/HsAGRTX8Vr63+LPHZj2nbiXn4PHQRJU/GzwukSuoE5pCNsg6um97Dc80xh5ljEVSC0k5hMCxgADo0CcHfnJ5uB/RY+3YVrl3ecmfx9qsm2++LU0Isa+vj6NgTJcS5oZGMJGZOA+EO1xsKuT751i0yZLBTIkISJGewD57mbVL8yJG5fTp0+F8BSjIVFBO6EGD7bMdOuQixoNehabINzmrCpgZO3vB32QLbQ+zWNetZq7Q/BFgIqUlxRVlhZ/803Nc5+y4+F590js8P25rRpTdVNdnUwhLfTQbAtC8GTj7gm0hbMb0BocnUgMVU6W96qcNvwa0NSZsUF499/NrAU2Up7BgnD7vLWVOQHpcz5Ghm34FtI3MU6hKYDqrKRtiMC7ftVqzSM4E5YN6Rz5VJgori42VXfHRccr6rZjGut9AN5WRkK5pTfrzxgUGMg/oFMQG0qBtSxbBoegrVzxlYANZXFUKNggr68ZL9d+5bxn08/qC92FEajAKtvIGlMJzKSxdAzKVp5+t/NbYlhJPrIyDScBtacDVh18Z9b5leVDsFVRT6+N1XIxqPjHRjDyhyTPlQefpBD+UK1CCEDg2EThcWzjrsNEX9VEJC2Y98+Cco3JqrTWpliaEOY7Kvx+3Nc6GjYOSsagZhC1AhmiTKR3M0GJinZLYyw8wjwfGomzevHkDBgxYvny5TAXlRAB2smVpdnYOlIQBpU17WlF8hLM2TyV3iePjb2Z76aHvFjZgnFq7Y8JIT8/escyUjhiEFlNMtim9c2KNV0RpbEBPVLV1EAArwGYhg7ENdICIVWjw7P+7dXOVplwYAiZVw7qeaDAW1qPY7WZQAUWfLP/aYM2KT9BZfccZ99C2Sr9d+7OBwEt2/GFQiqI5GxcYbCpbvmuNQfNGRgQx6Llpi6DumzzkfHWf36+b2/fRsXqv5+EELOIPfL5eu+o/el5MIH5FbeXUGfftLtrX+KmA7H21erZBP2BZq/cZPdKOUz1BGNHtJANDSng5fnn+uwYjiqIX5rxpUAdeXgKMDoDJit26D0pArbtldQ7o8Hgt/0kwf8XjmICaOMXjCdjHBuQbaAhhxK60Zw5oSKeEwDGOwPry7T8c0bXmOPrAKXGUf7DvO+cxqRdtvqsZQMaabyCu3bO63VfFbj+uL9zHQB0Ywxj2rFt9Q4LzQUEoDnOCyQJXDWZkTDiLPTrVV7Jx40Y45Jw/f74cTAKcUI8WoqekpKTc3Pb+Tpvsr39QrhKsLMx3c0V9FfNWM28NaKHHsXXXlqIDBXWzMR4Yc0yxsaduMVlN2SYT34ABxaDZFDckpQSIGbel0shBQG3YqZTNIKrEmJ5GcSnU3Q7tMlD9bF4eCwEqFm4LHqcL+swfVFuA5E6QGN51kPK0radX7tJWD4p5rd2/wXiCxirE9fs3GTQHuzZQTBk0bPKi4upS2BYadAuHk4hioo5Nh+cLei+Dr1+DgVqyCBr46ZOndVexF1kGUP2bP/hrUzn+gRtMA8WaGNT4hoH/J1k2kTB+ALRw2zJ86gOaqE/h9Wed4Y06rFvgY6a5G39T9yPn9FXFEuzVrrtcKicw2T/3b5ZPlQl1D8er+pTrGwsjV6MEIXDMIrCiZMOcfKMH00cNMmXOyvf2flvtth81M4qQibQQIcS6weZxXVW5flT3CvhN4ZM3ISwEOKF0+KigzAgtzJTMTNzFGRRvd1zJurTjSkIRx++SSy55803+sFNei8gJ0Zn8jqVYdLR/CDm3cQl5LEHWKsqramvB4HBf1jBPIXNtLyupKC1hHVNDNfe0RbFX7mR5XWxmSzJmawKrhE7UbEmPdYXKKRs3I2rdJAj8vm05nE/qdTW06yD1OltUNlAeYpGqXqeq123KQbHPzXjRL1c22BuGOrDdMtBbyp20iQTIzN4SIw+W2ApoPJFdhUa6I5j1Gqtk1Ut84+GaqRTfXerbKWCsO0+9ft69n4MWGgdtD2gVyaePTbgP7lL1JERsiTs++vvqvUYqO722mvlwHqOZr8wsrTbaIq5WKQ/rZvR05peQHW9qxjKVBVOjBHIr/97J1eREgHknvGppfmPA8SlecitlIiCeIbzpJMcmKiso07SBUIkGpQkBTQSWFK/7rWiVZtFRk1nhrAIbLHdVHTUzipyJND8hBHPyeFMdNRdVbxmVV96uk7CsRNT1GGaSIu9xMPxU0P+XmeJMfG+hBVrC5Hj22bMsEQaVEgksLy+/7bbb/va3v8GDqPxzhYSc5t2BPjbzAXc1+w4WlBUX1FSDEDqZp4x5ijweR20Vc3vYqN7seJBYQxlQmpXInpzIzhgDbWgS55Pu/cxzmHlKTF53aa01VE5pOAoVtgwCoARf1nfxpxwX9nhDu2is6jqmtoc/emVNZXrmH98pT0UaQSzUmXLOpkNb5bRxAm42lR+ZgMrwSWgcECygfiSfltdUGMwUkgcNdV1SFUQDU+OAxbjuETnbCENZVWMPG2jh3Hs/++a2d+85/SZEcWyBr1Nd7BpXAGYLx556fUi+WJ5YvGOFXoUw8jceDP4BdBiGzIqPgcPqukMKGJNXd65KBSX5cguEo5DT6gS2BUKbqsyHJfy6/RuVOcp0QKQcPY8y6w9s2nBQmxAGfMMEMEzlWLDmVXtaVlagNCFACAgEfilYsbjYyCKmTQOVX1v81p6vSp1BnuG26Tm2ovBNTQi54qzO0DHK4zq+8sjlxevu86we3a64Wy9mEz92pijGoLtTj+7nUOCKpgRmwg5Dbl86sBe7/0pfv2Jt9+yzz44ZM2b//v162GERozz0qjUoX15Wwvfpvr17d+zYUVFZW12J+brr9hCamM3GEpPZfWexIZ159/4p1Q0lcgZ1ZM9fxcadwpLTo5mnmrkPmuCcxgN3O4dMnuI/ylO5VpSOtoPAl3/MNtAUaVqNamaKGWPr4Ky1GhumlbHO1Nhsz9+jztTMAQs6ZOhCIy1YhD3NbiMwM6hBnbHPVcyopLrUeF5VDiO311GIJxMZBwKKhO5Fs0d21xtOufz9619acP+XD5/zl0Gd+kXGJEKVYsIJZ4DZ6tXGl/k/vnkmFIas14M6H58pxPxU5wfkOFzOgBzlacDjA4MIMaLVjoJQP/Lb83crBwpIwxAdQVMDMg0CwcNXltJHkWZIelBuMGRo4DV9rgaEHDTYQNi0lylgjnRKCBxlCMzNX/p7ke4G4LY72e1V+97e+3UF6Qab7RKqKVn4Q+En1uZydnOXjvXuu8G66e9xq5+1Lb2n/dYze5Z1P87dtQdLgwNRX/fRjHNC/5lyTMGCQCxNsSZsJmSIWc88TnbjZNY9t64BthGuXr0aWwp/+eUXpAVVkwmbsr8mT8NyFTEwCgoKCgsLarABBbaifhcekD0qmsXGs6QUlprKbh3HLjuJdU5nNjjQ8csRZWFdMtgtY9g/JrLjjmMdO0MNCj6JBx5+Iu11gBamR5F5tB+yNvIXbloW71ipJ6zmXsHRPYfp1YdzUdgiqkvVTgiVdUprguiy6lU2NF0zZp7KfiI8bWyhB+GNNYSwKjSuELSHyMEHd9Tj3z5n8NhCU1S4Y0FU9A9uePnX+7+Azk1t06jZqtUzEX/PQIb/zn0TzoENKoRRpI7bodmJMSG0Wuo9PjD+vOPOxP2pOYo6M2gQP/VH3mDnHryS9szpLo+iqSEEWRXemP7UshrF1JSWyYYbCBfKA1GCECAEgiKA6HyzD//W0K/6oN22YoU/y7d/sv9HJ8gAHc2GQL3fnkaOcmrlrknt9w8axOJSmctqAqezur1wAsTdroApgQCKA/5TsD9QcqDCM2Sq5CuW/iDTy92QMnM1rDHNZm9mEvvpZdbjYqZ0oLhp0yZwQgSluOmmm8AGEWpCcELoBpWdNW3abrfDWrWyqhLGq2aX22HH5kZmlpg1ho2NYwmJzGnnHmFggHPhEHbhIFZSyV+ltfCdytqlsJw0Fp3AMrNZTgeWkgbp/J4e+KZKi8nkQsD7Ee2KZx1ErIJmnEjTwkK9AQH4gDm5+xBNKOBSD8/UtxzeIZdiYW0Qxk3TXhRNjOPRB1V2yaMjoUk45Qrq1aFc1LYS8JdoLLAx39N0mh/QYbUdW3/bxgGdz6PfPPvohHsD7ANDkT4rMQM6tyuGXQRWaaA7CqWrVq8zvNtJ7yz6JMQNtyFKG+KnL3QKh3FT41MMRg9xRNED7nP8Phr8OKo/8nuK9yOMDXTFmjLAalRmepoxJ2T3OdhGeHa/U9WdIPiE7O44QGEoV8bebL1diHIdShAChEAAAitLNxY7yi7OPS3Wwv1xtOkDwQZ/yl/cMiqfNg1UI4VvAg0hLpLN7byfrf7b6P3DRrGYFK4xM9u9Vgd2D3KmBKVZHRvkdpDYDgjLUZmLqjgPZ4PSvDhvTODsERlu1qkTu35CPTtKDI29fHfdddfUqVNBzzx+VV2z3jcYBYfb7YFm0u3x2GuZ0gIoNpbbi0JDmAIlYRpLSWcww8nOZr26seF92eDjWV4eg7ftnPYsqz1Lz5KmY0pl1q6mqL7M2ptZe3qtvS2W7md2rBiUBG2PX23YyOtMzVsEATh4MDDJG3PcCKUU8OIQEPtLLoVLQMQEl0/lhMFizlenIfeL1/DuCj6WLBZ/bqH6FCtKWzfZyKekoXyZNHKIAHyaG0xEML/6nTsPlB4KGDfEUxgxvjj5n3edNjXE+pFZbVjXQX8967amla3aabSVVB7L+HMnVxMJ45uhQV2hQ+P6CHoUMDpODZi/TOHwpEBNJtFWJnIybwzoX943iN3USbaEgFJxSuEHNWGhTEIgKAI7qw+8tmvmwdqCoDUjtgJ+f+E69ccji0L5IY7YWbQVwTR+ABoqOhaOPbylF46oyO7ILBZmlsLngfYhH4vE+i9kxXEHKnxzoDS09jJS/hGUlISmRPxQ8b7c7LFbWQqaKg7cJQ6H4+2334b3UWzqk28aOaGo2zRJ6CGlA3OBQtIEQmhXWHdCKwhCmJzKktNYajpLz2AZWfwF7peeyTKyWVY71i6XZbdn2e1YbKyFWbpxNmjCY2DEnAAmmCeUhIlR5k4PnrQnyeoy8RgddLQNBBDO4evVP+rJGmA1arCBUFM9iG6hEDB2ah9X3yOFniQiX9MroNykpCrIxjm5JhLRVtkAQJkdmI4yy4+BAovoXEYgRDADbAvl5qEk4Ffz7OlXPf3DS2HTwhtHXXntyMtCGSti61w57OKLB53ThOIhJGAT9ia6Mt6/GrDh0Hh02BcYRKxBW82PvAEhlP3KaNqLokN4lBEiYSehpjJWjjwR4GBGOREDs1VlNUoTAoSAGgHsuHt3zzcHavPVRW0iZ/aR3+E6tU2IehQI2QSEECjkRNUkZ3AqKB2wCE00mdOYOV16IZHKfKc5zJzNTGl19qK6igU/U4Qu0YwHh5wFIlR9uwz2yoNYfYqBfO+C+yE+4WWXXbZ5s7ZDs3oNGnditVqjouAngr+BvzmdrLa+RwmoQ/kewnSuHsS2yTTwwCyWiVcOf2Xh1Y4nYFzKLB0Zd6Zaj/KJmZtNCcenpr0zZF2iyWmuX6Fx4lPr5kVAj8th1H4deit3BI06TnsDISjfN2t+0pPSeCOQgd92dYdJ+k7eUbm4IYTQmFvKQ0dIAAZZnshMxMfUf+ilI2WImOu0ZjBcnLFk5unPT5r4+k0wngxx/5uyt7tOuzEvrYMyp82l/3He3QM69mkqsZvjKaSxSyRwvNBNf/VUcPL0NT/y8GKq99QAselFjE1NjzJ2lwPmpqJz7CTcqeX8Ro48obeBsKymfOWeo9Zloow8JQiB5kPA7XUvKmyrPmZ2VR9oPmSo5wAEmoYQolP/1j6ozTKYJVd6tWcW6WXGqUhnM3OKrjuZANF8p9AWxjNzIjYhIgM7Es8+lZ10vAaPxI8x3MxMnDjx4MGDzfHDLEsHQhgdHc3pYJQVwrlcrLa2zq+MqAYrWegJ09JZaibXDYITpmdz9SAnhO34aQw3gzVzZamkE5QUqVypKr38Q5lSe3XIfKjv7ijmQWgLfy79jWgE9hTtX7F7jaaIeDx/ip8E4pl6ZmK6ZjWEC9NcmYnKBkWo0CUjT7NPdSb2Iio9OqgrFNePteDiW4F1jxA5jNqNoW6PR3WBC9uO9Y8EVWhyzbrJsfzbo/EHzPme/enV056/7JLXpr44761Ve9drKnPUA8HJ5K1jr1Hnt6Ec2GzD/BX7eyNWZk2tnSwtzFQ6Z3SUT40TXTKDfDnokU+9mKX4QhNUUFNDCCYJiwlZJNl8VM5BAhwV4QeR0NMQ/rJ5cYh3o7JbShMChAAhQAg0FIGmIYSlrmi/lszEFXqwC+X8DQo0vMOhKIwh8UK6/nB+LaC20HWlUVyNJnEnhCVMsLJP/8VtUzWPDRs2LF2yRDJW1SxvVKboFu8ghBYL5oJ4gU785CEIGVzLBByQEO5GU1K5qhBUEPai0BbClBSBN4QHGq4+ZaCU4vD/5WfcPJb/gfGtO+3cnokfDF8TZ3KRnlBCpQ28GSgJxxw3XEwgDHtR0XCjYaTBXjndQgSoe1ZnBBvUq4xHKgEhDY0jKyTY8JEPfvTI7hK80jFQIwiYoWkI9Vx9hI0f7PpeW/D+lW/dPuLpCQjJEErkt7G9RoSuoZIFs/i+AeWMZkz8a/aLxpH64EP15cufRKTQZhSiEV3Dp5Gegk70qnT1aTxOz2yjLwdo8/S83czduFCvZ7EJUFNDuG6/z15UtN1wcItmJ74e2h2nWUoBJzRhoUxCgBAgBJocgfoMLdzuy53WyjLm5TzG4/UqDCiVNAeFOOUvvypMQ8+nlEDZGCwqRXiXQY3cDmzaTYjWoKxcl962fTtOmk9JCEIIJSHm4LA7PG4nwtDDqYxDf/MIFj/i5eN5PkmtCPvkm6FyoqJUwWhN3sReHTq+OHR3ZrSKdNZNmlIRhMBPGxYg9JamQCf3GCIW0KP9zDCgmnHsClReuvOPgCbKU1kDqczUTOsJICojhnWAusDYn6HSFFZzOGRCIRk0qJpe26MsPwiY8YHh4DSn379DL838xmfCLyseapz74pS7P33U2AUrzFY1tUPGX7/WltpKOn3uWx8s/QKzMHaoC+co0y74a+Nxa6Yelu5YZdDzqB7alufqJgZBblB5if4Xyx971+sZJmAbITTVmrYGf/o3EApJNDWEKAL4MDxO1PIog3tv8Y4V6olQDiFACBAChECTI6BDqho2jrfCGlNZygMt8MNTzJgiVIhM/zgfEq+Qe+dt/ZV5nPp0E99IyNx2dt1Elqztk4wdOHAAbRSUyt9D0/2FUxm7w1FaWuZy1MCzKYzpsJPQN33/JOXZaiXgIydRcrUqZJInqRARE5BmDz2h2RM3rEPGx+N2dYytJh8zCowiNAnfErPW/qwpHBbQJ+adAI98sj+GgGpf/PG98WJ6yQ4jQpiTlHlS5xMC+tQ81fQCL9dcujNwDWpMDAZ27Cu31Uuc1XesXtGxlm8MJtbHQQk29Cq5Ke1Cxw3qxIknTdB76SkbEQzzxhn3Kw3/1CNqWj4buz6y6hl4qHtvRM5Hy756feH76ABR0R/+6mnjns7tf9r1J19uXKe1Sg2oGkQa12skdhIGlQ2OQA2C3KC5wRcLvpHgP1lzCMSNOL5dD82i9fvr7effcni7pgYSxqLH52qrB3/fvhwbETU7p0xCgBAgBAiBpkWgvnuWsPoGY6l1m8tKmMvN4+wxHle9lJmlXRmgiFpkpyHjoL0gmnBgmorYaQhLCN1gRiL77nk27hZmBxOr3x3YWv2Mpj9DrIvCgoL58+cMNR/onO71eBmCA4MQcs5bd+AEXlKBCBIeiS9KkpqQCTPaZIZEgOh1bUUKjNDvJ9wblZmQ++GZxR//aXp1e66ESb3BApvSeasi8Pkf38GHoaYIeE6fk5yp+cAC0Qu+WjVbs5WcWVhZvHbfhhP0PWHcOe76Ke/cKdfXTJzT/7RuhhuK5m5aGNDQWKkFRgHTO8gW0Eo+xWatSUMukE+P8YQxmLg3hnU78Yf18w1Qutow6rq6YbukrMcm3KvOFzm/bll864cPaZZiSyHutxPz+muWIlNzK6Pm0l/uQTNEgVzaVIkvV9d9lGB5CA86U4ZfYtD53adPhdnkwm1LDeq0StGi7cvhlEW4b1ELAEdN15086eX576qLlDm3jb3GwMUoDFOX7zJyOzFn08KLTzxH2aFI4+EF7lV1PjpEDENlPp4RIAqrHGdCLoKGsF/uNvlUmTAwVVVWozQhQAgQAoRA4xFoAu4EUmM3W0tgMuoR8oD8VHJa2FSHTLPAo8wZ2MHHO/awYUPZpDPrjSEW2bm5ucY6lnptGnIid3v48OGf58yZ9/MPcdEu0D1QQX8ERH93CDEPSiyc65izIDazpDFLKn+B1iLwoDnRxwbl2fmb1v/r0xMi0+w1p1pSbj/R9uXY7QNTKkhVWB+oyDrDyjJgC40s39ieI/U2EOKJOKIwyzX1Em8s/FCvCPnQEF4+9EKDCtAiPnDmrQYV4BQHYQkCKlQFi71+3xk3BzRRnt4y5mrhPUKZecymjfcQApbbx15rsKsNQdWNFbxqYOUAAOoi5JzSY6im1Z+oDD9Jmq1EZlFlibrUmBBqBjFXd9K0Oc/+9Mra/RsN+gRfeubSRzqnh+qjxaCrpi2C/flnK7416PO6kZPVREtZf0S3wRcNOluZE5B+f8lMcM6ATOUp9Id6TzEuHDheWVOkA+xFRaam1SiMJs7qO07dAwjkgq0RR87VclIOIUAIEAJHBwJNQAihFwMhrLCbETved3jhkBC/LkH0X/7aIfyVlWHc0hJ6Qs6iPDXs8VuYFRo4/5Gb2/4vf/nLxRdfpKl+8dcK869gg3iHevDDDz+cMWOGy2lPkjzEwNUNP+qmG8NMYINwqYoAG3CHg8AbGbB3lSSHk9UkyUFOVMhycMtRMQKultcV0y293StjCnvGVyqHDLk3qthCCHz+xyzNkfLSO4ztOUKzaObK7zXzAzJ/2bIIz9oDMpWnD42/A8aByhw5jdHfmPKsppmfXOfVX9+T03KioLJITmsmJgw4U4+IXjXskptHX6XZ6tjMxNra2Gq0S0anxyfcZ4uKUeNzUl7/6ZOeaOhXHHaEGvhWgXuh6ZOnaQ6HgQbl9VOLIeccLDssp+WEsclo/w7HG9+Bcj9NmIDh6z2fPoowBgZ9YifbK1c+pbmfzaBVCxQhLohBkENcuFevfHpgJ22zbbB93DAGHqRwN76/5HPjWYDhL9ShZzANULfV5H564enxiErdw7Jdq7CXVZ1POYQAIUAIEALNgUBTEEJs6jOZHG7BWfxC+tWF/vNG/pU7h4eWVBOCE0JjZmId2rMPnjCPP+uMxx59dNasb3/77fcXXniha9dujRxM3VxmgygCFXz11VcdDntiDIuN4f5OTZLbGB9p45IlMAvcQsiUD8KjElgi4mcIF6wNtdQFI+QrQHSEl9XrTYxOeaT/bhkUtcCU0+oIwORPb9GPkA9q8YqqSn7dskidr5nz7M+vyvpqdQUs/mAf+O61L2DbHpZruHWwywieAO8/89Yvb30b/kXVTeQcmMypNxCiFC4ojT1zoM7fz7nro6mvQHkFRyNwKN8uOev040e9c80LD519h9w/JQQCK3cHia4Ggv39nR9MHnLBoE794IwHL+wBm3bBA/+7bnp4EQhnGC76Ybn39tXPB3iIwW3zzwv+aqA0g5HwrsJ96mtaA8/L+gcIzP+u/S9MEHGHwMcSwlfAoli/epOVHCrL/+vMJw0+OBgJk3320n/wb9tIOgoqiv63+DMDiXB7vH/9S09e+OCQLgNFMFKY8kIx+Nylj75+1X+M43/CtSwsPA06F0VqM3KDJuvruxgVNTVZol4nFI9eDxnKJwQIAUKgORBoKDPRkAG/r5yogK7I7BK743jMiSb9TcUAwm0Lt8ZMNbnt2LgH5zXnn+1ds6/ivgceiEU8B4WSTkPQcLNkNohVwvvvvz916lS+XPCy3BRmi2IIQ2/BrkCzPFsbg/8b5n+0L2NQpz/0y9HgNQdnhCZJGpPHEm+LBiV2q7v1d09/WxcBsMHZ6+ddcuK5IYrx9eofjL13KPtZtH3FawtmwA5TmRmQHtplEF7IxNZEg+1DylaITo4VszJHTqOT79bNnTT4fDlHM4Ew33qRvnHnbjmyo1dOd82Gx1rmN2t+HOUPSqk3d/ClR869W68UGr8A/qZXU+Tjbrxj3HXtU3L0qkHFNPPmN9ft37i9YDe0RjnJWSO6nWRMPr9cNVszTFzQMPdQgU47/wFZEvgOGfjE6fJp8yXwvOPN3z68cdSVBkNApXbvGTcjNqNBnZYvenHe2/hkge/pDY3POKw3hQFn6B/5+ZsXvf37R3p9KvNhwAktpebDLGU1kdbkfjsKduNbMRQXOPiuQDhWdbeUQwgQAoQAIdBMCMgcLsz+OT1BpAm3F5HW/daboIJwmtJ8T3whM7RtXEkISmV1eq87bckTD9/hcGLXoo9+gbBxztboA7PjEwTR9HodDsdrr70Gk1T0LDLbJTMEoIcLGygJwQmlwRGGMZaZbL6RuQj4L70gT8ArHPEEJ0ZLj93hhDMbOiIZgc9XaluNaso884+Q7EXlti//8u5v25bJpwaJENkgFuV3fvKIgU3d27993Binf5+u/HbNvg0Gch5TRYhNsqNgT9hTxibV9wxVRuqeYcZ53+dPGD90wJcb/BVdPOicKcMvPeP40cZsEDpt7D1TD4QchC0BJ9EsavVMMCvskjUW47qRk847oSUIqrEYylLgec9nj4WyxxitQvzIw+/Lg19oPwBSDi3S4HKatgPqmkfKC6DSVOfjd3PjIW3/MQGVV+/708BDVUBlOiUECAFCgBBoPAKNIoScF4ENerwWjyc73cNJEQ7uQhOErfkIIYaABaYN3AujQUvWtbtpTPuPZn07i4vi52+SKGG+oRNxiPYul6u0tPRW6SgrK0MR8vE/D65hLMwaxaxWrieUGChMAcFUZYNAzgib7OAy+TpzWqs/3JHRZD1TR82DAB6TG2/2k4fFCtXYdYdcU07gbrjz47//8Ocvck5jElh+XfvuXbALNegEAbL/8+P/GVQwKMIC8fmfXzeocKwVYX3/wMxpxs5X9DBBWwSOD6MtCPlTs1+q+x7RGyCEfMgAZTI4oWZdbFn8Y886zaJWz4Tk9372eFC+8cT5Dxh7amn5iSAY4JVv3b71yM4mGRper656646gduDKseBrVHmqlzbwYKTpbEbdD9mLqjGhHEKAECAEmhWB8AkhX1VI/Av6skTm6NnD6xH0h9uLghFJPTcpIfLr/wAIOgcD83NOh3f0iNoln9z2++9LZMVgeIsetJIbeiTPoWCD77777tChQ/GOgeVSq5nlwk0MCKGVqwclMgyKCktRCBY+qtoXG1D7B/bAaDTG/t0Gx6xD2YhzoV2fciMGAT3XMgECIg54QE4op9DX3fvZY9B4+O+OUBpp1IHx4cTXbgxFfffx8q/f+i0kA7OAYf75/X8btPQMaH5UngL2ez59zMBZiN6scRWMHWbqNUT+x8u/uu/zxxuj6UUnUBbd8dHfjYOGvzTvbQMxWrcIbBDKUjBDAzHg5fWlyf/U9Jhi0Kq5i2CLe/mbt85rtDnlt2t/RnCaoKw4YDqIRmgMmqgfEIFQ2YmmKamygkjP2/SbOpNyCAFCgBAgBJoPgTCpC1+ACm0czBa93rR4V3IeDwWBQ9ro5qdqOOdaLbya8AALkswvmdXHQE3MFsPuvDj/27cfQEAIeSQIyeUMdohqAe9gg8XFxd98882IESNuvvnmHTvqOXXEuPHRLDuJ80DoBrmSEM5OOROOMvHAg011SDxQmoMA0WP2Vnsr3lxZ9fj6TsEn1lRSUD+NQOC7tXOCLr7h0eHnDQvCHgSbCS974+YQzUcDRoHi7snvp09645YQTdHQ/Pk5rz8+6zlQgoCuDE6xew2B4AwqHLNFWNlf/969+0sOhY7A7qJ9L8x5I/T66prQKl/62lTEOFEXhZKDOOmT3rgZrm6NK6/cs+7f4eqTjXtuklKE3Xt5/jvGXWUnZYITtozDG2NJlKUSG3/47k8f3Z6/W5kfYhqPIW754EFYiobxJAIqylWqgDTqcY00hPWj1avbIgdWFftKDmoWUSYhQAgQAoRAMyEgrDwb1jlnKH42yHkUM3WNrWI8IJ90KB+7CtbC34U2y1elYeNp1A7sB+fJmeyU3GU3Tb3h7f+9l57GHWELbSEElNWGck9c6vqHyBE1YRf65ptvwpXovn373G63RmUYhkazhDifehBKQtiOcleiXHUZKFv9cUI888Wj9+HnNcEriCWq/M/dJdPWtt9QresWIsTeqVqLIQCy99OGXyeccIbBiLPW/hyUNBo0RxH8ud/0/gPwOYGtXwhSJ9wMGjTBY/4NB7eCp32y/Oswhv50xbfwQX/T6KvO7X+6sYsI7CV75Zf/zaXn/foXA6aVE16++poREy8bfD4YiH5Fll9ROGPx5+8v/SIMY9GAbsElbpxx/7Cugy4cePapvU82voiiLXgIHjp8svwbxAMI6E3vFLsctx7e8cBZt/XM6aZXpxXz4V1zYKd+cCFjIAN2VMJh78NfPW1Qp1WK8K3y88YF5/Q79aJB55yY1y8oa6112lfuWYtdzY18NDN34wIEPjGYMn4u/zywRa8CmB52KcMDql4F5NPXhQE4VEQIEAKEQDMhYOr9yKiGdo2detyCEZyQJ2A2abq7984b+hwy+0wYo3jYPXMS30zo40haI3De1FDu5KNJzFvLvKXMW8Y81T63m4xVVbCdW9j3c9ga80V/f+TRXr17WywWEDw1neMD+13OyKUVFRWgf6tXr/7555/nzZsnaxrlCgFz6JXDHr2QZbVn2Tkssx1Lx4ytcYgqYWIJPLYEd7LKhwloZXjqn51Co8oJoQnOYyo3Hqz5YEP8T6XZTgSoh/QN69lwWCpsZgSwfppx/UsGg1z4ynUhbjU06EQugj+Jfrm9hnc7sWNablp8Slp8akpcUq2jtri6tLiqrLCyaM3ePxfv+MPAeYzcVdAE3NmP7DYYcep6ZHdNiU1Kik1wuJyV9ur9xQfhPeK3bUubar9TUEmOggoIFjKk84BBef375vbEVROsHt4+wQM3HdqOXaZLd/6h93XUmOnDNhKRLXq1694rp0dOciYcyeCy4i6CiS9GP1h6ZFv+TtyfUKmF8exACIZIJ8O7ntQtK69Daru46DiEnYBv0hqnvcZRA6vFAyWH95UcmLV2TmNmcSy3BZ4ISTKky4CsxMz0hJTUuBSEUkQQPyj0sMnzcFn+sl2r8dwhDJXgsYwqzZ0QOHoQOOL0zq9IiE9qQ0tHbNeqqa1il6aafLaAR8/ViNiZNJgQ8hWJQj2ItNlqfnP0n0PTy60mHn9COuD0JZ6Z4rgvUE4L4WYGBMlfqAcGLw9Wx6fZczBPCX/BgtLfW2U527ebHdrDpn3Klu2xTZ48+corrxw4cGBcXJzZbJY/BpBfHLjboAncu3fvxo0bFy5cuHz58k2bNnEJJK6FOv6Otf+edTy7/jSW3Y5l5rCMbJaOJ/umeBOngpg15o5Z8760Gks9a3VfL4/Tw1o3Kyo8VPzyooxvXF2c4NvoEFORXlo9U16EIrDsb9/rRbvGQu2qtylMX4ReOBKLECAECAFCgBBo2wjA0O3r0lhLnNXn+7ENzAaBA2oTHebTEdObjhZCoOEmo4K1CL4E0uJlUS7nwOQKS72Ngm7mrWKwImVQ5YENRjMvQvVhY6FwuKJjWsl7lnrX5lFKRNBDPa4FMdxuHv7Ba2Hj+7EFW2rhA+bjjz/OysrKyclJTEyMj48HM4T9Z7V01NTUlJSUQCtYXl5eWVkp00UuQTAqKOTolM6Hg6Uowk5IrcDW0NRTX3ZMRymnNDvpTXQiv/vz8NcD/aeXVbrs5fv21n66IfWnit6HzfE87iG6RmcQT4JdKbPcDyUiEIHhXU/UY4OQVs9xfwROhEQiBAgBQoAQIAQIgTaGgMXE+sfaV9VaYuPbxNIRi2mHw24aBBULHS2HQMMJoURJJE4i8RKJ8Ug76LjQfmKDJDhhNfPC8wQIE6K2g8LhBVqIEeF5RZBDvIuc+lvvZErmI1PiDydC/gNdgWea63K8zOXiXAnb+Tpnsw4pbH8pq62thRUodID+VvX+ik+FoH8hkkBl+6wkzgY5R5Okw9Ccs3ER4GzVLyj/608rG/vSksWtF7QZdQCXkzG711PlsFcdOeT6fV3M2wXd9selMu7sVNoH6UNDaowWylONzikrIhDAbXbfmbfoiQJXLo13GKjXOeUTAoQAIUAIEAKEACFg6mHzOr01f1bH2uIinBPCp2ONs9o7Is6UHg5DoWsdNgINh1tma2JM8HiLZWNJbP/UapiMquSQqI6P7UiF3KoU9fAOOiXIIaidTQpdCDNLUESQPf/h60/drVvSpNWJAmoF3uRxc3pmi2LY4AdCiMOA6RkU+YfX/Yvgh5kJdVQQQ0M/abaAuUEwvBw+9qvdAaqBvDq9nAqCBPI0b+Ktra5yHjng2bTV8uGRjmvNGQ4o9x3oF6pHH/2DzPgkc/JJbFAb24jLvWnUlb3b9dAT6+3fPsJmKr1SyicECAFCgBAgBAgBQiAMBByLS71lWGcqjkRvjctuktQQXreFuaTNTYryUJL+BaluXbFkD2+VijUui3Ga4l1sg5NtqBvC3D466gQjZ1R1VSkVLgINJ4S4WlKAPln15XF5X1ra/v9O3caD8OGQFIc+rua/cdCI3xxcn4bLLe4W6MRAnLhOTSKHsCa1wXmnyYzA7th5CMHqqw1Rix+obWeeCuZBgPhqkYV3l5O5nUKXxkA5MxPlkmZJxFhZHGisdL+DCrpdzGGHctJpMtdCbAAgKQkFuYV2VKrH5+n2ggFy+ife8aEED3S6XM6aSndhAdu31zx/d8q3ro4V0TY47DFZ0I/qMwU2CGDoiHgE4Jzj1rHwHnmZnqQINvDZym/1SimfECAECAFCgBAgBAiB8BDwFjm8RVhwBh5iCS7lwogvnEPRg27zUOpoN8ZWszJVSTwtfFWYNHVGwwmh0E/5CB8XB8ml5WnXfdL5gR67E1N5aD6QGEFaoElDgueYuDEn0r4w7ojnHiXtwfPRJZBDvMCmQPNi4IrGBG80DGpDiVOJvlCB768Dlapi3govN0b13W8gYzU13GQURJXL5WXRCi1jUyPG+7MhzgQ4H3SSklrS6WD2WkzTY7NhCpAACktIC9dIkq2sV3g6hWJQ1gdCKwgyDCborqxgxfmsIJ/l72dvlnTabMtAsEEwR3iOaQ7Jqc9mQgC7BG8bey1c89ud9uS4xNyUdif3GBIbhWccusf0eW858SyBDkKAECAECAFCgBAgBAgBQqD1EGg4IZRlBWHxPwGAlmx1dPY9W+OGsvy+seWZUQ4bfG1KVJAzQNA/vFv5O08gjDsS0ntUNE9ES++oxpWHPKSE3csqpG2HfIchp1X8wGAgjfBwCirle+YB+mcHG6xiNdWsFpwQSkK3nxbKcjZDQmKdnHxiOLBBMFKEp+feZUBnY+wms4eZ7CCEYHXcyw0/0AIkkL+8Xrfb5bHbvRC7rJSVlbDiArbsSOJ3rg75UbHM5eE2ojIZlBNSL7ygfo6UTW+tjwC435Thl4Qux4KtS75fNzf0+lSTECAECAFCgBAgBAgBQoAQaA4EGk4IOSnBVjaJ4/j4ieRQxcMOmuO/snT7ssbdqaSsj6e4p7UiK85tMXssFq+gfz4SKNhgFCdRnA3iZWPRMSwmltlsDBQR9X30CdahSlcy9QFAJZDAarDBKukdnLCWOWCD6WFVoGM4fEJKoirbypxKJl7gduhO85Aro4LoEOM6mQvME2zQyV+SvSjXgqIbt8sbFeOwWh0cG+5KBwc0hB439oq5pMq1XJ9ZXcEqKlhpCSspNn1Tkr0our0JcmMImQ1iLCEeT/iSdQLKUtVlUarNIIDgYBEY6rrNwEeCEgKEACFACBAChIAhAtCn6C1sDdtFZGEUmYw2+3UJgxD6qCDnP9gsx98FR/SCzHjdUI6Z9tqS93iS5jJPkt2Z4qjO9VZ1NFXnmqtTot3gfpwpSZwQhDDKymLABqM5JwQbBC2MjZPIoc1nUyo4UQAMnHe5uZUmFIPVldK7xAlrqzk3A0M7XM5HQTWZwvEeBNeCsFazOcpsjrb4XlE8YUJOlNkUZTHBPy+awX+Ly+O2Q5fndlc5nRV2V6XD64TZJz8QH7CwkqWlcZ0kVJSgtVAPYjTMnu8ndHAHpBYzMuEShhNUmLPymuCrtfwdJBZssLyU7SuP+aSm40FrAnDz1lFBiMg1gXzuPOknf+KvfCpEofe2hgDifd/24UOIGd3WBCd5CQFCgBAgBAgBQqCNIJAWxY5wVx1HwWFKbThbOQqm3bJTaDDE4CeSqxOuJMQ/Oc2pF6cvnCVypyrwl+I1F3qiC6zR28yIneC1Op3tqmo6VlaCH+ZEO5OjXDaLOybKy+1FQQijmU3SEIIfClUhEsjnppiI9Yf+8ELH4uXx6eVACAUnrEaikuEdr/wStuYAvJZaY1JtsR2TY9JjzTar2WoGD/S90BXYF9/gKL1DVs4dpTdYpPJgEOIdeTyXD+r0eBwuZ5ndXlBtL6gCOdxT6urSziOMRbmxq9g4CB2gg5vI8hyxPRKAuDkhBE2110jSSiS2opztLLN9bOpaYkGQRoU8QFBMlifqpTm4Ul49lijJSG9tBYHS6rJbPnhw3f5NbUVgkpMQIAQIAUKAECAE2hwCUX0THHtrvVVt3pO5KSPK2iO+zeHf5gRuMCHkMwRj4dQE79xYVKT5djlQKbAsaNGgpuYb6iRtNfgUFGdwr2m27DUl7PHEg2LZPN7oGleSy97NXHWctTwvqiY+llVItqOxIITQFkrkEApDbkEq7UIEGxIKP4zHHXvCXNPObUSFvagwHIUpJpSE7yyzRPXOTOuVYU2EJ1AIw9V9/F15SAyQkz04/tQ8pFacC3JHNXw65mhrdIYlOiMusWc6cvaxUpfzEJSB1lpptyMIITSBTi4ttIXiJTrm+RJRFAauVZXMUcMWlafMtubZEbMQA/E36b+c9msL61grn4g0F6mOpsiUGeEIzN208PFvn4e9aITLSeIRAoQAIUAIEAKEQJtGwBRvjRqfySo1fNd5auK83kAjTI8dbvDqL5X1528yecwxYndWXSWPy+p1wRlkqIcpSnK6oapusjrN0XWdm1LhhTJUwVSdUUaoCIRDCMFeoDMDMeE0S+KB4C0wjKxL454CzwIz5LRQojHQvCEh8Uck7B5Wy6LKrFEHWMKvrqw0l6NzTRX2HHaNrk6LcXIeaGOCGUJzyB3PSB5KfVRICnsh9u8Jq1EoCauquP5tc03C5/lp1SOTUhNjuKdPkCxJDah1iyvurTpKyIXk88JcuNjSFPDOJYdrGxFznqtGzR7TPmtSpavAYndBGYiaQh7oM4VuEIQQ7XhXknUr7Ejt8ERaw6qgyawy/VadPteaC0+iuMWF3o8zQi4q/1tn2ip0mLwjKV+q60uHen2pXisjgFtqb8mBRdtWIMLE1iM7W1kaGp4QIAQIAUKAECAEjg0EzAkWhpfqMPuCZgcUaMSoCKgR7BQ9hBnKQtWzCGSnyqaMZkPA1PuRUeF17jOt5GRJMrD0UT6/sSXPlIpAiYSSDQnJGFPiV/5qUhUzKqMfq9ni9vR1F4+yFHRNcnihGIQdaQzfUii8knKWBXbEm/iUhL4teWBZNWxDdeJntu6ogGFNFqjYJEKGN9AqHNIbTwQcGNd/cCHUovJ5ccklRaFEESVh0d8o75EzY/PBXblfHAgpAmnAwNVvLCrN16c5hHFpjZ257ey3yrQfbHm8yM9XfaJKrI9LG8AMldatghn6Baa/kYMA2Hp2YkaCLSHRFo8IhFEWa5W9BtsF9xTtx3vkyEmSEAKEACFACBAChAAhQAgQAkoEwieE6EUwpXqb7pDF9+BJRX6KyE/lTIlcyRSLF0kd8T8S0QL9sXg9OebaXp6yftFl2VF2WJDCCQ3cz8BNC9+YJ4nPOaG0MQ9Wo85attKTPtvayYVCn7ElmJPQtvl0bso5a6QVUumJiiqQUBJXEtXL4wxe5NnTP7oM4RKFgxyoBwUb9BFXVISbGVi3uri0FdXmuaz9CmsmehKqS6kaZPYrAKFQRRb+Cd2gkhnKaQ3pKYsQIAQIAUKAECAECAFCgBAgBAiBcBBoFCHEgDK1q+NRgTxQ4nkKxsXbKMiVrwepL98brDJRAb5Avd6OropB3qKeMVUJFhhnekG38BKtxZ69Wpdlnjt7eVx7CKBUtfkJoZ8ZgkcKlibGQBpCiBxZtkDJffMTPLCenBIxRDQJOMId6zo4wFQSa3Lx3YM8lKLvJcaBUAhE4WKW7Y742VEdy602MS4fmVfFm/QfpzLlE5wWBVIOryEXoVM6CAFCgBAgBAgBQoAQIAQIAUKAEGgiBBpLCIUYEhuUaJ7SwNLP+niBT0PoU7JxPiWVcmaIQ/yR0lIvIpO/c7rkZQlWd4qzNs9T0dlbmc5qsUEQu/xKvVE7LcnrozNKzDF8Px5XHvJ/EoOSeuDMyp+jJGCie3lQDFlfVOnULypOuGB+uaRT/wmyMRxLYc5sZ2VXyOatTTS5orChkFuumqtM1kKzbY834ZAtsdQUzXNxQCRJxjpRJSGFqEI3iCLlKc+kgxAgBAgBQoAQIAQIAUKAECAECIGmRqBpCCGk4hxJolV1qkJxKr2jSK4gpXkLqb70h9eRcqTpcT5W/4AujtuCcpWh1+TxCH7kxrnV7HF7OHfCgQp4x38Fv+K8Ssqp07aJCtIY/E2PwXKRuIS8jq+yT2CfrLKQUinvHy/0hoCCkvC8HCJZzXxTI/L5uBLN40IKqeqJGkAFeR10KDeR+qQ3QoAQIAQIAUKAECAECAFCgBAgBJoQgXC8jGoOzymOzwxT+gMWhAM0CLpBUYA0p1ggdyIehThFJSkhKvM2kodPzrpkysXzeO/8L0xJLaJvZKGGme8sVJSLij7G5SdUUgWUiG78bIzzNN7WL5gQT/nuExXDcFnqyQm9pV9CSQ6Uow66tnBzV36gZxzcxQ1klsTi7E7KFGfSO2+CTHWOUG9K1emNECAECAFCgBAgBAgBQoAQIAQIgeZAoMkIoRCOkxuJN/EE6JTYpgfmJDGvOuqF2jI55GnBk6RM0RGv788UOXiX+B0/4xRKOjjFktJ4kxL8Df8V+fU0b75m/taIloGBJL5XL4HyAJbIczjh46yPJ/hhEsRWnIg8v1y81PdfkkfUEVKJOpA7QFTOAKXKsvCiFb0TAoQAIUAIEAKEACFACBAChAAh0DwINDEhFEJyZiP4ELiTklmhWJz6E6jno1e+P35tm/Fs/ZwKtTiJEn+khG9oKTcUfqUrKid4ErUVZFVMBHlczjohMSZnvTqHxPB4dX7gxJ+QTnkGT0j2rzzpS4hKvIQOQoAQIAQIAUKAECAECAFCgBAgBJoVgWYhhLLEnPNwgiMxK7xz89H6nJCfCkJVx7KkOlosy8eoeLmPZUk8y3cqlfI336B+xiVVD/pWT1SJtUIuLj3+cFnEFCThRV9+HihmiDxeX83mRJY/3z+KJLcQVerbRw5Fz/ROCBAChAAhQAgQAoQAIUAIEAKEQIsg0LyEUJ6Cj/BYJGLEqZSf/nFnKwFKQlArtPNTqLou5JSUkIiWj4ApSFfjmZWfs9VngJwW+kUSVFA+9cvlL/afi79yLvoVab+0/vP69emMECAECAFCgBAgBAgBQoAQIAQIgZZCoIUIoXI6PiLkY0r8D/5Lhpe+LIkQKlso0v4qvJWPYClKmzQZIKdfSD5ynYRCLSgoonJ0pWySzM0trXJwShMChAAhQAgQAoQAIUAIEAKEACEQCgKtQAg1xarHlxSsT7Nya2XWCVknoUjVnbeWbDQuIUAIEAKEACFACBAChAAhQAgQAg1FQMTMa2grqk8IEAKEACFACBAChAAhQAgQAoQAIdDmESBC2OYvIU2AECAECAFCgBAgBAgBQoAQIAQIgfAQIEIYHm7UihAgBAgBQoAQIAQIAUKAECAECIE2jwARwjZ/CWkChAAhQAgQAoQAIUAIEAKEACFACISHABHC8HCjVoQAIUAIEAKEACFACBAChAAhQAi0eQSIELb5S0gTIAQIAUKAECAECAFCgBAgBAgBQiA8BIgQhocbtSIECAFCgBAgBAgBQoAQIAQIAUKgzSNAhLDNX0KaACFACBAChAAhQAgQAoQAIUAIEALhIUCEMDzcqBUhQAgQAoQAIUAIEAKEACFACBACbR4BIoRt/hLSBAgBQoAQIAQIAUKAECAECAFCgBAIDwEihOHhRq0IAUKAECAECAFCgBAgBAgBQoAQaPMIECFs85eQJkAIEAKEACFACBAChAAhQAgQAoRAeAgQIQwPN2pFCBAChAAhQAgQAoQAIUAIEAKEQJtHgAhhm7+ENAFCgBAgBAgBQoAQIAQIAUKAECAEwkOACGF4uFErQoAQIAQIAUKAECAECAFCgBAgBNo8AkQI2/wlpAkQmYjacQAAQABJREFUAoQAIUAIEAKEACFACBAChAAhEB4CRAjDw41aEQKEACFACBAChAAhQAgQAoQAIdDmESBC2OYvIU2AECAECAFCgBAgBAgBQoAQIAQIgfAQIEIYHm7UihAgBAgBQoAQIAQIAUKAECAECIE2jwARwjZ/CWkChAAhQAgQAoQAIUAIEAKEACFACISHABHC8HCjVoQAIUAIEAKEACFACBAChAAhQAi0eQSIELb5S0gTIAQIAUKAECAECAFCgBAgBAgBQiA8BIgQhocbtSIECAFCgBAgBAgBQoAQIAQIAUKgzSNAhLDNX0KaACFACBAChAAhQAgQAoQAIUAIEALhIUCEMDzcqBUhQAgQAoQAIUAIEAKEACFACBACbR4BIoRt/hLSBAgBQoAQIAQIAUKAECAECAFCgBAIDwEihOHhRq0IAUKAECAECAFCgBAgBAgBQoAQaPMIECFs85eQJkAIEAKEACFACBAChAAhQAgQAoRAeAgQIQwPN2pFCBAChAAhQAgQAoQAIUAIEAKEQJtHgAhhm7+ENAFCgBAgBAgBQoAQIAQIAUKAECAEwkOACGF4uFErQoAQIAQIAUKAECAECAFCgBAgBNo8AtY2PwOawFGEgMlkirJEYUJOt9Pr9R5FM6OpNAqBaGs02rvcLo/X09CO0LZdclaUxZpfXlheW6lunmhLyE7KcLpdR8oLap12dQXKiQQEcAVNJrPX68GVaow8el8yevmNGauF21rNFrPZgm9OfH+GMnQTTlnv6ujlhyKeuo74HnB73HgpS/XylXUoTQgQAoQAIWCAQJsnhJ3Scgsri6sdNQaTpKK2gsDIboPfmPIMpL1xxv2/b1/eVsQmOZsVgS4Znb6/830M8fis5z5d8a1yrLjo2IyEtL3FB5SZcjonKfP+M28d1/vkGIlPIn9P8f5bP3hoV+FeUWdgp773nH4T3s0mbiuBVeaafRumvHMnPYyQMYycxIzrXzqhw/Erdq+5+p2/hCgV7g3UxA+Esr7el4xevrJthKf/ffHfx/cbh/mO+s+FoYgqTxmQAthQmljMFvzm4hMXQMnE1Vm7f+PkN25R9qOXr6wTYhqsb80/5qDyW7999Pyc1+VWevlyBUoQAoQAIUAIBEWgdQhhXnqHK4ZehEXYJyu+3p6/O6iUehVuOOVyrOcKKoomvHx1WU2FXjXKDwOBprpGYQxNTdoEAqN6DBt13DCI+u8fX26k0ia8+SbExM/+ywdY9GN1iDViQCfp8akf3/hqdlIm8kHw7C6HLSomJTZJZo9Duwx6Y8p/ZI00Y9BOW8trK4gNBiDZyFN81YPSHyw9/M6iTxrZVYOan5jX/91r/4uref3/7l65Z12D2lJlPQRevfLpk7sPWbR9xdQZ9+nVoXw1Anh0NXXUFYkxCUt2rJy3+Xd1BcohBAgBQqB1EWgFQnha71H/uuhBLOYw89+2LWsMIRzceQA6yUxM75HVhX7ym/BOasJr1IRSUVcRggAsze4Yd91No65CAiKBj7UKIeya2UmogEZ2H6wmhHedPhVsEHwA4n28/GsYEeCLIjclR9ZsPHb+vWCDMCJ98Isnf9+2zOVxd83IixCEjw4xYIv774sfHtNzBKaz4eCWFiaEAzr2hQklhh7cZSD9OjTVHSV+c4d1HdRUHR4L/XTP6jx90jQ8FsFk8WSKCOGxcNFpjoRAm0OgRQkhrE3uPv3G60ZOaiqYlu1cdUqPodAQbj2ys6n6PMb7afJrdIzjefRNPyUu+dlLHxnRbXCrT21HwR589kHzoK8IEAa38fi+45A5Z9PCt3//WJSiMl4iDePDvLQOSL84761ftywWmTsL94gEvTcegV453adPntYxtX3juwqvhz/2rBXPKZbvWh1eD9RKjQB+c2EXsGTnH+oiytFE4Ox+pz5x/v3QEGqWtonM966bvqdo/z++4bs56CAECIGjFYGWI4R4lv/cxEfF80VsBLps8ITGY4pHznM2LiyqKqE9hI0HEz00xzVqEsGokwhBoF9ur/9OmgYfLTXO2jkbFkwYcGYrClZlrx4//QrctLIVqCxMl4yOYgWm5oqizvHte4qEXgW5K0qEgcCFA8f/47x7sHVzX8nBfcUHWuXxAbaDnvrcpRA+YA9hGNOhJjICt330N7GHUM6hhB4CUFD/dfztMJlGhYVbl/bI7opvTr3KEZsP9SaWbVBsRqyEJBghQAg0CQItFHZiUKd+X9zylvhagYHW278HbvgJezJYcBAbDBs9ZcPmu0bKUSjddhGYNPj8D254GWuaQ2X5V751+/LQvFA063zx2VezQYyYGpcixoVnUU0B0uJ9FWSdoWY1ymwoArDChT7kyQsfBBuEn5LLXr+5sKKeT5eGdtiY+qCCxAYbA6C6LSyu4ZNJtrtWV6AcgQDs1d+//iXBBt9fOvPWDx9qo8iMPo6bfNNBCBACRz0CLaQhHNJlICy78isK7/jo4fUHNnfLbKG9OlidwGYpwRbncDmx8oMu8ai/omFPsGWuEfx25CRlpcQlOdzOg6VHKrTCAASdApQ/oCW2KBtWewgVELS+qJCVmJEcl+R2uwsqixo0Lu6ivPRc+EDCcMVVpSEOd5RVw3bB048fBShW7V3/l48fwUdpQMc+TT5HgNw+JRtWqWXV5YfKjmBfH4YIw8uL7FZUb+UqVxBDNPlEjtkOk2wJo48bjulj3+ZTs18EvCIkwFEPSGyUDd8wtuiYitoq3LoNumnREL+PiBWBRy0hfjUB55zkLHxeDpcXlFaXCXi9rE2G6oEmLTspCz/TtQ77ofJ8x1GhjIIetW9uL1zTx2c9/+Wq2bhA8ndOE34Wwr7r8KnEbyh2+eIXDQ6f9ETCFz6+9vVKmyofVh7S/e/CBwd2HyF2G94POlxPp8an4OdMuYPAYMTk2CT8JOE6Hi4rqLRXqWtCjKykDMQrgilEiHrU8CTH0Ljc+NTHx8Th93F/6aEGfcmoJY+QHDw6wQ2A7z18lak/+1gxokJqXHJ5TeXekgPNN+UQl3nwfoJLAKnwrLlBhALfcu2Ss5NiE4urSo6UF6oDaOHiokJstK2oshhQtMrVaSFC+NqCGVjEz1jyuXhe21RLhJtHT5ky/BIAN/qZiwMiL8HPxHUnT4ZOUvgVEOCWVJct3bnqh/Xz5m76rVXgjuRBm+kayVPu36H3jaOugjcC5W4KqHd+2vDrC3PekKsZJ07K63/L2GuUl/VA6aGPl339/tIvAm4A0Q8+5Gf3G3dmnzGD8vpjCSV3vj1/F5p8vnKWnCMnEPeib/ue07574Yc/f8E37x3jrp940nlwUIkKWK4JIzS58rGTwBfxvZ8/gQ3AL81/W2zNArZNOH1cndvGXXte/9PBBkW3+IXAvfHfuW/i2YHmQBBgwf1foGjGkpm4e5HAZYILk7E9Rwr3p8h5/rLHEL1QNP9q9Y/vLvrktN6nIBDF0C4DReav980UCbxjkwx9M8hohJfAb+Tdnz7aLauz/OFqqm97A3nw3QKnHVhwbzq8/bYPHxLBJOFF9oXLHkOruz99bNmuVQbNG1PUPavLBQPPAgeGlTLomegKiuv5mxdhe+r+kkMBnQup8E1y8as3YFVx3cjJF594TofUdqIaPmUbD219Y+EH2AoR0FA+hXffm8dMwSZY4dIJ+XDYg42yP/75C557ytUamUDnT134ED5HHq/3sW+fm7vJJ4/4evzz4BZEBmrkENDSw7R4XK+T+7Q/Tr5J8N2yau+6V3+d0dZ3fkI9/uT303FDrt23QQAVbW2yL8yG3nVipTRr3ZynZr8EHgjf7PgOxAJUCIZV2derf8RXqNLYCgvfa0ZOnDT4AmFMgft28YPfylf8+/XzMDv5NPSE/KV9wf9dBw3BxYPOuXrEpZiO6AHP7/DA8aX576zcvVazzzB+0EU/IBUA4dTeJ4N7yD1jQfj7tuVP/fCS/EhF3N7//H767PXzhnc98dax18BZsaiPz+by3atfnPf26r1/IgeSXH/y5EtPOg94igq4dRduW/rsj68iuJE8hJwIQ3KlMH3a97xt7DVY1qIf0SfY6ffr5uFLBrOQR2lQApd41h3v4WsT+ybunzlNry0QeGnyP1H62oL3sYZH4rmJjw3vOkh8iWm2Auv+8ta3UfTfuW99trLutoHw4icb335oPnnIBVOGXwqH9qITfG/P2/TbMz+9ihsDOXhGAN918AWAZZiogCl/tfqH6XPfUt6ooqih7yEu80S1J757Ad+usKG789TrT+p8gvw9D4+YAGTmH9+pR1d+z2PFe/u4a/Fdh4cLoiZ+JfGQ6OX574pVK77Mbxp9FfyhwPeBqIBnNO8u+vTDZV+qe27WnBYihJiDMnCQDGgj5wagxfJR/mkUHd429lp8eEQaXzG4jfDdh58cPGYY33cs7jNa9mki3xzXSAyED/YtY65WD4rHqN0yO6vzNXNuHXMNPleiCI/i8DAJDzhzU9rdd+Yt+Hm75YMH1Q/XX7niKXyHiibKOwG/QI9PuA/E79Fvnw0YC33ipmqfkoNfjjenPNszp5tcYbc/fp2cc0wl8KupvEMQA7uppg81/v+umy7/suIDazVbcSEuOfHcU3ufomdthU+9+PjLjxjwLfz8xMeUUglvxiIH1a4dOenakZcpK8j8E5lRTbdiUw5xrKWxpMNLnnUT3idyn8oEtma9ftUzybGJ8Al032ePCzaICqBb4uIioazfhGkoyT+84f/kXx9srAUlgyS4087tf9ro44Zd/uatcH2kHFFIBcFwt798+b96t+uBUqw10Rat0BVWfiC3/8/eWYBbVWxx/NGXRrobSQlBuhsJ6ZRufDTyVAQRFJEQpLsFRBAF6W6Q7pLu7gZ5v3sHxu2JffeJe24tvvNdZs+e/M/smVWzBpp47Prpxowq3KVs6zbFP1ZhtK+oU2L7xSQL0x4x2b0n9+2zuBfD8qhOCEP3a26QotTyyF/3itW5IEOXdf5JlwNhBJHH1wo+fMX50+b57NdvF+/3v3Uw9P6bu/N3Y+O9Rfa4MeuYWkw55gmHwKc0G6YobDbQiBEjITFnp+MGr7LZijWZ3EmJ7Gk2Kdlwdfv116RiYkZ9Q6PrBBYDetFmC+5ZsQMed8jI/H/68hlEGgQx03hGixGDlo+ZtvVn+zLd2NApBCkhDiw0A6yLhSAsmin/w4UPdYya3vQdNvjzSh3Vp823SV7CzMxpzXN2mvMl55OnNh+G3ywyQlfACiKLBKIyWYrS/vrj2529dUGXqQJutFw3htr7VuuuuAUoHyYSdfGx4ImjROZC9cb7X71mU52VR/ZZGO/KOctWyFFq4LJRzvRd1XNXZPIwRqvfSqlYc4gx4cqYVySgDX5Rohpbokefda9nxU+Q1PMWAFnKWBDAkMYUSP8+PYJKH/fx96qQAK7J/1Iouty4YO18aXI1mNjBXpdorCjQsMI2UDJPJXs3SQYOoXxZubOaD2wxtJYwx2s5HwEj131eXxtTI/W90H6EfXCVaROkokm0OULA2HEnVutijfKkfq/ZlM4QOV9W6aIUV5SM2IjxpWG9KndGrtpv8Q+B9sWLCYJqp/RiE10tCmmx4gYRe6BeQODKVKYQeA+mGvKG2TsWulqmpPcEAdRKihtEDz5hw8ytp3ZhpsImxOfEcmYiCzdW2iB/DcUNouMdtmo8hse8ZdVoWbQhWmKENwNqfo5BsjEL4ZVHNmRJlvG3vctWH9185PIJVhY+NmQ8/av3hAlBvIfAicXdJldAyQkH1e4NN7j11E4UUKeun4sTPZa9lt8+o8S4igCSmvFNBiluEDvDyZtmX753jUJg9Wvnq8z4jm44wGKZm//6s8CAyiRGEQ1VTaDz3N5MGJWd5ZiFQOkSWSKQTRJf7PvqWgP55PkTlVL+hhYEcBU7uelQeDB0cS2mdnNbWO5efw9cPIqJ45kb59G94H5Tma9DZbYq1gi5A8TE5x92bDW9h8PCZ7QcwQxfsGcJ+9Hxq6dYW6DaMc/7/MNOaMv/W6o5CyOGDMa8yJgVN4j8eMDSEfgpgQpB6I4qg0tWELd7y6D9fxU/gUyhamw3gkhKDV1L+99Nkv63fcsJnL55nm0aMguK8MvKXSANv/iw05qjm02ITiMy4Srs9qyDgRnXeBBzhsmD8QVcBERttmTvdizTArUzNCsSigYT2yt6iSPiai2d13Y8Ohz8ynaZ20fjrDQb+tGNABwOtDJDjz78wMUjtIppz+gj8uDDgVfkqOqGE9tsSnZjQ8+VKvuIBt9AcENtT982b8Wh9ZfuXo0dLWbqBCkQFmOIaEPKU2PFHKWgT1C8D1s9EZaJztK2OvmqdSnrr9Wn5WduXgBMtIho5o9d/QvE0Imhh0DbT0q++rYze3reclUC3FqjWPGv3r8+cu1U4FLKTNjpTmVacD0Y9fKlYJRhU53Fx593LQJzwPkodwWH1wKxO5fPXoLSdpzZq/ZliyWbJ6PN8DxLDqyetHk2qx+JWQzRv1XNVQ7kv6nxWfqEqWNGizl63bSFe5aqeuEhWRnypM5BALbQK45IEsW2ROZVy10enFmj0MfCVrAoseoWzpCPWcpdMizaXcu1HbxijMMuT2s+nFoQ8EGFohQlDfpAOECkM9i7DazVi8nGmLLSoh3lEiwmWJGM+ZHHQdzitYFcfO8OSw6KyDDIEGKCAlKMGYoF47KFdSI/bcgUFGhKmfYI8J13LtuKeOT3jSd11BQb0imkaBZVtdjc96jQjkK4uJJhRaSkKmJLG7hsJI+QXwjncGYI/2ZsA5Yw/IzTAMILY6RuP/f9pZ2/nSqLnUOGsE6+Kojlxm+ciX2CKvBSOD08aIQzSMIs7kp+xuY6dOU4XQfGwICPu/MBNaz6Y2AmKC3xk+dPVTkEbPTGSrKojesePHvkoaxRN1gCPkYAIcKU5sMgIODEmk/tqgyNfNkGFpOPRjWzOfXEEgdxwCWZ2JEWTJ8XqTZrnX2rWBiHrhxvJGvYs37ft4LsiMah1LFEHbJirM4IjwT9wSMJGk/uqGgLHlncMFTbdW7/nNZjUJbq9G4HkLs1LVyX7Kx+Ezf95HY5gWbEOsOG34NLxJIK9v7TCh0wr+JYu74SJtDSwk8Ct2cdEgcI2foT2h29clLBBScD24NxzbB6X5fPVgJhOuoghKS81Wsp1RkfvYUz3CBmeN3m9dUFQg0jEDx06Riuy2gnGhImtuJOdRpXN3S+owE1PoPhQcvXfGoXTVuzKcBmaFmhLl8FsC+FS2kypZM2N6BtfKq0GaUcb/lBSRrNixB29/59EBJkDo4WzZifOXzvyQNjsa62XOeFFeFjrzuuraadeIWoqPPcPrNbj4G74BAEKl+bVUhnNw/A7sJ4w9XUzPuhQ4awVObC8OcUsnDvUvOiXHoLN4ilpfEiE7Z7jAJg9tATIOGiNKxY4Rh1sUxadLMrus5hGmN/YVw5dRpXAxbJvORxk2AGjLmHpiVYdZFWQDrObTsWoSQ6iXk7Fzk0FaanPef3/8PQkf0Xj9CR5V1mM8npCGsg6zl0jmo82mYWPZAZ+/FAYmDX9aR1tXdupPea0ZcbdQdRFqYLJfN5GNmAIKpLig0UgQYFqjPvSdb39yHGFS3QjMYErMKwZ2xR/RYP46/xFeHxG2Yomp7P2+YVc8DhNGAXxD8tiZ0ZrFId6ibNDdoUK49eRECNGqZKo9ZOsS+WfRTVrn28xIRzBOADMX6DJ8TSCW4QeiJYAHFGhy07uJb2YI8AZ+iwYaw/U7bMsX+FEkB5FMCg3fgWel0dQRm/YabmBnUCqAq0GfrR7QCsoDIUxDFmUK9+NtygbrOCjkdni7NOGW4Dbs+6RftWaG5QowfT1X/xMMX8cGBexwdpgEodKlWw/VFKabgvlDA2bXB1Q8ecD26HQiZtmu0SYT163VTNDeo26ONwUO0OP7d5AV4J4EIzB1iT6owEXG25Ma/Dg4IAqE6vYUoKH2VM71JYtTl9wjQOvcRVyVWO0hBpWbTkslg1VJy95wjdIwph0zdyg6pYlnrOZhOGaVQ2lharc5bMOpk3Zt00zQ3q0jDR/37ZaB4ZAjhqHW8MIFkwcoPqFQv4ppN/qjCTSnODOiPcppJvZk3q/sjq0qwHwiBDeDLAzAZ9K2bx1oGQlEGEABImSkYKtevcAberUI7OOMztkOxDencswOoAW1DrVVy75+/HSUm/HOYavXaqw3iJ9CIC7PrYclMgJkzoBxyWjJmQw3iJDIcIQDTQawTwk5oOxZINMXyr6d3tT+wEOzLaTVysaI6P2609uln1xb6prJZE6ptRVAJFHKOu+ePAKvssxGw+ucMZi+UwvTFSuSfFTBRjUeIxZMX7iDGBL8PXHtxUyHBUyZf1hoG6Ap11zkxyILWVfWbOlNmUSD2o0eAsj71cQ1WqnLISLmTHEJq0yuGGjoMxshg5DZMS9Cu+MsTB+lEHLtz2FyLzDxtX7YdGxai/FwOkzITjvXUfYnzrLOyw5Toxjcd2Wj8aAxirq8f4b69ZMr61GEbkquTpOPixycIyiy0xkehy7dljm8QuPaIHdqge0ACiHHZYoEoAAxbL42PMqnwrZB5DoBhR+ybx1ahjt0qraZ/AvCOkRwJon4sYNdlwyO/wbRBFhkGGELmCUt3iSovTyawIiGmDCD4p1hwBLBmUNaByzGWe2Nlb9qf0AfeUYHTKIV2HP7U6c1RXaSOdFUU8MiFKwAxDHdFGmOcwMbIfNPsOX0mkFxHI8lYAxhbrrFh1xsDZW4kPVwggm+eUBYeCOH4G/9N25qchanogt0bGhPZSU4QRnawwJ66ddjZwij7TjjdVsiwBSgCOSjo7KMhRKMVJOivWJB5Uofy+qtqNNJyMMppymeTy7iuWYvYL1vBkcRIrM0XZuC0ibH3W4RfRWZn7L/ivwAHarQzO0ngx3qQlvFJW1lnt9Gz2DTDf0HEPQxYODbrkdoXbLxzyP9r2216loxrGlTMqEO3fzlTsm02Mect1Fk4p63p1pApoEaqV6mzy6kdInRWH/UWuHGajSTpexbDYEtAsuvGtJ2HO4znMrgE8+9aE0iaZVtNx3tjmlRuPFsk8hsCZTh5eEeaWqtmPHBKTp//tVEw3UvfU2VxSg26zC+jsQRTwH+ww9g8qofmULtjEc5gYlRE/dK+czcDm294JeBjre0jrDoSR+khYkd1uW6JYCRRlUDdfNX7m5SBUtiGYsKYol60E5hDcfgkrqBY480J4yx2JgaaRBJ4jkCDWmwviTQB35v3M89qlhFCHwKPnj3EtgCs/Ws5ZC5fMwIKis4irOMNTNFOBzEnSc1xE+W+0UhG0iJVkOo1SGJp8JqS89fCOTu9SIEnshN/W+AwZGfTNmHXT+etSdvcSszUUyfBBqSxFsiV/N038FNzQJRygRSTdnnV3nzi9ogC3Jap2T9RNFttPMocaNp2di9piJYrJhYE6Rgdc2tCxFCOjQ8MiXaB9AE8z9pHGGFYh46PFsEst12Vy5aAOB1Hgl12L8ObC2lUhR0kUhrqWqrnKE8b+wqGfBZ3MjcD9fx+wtC/hseXrKO3zWo8xX051OeZDoBTdcG4cF9f8qs4b+FzySU91e8wDYZAhpMMYTjSc9AmHLjgRASeASxJ8vHJpDIpvvFY4M1QwR0reuoGAJo+0kw93CvGLYT2XkaTA3R9UDi6nVXak4Ox5fNuIDDhizsTQ18LYl689T9q/khgvIqDNk0ys3cT5pxcBD+1F4XNc21Lisx7PbNwXGlydqpar/P8q/Zd1RjUAGhdnD1iws9yx9Dk8k6Obqt0a6RjzgPpSnrwwc4Rr8hGZF96naje1VsOkDa7T23Ov7ubV8RYne9/V/IKzQColLcflm//i/OLpsxfP9KIdaDnhMIEns05fymqPm548MaL5e2EI6n8v/35pUoVa8/XuoFK6saGrWe0q+RHo7u+qwMSNlmtwAm2MTul2gOM83I6DxLzm+5U1Q4h4K0+qHJTpdfUgZUKMmbfWNzIpi9iatxZiUvWF6WrPEDr0YWHsuy9kb8b6TMNhkyGky8wnTiXxY8vhdoGaeT5kaYCA4KbdDrM+8+Q8myme8vJfCLC1q2dP9Pu6EC4RwUX1vypw/oBTvhktR7LGkYQV7Zfdf6DZNzqkmdNmLB66nBcgb3yBwNMXb84NmswQLjXyRVOkjtCAANwgZzb+t+Db/h99CsnS76OeR66cdGZ1E6Qd4hII5E1UgeEJDjk3HH9zmERViqdBrp/yYgMwD4PgMPlMqEuZwbtRKahyad7F25e50xU9Bjewfb14qBvlWMzCpsytG9inwYTgWxgvMsZToMja9/VxfE7SYvlhOJmHs45tUdsZ2qCkzQUfPzMTOtjkcvsxWuRoJnn9AmwXNY9KSvc2dCw/A/1qTJrhlVfutdwrVVsvBCXhZ5U6chECPjPVkauqOcshHsJ4e9G+ldbLUSmjBvgRdDVXiE3PCJq0Lfrbt8bpapI+JL8K+4frsEfnfHypIdxbMofJjVb3h3pfm2+rIXnAQlfb9LnhJHETud3yW4/eXPiQNG5i64VgXKq4QXTCX/72/f4Lh43cIOWEsTXLOjIhKqU2YUoYy9+2x+E/7oxyGC+R4RABbpjg2uJtp3bhsB7BLWK+4fX6+figBbBzagveiQDWKHXGtV6we4m+0VsNSqCHmV0dO2ViZ/KZUGAsd72wcDknNyDjd175TsCrM+7OXW2h9fRdyraB/WA7bjm9+9j1043cIIVYtOq3Xl2YSen5rIsf8x1naKSIl1S90ru2s5ReieewqEk5yeMl4a2xJe5t6KoET8gPk0ZafOVeyy0W7q1kHKpSkgLu3FNlqhWAa/fcuM4HbzTealhIKEfbpDhsDBcIEc9m5Oyop8NcITMy7DOECneGCsZA+dHmYJs6ghIyhyQstYrjfGo18UQXByWkzgBgLWYdHOWUD339rO0LHOZyib10WIJEeo7AybeuNbIld+peWfkN97wuKSEMIIBhobL55/SgclzO3V9fVu7s467h4kVZinJvss2FY6olyeK5IL2y0njlhCZdwlQm4mq3v5Rtp3arNnzx6wB1DTQ3Iyt/YFba5mqaQhn87xnbc/4Qcjr7vMni+jMD8s8eAc9nXabE6eyLVTH4XCCAadXxa/4XhQf1v0xJnLaE6zSVsejxq3/pZri3oas7NtB6cV+8LsrHAfda7uNGsohhT0elig/ERYoy51aXUto0RplBmsi8Mrw1BbfJGEof/Z2EvT0XYNMFzihx8ySRUDK+MXO1aYB3H8MLQ6hQWxpwNxRhc47fuxCH89K2/rULBDBDYolxG4r1x7eRlxXKOiePiwKyPH7+1KGFzPup39Mnf9xulWT0HAGOLijVCo5/nJWGmbezVxIfnhGYtvVndXE59yVwsMqXUMTxeyMCNyoxjA0ok7WY8dHz8J9n9lEIRBheWByWBhmN82SHr6xHcgCy+7yvcVgKRf5j/X5BYUqDAlBZJ959/Mb0w6Z5ZbMWtYmRR4WA57PO2eSBIuLKPmo5dPm4jUNFdYDK62YaGROn484hhyNbPXdFFb/91B6dwL0NfeupnZSAKbXyj6JL82XAvZb7soWqLq5WJ8AtUFBreBwlDJfo8MaLe48f8JY5o/h2ld3419k0M6YJXWF1fZp9m/lqFDex7fQbmZp9mlAUE6IZwpZFG45s+G3N9z90CVDMKpylT5swpXqlhKDOkkm8dQRKZymCC/jOZVs5s/OZ/edCVdpXVbu7TV7M3DYfGoVy+lfvibTGWfOUR1P19ubDWwQwXbDfdSBHevlcpeCszWE+3vwrRqiGsQogYN+LoZo9GuiWmWP28RITlhDAkh/focPr9zN3xGLf5c9/HaAUhrhF4W5l+wRBFKOWFwq3uT5eVcdhdWfXUrndnqUHVyvZVsfSLZSrDGNRLH3dyrUxxrgdRms3fNUEssNh9q7S1e1ynGWEwVA6Va6csT/0iJKzeZH6zvKG+Xjz/dTzWYf+B3LfHkZOjSrNs7rr3JhAVcrNTw6pf/gHPlt+3cu3M+ayEnaYBYV/wwI1yM53bbwM0L0NneOpSmTzSalm9pSAlUZ6nsa9lntSb5viH6tBwXWT9XL2nD+o7gLBpVPZrMXJyJrj0CcKd0jylo/XoWE5BxGdsU/WG+NqSve6bL2WdiWbsEnZpGcd7lmxA5FYvweF6x2b6nzwGHIZwvzp8nQv37ZMlqL9P+rpku1K13Jt+Ri4ytxox4xgFZmH8gEAN+jJtXg+GJXQUgWc1ZA6X+F1vW3xxtXzVHLYbFy54K6AV3lS55jVahS+FpSlAbsLMsJmheupq5Ad5tWR2Ikpc1+2n/ntJ9b/4CPNFrKN4bW8SaHa3DkJHaazbDi+XYUH1+6d6p3kKox+v3CGD3AnkyVpRlddUeuSJWAdAStf8cSNs5SSsFflLngD1ssuMwTND545woBpvnXEwmfKZkXqQgXiF5ql2yUEYC26z+urNFrkNTGndKnYQBNjwKmkimgeWI60c2PWpa7l2nxfq9eFt1dUB1qUxQT0lON2JGY3nNpsWM6UWXVGaOjRDQeUeLeQq1dZ6BJsAhwmVNclI42tnueNusYmjSeP6g50CHRuPtTfO7tJrbyVZ7ceDXVl76zPk+pCS95A91MPZ50i7ic3HYpnGupSsKBV/r7Wl4qyx8DSnq7deWY/KbldE5mLFulq+e97KbPy2fJL4qJ2Gg8cFbKX/LF+f2WaSBUwGJQzqelQVQuuH5gJeuzc29CRoXzzxzAKweRvdusx3L2ubEchQjj69VHuCiMa9Ncfr67LuwH3Wu5JGxhfNSgP396LaLE07mYjZc33K6lB+XXPMocZVx7eoPTGEG+YZmgdDNg2KlBzXONBvv9+3e6yww7aRDJXoSFnthyJmE/PFixFpzUfrqz0Z+9Y6PYdsDZ1Be9jyPUyqo94IftMFi+JzblzE9TUssL3QBoIzbuP78eI6sc+rRwPYA7x6S/9bPyLmJQmr0wQiBcjjqbA1Clwh4lZ2bHPZPVHXgV9j1KIZVpnRC7lMJdN5OTNsxnH9iWbcokIOxM/rm/++/VrXQ7pf9ntv5ypf4v2r8C7LGQTRyOWd5l97cHNx88fJ42TGDaDBny79Ee2BCu86Nvy5H93ELDyFWOl1nF2r4lNh0AaQkx3LNPy+v0beBZNFCs+3zJrccup3aF31Y1S7jRC8oR4BPgwVRv5uqE1FbVhsdXckYW0COkhRAxmCOgMLWb0MNnApSMhZ9meWItwMINCg7UlWYDjKy6faDGt25JOMyGjPazFmH3SptmcAYN2hxaZ22YcLCIcIJSuonG5UH7n2X0gYMzidhg/rgs/mQK3gJIQoZ5SHbhdmk3GUWunlHi3ILf+IPH5KHfFy/euRvhPBHzGQllCSraZ2bNN8UalMoc7uwAr+6kns+7mwzt4UhhU+0sk432r9YA6ihghAl+csqxBQso6bE8a/bxrUaOCNaGgIP3ZxEkWM2oM6LHmU/21x4hW1eCuPbbZZpTNH/lmmckI7vkxk+8/fYCbGb4glWvU2qmrj240luD2hs61NGxDPcq3pwtYGPHD9Sg8p+o1VfgHXhur8nLY7Za71w4wTBXfXwLOcQzlL9R6Ob/vW84WrLykcCju8OXjDvPiGGL46gmfVuhAXQNr9WIu3Xh4C0hBGH6JLbvV9B5Qej47leNJlx120CZy9ZGNj54/aZC/+uRmP3DJBNe9ohvUvdt0csfgFWNtsoTSx5CrITx48aham9gh1MlgixAvObAKAaSyrmGCQiWw08ANMk0X7VtRY0wLUQ9aRDLQZNcf3NLGt+qIi8MsCCa7/vxVz/n9j1/1P63O+qu5OFR/GHU4zGUfOXLtlIYTOyC6hhXkLWOqy0Eej1R7++l/jhxAU7ac3m3erkUkpkYoGyzKWDiOXD7ResanSHQOXDxiX4XEeBcBi1/x/otHao5pufIIcscXEIV8sIwX3D4+D6uPbg49GjbEb97FNiyVpi8+RjzkEjeoQEBatPGkv0UAIn+UAL5BZvXRTe1nfXb65jmqY2HB5hlukN2KtaX+hPZQ28xb77YEhUnPBd/0XTRUWTdgAoPFBNzg5btXv1kyvMcv/SABvVUjrGaPgMOEqJKG1eunFUpeKZ+LOhpM6ICrWEqD/8fnBx1BTseJ0Lrj2mKzeuDCUa9UFLoKsbKfejLrmDBIDZicf57ZGyliRKYraj02R0gjrHhqj22jd3Mjbjh1azGt68GAyQzRzzZKLn2LpjJKRM6+7tgWY65Aw5EjRWoypdOY9dNuPbpDw9DA8BGRCyKhw0+fE29Tgicb+tQtP3MxNQ4z1doC2eDPBPqfkbuPTsyeB7ap2sNHT1ruRtWYBCstFpSwq9kRzirXMmT8da9j9aAqE0gxzVByIvBk+JAscMslm/hHo5rDSZ66ftbV2t1O70mXrVQaN0ac/n8Mg4JltWclxLRBcYMwxoOWj2G6OjSstVJySEsTIWtvf1vhkPmPYeYEEZ+xG+Y3bDPsMWgVuO6G2ydvPLh19uZ5dQ4tZHY2lLaKVaBUlsKYslhks2HRGRd0QazFfE7q/I+rfWcBypAoLd8kC9+DZw8v3L6sbA4dlsMHjEkVB7vZtOA/mQkOk0lkECHg0lcMTYAOBNUB0+P0zfO+tzwJIhCk2EARwOKRxWH54XU2Pi0CzRjsCeBnUryTDAoTp8qI1X2zy2A4qrSR1+7fVExpsOPgRgPwx8DBAb/I0bh+Bm421A29G102z2J9P3Vp1nUr17ZVsYZU/V7f0or/YfdMmzAVGzGTlu3bCkULHZw6vr8XBjbu0zfOKXvOHV8sQQ3ObeZfLPzOvGvqLWJcdcnkuA0zR6yZRCS8GXMgcewEME4X3voQNinKkw1dCW5QqnPx/Y2Hty/dueKbr1V1x5OWmwBi86pp4bqYPiFeKT+sgRvnYjgUx0EeYCk5uCZzw6Zw+0dEt2kSpIoWJeqdR3f5hBEu2KcJ6hgPu2zSPHVbNWLKjyf9VyVDfcqHgO3S9Qc3vGs3YdIMn70KuSajQIBi0CXdoBE1FhdmpxclpsbCJawRYG/4OcA5lY4xD8C5mTBv5nn1W0w+nBkz6DQ6gIpf6x90pAR8hoBLXzHbCdpCn7VNKgo5CKhzZSGnPdZbgl2Wq6ZZ1gt3lhKbPevHKJwVEuzxUJxoq4K9GSGnAdb3U/dmHYSsYghxtXLn/D2XOo5el58xC+ZXyih6wZ4lxngrYX3wDNYFMQo/K7lI48mGzv6iVJ0W6/JuMk9abr0lyi/XjjN73eAGGZRquSpQF3ZYVrhBUnIRKz/rzQuKlJ502Up7+Gp0MlB1A1idPYQHQq7JaAgHTponCAgCgoAgIAgIAoJA+EQgd6ocdBw9ye5zB8InAiGw14o74rCMG20rl72EukRhwW6XOXw3qvNWFk+67K02hI1yhCEMG+MovRAEBAFBQBAQBAQBQcBHCKhrgWdtX+Cj+qSawBDgPA4nPFHZrTryL5c8geXzf48erH2JJgTQA68/sdVKlpCQxpMuh4T2h6g2hGiT0RCFlDRGEBAEBAFBQBAQBAQBQQAE8LTx3bKR9588EDRCCAL4lyo8sBqO9Fz1lMPZzn4ffcphTjrC2U7seENIjwJthttdDrTkcJhAGMJwOOjSZUFAEBAEBAFBQBAQBNxHQG6IdR+7oMmJMxi8wlove1i9r3GzxyUKhTLkwz0MGVEt/nFgtfUSgj2lq10O9gaH5AYIQxiSR0faJggIAoKAICAICAKCgCAgCHgZAS6WNJbIxWy9fx9sjJFwuEJAGMJwNdzSWUFAEBAEBAFBQBAIRwhwtaNyBu6qJaHXMaIBqiU0yeuFS4GuIoDRb8p3knNJG7fXcJWrdV+vrlYUStNzJf2xK39dvHM5lLbf1WaH6HsIXe2MpBcEBAFBQBAQBAQBQUAQEAQEAUFAELCOgHgZtY6VpBQEBAFBQBAQBAQBQUAQEAQEAUEgTCEgDGGYGk7pjCAgCAgCgoAgIAgIAoKAICAICALWERCG0DpWklIQEAQEAUFAEBAEBAFBQBAQBASBMIWAMIRhajilM4KAICAICAKCgCAgCAgCgoAgIAhYR0AYQutYSUpBQBAQBAQBQUAQEAQEAUFAEBAEwhQCwhCGqeGUzggCgoAgIAgIAoKAICAICAKCgCBgHQFhCK1jJSkFAUFAEBAEBAFBQBAQBAQBQUAQCFMICEMYpoZTOiMICAKCgCAgCAgCgoAgIAgIAoKAdQSEIbSOlaQUBAQBQUAQEAQEAUFAEBAEBAFBIEwhIAxhmBpO6YwgIAgIAoKAICAICAKCgCAgCAgC1hGIbD2ppHQbgaiRo5L35auXf7/+2+1CJKMzBCJFjMSPt89fPneWRuIFAUEgbCMQMULEyJH8dzTzdSBhrPjvxIz36Nnja/dvvPr7VdjGRHonCAQdAkLYBB22UrIg4HsEhCEMcszTJUy9pNNMqvl68dCfdy4K8vrCXwWdy7RqVawh/c7dr5w5LRj+sJEeCwLhBYE6+ap8VbU7va08ovGZm+ftu10jT6U2JT5OEz+levXkxdOfd/4+aPkY+5QSIwgIAuYICGFjjo+8FQRCHQK+YwgjRIhQNGP+Eu8Wyp783QSx4qMru/7g1r7zhxbsWXLu1sVQB1yYbLCMUZgcVi92KnoUv3LZS/Ahp0+YGjXL0xdPL9y5vOP0nl/3LL335IEXK5KiQjUCSeIkqpC9RMH0eVPESxrLL9bDpw//un52/Ymtyw6ufRlMSrl2JRp3KtNKofr0xbNokaMyma/dvxmqcZbGh3AEsibLVDZrsbxpciaOkzBqpCh3Ht87fPn40oNr/zyzN4S3XJonCAgC4Q0BHzGEJTMX7laubcbEaY34po6fIl+anC2K1p+46acfV08yvpKw7xGQMfI95qGoRuzxmhau06pYo3dixDU2Gzlx8UwF25Vo8uVv3686stH4SsLhEIE4frG6lmtb8/1KUSJF+af7cRNnSpK+0nul25Zo3GXuV39dP/PPK5+EUsRL9kmp5lR18trpHvP78zdyxEjZU2Q5L7JIn+AfDiuB2ulZ8RNkZ8a+J4+XNHvyzHXzVVt/fOv/Fnz74OlD41sJCwKCgCAQjAj4giHsXr5ty6L+Fn0c2Nh0csf203s4vBExQoRsyTPXzls5bvQ4bYs35q3whME4D2SMghH8kF91lEiRJzcbhviGpkLErDm6ed+Fw7cf3Y0ZLTpaoA/fKxPbL9YPdfu2n/XZ5r/+DPndkRYGEQJYY05tMTxpnESUf+nuFebJ0SsnOa2XKHaCstmKF0qfN33CNFOa/VBnXBu2gCBqg8NiK71XSh0z7v5LP8WOoqjcf+Gww8QSKQh4iABawcF1+qCFppwDF49uPLH9/O2Lz14+Tx0/JbIShGiIX0c3+q7plE6vX7/2sC7JLggIAoKAVxDwBUO44/Te5kXqsyZ+t3QkBma63csOrZux7ZeZLUeiKoRj/HX3UuNbnUwCPkBAxsgHIIfeKl68ern3/MH3U+eYumXuhI0/GQXbv+9bsWD3HxObDoX66V21a8XhDYXECb0D7WHLL969cvHOlRhRow9ePua3fcuNLlvm/Plby6INupdvh0+XTmVa9lo40MO6XMqOWob0Nx7c8r1y0qV2SuKwgcDBS8eQgyAT6bto6K6z+42dmrFt3tC6feEYka9Vy1We9dP4VsKCgCAgCAQXAr64dgKlQf0J7Tv89Lk9v8cODZdI5zHgKZ+9RHChIPXKGMkcMEcABT6KnaErxxu5QZVl17kDs3csJJzqneQ5Aihv86LkbVhFAA6w289fVR/VjJPhRm5Q9Xfy5jmHLh0jXD5bCaWv8xkO8WPGo67rD+TEoM8gD9cVoQBvNrVLrTGtbLhBQEG41uf3wcr5GUbU4Rom6bwgIAiEJAR8oSGkv4oOcNjxrad2oVLAnQl2FA4TuBSJH+RkcRNjwIY92+W7V13K63lizlklj5ckXoy49x7fv3LvmnKfEFoUJr4ZI7QHDJBfFL+bD29bNxsjF24qYvvFROx64c6VQF2JMhAoIuLFiPPo2RMGwvptH8njJsFXCrY91+/fuC8HPAyfBBhi/meI+Fdwy187mxepR1S6RGmQjv/rnYsPro41rkH46DixhnTp1qM79rVhlM6UI56Z4JLnG6YQto4QcGRk4tmXLDH2CPBd20fqGFb7HCmyxIwWI3HsBFfuXdfxrgZQR3Mci6ly6+Htq2+tT02M7974xw8mfzau9k7ShwEETHTRdx/fO3LlZO5U2bGg9qSnaoHCnv/+k4eX7l598eqFJ6WZ5PWEsGFlZvmNGz32g6ePrt6/jj8nk4rklSAgCAQjAj5iCE16yCoG48Si9i8nBCYZDK9wZdGkUO3FB1ahZmTRwW9N6axFIRBVEkiT3/YuH7dhxuPnT3Qm7DRGNPiGx8Erxi7cu0zHqwAL35LOM+P6xcauv/bYVvYkC+7CRgZkH7B0xB8HVuvsuFL4pHTzqjnLwQ2qSBQpKw6vH7564vMgW6Z17UEd8GSMdNtAvn2pZh+kzY02WEViUTNnx28zty8w2ck4n9aoQM2cKbNqlQKcyZHLJzA2NuKvCvz771fskXiPqJijFDuQimT0MVces34afg5VjP1fuE3mUtlsxRLEfEe9hY0/cuXETzt+xaQntLD09v3yWcyTF28+MT5ktyu1Mtbqk8dN3zdLhqOQ7FquTZmsRfXSwRBP2/ozLk9VG6rkLNu0cF1lLkgM43jo8nFUnVtP7bRpJCVs+HQBkdVHt0CPVOv9ynjQyZg4nUqGsmvP+YMj106xl/fblCOP5gg8ef5UJdBDZp7e/i00dJdyrYplKqgOaJEAwd8vu/6YsmXO81e215Di2KNs1uKlsxRRc4C/Wz/75+KfKiObIDe0r0JiBIGgRuBJAE3i3moJsYFzr6q5yrFt6XayRiGw23BiOwb8WkSSLfm7k5oMIU3/JcNx8KsTGwO9Kneu/F6ZB88eVRjWwBivwp4QNuzabYo3LpQhrybJkOTuOLN3wsZZu88dsK9LYgQBQSB4EXCfevNWu6Hg1bJ4+Z7LCj0kxDBgbPPvpcgypdkwBM+0ikUnYsRIcB2UzPV0UPlNJnfScmvUF9GjRoeYKJLxA3uGMF/aXPqWqlJZiihDOGNPyaVYvj3nDup4CNNpLX5UWggiHz57FDliZLSUtfNWKZO1GLayOmUoDXgyRqrLHUo2+29pfy9//EP/xhiBD67/elRoDw+PMxJ7Q0R2kWH1v8aDpcql/8K0o2SI/5Zz0/HsiJmTZpzUdAgaISKRMhDDQDNJ4A85xN92Zs+dZ/fp9DrAVShD635FMhVD85iQ1MK8GlDj86q5ynec3csoU9AZJaARSBqgguPx8t1rOtJ6wPpYq08+T+ocuVJln9x0qBo1pM5RI0dhyGAAvqn+P84kI4gZWPOLarkrqDZw4xxVYIbAQjGhyaCe879ZenCNsXm8Ut81TGDPih1gTXkLA/n05TMyIoxAkDGjxQjurIPhNGaUsEsIqHnCh2ndOsBYPl/xj/X7KWaS0UGHzwRAVdi5bCuW61nb5xsTE/6u5heKFVTxbApaYEcME8YmvTwKAr5BQH0IbqyWzPYZLX7kr2onGxNfU6xoMVmj2Bb5IbTSDGGUiJHVhNfSE/vexYwagzRa3mpM4Alhw3bPpq9LUyswivpimQrwm7x5NqcP9FsJCAKCQEhAIPgZQlgsBcSfZxwQ61YwypI047jGg2AA0NqhlMNyDPIuW7J3O5ZpATuRNkGqUQ0HNJjYXul5IPf3nDtQKEO+/Ony2BdeLltxItFBQSvAy9kzhPhUJMHpm+cu33tD+LLGjW8ySHGDOE6YvGm2egW3UztfZZzljG44wL6i0BXj4Rg1yF9DcYM4mB22arwyKcQYD3BQ8L6f+r0BNT+H6bLBBCZNcYP7Lx6ZsnnO/gtH2FS41gypJ3ShDUFPXibAmEbfQSyiAlpycDXOLYikFmpvU7yRX5RoA2v1qjCsPsmMFeVKmW1kw2+hFLkhatTaKcwflAYB3OC7zYrUr5SjFK4RmT8tp3dT88eYV8IaAeVdnY/rwMUjOtJ6wNWxhvFDUQ8xhJ4QV5ZIExj3kpkL9a3Wg1sxEAMli5sECTpXfsEZsrCggoZm4l5yBBBw+72rdF1zdBOttW9h32rdU76TDJUyYmz6wmxBRl45Z9kuZVsjwoBX5MbzDSe22WeUGCsIqJUEv4sOwTcvAd3g8HpfM9CsAz+unvjrnmWI3sjCgoCfapbuzyp1tCmh6ZTOitJFdgCtjFV8y+nddRp7IZR+JQFBIOgQgJ1TB2T+PLvX1Vr6VO1KdkRgg5aPZhNU5xoQhedInoUF8N2kGXac2eNqmQ7Te0LYcHxAcYMnrp1mO952epe6+bNA+vc7lW7JB8vW/+T5M8x2HFYtkYKAIBAsCAQ/Q4hNFz3HepDrrd2DACExVEL9Ce30GSdod2hB9E7D6n2NAwNMF6rnrqj1gZxjgSFE65UhUZpTN84ZK4UJ5HHB7iV18lVFJwAJaCQaqAiqggSbT/5jcta4YG14TiJxmTB05ThdGj1iKTx36yJaJh0ZSgOejFHi2Al7VGhHx7lxBGUp4kwFAnz7wGUjeWTzKJOlaOEMHxgN+TD2g+sjJa5oP/2lnz4EeOzqX/y0TaART4SguI5oMqXT3vOHdDy1jFgzCfVRiyL1YdqpZePJ7fotgoPvan0BN8i22mjiJ2dvXVCvqA6utfu8vlij4RqxYPr363/wEdy+zigBIwJw3UqlBjvtxlk7N8aa7x0aqOaYlnxfqiWwfNyCGDlS5KF1voKfhxtknnw86b+a8YB5mLl9PoJ55hvmxEipVx/dZOyFCsMNLj+0rtu8vvoVc4Ohh5eY1WoU9WJhxRQS6YDGx3oA603gJb3D7zfQcv5X6RN1FLDr3K+MXzEG5J3n9maZrZ6nok0hWrH/6vXfvOKvcT23SSyPgoBvEGgWQPOwy3CkxaUamf9K9DZ+w8y5O3/XeVl14QO9xQqqYt0mbBCFIz6jENZMPOvob5ClGEEbQmGsWDHFal+yyaqjG7kRVPdCAoKAIBC8CASzzczHBWuh3wOCkWumaKLfDUQW7VuhuUGdHaKt/+Jh6hBz3XxVdTwOMFQYeZWOJADfqG7QmrjpJ+hL+IQS7/7LXlGff9tiuGytTr4q5MUkFf2SsTQVZsWHXrGPD0UxHo5RvQ+qYXQH49dv8TDNDeruj98wQ3mIUTDq+CaF6hDGBUjfRUOsT4zF+1cZuUFd2rydbw4OKX5ex2Msqpj5seuna25QvyWAIuLcbX+Wo1mRenCPxlcS1gj0rtIFbpxxHLtuuo60HnBvrOfv/kNzg7ouzsloin/EmsmaG9QJ9EzIksx/2bH/x6IxeMUY+3gEBBwoJR6WpnCGfPYJJMYcAaRpn1X6hDSoWH/f5xodTC68PSlSeO2xLUZuUFf6/fLRJkeRdTIJCALBi0DWZJnq569OG5BQ269g5m2LHiWasnPGnsU8pedv3SZsGhWsgeCMBvRdPFRzg7o9bBNcOQMlgOq+eWF/P2TyTxAQBEIIAsHJEHKeh2upAGLd8S2L9q/0BBGHwn4KxOugsu/KmTIbFImqAtWB8kZYIN2/GEJlL4rOEGtDDBRJrBSGumEcjybMiqaPokEdcmCJSHQj9tSnyrjyyAZdQqgLeD5GClX4NFSm9t1H/XLs6iniERnqt3h2UZwbuhpN3+u3JoHVRzc6fHv+9iXFiyrv8zpNqQAlJAyns8ugsBj8bY8/8cppisxJMuiMEtAIIC9A88PjcPThAcyzfmUl4PZYI2x2WL4yFWbgMASwT8BBZSVfiBf9jfMnmzR4ErJ3JaXSaL0W9gU2ueQxUAQwC8fUDZetX/z6nY3ZdqB5SVAwQ14lkXHGTKDrzssAAEAASURBVN57cl8vy1YKlDSCgO8RwDbhh3p9kTWzyHBXp6sNQEKKzQu5mhetp4TXrpZgMb0nhE2pzEWo5fjVU85E4Vw/9ucZf1tZzv1abI8kEwQEAR8gEGwMIXzUmI8HoliAiPxsgaen7EwcSCrWDmIic9J/CPptp3YDbv50uY0QK7pW6Q/VX+zKlKxLJVMHCHefP6i0jkRmSZpJvTI5OsXKaKwlFIU9HyOY8PSJ/D1rc+qSk+sOf/jgJgGMgYb6vZRZFUp7L/xj/GkFN04sOEum2HWbs/WK7bxw+7Jqg8O8ug25UmVzmCA8R3K98meV/gsCCETc87bi9lifuXHeIfLqXNnVe9eV5tkmDQyJ+nhtZoJOZrKS8EoVnjXAqEFnkUCgCPyv4ieY7pPs++WjOBIcaHr7BMqQhHjOH9q/VTHHrzr9/J1lkXhBwGcIsOaMbvQdXuvYjDByVsf/XK1dnbujkEUdp+NLKYjYQrcJG07ZpEmQkk6ZUES8Vbsq7LFXLhtzFUNJLwgIAg4RiOwwNqgjWcWmNPsBHgBNXdsZPV3SAjls290nTi0ouPpGZYkfI57Oi80nJ5dwRwmdgcKQ+ExJ0quFbP3xLTyitGS1hZ/Bp4iyUMJZRaYAN/RbTv6py0kQ602ZJu7CHN6NpksIsQGvjFGiWAmUiUvdfNX4mXeWawaVF3jOpKmUlwMcw5jnMr69+/i+8THQsKpI+wdymF7fZqlb5TBZOIxEUTakTh/GlysZPlvwrXsIaFRdHet7Tx+Y1OjGUUZVmologATX7t+MlSgmN1WaVC2vbBDgphB1CBmRgb2bLpvEzh7ZLHiFdtfEPSl3EjrLLvGCQPAigC8r7rvCgxq2Kj3mfW1y6695O3/euQgf5jjHwksWvpRaF2uEdPuXXYvXHtvshuLdWV1uEzbqO6VY7m51Vjjxml5i/ceG3CSlvBIEBAGfIRAMGkKWgKkthmM+hP1D6+k9MOfzvLcvX710Voi2Yo8R7Y3JKCntjxGWCzB7gxzceXY/CdA1Kduz0lnfWDVw4FDZLG02HCDUZqi6FvtmqBuH7ONDcoy3xiimn/9FIBb/KdaRxDjCVlkev3hqMa9K5uqVj2r4nplelatvTmMDdqkxYTsx52lxn4uTA87udpj1mTN76UBBcHus0fWZFP76P9wk6s6/l3+bFau+Zf3Vu1NBOMuDM6dOZVrS6QV7lnBph9u9V6u3/hgdloP3UYfxEikIBC8C2IgOq9cPgyOOKPf5ffCaY5s9aQ+HmSsNb8hNvEjS2TTx3Du8fr/lXefgRdmTYo159RLnKmGjqaynLxz4cNZVaKIoVsBVYTpeAoKAIBCMCPhaQ4hvz+ktfsTgAW4QV/5KO+d5/7lUwBlJikcTVf7jZ2/uzuYRHzC4t0IriAPJ6VvnEcN1hfxlpdaOTxC54e6idJaifRcN5RUp+YsFv9EuUa96zizQyMKliPwNRf+8OEaa18L7P378LYLw7OUzldIEVYtFmSeD/2fnixYlmkmy6FHfzB+3lU4mhYfSV/nS5Bz78UA+OrjBFtO6umf7pPrus7G2CHW0yGaTwS9gMTEhkizWEk6SoRhElUFn8a0FHexJr5Whr/Iy6qwcLVFylkDiBQHfI4D3lKF1+5bOUsSfG1w0WHs796Ql3DQ4cNmoYasmVMheskH+6lzKitelb2t8ViJzoW4/97Xuho024ILbviVuEzbaSMcvSlT7YnUMd0Gr8CMDVabfSkAQEASCBQGfaggVp4FfRwhx6EhnZ47dAML+mnJdCDfXqbCNYy7lcyJvmpyQEThKVmdUVh3eqDMqRzW0GccqRCqXpFq1qJJpU9WEsd5YOersOhA7VGmWvDtGtx7dVTjoi8s1LCYBPVJBdEBCV30jwMZM3SGpI20Cug03H96xeRU+H7F64tpPGGluduErRrLjCQ4+G2uLjdQmTw7TJ4+XhHjdZodpJFIhwBWjHB0kzC0+vX4bCDXsCTKK0MTujnNHzsrB5tzZK4kXBIIFAbhB7OrxrAaT9uVv3/MteLEZCMHxxtdgYgdud1CHnzmpi5cvl6qI4+iDcpuwQdSuajff8ZPESaSS3XokZt4uDZckFgSCEAHfMYRQWlObD+cMMefEWL/sb4nwpJfqdJ/DEhCeEQ85cvzav5y7KNYOO0Ac0BcPuF4CjxHcoKoL2XPuoDpQhC8suAK0mrwy2ovyqG/RyZY8k85oEwhFx6a9PkYAqJyL5kvzjxNRG3zsH49ePqki8Q1r/9aLMQcDHFTgO4fTpM6K1W04dMmpNwtnecNefJ7UOSY0GQw3uP/C4eZTPeUGwcdnY21xLDIlSecsJQYFypLqeMCpY2fJJB4EuMRMXRPPFY69fx/kITdIgdouA6/9zhBOmzC1s1cSLwj4HgG4wcG1e6PEw+yIU9Ze0Q067AVOO7mA9/qDm7yt9F5pnUafodAO2/QrHciQKK0O64DbhA2uvNSnqvdNXaYxkCtgZ8fU4rQT32DGxBIWBAQB3yDgI4YQd/9wg1wEjwCpyeROenf3Vied+S+mXgz3qeXQ5eM2Jn/4KFd+CPOmzqnuk1h3bKvxYBIivfXHt5GX28w/CPBHCllj48ueOyqUSKxcgA89h91R3KbDVyEqMojGSGGYMXFaTp1Z7C+OZxUbyd5mbiRmsUBnyVYeXs8rVMTcY+4wDadGP8pdgVeYCh+58oZNdZgyPEQiW5nQ2J8b3H3uQMvp3ZXLTQ877rOxttjOjInTqcvT7dNXz11RRW4/tcf+rcRoBBoVqPn5hx15nLFtfv8/hul4TwI7z/r7qedfheylVMDmL8Q3h6lsIuVREAguBNhWBtX6smKOUvh6+ZTv4MDqIG0JslflO914tZI23+DaJIe1Yxjl0EDGE8IGj9PURclGv+7G2hPHTqhu7tl0codL1q3GQiQsCAgCXkfAFwwh/jmnNR8OS4CDuMaTO3IDgcVutCzacGTDb2u+/2Gg6SvnLOtQcvx5pY6cdCI711jbFIK5BRdIEMndA4pXWWV3YeCao5tIkDVZRpUAGzmlM9RFwSKqK+zgdbmBXcfrAJIwDg/oxxAbcHuM6B3O0/DIijWXw97N3DZfeT/rX70n9qgO0xCpHPbot3N2/EaYnaNbuTY60usBJgBjSrEdSjbFbNi+fFxioBciftb2BfpwqX2y8BDDTJ7YZHDMaDF2nNnTZsan1s/RBfoV+2asrY+RuhzVJj3ETcMCNYjkAjEbMwGblOH8sUH+Gr0qdwaEyZvnDFw20iIaWGp8WbkLvjFyBxh02OfCIu7gpWPE13y/0rsBn6RNmmaF65qb+9qkl0dBIOgQgBv8vlYvBJovXr3oOrcPF+parMt8P2WXpGRnRSk36VfuXtMJcJHN/Zw8wpfaKwkpyuFaR3pPCBvua1XC9z5VutnLc6n0q2rdFLWg3Dfo1kpAEBAEghcBx0S8F9vETh/ADfobYmEygckZP2flcyMcygf1Nn+6PN3LtyVcOnMRrDfP3rrgLBdrLuvk5KZDB68Yy8qrfM1h5Nm1XFsYRXJhnqovlTYWsvWvXdwqUSZrUZQe5EJeZXxLGMqPeNzSqHI2/7XTJgGPEzfOQokEq9Orcpc4frExkVKaE8r88L0yn1Zoz6OJRaJ9gb6PcXuMQGZIna9gubmPDkfSOL+2bzxeZH9cPYmhxDJzfvuJ49bP4HCmUquSkVsK8VDCDZA/71q0xCBDnbl9fpVc5ZAy4teHuysmbZ6N/yF2KZBMnyh1ycyFKdbz8xgU+MXCgfPbTeCCxFmtRg5aPnr10c1MJ3rBIYfmRepzDoow88e9S/bs0QilMUhbJjYdwjxhMq84tL5CjpImHdl77pC+od7KV+ybsTZpsPEVjC4mXj/W7z9y7WR1LAfVU5ksRXtX7apcHH23dKRItY2IGcO18lbuXaULMZicnbpxtnqeNzpVYxodXnl4gxYrNCtSV/HbMIQlB9fSaYyB75eNmtlyJHTtpKZDBywdsfrIRiVpQmzUuFCtFkUaQPuG8JXW2B0Jh2EEBtT8XNEMa49tiR09lsmHgONcpVIDjUD3U1bghR0mz9+9hGuxTl47oxciWMFWRRsqYYqNKnLpwTXIaLB6GNGg/7dLflS+06kLzwiIcbF+cvbVuE3YIPeHEutbrTuU3vTmw79fPnrfhcNqrNlHoASolEduoNHx6q38FQQEgeBFIMgZQpYqpWOhn1xIZd7bxftXaYZQH0pGKpYsXhIThhBvH0NXjhtU+0u8bPWt1gNmI2KECFAJSumE8WHH2b0cqne2ntrZ/T9t1bmgjSe22/spJQYbUchB5aqU2wvt24+LRcpX5HLXcm06lml5/f4NPIsmihUfUhKKp+XU7jjo1/et2ZcQ7DFuj1G8GHGUApYuKH8bDvsyefPsGFH92pdsyqD0qdqNH8a6f79+rfOS65fd/2Imsd3lMoMJTYagWEbOyo8R5KcljuM2zHRYl6uRUK5tZ/bEJzgcIL7gaNiNh7dwNamVmXCDJDDaErtaRRhIj4tdaBE6wl+Gz7xHnBnTDKGVr9hnY23ebPUW4QWUHE4g+GFwdf/pA/ROaokgwai1U1cf3WilnPCZBsGQ6jhr/oAan5uDgJhP3zmUNE5ilZglAu2Bw8+N6y6/WTIcRSLf5g91+yKqY6lnZVafKkZuOO2Y09r9my3MWytvBQHrCOgPAekSP5OMsE+aIbSyn3JfF/e48MPvLocG+VISxIyHQFNVQVHc72KsjiWLQyvYv5R4txA/Phk+HO5kxtaDZAhh4cqUSt+Yi7AnhM28XYu4T6Jb+bacMpjdegxiRBxxIayJ4xdL1YIvHOvmAzYNk0dBQBAIIgScmh8EUX3Wi8Xhh+LiuGzH3AMNfucQg9Wf0J6j1ZEiRsQmHuIebhBmbO7O32uPbePs5nGK1bfGrzrimM5TVqM0GysIZwKt/ReP1BzTcuWRDSiXuHGIJRv9JAwP0sHqo5tzBW1YvXr1+oNbGts/z+wzGdyRa6c0nNgBrlud24Sv09zghTuXp2yZu/207bksPGvXG9+WjOoqarhrzQ0yEH+esU1vUrv5K6quM641wgj4f6pg71QkJqIEBA34cFP6TPNC5K1DBCx+xT4ba4eNNEZGjhQJ9wxj1k9jZWBh4eyN4gaPXz3V4afPiTcmlrC3ENBLK1yfQ25QVYT9RfNpXVlveYQVZHT4VNkgUDKzVrDSmuT1VlOlHEEgiBAIdD+FpGEJUmIUNlCMbjirorhB/DIgies2ry9mL8bmwYnVHdcW4ywl7+Z74auBG6SQrxcP5XDjyetnjOmNYU8IG/Z0vI7hqYH2IEakUrhBwpzR6DK3Dy52lHrfWJ2EBQFBIHgRiJC1d/HgbYFJ7RgYcHIJd6DwDA6TdSvXtlWxhrx6r6+/BokAZ+HSJkzFAoQvU5ZIZf7nMG9QREI74u8USRhmGKdvnodSCYpaQlSZSPRLZSkM1HvPH7LSMLYx3JoxTJwlePDsIUbCVtgtdJgw+VEjRYFMv3rvehD5/ccmkONJ78SMhxkPtTibdVa6KWk0AoF+xTqlCvhmrG0qRRCwr88qItE8j1gziQASJRzMJI6dAB7jwu1LHB20ySKP3kUA9QXU6vLD62y8fzmshZRpE6TkNjNWj7+unxE+0CFKEhnqELC4n+I5JlX8FLBYLFN8L0icIXjMO4utNbsbGZ+/fMHupo04zHOpt54QNpBDmRKnjREtBuTQuVsXA22nlfZIGkFAEAgKBEI0QxhohzVDmLtfOaV6CjSLJBAEBAFBwAYBzRBO2jT7h1Xjbd7KoyAgCAgCgoAgIAgIAmEYgZBrMhqGQZeuCQKCgCAgCAgCgoAgIAgIAoKAIBASEBCGMCSMgrRBEBAEBAFBQBAQBAQBQUAQEAQEgWBAQBjCYABdqhQEBAFBQBAQBAQBQUAQEAQEAUEgJCAgDGFIGAVpgyAgCAgCgoAgIAgIAoKAICAICALBgIAwhMEAulQpCAgCgoAgIAgIAoKAICAICAKCQEhAIMgvpg/STu6/cPjnnYuoQt05EaR1SeGCgCAQVhFgAVErCUtKWO2j9EsQEAQEAUFAEBAEBAGHCITuayccdkkiBQFBQBAQBAQBQUAQEAQEAUFAEBAErCAgJqNWUJI0goAgIAgIAoKAICAICAKCgCAgCIRBBIQhDIODKl0SBAQBQUAQEAQEAUFAEBAEBAFBwAoCwhBaQUnSCAKCgCAgCAgCgoAgIAgIAoKAIBAGERCGMAwOqnRJEBAEBAFBQBAQBAQBQUAQEAQEASsICENoBSVJIwgIAoKAICAICAKCgCAgCAgCgkAYREAYwjA4qNIlQUAQEAQEAUFAEBAEBAFBQBAQBKwgIAyhFZQkjSAgCAgCgoAgIAgIAoKAICAICAJhEAFhCMPgoEqXBAFBQBAQBAQBQUAQEAQEAUFAELCCgDCEVlCSNIKAICAICAKCgCAgCAgCgoAgIAiEQQSEIQyDgypdEgQEAUFAEBAEBAFBQBAQBAQBQcAKApGtJAo/aaJGjkpnX756+ffrv8NPr4O0pxEiRIgSKQpVvHj14vXr10FalxQuCAgCgoAgIAgIAm4jECliJH5kf/7yuduFSEZBQBAIdQiIhvCfIUuXMPW+Pqv41clX5Z9YCXmGQJEMHyhUCXhWkuQWBAQBQUAQEAQEgSBEoHOZVmrLVvLxIKxJihYEBIGQhIDvNITxYsQtm7VYgXR50iZM9U6MuK9e/33r4Z3Dl48vPbhm7/lDIQmT8NsWGaPwO/bWeo7QpHSWInnT5EwWN0mc6LGfvXx25e61fRcOL9y77OKdK9bKkFRhH4F8aXMVzZg/V6psCWMliBktxsOnD8/eurjj9J5F+1c+ePow7PdfeigI/Oc/mMaUyly4QPr3sybL9E7MuDzee3z/5LXT645vXXN008u/XwlIgoAgIAiEHAR8wRDCZnQp2+qj3BWjBRhk6s6neid57lTZGxWouebY5s8WfPvo2WP9SgI+RkDGyMeAh7rqMiVJ/2mF9qh5sQE2Nj5tglSFMuRrXfzjCRtnjlo71fhKwuEQAaR+HUu3YLb8q+9xEmVMnI5X/y3dvPdvg1Yf3fSvt/IgCIQtBDC5bFa4brMi9RLEfMfYs+Rxk8AcVstdAbaw27y+p26cM76VsCAgCAgCwYhAkDOESMXmt5uQPF5SOnn38b21x7agFbz58HasaDHRNtTOWxlWpEyWomMafdd0SudgBCI8Vy1jFJ5H30rfoe/nt5sYJZL/cnH21oWNJ3acuHbq/pOHCWO9kz1F5mq5KvCqQ8lmvBWe0AqeYTVN3XzV+lbrrnq35/zB7ad3n7916cmLp6z/RTJ+gM4wbvQ4w+p93WZmz22ndoVVEIK6X+WzlehcthXsxPGrp4K6LinfPQS+r9Xrw/fKkJeT8xtP7thz7sDV+zd4RAheNVf5DInSsKJObT685piW0ELuVSG5BAFBQBDwLgJBzhCyII5ZP71L2dYj1kz+fd8KHo0dGL9x5sgG3xZM//4HaXNXyF5yxeH1xrcS9g0CMka+wTn01oI8e9nBNRAxQ1aOsyXld/5n0qbZ01v8mDh2wtbFPp63c/H1BzdDb0+l5Z4gsHj/ysaFap++cW746olnbp43FjV96zyMjX+s3x/lyeeVOlYb1dT4VsLWEaj0XmlkqX6Ro1nPIil9jMC4DTOLZMz/y67FU7bMRQ5urJ3Vsmu51i2LNkwYK377kk36/zHc+FbCgoAgIAgEFwK+cCrz656l5X6oN3/3HzbcIH3GTLTP74NU50tlKRJcKEi9MkYyB8wR6P374NrjWttygwF5zt26iLiHIHrCYpkKmJcjb8MwAigDa49t1XlubxtuUHUZ85AlB1YTzpg4LaqSMIxD0HUtcsRI6FqDrnwp2SsI/HX9TMnBNX9YNd6GG6RwHJgPWzXx0l3/E9elshT1SnVSiCAgCAgCniMQ5BpC1cRnzv0X44sCqwmkZcniJvawPzGiRk8SJ1Fsv5jwmRfuXDFxmhwxQsTk8ZJgrcoh7yv3rqnj3eH8UgTfjJGzIWbsmAB+UfyYDNcCrGucpVTxmLlCU8byi/H85YsbD27denTHJD3H3lLES8pwM8R3Ht9jxMP5WJtg5eyVvTTHmFL7hUrqw6+YBuCwJEnsRDGiRb/zyH9YXbotBtpauca5/ejOtfs37fNGj+JHguhR/W49vK0svoxdNgljGMnyAmJX7914+OyRfUq0qYnjJHz64tmF25dMvjv7jCE/xrw7ey8c4gAVvWCeXLhz2cPuBAXOLCwsRHGjx37w9NHV+9cZIw8baTE7kw1MmM9sSRfvXnG2QJXMXJjTFhbLlGTBiIDJh8BSc+DC0RTxkiWOnYC9ydlYW2x80jiJ3okZj3LYB/mZ5GKOsfL4RY3G3JZN0AQoeSUIhE8EfMQQmoPLOkUCT7Ze7PVxTpMzZVZ1fw6lseYeuXxixrZf/giQSesGxPGL9Unp5lVzloM9UJF4vcNUFRun5/82Z9VZJAACno+RMxjzpcnZvlQzbIYh0FUapKdzdvw2c/sCh0wIAvIWRRsY05MLNm/76T2YNdr4q8DlSbuSTfBmAcOpG8BM23P+wOojm7BhRqeh4yXgNgJ+Ud4YsPnmK6adfPIfF6zFJ49wRzX73pMHa49tHr1u2uW7V+07UiDd+8Pq9b1y73qtsa2YDHg3qZGnEhyFSolAASU5ByDVlMuVMlvbEo3Rdur1hDKnbvn5px2/2pc8ocngHMkzf7PkRxwmF0qft0OpZnhhVckg9f48uxf1qWKYYTZaFm1QJ19VLfx68erlxpPbhywfe+72RfuSw14MEh/VKfzTutq7oMaZudSmeONCGfKqtY7mIVLccWbvhI2zdp87YN9apl+Hkv6Gr5wEcyYvWNB+EmO98cT2z34dYCzB2JfsyTN/UqoZyxrTQ6VBiLDkwJoRayaxrOlcTOBWxRpq9SAlvDK4qTRpgy5BAiEHAbgyGsPn7zY3iOy7XYkmZbIWRZiu+8WE2Xzyz++WjTRqJvHnVD1PxRLvFkqXMJVeLR8/f4LGnjkm3qE1ehIQBMI5AsHPEOZKlR2xKMOAsxk3BoPNe1j9r4tnKmiTl4UvR4os8f/t4wud0rQWP2pqjH03csTIsf1i1c5bpUzWYh1++tymEHlUCHg4RiYw4okE0lwlQKQKBcZwIDrtUaF96axF28/6zMZJ/SelmkM8qfTQQ4wgE4DrkrjIpFKOUoliJzAyhBD0Ixp8o33b3n/6EJ4TZgDupXCGD3KnymEjLDBpp7wyRwB/ISrB4cvHzFM6fOvSV+yfuN7Xxd9988lDUSHKYZTR6sDjwSh++kv/1Uc32lSEOSsyIH4p30kGMY2kgATMtwgRIvIKZ4CtizXKk/q9ZlM6sxp8WaWLEk/A30aNHCXAoCBpr8qdMyRO22/xDzYlM2Mp9j3/1SYep+OUF1YEDbSTMHT8tOY5O835kss5pjYfliVpRrIzdaEFmYdUjUstpBv1x7fDW49NyWHvUc0TYD957YyrvQtSnFmFlFck1So1fCwsrCH8Jm+ePXTleJsGM3xKqhjxrSTLJgGPzEnSxPSz1enpvjBJcMOj5A4sgMw0pgQ6wHofVCuRuVC98W21zqdjmRbvp35PV0EJOkzApA3GZBIOCQgwc95P7S8zOnTJndWSjCiKh9b9islj0x32waKZ8j9c+M/NLjhy/6nVaLUokZiJjU0N05J9sErOsiXeLdhwYgdxdmoDozwKAuETgWBmCNn5+lTpCvSsU5zAdmMMWBYVN7j/4pEpm+fsv3CEorAPzJb8XRZNZPa6THb38U0GKW5wzp+/Td40+/K9a7yF/aidrzKHvEc3/JcQV2cM5wHPx8gZgA3y11DcIMq9YavGHwzYHWHqGIsmhWpD/Qyo+XnH2b10dkT4ihvc8tdONLpHrpxQ4tXU8VNw11OlHKVn71ioE8Mh4OqNv1imDVgyYuupnZDgvEWeSsllsxXHMNWhOZ8uQQIWEUAC3bp4IxKfuHYajYrFXMZk1r9icvknDuAGua5m0safmDaYA0B2owfuVKYl4zu8/tctpnX700lLpjUfnih2wpFrp/y2dxkKQwpEHwgHiKIGZfXAWr0q5iiFfH3YqgncFYYQAQId/xBfV+vBzKz/wUfkOnDxqLHxKkwuqkaqNWz1xF1n96NpxBihTr5q3LhDCRD9Z25egBtkRZq8ec6xq38xdbH1QsBRK29lUn7+Yce2M3vaFxuWYqrlKq8UXPN3L2GVdq9rQYFz8yL1FDfIBP5x9aRtp3chCGDpYFXpVLolWwkr0pPnz8asn+Zem53lqpCjVKNY8TFMHbl2KlpEpdXha+pUpkXZrMWZHl982Knrz1+p7G1mfArfWC5b8W+q/4+YltO6HTKIUGUpcwZyCIzv9WFnWDIaNnPbfDeah3wWQScSK2bp9G3zVhxaf+nu1djRYqZOkILvC+fPxhsOWayu3L9+5sb5xQdWcRGoOo4B39iqWCOmPWIFVp5W03u40QzJIggIAmEMgWBjCGHPcDqH++w08VNCPHEPoSLOXMIXERdcH1mWHVr36S/99Ckg6C1+2IAZS2tcsLZSC0CQDV05Tr/CQBEiAMcYA2qIhlCj4h/wyhj9q0TDA4cZelRoR8SmkzvQzWrzJyTiA5eN5JHtCuUJqjx4OZWvdMARfGxdSG+0Jj1/+xI/G4FC3jS5lPyeqaVPuFEOZxRXHtnAz9AWCbqJAAjXyFOxfcmmSA1wLtplbh83LKBc+op14rk7fzcq6yCmcVu17dTuOW3GwJh9V/OLisMbGieJ7iFXIPSc39+oHEaWhAZveZfZ2OxRPhOs8eSOLAgqC3KE9ce39vl98NiPBxJTOWdZhwwhFlxcA9BkSidtNAsziWYJhSTaHt7yY4p+tWiIbgl2hr1/H5Q5aQZsGQKuZIiN1at+G5YCaRKkbFKoDjjQqV3nDhiXX1e76XWcEQjiBJtmoK5pNrULo6+ahL4OJg1Z1aQmQ/KlzYVDyFVHN+Ju19UGm6SH5WPXqzuurdE0FH8knef2md16DHIKZByYz6gbelXDNCPNo431hElF8iqEIIAskhMrGJbTnmlbf3ZjG0LXN6DGZ3CDzITmU7votYjJgICb6WrTU4iij0Y1s7nkmfk2eMWY9IlSY0daMH1eVm8RKNjgJo+CQDhEwKcM4dA6XyWJmwirGBYgSAQE59gOrTqycdS6qe5ttBAZjBlUVN9FQzQ36GwU6+Srwiv4gVFrp9in+W3v8o8L1EIYbP8qXMV4fYycoQd1iMULjF+/xcM0N6gTj98wo1GBGnCkjJpmCNU5QPY2h4S+zqsCKjFh3I3YvJJHtxFAtDyy4bdkx9b6nZhxU8ZLBoFy78n9mdvnj10/w3hwxXoVLn3FzQrXo2S+4kHLR9tXgXAHz35IdjAEqJyzDB+1fRrYNiM3qBJAl286+SciKh7n7VqkuUGdfcOJbXC8SDGyJs2kI20Co9dN1dygfkVpihGCsUR5qON1YN6uxTCEwJg5aUZnWk2dOLQEkON0KOV/vg49GywcLDphpDaYZszavsD+e3epX97FuVHBGurwXt/FQzU3qNvDDtVr4cClnWehnWteuN4XC7/Tr7wSsDkoqMpEqoJ0A4aQSrnHHIWzV+qSQnyPALrlUln8ZdZsdliywN4zuFiPT9z407rjW9xoDwbMXDpCRq6v0NygeTk23KBOvOzgWhhC6DE4Q4tF6bwSEAQEgbCHgC+undCocYc1EjKM2nE7DjdIPCsjrl+ev3iu01gPcOwHQor0yw+tC1RWipye5ZjE+I9x5v7LDXGd9daGlpTeHSOTXmP7xFt0d8oBt01KtCvHAq5dRjavX5287n/uCMs9nCvoSGeBk9ffyPK7V2gHVeosmcS7hAAsOp8wP8x3OZELG4N50ta/dmGS5IZukKpd+orhK5TIZtmhtfasl+rI0oNrFQHEqWCHXcOJi8P4i2+dXqIXcpjgwu3LxMeLEcfhWwRSm//60/6VykX8gYtHHDLMut54bz3c2BcS6mISxIqn5gmGuIobpO9YrF25ey1ihAiedMfrOJfK7C8FQEzATuSwYdicK0bd6xcj8cmsObrZYaV8UCo+fox4DhNIZKhAIG2ClOpDgLFXvhLO3DrPrnf/qZu2AGq6KpGBhwhoT0ixov3rPKqHxUp2QUAQCKUI+FRDOG7DDE7L4MUBaRliY5ZIvCnkT5eH4/K47xu0fIxLkuP3UmZVoOPKPFD0s7yV60OWOUsMTeDsVfiJ9+4YOcMN9V36RGl4e/rmOWXYaZ9SUc8wDMjvlUqQS8xaFK2PjXG3cm05OIrXR/Q2zjTDKHmQgHKJM3anizpOn7p57qL9K+01APb1SowJAkheMOglAboL6BvM7fKkzgHI/LqVb/vd0pEL9y4zyW7/yqWvGC5UlWAiz0alc/TKSeQIKFjsqyOGa9MdxuOKXcXbqwdVvLKqgiV2mB037g55VG2L5axYXW+0KI5LdlhdCI88dOm4midRIkWNEz0W9iAs9bhX5Qd/1X3e12670/Auzpyhom2AabIv8JYtplCGfJz7Qjnj8IpF94aDw116etiUoKWWYWlW2PQxPDxyZliJJvGvi9MpROGcZeA0BD/MO3v88vXtR3ddwgHnVaTn0KD2NuRSdhJjbho9anSEpFoC5aGMxtUGSHpBQBAImQj4lCG0t+BCcce5ec4BcsAPgCAorcOEpkglvnznSqC5kFi/SXzX35GMw3/md9k5zBL2Ir07Rs7wSRQrAZYqvK2brxo/Z8lUPBdLql0Tdq75lC54mORUPRQ/P6z4uDqCo1kOfWd/vvC7xy+e1Hq/MrqsPlW74bl05eENmPChlzavUd46Q4AhmGHnCAEReP/qPaGVv63h7xXW6OjVWTk63qWvOGGsN588iiZdgn0g4NqJXIgSmGP28gKcLthnMcY4s7AyprEPB17s88f2ucJqDFyTDePEWFTNVe7Lyl34GCc3HVpjTEuHt4MECoh3cWaSqBrhM02qvvx2vjFdbfplkivQV1w5GGgaSRCqEdh2ejc/YxeQo7Ut3pjrZwqmf39840H1J7R3SQ6uFkyHZjXGWoxhxK8cRi2aqUDmJOk5Qa0UlcYEEhYEBAFBAAR8ajJqjzh0/Cezv8DNAK8a5q/BIXv7NM5iYkb1v6yCf48tOKzTJ8pMdERP3roTUMXKX4WAJ2PkDMOYfm/GzlkCY7xiHVUMVi4NJ32C5z3F1HGmi9sCcAcypE4ffZuIzouyqPdvg3Ddjp0wlo3MAa5jwlvDnNZj4GF0Mgl4iMCe8webTumsNLroCV0qzb2v+KnpLXZqQcCcVX/1xiYFegD1tTG15XCgt5i+dq9cyw0I4QnhzJHd4LyHdqKXaxPgltaNNnsX5xjRoqs2PDU9tqC3hlgBNyS50WyHWQLti8NcEhmqEUDexDnn8Rtn0QsMqitkL+lSdxQ79+S5VSe9uPZd1e1nnCfjLitTkvSsfngtYsXGU7cIRl1CXhILAmEeAZ9qCB2iiTX8zG2/4PAdIzTcfEM0OExmH6mvNrZyQkzv9yaJ5Sone5BVjNtj5KzAZy+eqVfcHsG9z86SOYynMTB4/DC/wQKtZp4P2SO5fY6rCDrM+kwJF4wZuZYABhJznRp5PmyQ/yNEpCgYZ7Yc+f3y0TO2/WJMKWG3EcDLy5KDaxoVqIkj3+Rxk6gLXayU5tJXfPfJG/9AfpH9r3V29i/G2+u5TKQ/zvJKfJAigLYE/2EQpvqC9SCtLtDC777V0fmZ2utiYqeKevTsjQ/SQEtWCZwZGFvMLsnCKgJsPe1KNKZ3fAjGy7EC7S926ci5TMgYYwncy4rVBjFIdcdvnLnh+DYWap0Az8bcyKofJSAICALhHIFg1hAq9LW9n3I/YHFItKtuK3pFTUpqqzP7WrjJxz5SYhQC7o2RM/RuvT04kTRuYmdpAo3/6/pZbIxLDanNPSLoH3Bd+0O9r53tlBidcgdAheEN0RnisQb10f8qfiJOZQMF2XoCPUMSxHpjhmclr0tf8c0Hb6gZ82mDK2OqpmR7e1ErTZI0QYrAxbv+Fv4JYvr7HQ32f5o+DmRGvTVdufXoH3raSuNZlKwkkzThDQHsKZRpukurJSipBVMtceagcVaQUxKkwaymzrjWC3Yv0bNdZVTOdc0LkbeCgCAQfhAIEQyhdisCpW4d+qOXT6rEOZ14jzAWpa+1yJbcqdd45c3ZmEvCGgH3xkhntwmwHapTEPnS/ONE1CaNxUe8MnCtGTdJkh6BAr4rTDJyWmPBniXtAm4AhyesmL2USWJ55RIC2v1m0H3FXPuuztuYfPKQQdmSvUvLD1466lL7JbFvEIgXPS4VBeoX2jeNwaqcy+ipy2RG8VY5KELhfPqt808iuUdENVJ5zFZh419OyPtFMVNlGxNLOFwhADMWPaofXX4Q2JFmG1jwmEUMntXwz2fzyuYxS7JM3BJE5MI9Sx1ecJosnvvSWJu65FEQEATCAAIhgiEslim/glLtzRZhPXf7omIq8HAYqGXOqRvnlHisXLYSzsrH5tDZK4l3b4xMcFt/fBtvMfs0Z+FMSjC+4rIB9YhpqDHeYZizE8qmkZv0HCaQSDcQKJaxALkQe7vkLMSlrxjp+K5z/neyVcpRytknz20THFEjzYbjjm+PcKNrksVbCCBXypEiM6W5tNR7q3aH5WB8TnyWpBkzJ83gMAEHlXExyqtNJ3cYdc5cv6nS4ybHYUZ1raXDV25Hvnj5hguN5Se6R7dRDP6MWIqqs/GufgjqVl7O11TNVd68G3H8YqsE2grDJr2zi3lsksmjICAIhBMEgpwhREZl7tUKV/IN8tcAbkjD/f92/8ilrtyCXfP9D50Nxpwdv/GKDbtbuTbO0qh4Dp6p04kZEqVR90TbpEcGHBT7t00tIfPRkzECtBENvulctpUzMbmzLs/cNh9HL7zFQaWJqTB6PF0Cyh8dtgmkTZhSxejTayaJka2q272u3L1uU448OkSAY4FG1z72aT4uWEvZ3y4/vE5rTlQyL37FFDhj63z+4mqva9nW9s1AHPBpgJUUxPrv+xzcSm+fRWK8iIAz1khVwRT6qmo3Zai2eP9KY72YVuKAdHj9ftxSa4z3QfjXPUuV8V6fKt3spQz+ba5Gm/0P20/fOs/YHn1v4Ue5KxjjVZhFtVWxRvbxHsbcfHhLlfBeiqweFiXZgwgB5gwLpknhzI2eFTuQgKWSW5SNKQPdT7lLSTF4n5RqhgramNcmrKdKjuT+Ihibf5y6L5Q+r02kPAoCgkB4RiDIGUJMcTZ8+ut3Nb9Aj8etZRprCP2MidN1LddmeosRnPvCEqzf4mH6LQHuJ+xevi2XyPX/qCeeKoyvdHjm9vnHrv7FY5NCdYbW+YqLDRX/EDd6HK5Ho/BaeSvrxBM3zlJKwl6Vu+CaUp/u4Ih27bxVOF3t7EooXUJYDbg9RtwnOaTOV7i0xo929TyVXMLn/O1Lys4zdfwU89tPrP/BR5otxM4K7qJJodozWoxg39LFdi3XFpKRG+25EExHQl9WzFFKHZ2HG+TOX/WqxLuF8CYK82+zN+dNk3PMxwOpgim34vC/NmNdpgRsEGhUsNbq7vM4dYkfAqMOFgIad1C4eOXyGLLwfakx1dm9/hWvO75F+WBoWrjugBqfaw4E/p8R/6nVaJwGUftXvw8RjzJ6FHwW+KFe3wXtJ+EtA79NRhev6Gz5bOe0Gat8KnLPO5eCGlvVrEjdhgVqlM9Wgg/cGO+D8LX7NwavGEtFbBnTmw83cqRsKBOaDFJXgc/esdDGKyO6HRw2krFyzrJdyrZWemkeWZEg62e3GYM61Ot7ChaDin1tVqQeS5nGx0T+pdNIwDcIsLms7DaXKyUa5K8OkWMcGq5fRvy98JMpiqSZuGkW13LqVlnZT7mg8ps//CklZhces7lUSdmOMuugr5BNjGjQXwnvmJ9KPIouke1VRZKRfRbS6PtavYxV6zZIQBAQBMItAr7wMgplwDqlxKic2eCIEfo6aHotjiXmy4Xfbzu1yzgM+pQ/PF6yeEnO3rpgfKvCCNhwLDmhyRAsD9Xt2FD5/HTJ4zbM1LmopePsXhObDoEVZEHsWKbl9fs38CyaKFZ8DDAgH1tO7T664QB9MZrOGB4C7o0Rx8b0IZnk8cxkog4xxMtLjKh+7Us2RcfLPYH8mB5/v36tyyTXL7sX67wMEyQjP2LgPfAQSHa2NzXc0Emf/tKP0dfpoUr58cjQIy4lO/cfajp10PIxGBLrxBIwRwDXTfBg/EjGx8IZsMiRInO1MaiqjHyh//2pl5K56KK8/hVTcq+FAyP8JwLfO5eI8MNdEO1hGqhpg1Hft0tGrDyyQbdBAr5EACaKX6cy/2GRf/DsEUMTPUo0JHS6DRtPbO82r69+VIGkcd4cZ2IpQB1no2S2Sez1R+4m5T4JbkxhuYDIhotDCUOb9TEt2NeBy0ba19t30dApzX5g/WlT/GNuloO3JI1akeh+vz9+wNZUrVf2ed2LgR/Ah1anMi1pG66SqRG3k+xZ7Wd9tvPsPvfKlFxeRwDuq1imAvwomS2JDYitDZGB3n2InLR59qi1U41VW9xPlx1ax7rao3x7Zhr2NfyYA0jVtTWNf+C1f8EDl478sX5/HtU1vFfuXacB6n4mZBktpnVb0mmmFmQYWyJhQUAQCIcIBDlDiDC4/x/D0POghmKnZ+9kFdNAI6NC3j9r2wL7S+EPXjzKogm5CempDlLrXMYAHrS4aA5xad18VRG/kV5TqAh0/zyzx5h4/8UjNce0xPVWqcyFkagpZQLEx4ZjW9jvcZPIpcPhkCF0e4yuP7iFDFKp4P484w45MnLtFE7mtCvRhFt6mRuKtVNDxtxYdWTj9tP/jOCSA6vSJEhRMH1eNj9mkZ5IEJ2rj2wctW6qdnRJCYw1ftVKZy2KfQ7Ek6btmFT0F0mB0E/GT8M8jJN07ocom7U4khdSQlUYKZsjV05in/nLrj/sr/gLiq8Ymrj7L19zgUHzIvVwBIXGUiktIbm2ntrFjDJZLsy7KW89RAAGCZ08dDBLMWSo8btj1Laf3j1v52J0vPa1sFarowHckOZjblA1ZsqWudxP89/SzXFzhcRQ2Y/A1B25cmLixp+cyRdobYOJHXqUb8eixL6jNhRycfZh2OqJrDPsJt5lCGkt9wfAb7QoWp9vEJyJoUa50tB+UgVXDPsRoufq71cqkC4PE4mJwR6kG4M1+5qjm2dtX6CMm3Q8Aev76dQtP+85f+i/pZpjggFZpUWoFL7y8Ab2OFXs6qObkBT0rNQhfcI0zBbOyxAPQbV4/yruQqSdhy4dU+djjc2QsCAgCIRPBCJk7V3cNz2H1k/1TjJufWDxYsFCeHz25gV9Lt9hG5A0c7SPG1Qt2jakSZCSDTJqpCiwl1fvXXd2lpq6WBwzJU6HDJgGnL55PoS4vHMIgi8j3RgjJPqlshTGOkXbarrXYGZFhkRp2TihdR48e3jh9mUbXZMulv0PK1MorWiRo0EG3Xhw6+zN8+o4ok5jDGBIgzs1RhyyiSlx+sY5NkJjAglbRwBxMgdXsFaCJ+cyybtP7iNDQT5tUkLQfcVUCgmeJn4KdJWM7KnrZ5+8eGrSEnnlMwQQ1qSIl5TZAjXMoNx6ePvMzQtGjyz2LcHil1ycQVUmkfYJfBPDppApcdoY0WKwKZy7dRH9s5V66SkbCo5eHj59hDG8s7XLSlEW0/AB8mXFiR6bGvkGTTY7iwVKMq8jwF6G4Qy2FTGixqDwR88fo6Mz97nl6n6q2DwW5CfPn9x4ePvSnSsOt0K8kqZ4JxmKQ+YzHtcdpvF696VAQUAQCF0I+I4hDF24SGsFAUFAEBAEBAFBQBAQBAQBQUAQCPMIBLlTmTCPoHRQEBAEBAFBQBAQBAQBQUAQEAQEgVCKgDCEoXTgpNmCgCAgCAgCgoAgIAgIAoKAICAIeIqAMISeIij5BQFBQBAQBAQBQUAQEAQEAUFAEAilCAhDGEoHTpotCAgCgoAgIAgIAoKAICAICAKCgKcICEPoKYKSXxAQBAQBQUAQEAQEAUFAEBAEBIFQioAwhKF04KTZgoAgIAgIAoKAICAICAKCgCAgCHiKgDCEniIo+QUBQUAQEAQEAUFAEBAEBAFBQBAIpQgIQxhKB06aLQgIAoKAICAICAKCgCAgCAgCgoCnCAhD6CmCkl8QEAQEAUFAEBAEBAFBQBAQBASBUIqAMIShdOCk2YKAICAICAKCgCAgCAgCgoAgIAh4ioAwhJ4iKPkFAUFAEBAEBAFBQBAQBAQBQUAQCKUICEMYSgdOmi0ICAKCgCAgCAgCgoAgIAgIAoKApwgIQ+gpgpJfEBAEBAFBQBAQBAQBQUAQEAQEgVCKgDCEoXTgpNmCgCAgCAgCgoAgIAgIAoKAICAIeIqAMISeIij5BQFBQBAQBAQBQUAQEAQEAUFAEAilCAhDGEoHTpotCAgCgoAgIAgIAoKAICAICAKCgKcICEPoKYKSXxAQBAQBQUAQEAQEAUFAEBAEBIFQioAwhKF04KTZgoAgIAgIAoKAICAICAKCgCAgCHiKQGRPCwij+aNGjkrPXv39ip+3uqjKfPnq5d+v//ZWmVKOICAICAKCgA0CUSJFjhAh4uvXf7949dLmVdh7jBghYuRI/lv585fPw17vpEeeIxApYiR+MkM8R1JKEATCMAKiIXQwuHBu+/qs4teuRBMHr92KSpcwtSqzTr4qNgXEiBo9dfwUNpHyKAgIAoKAIOAeAjNajmS95a972UNXLvYUtbmwy4SulktrfYNA5zKt1AxRUmljpdAeUCDGGAkLAoJA+EQgmDWETQrVLpQhH9BP2jR797kD4XAMYkWLubTzrISx4v+wajwghEAEZIxC4KCEnCZFiBChb9XuieMkpEk953/z4OnDkNM2aUnIQYAlrm+1HpEiRrxy73q/xT+EnIZJSwQBXyJQMP37TQvXpcaNJ7bP+fM3X1ZtX1erYg27lWt748GtaqOa3nvywD6BxAgCgkD4QSA4GcI8qXN8WqGDsmRYtH9l+AHd2NP0iVJDKhFTJOMHIZAhlDEyDpaE7RFoWbRBnXxVVXy0yFGFprCHSGJA4NsanxXLVIDAmZvnBRBBIHwiEDd67IG1eiWO7S8+u3rvRrCD8EHa3LQhUewEmRKn2xUuJfLBPgTSAEEg5CAQbCajWCl8X+tLxQ2GHDh835JTN84hn6PeLX/t9H3t5jXKGJnjI2+zJsvUsXTLMIZDsriJl3SaWTuvrWl3GOumL7vTsEANxQ36slKpSxAIaQigJFfcYAhp2I7Te2gJFMiJa6dDSJOkGYKAIBBcCAQbQ9ircueU7yT748Dq8HDo32R0Hz17XOnHRhWHNwyB6kEZI5OBk1foAwfV7o33jt/2Lg9LaJTMXISzWPFixAlLnQrGvgBmj/Lt8c4Vbs1AghF8qTrkIPBR7goVspe8dPfKzrP7QkirpmyZW2FYAyiQ+2LqH0KGRJohCAQfAsHDEJbNWrxGnkrPXj4fs24aBGXwdT9E1Pz4+ZPzty+FiKYYGiFjZABDgg4Q6FGhfYZEaf66fnbZobUOXofaqJKZC4Xatoe4hkeOGGlw7d5+UaIt2LPkyr1rIa590iBBwCcIJI+XFAErVQ1bNTFyxBBE81y4cxkKxCcYSCWCgCAQohEIhoWJI3P9PuoBKmPXT7/16I534YkexS95vCRRIkXBCsJh4XGjx8EkjEqhToLoFDVOwGlDvBhx7z2+Ty0vAy6ueP36tec9jRktBj7Bnr54dv3BTVSLnhforIQgHSNoxGRxk8SJHvv2ozvX7t+0v4SDQSRB9Kh+tx7evnrf0kELykwSJ3EsvxhPnz+7cv+6S+7XseHhEMWLVy9wdyE+UZxNCZt4jrw2zF+Dseu7aMg7MeLavHXvkc821TvJGcTnL184+35tSuaLSBI7UYxo0e88use3Zj+XbNLbPDLPk8RJdO/J/esPbqk5Q0yBdHlsksmj2wh0LNMyW/J3bz68PWzVhPYlm7ldjn1GZl3C2An8Ike9+/j+pbtXAx16ZleSOAmjR41+9/E9ZaVvX6bDmKBYr6gofsx4LDtsFoBjvT2o5WEtMOY3ro3e2Fscdl0ivYMAnre+r9ULB3IcDFl6cA2uXLxT7n/+w17J/uUXNdqDp49YAL1CZti3jSrixojz6tWrGw9vWdki6SkkEG17/OLp5btXg5RWsW+txAgCgoB7CAQDQ/hdzS9glvaeP4SRpId2WVwLgQ/MpQfXfrNkOKRk13JtymQtysavsEB3MW3rz7/uWaoeq+Qsi3ev7Mkzq0eWzkOXj/+4etLWU64d3muQv3rH0i0o5Ne9y4asGKtKU3/j+MX6pHTzqjnL0UEVw+q54vD64asnPn/1wphSh2nthk8X8Ph/9s4CzKqijeOfSoOAdCmdIkinIKm0dCkdAtKigEEpIoKAhLQ0CCiKUlLSKS2ISCMNkhIqfL/dF8bjOffevRv3cnf35bnPMmfOzJw5/5kz8/ZM2zR/7JppzvyaY1qeu3YhfdJ03Su+Xi5HSbYWyizctazn1wNN4QhPROAYFcmYf1j9vvBatT9vBR3zRtnmKIdhy6XPMO0M0KhVX8CPkZM3Xa62pV/D3cg4l7KdfLHhy5lbvnb5jhBVtFY2R8ln02QzAbUxQt5xYs/nP07benSnrZa1M6imW5RoWLtAFUyXpRhTYv+ZX8evnbF8/1pbRb20IsDwDazZi6k4ad3sHSf2vpy7jPVuGNKwly1KNiTCAcS3qf7Hn1c3H9mxZO/KFQfWmUyTqPxcuVeL1s6TLicktWQi31n1y/rRq6cwZ0wxk5ChP33lXJ2xrcksnrlQ94pt8YGUAu9+8/FPx/a0KtWIj1cmUrsXm7Yo0cBUH7Bo+JK9UUoRal7Nd4n8zzxHzCHaf2fBIEYnQoxBUDY2KVa3+vMVMyVLb3qOjIwg1SyzP58+aDJJ3Lt3j7+50+ZgVSmVtYjZGlh2Fu1ZgX2K01LOukRE+HpFZ6T/WA9aj4g49ceZ73b/MGn9bA+6Gt63S4VWL2QtCk8o78g8n7f9+8kbZt/9R48fFEgC9G/rFxoXSJ8HwRMfAl008zDM3c2SIuMr+V4una1YxmRPmwWQybPqlw2frZzIdPKyZaGgKFz6k9qyBZuKdLLyc2Wxcc2fPg+Ejcn/7fzR6Zu/mrf9O5NjEuzadQtUrV+oRvZUmU0mCQygNvy29esdS2yfp7WMphUBReCRI+BvhhAaDuIPidHbX32ATNfQ/WEDgg0b1otImHmffnZS06Fc0g7EQawYMVkls6TI8MErb6NSg1AYVKt39edfkqfc+us2sivI2efS5hjfZDCx8hHaedkBGnm3ShfqLt23+tMfxllrwZFOaTFC1I/k37hzE8uQJ+MkIDpFuZwvtJ/Zy1rYpGlKuEfpvDM/xZNJEbaNaTyIAGXm7tGLJ006whMRO0ZQgbwgP/iu8U0+yZD0aTqMNoZjo7mVNP5TbJb5nnmu2eTOAPVu1S7CEphBFEubzCkyOEPVQxgt6TwThAUB9jN2RGSTNAtVVzhDvp5ff/jd7uVWfExnGKZRjQYKPwAfyJQAf8YCecGIBgNGrpqM+tpaUdNWBPrX6IFy48CZQyNXTSI/nF9xhzLNO5RpJu3jacaHw+cJV4YKqFLuMjzIxhByd1j9fqWyFZUqDB/SFiYDHwjSARjFHvMGrDhgZ+ll6OPEjEMtYpz0rtzJEFLkEPqyRr6Xa+evIm3yl6fwM5eGCjc5mvCMAMrbj+u8A8izty5Yd2gLha3cvue67u6mT5JufNNPWGltBeCy2FY4uceWf/vvO6wqfap1kymKkwL9kWUHrhLpYYNx7WyGJGbvgJX6AABAAElEQVSJiPD1ir6xGbEG8lf6Kf7zPJFnIYCAS2w9rYfLKKwvZi8+okF/YSSY8PCxrFesjZ3LtyqTo8SMzfNtL66XgYMAGnKWOPrTd+FQTHtIhPNDeP7pZ2e2Gs1uJe/I5oVJBasfUwKpd+lsRRtNaE+wOm8QoIqQH6Y1U2tM44/4puTSuizDi/ar/mbuNNn7LBxiCpNgGo999WM5RYxLtng6xnbMp8eEf6ZwTTT5yhBaEdO0IhBoCPiVIcTjCDUXEAxc/JkIsaw0WZihgfEb2fADmAH0hCsPrEcpx8aJIxARvaApMc/A/rBa3gosRnCGW4/ugnNgnYJ2xAmKVey9ql1XHlgHrRBiB3Cr+/CVt1k61/y66a35A6xGStCv45oMFm6Qw4UmrZt1OthhJm3i1HUKVmlZstHoRmFU6GVPlYVd/8k48b/ctnDh7mXnrl5InjDZee8MKUN8I2cBH40RD5rSfHjyJ5PBa32zcwkKQ3LQB8IBwoMVTJ+HYNwomrDmwrSM4YDiYWhKZCnM3gNL0KBQDWrtOXXA2mGGjKOcsqXM9M2upSSOXDwBqQThXiVPeZh2aESIfuaDS6H7tJafMTT4Nc3asuDg2cMMJVtjhVylelXuhDT0jTLNURIiCrU+TtOCAB8OQAE+n4BQtI8/JE3CABEqPuEGMabi80RDyyDSDjREkUz5K+UuywDZmh1ar49wgyt/WT9x7cy9v//C8EHWlM/5QqdyLbH5HN6gX4sp3Zz6YdphVqBmZ2Igk0Ih8+PBjUwPCGuY259P//rFhjnonJEyUBJN47RN88yjb/9126Q14Q0CfIN8YrA3g5eOkfLhXO35ML9oMTxVwuS0RjQydBSHLxwjDX9YMEPerCkzMYjyIPMX8dP71bqdvXYeGwSWCHTO3IKi7VSuBYs53WMmdJ/Xz5S3JiJ8vQrqf/Ph7BE4EUzdOHf+9u+PXz7FE+l/zfyVW5ZswDyc2mLEK6ObX755xdoTdIPD6/djU4PCHrFiApoWhCYUgNNoW+o1PsaelTpay2s6cBBgPxpc5132sm93LcNWSDrm5L5C1WH2Qdwijl448d2e5YQJxYCI6sGkTuPmJeojIe1VuWOrqUFeOeH598P+NTlSZ2HbXXFg/f7Tv0I18f3yoQ145S1mLEcNLdi5ZNfJn80jkLAIN4itEyunmGnw4nxuJbMUZnN/5Icumq5qQhFQBFwi4D+GkKWBmISsjwjvWUpc9iZsmeyUSKNrjWl5/FLQ/so/Fi8I+hhPxBhatw+rGNzgL2d/e3XiG4brY0Odvnl+qkQpWEARrWGjaNNCSDvWv0jLhtZ7H3EXZmyd57wvnoGmwGtF64juCypz6A9jTT4hxbBKpWOY2JnMUCVY3BEodpjZGy5UKgqrGapGvCzsuzGiA5A7sBBQcqYzu0/t7zT73aVdZjGCiDYhzV+b1NEyiH9Dr7//7SefvxpkZgObZ2MIyURIaeP3GGJsUBlTjrjEsrFwxnw0Yp5oEtCCQ38YN2n9LJNDO+zZkIyIOdmwMcix2QObktE5gSoDGhoEmOReCqE9w4W5LwUAHxU6n60pjJURP6dhEvMEbQnF5mz71qo0RpQw/6fvNx3+aXabMfCE2DwTudfaoGl5cN338FxFI000Bck0FlZItY0m8M7fd7zxljHNasKKQMVcpdF3IS/oMX+AWXWtBcKQRn4n3CCCP6uYAPaJlcRlg3BfyJ7qjW0rrKCUQdDDAj6r9RgEUhWfLR3v27i2NUSKRfh6Rf9FYvj2/AFL9q02HWYeYua3++TP6GSYujDS3eb2NXdJvF2pg5gxd53TZ+2hzeYWZHrnOe+xs7BYmUxNBBQCb73cHn4eMoBJG1EdQ/5VY1Qzm2MeM/yTZWM41hg70qKZCiDyFqlBmB9K7Gh+1iWU5yJl6/Zl33mvj6dZvh0rQ4gZFJmbDm8ftGSkeSgrAGIafhPWBUnZ9J8ioAgEMgIP3G/80EXOK8NCD+/59775JMIfBy1oGAnTOD4/hqT7bOUkJ10yd9tCKYwkzNRymcAZ5rOGH8C3sAJ2mNlL4k9YS9YtWJVLwgOMWjXZmi9pFlY2b2e+NznYraFVM9ygN1XCXManY4QizsoNSich19Yd2irpudsXOgeRFxczm5ypHrh7Wd/OJSVHAePulTl5Bmt5k4YIw/fGXJoEagQJY4NJjMnUhCCAbIWzQxG+oM2bsTnI8TX8/1DM0gjEjZXy8NBss+L1ucuHNnjpaGcxCC+xG4TyrpKnnLMAOXFixIbgNtygyzKaGR4EUOn3Cw4bNnr1F2Fe92wdQLhTLW9FMrcc3WHlBm3FnJdYNVu5QSmAFpotgzQCPvRszlrkROx6hQKnenD/Vx/cYOUGzaNZ6BBIcQmdjdjF5KdJlBIFC5e4h1m5QVPg46Wjvfx2TBVN+AcBBq5hcOStnl8NtPFv4eyAu9Zk42OhhjMM5yOYVC7nFZZWsnja9lZZyZ3fWji7odUVAUXAbwj4iSHEJrBFyaAIDcHRBa5F+OtBx7tsU2T/aPM2Ht7uLHD66oPYdInjug6TKNZrUAxjX/sYxgxBV5tpPbDbsTXF/i1uIdiEONlOKYwBhq2Wl5cEY5i+ab6XhcNTzOdjZJFtW/t56qGixt0gnrwcpMkJVfyhc9cvythhamt9lkmvOrBeCpgckxAfHkwHTY4mBIE2pfD2zE1ohN4LPoooTA4F2+XCQngTeQ/9iZDvHHSBl6nLPhBiSqglkVg7y2w4vA1tjDNfcyIKgY9q9YJ/I9pQBJ6tWjxLQVHeznUVzcJdz/nGMRp3eReLO8lPEs/1l+6S+6JK2Nar4lkKiZZvwQ631jHzfgoK1AE1XzZHCdPnopkLiIXht7uWmkxrgu8xcM61s3YsmqcxYh9YK8gsCKMhIh75Bw0TlDtB7AS+eyJ+KzRuvPflQYeCj7Zn1cUqx3eP1pYVAUXAdwj4gyHEegEPMfY5YkWu/+2BOihiX8ns7rZmxWri7FXX5xBgzyBkpbETs1VHQoaqARtCXoGYpS2ndndphpHjofJqjxvLJZpF3mxr3MvLbcd2umMyvWzBm2J+GKMjbtzciZctPXSqByVfMBdyyvO7QDmhvyJQTeqEKbBvoTCzzmWVX4N3L5e3RP3rzeNcVo+qmbh6yrEBGPF6HyU/RDQI9iieVN0qtJ3W4rMy2Uu4GzKawuFQGnQaD5sHMXziS4ZBoMm0JtzJHaxlNB1mBAj7TARXePK3538o32CYm7JWJACYXO46sc+a7zkNfWyMRGwlzaIaO2Ys2y25jNj1yvTfnXUrD933+y/ilJs33bOmSzlSPbBe8TDnD549YsprIkAQ4GwtBFisRSNXBkXe8uk/nEpgz3hc4ofhu8Pj1+2uq8jE4XIx25YQTTZPSPhevilIqcnNPiWGnwnn7q41zVcEFIFAQyCGHzpE4BD8MfA48p1T1tXb1z28iDv7Cg9V5BbBtUYH+3VwiY0cfkouqyRN8EDGTFB7lwXItMWyc1fMme+hTWfhMOf4YYyu3brhuXthGCb2pBKZCxFnD8VR+iRpOdvQAzthfTpideulpj0jQCwWCY2A8XPEnsmB0W/zyV2IGkqgYCIW8MNCGNs5vAeNa5/pW7IESSV9xv2HRoHgeAZ5kQswGZw8ictDKcwjNBEeBIjv1bVCW1r4cPEIzHfD05StbvLgoWc0JR6V7a67S3crtrvy1vyIXa8g1mmcDcWDMAVuEFtoRJAozE1PmMakeXGJHWLyrQnOJLReavqRI0C8YqIWIW4m4rEt3ECE9A37TGJolcxaJHvKTBBXiEEjpFlbI/j4VMhVmqCmhJqDFSTEgK2A9ZIwDa2nvTmk7vscWkgwdn7k4M/PYu5OKGOtrmlFQBF45Ah4+sIjpHNEl8J3gq2OgCJGKBshLVsbEcGqNceavv+/oLiFYfjH2WjGdLDHS+2I6CXaDFtTYj1PpjuXNm7dunvLVsvLSyJKe1kyzMX8NUYhvEhoBwkZJLFDoEHlxQGfMCRX/7zGYbh3/rojoUfcYeIHVN09OjLmv/VyB45Ng0OLwNAIBgfUOI0mdiAMCceEQnxAT3ASCefXcbILoWusDID50DhOwFR3JpgAZCIsoLxTpa9D70QsQnKgF3ExRUWAeTyCgwhp0zQiJK87O2FTzJZwd/qrrZjLS5cOVNaSoVqvZOqGuAPe+itom7DS9/FiBznZ3rpr91Ow9sTpxWC9q2k/I0AQTkLB8dAhP3x+5KJXxz+EqocQVG9XegOvVKmF1IM4ScTlZpIwc1hCQ9Way8I0/mHNnmYPhb4iVG/Q3nr3FpONR2AT7qy4/djuSsMb1ytUvXGRWvjRoNwmAlmX8q0J4DduzfTQfrzO9jVHEVAEfIqAbxlCbAz6VOvOCxy/dBJREz/by8QP3u3I5MCxrCkykTh68bjt7DhbFX9ewg0SRYbz4kc2/JCldliDfg3Gt3NGlLn914MjK9yZntLnxy0nbvvzFUJ8ViQdI/hAjo6g82xRGKvgTH/s0r9nM2Lwuev95SG+uxbwBgG2f479oCRGdK1eaOyskjVlRsnED/DPYMp13aHNO0Nj2oevF/63/BhWAprXyleZz40TBTleov2MntsfeuBcufVARU9gGGc3TE68h+cHehDQmMKaiCgEmpdoIAd7EvazU7lWzmbF/xNa09zliEIPGjNrC0JNRl5Dbg5h43U8bBDysnFjBsdYskgPvXlxL80irHhq2ncI9KneDf6fxQeLBjPVrY8TbgorYrkLRQGNYS3gIc2pP7BqFEA8N27t9DUHN6FVNuUJY8NBl+YybAnsQaa1HIlWkOqo+Ob99D3GzCi3TWuz23zuziAfdpEjVfgVzZSfE+pRYwIFh6OgL23+RRdrV01rmlAEFIEAQcC3DCFUHQcA8KqcRcPPwzuzXpQP9g8i2FrgMIQbD29rP7M36zWhC99+uQMSr3cqd7Kdx8pLGTrVmLQ53/TJ2PGdmYGQE0nHqEv5NnCDWFLh2OmMEeLZuCUQYI9EfUidOKX0FvbMHAfvsv8cRSX5129fDxVDaFrDU/ejxSNHrpzctvRrHAmDa+un9ftV+LS+qFYuXn9A+nBgjKniTKRMlJxM4t057UWdhTUnohDguFdpSsQH7prF9uz10q/JXU4c9ZIhlOiF+EphQhlm83t3XfJDvpDCOF9hO+qOLObtkiUIMhC1moAKJ8mCxk5KgDGXXXUXOstlYc30NQLyIcAImXnu8onIR0REAuvoJUPIDOHwElrDqqLu2NbO+UAgdJfPClVmvYLVhRvEQANhq7NuLC+ewulc/Ai2x6EpeIbTIOdCvzGrt7M1zVEEFIEAQcC3DCGWBtiRe3jVGI9zbmkGCuDYg80DCQkp6aGKP2/tPPGz6AOReBXO+DzrGuoLQrrZjk+Q+Fp0LFearJyy6LKHWNy5zH/kmZF0jIplLgB0O07sc3KD5Bva9JHDGwU6cO3Wdc9fMa6bBMfnTbFcEoeZS/89WTu0IGDnCS3Cc7tWaAMBXSjD8xKMiojnCKqhqvOky7V470qXzUIz5UoddJDA3t8PuCygmT5CgNhdnucJ3nHoRlhRj1w8IX247YjY7K5vEiiIuww9Jze4Kxaw+SYkDKqVlb+sd9nPHKmzCkGPQsYUMOGv0L5CYZt8ayJDoG4u1k5GnzThEjzbBsMdMdCYekpQUO9tKZkhYim6YMdiJzcIwqkTe5KUeTkExTMXpCQm0+7OFvIsj7M+BScOjlAe99pgjnouna2oKE6tBTStCCgCgYOAbxlCQndwXryHt02ZMPnqN4POVBi6fJw5O85D+Ud4q/fXH33VfhKEL4Ku/acPWX0D2AAQ+kK5YhPLgYcuO+lZteKyin8yI+MYIS9HPQg+V/684hKl8jmDjjvXfxGCAKcO8vPQVLW8FXAeo0CLKd3caT88VHd3iwMkYAi5a/x4URNtP767SMb8WJijtBdhja06cc8lHvqag66PorGVt10azzFbUHVbMb10IoABGz9nvskZUOOt2gWq/H7lrOdNwZS3JjYd/gm7YvxCOYQ9MjKEGFGjCIIgrpHvJXcMYc2H58uvsZyiRJRpweGlZ8u4ZAiRj5TIUsiKlaYfLQKdZgcthh7+Le0yC9XZsp/X9PtuqIdizlsJ4wTZW/HP3XF/7s7akVpe/kXAR0mM/12ytZzJbNwXvWwQb3AYQiZqwjgJ1IzfS9C0mCLgfwQe9/8jvX9iy5KNRjb6sFb+yt5X8V1JBHLd5/ZDAcKmPrxBP+zszbOgVORMYSR/9QtVN/kmgVTYerSUyY8CCd7rs4YfdC7fyp9Wmmg1RT7KgR9sMzYYUcbizmTL1MtHhYDnrxiFnruOZUiWTm6dvnrOlJm2MUh+RBjGruVbm0yTgHUk+BOXiDncndtmCrtMcAiKkEHPpQ02YXdZSDMjGgFsg9+t0mV4g/7uQmIQs3TdoS08tkKuUpFxLWVSETiX/uMcgaWJEz9evG7BoL0D4QuadlMAI+q9wQrDWvkrZUuZyeSbRLPi9SQSqcnRRORFwPN+evHGJXm13GmyO98Rp+timYIMZ8L5T56CiTKBYWxNIYd9p0pnW6ZcelzJn6YM8rtwWo64fK5mKgKKQEQhELgMIcebdq/YtlyOksiVMyQNWlAe+T+sE0esmEA38Id8r2pXa38mrJ0hupF3qnQhRiL0jdyFe6xToCp+3s5oh9bqkTTN9jCkbh8cx/EafyVfJX++Bb6mPI4dq0+1bgZt+oMKYlbr0TiPaahrfw6Hu2eF+BVzSgFsAFS+OBtLO9hTEflWYifADVrdEdEOibEoIUkH1uxFQD+pAjlSOluxma1GE4SdnD7fDgmbKJqZsyM4hg1BERoVqWney5/yDvPQ6JNoVqIeaBNplsng7q0/XDRCxpRDSjqWbSEDTTwVpAMMff8aPcxZf+5aeLT5I1ZOxIKOPgyr35fwSyZOI17cDQvXnNBkCHOYo3ecWqOPl4xC5shHMbHpUL4LQ3kTj5ctkgM89RCdRzuyEfX0EPdT7IdFOlYtb0U8dU0wIayTMKb4uPY7J/84Hf7OGNuKT+q8ZxZYnsX5ooSTIZKCyxNlJjcbBq+Ieb81chIOwy1KNEBmQa9+2L/W2F+Ev5PagiKgCEQ4Ar41GQ1Pd42dOmZChLWwxpAMT7PhrIuPNUse9p8E+yLI8oKdS6RBHCA7znpnQtMhMCcszR3LtTx/7QKRRZMnSIIKCzqm5RfdRzcaaD1gKpw9CYTqieMlNJrSNA9Dj/inY6NWTcYnAaIKfrvG8y+fvnr2sf89Bo0ItQQr2Gb6W21KNXYpifdP9/QpgkCIXzFfB2wAP8ojUiGERrxYcaBvJJ4k9HGPef2tAe4o9s6CQYx1pefKYj3Ij5iWfF9UkakIR/fhos84+SDMQzB2zfQimfJDAKGz6li2Jb1C8Thz89djfpwS5ja1omcEUiV84PsEkwPvjQmAszzEbvuZvUY1+pA1tt2LTflBXzJMxkYgwJ0OcBVr8UXXMa8OQtEHF9e5XCum1r3799kUhMeDr2s3o6fz+M0dJ/Zy3AuzkUn+ab2+BHKkIswDl6CEw8K733w8u/UYJ2KaE7kQ8GY/HbR45IgGAyCK3q/WjQAznMqD0BnvXN4UxTJG+4s6TQ+nufvC3cuIlZAnXU7OhsW69dz1i3/e/ZMvlAchmOCIUWQTxNizYZsgTnxOm+DHcs2ZmazJ7M6snPJ5MkuRa9iq6KUioAgEFAKBqyHce+qAEILQ9yaiQCBg1/PrgeILjpLQGjp196n9+MZAiUKmsMHDnKRKmJz9ftUvG14Z3Zw4AUcfhlIIhLeIkD6cv37JmPNtPborQtr0shHIpobj2286vJ3yUJDpk6TDK4Pt6seDG+uNbYsud89JjSniJZY+LBbiV7xoz3KUvWKlCYFLiCk+HLhB6ImFu5bVHNPCqh6UjlK4+7x+73/7iXxQ0BwoiuEGMUli9OuObcNhBuF5JaJGdZnTR75x9JbYgeMzIz0MT7Na1wMCnO4jd2F+XHKDcnfr0Z01RjX7asciMbiAMBVykyUXx7zjl055eEQg3GK1bDSh/YR1M5Fi0HNc6CHl2SwwgJ+z7dtqI5saHGy9nb31m+ZTurLFkA8riN6Gj4WdkRPe6o9ry+biATRbU3oZsAh4s5+uOLAOqYGEMIBDY3ViCjETZm1ZwJlYSAqsEYnC9qbMpZZTu83dvpAVFc4TMiZTsvQ8a//pX1tP68GD9gTPQ1vjyMqJnIQ8jonNGg5phKSD9PnrFxGxMUsjY3Bg2zvqpSIQtRF4LOd7pQL2DYmrhvcdPhURYgjht9dk6cyaIiPiMSS+xNNjsfbbo/3/ICT6ZXIUx5TFSbj7pzPwA+w9HEzH4R+IIdEp+ee5+hQvEfDmK4alh5+HgIgdIzaHiXMUwbGLJyRgqeenQHmkT5I2xhMxiLJw+PyxCDyhG0oITQ7TG1bw9z/OurSS8tw3vRsqBDD7hMlZ+vNqbz5hCE1kB0njJ7l//96FG5cJUo0EIVSPe7SFUWxmSp4eUvuf+/cg4pm6UNLedAmIMiRNFzdWXGqhEVI+0BvQIlEZ7/dTZKBpn0r92GP/Q7hAnHNvVsvQ4oDoIXuqzMSY4ZPE2tmbE2IgftInTfdUvMSxYsTkk+TDdGq8Q9sNLa8IKAL+QSCgGUL/QKBPUQQUAUVAEVAEFAFFQBFQBBQBRSB6IhC4JqPRczz0rRUBRUARUAQUAUVAEVAEFAFFQBHwGwLKEPoNan2QIqAIKAKKgCKgCCgCioAioAgoAoGFgDKEgTUe2htFQBFQBBQBRUARUAQUAUVAEVAE/IaAMoR+g1ofpAgoAoqAIqAIKAKKgCKgCCgCikBgIaAMYWCNh/ZGEVAEFAFFQBFQBBQBRUARUAQUAb8hoAyh36DWBykCioAioAgoAoqAIqAIKAKKgCIQWAgoQxhY46G9UQQUAUVAEVAEFAFFQBFQBBQBRcBvCChD6Deo9UGKgCKgCCgCioAioAgoAoqAIqAIBBYCyhAG1nhobxQBRUARUAQUAUVAEVAEFAFFQBHwGwLKEPoNan2QIqAIKAKKgCKgCCgCioAioAgoAoGFgDKEgTUe2htFQBFQBBQBRUARUAQUAUVAEVAE/IaAMoR+g1ofpAgoAoqAIqAIKAKKgCKgCCgCikBgIaAMYWCNh/ZGEVAEFAFFQBFQBBQBRUARUAQUAb8hoAyh36DWBykCioAioAgoAoqAIqAIKAKKgCIQWAgoQxhY46G9UQQUAUVAEVAEFAFFQBFQBBQBRcBvCChD6Deo9UGKgCKgCCgCioAioAgoAoqAIqAIBBYCyhAG1nhobxQBRUARUAQUAUVAEVAEFAFFQBHwGwIx/PYkfZAioAgoAoqAIuAHBGI+EeOxxx6/f//eX//87YfH6SMUgcBBIMbjTzz++BP379//65+/QtWrxx97PMYTQTTh3b/vhqqiFlYEFIEogIBqCKPAIOorKAKKgCKgCPyLwLSWI3e9v5y//2ZpShGIHgh8XPtdJv/K7nND+7p1C1alIr+MyZ4JbV0trwgoApEdAT9pCHOmzlo7fxUPYP1599any8d5KKC3fI2AjpGvEY7s7b+cu0zB9Hk9vMWBM4e+2rHIQwG9FR0QaFvqteRPJvXwpkv3rdp+fI+HAnpLEYjsCMSLFbdbhbae32LsmmkXb1z2XEbvKgKKgCLgHwT8xBDmTpujUZGaHl7pyp9XlSH0gI8fbukY+QHkSP2IcjlKVslT3sMr/LB/jTKEHvCJJrdY6j0zhEcuHleGMJpMhmj7mnwCnmkekJmz7VtlCKPtDNEXVwQCDQE/MYRJ4iXmzbFo33/mkEsIrt++4TJfM/2GgI6R36COpA9KEj/oK/7jz6snLv/u8hWOXTzpMl8zQ0Sge8XXS2YpXHNMixBLBn6BxPES0cmTf5y+fPOKy95evK5aEZfAaGbUQUBWS94Hu4m7bnz5bv91O+q8sL6JIqAIRHIE/MQQPhU/iEQ4fulUw/HtIjliUbb7OkZRdmgj6MWE0F+yd9UHi4ZHUJPazAMEajz/UsI4CaIAHAlixyegCy8ydNlYNMZR4I30FRSBMCDwVLBYhIotp3bHACoMLWgVRUARUAT8iYCfgso8FawhvHTzD3++mz4rVAjoGIUKrmhYWGTe+hVH+NDnSZczWYIkEd7sI2nQKEYu62r/SAZAHxoYCDwVbE/xz71/lBsMjAHRXigCikAICPhVQ3j5hmsLohD6GJrbcWPGSZM4ZcwnYl64fskl5ZoobsLUiVLQ5Jmr567euh6atqN4WdEQ+mGMwoMj45sqUYr4seNd/fPaqStniKztZWu+mBi0meLJZHFixb5++ybTyfvO0Gcq4mSCEfWZq+cji720aAh9TegjWU+ZMPn9/90/e/W8T7/Qxx57LHWilDAw4H/6yjnvQ7RThbEjRDv+P6wzXs5AKcbSlD5pWqlrLCorP1c+VI0EcmGjGLnkxl40ojrPg5I9mTROjFhX/rz2+5Wz9+7f89wyyKdMmCxurLgQ6N6PGrXYLxLFfZJv/Oy187f/uuP5KT66y0ECrHu8MtHXTlw+7f1c9VF/tNkQEZAPAQP7EEuGpwBmBUwM1pOz1y4YzpPFM8Q2Y8eIlSZxKiLfXLpxmbpS3uvtNMTmtYAioAhEPgT8xBCKf5pLDi08mL1eukmTYnUWB9uwPf1Umq4V2pTLWZItXNr87fyxKRu//HrHYrmsmqd80+L1nk2TXS4h3/edPjhixcSNh7eZPtBC3QJVuWw0ocOxS24doohmniV5+os3/nhldPMQCRHTeIAnfDRGrxat3f7Fprx7rTEtzcZjg+KrdhOhutb+urnn1wOtt8Y3+SR3muwfLBqxeO9KBq5DmWYlshQy43vjzs1Fe1Z+tnKic9ON8Ilh7VWWFBlfyfdy6WzFMiZ7mp1YbkGorfplA5059ccZa2HSRTLmH1a/L4xf7c9bYU3XokTD2gWqpHsqtRRjHu4/8+v4tTOW719rqxhQl5AO0BB06ZLPxDoEIma2ZE+V2SDDFzph7YwVB9ZZoSiYIe+IBgMe+9//lv28pt93Q623JJ0qYfIZrUfHixnn59O/tpneQxh1GQU4h7pj28SJGbvdi01r5qtk9HIM3+pfNgxfMfH3K/bhM+1Tq0mxuth2WmOyM9zf7f5h0vrZtGBKmoRM4AHfD1uybzVSjI5lW9YrWI12KMB8KDe0bp0CVWkzS4oM5MSKEWtjz4WmrkwYcxlZEqIYobc+EhzIKFR/vmKmZOkNJvBpPx3fM3zFhJ9PHzSZJO7dC+ISCZfVtvRrpbIWMUsHO9GiPSvGrJ5yzb3vOmrbNqVeK5a5AHIfaZPD2bYc3cmnyrOsT2n9QuPmJeqT03BCe9wirLdIZ0uZaUrzIBNrdwPa6oVGLUo0oECdsW1OXzlLwrp8MUU7lm3xUu4yxqIYbnDj4e2frZyEcxqF9V9gIiCqciP0ifBOlspa9PUXm+RNlwvBljTO5GchWrpv9d2/PR0/yIfTpUKrF7IWlfWcusy6edu/n7xh9t1/9PjBCB8obVARiDQI+IkhTBzsQxjhJAJEKlqLfM/kzvv0s5OaDuUS4CEOYsWICaUOmfXBK28/kyQthMKgWr2rP/+SDMutv26zx7OMPpc2x/gmg9+a/wH8htxasX8tuztpCA52XMm0/YUfKJg+D5nf7FoaZbhBXsdHYwQBJ5oljsq1IWkuEcBTJn6c+CZHEk/GSUA+w8R49a3e/YngFu78fZfBhbPCW6l+oeqlsxerP66tTeQf4RPDdOz5p5+d2Wq02YOZS+y+9J8nInEona1oowntD184bsqToKu8BT+Y3lGNBnK8B5lwKdSlFk3B68LhjFw1+fMfp1orBlRaLIrpUoR/xbQJaTKi4QBIHHnlm3f+fPzxxxl0hv6zhh/M2rLA6rW4/dhuzi1oWLgmo48QYfXBDTagPqzVK02ilMD74aIRwg1SQEaBGYVudmLTocKDYdDFD06MgSCAapkcJV6f/pbLAJgsI3B3/JVnyXHntAljD28Jl9h6Wo+jF0/YeiITGEk8ZP2EJkMMr0uxYxdPMJ/71+hhrcIkMZcuOUxzN2ATohj5+94/vtDupk+SbnzTT5D92V6fRQZRkTNO9e2/78By96nWzbZ0JI3/FHw40sMG49q5FFO+UbZ5+xebmafIlsE8eSFrEX6T1s8a+sO/hyTtPrVfBg6hg5MhrPhsabnLX/aO384fNc1KAtESt5AsCDdIplm+WCsmN/sUqxYygfTvf/7mTWFrqVIsU4F2M3ttOrzd1ppeBggCPnXB6FK+dZtSr8qbMjFYMJ+ME5995NN6fQtleP7qrWvuQHgxe/ERDfqLZIS1EYEIk40FqnP5Vqx+MzbPd1dR8xUBRSDKI+AnhlCohMs3fWI+AW03suEH0E9QjSsPrMcAjPXuxezF+lZ/k+cif8UwrFreCsjP4Ay3Ht2FhBVeAv3Amy+1g6R7r2rXlQfWwWYw2Ht//4UNm22b8u4YQog/mRZf71gSleaHT8coPEAhHW+cIAn2WiNXfQEDIIYxjFGnci3K5yyFOqh35U5dv+zjfEQETgzT+J5TB85cO3/0wonv9izfcmTHuWBjm+BpFqQlgAHoVbljq6lvmvLWxLSWn6VNnJqDGeBwDp49jDSBzbhCrlK9KndC/P9GmeYoCZ30orWFR5gWi2I64AuZ96Da7wg3OHvrgknrZp++eo4HwT71eKld8cyFiN5OXNNpm+aZ1x+8dEyhDPkY3/6v9Kg+cp9VRUxhaGVKfrxktFPJD2Mwo9UorMqnbpyLUJzzDyjJoDQuWhMOgeEY8+qgKp+9ZpMvMDpfNB8OPw/tRcX5278/fjlIEQRnUjN/5ZYlG0BRTW0xAnsBl+AkfzLZ4Drv8ToYI0zbNP/w+eMJ4yZg9OFFiwysQjtvv9yhVv7KKKBeGPzv2TyRVNgky4ixXuPtIupf0Ci0GM73ToPf71kxb/t3hy8cI80ooDTOmjKTU2OWIenT71frxtIxKnjpkHlilg7GnaWj+7x+th7yIQs3+Ou5I5iQbDqyHSEjMosimfJ3KtsyV5psLUs2unX3zpgfp0jFnSf2svsweYpkzDd3+786XrlbIWcpEowmYqzyOUvaPnCkHnnS5aLA+t+2Snnzl+k99tWP2cvYthBZiukBtsqIQtqUagx3+lGtXhU+rS+yCVNLEwGCgHwIf/jAcBrSRbhBJAgDF3/Gnsi6xDxh3etSoXXDwq+4XIWABd3g8Pr9KImAY8SKCRAwWNmQz5Tm7FB2op6VOgYIetoNRUAR8D8C/mAI2UrZ9ng3NtTn0uVIlTDIBwyujGULJg0WzilZDxUQLHA0iEWikc7SOLR1jCdiDK3bh20Y7u6Xs7+9OvEN4fponHVw+ub5GN+z96PeQehrzNIW7FzS46X20AoF0uexmQZREX0OiiAS+4JZx1D1M5AL+3qMwvPukIBYW9Ub29ZK90NXdZ7z/qzWY7CZKZ/zBSYAUlLbUyJ2YkjjEHY1RjWzPYuOfbJsTKbkzyC5L5qpAOIG2Wht/WFSoVhAvWDyoSO/3bWM6lB+TC0sUYcs+9zcDaiEWBTTpXqFqqFkSxL/qbix4tD/c1cv7D71M9abYeYBON7wpWdfpGWI73Frp5u3hmduO/3tGS1Hov/vVK7lNzuXGAM/PuQe8/t/2WYsqp5+NXp0mv2u1EqfNB3nN5Be+ct6J2kuZdDpITmCJzcPwkwUDvPMlfMw84wdx0n3+q/pMpIjuEHKvz1/AMafpiInK2AkvPvkz2Maf4QO8N0qXbrN7WvumkTdglVZAHk1XlAyf3/oTC3uo4amjyzepObVnAkxGWUyMxAMB6trrCdiMnAnL5/efnw3qz2Ls7OWNzmMgnCDtuFjH0FH57IFRs3z0oH6Lt63cZnGpjofKeoXLlnhm33RxdxiykF5bz6yY2KTIfCf7V5ssvzA2kPnjlCS4ePVkGgUzpTPtCMJVMpwqqTxXEBXWS7nC2PX/DvDyacphJIkNhyyM4QsX5gdNpncaeeJfdIafxFVMOUwgcHKlM+wWOaC9Mrc1UTgICAfQtqnUrMssOawQ/FRoLs7dO7oht+2bTu2K2xdRUX81svtqcuu8dqkjkxvaYfPau2hzczD2a3HyJRztv92pQ7IEcjvOqcPhU2B/ad/7TznvYE1e7EBmUxNKAKKQHRD4IEHlE9fW4zpeUSl3GVwE8K2B7s7DBugAqG9vu84bVj9fiJOC3M35v/0veEGTSPExzcEFuo+ww2aAnO3PZDm5kidxWQu3PUD8jYuq+etaDJNAnKfiBdcGtdEcytSJ/wwRuHBx6WjIBYvjDvNovYRO0znIyJwYpjGbdygyWe+kUYAAWdoMq0J+Af8NKw5koakE+9KHCaddwMkRyyK6Uyz4vUrP1euaKb8sOLIpKEh+lTrvvrN+Xg6EfoiDL1tGux/xfc7Yd1MW3V0aJ//OI1M1C9V8lSw3oVdHLZiAjmIA0RpD/JYhsN6QTS/981ga2FrmgdZuUFzCwmReKC9nLsMml6Tz9IkSwG2qVZu0BRY8+smuHou4S6Ma6i5S4Iuof8x3KD1VtRLy0oOo96yZEOGhnUefh6JG5pb7NlWdp8LvGF4a8wmqwUvyFuO7nA5fO7aHLlqklWQJMWsSwfqEWtddMVwYuT0/W6o4QZNAbS47ywYxLRkzWlePMhvUP5t/C3IEZ23Rv34MC/o/wq5SvMXRbR4JWDUJ9uHKcOGQpodZ/PRHSbTJBbu/sHKDZp8s3PlTpPDZGoioBCQD4FFkplfKltR5Mv5n3muTPYSKPewJsBtPkeqf6kO73teMVdpMSEet2a64QZNdWasrIomxySwouekUy7xdbdyg6bAx0tHh1lYYxrRhCKgCEReBIJkk77+x7LVd+FQvPJOXT5NhLRrt6/jC4HXBER8yayFoZbgDFkc0eC5dOfwpnvupKSY2fAUtlu88J3tnL4aFJsOOjJx3H9dd+gDrZXNUQJLRcKZ2JbIGsFECbylcTt0NhsZc/wwRmGGBeoNxYLL6phuSr7RX9mKReDEsLXsvDQhcxLE/pedsBZbdWA972LNMWmU5Gg/DFtu8gMngXvttNRZsXs8dvEUIVURtUAToxZDuIOWAw0zrnRZU2bsMqdPqGwdWQfEI3fR3hUuKyJKl4+Up2BQagUE601IHARM71TpvPXoThgGeA8Q7vX1Rx7UldBD1kasaWyoINl5F9ySzcwpnqWQiNUXuDcRn/fTdzDGrCSsGxiFWtuU9OhVXzgzo2TOmB+nwk6DIVOaKKyoykmneyoN5pQoLpgwsIUwRYxdqF6/eJaCtEOVudu/875iGJYOSHbaR9yA2sTlgxDrMNlQzeFzZQqg85E0r2k1CsUMj/wtR3bC18FMMpHK5ihpncYIViiAktmlmGnF/nXmEdYEFtTClAbyimHtcDRM917wEV4ACCOQQPGXM+ixPiAeFcwhXwFkCeYtLad2c8nwe4CreOaC3GVJ/H7PcpfF1h/aAluIBM12t2jmAqgoyfx211LbLblEe8lii4m+y7uaqQgoAlEeAX8whICI+ZZLCy4Mit6v1h3NIcZFOHtgtxA2xA1jYKsulnvEr2cztt3iElMfnENYOoXUMAUW7FgMYYfLSpnsxa1nK8O7lg/e4PE5NNZrplZkT/h6jMKMDz57Li0wadBofWPHDCIWnf8idmI42ycHtRix7JlCiYNjP5Dz+MOwb7byuCTZcsylzE9hPExmQCUgMgYtGeWyS5mTpx9Stw+8Ii6deLDM3PK1y2IuM/OkzSn5iIpgDl2WgVaGx0gTbLRpK4Bt57dvTEEYT7QefK64i6LPGjfYVp5LK71uu4vtq+TkTJXVMIQEtpFMd3aJ3MW8kMUE27+86Z793//sDCGUloe6tj5E9kv8mtwt45DC+FKyruIauvnITzBd3r+sGYVdFvvJEKsjozFGIrbCLpcOphk7ESX3uLFBlUZ2ntwHQ8jmBX0v/g7EkcKdGEa3SKZ8Zv5zKd1Gf8jjcECgVrmcJQxDiKpH1EQbHA6E8iAPKwYNOncu2zvq5SNEgNhXmBw7OxCkWy5Rv2v5oFjHQ+v1rTyiMUSIs5i7nBzBMcmQdLtzFET8zZxEsGVrwSgkcYO33TKXB88eUYbQoKEJRSC6IeAnhtAdrESi6zGvP6Qeon2EqfhveAj77q4R8q/e9nSioEvhq4fWsAFjtUX4SmBSK0NIVDoRvEWxcDIeoAjCNoLGyPNTPNzlyEEPdz3fitiJIc9iDmALVzJrkewpMxFNBOcQz30wdz0EfzNlImMCarj1tDcXd56BCBxaxxDE3rxLioTJpBjWnp7LJ7CYcZqS6KDe++ZjE7sVHsMa/tEUsyY4ts56aU0jOZJLc3YCl4jz+YtCxhZpxloRbpCe4LFGzA9rvqQ55NCZGQ1z4LHfmj8Ad1lUqU2L1UOF4j0IyRMEAYtixGkm56ERD4pil7Ww+ZR8dOAuC0imGVCGWxhC8jFCIdoHJrLoYcQQgFWCNJzbpiM/UWD1wY0whARDMj7GqBNFabP+oYLR9tCoumLYXjNaXbKSTFw3C+EXXqBYhWBB/c1O1yo7l7CITtjMQJdlLt34w5kvc5svSAKhOQuQw5mELvM1UxFQBKIDAv7wIfSMIyvUtIfBjhGvei7s7i4Embtb5HtzTqu1OjI2zhYjB9cXsdeXu3JwBVJn4s5Zy0f5dISMUZhRuhvWKBQ8MWInBg3iTra825dExSS2ECZwWBSjcdpxYi82Y7tOPtAvuXtTz8dDuasVKfJhhzgTkq7CIbv0o3P3FhDH7m7Z8t3pXWEzTLx+ToKx2XjbGuHy73tu14pbd29L+fgWgyuRARmFkrNBybn1V1BgEpfSgfBMYHePi6T5DJZwUAQYC9UrCLCh0qXQfmiRjxf7gaHd7b9cWJSYDt96GIQmgUUYJFajRulHYbEXxX1UfBGxGCcTNTKaUmlKQIBrFedV075JhLb/pqImAhyBKRu+lB4WzRi6D0GWI1lt3L2jzDfbXZnbZomz3ZVLoo+6zNdMRUARiA4IPGINoUB88MwD2yERAwcC7l/vXMIp9mzelZ8rO3vrN3QJAZuEs0ee584TLBB67qM++HSMAtlU0oonGoAPa/YkB4sdgkauObgJRsgUwJ+No+rMZXRLHDz7m7wyahMJke8NAnf+fmAuxfmNIXLULhvsVK4VXKjc6lCmGW5Xnq0MYseI7bIdMjHikls3H1L8XIpG0WZV7mwhbswgXsJa0VlGc0Dgl7OHsbR0qUr1gI+wgr5eKIz2OI4bE3TpISbikrh5J0gKIP/QELIvoPHDLZADMFABEUeEW8t/XiMFOEyFfJzHiDUqLuices8tqShl9G80QYCNg2gFEBWh/RC8MRXGKtUJozdfEKp7Z0XNUQQUgWiCQEB8/xhRCNx3//Ekl/XnkBBPXKS2VR/GNiSyoqyzhL/3Z08C5Fk+HSPv1USPEA18BQl8TwdQEdcd2/qrnxZZuUHyJTjhI+zho300enXpQKgUoca6Sc51CO0rFM6Yr0XJBtT6cttCTKGYSJ/Ufc8zWZM0QWJ3TyFGvNy68ucVU0ZGWSLomExbgrmRLEGQtaHaXNmQcV7KSuLSqdtZ2ORIpFBwNlad5lYEJswXzYlEHpo1kUIv3fxXHoSij8ONqMWc5C/+58wZLBSwFDVNSXCsF7IW5kVohGMSueU8gdCU10QURuDBhxBK+xexgk4WbEHtDpwEcVyYXYiwAxk3vq/uKnK6vbtbmq8IKAJRHoGAYAifSZpWgDZxGgMBdzlYgiCKQqpWCT5+EE9xIrwFQvf83Icwj5Ex2mQrctlnLAyNZsZlgQDJxJtfIokTcwi/SmevUif2REQ6y0exnPQPv2IPPirOVyYci2QSRNR513MOlA22u7B/uA5yQHPvBYNQ0fDBti/T1EPFrCkyubtLjHi5hRbLlDExGMxdc8skmBsiDjCvY25pwoYAR/ORE6pJQnlz6Lwc425rM6IuYVMljovnp8hMwDDvyMMox9IBsRpFMYieUOxCiZ1jjWqz8pegqKGILZjtOBBaa0XUK2g7kQIBLD85ypWunr16IVQdlvmZMdnTHjZNNPDONk2AInTUzruSk8FVRXeFNV8RUASiGAIBwRAKrwUxt+XIjsDBd9GeFdAHbO0Vn32RaDd50uWkb1/vXBw4PfRnT8I8RiYuwtNPpXHZYQK6uswPtMyEcR4IVp3HmklXsQQLtD77rT9oPPhMeNxv548ZNYs3T8eOTk735phB6+l/3tTlSHqiMvCRvvXVB7gObjq8fVbwuRRtS73GuRHuWiidvahE8nAWkPMMaXDnib3m7rpDm8Unp0a+l0ymLVHz4YHOa8J0Srj4PcJS+tok0tZt/18SwzN32uw8F04pVE/fdPgnMdT39dnZy37+kY4RkpGouS57KMfBc2vdoS04V1vLCEMIv0d1OU/CGpOMkkguxJ6Zs1IIP0MOZLqHYEXWxjUdlRColLssayZvFNoPYevRXdRirbCeemJFBs92VkVrjqS3HdspiZeedX0QKAptpqWzouYoAopANEHAHwyhO05AIIbTqBZslrlk3ypbJOWWJRuNbPRhrfyVH8lgcLCEWPgQLE7CA0AX/vDQIeSRdMl3Dw3zGMHOfdbwg87lW7lTAJrjvITatr0COrdWLzS2ZQbm5cUbl6RjLo+Px6JYXEwDs/Ph75XnGdKrcicpMGPzV7ZnhfgVT94whyqcRjCwVi8hkmwtuLysXaAKZzRzi4OYhaUkPWTZ58cunYSyGVznXXd2yAh3OBvD2Wa9gtVzB58wsXz/WqsGGKedecFn33GohhxSZ6uLTrJuwepkwg94ONPCVst6KSw0bKo5XMF6NxKlYek9GKQRGObj2u+i0cVYThyzzasxWO9W6TK8QX/ANJnWBHwUDBg5LMU+FSFhGCJRqd+v2s3Jn9P5PtW7yVrnPEpxx4k9EpYDZ2Oiy/CaEkjG+iIrDwQdg5n36dwiYVR7USs4USaNVZGHpYwDcrpXbMvLEg3LdixqiPvp4r0rJMBVx7ItnCGsWEO6VWjjEkZEdXuDzTFq5a+ULaULK4lmxev51B7bZa80UxFQBAIHAX8whL2rdPqy7ThitORKk81sseyp7P0f1er9SZ33WMXOX7/4ybLPrbjgicGiWS5HyQE13hJfC+td/6RFH0g/q+WtwBOX7lvtMn6Xfzrj06eEbYw4mJED6GCY0cm8kq+Syx4iAhcqGc6/S/nWRguEjJPNb1abMURfcHfMoMsGH1UmL4I6i6dzAHqDQjWMoxrHEnSt0Obj2u9wYvWj6psfnvtV+4mc7gBXz8doNGxQJPBIM1qNEhZry9EdX+1YZO2MN1/xt7uWyaF/fOwc1syskEh6tANVjSIF0oczLYzjFvkomnpV6khi85EdVrocUunt+R/gzQjX16daN2tPTJpPuHflToSikfMkyOdxrV5o9G7VLqS5++nycaawJEasnCiG4sPq96WkiTzM6zcsXHNCkyEQf3AR/b4baqvo5SXnQUtJOmak++4kLF62+UiKYQ66otvc/jV6MIho0kwfiJxRt2C1bzt8IVzQ+LUzIE/NXRLNStRrVKQmHD48oTXfmv5w0QhZfofV78eUkEhCfIY0XjpbMR4aIew0tqyyE6Fkntp8uJVBxdZufJPBIhSYtWWBMwYS5vH4FNBnEWJuP77baU3AGbYUyJsuZ8bk6UlsOLTV+o6ajhoIcJjE0i6z2BdYvhB1mZfKlCw9UxdyiF2PZarPwiHWqMje7KfIqj7/cSoNsg5/0WyYfFDSPjrt0Y0G8i0YqxzzXEl8vGQUanZ23olNh9JDw7LyqUJrdavQ1l1FWzt6qQgoAlESAdduXRH+qmzVsluzHrGpE/kdkTCCfHkQgcg5y9jmVWLc+qE+UydOieA/wnsVYoPEf8OtERJNzO4XROlwMmEYo8TxEhpPhjSJU7rDs+/CoZObfYosoE2pV1uWbCgDDTlODvOh//efcjyXaHvctRAg+YMWjxzRYAAT8v1q3Qgww5Fo8BLiYgrT22JKt0WdphuON0D6HFHdgPKGyudHg6g+btz584nHH48fK55hDjm98815/SVSgnmol19xt7l9P63XF7crdHSwnVRH0xLj8RgumSLomCF13wd5dPi9vw4qbP2HFHz82untX2yGAAKd0sLg82OsBejkwJo9Xy/9WttSrxLojzCn0EMQSZSBn2Qhcp50R4C+Fl90HfPqICTrkE2dy7VCp3fv/n1YESGqIKTazejpfWxVa39I7zyxD84WI0PWGQ41OXXlzBOPEXQkWd5+5W0lA/8SJrlOgar86CoM0s07N2PHjA2lKz3HxnLCupkjV022vUiqhA/8b4PHIoZxPLYWQ+DSfmavUY0+ZO9o92JTfhDTTEuzjyzZu8paPszpudsXcp5Et4ptOR0XCQXiKvg6pACGsmdSDVoy0mX7aIk5rEgkGj/8vNZZhuPpiQsCP8At5tX243ucZTQnCiCAwKL1C435yUCzoDGpZJ0hB8/SdxZ8LDbG5mW93E85xjBrioysb6yWc9qMhUVk/WFGyfwkgC0Cpj7VuptmTYLjkT5YNBxVPJsv6y1dYh3j2xTRGMfJvvvNx7NbjzHlNaEIKALRCgF/aAiHr5jADirCJ8hHKAY2V9nFIaMHLRlV+/NWNoExY7D31AEhLlk6TUQBP48N7Mq3u5bKQ49fPsVe7ucO+O1xYRuj89cvidKMfopvg8sOsw81nNAeFy/wZNzZKfmxNe4++XPzKV2JDxk2QzuXz/Jp5ooD66D7j1w8zlOg+TInTw83yPxEXdBgfDs21ygcU6THvAGYt4m1EoOIZSB0OZ8ztPvWozu7zHkfZMTWzjoEXn7FCInazezJqeUYGDNJaAEyRbhBLkF18NIxl28+OG0Z++Rn0wT5ofX/7lOXYag+/3GaDMR7Vbs6D0XEZavG6OYLdy3jXaCE0CUyFVlq1h7aTPBYG4lm3oV5zsEYMDOYtfP6qCvFKgxqbM62b6uNbOrUF5m63iRgROFn5ANJnyQd3Ybh9KZiQJVBi050H+IzyyAygtCpwg0yNyBV6497fcSKic4+G/RYK1xyg1KFmVZjVDO00GJTwMDJPgJnuPKX9ccvnXK2HLYczJibf9EVwpoXYZ5jDg21TZpXY6r3/OpDE1PX1v7Gw9skh8IrDrhgCGGJfzy4ScrQvlVBZGtKLyMvAgt3/TBp/WxjM4LYFOcI4QZZf6Zs/LL6qGbO6eHlfsoUwmsaMav4o7IUo5lnfmKACr+HwAvWzh10mGqz5+4+tZ8CfJhMbNZAtrDpm+fXH9eWZdPD1+euTc1XBBSBqIHAYznfK+W3N4GEghNAq8BJ8Uj3j1086dlEAXk58dwg0czC6reuRtsHhXaMkOiXyVEcQhAtR4igoT1DtElQ7Bu3b2KDJ65TIdYKwAKQ7BxR8Nhj/4M9wIHNHXUYgD0PZ5dQiD2dJC2aMUicv//558qtq4fPHxMu0V3Lof2KoZywCE0Y98l79+5duXWNVSJCLIrNKZEtp3TbFBzRhFfIkiJjkniJr9+5ceTCcavfoLt3IR+VVKbk6bEa+Of+PSYwrw995qF8qG7BPqGEjBMjNqrLwxeOydFhoWohQApDazKIDCXqQc7C5ngGAnJ6BgpTN2jTpT+vdooVnC8FH4gjVtL4Se7fv3fhxmVIYbEmdZYMZw6yy6wpMsSLHQ+iGYbT5uUezsa1epRHgC/6mSRp2Piwd2Adw/qAuerhrUO1n9IOhqNs2STOXbsokkoPjVtv8a1lSJqOEzVZxBDIKh9oBUfTikD0RMCvDGH0hFjfWhFQBB45AoYhbDOth0byeOTDoR1QBBQBRUARAU9xKQAAQABJREFUUAQUgcBBwB8mo4HzttoTRUARUAQUAUVAEVAEFAFFQBFQBBQBg4AyhAYKTSgCioAioAgoAoqAIqAIKAKKgCIQvRBQhjB6jbe+rSKgCCgCioAioAgoAoqAIqAIKAIGAWUIDRSaUAQUAUVAEVAEFAFFQBFQBBQBRSB6IaAMYfQab31bRUARUAQUAUVAEVAEFAFFQBFQBAwCfjqY3jxPE4qAIqAI+B+BM1fPceIlzyXh/6frExUBRUARUAQUAUVAEQhYBPTYiYAdGu2YIqAIKAKKgCKgCCgCioAioAgoAr5FQE1GfYuvtq4IKAKKgCKgCCgCioAioAgoAopAwCKgDGHADo12TBFQBBQBRUARUAQUAUVAEVAEFAHfIqAMoW/x1dYVAUVAEVAEFAFFQBFQBBQBRUARCFgElCEM2KHRjikCioAioAgoAoqAIqAIKAKKgCLgWwSUIfQtvtq6IqAIKAKKgCKgCCgCioAioAgoAgGLgDKEATs02jFFQBFQBBQBRUARUAQUAUVAEVAEfIuAMoS+xVdbVwQUAUVAEVAEFAFFQBFQBBQBRSBgEVCGMGCHRjumCCgCioAioAgoAoqAIqAIKAKKgG8RUIbQt/hq64qAIqAIKAKKgCKgCCgCioAioAgELALKEAbs0GjHFAFFQBFQBBQBRUARUAQUAUVAEfAtAjF827y2rghEHAJPPP4EP9q7+/fdiGtVW1IEFIEogsBjjz2WJlGq+LHjXr555eKNy5HxrZIlSPJU/MQ37/x57tqFf+79ExlfQfscKRDQ/TRSDJN2UhHwGwLKEPoNan1QeBHoXK5Vqxca0crz/StET54wXqy40IsnLv8eXigjbX2ImGeSpAUBpZUj7RiGseOehz7mEzE7lm1Rt2DVRHETygMu3fxj4OLPluxdFcbn+b1azXyV2pR+NX2SdPLkW3/d/nLbt4OXjvH84n7vpj4wiiAQxfZT9gVkQH/evRVFhkdfQxHwOwKPgCGM8fgThTPmfzF7sWwpMyVNkCR+7Hi37t46+cfpjrPe/eufv/yOgD7QBQI6Ri5AedRZCWLHX9x5Bgzhp8vHTVw369F2h86Uyla0VNYiTydJmyRB4lhPxLpx+8a637YOWfa5Tzv2+auDSmYpvOG3ba2nvenTB2njEYJA6kQpyuQoUTRTgZQJkyeNn/j+/+7/cfPq9M3zv9u9PLTtexh6FIOfv/pR8cyFpE2IQkQnSeM/deziydA+5VGVf730a53KtZKn3/7rTuwYseLGjHPu2kVyPLz4o+qtPje0CORMnbVM9hL5nsmdNMFTieMlQqB5/tpFBBa/nP0ttE1peScCSIq7VWh74fql6qOaXr113VlAcxQBRSBEBPzNEJbKWrRn5TcyJH3a1rOMyZ6J+UQMZQhtsDySSx2jRwJ7iA/NlPwZuEGKlchS6BEyhOgrGhWu2aFs84RxEvynz4lS3PW9QKdQhud5aNFM+f/zaL0IPAQSxX2yU7mW9QpWZ8JYe5c2ceocqbKGgSH0MPTV8lQQbnDJvtUDF41ANwhDmPfpZw+cOWR9dMCmwaRDmeZ079C5I2/OH8BfRHLPps1x4tIpMj28eMC+kXbMIJApWfreVToaaYXJR6OFlEQZQgNIeBLyjSR/MmnWFBm3H98Tnqa0riIQbRHwK0PYsmSj7hXbgvXf9/758eCGjb9tP33l3M27f6JtQFv41z9/R9thCJwX1zEKnLGw9eTwheNIQNnz0I/ZbvntEqnNsPr9y+YowRMRxK7Yv3bbsV0XblxGlJMkXmIk377uyZYjO9BMbjryk68fpO2HB4EUTyab2nKEWD9i37t8/9p9v/8CnwafkyJh8is3r4ahcQ9DXzVvBRrk63h7/gA2F9IoCTcd3h6GpzySKpWeKyNsc/d5/X87f5Q+8Ba7T/4snfHw4o+kt/pQ7xEonDEfCl6UvVTZeWLf6oMbjl44ceXWNXKwrTj1x2nvm9KSHhDgG3khaxFWgF/PHfFQTG8pAoqABwT8xxDWKVBVuEH2uV5ff3Ts0n+Medb8uslDL/WWfxDQMfIPzmF7CnEmKo1o/Gh9CD+s2Uu4wa92LPpk6Zhrt2+E7V3CXKvDrN7iQxjmFrSirxGA2J3aIogbhKthkszauiBCHD49DP2zabLzUluP7hRu0NcvGOHtS/8hZ4UbtLXv4cVtJfUyoBDIniqzcIP4tvX8auDGw49MkBdQsPiiM5M3zEHqhMhJfQh9Aa+2GU0Q8BNDiDtHj5fagemukz+3mNIVH4logm8kek0do8AfLHa7RxhRBue9qnnKgxI+YB8tHvlI4IK1OHrxxCN5tD7USwTal2maPmlQZJRuX/ZdcWCtl7VCLOZu6HEgTBwcSOb89UshNhKYBZLET0zHzl8P8hh0/nP34s6SmhNQCPSp1h3hyNVb116d+MYjXLcDChPfdYY4FL5rXFtWBKIDAn5iCAme9mScBDhS9/pqoO+4QfxGMMp/Mk58dCkn/zgTYiDKWDFiEfOAjhGj/PSVs9FhvD28o3/GyEMHwnDr8cceR2OWOF7Cm3dunbl67t79e940QkBCxh0fp+u3b569dt77Ccnuji1cnFixqcjj7t+/783jKEPFNIlT8lyUAEgxnbUIjUiXyKfZgPWJ717xdXqI5aqvI8c48QlDDoboqRKlwMaV4A0uMQ9Dm1olRASQKzUpVo9i6JAjkBv08Fw+K3hCCniph0yVMDnnOlCFj5Gfh5a5lSZRSgrfCQoBciG0+nBWGGYgaxQKIs8PYifiWeFRb+KF+FT8RCDARhawC4hnqKPY3fI5X3j+6Wd5KWRnkYUbDOt+GiN1opQJ4z557db1U3+c8XIXluFm+4Zmg2dGmuOSYIOoY2eMEzMOHxEHsYR5krBKPP1UmgRx4t39+y93u3CYG9eKikDUQMAfDCHeEZWfKwdey35ec/zyKV8AR/uNi9TKky6nCWDAqrT/9K/TNs37fs8KeeLrpZs0KVbnuz3LWaBZYohJVTZnSSh1ucty883OpWPXTIueJge+GKPWLzRuXqI+8Dac0P54cHQE69DjNTql+XByzlw9X/vzVtZbkiZuWIsSDUjXGdvGxq7fu/cPGwlhGF7OXQaqS8ozcGt/3Tzmxym/nT8mOc6/zJA2pV4rlrmAGXc2oS1Hd45fO+Mn957oWVJkfCXfy6WzFcuY7Gm2TPO4Vb9s+GzlRLZA24Nkpi3eu+qDRcPZhLpWaFMuZ0k2JClG96Zs/PLrHYvlEp1b0+L1xGaMHJjMfacPjlgx0WlfRAtrenxFmWmb5jNRpbrf/jJeWEDxODofge6+NZ5/6e2XO3h+iwrDGiDikTLjm3ySO012IGozrYe1luT3/37Y0n2r8z/zHOFMCmbIawYLzFkK5v/0vbWKpn2BQKXnysKE0/LEtREcCNc59EUy5ieEabmcQR6t/Hu1aO06BapImgWHZUfS8he6kw+TL5Glw+T/8efV9Ye2frRk5JU//+PWKIXL53oB/lYK82HuP/PrzC1ff7trmVMSZL5NljIWNEBoWqweq4150Omr5+Zs/eaLDV9audYsKTKUz1kKG2z5/Pm7sedCU6XqyCZIKrl0vrgpw7u0e7FplTzlrRGeIK9tPbR+QaauJnyKQPXnK9I+kwGSI0IeVDB9ns8afkBTnyz7fMHOJbY2WesWdZ6eKM6TCCnrBE9CW4EC6fOMDK5OaFNDFEmZMO+naRKnYqUtl6MkseKlKYQRi/euHLN6ilMGx9c6rH5fwkbUGduawkTZwYeI4KtS8d1vPjZ7ouTwvu3KNCNaDI7HkvP7lTOzt3wzffNXzuiDsudSrPQntW13icHWomRDazsU48PffGTHkr0rVxxYJ43rX0VAEQjauX39r1CGvLKtfrf7hwh/FpT9sAb9CIxpa5n1MXfaHEkebufcRdRE0As23efS5pjcbJgsYfADjz/+BCsOOyscCBRAk0mdYA5trUX5S1+M0e5T+yXKCDuBkyGs+GxpuctfOC6n8wwMGLdgt2zcIBRV9lRZJjYdIgeOIVYnhyjtjC/84YvZi7ed/haRTpxD9kbZ5u1fbGbyOeaLyYNsHmd0fpPWzxr6wzhz1ySQ8s5sNVpUEGRSCxEjXCiPg5crna1oowntUZqZ8iRkphFhnDiHk5oO5ZJM9JCxYsRkWkIFfvDK2zjCDV8xYVCt3tWff0nqSn94EPNzfJPBb83/gJ3V2iy3BDFp0HrLD2mw5SmgHbEHu8WJGVteysMrGL6OMujzKc9fW3nJz5Yy81PxEr9bpbOMF5gzMUiDef8aPRjl7nP7hkcPY3uoXjoReOnZF8nk249w2Z9t6PkKvmg+zNoB5hI/yYHgs95iWRhar48RA5lbT8VLVDJr4RsL/uMKy8pDYfOVoR6ExWUSsncMrNmrWt6KHWe9Y5Mbmm+TAKoIqmrlryyP4KNmBlIXTSMiSKLjtp3+tuEJP6rVW1hBKcw2ZP0WzLS3vbjpPOEridwjeyvr57FLpzCdzZoykzmJkQeheDl79fy9e16ZTpiWNRFOBJhpQpMs2rPCxpyHueW9v/8SN1ZcphMcjpMhRP5lTrBESjJrywLbg6gls2vH8b3WW2HeT1lORzQYIF8ci+rNOzeZqOyMDQu/gnaUY4Fs8V34iOgAuj6e3qhIzd6VO5kZTo7NEYCdmv1a+skHCJ1G46jB33ypHXL8djN6Xv+v+zpfq7ydrPzmBfkYO5RpJpe86Y07N2XT58OvlLsMEdqUITRYaUIR8AdDCGMG0CyLUAkGcb7bWE/E5FM3OWFLsHPLykvjk9fP3n1yP3tw2sSpcqXJBhFgI6l5RI5UWca+Npj1CznZsp9/xHiAnuRKna1juRa0w3kYoxoNbDihXUQt4mF7Kf/X8sUY7TyxF7KJlbpIxnxzt/8r+Za3q5CzFAkUuewK5XOWtDGErNp50uWiwPrfttrQYOzGNP4IkTxqtEV7V4iCjpW9YeGabUo1Zn8aVPudl4Y1sNH96CqFG2SXouKmI9uFWyiSKX+nsi2ZLYRXvXX3DgpG2+P2nDpw5tp5QsMh6CWUmVitsJ20CtZ/skv1qtyx1VQXZ+LBhCCRBQH0hCsPrGcDo88cv9m3+pvB1RthZlMtb4WfTx+EM9x6dBdyTawcOZyaPY+9872qXVceWBf+D8T2OmG+lBlCQHwrKSyyWxvUoXoEUmFUqc4q6PBntR7D5CFSiG3vdxY2OUjlMQg8cvEEmltisdJVMC+eueBbL7fnYJsKuUp1rdD2k2VjTHlNRCwCQWtpmmy0uevEPmvLiF2Y3hG7qDK4RQYG6QPZR9a9/Q0JlMCjV0+R5xqmi0vkMqhWmKt88lM3zV2278ffr5x9Mnb8Z5KmhUq+duuGdQLnTZdrZKMPKQxLOWrVZPYI1HSsUc+mydasRAOIyGKZCrBHtJzazeXrcMAAZCuB78f+OO2n47v5fmkKYr1XpY6wamhFOIdj9tYHxHrTyZ3FpAWxEd8XgVhbTu0u/eev52kP1J/W7ws3iD4QX00Td5dP5p0qnVlGaOG1SR1x2jcNasJvCGBPIWbARBa1PpTtiUlozfE+zVzacXxPscwFiVzqrMXiRqbsp+VyvuBkCDkLlAJHLh5HWW2tHrb9FM3eqEYfsrriuTd4yei1hzZjNsLcY0d76+UObMfs0TXHtHTOYRBAowg3iNHHpPWzfzy4kQ8ZTaP1hBi2cuEGUeINWz4OTpgO0yZ7NEZeGIAMrNULoYz1LVymUdELN8hewCaLhl++WaSx7PuVcpd1ouSyHc1UBKIJAv5gCLOnDLI0O331LKsDirjmJRqUzVmCXZOdkrVgx4m9c7ctDJucBhUNXB+Nc/xUj3n9jfE6Z/vws1kgyIiyZrGKNRj/ulmAWCMgypE5Davfr2Ku0iwirzz/slMCF7UnhC/GiB1i+/HdsNmFM9k3MFZkyCMgZYwIbcoGNnbNdCvCkFBieLbhkJ0hRERKDIYmkztZ91oYe3gAVHBYmcJLQHixRZkGmWxdygeZqUByNfuiC7NObrHFYmXKrjOxyRCe2O7FJssPrIXnMRVJMKlqjGpmTBblFsQifAUHA6JMYKOFkUP0aK1FmmmGFrrWmJZGOwpNTCS0GE/EGFq3DyQmeyezlHgDhuujEeK14HcE+4qoFRFs2L4LW08i5FJmiJyaBdH/WtE6ENPQoxCmaNTB8IsNc8w35f0TmSR//fMf/Qx1aROilk8Vr62eX33ofWvoYVBMobM1hAiYE8EYsnhO28+RoENPsNpEuPLK+x5G7ZJ816KFk3kCkcrXjY4duQnf0cnLpwm7P3n9nIgywZBRFsobYFHdm3E3ODOXBtbsyV6DoLD5F12Q78gtSkIZM29NSRIU/qh2bwoz8RpP6GBCYdN5qFLUy1grtCzZEEVfg0I1Zm8N4kJt/1hqoHHfmPWO2YwguHkKnN6SzjNZEGrme9kwhGYh+ifY+Zm/zv7b2jeXmMDBdXAJpWu4QS5ps+/CoYUzPk9PsJTrNPtdU0UTfkMgW7B1PY87ePY3NrJGRWpVea4chjCwQ6x4fB1oDuds+9al15yHTm48vB2GECIqc/L0NrMU9lAqfvXToroFqzE3+OKsc4m1VCR66w9ts7Ufhv2UFjByYYNDPNpofHtjHcrc+3LbwrNXLxBbFR6PL4XJaXscl4Prvnfu2sVmkzubMDBWtwu89N986XWKrTu0pf3MXkaywxY/aMlILtkcYSnZ4p1eFbZnlc1Rkhx6RTtsBOYuLp385m3/zuRoQhFQBEDgcT+g8ExwxLmLN/7Ain3hG1P4nsW2AU6MdYrQhYhvIZGFAQhVf5oUq0t5zNb7LhxiNuAQW1i4a5mTcqUzA74bJtK7egWrhdhIFCvgozHaGHxiHmwDe6EVsQq5SnOJtFJUuNhN4bRjLSDizCBa6uh/KDYpw6nWVm7QVITWl7Rsfia/cdGa7F5c9v1uqCHCzF125XcWDGKnQVrfvHiQ06Ptn40bNHfFeBLWDs7QZFoTOK0ZbtDkU8ts1Z+tnGS4QVPAvEWO1FlM5qNNQMcgoKUPl278gafWnDZj8f2DLhHVCglEM/NeH48zZIT0k1GApqGp/t99ejaUgQRwXzHwms6gRfl4yWguGeJaBR6Y85m7mogoBIzRWpDEpM57WJQh1IA2hQjmMyH0aLPi9b/rOE0GN6Ie6rkdOoBymDIT180y3KC7Ksh3MBLh7uc/TjXcoLXwiBUTRJrQrER9uEfrLUmzj3y46DPnZgQPjMsxZXKkzipaQWfdUOWgyZTyPx7cZKsI7YvFAZnoxm239NI/CCAZMQ+a9/oE3KTZkpBXsstA5+AU0LPSG3PbjrPteqaKu4Q5gRYFl7UMUmwsI8iZsG4mo49EA18GawG+ODLJ2eCwuCEztPspPiDi+zds+XjDDZrHIYATnR7CIJNpTcSJEbvb3L6GG7TeIl2/UHWESgDV/7th/LXdHbdmmnDRdQu6btxaHvKSS7ZvKzdoLaBpRUARsCLgD4YwQbDDMcE/saDD4xkxT9khdfL0LZunXzn8/pED0SG88LE0sPYsxDRshtD9hJFwkoAeqrvTurC0yXGIGCvKUuKhkSh2y0dj9O8G9l8rF7Fv2XJkJ3ydrO8izDOoIoMnzZGVLpkxd9ELEfvJFiJh3E1rZbKXIH3w7GHiDJlMa4LNCdNEcvC+sOZ7ThteJUFsu0ubVET96LIFEYjCTSHxdRZAly4EZeK4iZx3H0kOKlB5LjIdjN+w7+0+r1/RgVXy9itX8IOX0ULgAQLFD90jIxueTqL36Fy+FS0Q+cBp8u25ZchxIbudxfi0RTGFyZ/zruZECALx48STdtqUepVIJ6y0KOTz9a/APCk1uCa20+jAUX1jbJbuqdQR8sQQG5Fvn4nhTUihMsH2Jnx9RI5x2TLf7Dc7lnKLYFGiM7cVQ/lD6AtbplwevXicBHQ5HLLLAqHKTBg3qBHeC82Js6KcYMEuFgYxq7M1zQktArJgIgf5tH4/5BEE4qoxunnefuWf61uWs2SxbWbgWOhGNxoofJqX7TO7hAGDJbNWkVUXnSE7C14z3BKFoSlDHDXSbLUuvetDu5/K4xBl/rB/jXmENbE1WIzLLoybqzVf0hsOb2Nnd+ZLjjQOYeDyO0J1/8vZw5TEosddCyb/0PmjpBFlEh7CZGpCEVAE3CHgD4ZQwrewNFz+80q1kU2IkSiUNLQ768LrM94WGg5fZCNgdtdda/5zD2O47Tz5HzN9axmXaQ9RKGUxRfQrARVdVo+SmT4aI7YocborYrEaRSyKiBQY0R+yqUh4TxMqkHyCIuDqScKlOJN8m7c6OeafKNwwgzE5kF9yKtoeiwuruWsSMougVkWfYPKdCSHpUIvJ6WcUeNyVroB8PA+d1ckR+1KCPQgzbCsDGSGaautb2Mr4+TJ+rAeEPpFylv78Y72xbdBzShR+NK7Q/VhpimtKj5fawxmGuXsoctEs8ZfWUA+Gth28PV1KEGgHCgyDYRLQYS51O6F9lpZ3ImDmCX4+BHNGUoCcRT5JuHE8dlpPfROeik/yjTLNndV9kSNLDU6DLhkn2xNFwohpqy3oqLWY2W7yPv1AR2e9G+LSROEI+a4vXA+KfMZMxsLc2gFJp0mUigRfKIuJ867m+BoB2U/hxvEkx7th8NIxeCKIsBKbkUFLRhEplD5ge2+CinnZpU2Hf6IkJsHW8sSq5VLEr/IXxbgYxUgxsbj56cRelx6MIU5a24wV0uvk5d+JEEMoF+ePY5nkuakTu5ic7uSkVEGEkSl5EA+J9ZCzWcmRbxN9gPUF5XG2v9jlij6feE7TWnyGbCg8e5Otcb1UBKIeAv7wIcTpH+AgyLrP7SdxtK04ko87FqG3+VaJZDhu7X98yawlbWmxYSPztCPuv62k7fLKrf8EoLPe5VQ6uUwSL7E1P8qnfTRG4IYSjAgHmKxAuzDW5BCCjDRkori+rD64Eb+IQhnyGU88gtAIyb4+2OLUCf6VP685M93lsHPILY74c1eGfMJhy13mlS3iGbsUfS6ZtUj2lJlwjZDN3kNT5tbV29dN2plwx7o4Sz7ynJgxgj5h/qF56PX1QLEUlRz5i9k2UTSI5InmB0LZpUGvtby7NIHIcS5FRYProNMt010tk3/V48QgBDwlcTljpoXKpsC0rwnPCGAUJwXwlcUb1lmY0F8YdGBgXOHZ0gSad04kZ5Vw5sg24VLb4GxZCtuibtiKmaDHZgOyFsA42Xrpu7RR9XDSBpbn1gchUHsha2FyjIGG9a6m/YCA+RAwqnSpDUNJ+FqxOri741voMtiBu04iJOXzEZmpeOqyYIrE88eDQTbJuOliYcGehSmEONITwyxrsMuG0yFfnhKq/ZQqKRMm4y9uINZTUqQp21+XynDzBdkKc5k8QVLh2Yi9xM9ZwJqD0ZmTnrQWQFjZfHIXYkMQVgqNIj/2L5T/eA9avRatVTStCERnBMIuy/ceNfHaIsQTNnsuayEzkw372bRBEeq8/Gek0X/+ddvLKlLsb/dCU+NgFi92kPV59PnnozECQCFKjNKPHLEJIXyoPHTVgfVkIkwt9dDtQRwkEAQS7MflENy1OIi7LGDNNEN5+6+71nxb+tbDSDNiPWvuVs9bcXm3L4lcyjbM1os3AgaTRELivUKM4OdZPH//f0HscaT4Z76LRXtWutRq8hbiL0rCGkk/VG+HnTCxaqhCfJrtx3aHqq4U9gw4YUWkGNRSGBrXKiEiYOaJBxpX1P64CYkqIMQ2w1lAxDe37nq1R8jEuOMxDqRpythRW3tIYBvrpe/SuMGLpoVwxx3LthCxF8YL0L7jXhuMLgVd0JjVX/iuA9qyBwT+vPMgbtk3u5a6LIbMa/ORIF1frjTZXRZwl2mYfONGKPG62S63Ba+ZqPuE2yF0nzRCyYcC1q0umw3VfkoLLme+y5blubZbHr4RY3Nuq+Ly0ht1H8ZojSZ26PplH9msiVjD8chLu8waUvd9uHGXzWqmIhBtEfCHhhD5E3oV28FQNsTPX7tEVLRQOU3d+ftB+GabPYOtZeclETLEisl5S0LkkW8WdGeZKJnjozECKzSEKAbZGCD3IWKgVPBDI3/5zw/cD5DHk4+TOm4P4jMmDg9SMfxoG/FnnJj/2pE6m+WIJ8m8+XAv5xLd5oc1e5Jgi0V3vebgAz80KUk8JM6MlnTU/mv0Hn/8ecXdm4rbEncTx0voroyHfE7WHlirN/OEyWDTeHioZbvFp23LsV7GfXjX8C3Wu5oOPwLmW/NgcsnJePIgloLwPzHEFuCLYPO83CPodlDhh/PEZeNxY8WR/Eeu4e8xf8CEJkMIKMLZ9PyY1bymRKxht31zbj9bIEqXr6OZvkBArJCQnXmYJLJgsu7B2IjTuDc9wfQa61NEk+ynUzfOpQqHJ/N35S/rTQiWVb+sJ94ebvnEm+WWOORjMu3BNNSbR5sy8k0R5NPleUumWBgSRhZDeNLxa2eEoQVnFcgPDo/hh/kuIVhr5auMkKjyc+UQQLef0ZMTYpxVNEcRiJ4I+ENDKK69KZ8MMjNw909MLNzxaS5rGQ5T4mu5LOMy03pava0ABxhKjmncViCqXvpojIALGkssW+T0JMI2QLKgycFS1IDJMX2kMXNCwo2HoQT6c55AaMqHKiGhRKji0tnGNGUCvl26GeScwz86w5GAJJAy1h3bmojepqng+0EHS0giyv+FrBE7OoOS85VN9P87HjWxzoqS06dadz5kSI0e8wZ4VvS5a4F8WzAhW0lETuTQeBiMUW1N6aVLBA6dOyr5KYKNylyWEet0boVqtXfZlDeZspKnTBQUgzHEfxduBH37nlUHZrshbnaIDfq0AGbPb8zqLXwFZguYbZ+6cgYNEi4YlUc0tp5F4dNuaONOBORDYEnENMZ5V3JiPREkoPz73t/ec4NSUUKRIVeFk2RNE3/75T+vNQ+SsHl4uYsDregSjWrRFAtz4vLNoJnveT8NW+OXbj4QOPqicYJH4NhcZkgdzj8Ec/SchPzxUlQUttfRWopA5ELAHwyh2NBnTpGBFcodOumeSsMtb/z+TQsHTh+StJxgbvJDTIg9vcti2NuQj0jp4DnX1q0ua0WBTB+NkSAjWxEbGPofsQvFWsbqxLXyl3WUZIHGyh8HQmut8GOLmFYko57niYRxR8p+5GEkGALE431BBxbsWAyx5eyJS495Z7GokSPxliQ4gcs3MpHWL9x4oAJyWcxlJkcyEmeYW0N++JxwAi7LeJMZFOnHjd4J4klChiBfF19WbxrUMqFCAMt/iYLoYZ6kT5pW2gzVah+qblgLo3DmknBlqGKs+S7Te4NPKWQme6DjzTKy7/cHRxq6bMoPmYg/ZrcZw5zvPOe96qOalRtat9Lwxq2nvfnFhi9drld+6JI+QhCQ1ZK0WLu4hOWZ4A8hDF+B7Kdsl5xLJPspEq5NR7abp+w4vldU9ATNRn4hsfoiSsDKU+RUiYxJnzH++ebR4UzQbfEeKpg+bzibclcdrIb+MHbEiokU4Nvx5xE47rqk+YpAgCDgD4YQZT1SeQgy4oi6fG1C0hHdkVu4Zrks4DKT+FGydkBKGu2Ey5K2THdHC7C/EpuLwvtOH/Rg6WFrLWpc+miMBJx/N7BUWcR8xRauGudSGUrOOpcFGhYuDDulu7Hg7biFJNVd8FhcCwhsQxkOQTHy2oRxguYk/9ypi22hvaVwVP27ZO9KXo0DkW0Rz837vpi9mKR3Ht9nMr1JoJB5t0oXSgI+gSi9qeKhjJwc4CzApy36Q9WcOMGJwByx+sYiyx1nXjr4aAf0Wh5iS0Rgf+T0aqwSquWtGGKzPwQvFGxVSChcFkakxQmc3GJ12h/Maros5p/MRkVqoiBCX0QIH/88UZ/iJQJItcQuplHhmi6r4JxSOPio1R0nQrda0hrxhMSRu8AzeYThXP3LRqtVBVuYnE7J6e2FguORIgITvaLLzoQ288dg6x6+hQZuKLrQNmgtLz3HvNOnrNrivavkoZ6NSqwd07QiEOUR8AdDCD39/Z7lQNmyZMPng1VwVliJJtLj5fbkoJyR/djcbVmy0chGH9bKX9nk2BKzt3xDDtR8twptbLc8XHJAlhyraivDAWvig+TNiVW2upH9MsxjRHjYzxp+QFgzDwde7TixR+J54JKH6B1XBwkkYwVt5YGgCGl5n86NSwyJCBRn0hohLoTDf79qN6fsAPqvT/Vu0n/xypCOXXyo6crtyu8fkjdanWgHESBHdfet0d2p6k+TKGWzEg3AjfiiEulbMOSv568YqoKAPQSjYwa+s2CQqRXmxOsvNnHGPMBp5K3gRQZSyUO8kzA/VCsaBGZtXkDgJQR8/Wu86TyBneVCvpoFO5eYKiQYMoQCwxv0d24Q1mJhSHM+igh0OpRpFuLhh8Tll0BW7V9sKgbGtie2KNEA9y0yZ2z+yrhs2cr47TJVwqCoGATExrjdbw/VB3mJgGwl2Lw0K17fWYUdUyJw2j4Eb/ZTbK2ZqLSJyYNwTcsd5wGuPBBkdJMzdRYpwKwWnaGzJ2HIwcWDI3+p2PqFRhIRwGUjrO0u8z1nTt80X4IPD3jlLedGY+p607iH7yJDsnTSlOeQwuZxmlAEogMC/mAIwZFTd/C/ghaf2HQo66MJ3A/1/0Xz4WKtN2b1FDnZTHDH5YwY9OVylBxQ4y1xKnOOB5HNRQ6HC/XQun1g82SZgOvgwLSuFdrULlDFVgtihZxJTYfCnJgQMphVfFz7XRhFbmFiFD1JxjCMEQAOqduHIxnalnrtlXyVbFCbS4SXEjRSePvtx3cLiWYKkJANLG+6nBmDjyFyFyDbWsX7NGchyrlPzIqpzYdbiU7mzPgmg+X0atRT1sChaCllt0C30KBQDfhGeSK7FFPr49rvcJy9932I7CXZpAlRABGMAdLM1qMJFSvbLYw0p2DNaD0akzzK4L9kfdMQv2IobCFZ3v9msM1F09qOl2mESpwYPr3lSLgOM16QTVOaD5fjJRli25kiXrasxbxEAHHA5z9OozCzYmLTIeLFxCXTg5X/03p9SXP+x5QNX5Iw/5qVqIe+q2Ku0vCEJjNCElDPH3w/jKbQWM5qPaZ2/ipiO4oDMCwf6r7PGg4wUwVFSu8Fg9gjKDyj1chKucsYP2G8Z3tW6ti94us0xR7BUeMR0r3wNIJGneqcZbfqzfnsaAhP5QfI71XtWqdAVXdK2vA8VOt6iQDHG4gxAqKo96t1Q2QmFQmwx/E8UCxcEid20+F/TT293E+puPG3oFrlcpZE8oKwVWaCtC9/kaiSz+wVqsbdAU7WKt6nEavJ4UNQdEy8LuVbm8N7kQFBrfFZMQnfqdzZ+zZNSVhNsefEcnt+uwnsvIYtRF7PbG9SrA6HCiKQNVXcJbpWaMt6wlYlBmhSDEw43kxixbG/h/mEJHcP1XxFIPIi4I8oo6CDdKrl1O6Tm32K0TnrY4+X2uFqQjw3CfNNgS+3LZy8YY4VR+NVDI+XOnFK0U5YC5CG0yBO1PgmQzAwwHCUHwQrP6MFGrtmuq0KkQCwIB9c511WhL7V34QG5VRxdIzCSWK42HHWO49c9Gvrs38uwzBGxJM0cR3TJH6w4bnsLVaj2OzJcP9gcX83hTmeng4IBUNkkQiP/TV3+0LOk+hWsS1uotCFOBLAlCI4MJ5FC3f/MGjJSNMfSQxaPHJEgwHMDXZ0AsxAyPIKEnOCKA4tpnRb1Gm6y6OWbO1EjUsOGYcOIBYoTBewwP79cfMKe618bnyM73072MpR89YhfsUdHh5Q7oET6DCztxyoFSKMK/avvXn3Fqbpk5p9Cj106cYfyJ7EEZS6kE0iFwixHS0QHgTGrpnGGX2MAtbFX7Ydx+fM54ZplvBdLLmEQrE5uYmyi4eyFCNisNq/hacnUnfJvtXMwzcrtoOyRO3Ajy4RTELWfMoEJR4eAYOLadvpbw2r3x8OcGi9vtjm4RMbO0ZsQ5XCDVIgYnsYtnfEEp4T1QicSN9M96xN9az0xsDFn0VP+aYVh0eV7jT7XSTgyLvhavgx5+/fv2e4dPz23/7qA2vfvN9PMYTu/r+2sp/CVTrjM5GDjSjydJF6y1kv1meFMw0f1Xn2e5/UfY8+tCn1Kj+2Az4WHmc+K8Kwhe0pk9bPihcrDoFzWQ3YefnR8r379w2xQbPzfvouxMbhTpEx8aMkyw4xkGmWL0U2LIyGeszrHz2JvRCh0wLREwE/MYSAy0ZbfWRThEmIdqDSzAaG/xgB/Tmt2DYA+PfzrfJJE31EAgPYCsglESDrj2vbrET9egWrsYVTnp/cgjbdenSHrRb0K14uSKHerPg65hwmoBy6BVgCRFMmwr6tYnS4DO0YEUH+/+ydBZyUxRvH//TR3dLd3d0N0h1HhzQqBoooiqiAgIh0KGUhIR0iDSLd3d1Iw/97NzC+vu/u3u7e7nG3+/DZzzHvvJO/mXfmqXkGGZuSfW49sdMBROokDwmQwa88sM6aUh17eL1AdV5xRkIpcq3JQhODxIHT8G9UDOTAOiZqyrCQ9nBD5sR1P5iONaqKcNfW7fuBb9XonjFJOnY+TtARz4RcuGvFiBXfMWf2njuoDh+GpmERKO+i3StRnKInoddoCNXd3JACyLm/XjVp//nDpr6E+BVrS2P92ZpK4FFTGNZXppj4seIN/OXTv0/vwXCUIdMmgpxYm7ZhHgYFsv2bEPPS48eLRm469lf3Cm05uAsZpyg5vhfODoxdPdWqCmatVuYDHCP3Bq+FnxUOa71RIRCVNVNOU5as9sv3/WGaFZuP78CrcM+KHarmKgffqG1HERfO2frbzM0/qxNcXoLOyWKRgWLVgoEDolW+uyBfo4qnjfS/WNFjpUmYEl0KSxb2NVyZgyjHyWIlmQcRgOVoPekNiJMWxRpghaT1VBxAxeR4+qYfTRPJ+f0UiohxVz5d7J0gxegGhpDu0AyTnM4jfVxzaAMUXZdyravmKk/X2A6ivry6ic+KK5rmbPvN7YrGrJ6C/K5ruTY4HYB/0yJ+CsQwhy7zkYZY+OLdK3BhhYMrvmKj0ISFCNHh2DVT5Xr6EDGUBH6FQKQcg8qGcYf5tiGs+T4R4Z++di5oJ7Pzj90O6RrKJSdt89Ilfg2eELfmrJUXb1022SX2q9KlY5kWVJVncJAikQCqg/RJ0sAYXL93EzLXG0yInZ6F92jnxwgZXoXsJUEvApleoBjMkix9rBixYO1OXTvL6Ic4HthJpk6YEkUCiWGbYYFCzOLbCaAA0idJGz8g7u0Hd3DnjQrIXn9d/YrtleM4fnbnb1krYCdaTXpDpYSOhyGEz7x85wotdJxd3noJASRufDgBUWOwJjv+cMplLcGmsHTfGnXc10vtUWIdtDT3H93nkolzNy44+JahI7Mmz5gwdgIuo2dDcXIb8lLLjcUig/vtjWnIVWdvnY+RNgpP41sV5jjGtMCvYX1RJHIxtzWBxIQlAtA8yeIlRSCKCNuB1XpE3E/R/GdMmi5psOYNok59KUhaPQIvEzhT0vSQatRy5+HdM9fPW8VJjitCAIT1KbJL9PyPnj6GGz959bSDr95xafJWEPBhBF4BQ/iq0NQMYf4hVUySuVfVJKlXEBAEPIKAYgh3nd3ffEI3jxQohQgC4RYBrF45DIkwq/aYNib1prHNnOHEzyR8eL1vAo3xEhYEBAFBQBAQBEwIvPCTYYqVR0FAEBAEBAFBQBAIhwjkTZ2DViH+cMANkuCfRw/4e9+W/jAcdkqaJAgIAoKAIPAKERCG8BWCL1ULAoKAICAICALuIID5q4NsHDBTN3yoizQcpJRXgoAgIAgIAoKAMIQyBwQBQUAQEAQEgQiDwNaTQR68OHWJRajNRnNZIv4tOWTI4YjZW3+1mUYiBQFBQBAQBAQBjUDYeRnVVUpAEBAEBAFBQBAQBNxDYPzaGdz+igc1TgniQBK/a1fvXuOmAXSG+FLitlUcLOGbFzdpXKsoHpXcA1lyCQKCgCDgVwgIQ+hXwy2dFQQEAUFAEIjYCOCytdmEbu/V6s29AvnT5OJn6g+s4JpDG7nhg+tSTa/kURAQBAQBQUAQsCLgRwwh98DO3bYACBwfxLdiJDGCgCAQzhHgXqmDF46evXE+nLdTmicIeASBS7evcO85zvSLZSiQIUnauAFxKBan/3jVP37l9M4ze7lszSMVSSGCgCAgCAgC/oCAH1074Q/DKX0UBAQBQUAQEAQEAUFAEBAEBAFBwHkExKmM81hJSkFAEBAEBAFBQBAQBAQBQUAQEAR8CgFhCH1qOKUzgoAgIAgIAoKAICAICAKCgCAgCDiPgDCEzmMlKQUBQUAQEAQEAUFAEBAEBAFBQBDwKQSEIfSp4ZTOCAKCgCAgCAgCgoAgIAgIAoKAIOA8AsIQOo+VpBQEBAFBQBAQBAQBQUAQEAQEAUHApxAQhtCnhlM6IwgIAoKAICAICAKCgCAgCAgCgoDzCAhD6DxWklIQEAQEAUFAEBAEBAFBQBAQBAQBn0JAGEKfGk7pjCAgCAgCgoAgIAgIAoKAICAICALOIyAMofNYSUpBQBAQBAQBQUAQEAQEAUFAEBAEfAoBYQh9ajilM4KAICAICAKCgCAgCAgCgoAgIAg4j0BU55NKSkFAEBAEBAFBQBAQBASBiI5AlMhR+NGLR08eRfS+SPsFAUEg9AiIhjD0GEoJgoAg4MsIQDZlSJJWEU++3E/pmyAgCPgNAr0rddz5wQp+0aNGDyedThInEb9w0hhphiDgbwh4XUOYOVn6ZkVedxLWY1dOzt4638nEksxTCMgYeQpJXy2nUvbSJTIVdrJ3qw6u33Rsu5OJI0Syb1sNK5256Iaj2zrNGBAhGvyqGtm+VLNUCVI4WfuUDXPO37zoZGJJJghEFASiRYn6dvU3nGztk2dPhi0Z62Ri305WKF3eqYGjnj9/3mFa3+2ndvt2Z6V3gkA4RMDrDGHqBClbFKvvZM/XH90qDKGTWHkwmYyRB8H0yaIKpsvr/Fd88fZlH2MIi6TPz7AWz1jQJwfXg52qkadirlTZnCxw4a7lwhA6iZUki0AIRIsSzfnVEnNNYQjV4OZPkztqsAlrkQwFhCGMQBNemuozCHidIbz94M6us/sd4xU5UuQ8qbOT5s79u45TyltvIODtMUoZP9mktl9N3TD3p78WeaP9Uqa3EYBwD/ErjhsQO2OSdLTkzgNf+4q3HN9RNmvxTcf/8jbOEb38w5eOP3n21HEvWA2SxU1Cmtuuz5P+Vbuiqq0/rr3jKuStxxEQ5J2H9OmzpyGulpSWJVmGWNFjuvEVON+S8Jayas5yvSt37Ddv8KGLx6xt++vUrsdPnxC/9cTf1rcSIwgIAt5GwOsM4d+n9zaf0M1xNyrnKDO6+Sekmbd9oeOU8tYbCHh7jMpnK8URrASx4nmj8VJmGCDww5Zf+Dmu6J2aPWEI/3l0f/HuVY5TRri3PWa9mzZR6tPXz0W4lodxg9/7dViINf7SfTIMIRqAE1dPh5jYlKBe/mrxAuKYIuUxDBAQ5J0H+eGTRyHSPJyUW9lvLmX+6E80DxYEUAIBUWPYBHPnmX2VvmrMq6t3r9tMIJGCgCDgVQS8zhA60/oOpZuT7MCFI1tO7HAmvaQJewRCM0bls5UI+wZLjWGJQPyYcRsWrEWNKIHvPrwXllWHQV2I/N3gXsKgYRGuCvR72VNkptnTNsxxtfF5X8sBGS0eEV3FLfTpBfnQY2gqoU2JxrhyYTLP2vKr6ZWvPmIOWipzEce9E1bQMT7yVhDwKgKvniEsnC5vvjS56OS0jUECs1D+ixQpUqr4KeLHinvt7o0rd649e/7MZoExowWkSpAcW3/SXLt3w5omfsx4mDYRf+HWpVv371gT+FVMaMYIGq5YhgLOw8XQoEAIiB7jzoN7gM8RcyfzOjn0TpYmyVxCoEWxBpg/wTjN2PSTSxk9nhjWNEX8ZFihQ1vwdXu8fMcFxokRm9rxKnH59lWbC4vj7D7/tkOZINnfqWtn1xza6Gpna+ap7GqWENcEiNTk8ZLFCYj14NHDC7cvO89tpoiXNGHsBJTPHHM8zZgMKeMnjxcz7u37d87euGBvS7LZNRbP5PGS3rp/+/KdazbbxhbGPsWcZ7Xk7O6Dxw9tlhPKSFeRp0mJYie8/+jB+VsXvdSkUPbo1WaPHSNW0yJ1acPCXSvC1SrBssmUw5bn3sP7bL5OzlUnt+zy2UqyPIYGeT631AlSJIgVH6rgxj+3XCIPQlOv5BUE/ASBV88QdizTEqwv3b6yZM9qV0HvWq5NmxKNFu1e+envo8nbsliDzmVbJY2bWJVTdWQzNmDCKtnve1Z/snhUmoSp+lbpXClHabZSlezo5ZPwor/s+F091s5buW3JJto1AkvP3vOHvl45aeOxbSqBH/51b4zSJXqtY9kWdfJWUV6tu5VvixNCjd7Hi0cZRzxzsgyvF6heLmuJDEnSsC2pZNgfrj64YfSqSWocdV4CTg69MYuEvYRAjKjRWxVvSOHL969zw03IV00Gl8hY8MKtyw2/7WizhRDf2BnyatTKSfO2L9Bp+IT/ePNnHslIduyR2pZogjZDJzh/69KcrfM5vAqnqiMJfFR3QJWcZY0xpjBn4dpN7aMjJ7T5IneqbKwDnWe8qSMJqPghi0Yu3bumYNo8vSp1KJw+n569LCwzNv0o52Y1YiyqxTIEOeaZvnGe84Ie0jcqVBuNCs6QCbOYbBz47xwwThvn14REsRPUL1CjYvbSuVJl1T73Ob+04/Tub9fOcHCECfaMWtg+oJtpjPoHbbr+yNbPloy5+c+tl3FB/+NwlSmBh14YABWPbPH3PavGrZlmZQNAZmTTwedvXmo0vhOJS2Yq0r9qlxwps6iM78//XO9QKoZ53rls6xKZCkGOqxg4xi0n/p6w7vu/bHlo5AvtXr4tKRuM63Dx9hWVxfT3526T4OXWHd488JdP1SsnkVeJEQl1Ktvy9fzVQUnF0KSNx7aPXjX54MWjprr8+bFp4bpxA+LwCbgkBEcsq07WfLHs21//XmICkGVnce+Z8QPiIkBtFLwemhLgw3NM8MEciCVIJuPbZ8+eMp97VAisnrsCwgX1is2XmTBu7TTWMWNiHXZ+y2ZudyzTQqsHWTaNC7KekOoToPy+cwebjMXSJ07TtXwbzhYxx3QDkDXwwa7c/+dvO5fdf/xAx0tAEBAE3EPgFTOErCllshSj6d9v/jlEbwTWHrI6IC5Kmzg1q+HnDd+rlfdfETJbEZuryqKSFUibG1Xk5LZfqTWF1SR61GhkhM745PW3OSM0auXEYQ3erZu/msrFEsNei1AKhzcT2gx/66dP2MutbfD5GLfHqF6B6sqMUEEEmJp2IQYuQkOXP02uHzp+A9QqBuQfPXnMzsRIwZ+Xy1q8xcTux66c0ukJODn0xiwS9hICDQrWShgrPoW7YQdILrzR8BVDf9hrXuTIUUjA24Bo/84ZHpkwKj57iixQMw0K1lQlMH+YXXzaqeIn71elC95Bu8x820iCIKhWGe3ViD7H+ArqjfT8NUYSVvFZk2dKGCvB+7V6qwnMwkLthFlYhtR7k/Wt/7zBbixuprp84BGikF7ANc3fudT57nD9IzAa0xvHzjhtnFwTGJ0lvX/Qo/n46WMKYUqgyoMkLZq+wMBfhqK6Mdaowqg4vmryoXERU/FM/tJZit799T++lBj3r5t9HBAt6LgUo3/v4T1qZE1rXvR16FruL0HoYKyC2ulXQDB3h4/Kd2v2YgLrBCaL5TcqBnYv306/VVsVnC2V8pu8ftZXy7/Tb1WAlijc+JpMr/QjzSNN7IAXahznkacEXFVPCRyBvJUwrA6+UhgOmgRopTIXfffXzxb/lwnRlfpbgIFuXaIRvf7z6BbTpuYYij3nDsaMHpPZC2dlZQgRRSGBVSVUyF7KaolKLjUBdpzaY6yIhTFbisyT2n6JVRTxzFViqIXhgz9k+LrMfGvbyZ3GLIRd2rJ7VmqPvEyXoD89FaMnpPoEiCSgExNgSsMJ0yQVydRCsU/zmNLITfBNauJvjXklLAgIAs4j8J8Pz/lsnkrZsXRzKCf249C4k0kaJzHaJ7hBLJG+WzcTFylspYljJzAZPECfISGjLvSEqw6sxxciGgaOtw2uO4AdHWIFw546+arsO38IznDriZ0QClAJCJIHVOvGCjWodt9VB/7kvLin+h5RynF7jMb/MWPqhjkI4yG/6Ow3a6ahMNG9fmAQ6e0+ewB7rRNXTi/cvQKPjqiLSRY8KC0DSzVl/8BhScfpA3ReHXBy6HV6CXgcAb41xohi0UtAsni8fGcKfLdWT+hR/JSMXzsDV3V8pFAMUEjv1OiZJXlGiIYmhevO3vrvWZ335g8bvPAra8kQUoiEiGd9sL61F1M3f1V0mMevnkaVzV2FrDAsLCUzFX6renc8KKCK7FulyxfLxtnL7ifxSNyUVnbOtt9cMiOEPC32aS1Qert6D3h+JH1lhv97j5FpkSdZiGsC0wPVR9bkGeFLCTBwMDCQm+wg79fqA5UJM8YEYByNQ4MwEaqUeUXjp2+at2zv2nM3L8aNERtxJKT27ft3jTw/mr2xLYYyDc7cOD98yTfrjmxG/QgJy/7yVvUe2LCMa/lZ/XEdrP54qR2NIg249/Cfyetnrz20kWagaeSAvW4Mn5viBmEpMV3ZdHy7kkEUy1iwV8UOOVNl7VC6xf1HD9Ht6CzuBZxHnq5NDRz5WsKUsKYjV0xAY0PX4Cf5Ct6r1Zuh/6zBu6evnX1V64N73fdSrjr5qioN6rQNrp2RYd7uOLWb+2CL2jqCoT4uPgcW5Eo5ylgZwuIZC9Gj41dPYTdh7BrzltnIXGUuLd6zUhnjMEWbF63fuWxLJuSwhu9VG9nMOL3J7tKWjWEFk4EWInknb4dp/bC20G1wfOacDxNZP3/5lD5dPBpDLeWJFJUmTGblnGWhFhyXoCuSgCAgCDhG4FUyhFBRNfJUon0//bXYujU6brfxbaak6djdufoMZ4Ca1DCJVEnPkofpDvYJ8I0qOyzfiv3rokaJ+lXjD1lG2a2xbGk16Q3N9bHQzNz8E4eC2IORniKpWnngT2PVPh8OzRhBuvHTgr2HTx7aG2W2sXpj20EDGfHEEAsyOmPStNiRspnBnFvXfSeH3lishD2LQLXc5SEEKdNV+saDzYAbhHR+Y9Z7mj2AfNl8fEeH6f0RRvDV1y9Q3cgQskrohUI3I3HshG9V684jLuORZej4EAPoIU9dP4sSW09vFpY/Dm/Cad6cLt8itsesfd62BaQJsSgfThBYqhlrLAvCD5t/cbWbClhFCJJX42yzHGfWhA8XfGni91jzsclkkX+zWndUJdDczChdPlLLT+sPhBuE4Qmc2gdqWL2iJZDXzDSdUgUgfNluIFVbTOiurUOpce62BRdvXfm21TB4PNx0IXk0ZeRxeONBl25fbTelNxSwems0mGeq96kcZFO699xBrJp1LxSXS0smtfkSUUi38m1WHFh35L9KSGtdIcY4iXyvSh1ZBGAg0SZtP7lLFcvjn0e2tJ3Se8Eb04KFer34RkKs0ecT8CHQRygN67QJse/Y38IQwgsxyU3aRZhAsv/81+LGhetwbyqAGz8TOPbcwTd7rT+yzVQLGzRC2zZTeiFJ1684Fot4CxMqTnlgRYxMDaGGfkvApS1bzVK+HVUCj8a2GYu1hguly6cUmwN/HmpsIUfEl+//g581i8QIAoKAewj8a5TiXv7Q5GpXqimaN7aNmaFzRIFdCsxD37kfWok8U/M4z6O5Qf2Kk2x6eeK0g+YGdQKIORXOnjKzjvSTgKfGKES4TNygTq/OGUJKwhnqSB1wfuh1Fgl4FoGOpYPsAOF2Vh/a4NmSnS8NDc/QxaM1N6gzQjRwBpXH7Axbpg8AAEAASURBVCmzIKLW8TYDn9R/G8IIYuXtnz5hUbKZxl4kp8L0GqLT4Avk8yXf8EjVDQq9MGfVb/0qALCcEKbLmABoBslLCDizJmg+ytQGfao5U9L0xleIAlH2EjPpz1maGzQmMIaxO1Vn/9CVWTuLpEApyjieZ8ylwzjl56I2zQ3qeBVoWbw+rCZhVNzWXsBvc/MHs5cpF1gySG8fBv8QuDQqFKTCReOquUFdL1yxMv/ByBAjHR3vn4GK2UvBy9F398RnGCAo3NAGGwHkQCmiW2Im/vkD0igkF5yzMCaARSSSmA1HtxrjVRgDaSOvpRNoykcxkzpeBdzbsk2FhPgIK6vS3Lj3nwO6IWaUBIKAIOAqAq+MIeQ6KbUjoqM7dzPI9Uto/mGL6MwFrxgI2axFiWDRKiCBsybAVZqiNRPEDDrI5D//PDtG7uGm/R/EiWE+waUKdHLo3atdcjlGAHG1on1nbPwRrsxxYu+9Rdxubw05cTXo6CnEkOngiqkxOP1DEU3ksCVjXb1vkI4rttNUJo9Q/8qReolgey1rAj+J4dCUshTAnUwYdNntNeHSnatqGnOu1djOCtlK8cgrZ1wEKeM9BIv21Bdbg29Xgknm3k5jLSq84di2XWf2WeNVjGoJ93rvP3/YZho4SeUUB/tnmwk8HlkqUxFFtds8eEl12klP4XT5PF57xCoQa14afPnOVff8EbDQKREDQgdjx9WUQ2cIJbPrzH5eKYWhToPzIcLIC6ynAYlfeWCdTmkMsBIq0Rhz1RjvOBzilu04u+ntkcsvjtr2r9ZVWxuZ0sijICAIeASBV8YQcm5e7SIuOdqy12d7nJ4pPafUTDHqUdkiXrxl2+04pkpK9+hv65Fnx8gm8vYiFQWPbUyC4JPuJIv80uWMKYuTQ2/KJY8eQUC5CUEVZnVy4JHynSzE5J/DmEsr/B18vOkSv8bJLnKtOrjeGYrfWD5hjr/aE5bDQmDaRxps2jE7NGX0k0fWec4j0VkMCO15LPQsFK6uCQwNai5shlPGS6Zkf5gkGJuEXzEeOTTo+IYJlSVPsJ/bM9fP4SEGazfrjysiVMqUCZIZa1FhB41HqMFcJdnus0FEv71/f58Jsv3D/FVpNe0l81S86i+lXbh5ydpZYrStYMoEyT1VaUQshzNveLaj5TM3ueNCT3V507G/CBTNkN+IQOUcZXlU+kP1F5220iSrZOoA4V+n99i0ogpx/XSweOpmOL9l6yzOBDDpUnp7ztYu6Dm9WZF6WmfoTHZJIwgIAs4j8GrOEGLV0zLYT/2O03tCtMBxpjPaoajjxLce3HGQwB5V5yCLD7/y+Bg5xopVHud7pbMUy5Y8IwdsoM8cp9dvnRx6nV4CnkIA3aBSfM3e6pqbEE81QJcDR6rDrgYwrhveaBCuI1HlfTB/uKvZSX/rH0e1cy8CafiaOARrNSt1o7oIl4VDTdga0Gz3zOTc6G+IawIcIHotdGi4YEmXKDVOZU0coKlSdZWRPS20KXHyeEmIwTmz8XoMUxr1aFNr7eDiFlhWlZEb2GwWqCJ192m29Sy9g4zuvdKXTCzrO9txCXwCjhP49lt1CSeGvsa7c1ztMjafeN7mmGv2FJlRGJIdv1lKTLA22Gh/zaENvSt3ZD9lcVYH/3DPliVZBlJuOLLVZnU3Ha5gNrMQ6faWba9Ae/Hv/PrZP4/v47EcH7Yf1OmHk7/l+/4AQw5p28si8YKAIOAGAq+GIWxQoIba2zxFIjx6+tiZzmu3BDYTP//fK7N5s9meVxvp8TFy0J26+aq+XeMN9i2VBsf0Ry+fwAaYq43hDDl84iCvk0PvoAR55R4C6nZKjqzM2uKymxD3arSXi0tK7L0KMZ7L2ZT+h8NXHEUOMb01geNVRatHoJ/8kCFEb8C1roCGleOm40HKjTD453hN4DpEnF7q82wQ6JjGwdX/8/jBw8cP8bNvbaGST7EcWV9ZY5xne2wqjR1M5lgxXpynevD4kbVeHXP/pX/UOE6L1XReNwLO1+KY63aj6giUBfPg8lmDptbPO0LlQs94jFAxhFWC1YNsmtuC3fmg7sNwFB8/FXOUUgwhBw7VTFtv6wAhTXL8vdgEOTRbts0CHURi6Tpo/nAONLYv3RxTWBZSDiTzw7KaKxlRKjjIK68EAUHAeQReAUPIroCrEprINoyNlvNtlZRhhkBYjhEXewytP5CusY1xa8gfh14cu1KdLZ25KPfYhlnHpSInEYDgqBp8tzsHh9QxOSczupEserAXDTcyhpgl32s5O5dtRTK8tGPQGGJ6mwnwzG4zXkXGfPnW6gLEQS6fecVdDsrdxdSNc8NDp+ADZ3QYjUKY4eBeB6zRTl47oxuGInfnByv0ow5gaAcZ6ozhHFlUYvzj27wpR5fpRkBrckwXcpqK4rY6FXPv4X3TK8ePdN9xAptvlRUigqF8H1W2mUAiQQD1IFwZR/JmbPwpNICw2OI8Fq0g16uqE7mVcwb5F4WU0q6wVh9c36ZE44rZSw9eEHS5Din5i7WzA9NQl5r0SrZsXDHhOJDTjPUL1GxetB5mRNwEM7PDmM+XfmO8zsqljkhiQUAQMCLwn5MSxhfeC1fNVY6LiSh/+it1ROG9DvpAyWE2RigQsAABMU6iNx7fCa/ZJu7CeBDCB4D1mS7gPF357ZzmfTchnIbyBm6Q+J83ep9ecDdXaO4JdOxxgXsCaDxaROulKd7oVHgrk8sVaFKQF43wcS95n8qd4QY5KMiVJN+unW7kBmmn6UZsDaZSHSePH+TIMcR/1+/dIA2XFYWY0tUEem10XLi24bx277pLVTiv2zQWe/3eTR5ZqLVFq/GthEEgWdwktfNWIcC1VU4aHjvATbm+K5QuL3JblhdsR0m8Yt86nUVdjsUJfGX7oFySatWiTuZe4NVu2Uy2yetnVRvVAp0hNkTw2FxPiuG3e32RXIKAIGBE4BUwhNxsQwuCHVH8bmyKhMMPAmE2RtwHoCxFf93x+637Nk542vS7EH6A8s+WMGQIiek7NkgY94YSBHQLlOCA88/kHW/1XFuPZApW7c0fP9a+Z9zoS5Dro5fWzqbsUGzKYztCfeW+0pTAtx9x3MpROvr4/Wb3vWh4FiLlbnHH6b02PXmmjG/b64m6F54rJdVhSMdNUrdKZEic1uMMErZzSsmT97WcDtqA3pu3qECPG5yoacNme0wvOn/Hum57Ne45d0C94v5De2n8PB6raQW7R87IKNYO7p17sMoGXy+BsGnT8e0a5B2n9mBByiOnZNHPM28J27MX1bmcDISHLRtdKJa3XWe+RZvhCavnquBk4yWZICAIOEAgrBlCrBcUhTRn2yt2ROEAFD9/5dkxUuQ+kNr0oBAv4IXyx97xLZP7bD8fmnDSfW4RULTj1A0esAO89U+QIAA9Gyo7mx30hgN9LgRrGHx52pjVkxW5b7NqJyMr2Dp4Rl58/Sn9YZgdn3OywWGTTDmhhTPRF5qFpl4tOHDPspGqIcpRDxK4+U+QUsv6r3KO0tZIYrD/5C/K5Dr5qtpMYIxUN9pDpzYr+rox3iPhZfvWUg5KoWwpMtksEGUUl8HwChNo482c2vESnjlsZuSLsBlPpGPk4U8Ut9ncC/2116QIFM/G16RwHRrMXX+7HLqHdbJTXB2BaIDEhdLmVQKONQc3aoafeMZ97aFNBLhQvkiwP1KkUTav1HKyRmMyt7fsx0+eqHLi/PdOF2PhLoVxKnM+2LtSwtgvvA+4lF0SCwKCgAmBsGYI1T08bDA/bA7ZEQWJx7QY2qBgTVOj5dGrCLg0RpARo5t/glsze4JnfKwr9Uue1Dmszb5695qKzJ0qm/VtzTyV/PwCNysmrzwGklpRfigrNtm6t9PUwhC/4v0XDpMFapvzZqa8PBZOl9ceu2VN7GQMqpsh9YKky9yjzUEyJ3M5SNa1fBuruR2eSN6q3p1c0Ge/7PA7awhO+GDVRvfpe4iXxILe+7X6jGo2xIEHKWUwCaOlDOEcDIe9VxDNygwhe4osyuDZmJJLGjCENsboMEcNlcSqR4V2aNJ0vM3AqgPr1VWWncq0UAjYTEZHbMY7jgRM5Q37g9r9rIwxGukP6/ZTS7Hpykd9b2G9/NWsVaDzVz6irK+IcYw8bxftDjp4WTRDAWUhbLMQ9/prs6iIFclNCcopkTPisxD3U/rOfsoFEgSQrXPjPIEV+/8wYbLqwJ/E5EiZWSXYd/6Q0hmakrnx6PaWrTPapATstQQLVXuvUNcnipWAtxduXraXRuIFAUHAeQTClCFErlkqcxEat2j3Sn0cwl5b2V36V+3C5TMf13srfeI09pJJvGcRcGmM4A2+bPwh10V0Kdv69WAbQmtjoIZ3nNpNPIpHLjbUCRTVAlOhhHyI3tk4IWhUAszw+lbp/HnD97hnWWeRQHhAoHHh2jg9pyVTN8wJsT3OfMX4EFfibU6D4LxOUwDs9y2LNRjferjHnXN+Uv9tFHcUO/DnoaG35EQDhtYF9wYIL/QEhlabFjhKXQSHx5ow8P4f4liEcQKlHuTzd8blQ7tSTVgcquYsB09or536Tu13a/ZSjmpIaU8OZa+QPw4HaU5g6j6s00/z8KxjqItndfqG1tqcbJDgnywaSUZsg2d1GocHfGU7ip0zh7hgsUY3/1gPPYW888unT549hWGb3ParPpU76fsA4ULZy0g/osng92r2ttdIB/GXbl/BsyIJuNFueuAoI//MNTAT2gxXN9cz5UxO+VlplXU3YheapO016AJMyKzO4+iavWOuISI/fOk4dR15/6pdv2oymFbpr5iRovxBtfvM6viNg3756ivgxZ6C3gW70Ati0hz8c2Y/Vdk3Hg0yEK2UozTnq/FjbHWIhYEo8dSupGzrjwapuD3yz+0tG0MMJcvAp6BRUKKnis3mYXY+u9O4pkXqpvqvOTcljGs1DEMVzEeX7VtjM69ECgKCgEsIRHUpdSgTa/GhM44o9Ll5JItcaGs6/R/Klkh2ewi4NEYJYsXTx05S2b90ePwfMznXDsGEEqBnxQ7IAiDHURGPWzuNZgz7fczXzT5mlNUVQ9zbhulgymCXDFAw7af1W9xrpiZf7DVb4sMGASjaNsG3COCz7vc9q0Ks1JmvGI8jo1ZOeLNad8Z9WMP3BtcdcOXuNTw6IhRgzsBu4a0RT7P6VpIQK3WcAP0SRAZp4Acc3JxWdGhNfWOE4wJX7l9379F9tKaT240gy7W7N1AI6NZCqykK3nEhPvYWFqhitiATRPxb4D04xN6liJdMpcHiER7PaP+m82Jxt/n4DuRKcD4r+s09e/NClEhRuPTPJeeWY1dPKZe1OBKNRoVq18tf/fyti5H+FwmPhVClsIKdZ77VuWxLxVPpelVgyd41TOYBVbsxLT9+/S1+eNdklmrFV1Dg5b1FNLX37EFfNB7ElMaNLT/4Q8z8oPh1ehxomapw8pEb2LjpoV/VLuhg4U7h4tBe0iN9vnHBruXDloyxlobPySntRsCm0h7WeXhL0tAdYhCLDFk0AltTeHJrxhCRxx41cGqf8a0/57hajdwV+FEg3wK7g+aTldbUWrhvx3A7AgjTR8QiIcqenNxPKQ0b5v7/66Js7Ncd3mw9Ak0MNqLI05lypOf2Qg/i7N6WTZMwx+hVqQMTFfEZ048viKsyu30/UEscbDaSec6PVxgaoGZkD0oaJ7HqO5EII45dOWUzo0QKAoKASwiEnYaQTbd67qCzvxw5wMVCiK3cc/aAcqPMPh36Qz4hVicJQMDVMbp855rS75F364md9jBkue8z50MlQkaimSlpOshlvYdBMrIl4OmR7KzyvIUbZNARcjeb0A3uce+5g/ZKlvgwRqBWnkpKUoubEJtUu6k9Tn7FGFP1nzf46OWTZIeIROEGY/Dk6ZPl+/+oNzYQe6djwa9Mhbv3iNRcZYQ0h7aw99OEe4i1xI8V7+NFI9/66WPmMOQX2ifFDcLoQqx0/+EdfYw2xKJ8JkH70s0UgM6YydFrrc7iVjEH86r3nEFYb0JYM2rwHkD97PlLJsw57OBOm0/orkyd4TwpBMdCFMjBvybju+BpZveZFy5SrOXRlxaTeugjc0xU1UfYoR+3L9RO/1VG7gevO6Yt8cpIFYaTxU2nX7BzGaforVU4GTNlw5zAqX1ZV2k5cg2+F4hswnwpfeZ8gN4b/tNaFNg2nxjUdwUgqz0/Pgd6HTit79xtCxw4iAoR+VPXzjYc1/HrlZPO37xI1fSU/ipukKUesciI5d9Zm+TbMYDw0j3bnV93LAmxs07up5QDRXQt2Jkt4RX719ksWVmN8gq9nP6+bKZ0NdLtLZtrpcaunoqMjxrxhZsu8WssmI5vQeTUJaITZbDNJOc6R75ZphafGzO57ZTeMzeH6hoPV/su6QUBH0YgUo5BZcNt95AE4zCNDVjsBsPtGEG4V8heEjMSpMiOG8numDV5RtJDH5y7cdHqfZuFPnXClMjZcS2NyMAmTeO4CnkbDhFw6SsO8omXOE2MaNFv3LuJ3FeRDuGwU6pJszt/ywIFnd1q0hsqBgNCuBTYlct3rij+Ntw2Prw1DLUtupSl+9YouzIHzcO4kZUkIGoMaOJjV06qe/AcpLf5CiMFPKBSyM37t5hpIVZqLETJrWgGV8BfuXv93I0LDhYrmKKMSdMlDVbEoTS7eOsy2xksmbFAt8MoBrMkSx8rRiwkaLBk6gaIEEvD4CJLsgz49rj74B6KuxCPb+gCnUSerwDv0LGjx0IpevXejZNXz/ihTESD5lLA+f3UpWK9lNi9LRu9OptCvJhxmX7Y0tvzJ2dqs5pUfHp8O2Q5Hu53B1P75VEQCP8IhGuGMPzDJy0UBAQBv0VAMYTIsJtP6Oa3IEjHBQFBQBAQBAQBQSCiIxB2JqMRHSlpvyAgCAgCgoAgIAgIAoKAICAICAI+hoAwhD42oNIdQUAQEAQEAUFAEBAEBAFBQBAQBJxFQBhCZ5GSdIKAICAICAKCgCAgCAgCgoAgIAj4GALCEPrYgEp3BAFBQBAQBAQBQUAQEAQEAUFAEHAWAWEInUVK0gkCgoAgIAgIAoKAICAICAKCgCDgYwiE6cX0PoaddEcQEAT8GQGupD944ejZG+f9GQTpuyAgCAgCgoAgIAhEdATk2omIPoLSfkFAEBAEBAFBQBAQBAQBQUAQEATcREBMRt0ETrIJAoKAICAICAKCgCAgCAgCgoAgENEREIYwoo+gtF8QEAQEAUFAEBAEBAFBQBAQBAQBNxEQhtBN4CSbICAICAKCgCAgCAgCgoAgIAgIAhEdAWEII/oISvsFAUFAEBAEBAFBQBAQBAQBQUAQcBMBYQjdBE6yCQKCgCAgCAgCgoAgIAgIAoKAIBDRERCGMKKPoLRfEBAEBAFBQBAQBAQBQUAQEAQEATcREIbQTeAkmyAgCAgCgoAgIAgIAoKAICAICAIRHQFhCCP6CEr7BQFBQBAQBAQBQUAQEAQEAUFAEHATAWEI3QROsgkCgoAgIAgIAoKAICAICAKCgCAQ0REQhjCij6C0XxAQBAQBQUAQEAQEAUFAEBAEBAE3EYjqZj7J5iEEokWJGilS5OfPnz1++sRDRUoxgoAgEIRApEiRokWJRuDx08fPnz8XUAQBQUAQEAQEAUFAEBAErAiIhtCKSZjGzOgwZucHK/gbprVKZYKAHyBQKlMRPi5+BPygu9JFQUAQEAQEAUFAEBAE3EEgTDWEqRKkaFCwRsG0eVMmSBY9SvQ7D+4evXzij8Oblu5diwjfneZLHk8jIGPkaUR9rbx8r+Wsk69qrtTZksRJGOl/ka7fu7n/wuGle9dsPr7D17oq/XEXgSiRo1TMXqpSjjJZk2eMHzMey/vl21d3ntk3/++lx6+ecrdUyScIRDAE4sSIzWpZKnORdIlfix0j1v1H989cP7/lxA4+hBv/3IpgnZHmCgKCgE8jECnHoLJh08GOZVr0rNgBC0lrdaeune0798ODF49aX/l8zOzO30Jh7zq7v/mEbq+8szJGr3wIwnMDAqLFGPr6wBp5Ktps5Iaj2wb8+NGt+3dsvn0lkaUzF53Q5guq7jzjzfVHt76SNvhhpWkSphrVbEiOlFmsfX/2/Nm0jfO+Wj5eLHit4EiMjyFQJkuxTxu8kzh2Qmu/7j6899HCEYt3r7S+khhBQBAQBF4JAjbYM2+0I7BU035VulDy1bvXZ2766dDFY3ce3kUZVT13hUrZSyM8mxo4st7YwMt3rrpae9Wc5XpX7thv3mDKdDWvpDci4L0xMtYi4YiLwMimH5XLWoL2I7uZvXX+yatnIkeKnDZx6mZF6kH9IwUf3+rzFpN6CK0fcYc49C2PFxBneofRKeIlpajVBzcs2bv63I0L8QLiZk2RsU2JxkniJGpfqhlHpr9a/l3o64oQJUxv/zUSzw9+CxJMyD//QSB/mlxjWwzlDPOjJ4/mbl+w7cSuK3euJo2bpHD6fE2L1EVzOLzh+xhJrTu82Q1MZFK5AZpkEQQEAccIhAVDiKUEukHaceDCkTZTet17+I9q09+n9yIhgycc0WQwZkVdyrX+eNFIx821vkVfkSFJ2oCoMayvJMZ5BLw6Rs43Q1KGWwRKZCqsuMEfty/8cMGXup2YPxHzfq0+LYrVz5cmV7Vc5TEf1W8l4G8IBJZuprjBt3/+ZOGuFbr7645snrXl1yntRuZ9LUe7kk1nbPrpyp1r+q2vBjInS18kff6HTx75agelX/YQeLNad7hBNIEtJnY/evmkTrbywLo5W+djGRQ/ZlzSuMEQyqTSYEpAEBAEPIhAWDiVYUfE2IxGf71ykuYGdR8gH7ee+JtHNAw60slA1MhR3MjlZOF+lcx7Y+RXMPpwZ8tkKUrv8IX75fLx1m5+ufzb+48fEC/uW6zg+FVMmczF6O+ecweN3KBC4J9H95knhDlhWDxjQX+ApVzWkv7QTemjCQEErGgIiZy7bYGRG1TJTl47g50U4UxJ0yUP1qWbsjt+lEnlGB95KwgIAu4hEBYawgSx4qnGnbh62mYrT1w9UzRDAZum9jbT68jy2UpieqEfQwwgsUsZPxmSuTsP7l28ffnB44chZgl9goSx4ieJmzggavSb/9w+d/Mip2gcl0kjk8dLEjN6zJv/3AozIbr3xsjYWQYrZYLkMaPF4KQZZ+tDhMKYly02baLUDBl2xVaxAik5npoyfvJ4MePevn/n7I0LzhfO5QRkTBQ7AQY8529eEv9GRth1OEHM+ISv3bsBSjpSBxiXi7cuo6tPFCeBjnQ1wMzn+FmcgFiPnjxm5lOXgxJcSmwsR32Pjx4/unTnStisAMbafT6sVhJ7Sz1mxgqBRLYOVoU9OG6vSOwjdOH+owfnb120N4uYolVyhtER/bCHTmp0gAAWT2wrJNAT3pT4xLUXtBD7zqXbV0xvHTy6MalSxU+eMHYC1NSXb1+5bWv1dlAdH0iK+MnYW3EK5XhBdlCIvBIEBIEIgUBYMISXbr1Y715LmPLMjfNWXIgn8spdFyyIimUoiAcUrR7EdcTTZ091yQ3Gdbj430UWO6XOZVuXyFQoZrQAlQzL/i0n/p6w7vu/Tu3WGXWgVfGG3cu35dFalE7zc7dJkAWYfAz85VMdqQMoRTkzUzd/1YxJ0ulISAeqG7Vy4r7zh3QkgWfPgrjE3KmzYzdbNksxFn31liUYq9pxa6a5uo4bC3cm7I0xMtaLJWFgqWa5U2fj1JmKB4oHwTolnWzOtgWjV03ike7/8ebPBOqP68BmyRHT/lW7ctZUbbELdi4zAc5h1F6VOpAAplGVBsP5+55V4Gbdw5g5I5sOhjNvPL4zY9StfNv6BWpwtEllRImx5uCGUSsnnbt5QcXIX4WA+qCSxkkUPWp0vh0TLIqpJtI9EQYfcvvSzVFTo/PXJeOFD8+lS/asWnngTx1JwKXEKuPT58+YVJxea1CoJjyninzy7OmuM/sm/vmDG1ZbxvZI2IgA84TvUS3pxngVTh281BN2fp7EiBp9ed85kKSrDqwf9Ntwa5mfN3xfqa8/XjxqyZ7VpgRM1xXB2ZfsXWM8kuDSiqTLjBU9ZqeyLV/PX10rdvgWNh7bPnrVZKNTNMjodqWaNCvyOuQ+eVlzNg5coAtZvGfV0MVf60cJ+B4CHBdEIslmpye8qY+vJQiiefjn/Ifg6qRiinYt16ZyzjJa1M7pbjxC/7Dll992LrN50hs6KneqbEMWjcRuq2DaPOyqnHjUWzaqzhmbfvzpr0Wq5fJXEBAEfAyBsGAId587gCU9y1mrEg03Hf/LhCD8EupBIlfu/w/ZZ0pmeuxZqT0Llo6MGxBHhwlENpCVPL5RMbB7+XY6AbZtsIUQCjgB4zd5/SyrhwNYhQSxglQipqJ0IQTQNJImdoANFWW6RK9NaPuFJj11LoqFnB2x4jsdowIPnjxsVKj2h3X6YUxFDMI8VmFoIJZyuMpKOUo3+66blbcxFRKaR2+MkW7Pe7V6tyzWgEf4tMOXjsHcpkuUOnOyDKCh0jA90C+xiapHuAsFfrK4iVMlSD6u5TCg1qWhT9ZhAozg180+VkVB4t97eI/JQPrmRV+vnKNMpxkDDl86bkwPqhROmmRxk0xq+xXnMXiLNIEfUwKCr1beyhWyl+o6863ttiQFxqL8Krzx2Lau5VozPwF2+sZ5pr43LFhLDYFLX7EqpEeFwB4V2qkwo8BkUJ8nqrwauSskjZvYyBC6lFg3EqZibpfx2VNkJgZKiBWAgYb5LJQuLz8+fxYBnVgCoUFg49HtrMzYy+VKlc0k9qJYtQ6A/wannb6yGOKUBcK0XLYS1oYx69DCqbkHj2dlCAumzc0UIiOenHV2V1cklTF1gpRTAkeoVZ1ZxDrGLGLRwFClVOai7/76mXYamSd1duOOo9YcXXvs6C/kVjpGAj6GAKb120/ugrCpX6D6pD9/QM5o7CDCqYaFahHDnMTNnvGVg7BLk4rz3l81+ZD5qQrkI2ISQlTwVX5a/x1uwug56z1Tq0jJtsjmmDV5poSxErxfq7eSwCK6Zf0kzF45pN6bbLj95w1mq3XQVHklCAgCERGBsGAIMfDDYh5VTIVspThFPXLFd3o1wZhhVLOPWKrO37yIqN55BPEjD20KKfDJ62+Tq8O0fnsNOjdoSl0UzjPV3gxjwCHGTce3qwWuWMaCvSp2yJkqa4fSLe4/ejhu7TSdJZQB/OxNbT9KeVZYtHslLjeOXTlJmVASkDVZkmfEuY6pivSJ03xQpx9WrGNXT0VfoW4ogmXqVal95RxlIUTerdmr/48fmXJ58NEbY6SaB5WmqMAFu5YjodfWnmyWo5p+xPYDp9Fx+gCbfcmWIjMuZOMGxOYkxoJdy1BjJo2XBLsXnRjnlsqTG5rn4Uu+wXEFOzG7YJ18Vd6q3gNCcFzLz1AzWq0cmTzfdxwLtwlv8+P2RepuNHBuWbw+HDgljGs1rNbo1s6Lb3WTfDUAfQOHXDhd3j6VOwELCljdUxQgb1XvzuOqg+tdvd0B1b3iBrm1As05AmwlusY8mC+0Ru6KeCLRFbmUWOciwOeDzurnHYtxjnrwwlGE9wwxq8c7NXvxtfat0gm1sNyPZ0TM7TD6h9YlGiGR+brZkDdmvWfUm+FLpnbeypTMOoxsyPkqmBusnKjxsUk2GaNCnsINKm0Mt4zAnpnU18UzFlIVbTy6TQXcW5GYMLjCZhbBzY5cMQEdC6sKy0jJTIVhL5munzV49/S1sxyepJatJ3cW+zSI4p/X5TsMHBCD9pnzgaqdv2KUrqHw4cD4P2awx6GmG9P8kwE/DtG3DsJcfdrgXSYM0+Cz30c7j4Dzk4qLrMa0GIrAi0rHrp6ybN9abosN5gaztivVDClbiYyFxrb4tMP0fmqxNbUBsyaol+NXT2Oww6cH3wgHyzxnkecDZNnsW6XLF8vGmXLJoyAgCER0BKIkLfevQaP3OrPj1G6Ie1aTAmlzV8tdnuXp0u2rrYs3+rLJB1ion7p+tvP0N126cwK6n40/fZI07O40G7ddp6+fI0b9dEcg8ce0+IRte++5g60n9zxy+bjiRVFEIHWev3NZ4XT5MHBCS4AW4rrhzFLBdHlwq0g5eMOzshOqfDgHJGoQKCaxNPSB0nl+sngUykB4XWgIflg/4ljVqO6gHBSDLL7wPACCESN3N8OvqvJBaem+taWzFCVBxqRpYV3otXrljb8eHyPVSNSeIAwIHWcMMNqIYrTJSU6E62kSpQaTa3f/PTDGeGHrQvbiwSa+PWe9P33TPFSIdx7eA0Mjt/9d6+HsuEQ2/a7rvguH1blBUEI1wTUkUJ8MEHue8c50dmLkoxTOacOhv3/Ntq23agaa/Y9WQWVCWWLuteq/xoregD0ClQk4FXKUQmtdNVc5HIqevn4+cqRIA6p1fadmzxhRYyDIGDDvoyfPXJuizYvW5+uD5gi2zb6s0YBh2H/+MGS3kU9zKTFFGccaNSDX38HKPv/fc14xSZghCIlq562C8JvPc9Ox7bp2CbiNwMMnD/ecO8Aiz+fTsFBtuDgszTImSQu/hLd9Pka+OJdkf7SEVb1x4ToEjl85xUpubBsLRdbkGefvXKosDnad2c/CbkzQp3Jnlgj40qkb5qp4N1YkMvav2o1lgY2DdQyDOppEJN1h31mxf13DgjVRayPsQ+ig4tVOhOtdFN006ee/FqsY/mp5qGqP/PVJBDjH/uDxI/ioNIlSNSpUi6mCXBjbE+xZEKux4nFXFodWnO87JTgzqVjNpgSO5OtDg91iQnckdCxu1MK6B4m1fN/agGgB6PARbUDwmL6ml9RInNM3zjWb0A3JtSI52FiZw4t3r6qSq2yCmPEQzP2+e9Wt+7edb7ykFAQEgfCPwIsDXd5uKFtgr9nvf7t2OgFsRLlnYtM7C/tX7QIdCcfVcFxHeEJvtAGFD8ItSh688CurgQTL63u/DmOPhwMJLNnUIw3gNLniN3DHb1RuhFj4mNWTNWeiE7MHKJN9WogyU8d7I+ClMWLzoLWbjv0F2qZmrz+yRcWUyBjEe1v/QWONWT3lj8ObrK+IQTGlLr9GYG+1pyWXktazydnMzg5nc4Bmbv5JmbpxIQr8pM28/hkJPdHsu664Taf7aGNmdxq3ot/cJoXrwryh++36/duK8nAJHBQvpEdv7IzaxKXExmZAnE3ZMNsYo8IwsepsJOZY1rcS4x4CeI1uPqHbkUvH0VFgYLy872yc7ONW9OjlE+2n9eOLdrVYrD8U9YnS2JgX05JyWYsTw0qyO9giFOt6YwLOKeQKXjaNFqpurEgcToamp2Q4T1TlxioII5Cat30hAQxllQm6KYE8+icCGKL3nfshzuGgCgZU67bxnYVQPkipWHZe/yZw7aGN3oAFY1EMjigZcgt3ptYqvl45UZFb7Uo1VUah1jQcv7fKwfkGP1/yDYmhRjiMbc0lMYKAIBChEQgjhhCMEDKhYTj50tGoOqkMk8AqA0vmJRAxUqVkVAFoG2xWgamhuvQC0Z3NBK5GlsxcGJsQcikSwcnsMH64TLCZ+MSV0yo+USz3/TfaLNka6fExAgpUbVSER0drdVonrH2cmtLAaSj33KZ49YjtCgFORyzf/4fNBFtP7CAeWanRr49Oya3ZOmwK/LJjCTE0HoW26ZWfPzIiKw+s17SC+oph53SMq/gcuXyCLBj34iMqxLwuJTaWtvrgej4xY4wOKxNEJomOkUDoEYADX33oxfelJgll3rx/x2gj4HwtjB0SJdIXTZ/fmAtzUCWy2XpiJwI4XmFxYKRxi2bID/FKPFuPyujeisRlKkoYYb1LQxWrNhHCmJyoGPkrCIAAQsm/Tu9RUKgPgU0W8aX3jH0qZCtJddSCeYXNIUDyO3/HUl5xhiVb8kzWNHxu9jZHxKzq0CNGp9aMEiMICAIRGoEwYggRFWNIObPDGAx7kFpxsTUGPLCCSF57Vmy/oOd0b0jooRU4v8HwKOGxvXH6+8xeXnHoBYtWe2mcj9cd2Xk6qFgn/6GmsEdSw/CoQmJEC+KsvPfPG2NE45WFZ6r4Kawtx5RURRrtRY3Jtp38W3ffGK/CeYJ1j2eun8MGhrOI1h/GnyplygTJrNnRV1gjVcyus/tUIEeKLPbS+GE8xqLT2389rMG7fFlY4XLzOEdkoWywPhreaNDkdiO0OzvnwcEPhxJX96vSZUb70UhwNP9gLcSlxMbsJsdCxldKca3EFsZ4CbuNACq4BW9M61K2NZI+TCjxtrLt5E5Kw1JuVqdxA2v0ZKlxtXA8eZIl2ONFRp1XiYQwB4XCViwfFqocoNIJ1AFCFNd/nXpBlLu3IqmlhmIv3LxkXWeI0bpxrtXRtUvAzxHA1RYfAu6vkaOhGP986TeYpbC+4dd6Uc8Z/PUGPvgqp1hudUIzaa98RfPwNl+afz8WnfjC7cv6qL+OVAF4RWVlip22UfJiSiaPgoAgEBERiBo2jR7RdDDOUZBafbN62oR1M5FRUe83a6ZyDI+LFpBUzegwpuvMt5WU11NN0uTphVuXHJTJ1XPqLWoKk8cCB7nsvUoaJzGv6OmFW/8eiLKXWMc7WLt1Gm8HvDRG0IJQ+eWzlUAJw6lIYy84vqUe8StjjNdhPTQ6xhjgtkYeETEYXbobE+iwTctProXUCUwBziuqGK5vMr3y20eOQn3faSzuczmaMmj+55ybAgoUJviI6l25U918VZEZYxnYatIbWvHrDFYYcgdO6TOy6UccSsRxCD+yI9vGFRNaJlMJLiU25g0P35exPT4cxmxySruROHpB4NL/xyEYjtLZ+X8vhU8bWLMnf9uUaJQ+8Ws9Zr3rkmGItvnE9FSx99CjyqxDmd5xehCTe2ZppRxlOImtECYxgW0ndhoNkt1YkTiFqApc1teG4bF6pf5ipGp8lLDfIsA8R/ZB97Gx/+C3L9USxLUNOMrCOws+rofWHwjJwcVXnoWIMinwfAg0z0VVqUpsasAt+zsjKRVhgwSNqW5Pim0qUB4FAUEgQiAQFhrCZkXqwQ0Cx5CFI3HmqbhBHiHvcDDAaRM2cix58JJsk3B3G8dYMYKOJ/GPs90qYPPv/ZcuoeO8vMXOZjInI9VVeNoxjJO5Hj197GRKLyXz3hhNWPcDI44QfWKbLyH3OfZDFzhT0blsqy7lWhGGWDx25ZTNfnFBuc14Fek87WVTlunA/Qn3TasqYgefcHPQBv959X7tvnCDTOzAqX0UN6j6Dn0w8Oeh3AyJEARV4acNBrqKCerxFpN6cNhG0fGQSp3KtFzaZ9aXjT/gnk9TaS4l1nkdTySdTAKhRAAy8csmH8IN8kW3nPSG4gZVmXjYbzmxB+6CeSybtXiH0s1dqotppg5E6WOE+CJSIr/l+4Isxpl+ijPUxwh5i7SIVybPt26sSM5vDQ702y71VxJHaARwLzSgWne6gFFDr9mDtEAKDRv+meuNDVSXoPSu1NHjpxKUbfPDl67pbMKoNzibe6hjc1atDFcV2SxfIgUBQSAiIhAWGsK2pZoADdTevO1B1IDpHwY/KBxwgowGqV7+at9v/tmUwO1HrQIKcGhsGfMl0X/v4X2X6rJpZqZYQZuvXCo8jBN7b4y4+3vwgi8/qN0XBzDYBEK3sRvpG+Rx0Ir9sHudBWr2JAe3VjguFodG9hKoa814e++lsMBeSj+Jx89t9Vzl6SwSbuulKcQv2LksZ8osKPxLZiqCNZEDE02biEEn4RudHz458CfZoEBNZkjNPJXgHLp/P9B0IaRLiW1WJ5FeQqBqzrLcJEThn/0+xqo94NsfsmgERvX4x2pbsgm+RhlK51uCUSjeMjikB9NFUUrIyCFwfbMFPoExwyMNZ4ZxTqtZx/VHthprcWNFUqs6asZ8H1U2FiVhQcAmAq2LN8QuGpE33rasCTgsg489ZF54TeNaLHyPW9O4HQPzybYY4+UdvzbLiRk9QMXbNA3V25/tvC9Lpnc2E0ikICAIRFAEvK4hRDWEYgF0uOnLHkacYMbInrd5Dcc/7CV2Pl5f+crNFg5yaXOga/ecvSJWlWZTuqY8hbIZaINVB1WHk1feHqNfdvyOVJ7OctQHL+3YHMJU4Ie97ZTeXK5otOZyCRB1TYjjwXVQYOI4ds1BUydMqTLe/Oc/Nq4OSvPtV3yYSsu6xr5nPDS9CoTQfMVcUQAvUeHLRpPXz4bo5xMb0fQjzAdswutSYpslSKRnEcifJsgJE+zT5uNBPmCs/+AAuVCUeGw70yZMbU3gIIYr73mLFYnyLVw5ZxkelXpQ5YJjVOqLCtmD/Gooe1EuvLH6WnR1RVK27jisjkCrusJE/r4SBDCcpl44PTY7mw3g/ht1LDY0q6XtkoNvurfaVhgTI+BTj1cNtz3pBI49bHGVFynRIhrvf9J5JSAICAIRFwGvawgDXhJzjpePew/v4dbFDWcDDqDHXQSaCvQVjtdc5YQAcdfxl/48KVNbTSgTR2stWMfZFKRp/QmVrnnpZ8+aPVzFeHuM2pdq9kbFwL9O7eZmApsiSffQwIEbJmEZEqeFSrNeOxFimVmS/eudwpRY+6U4ePGY6ZV/PuqpftcOfQMsmvSx98k4Dx1rBXcG3r5/p2+VzrgJKZI+v8nqz1iUS4mNGSXscQSU4yvWUph5e4XreRI1imuuZThhzrLM7GI+cNuhUkWuMHgYxmEMPGHlHGXwNYpAQWkIbc4cV1ckblb83//q0yOM3tFj2+uaxAsCCgGloLMqyY343LkfxCtGjexhGmzP2QPsX1xuwbkMVJHGGnVYU0R7gya2+R9LLjJibeZqfI1yXjmtwRrcJfW+sRAJCwKCQPhEwOsawmv3bqpDgw58eMIKKjWd45PQVgQfP3miIuME2D7Krzbv7CkyZ0thw70yeTmwpC6g//PIFiMRo1dSHN5Y6yWmop1rKnCPrhbK1wtUt5kxHEZ6dYzgJXpW6kCvv1z2rQe5QQpUR4bQXDUr+robqJbLVtzm2UKKwnSZvwgU/n7pMdyN8n0pi/YTkyFJOnv9yv7yEzt384XHAnspnYz/fc9qldKxxFqlcSmxkw2QZK4igN6DLNwigwLQXl5WY16x2KobIO0ls8bDZ6qTVwXT5VE3l1LC7rP/oWi5X4SM6GewGlVL9/ojZodVbqxI8JlKRMi1itaGOYhRueKKpxkHGPniq8u3r9KtjEntrpa8VTQJGmxXAXA8qbh6ngLh3Orke+GzzVQ+u57a4Pha9184YnqrHtXdFdZXZbIUU6vxJjsmANYsEiMICAIRBQGvM4QYBO44tRs4YJCUTNcKTY8Kgeq2KNNVrR1KtxjTYmiDgjWtWVTM1btB9Af/8qTOoQKmv5gGKSbkg9r9rOf6WDQ/rNtPKTSmb5xnzKvvLVRLp/EVYcidjmVamiLV47mbF+AtCeMS3R7TaDPjK4wMzRjRx9HNP+lduaM9vRBYKZO/ZMFOQT3YTW5uxACVAjuVaYGHCXsl2+P6MH2xSd5x07oSguI6RVky2yvZf+KxfVLGeNwWiOGcteNEdinXhniodpw6GhM4/oodGAWkTxJkas4/LSdyKbHKK3/DEgFlBce6qiaDtWo+OrWec727UTyEbfD7tfqMajZE2dpZM6qYjUeDTgPmSpWtSIb8BIzqQZVgzcGNOC9lN2lZPEihR9hqvOrGisTpg0W7V1Bg0QwFHLjDsS41aoeCMRAPHGqA/OSvujYT6yTunLDZZU7AKsvntYc2GROEuJ+S2PGk4trDfecPkax7+bbKvNNYPmHU4/i8IYC/BnuefruWb2M9EcO5bvyjkhFpDpSVqVh5FAQEgYiOQJSk5RwJsTzSPRzEwQ3Cj1XJVe7S7Sunrp159tKXADfRscTg4pKK1h3ZbHTBzNY7vNH7GZOk5dICHHPdtGX8wIG91sUbRY8aLUeqrNCs+noJCEdVBTQHND0WRJjU4xb/2JWTWizNcvxZg3fKZilO1bO2/Gq6Rx4TxGq5yieKnZA1HWJ33/nD6r4ywtygwA0NqBahfekUN1XgGcUIFA7QGxaqRUp4QtgkvOdjOgKRlCRukPEb9ATkhVa5NCpUG4N+YOFMnbEQHaaiJoXr8Ij3ald9dehCQgy4N0aciZ/b5TsgwtMDwGou2lgdFn0KSf4yEHiKr56nIv5CauSuUC5bSUaBPUkPnMoIPdc1mLvYcXqPA0nk8/89Z+erl786UNfOW5nbCC/dvqoMXSiBk6vlspXgMjQwZ2rpJmFLUydfVR4ZPhoTNUo0ZgVhYiDa8HXxZvXuDBYxnPt3bOesy/T5AGPEVwaSaPKLZSxw7PJJZqzuNRZKXzT+QF1pNXrV5K3Bl86ptyF+xf2rdmtSpA7lX7t7Xd85yYBWzVXuwzr9IEHgBr9Y9q3SuruUmAboseZ6DCU70G3WAWYObkhYJTzozkoX7m8B7olhxFMnSMFkSBEvGeuVtprjk6ySoywrJxoGhvutnz8xTqHO5Vq1L908U9L0ZbIWm/Zf2ZwRQ7wxs2DGDYjNyWEmyVfLvtXCApUMU1KODtIAjMlZe/FkNmfbb8YSCLuxIpELi/fa+apAJZfMVDhj0vSXb19hGVe7DAs4vW5VvCGrFvcuGqtLGT857UEiRoMRFNJx3tIwozWKMb2EfQMBZn7jwrXRRXMJyuMnj49eOanoB3rHFGpdotH7tftApaCj4zZX7WPcmf2UEkKcVEz7RoVqsXhWy1WOiXrq2jk131i9e1bs0K18kOSOsy3vz//cNA8VNcLeh9UoDr1OXzvLF80+S3qEpKOafpQ1+CL7H7b8snDXciLlnyAgCPgSAh62X7cJDWc/Plk86p0aPeHKuHAMso/LxPkLu6WPPsPODZg3xJhdOwtB7Mptv1bHACSmEM6K9KrUIV5AHG69h8LAnwFX63T7fqC6Cpk0uDbFaXi/ql246IxrkaEGYCMxryeLqm7BruXDlowxVq3Cgxd8NaXdCFg+LkiAi1PkCwslMZCnuMvD1rRqznLWjDi+6/7DO2NbDGXp71a+LT9UcPAYkEQqsYmBtJYQ9jHujRG2Yfp0WSr7NzL3m/cRo4NhsNK8mXoHPqgLes8ZpPzxmN46fmTa9J496IvGg+DlGCZ+2Cez9bKzamm9PU57wI9DPq0/sGu51l3KtoL/h5SE94bKpEbmFe2BSXZcu1+9HbdmetpEr8E+FUybh/sG4aCUsROfMAdOFBQIVvgejbCE+BXzUfARqe8IChvPwLGiB6ivjHIQ6Lz54xBFRvPoUmJjMyQcZghwfQj3ECIkQijGDzkRrH70KNHSJEqt1go+z0G/DcfVp7FJcI/qMfgbjKqM4owJVJhjw0w8VhK+d75ZlCHWNPgaRXLBCsArk39RndiNFYlDBFy4Mr7150iaEGbxYxdAbU6nWNtVyVahw9ztC1oWb8B85qJOJGLYj8SOHou9LHBqX90YCfgeAswWiJBvW33OXB1QrRvkBzfFIxzhbAuWzIoSgBvsNGOAUebo5H4a4qTigF+XmW+NbDoEDvCrJoP54q7cvYZXbeahghpukAT2vrKV+9fhXhvzmcntRjDDr929AW+pjcCRayCh870hkx4JAoJAWDCEoAylCO3O9WLoiNhB1fVQCn38g8/eMn/21vkmYRVnoyEEWTpZRrWnFuuAfbduJvtx+9LNIBHUQUT2aS1yU+mnbJgDJYFfExRZMGn8iCfZ/guHJ677YbnBLYGxfNRTzSd2H1C1a/GMhWgGykyVC1Jm5MqJW0/8DedpkyEkGW/rjW3XvUI7iACqU2wG8XCG645sOXXtrLGicBJ2Y4wu37mGhF5ZAm/9r6Gg6hRcWY8K7dqVbMroMARIHJUDd95GjRI1Yez4WH/hEgZXDUgK2k3t4wYUeO6pO6Ztl3Ktq+Yqz+6L2DVq9Bf3T7Ir/3Fok1VFoGphP673TWD/Kl3IqHdKptyGY9s47ogHSzca48NZ+Dzf+uljaIVWJRoVTJsbqPmp/vIK/cnkP2cbNbHqVYhf8eLdK9IlTs0nhhaFUdADgZSausaumWq8nt6lxD48FuG5azjkbDy+E+oytA2cG0d7pl0a8u3DrXH3rPXeUXQaypSUVdcenUqvWbQxAWVRJUxRPFqhWHlgvboQnFfcSWNKEJoViXW74biO2KSg/GE7oCiWNVU+IiTWfKvsCYOF9tP6Dq3/DpdtMMM52Uh67xl6mDorj68QAaZ07dGtUX3XylMZrXi6xC8M4GkS38j8nUsnrvse6YaxhSHupyqxM5Nq8/EdfIboAzG1YOJp21FEEnO2/jZz889aY2lsgArHjxWPe2U5P4/hKDMW/3kqHrOmaRvmzdz8k5bQWfNKjCAgCERcBCLlGFQ2LFsPZ8WBiiSxE0aLGg3xP1ssagF7DcCeEGs0DvSjc7OXRsWz5JE4Xsy4dx/cw4bTnq4JxWCWZOljxYgFk0nVypm445J5i6PzLMkyINujcGTADhpsLYr+crVa4tiJnj9/duXudZQqyjrRmjL8xLg0Rkj0cfIOiQPDb+3CuzV7QRqCc7fv34YhtCagruGNBiFu51XdsW1Dw4YhF2BqJQ1W4SLXvHjrMtPGSjKWzlx0QpsvqK7DtH7KHlVJKBLFSnDn4d3jV06ZNmlrmyUG9UumZOlhCMEcX6BHLp9wMKud+YoxosO8EwkLYmykOfDqJ6+eVs6orGi7lNiaXWLCDAFFB8eNEYeh5JKYo5dP2BtTmlQuawnEAUv3rTGeLfR4Uz21IkFhp0yQDHUfhPXVezdOXj2DsM9Ba6GqUbCTAKqaRcYk/XSQUV75AAKMPnaeiA+QibAxnbpuVyLseD81QeHMpII0Ql2fMHYCrv9Ve6KpEOMjph9QXAhlWk16Q8Uzz6mFbfrynSuh2Z2NtUhYEBAEwicCYc0Qhk8UpFXeQAAh+vK+s+EZ3vnl0992Bl0+ZvMfbiQw5eUVVpr4cbGZxoORmiHsPONNmy7pPViXFCUICALhB4HwuSKFH3ykJX6OgGII8eXbfEI3P4dCui8I+CECLw4/+GHPpcveRiBXqqxwg9Sy45SNoz66duW+kkdtTapfSUAQEAQEAU8hICuSp5CUcgQBQUAQEAR8DAFhCH1sQMNjd2LFeHHSxmbjaucNui4JGyoHJ0VtZpRIQUAQEATcQEBWJDdAkyyCgCAgCAgCPoyAMIQ+PLivuGsoBtWRoX5VuigHg6YG4WsHv6CBpZoSv2j3SpcOZ5qKkkdBQBAQBBwjICuSY3zkrSAgCAgCgoDfIhBGXkb9Fl9/7jh+4b9ZPZU768tkKbZmwM/L963F3zr+fqJGjoq3Cfz0lMxcRDmz3n5q9yeLRvkzVtJ3QUAQ8DYCsiJ5G2EpXxAQBAQBQSCCIiAMYQQduIjRbC4F4QakPpU74T+wceE61kZzqcCMTT/O2TrfgftBay6JEQQEAUHADQRkRXIDNMkiCAgCgoAg4PMICEPo80P8ijv4y47f5/+9tGC6PDlTZuWiyIBo0bmz686De2eun+PQoPVGMm8398KtS3O3LaAWAt6uS8oXBASB8IZAeFuRwhs+0h6/RYCrXw9eOHo2pFu+/BYf6bgg4NsIyLUTvj2+0jtBQBAQBAQBQUAQEAQEAUFAEBAE7CIgTmXsQiMvBAFBQBAQBAQBQUAQEAQEAUFAEPBtBIQh9O3xld4JAoKAICAICAKCgCAgCAgCgoAgYBcBYQjtQiMvBAFBQBAQBAQBQUAQEAQEAUFAEPBtBIQh9O3xld4JAoKAICAICAKCgCAgCAgCgoAgYBcBYQjtQiMvBAFBQBAQBAQBQUAQEAQEAUFAEPBtBIQh9O3xld4JAoKAICAICAKCgCAgCAgCgoAgYBcBYQjtQiMvBAFBQBAQBAQBQUAQEAQEAUFAEPBtBIQh9O3xld4JAoKAICAICAKCgCAgCAgCgoAgYBcBYQjtQiMvBAFBQBAQBAQBQUBnMM1+AABAAElEQVQQEAQEAUFAEPBtBIQh9O3xld4JAoKAICAICAKCgCAgCAgCgoAgYBeBqHbfyAtBwBMIRIoUKVqUaJT0+Onj58+fe6LIV1NG9KjRqfjJ0yfPnj97NS2QWgUBQSDUCMQNiJM8XpLHT59cun3lweOHoS5PChAEBIFwjUDUyFEiR44C+QER4lJDI0eKHDVKEJH86MkjlzJKYkEgIiIQ4RnCtIlSX717/Z9H9yMi+v7Q5lKZikxo8wU97TzjzfVHt0bQLmdIknZxr5k0/qOFX83dtiCC9kKa7VkEokSOwvpz+vq5p8+eerZkKc0bCBRIm7tflS78hc6jfEZt55l9bab0itCCKm8AJWUKAr6EwOcN36+RpyKEYtnh9V3qV+PCtT+s058stUa3PnH1tEt5JbEgEOEQCFOGMEmcRI0L1ymesWDyeEmR2Fy4eXnjse0/bl947d4N94DrWKYFG/yVO9fqjm176/4d9wqRXEYEPD5GxsIl7AMI5EiZpV7+6lDViWMnePzsyYkrp1cf3PDbzmWuCl99AIpvWw0rnbnohqPbOs0Y4APd8WwXKmQrVS1XuWwpMseLGffew38OXDiyePfKdUc2e7YW50srlqHghDbDtbXC//6H5ULU2w/uCDfoPIaS0lUEsCt5PX/1ctmKp030WqzoMa/fu/H36b0//bXo8KXjrhYl6QUBQUAQ8CoCYccQwgq+U6NnQLQYuj+pE6QsnD5fh9LNhywasXDXCh3vfKBI+vwkTho3cZZkGbaf2u18RklpEwFvjJHNiiQyIiKA4c27tXo3LVwXM2Dd/nSJXiufrWSnsi37zPkAol/H+0NArT9IuPyhs873EaHSqGZDCqbNY8ySOVn6OvmqbDy2rf+8Ibfu3za+Cpvw4Hr94QZvP7g78Oeh649sefLsacYk6cKmaqnFPxHI91rOkc2GpIiXVHc/ZfxkuVJla1Gs/oxNP365bLycPtDISEAQEAReOQJhxBA2L/r6oNp96e2Nf24hHjt48Wi0yFFzpc7WsGCt2DFiodDnlRs84ZbjO8pkKYaGUORtoZ9JXhqj0DdMSggnCHzeaFCN3BVozNHLJ37bufzM9XMJYsWHHaqaq1yahKmmBY5qOanH0csnw0lrw6AZrD9lsxbfdPyvMKgrolQRJ0bsmR3GpEv8Gg3GRHz1gfUYgEAH18hTCfq4ZKYiU9qNaD25Zxgb+VM1kguaNHrVpLWHNiowj189FVFQlXZGOARypso6rf3XMaJG57Tqwl3Lt53c+fDJI44eNCpUm8+hXcmmfCkf/BZ0mEL+CQKCgCAQHhAIC4bwtYQpB9boSW/3nz/cYXp/LR5esGv55D9nT2zzRZbkGTHU3nZi58XbV1wCZcqGOSv2r4PgCGPywqVGRojE3hujCNF9aWSICNTNV1Vxgz/vWPzhb19q2fa87QvQ83/T4lN8dSDZaTS+k//Y4PWY9a46Qxgiev6T4O0aPRQ3+N6vw379e4nu+IxNP7Up0fjt6j0wOe5dueNnv4/Rr8IgkDNVNlUL9r1hUJ1U4ecIcEj1y8YfwA1ykqX9tL5G04lJf84a1uBdjrTBGa47vHnlgT/9HCvpviAgCIQTBMLi2gnoAE5rcIK//7yPNDeo+n/5ztXOM9+CncO8HqszN0A5c+O8cINu4GbK4tUxMtUljxERgfalm9PsU9fODlk4QnODqiPbT+5655dPCUPrV81ZLiL2zr02s6bhaUA8ymj0MBatm68aj5wpNXKDKgFmcjM3/0S4WZF6yeIm0bnCIJAodgJVC+YkYVCdVOHnCFTMXjp94jSAMHzpN0ZukBjOWr/508f7zh8i3KtSBz8HSrovCAgC4QeBsGAIsaqiwxhWnbp+1tpzfH8rKqFqrvLWt56K4fgTSrA8qbNnSppO+RXwVMm+UU4Yj1HCWPFRC2PEZTxTGiKS6gAGJ3+czxUzWgC1ZEuRKVWCFMaTbw7qQrjLVMmdOjtmkEwbldJ/tF42kYF8z5o8I69QD2IBZU2DXxmcJRBfPdim1JrAmRg+TAY372s5sqfInDh2QmeyMJFIzPjGjxnXmfQ6DXVxqo1OaVZBv/J4QM12Fh9mlPJv6aAKNya5g9LC+FWJTIWQ/VHpnK3zbVY9ZvUUbnoA/Eo5ythM4KVIdDWqZI4OeqkKKVYQ0AiUC6Z58KW0aLcN5wgI1EasmEDizMkysArpXK884MYKjCgfmoqDkXgKdKn9bMd4kcCwlow2V0U2XxKwtrODqzufnCk/XkAcVnU2BY4z6PTP/xfyfVcsERj00hHjmc+IfE+W7r0EBAFnEfC6ySj0AVZVNGfP2QP2GrV075ouZVtDAvI1KsmZvZSm+K7l2rQp0YjIcl80NDo5VPG/71n9yeJRCK17VmxfLXcFVgqVnZR4Nx29arJJdGcq3H8evTpGGsanz5+x37Qv1axBoZpQxioe+mzXmX0T//wB4xmd0hRQ2mN8tekth0uB1AhyGNWUWD2y0b5eoHq5rCUyJEmjNxs0yfAtHCI6e+OCzVzMkB4VA+vkraL3kjsP7i7bt3bUyomPXLy/yGb5ETcy00uqZc/Zg/Z6wVeM69GSmQpzGYOrSrNSmYuggcRHi+bAqYXzxpuP71iyZ5VNqyqOH7cq3hByQbUHjn3v+UMT131vMzEXn+ROle3jRSOX7F3DoeWeFTs0KVxHiRUu3LqMzvOzBu9QzpfLx/+y43d7HexbpXPjQrWhLFpO7HHy2hmSqWKplytVrLkoH8V73fxVjc5LYIf+OrWbGWVa6NyY5NYaX3lMxqRBblqgd0290w2DROZgYeUcZcpmLTZ766863pnAmgE/QbQt3rNq6OKvbabHDG9QrT68ajOlN8dcCbD4U1fFHKWLZSigsqwdEKSiVP+YD5xlYPVbdWD9oN+Gv4z+939MoMtkKcrzx4tHLdmz+t8XwSGI1BV955CdSUVRprfy6M8IqA/hwMWjNsVnIMPx45v/3GKjwQmCR85dw1lNavMlJducq2os3qvVu1aeSnce3qs2Msjcw/jPjRW4cLq83Sq0My7a525emL1l/szNPxuJMVWLIskW7V756e+jiWlZrEHnsq1wB6jeVh3ZTG/KSOjqF6iBijVXqqyaDwTGHad3f7t2xtYTfxubbQyXzVK8a/k2nBbWkl9WocnrZ7MxPXry2JjSFGZ97lOlY5ksxbXY6PzNiz9uXzRlw+xHT+X6QRNa8ujLCHidIeRkkcLPZCxqBPXE1SDqin/50+SyR0moBKa/UFGKdtdLgEqg4iFPsWHDh0H8mPGIh/fgVnGoNNgSWIUSGQt1++GdTce2m8r0w0evjpHGk9V2bpfxiO6IgXy///gBwwQDUChdXn5fLf9u8vpZOrEOICOcEjhCMZDkwkkgudgn8GxZKnPRd3/9DF/2OrEKMIt+6PiNnhJUxH6ABomMtfNWRnbbYmL3Y1fM/iSoAh8A6GdUIXcf3osaOSrIcNIDbUb3H4IYBr/9p/VvDr/ioGuaQAxi6IgrTtV7VAjsUaGdwhZOEuTR6zLEKNY4tQjRYOLxmEhfN/+Y7V9lgceIHDkyWVDBjW7+yawtvyIGUq/0X1rFQoGWGA5hYpsvNRtJgpNXTyNciBQpMn2EELHHEMLlNihYk0I4CK24QfKqYvmrK9IBpNoT2n6hBR86nvUH2mvEiu90DAE3Jrkxe/gJxwsI0tMyIg4UcSeDV3s+UlebzXxgVsSOHsteRiaG2g60WCGwVLPAUk2N6VWCFzGRImECzQnYctlKGNOoMCNVJWdZ/vJYLVd5K0NYMG1uRdHuOrvfml1i/BkBrlqh+w5WS4Qmp4KdcuVPk/t//5sbeqzw0qfmtuZqrGXy7ZCGpcz0ytUVmOzdy7d7o2KgKgdnOYhoWQZZxwZU64b8pdv3A5GlGmtRJFnaxKmRz37e8L1aeSvrt+Q9f/OSeqTxS3r/oFdUGEvEuHjfQezCtTFF0xcY+MtQm94H+1TuBIepCmHxYQmKGxAbBcOIJoNhWR0MBITE182GQBOSVxMY7BScc66QvdT3wSbuuqkSEAR8GwGvM4QsFgrBgGgB9qCECuTHOuVZ8y2MMca3+pxPHXn873tWKREUW3jzovU7l20JbYFaoMqIpvZkePZa63vxYTNG79bshSkmNoezt84/eOEoOyKbBCTXOzV7oZrrW6XTmoMbTH7/SDA1cCS5YOpGrpjAwSS2GeYJaiiEnWieP2vw7ulrZ/ec+4/aavfZAxduX+Z+vIW7VyCIxSaZIYOa7FimJdQhm807NXt2nD7AOI5Mhu/aDFfcIM2b/Oes87eCtih2uEaFa3Uo3QKnKcb0/hZ++Fh/xUH0sc1/WomaKNaL81o2k5kiMRBV3CDePvhO9184zK5MGga3WMaCNXJXhMEzZRnW8D3FDaJiwiuVGil4vDerdcOJJS7duSme42qmXDwmjZtkeKNBpOTyA3ycHLt8Kl7MOMxDyI7f96xkWeCmBEYcObc1b6lMRZQV6y9/21Uh6lzM56ntRynTI4TiXLV67MpJ3sIfwn5gLG20TXBvkuu6wlUA2o72KCbKXsOU0B3WkQ/ZVU2yvTLtxX+9atL4P2bwljmGtpZAmc9f1xP1/qP7aROmZkQQE2AtZrp4GtUNHWF6QMJy2yRLhOqdrqt4xkIqvFEc1WhQJBCMgJoqMQ2XbFmBeRystkr48nSrNUHYxLixArNUKm4QC46RK75T+y+UFRslFlusop82eKfnrPes7U8aJ3G38m3hBhHEfLduJqcM+Li4z5avTCWGFMFWCJvP+TuXEjh+9TTbAVwiWd6v1YfvESoCfb7JbQSCPMUNotlDA0lGeEIIP4T+fap0wn369Xs3rY0hBt3gqKYfkRIC4+uVE3/ZsQRxJPGoW7FZgzhR3hBt5pVIQcD3EPA6Q4ioRplG8I3Zg69AmlxKauXZxZHvHA6zzZRe6nSTqh2nAhgNRo8aZLvIyagSmQo7MFa012Afiw+bMYKvM6kBWdbh8bAMhG9nY6hfsMZXy8cbse1VqSO5oBq7zHwLzyXqFY9/HtnSdkrvBW9MC+bueqHxM+Zid6k3th2dMkZSyxfLxmVMmhblMJQcQke19Ks0rYs3Uj4AsDAxtgHe4OuVk9i9Pq3v1xrCsy95JL7inWf2GYHVYdS8KpwodnwdGWIA0yDSMBPQwRoNjWDq+MFKmUqolL006hoiGRdICv320MVjXWa+/X2HMfnS5MJVw/y/l6BM1m9VoHHh2igSyUVeFXPuJZ0AKQCVg1aZu/IUC2HKWy9/NWKg86waaVNKHhGTK24QXaWRoYUusWqT3Jvk1krDQ4wSurHwYrOtjDatrVLzBKgTxIyHg2hrAg/GMF6KNNc2Y9jLqRhVC6IBVAGEuT3FxBBWCXaPxAJVO28VmHaIyz8ObzK2TTGEWK1fvXvdGC9hQYAPAeuk7CmyMM+VhMuECTNK2Sm4tFqaCvHIo6srMFTTgGpdqZpdmEVby3SgrIYtGcMjUldWaWRzfFymFnLaEGYPsyz8M2M8r96avrsPF3xp4vfgEjHcwILjzWrdsfYqmqGAvjmGEuAS36oeRACwxXOfDUcAVLHsJuuObN5+atfsTuOQwalI019cIiPoIbLvnA9JrN9iBtJ7ziA2fQ6e6EgJCAI+j0DkMOjhpuM7qKV81hKp4ie3Vof4583qPVQ8hgHWBKGJ4WYLIzeoi5q3bYEK506VXUf6cyAMxog9EqN8K8gw5Oq6EUz+jG8569WoUC1iEBZqblAnQO83L5hbwPbMei7fxA3qXMruC+YTzlBHEoBV4C+E3djVU4zxKjz/76XsENZ4/4nBBFRRvdxKr2Q3pr5jIdm2ZBMVCT9geuvgEcKIt4yXkRt0kL5tsAUgLDrnTk3JoEU4ZEIkZdbKW8X0lke4QQ6waW7QmABLdXWXqWL8jK8IMxUxHyKw6uAG/Mib3poeIVnq5KtK5JYTO4zcoCmZegzNJLdZ4KuN3PzySkb0tDZbghNaTL/UK4+v9jZrdBzJ+U9lToY62piStim/IFxhvzvYIrRSjiDJhf6HRIkzTjxuOLpVR0pAEFAIqKMoyKOrB0uvrLD0q9JFGUa6tFpaywl9jKsrcNMidVlIWWyHLBypuUHdjO/+mKEELmpL1fEqAPcF29Z37oeaGzQl4NHEDeoE2mY7U9L0OpIAS4o6E/TdHzM1N6gTUNrIlRP1ozEAOYrmnxg8Cxi5QZ3m86XfOLkr6SwSEAQiNAJhwRDO2DgPIRlrwZgWQzHONuKFxGhKu5EIjVTkvYf3jW9DH165/0+bhaB8UGuZZ41UbdYVISLDYIxWH1xvU1YKPkpGaBoLjPTUXmXzzAC59PnywunyOQmyvugyTox/z32hhFR+j/Afo61nTQUu3/+HKcbfHqdvDDLCRNQ6tP5ANS4aAVzUTms/Sp9dsceN6/TGwJFg5x+YG3Us08IYbzPMARg8GfBq8Z6V2srImJLbn1U8doDGeB3+ZvVUHTYF1OlB7tDDhsr0Cp2kMoP81b7LGZ2lZObCCgolsNDxNgPemOQ2KwqbSI7mojegLgQHaN31OV5iONeHyGB4o/f1J3bvkYdXezf6yIq06dhfZCyaPr8xO9o/Ra9vPbETxp5XnDUydqdohvxKMiIXGxpxk7BCAEk0nA/hD+r0R6NlhAXu5ePX30Jioj4El1ZLYzmeCru0AlMphpT8Rc5u07Qeu4yDF4+RwN4KjDG/1XbDmb5cunNV0Q8cDjSm5/wIjyz7Nh268gqZjk0ms3imQuqL/m3nUmOBOoyoiA1FP0pAEPB5BDyskbOJF1ZS36yZhtE5RhRLen+Ptofj1NBMmBWhFMLau9/cwaObf0zee8EG3DYLcS9SSf1t5mU5hq7VVKzNNP4TGQZj5GAslExRGW9ozPO8pMsv3Lz0H1cQL1Ng96+CKRPY0Dy/TBX0P8RozOCxxkpNxUeOFEknwLBHhZUqQMcbA1gkGh/9MDxt49ySmQphYs0N9Zjdwo1fvXuNk2CYaMJRc6Eo9kIf1ukPMnf/a6zrGCssMNuXboaCEZE5JwOnbpiLYZ5NZo9y8qZ+waqdvn7e5pQgDQQWpHyql86BjLWzwVstNnWChbuW96/aFdUQN+lxDFXHE6DL/EUpjfsZY7zNsFZ07wy+h8NmGh3pwUmuy3y1gUHzh+M7CofAnNRtU7LRX6f2sKrD8BdJXwCjLw4dHbl8HF6RRr5yUlgBxZhyVwrTCbmkXqMU1Ys5KEatsHy40OCcIQ4Mtb20shdlCaKDrxZwqT0cIgAH8uaPH3/b6jPm/LTAURggcGz+6fOnLJX4OEEriF066ikuN3JptfRGT11agSGZlANVTvvbW4E5IkQ7OXFNN60aNldP6MCzUWlA1BiQauwLUSJFwcDHiEP2lEHbN/ZH9g4KQmEiccbBjDEXYeXfjoBptTcmO3TxOLavxhgJCwI+jEBYMITAN27ttAu3LuEJCsoAmpKfwhRLvCGLRly7++Ioj8dvDXbgXcqHB9W9rnl7jNQ+4Xzb9CUTy/raMDQ1loP5lvGRMFsI7uZLZymWLXlGlNIY5pkSGB8Tx0mgHrWvM+NbFfb2YSdrjeEtBo161+/f5sAbHsOhchTFTCPZpFfsX8dhOWV+Q4xLXzGUU+CUPiObfgRjiVCZH7wlB7c4PagOpBlxSBYviXoc1uBdY7w1HMeW508H40sJSPThRZk23F4AcwsZoYrlNCA0HGFaZY9TNTbg/+2dB5hVNdqAF3vvvSG6dsVeERAFu6IiqKiINJX9bbi67tp7rxTRtVfUtbF2LKuioigiqKhYsaKogIKirv7vTDT37Lll7h1mmHHOy3OfIScnJyd5k5PkS758wXACl4TM119KBgvumank+bE1Bh+Kr/PgPifvdvR2a7bGQg+/kCpkJ7R8mRk8bfe/4sMHVQ7MWZCjqPPJNsIgEDIGDRrCYavSqx+9Qd3AKhXWhhMCYZWK6cj3R+cPeWdBmn1F4yfADjqOPzl516OZB0caiQIJzeNFw64cOvqR3au3JVfUWtZHritqgWncgjzWZZPd+ZVOD0t5+UJa6UaYCPn60JvgA2S/evPFlsdea0oCTL00KBaVjvar7wrsVQ5GwmiFgtm5VLTh8iu3BxfkomcTJTCLBELo3fPKQ6zpM+xbbalV5ptrHgYEr33yZjiBh/36AW+coK0r2tGgXF1F2LTjqdcyinYdymS4QEkpLhlJqsNgPedvO/0fA7gQBkEU+xaoqXz/4w9Ihvn27pEeQ8iCiiXhFgYJk2/Mpht7vFjcYasGAhJT3Rz2wOifMXHYXrhi9XGjLPZ++PXHFfFBj7fr1X9hKwgqhZQORgt6t96/59b7cX4Ur0uKVfmSf7EXJVeAY5gaW4N7Rj2EQEjN4UyqJ996Njy46/odgmYRX0eMqoQjzD6U2CSTfLbWlTwZSWNzUx+OuO0kBGnEe2YA+fA/mfw59n7Dkv6Kiy1Hguu8qa81BCoY54hgU4pthNieJR7M3oTB4qOvVymKM2REMsSSIdsIg8Up7qLewi22pNb6vT7Y5AlwxG6nK3phPIaVQJRTvv1h2ntffvDyhLGoPrLeRUMHgfETG173pPwWeP55Sk2tpgo01S+Hu6UbYcRmLIdHowD0yOzumTJ96vSffpjx0wzUtlOv4DJ039//VKqDLtizzzd3Vb/PqCA/zugTtZCijw4JNGECs04gBCIDSvRF8w2EtFxhbe7SSjaeUUITLvLSWWs8ZRSG1EzAr39a+9JpTt5l3MYmN3xYX8Ke5FNvPR/ElRCGVSwOE0+Gx/3D72cqlNAfni3v7KZUJNm5xDprFJaSuV6/WsWXXWT5lgaSwQq6+fbZwMmPoUDnTXbba8OdEat2Xm87dif2vfn4lz4cE56a8fNvhumwKxvXagpGWDtPTAtQW1AOxNZozGPQFx01YSyWbMqJNtTblP5zsQdrV8mLxdao/BllcuRGKknsu1t72SpbLG/Xgw72XLPPlXpdmZcohSIQshWZISziX/u1qnZJffTNp6iMhhgeH/cMDQthsFOPsly0QDN8vAJhmYyzG4ztBvk7Dlj+CqdlopQ4y9BgXL3Yu8ptgX83DcoRQVc9fXOx2GrnT+N/Y8/LsViD/Ia5b6zIxBNfiZAWdfTJw/JjLmfvT0FDaOU01AVl2vw06COBpkHgf7SxGypL26xZNfHDCC95EkBDJcb3FiQw68soaJuwDyHM1hdMVcqTLhaL/3gyGO08uPddLz+QlAbxL2jSbfL3VXse+LdEtbJfcKf+LpinlZoKkPFLtu1tVG3upaC5tvLhoDJwzoP92124NwMChuYsCV68z2lRUI+aP+HEyPKjLTMkomywYITCUph4ZnY/rAWxeFhmJMGYBFWxnHpbi0peZjIaZzCUQYJ5nqerbc/UbSI5VbJ2ET73TtXWUOow2n042q/dmr9heTBEiMQY1graVXdVKJfiz6FnyQFrCOlfCZRDoN0aVVaLEWZe/OCVcsLXSRjUL2uMp4YW+PcD/ZYptEm7xshLBziqfR+kQZr9njccc8V/bkh9XMWMEoetKCX6bl66wP/aoQnJmDx9Kg6iZQdEsYSlDNgUC6a/BJoGgYYXCNnay2Z9aOZPJzcNxE0gFw1SRmM/GRfQFbNXlg+W/eVBUxRrkAWPB1h2kaXyn+JMheC59nJVw8GC/zi3uqC/noHAnhvuGMS2co7pqxEaE0Po5oXzIVivC1v4eAol8/Bs+VWixnelAtw96gF8yAu6ozh2bVm1Os2M9UOvPZEKWewyHjofFB+KBQv+tajkpSNs5Hf32awjKWSaBg3SSpOK8gKPFBsXcuvPS65caZwhPHZEQ+TUNJYpwvFIwxKGhRm4B2uiQWktrBCqL1o72j5F8xIOuEMVua5MK0VVzIKTnoF56sCGEgVRrAVG+grGRcu37F3iLalbW65atXVo1ITXULVN3eJy2UKHluEf1MpaLLFimGnKfxCfgt131EcL00AFH1zZfr8gFz2bKIEGFgjZnHPybv1gy5ZCrPw1Uch/7Gw1VBkxAgujtP0226NMghi9DCHDKk3+U5iFyPdEyzEsJIajqPMD4IPuYkF/PSGAzNa33cE4KLKwK7hOsDw49jcZLJ5H8umUiUF655jBcCpAnbwoGQmVIRid22HdbfDfad1t+ctiUcFdKMkHo5tjDNC/4rKcQ41rUcnji/5wjtarbc6J1ST7puf/xTpApekPFsJWqN6CmP8sS7IYkcr3L8eHwg3mZzdqvt6Wq2zCI6gYpGwPcmoO/uxxRWt0xUWrtkEOHz+ynMgNI4EUASyu02bSStzw3B2pW7W+jBOgoXLmx8OsbqWKFfktMNH+563n+cu8SZyny39XLXyY6GF5kAcnT//NxGAqkvb/exBovMvBMLgRg4MhqOgfHRyVxH7meBkdI39fm91hnXbRM+lA0bTVnzUxmkSiu4kTaEiBkCbgwr1PDkY+WBDI1xftuXVXji7ca6Odm3ghNOLs1VhG267Z6vL9zjyyfa8SM/e1yx9CWjhZiHOcMDFSLJJg8CPc5SCE4Fg3z8Y0/uxJi+aLkrHRMWNAEh9OxeTU3eSt4GYFm2zm++sDAayGXNv94oXmWYDdntgazWdS+isOG2nyn8Jn5SVWCP7IgTHAtc8Owc3rzt7r7yWejeFr4bjnlQd5Ckt3nHkYzk29u9qnzKiYQQ9n8WGItcZqU4tKXmYyGlswLLVc2PlkUoUmGEeYpJKHbvCJuxx16b6n59t8iiHf+Oxt3JzqUXC+n3Ms48RBfKR8x3PV5mGwabFpiw14Krk8GCJ58s3n0ChmjLj/Fnvig3vEey+XH78hJRAIcOZKj1ZV3RmdTv5G6Fr3pygwhxkTzlDJXyRkLxxn6hQsghKtaMEWmNmcYIGZ0xQRawvGiWeyXy4WJunP5G+QaTkFKn/LH5/8wa32TYaP7gfHPsYCPpeHb9sj35w4yejXoU8MnHQwdzm2WuVkr412ikdhJwN036pLOWr/yUd0S+APTWAWCYQM4JLtDifYdNxgh6H/dwMW3sF384i77n3l4RRHxIBjtj+EGeUzOh7Hbv7UXS/rnEAtyogpvQs7n4Jy3SFtDtxjw53qPEnnPzyIqXqipTO7qMupDBZjLWLOj77zpF2PurXXwPhelECC8LDb+tvvu2nHuCOcfuvoDn3O63QChiJi4KTjn0/fHBYJT9jlKExcRmuWbCTbe+NdsUOTP1uRfDwj7tSAe6XFlu/T5oD7D7+RXXaMj/9211n5Zldq/IqP7nAIYgCyU3IjBwMahjXBOBAFyiHIkTCjqHCSFS3Drb0HUQeikVhOfGbSmmHBg0feHI9ziA+W72BenBEGNgyO2/EvPEWdybeDVTq2sx64LKwocpwG6QlSJbUR4ZkjHE/veGw8q5B4Kq3kpV/dGO4mR1EMyDCxeOrux3AaG4u6fGWH33pCWPlPJrV7qy4c1Y2lWSpD0j/pfmDM41yCcdD+52y00nrxFnj/sfMRHIgyM4cMhRMmWUIJ51wPq7YvGl+Bg8gxLIQjNHSsKNomJPnoThFALzQpn3CJSbNru1/C+Zx8FLRp+dNnM9mfPji26gPB/jOnOvM3pofW5qpu57PYVfADqbQFxuxnUOan/f/XYf+kn41iIUqbGMvptuXeN/a4nOnXmIAyHZz6E9J/ym79YhcMk04b73Jr74HoFHz7w3f5USFGsuEQf0aJ13W/pOXvxxfjww7wgV3PpsktmHECnPfQAKaD6W6uPugiepw4usAALINPjsYt9mB+MvSRQBMgMMesyQOfNB02Rupn/PTjIvMtxMgyDNYxUn/l0zeH7zmVkrhrmdaTk8dTO4xTgb2ceQK1KCOKMiruL1fT6fC1SCHN8cHXHTX4wPM4uHynddvxo/nGugMvjcIe/VMy5nMf7H/ZvmdQZ1BFxsAMNuURGIKqDIdP9Li+3wNH3JSvbcihFIxT/3nQhfRDiI6Hb9fzi6lfYll0yQUWY7aSwX3P646ha2FAn3xX1txIaKzzMKanFPiEEcACAXxOHXrhE28+mw+kxq8YvIgB/HiWeNjoz5k0jDCClU422Bx75+lIm8mY+91x6sVdTkWJF0ljQNezuUWVmGO2OepqjZphx2NvPL1Ly/bET+Tlm5OJiUSG7HvL3wd0PYvqdNg2B/Fj+ZQaG2e+MaAXA9eiksdnG6eDg0MpEYoSq4YIh1FiZ3clp3VjpTM/2css9NvmXoZilGO+xMgjj77xFKZfscbRfPEVbu41gG+WHU18y2HbMLq+VMKbevbPj7wcH9YKGFkyK0Fq2b/A2QD5T2FrlBmHoNimfdF8PvokCTBNdvshgydOnTRtxrT5555/iQWqDmoPAThQ58R7z8vXQp/J/nTAE9fRKnLyJyIQP5pTPsPF5lskyKXs7mZB8oRdjkwmEnctWuBrht9KK02zxtdKP8uPgdwvv/4aBwNEe+fL/069qMbLAU9c23b1LehWmITtuMGOn075vNmfmjHdg5xGm9znpuP6tNk/GONJRXX1M7eutlSL0GIP6TOYD5lGlVUH5rgJiZw88oPRp+x2TOopLpniQSxHN4Eehz4FXEDjAw8iLk0KxXRb70H5D+ojgSZJYBYJhLBjhiyp3c7KDzuqrxs+pNiizdiPxwUVHdqCaKehSZZB48lUpWX0xbdfsYATbDAEVf46zwuLTp0G9ULNpvMmu9I3IOnF8WWVibb3X8GUaPKlj4175rCbjz9up75s9SEkWqDcpQphPfLiYVfSB2OYZMtVq7YJpf4x5b/XoJ7IkO3W2IqeO6zqMDB96s1nOaacQyzenzQh4wIhxJBw4twtl5hT51T6G56/o5hphBq/4gfGDGu++PJbrLIxdY9uOPTExExJIZUNePK6/OPpuXXYLcfvst523bfaB3sAVIkwRucpJNXXP32LJb6vp33DZa3/3f3KQwwveJxp6ftGp5UXyomWmtlxQPe+7brvsM42EItjQSRDDGymllIrreTlJKBhwyAHxnVCPqJRE8bwAXKQIwVUMGEMVcPWAIZoBaVBnuLZI287qVfr/Q/YohPzEYz2woCPwR8xMxqGLcpscZq/4IuKeRI5KqAUFgEQ/Aqm87Fxw4/f6fAQA8eOF4tKfwkEAswBJbftsaTMnuHbXryXxqEgopnsT9k532XwIXRhrM6F5jS8hTnT654dcvvIoehr5L+3Fi0wkfR/4loU4w9t2w2Lu0zehfm7EDkjOjqFEZVbjaKp3++qvmj90EEzK8QsMBHSGjBQPO+hgRxvO+ajcQUFQlrp4+46c+QHr/Zu0xV5mGmdoG+CGi1bDG594Z4SRsgoDgQ/ZoHZGEI/EsaoDBjuHf0wC6GMMUhAXU015sPXRwKNikCztU5qMwsSRCfdYsnmjPb4tDhm9MvvvuZbrfG9jPb4SmlDiwmNNcZggPIJ1K6MmCPEFDu6mkm9vvJfWlFI2nrMhM4/13zMR06a9s0Hkz5iCFgsBrqT5RddtlmzP2HZH0skYdtDscBJf8RIphuZp2Sg+d6kCfQNybtZdgcBGzK//ulXqE6c+mU4NaE0k3K+YpoFFJCQt+eeY27M5X357VcfTJpQTpGxOsR6EebUf/nll8nfT6VKNDZFPibgMcCw+PzYkPgltHv5KwNJgBVV8uSDjceNtMaeH9Yl+E6/mjb5k28+K53lkHLWNOggHn79yWKTC8kMMtGz9EJL8XUzo89eoNQacjKkbgk0FAH0NvmcWTejUeLInI+/+bTGNq1O+lOmn9gUx2f4488/fT7lC0SpGgnUugUmdxgvpR1G+v12xncfff0pn2SNrysdgJSzvjrPHHNzIhTSWjkNQowQxdEghLM2W1AZIYZMOWh8Vl58hXnnmre6SXm/2LRU6ikvJdCUCMwigbApITMvEpCABCQgAQlIQAISkIAEmgaBWWRUpmnAMhcSkIAEJCABCUhAAhKQgASaEgEFwqZUmuZFAhKQgAQkIAEJSEACEpBABQQUCCuAZVAJSEACEpCABCQgAQlIQAJNiYACYVMqTfMiAQlIQAISkIAEJCABCUigAgIKhBXAMqgEJCABCUhAAhKQgAQkIIGmRECBsCmVpnmRgAQkIAEJSEACEpCABCRQAQEFwgpgGVQCEpCABCQgAQlIQAISkEBTIqBA2JRK07xIQAISkIAEJCABCUhAAhKogIACYQWwDCoBCUhAAhKQgAQkIAEJSKApEVAgbEqlaV4kIAEJSEACEpCABCQgAQlUQECBsAJYBpWABCQgAQlIQAISkIAEJNCUCCgQNqXSNC8SkIAEJCABCUhAAhKQgAQqIKBAWAEsg0pAAhKQgAQkIAEJSEACEmhKBBQIm1JpmhcJSEACEpCABCQgAQlIQAIVEFAgrACWQSUgAQlIQAISkIAEJCABCTQlAgqETak0zYsEJCABCUhAAhKQgAQkIIEKCCgQVgDLoBKQgAQkIAEJSEACEpCABJoSgTmaUmbMiwSKEWjWrNmcs8/J3Z/++9Ovv/5aLJj+EpCABOqDwOyzzc6PmH/8+cdK459rjrl45L+//Jdfpc8aXgISKEZgjtlmn2222RkSMDAoFkZ/CWSEgCuEGSnoDGVziQUW45fKcKtVNx198jB+OFK3vJSABP7QBFZabPn55pq3kWfhyO16hSYoSHflp5bw4UFiKP8pQ0pAAjUSOK/TiXxcjx9zR40hDSCBJk+gXlYI9998rxZLrPTp5M+vfXZIjQTXWna1ThvtsuFK6y654OLTfpz+4VcfPzT2iQfHPv7Tf3+u8VkD1JpAm9W2aLP6Fjx+3sMDakS91IJLdNp4l9arbb70QkvyyGdTJj755nN3j3rgm+lTap2Aenpw4+Ytrzv4Uib8el5/9Esfjqmnt2QhWr/iLJTyTOax+eIrUE9mazbbkJH3vvPFBzXG1m6NVruu32G1pVosOv/C30ybPO6zd+4d/fDz775U44MlAvRq3bVfh0O+/Par3QccNOX7b0uE9JYE6olAU+1P6wmX0UpAAo2QQB0LhAvOs8B5nU7YZo2tyOrrn75Vo0B4dIc+Pbfej/FEQLPEnxZrvtgKtK0HbNHpyCEnI1I2QmR/9CShPHn4tj0OaXMgDvJy8bArSwuEO6yzzekdj6VkY8aXXXipjVZar3urLsfeefqI90ZF/8bg2GDFdVECISWbtthQgbB2JeJXXDtuWXuq/Vptzt7r+AXmnp+MPzP+hdICIZXqgr1PCpNQAdTi8y/656Va7LZ+h3+/Ouyk+86vhSJliGfTlTfAwXwicqaffGDi31lGoGn3p7MMoy+SgAQanEBdCoRrLvPny/Y7Y8VFlyszV4dtc1Dv1vsT+POpX/7rpfvfm/Th/HPN1+rPmyKBrLPcGlceeP6+Vx06bcb0MmOrv2DHbH/o1n/ebM9BPervFbMs5kXmW/jCzidtVbba5OYtNrqg88mIWNN//P7eVx5+9ePXWXxrucLae264E+O5AV3P3v/qv7z1+bu1Tv8NPS5jTfjk+y6odQypB1/+8NUg3774/iupW16WQ6CpfsXl5N0wZRJgLxxzeT1a7VtmeKb8Ltnn1NDsMFE4dPSjE6d+udRCS+zSsv36K6yNTEg8f7vrzDJjSwV74b1RKC+wQvj2xPdSt2p9yZzX1QdddN2zt//r5ftrHYkPNnkCja0/bfLAzaAEJFB/BOpMIERCOHm3fnPPMddH33z60def1ChysOuj7zYHkbGxn7zZ+4Zjpv7wXcjkXaMe2H7ttpfsc9qqSzY/Yrue5zzYv/4yX2bMHTfYYaHE+liZTzXCYOstv+al+57BWOf7n34Y9vpTu2+wQ+lEMuw7reNfkQanfD+127VHjv99vHX/mMeGvHjfDT0vQyY8Z69/7DWoZ+l4it3981IrM7s/o3ITC8UixH/0R69vd1FnHJO++7pEMG8VJNCEv+KC+dWzFgTYoHtRl1PCutztI4fus+nuNUZCExp6hDteGnravy+OVp1uHnHX33c+/MAt9kYmHPbGU4+Ne6bGqPIDoIcy7I2nv5r2DZNW+Xdr57PNGq3Y9bDIfAvV7nGfygKBxtafZoG5eZSABOqPQB0YlcF4IyqFZ+15PNLgyA9G73PloZO+rXksjqYo8gY2046784woDYZ8PvrGU3e+/G/cXTbZPd86SP2xKBhzyxXWavA0FExYpZ77btrx5l4DkAY/m/LFAVf/34sfjK4xhh3XbYfcTrDzHx4UpcHwFMu5QVZnQWm7NbeuMaqCAdquXqVaXOf/EAWVBiul2rS/4kppGL4YAXTF7zrs6jCPc/xdZ10z/NZiIZP+vdtUaYKgC3DWA5dFaTAEoG0JuqZ923VPPlKRm1nIOpQGefU2a2xZUQIqCpwiUNGzBm4kBBphf9pIyJgMCUjgD0qgDgRCVs/arl7Vfd724r09r+83efqUcqyobbtWlRTx9PgRH379cT47Zo7xRMJsv1br/LvFfDA0x7QuIhyrizWmAUMpqy29yipLNE/ujsuPeef12ud7/uF82OfQYe02DPpHTRjbZXCfcZ+Nh22NuQjwsRxz/5hh+YEfef0/qGnhv3PL2iAiMSQpP9piPixULr/Ismsssyq7TGss3GKR6F+MQOP5ioulEH+q8XKLLLPu8mtiy4T6UyJkvMVsDmaraBNWXnzFMh+Jz+rIJ7BZiw3ZrffFt5O6XXP40FcfLacZQREA+EQ1ZOR9+duVmROk4+AuU0u0xvlvrEMf2g1qDvWHWlQiWurM5i02LBEgdWveOeehUaJpItqwMTsVIHX5y6+/BB/aNGbo6IbqZM5xztnnYP6O3PE3bstPvTp5SVJXWHRZwrNBo8yUJx/PsrsR9qcFiyO0fuzUnX/u+QoGKOhZ5tAoPltRG8uW49WXXgVFcap9RamKr6u1gz6OV9POoOgbI/n1T55BFWHoyDqBOlAZRVfn6NtPWXWple98qWpZj381jtf5JtE2JOTw8S9WP5H+w5wxC1l0lm3X2JJhRPp23vXO622HsTuGfeGgJ+7T6b7x6ds3Pn8n+o0xOCPCndfblj2KGzVvmdQCfeeL928acVdMfwi/98a7dtuyM6MZLsnRc8cPjfGQtk5X9IqXjd/BnPQxd57Onp/+T1wTxmTlDI63XHUTssYWnfxhHP6M5DAPiN5p69U2Y/wRRzk10qBLwCDNvpvusdj8ixCYbYpJtg+MfZxlhBgJYdBj3HbNrddZbvVYr0jPqAljrvjPjfkbBYmN3Uo8fvTtp77w/qgYj47SBBrDV5xKYSjKTyZ/3nlwn3nmnJstx9SEOHRmRejJN5+99LGrP5n8WepBLvm6e7XeH0XEYBc3BKDGMhXy1Nsj7nr5fvYt5z+lT40EBj91I/NutKthET5+kiUe3Kq6GSHA8PEvFAz2zPgRwb/tGlugelAwTAnPQ9t267bl3gRoe0Gn5GFiwf/fY4ahy0BXgiVSZiER3kJUpJ9N0WQnubSIXNerTdfdWnYI+aLKJfdJnvHApVjAjilhnL3HhjsyGdpiiRWjAEZsT7z57OWPX/3xNwWqZXiWeogAxoYIdCvimBgLave88vDVz9xSCxX6/Niwtoql7kFPXs93HRMcHcjnh27Tjfm+5FkdP/w0g0b1sTeeuW/0I+wpiIF15BNoVP1pSB4d+lPHVk2j7zGwB/M1WG4/aCtGLy3CXaocc8H9n7j2pQ9ezc8OPhUNjUIMFbWxDMw6b7zrPpt2ZN4kmYAJX3/y7Dsv3j3qIbYWM7v06NFDmNd4fNxwrEwlgwU3R0Qw2MCd+hLDXb7ZYdWPP/Tak2fcf0nycewUUuGRQuN8Da+7ZvhtD7/25I8//5QMqVsCWSZQBwIh+Ghr+EWOnPQZ3QUdSI/B/7VP3iwYAM+xn4yjF0d0LBYg+NPBX7LvaXzwqWD00Mx9LlYtdsZbg/Y/B6M14ZIm8rsZ03icdoR287Td/7rucmucMvTCcJf2Cz3Y+CCO5KxScgyRDNOY3azcYlA0prDGMmIdIMjMNJ3xqZRjzCfjEAgR8JhppmVP3S12ydaLvtt0j3fpAJJsMSwUb9FDPHTkLXEJl9Ee5HkdjyAtbLbyhsfffRYmCmN4HDE2HEl/3TUSaMCvuGDaQlFS+sxYY+EjTM3w2fLjm2Usi0mSdmu2OvSm41K2JRkf39jjMv6GaKkzPEK14aOmTeDHqEiBsCDzcjyTzUgUhEo8uOqSK3OXUnj3y8LCHrITrRONwJrLrFYinmK3qAmhAYmjvRAy+LP8RYNzbfdLguiFLVPOoWZpjpkFzqtov3brbtccETXMO264IyPp+CJ6hyhA4plcDt1gxXVu6TUwvhEJipHlwvMuyEt3bdm+7epbdP1n34L5hcMmK68/+IDzCEmctGnNms1Geqiuf2nXfYd12h583dEFpbiYqpQDgzqX7XsGMyb4//zLf6fNmMYnQ0r222wPRL7eN/41ZWuH8Jfvd2bMC/s1eDuJIQb2eWKlOTmFmnqXl5FA4+lPQ5KoiuErYDBz3I59mSLHH8H1h59nUIdp+lDzvrHH5WhoX//c7TEX0VH+0Cg8UlEbS0tOhQ/zyzzON8j3EhpkVrNX2mzPydOnMsxgKgStcr4OlgFiwqKD+olKUajnzOknp2ZCmI2qjy7D/erHb8SncBzVvnefNgcEn+oPZPqC88xPs3Bxl1Nhgn2EZGDdEsgygYYZNDMRG6B/OnliMfrhzAkm+Omr6ESLBcO8QZAGaQWuHX7bqx+9QVuz/CLLrL3c6px+wSxp8kF2J6657J/vfeWhx8YNZ/2QzpgBDQ3QGXsch3HUzpvsds8rD2GVhEcYQW5+dtXI4G87/mWvjXamCWt9/p4xqvJXw+IjfzgHulUhzSUO/4jFt/ISK5YvELJ9MbC945Arecvz77181JCTI5/kHD89xNNvj0DNg8PKcLw3aQI9HEMZJIETdzmKvuEfOx/BbGKJ6hGj1VHnBOrwKy6RNoYy7H1dbpGlb3jujjurbRETGOXh/bfYkwV8GodBB5y7y+UHBu3lEM/Jux3NeIUVj/MfHkgLELYoIw+su9ya7A1bfZlVXTouAbzOb4WW5POpX5SImZaE4SxLbSXC1O4WU4qDDzyfgeDZD14etNwZOq+97OqHb9eDjoO1Mkwl7/fPw2hYiJ8Fw+ueHYJWAvNQXA588nrWQuN7f0ism435eNxnU794/8sJrECiQ4HRVIItOt/CrEsf3GofRDKM5fS64a/x2ehA+hrY9Wx6kPMeHsiglsUcbrHHoXurfZBFGc3373oWpptDeuJTxRyoQw/oehbLO+yiPP+hgWzBQHuCj4K18eN2/AuTegz09xzU89vfbbbReHIuFH8Jf/YDlz/37sig/YF4zO7Q9mu3ISPMkxZ7nf61JlB//WkqSafufgzzs3SXVz1985iP36DmM7FLj4lcRLVEVnx/0oSn3n4+9VT5Q6PwYEVtLA11kAZvfP5ffFBhRIGUSG3HfjumCoLSODE/+85IxmPURvb+kM5kIpnIoMfnw2HMxlPMCaYOqtlilY1D+OfeGRkfRKkkSIO8lBYALADhe9lylY2P6tCbSZOvp02OgXVIIOMEGkYgXHyBKl1Bvu0SU6FxhEevxrxRwXJiLjaceYiSAGfiRTntzc/f4Xf3qAdTT6EjxC8pcvAIaof9bj/1zkOvIvD267QNAiHu0IlGbcnYp6bibKqXQaeX3MWCyM9pvJVUzMsPlvJB2A4wQ3nFy1SwcMmabUreQ0qkZJkCP3aHvgvPuxCbmv7z1nMFn9WzXgnU1VdcYyIZ35z5wKW3vnBPDImaKFPdn03+gmE3M81oA/797rPDXQYKDBdwX/nUTUltcw6wQQ5UFIwMZ5kjqGnEtqLge7/8rmo3ckXNSMF48j2Rjhj/cYIR2sLhLrIWyxGH3Xw8tqyxaM1Ggz022JGpQO4yxOQXV89m/DyjWLNP29VxQPfUqUhst77gkUGrLLkSeqQMT6mZ+cIV9ZM5Dsx6JdcxWEs86d7zp37/HcIka48YZaWfys9Lvs+Ze/yN3CHFdb2qb+xMaTCx/vr5lC+vOOBcZkaw33bpY/8Mz27cfP2wjoRBoFcmvBYjZI0UkYBf9NFRtwTqrz9NpZPWEk3IfnecGv2ZEUPiQhuLmTVqywm7HMnEQWrGoaKhUaVt7HbVliDYYHLuQ/1jqhhZ8Uny++czVZMv4R8zFEe274V7i1U2SgmEHdZuiz/6zLu27MBHjUSXEmuDQMjALy74I0AiAPMUH+aB1xzOTp/wFkaAEHjpw1dv6z2IrYzB078SkEANup31BGjeOau0ZUpvlmCCP7ydj79YMph54hb7JU4demGUBosFxp+GICkNxpCMD5gx5TJoN0X/LDvmneu3zTY/FD8WIk6ZJxWr6hZaShqMkUeNEYssMpnFjrr6imtMNvNBSWkwhr9pxL+CPjNzzEx+B/9555w76DEyCIghdTQggfmqW5IZP/1YIg3f//gDd2ObUyJkLW4NHf1IlAbj4wyIz/j3JaGX6bLJbtG/fEdKGowPhqaJSohkGD2TDrZJJ6XBeIsN3igicrnPJrtHzxIO1OZZISTAJcOuitJgDM9wmSOduGQzfPSMnek30/w6IpVZ4Yh1u777Uyo2sxL5WaIy3PLC3fgjMcZtvTFYRUOjStvYUOvKaZBf+/StoMO5+SobxbThYDkRNWwc7ENm2RPHdtVWCWMYJl+wMsAlOxKjJ9M9TBlzyeRglAbjXYYWl/w+URI9dUggywQaRiCcu3rDQ+ntvFFcLCZsMOXGdiAKj/mwYvO45RftxClVOj9xWFn+g0015DxzVG1K4V9KMSN4hr+xjMKYL3mrvt0Tv50U5jjZD1Df7zL+ggTq5CsuGHPKEysdKZ94iTUC3CzpbLjSusGT6aGwGHXw1vsss9CSMaSOhiLwWz35bymBMDQyxZr6mUx5seMNEaLCIkPLFdaOktJMvovH4/bUBeb+bZIiFecT44anfMIl0umT1coO662wVjnpCVaaaYSLrey9WG1VCw3YaL51/BfvhXcds8OhcSG0YGL0rFsCs6w/feOzt/OFn5CXqDMVt/OVk8f8oVGlbWw4s4p1QtR5Sr+RPv35d18mzGYrb5AMyepfGJu9+P7ooOWBaljcwVsVvsUGLLzjQOk0PhjkXpYKCppJJxjiZbEZ5xiJDglkh0DDCIRhmY7dFCVAzzHbb+qsBdf0eJBeMzz+ykc51ZcSERa8xRAEFRoGjqE1STYxBcNnxzPqygYyBTOeKKOfCwaoc08KiM1gzAUsu9BSYU04LAfV+YuMsEYCdfIV1/gWAmAEuFiwVz+u2vHLv7US9kgG/ed6fNjiOPTwG1BAUiysAtRw/0JLUqIZIWlzVJuAim1O3SY2nHNYME72nONPq5IyflgwcGlPujPGrGx/WqR6UYLAszVrVvCR8cXrMzvbqx+crZz0hB7wo68/mae6F6MjS/2+/eG33YDLLrJUSAmL7WEBEwOnfB0cpleO5FkwF3pWRCDW7RIfQp30pyVqO7eCDvNaNdnqI2ulh0YVtbHY82TaggmIa7tffO5e/8CgSwl0z737EnepydgOiMHC3AfqoEziBJGPDw2roTFA0BfFfsTLH+asG65ZvX6OzapiGwXZT5hSTI0R6pBABgn8JnTN4pwHBSE00Uu8N85f8pEXDMbewuD/aXED3/kPomODMjr7NNjHT6ODKkJ+GH0gMP2n3wz5xILIxzL3nL+V4PRqja/8ADPvw1it1aqbYkwSK0HNF1t+oXkXVAKceap1EkOdfMXlpAQbdMWCff77tpBFq48wCcHYQMXQ6q87HIYe0SFtDuzden9mnTlU5ok3hzMCKBaV/vVE4Ptqk2AlmhHeG/qCYk39TCZs8vdF1SOjqZvF5qva1l7RP0QpzHhuvdrmayy9Clv14gESNUbydaGjIMJT6MtoMwAAIA1JREFUcadlOelZeqEleArLHMljewq+Pan58vd7zqFtx4ANdtRO3q0fn8mjrz91x0tD4+b5gjHoOZMEZll/GrSOi6V24tRJCyw5f7K1jCErGhpV1MYiyGHt9sLOJ2MvGrPk/IKJBzYE5ut2RZ1PthEGA7mMARgAkM5gLIBJHLRPMeDEkmOstAQmwMj3RyfXD8K5VtH0Xcxp0vHVdwXOZUkG0C2B7BBoGHFo6g/fghhhjD612JL9ovMvHIohTnOmSiWeTzC9iMSYCk8LctaexwcjNNxixo7RwJTpU0kAAxFExKBunnoqs5dTv68qI/6VwALSEOa7Gd8FR93+ZSrxnL3+Ec4bIGZKClumVUX20w8zfpoRi7JuX2psZRKok6+4nHf9/EvR9ecglBLJ/P+705jdMo+PewbLjViZYzTMYTP8Pp0yceAT1wXzIeW81zB1QiC0JCWaEd4SWpL80WGdJODn/xatP7H3mW/uojvVC6Zh9/W3/9tO/xcbQEbhrGNjvYMKiWRIb1LwqeAZNe3zw3BIQPAsJz3Md+THUNCHIXX0RzsXAzZ3jBzaY+v9GFLTBXOaIr9XP3r9gkeuSB4fFR/RMfMEZll/WqK1JBdhdia1LFy7oVFFbSwn/ex06f5dNt2d86LZxIjtXyyEY/iUfeBs8IsGI0gh+q4ffPUR5n/ZRohVUnw2bt4ymORh5oJLNIOQDGnY2UZ40aOD8eEu0yI4hic2EHIZsvn971Pb+OT/iy1A/i19JJA1Ag0jEEarocsstFSxk4iDxTn6zmCYO79gMAEXPEvPPYcw2Ju6sWd/VgW5RJP+zpfvx+gW9i1jtLf1uSKpgRD9M+uIZcRpkMUgRKuAE76uMslTt/+QA2/seTmKKzTZ6Jyg6UQ/EV/BksLok//nBMJ4S8esIRBryMx8xeUkde7ft7PmB+a7Dp7T8k6mYSvXuQ8NwN4Gh1ZhXnz9FddZbuGlmRLikCusCpdjgyr/dfrUggD1BPjLFG9GiHOZhat2e35UD80I0VJJislgNC8hR9NnFD3ZKARI/mUwSkXCB220K5++6am3no+GDfHEyO1V3S5Ihk+56bCSI+Dk3YrSQyQMeTHMWPB8i2S0+W5MjBx9+yksoey54c77bdaRFU7K6Kae/TkMI3nSRv6D+tSOQGwt67s/LdFaknK0i/mblIJmZmhUURvLtDtHB/FjNY8T6lldp/aiwdF+rTYHX3dU8gtCKRSBcJPm66MNRENNANKM2T/WFQN8Jvv4BgnD5lgGkNECzfDxOYsyhOSr5xWlx4clNHjDu/wrgewQaJg9hPHE3tWWrprXKfgvaJBP+OrjYDskP0w0WlXOHqEum+wepEGmlE689zxmQ5PSIJHPNfuc+a/Iss8nkz8Po5aSZbRqQBR7uzokdlT7PgyP6A963nDMFf+5ISkN8hZ1fesQde2iqpOvuJxXh/MtCoZcftFlg//k6YWPk2JMMPTVR/f7Z9/u1x0Vdtdgeu6ALToVjE3P+iAQ6gmz+HE9LfUWltSWXXhpPFPfeCpYrS/DuRcFH+fE2uAfe5OCwZKe7BVEzRIfRsOdB/e+6+UHkmNZ/LHsnwyf7y6RHnTqQvhy0hNUT0tL2vlvT/qwt+qa4bfucGnXqkMvfviOhUTO3UU5PxlGd50QmGX9aVhMK5ZmDnTlVrJ2zfzQqNI2dsR7o5iM4PDYJ9+qshbGwOzU3f+aTPBz71RtI0SzIxjRbb92ay7D8mAIhsQY1MvbrbkVPkFflJMGUw1I0J5dYoHf9haFZ1N/F9AoXYqIlxkm0DAC4eufvBk2N2/UfL2C8BkirFG975mzYgoGwHPcp7+dK4WNuGJhon+wN4V++c0j7oqeScfMdKvJeJqMGzl85Aejyc5GK7UslinOkOUW4+zS+xaKPV7af8tVNybAqAmvIb3nhwwjyHx/fWYZgTr5istJ7WpL5awLpMLHVf03P383dSt1yXGj3a49Iqgb7LTetqm7XtYfgXj2I6pfBd+y8Uotw8Zg9MoKBphJz9Wq1ckKRsKyGP60dW9NrKH+xMexVBEk23tGPYi5xegfHdGCS/RJOUqkJ5jOLzM94VSJFouvVFoGSL09/5K50btGPXDoTcdxC5lwx3Xa5YfRZyYJzLL+tMQELmfuBS3Kt35faiNTdTg0qqiNZffHX275xzPjXyANHCkREhYg02IEGzybrrwBikJoduA/LHFIJiJoMC0Tto2EFcKUviiPhC2ILZZYMSqShPiTf1ssUfhsmGQY3RLICIGGEQgx7fBM9eL+zuttV3CphxPngw3Sp94aUawkPvz6Y86n5i7Du9L2aQiDMRL+YvuEpiQ/wo1WWq/Y7HXYo8ykb42vyI/2j+7zZLW5f+zdofGfnxda0vWqj/1InQ+bH7KYT2j0Fyy0E4ZaEbSniq38tP/fY4iKvUL/+iNQJ19xOclru8YWyU1QyUc4wptLtkW9MmFs0r+gm2mLYNM8GBsoGEbPOieA3BLW0DpuuGPByEMh0hqEQV7BMDPjGSxS5MdANWi92ub4c/pZ8lDBaJciaYslPr7QPFVdCf+SyyzBJ/wNx3AnfVLuYumhxWu7RtWKRyo9qcfjZbCxwaex72Z7RM9aO7DPwSZbHo+792sdlQ8WJFDf/Wl4Kbvp2KRXMAF7bPDbBzji3VExQK2HRjGGpKPSNpYzw3gcvc2Ffj9Ilks0WsNBnSwYbLnKJviwGj/m43HJF2EhjEs266I1inkk3MPHj0wGwM0ZFfxl8Fbsi0NCLke/LBWtlxJoqgQaRiCE5g3P3c5fpjYP26Z7Ci7GP//S7mA8UQBIzfqgXYCtqjP2OC6o1tz2wr0Ew92vQ59UJKnLSd99hc/C8y6Y31bSDZ+wy5Gp8PEyDGXodIPwE/2z4MAIWBj0sP87ZdsTICfscgQQkAqGvHhfkgamDk7c5ahL9z29tGUFHgmFssqSzZOzgyEqRodh9n3NZVbL1/JHFj241b7Jl+puEAJ18hXXmPLlF1mWTYD5wVB2CieRDnvj6bhWQ81M1dXkg80XX4HLzyZXDXz9N2sIsDZyw3N38q5t12iVfwDaJs1b7rDuNtzl+PigNhJTte2arS7f70wODik4aRiD1ejYpWX7oHuWCvn3nQ4PSwf/evn+5C3MmIV5w/WWXyvpH9yh1cK9biHr+UxxbrlKlWpDiX/F0tO3XXd6KB5MpadYVI+PG84yC3d7t+5abPWVu3wRMYYSRz0xIg+mTT+b/EUMr6MOCdSuPyUBPbfu2r/rWXtttHOZiTlm+0PzQzKx23XzPfHHaktyWFWLoVGlbWyJWrfyEiuSJGb0vpo2OZnm56rNw2BVbtMWG+CfXB4MwZ588zlWthkb7L9FVaZwj3jv5WQMuB8c+1j4kA/ftke+EWByUeO4MRWhlxJo2gQaTCBkvuf+MY8B99C2Bx6/0+HhDAk+0a1W3fTW3gM5ZIZbFz0yOGX74ZTdjqHHxWT2sdW7ODBRFfYZd9uy80WdT6HXD50fFu04qProDn06bbxLKL+40njB3ieF+ST8GTjyOszJsAIWFhtD4OTfoDaJD0JRnEyayQFKMv7G7EZNH5scpBDV0Ku6nR+PxmIO8or9zwUdt2594e4Uuu6tutDxsFMLmbB07ka+X6UhxjQ81s/jzu/INiw8IsCfslu/aE8P6Z0ypYZQMerJJmHpNHs3SaBOvuJkhAXdTBjz9R2xXa/QLBCGGYRerbueuOtRuLl78bAr44NUlUePvu3Qtt2orknJEFHwjI7HhUmK0PLER3TUNwFaCbYZ0zgP6HoWZ9+FxX+Esb033nXwgedTTGxgY59wMhmEubDzKViewOzEHhvulLxVkTss911z0EVYoQjv5XFa8vM6nYhghnvcZ+Pjgd0hZtqWUR+Owc3epDCGDv6haUIPLayk7bb+9uQl1jEqJz3OeZ1OwPpFCF/wL2Nf/FPpYa3yuB379tx6P27lp6dgPHiSzr/ffTZTcmivECE2G6P+GwNlTG6w9Hpxl1NP2Dk33dl29S1v6z1on013D2p4MWbkyUEHnEuJMLB+5PWqRRv/1TmB2vWnHOZ+zPaHcG4kzRdlWmOqaA8xo3XZvmdE69xUBrrjqw+6KHSy5zzYPzmsqsXQqNI29trulzDnjv5n7OXJBfP+PVrt232rLrgffePpuCwfMhhOI8QAT9BoHVZtXzSZ9ynfTw0WcUPjwIpiajqJwMwShlYFbtd1v6Tl7ydXc4veYWDXs/kciCcZrW4JZJlAw1gZDcRPvu98hvsM0bptuTc/vmdMYMXJpMsfv/rxaq2AZPHEnX5YRcOfdaS+Nx9/VbcLaftQHOVHf8YvqncOfuqm8PjQVx/pvMlutAhsGnn4qFsnfjtp+o/TsY7IyJIJ7LMevAy9AvbTJ98V3K9MeI090IwMkDaH9bv948mfzd5sdg6AWv+0qsFEk//HXDXiH6WD+HdP302DmZmokc8GACyVpyBANfiwcssQKuiFpsKEy9tfGrr/FnsxkMKGO30YgiVHibAsfPB1RxNgwBPXsrUA2Z5RY8cNdvx0yufN/tSMcqeGIAr2uem4Pm32b7dG1fFE/mtAAjP/FdeY+L/eefrZex7PzNEhbQ7gYGLMC1dXrSrTHUwAHznkJOa8k5FQSY7Yric/qiubBqmBi8+/COOPEOaR1//DjqlkeN31TYChcN9b/n5Dj8v42Jn9OWnXo7+dMQ1d8TB/x13svgYpK6ZkkfkWiu1MsIQRb1XkmPTdNxgSO3/vE7ELiu0KND44L576E15Nm3P4rSfQZaTipONgYxLCHsoOh2/bk6eQ2W4ZcXc4j/vcB/sz4CaGcI4f1Y9+JFiP5PCJHtf3e+CImwqqm/KWp94eQQ1Mpod4llpw8SBYFktPKnnxku7pyNtOuqDzSSSgT5sD+CEfInMi+oYMEhKzNzE8DnrAsHMSIZzVIaSFJRdYnMdDmPMfHhSNRSWf0l0nBGrTn/5unpcCXXaRpVN2U/JTddljVzPTwUnu/JCIOBwIPaxYvgOeuO6xcU8nn6rd0KiiNhbDLZw2wY8PbeLULxFZ6db5oKh7pIT6dt5DA5JJwo2eOYlnwZyU0+a/XGhHALZGETLDLE/KvmiM7epnbmXLLkDQJRnSZzBxIgHSFwQN1QfHPs6MP8sMMbwOCWSZQIOtEAKd4Vq3aw4f+OT1QS2TaacgDXIgxKE3/S3KcsniieeQvvD+K8Ef5fJ9rjyk/xPX0tDgQxMTpUECv/j+b7ryDAp73tCP43fpLGlYmSFG9Zy25o1P3+5947G3vnDPmI/fSL4o6WbEyZkHyI1E3nyxFRBif/n112SApu0+96H+x9x5WrDQyBAtjNKw6IWB8kNv/lv+WCqWERN4JaRBoLHfoMf1RwfTCMwdUiKcY/Hjzz8Fnph03++qvs+/W2VwDMES8isttjylwM6ZLoMPwdLMmI/+Z1NB0y6FRpu7OvmKS+eO07o7DjwYlULEPyQKNEiZvqHiPT1+BGYeUxvPGG0wag+qdNRV6gx65kEaZG3npPvO73fHqdSi0m/0bp0TeH/ShD0GHozWHBWGFpgBGX9pH/icOw3qxdkJqTd+8e1XUUQMe4FSAcq8ZEzJsG/fqw7D4sXss82G2EYjw6upJ0NG3rf3FX3iW5IRMkw8asgpdC54EgNViE3mQf0Mn8fGPXPYzceHA5PoRLhLtMxS0Y/wIrozurBkbEk3hnNS6aEzQhosnZ5kDCk3php373/QnS/9m8Eut+hDSRIZxM3Yl6+GbMZHWEhBPgwbASgCmlzaVcLzNdHSHnTtkSjdxMA66oNApf3p2I/HhU6WCsbqcY1JmmP22bGeRRuIHEXVRR+K8uWptz5/l0mZMKORjKQWQ6NK21hOjUKXhGVJRlBIkkwxoxGGm9k6hnmM30hqMkm4aaKjCiiCX8EW+7FxVdsIw7/8BiT489Lj7jrz1KEXBT0mgNAjUPMZwJz5wKVMNTr98TtC/5fAn5qtdVLVGS8N+4+mgY1kzJIyVkAMCKJdwSQhNuy4bjsO/x027un8NgKtMDp7DpCgffl8yhcFN/0zn4S2ABupsSLAqJGxZsEX5XsypuQkjHnmmJvI3/3yA5KaH6Zp+9C10Joz0pg4dRLDuxKZRRODgfvDrz+ZNNVQIjwy9kqLVW3uood478sPkwoteDKVSBcC+cnfT6H5LjPOEq/zVn0QqKuvOKYtnufW8/p+z1fvD0HAoyaw0+nbGd9RT8IIOIZPOag2K1b3/QyOqTPUWIzsp8J4OesJMDxFs5HSQVz5YNJHrFMVSwPreJiVR4xnHaxYmBL+/Tocgl4xAdY7tUpzBAdCHXuWmHmkJhBtSkstPypqDm0+yUAU/OSbz8OYMhkMaYqDT2gSiXD8xPdYnUverdFdaXpKR4hUSTe65AKLMSXKois9IMqr+b1kiIRZFayhUhYEoKPka2KUXzp+79YtgfL7U7STMKfMzFcJbWQKPRzMi4iFdhVJpfbSWjKsQuT76OtPUmoU+XmpxdCoojaWysYIbdH5FplrjjmpbIhkDPbyk1F/PiiOhmV8BjDFjr+uv7cbswQaP4FGIRA2fkymUAISmMUEokDY58Zjk1YQZnEyfN0flEAUCDc4vUPYufcHzYjJlkCNBKJAiJJkck91jQ8aQAISkEAg0JAqo5aBBCQgAQlIQAISkIAEJCABCTQgAQXCBoTvqyUgAQlIQAISkIAEJCABCTQkAQXChqTvuyUgAQlIQAISkIAEJCABCTQgAQXCBoTvqyUgAQlIQAISkIAEJCABCTQkAQXChqTvuyUgAQlIQAISkIAEJCABCTQggYY8mL4Bs+2rJSCBRk7gsykTbx85lETiaORJNXmNkABHlYb6E86caIQpNEkSqCsCVPJQ26n2dRWn8UhAApki4LETmSpuMysBCUhAAhKQgAQkIAEJSCBHQJXRHAtdEpCABCQgAQlIQAISkIAEMkVAgTBTxW1mJSABCUhAAhKQgAQkIAEJ5AgoEOZY6JKABCQgAQlIQAISkIAEJJApAgqEmSpuMysBCUhAAhKQgAQkIAEJSCBHQIEwx0KXBCQgAQlIQAISkIAEJCCBTBFQIMxUcZtZCUhAAhKQgAQkIAEJSEACOQIKhDkWuiQgAQlIQAISkIAEJCABCWSKgAJhporbzEpAAhKQgAQkIAEJSEACEsgRUCDMsdAlAQlIQAISkIAEJCABCUggUwQUCDNV3GZWAhKQgAQkIAEJSEACEpBAjoACYY6FLglIQAISkIAEJCABCUhAApkioECYqeI2sxKQgAQkIAEJSEACEpCABHIEFAhzLHRJQAISkIAEJCABCUhAAhLIFAEFwkwVt5mVgAQkIAEJSEACEpCABCSQI6BAmGOhSwISkIAEJCABCUhAAhKQQKYIKBBmqrjNrAQkIAEJSEACEpCABCQggRwBBcIcC10SkIAEJCABCUhAAhKQgAQyRUCBMFPFbWYlIAEJSEACEpCABCQgAQnkCCgQ5ljokoAEJCABCUhAAhKQgAQkkCkCCoSZKm4zKwEJSEACEpCABCQgAQlIIEdAgTDHQpcEJCABCUhAAhKQgAQkIIFMEVAgzFRxm1kJSEACEpCABCQgAQlIQAI5AgqEORa6JCABCUhAAhKQgAQkIAEJZIqAAmGmitvMSkACEpCABCQgAQlIQAISyBFQIMyx0CUBCUhAAhKQgAQkIAEJSCBTBBQIM1XcZlYCEpCABCQgAQlIQAISkECOgAJhjoUuCUhAAhKQgAQkIAEJSEACmSKgQJip4jazEpCABCQgAQlIQAISkIAEcgQUCHMsdElAAhKQgAQkIAEJSEACEsgUAQXCTBW3mZWABCQgAQlIQAISkIAEJJAjoECYY6FLAhKQgAQkIAEJSEACEpBApggoEGaquM2sBCQgAQlIQAISkIAEJCCBHAEFwhwLXRKQgAQkIAEJSEACEpCABDJFQIEwU8VtZiUgAQlIQAISkIAEJCABCeQIKBDmWOiSgAQkIAEJSEACEpCABCSQKQIKhJkqbjMrAQlIQAISkIAEJCABCUggR0CBMMdClwQkIAEJSEACEpCABCQggUwRUCDMVHGbWQlIQAISkIAEJCABCUhAAjkCCoQ5FrokIAEJSEACEpCABCQgAQlkioACYaaK28xKQAISkIAEJCABCUhAAhLIEVAgzLHQJQEJSEACEpCABCQgAQlIIFMEFAgzVdxmVgISkIAEJCABCUhAAhKQQI6AAmGOhS4JSEACEpCABCQgAQlIQAKZIqBAmKniNrMSkIAEJCABCUhAAhKQgARyBBQIcyx0SUACEpCABCQgAQlIQAISyBQBBcJMFbeZlYAEJCABCUhAAhKQgAQkkCOgQJhjoUsCEpCABCQgAQlIQAISkECmCCgQZqq4zawEJCABCUhAAhKQgAQkIIEcAQXCHAtdEpCABCQgAQlIQAISkIAEMkVAgTBTxW1mJSABCUhAAhKQgAQkIAEJ5AgoEOZY6JKABCQgAQlIQAISkIAEJJApAgqEmSpuMysBCUhAAhKQgAQkIAEJSCBHQIEwx0KXBCQgAQlIQAISkIAEJCCBTBFQIMxUcZtZCUhAAhKQgAQkIAEJSEACOQIKhDkWuiQgAQlIQAISkIAEJCABCWSKgAJhporbzEpAAhKQgAQkIAEJSEACEsgRUCDMsdAlAQlIQAISkIAEJCABCUggUwQUCDNV3GZWAhKQgAQkIAEJSEACEpBAjoACYY6FLglIQAISkIAEJCABCUhAApkioECYqeI2sxKQgAQkIAEJSEACEpCABHIEFAhzLHRJQAISkIAEJCABCUhAAhLIFAEFwkwVt5mVgAQkIAEJSEACEpCABCSQI6BAmGOhSwISkIAEJCABCUhAAhKQQKYIKBBmqrjNrAQkIAEJSEACEpCABCQggRwBBcIcC10SkIAEJCABCUhAAhKQgAQyRUCBMFPFbWYlIAEJSEACEpCABCQgAQnkCCgQ5ljokoAEJCABCUhAAhKQgAQkkCkCCoSZKm4zKwEJSEACEpCABCQgAQlIIEdAgTDHQpcEJCABCUhAAhKQgAQkIIFMEVAgzFRxm1kJSEACEpCABCQgAQlIQAI5AgqEORa6JCABCUhAAhKQgAQkIAEJZIqAAmGmitvMSkACEpCABCQgAQlIQAISyBFQIMyx0CUBCUhAAhKQgAQkIAEJSCBTBBQIM1XcZlYCEpCABCQgAQlIQAISkECOgAJhjoUuCUhAAhKQgAQkIAEJSEACmSKgQJip4jazEpCABCQgAQlIQAISkIAEcgQUCHMsdElAAhKQgAQkIAEJSEACEsgUAQXCTBW3mZWABCQgAQlIQAISkIAEJJAjoECYY6FLAhKQgAQkIAEJSEACEpBApggoEGaquM2sBCQgAQlIQAISkIAEJCCBHAEFwhwLXRKQgAQkIAEJSEACEpCABDJFQIEwU8VtZiUgAQlIQAISkIAEJCABCeQIKBDmWOiSgAQkIAEJSEACEpCABCSQKQIKhJkqbjMrAQlIQAISkIAEJCABCUggR0CBMMdClwQkIAEJSEACEpCABCQggUwRUCDMVHGbWQlIQAISkIAEJCABCUhAAjkCCoQ5FrokIAEJSEACEpCABCQgAQlkioACYaaK28xKQAISkIAEJCABCUhAAhLIEVAgzLHQJQEJSEACEpCABCQgAQlIIFMEFAgzVdxmVgISkIAEJCABCUhAAhKQQI6AAmGOhS4JSEACEpCABCQgAQlIQAKZIqBAmKniNrMSkIAEJCABCUhAAhKQgARyBBQIcyx0SUACEpCABCQgAQlIQAISyBQBBcJMFbeZlYAEJCABCUhAAhKQgAQkkCOgQJhjoUsCEpCABCQgAQlIQAISkECmCCgQZqq4zawEJCABCUhAAhKQgAQkIIEcAQXCHAtdEpCABCQgAQlIQAISkIAEMkVAgTBTxW1mJSABCUhAAhKQgAQkIAEJ5AgoEOZY6JKABCQgAQlIQAISkIAEJJApAgqEmSpuMysBCUhAAhKQgAQkIAEJSCBHQIEwx0KXBCQgAQlIQAISkIAEJCCBTBFQIMxUcZtZCUhAAhKQgAQkIAEJSEACOQIKhDkWuiQgAQlIQAISkIAEJCABCWSKgAJhporbzEpAAhKQgAQkIAEJSEACEsgRUCDMsdAlAQlIQAISkIAEJCABCUggUwQUCDNV3GZWAhKQgAQkIAEJSEACEpBAjoACYY6FLglIQAISkIAEJCABCUhAApkioECYqeI2sxKQgAQkIAEJSEACEpCABHIEFAhzLHRJQAISkIAEJCABCUhAAhLIFAEFwkwVt5mVgAQkIAEJSEACEpCABCSQI6BAmGOhSwISkIAEJCABCUhAAhKQQKYIKBBmqrjNrAQkIAEJSEACEpCABCQggRwBBcIcC10SkIAEJCABCUhAAhKQgAQyRUCBMFPFbWYlIAEJSEACEpCABCQgAQnkCCgQ5ljokoAEJCABCUhAAhKQgAQkkCkCCoSZKm4zKwEJSEACEpCABCQgAQlIIEdAgTDHQpcEJCABCUhAAhKQgAQkIIFMEVAgzFRxm1kJSEACEpCABCQgAQlIQAI5AgqEORa6JCABCUhAAhKQgAQkIAEJZIqAAmGmitvMSkACEpCABCQgAQlIQAISyBFQIMyx0CUBCUhAAhKQgAQkIAEJSCBTBBQIM1XcZlYCEpCABCQgAQlIQAISkECOgAJhjoUuCUhAAhKQgAQkIAEJSEACmSKgQJip4jazEpCABCQgAQlIQAISkIAEcgQUCHMsdElAAhKQgAQkIAEJSEACEsgUAQXCTBW3mZWABCQgAQlIQAISkIAEJJAjoECYY6FLAhKQgAQkIAEJSEACEpBApggoEGaquM2sBCQgAQlIQAISkIAEJCCBHAEFwhwLXRKQgAQkIAEJSEACEpCABDJFQIEwU8VtZiUgAQlIQAISkIAEJCABCeQI/D9UxLMEn9x+RwAAAABJRU5ErkJggg==)"
      ],
      "metadata": {
        "id": "Dl9XWQMImvSQ"
      }
    },
    {
      "cell_type": "markdown",
      "source": [
        "This tutorial is designed to help you become familiar with the essential commands and concepts needed to navigate, manage files, and perform basic tasks within the Ubuntu terminal. By the end of this tutorial, you'll have a solid foundation for working with the command line and using it to accomplish various tasks more efficiently.\n",
        "\n",
        "- **Navigating Directories:** Understand the directory structure in Ubuntu and learn how to navigate through directories using commands like pwd, cd, and ls."
      ],
      "metadata": {
        "id": "MKqHre7hy7yy"
      }
    },
    {
      "cell_type": "code",
      "execution_count": null,
      "metadata": {
        "colab": {
          "base_uri": "https://localhost:8080/"
        },
        "id": "ERXPWDmlyG7T",
        "outputId": "9ee03062-9aed-4c1c-8bc1-3d1bf2e30bdf"
      },
      "outputs": [
        {
          "output_type": "stream",
          "name": "stdout",
          "text": [
            "/content\n"
          ]
        }
      ],
      "source": [
        "#pwd (print working directory): Shows the current directory you're in.\n",
        "!pwd"
      ]
    },
    {
      "cell_type": "code",
      "source": [
        "#ls (list): Lists files and directories in the current directory.\n",
        "!ls"
      ],
      "metadata": {
        "colab": {
          "base_uri": "https://localhost:8080/"
        },
        "id": "HHcZe2mc0GqG",
        "outputId": "d8abee31-0160-4347-9e6e-2846fb3a6627"
      },
      "execution_count": null,
      "outputs": [
        {
          "output_type": "stream",
          "name": "stdout",
          "text": [
            "sample_data\n"
          ]
        }
      ]
    },
    {
      "cell_type": "code",
      "source": [
        "#cd (change directory): Navigates to a different directory.\n",
        "!cd sample_data/ "
      ],
      "metadata": {
        "id": "Wk8FaPJz0MgS"
      },
      "execution_count": null,
      "outputs": []
    },
    {
      "cell_type": "markdown",
      "source": [
        "- **Creating and Managing Files and Directories:** Learn how to create, copy, move, and delete files and directories using commands such as touch, mkdir, cp, mv, rm, and rmdir.\n"
      ],
      "metadata": {
        "id": "Rc7njlF_zY5Z"
      }
    },
    {
      "cell_type": "code",
      "source": [
        "#mkdir (make directory): Creates a new directory.\n",
        "!mkdir python_aws"
      ],
      "metadata": {
        "id": "x7L9Ak2QzaS4"
      },
      "execution_count": null,
      "outputs": []
    },
    {
      "cell_type": "code",
      "source": [
        "!ls"
      ],
      "metadata": {
        "colab": {
          "base_uri": "https://localhost:8080/"
        },
        "id": "3AtW3REd0yo-",
        "outputId": "b7c2d76b-c521-471c-e546-b94ee0703ea3"
      },
      "execution_count": null,
      "outputs": [
        {
          "output_type": "stream",
          "name": "stdout",
          "text": [
            "python_aws  sample_data\n"
          ]
        }
      ]
    },
    {
      "cell_type": "code",
      "source": [
        "#touch (create file): Creates a new, empty file.\n",
        "!touch python_aws/new_file.txt"
      ],
      "metadata": {
        "id": "OwZCCPOz029M"
      },
      "execution_count": null,
      "outputs": []
    },
    {
      "cell_type": "code",
      "source": [
        "!cd python_aws && ls"
      ],
      "metadata": {
        "colab": {
          "base_uri": "https://localhost:8080/"
        },
        "id": "FhcVKD8_06nj",
        "outputId": "f48ab045-ef99-4302-c164-1440f3e80657"
      },
      "execution_count": null,
      "outputs": [
        {
          "output_type": "stream",
          "name": "stdout",
          "text": [
            "new_file.txt\n"
          ]
        }
      ]
    },
    {
      "cell_type": "markdown",
      "source": [
        "\n",
        "- **File Permissions and Ownership:** Discover how to view and modify file permissions and ownership using chmod, chown, and chgrp.\n"
      ],
      "metadata": {
        "id": "HF19LbXvzbdg"
      }
    },
    {
      "cell_type": "code",
      "source": [
        "#cp (copy): Copies a file or directory.\n",
        "!cp new_file.txt destination_file.txt"
      ],
      "metadata": {
        "id": "j1451wELzc3o"
      },
      "execution_count": null,
      "outputs": []
    },
    {
      "cell_type": "code",
      "source": [
        "#mv (move): Moves a file or directory.\n",
        "!mv destination_file.txt python_aws/"
      ],
      "metadata": {
        "id": "oWPt5apR2rAG"
      },
      "execution_count": null,
      "outputs": []
    },
    {
      "cell_type": "code",
      "source": [
        "#rm (remove): Deletes a file.\n",
        "!rm python_aws/new_file.txt"
      ],
      "metadata": {
        "id": "QLsYmrFB3Qd7"
      },
      "execution_count": null,
      "outputs": []
    },
    {
      "cell_type": "code",
      "source": [
        "#rmdir (remove directory): Deletes an empty directory.\n",
        "!rm -r python_aws"
      ],
      "metadata": {
        "id": "Wjt1mzYE3Zye"
      },
      "execution_count": null,
      "outputs": []
    },
    {
      "cell_type": "markdown",
      "source": [
        "- **Text Editing:** Get introduced to text editors such as nano, vim, and cat, and learn how to create, edit, and view the contents of text files.\n"
      ],
      "metadata": {
        "id": "g9dpVf5fzdTK"
      }
    },
    {
      "cell_type": "code",
      "source": [
        "!touch new_file.txt"
      ],
      "metadata": {
        "id": "LDf-vrU4398d"
      },
      "execution_count": null,
      "outputs": []
    },
    {
      "cell_type": "code",
      "source": [
        "# sudo apt-get update\n",
        "# sudo apt-get install vim"
      ],
      "metadata": {
        "id": "S7ma5GxT4QKH"
      },
      "execution_count": null,
      "outputs": []
    },
    {
      "cell_type": "code",
      "source": [
        "#vim (text editor)\n",
        "!vim new_file.txt"
      ],
      "metadata": {
        "colab": {
          "base_uri": "https://localhost:8080/"
        },
        "id": "Ewz1C8-6zegh",
        "outputId": "965f9cac-b8fe-4328-c701-15df838d2f89"
      },
      "execution_count": null,
      "outputs": [
        {
          "output_type": "stream",
          "name": "stdout",
          "text": [
            "\u001b7\u001b[?47h\u001b[>4;2m\u001b[?1h\u001b=\u001b[?2004h\u001b[1;24r\u001b[?12h\u001b[?12l\u001b[22;2t\u001b[22;1t\u001b[29m\u001b[m\u001b[H\u001b[2J\u001b[?25l\u001b[24;1H\"new_file.txt\" 0L, 0C\u001b[2;1H▽\u001b[6n\u001b[2;1H  \u001b[1;1H\u001b[>c\u001b]10;?\u0007\u001b]11;?\u0007\u001b[2;1H\u001b[1m\u001b[34m~                                                                               \u001b[3;1H~                                                                               \u001b[4;1H~                                                                               \u001b[5;1H~                                                                               \u001b[6;1H~                                                                               \u001b[7;1H~                                                                               \u001b[8;1H~                                                                               \u001b[9;1H~                                                                               \u001b[10;1H~                                                                               \u001b[11;1H~                                                                               \u001b[12;1H~                                                                               \u001b[13;1H~                                                                               \u001b[14;1H~                                                                               \u001b[15;1H~                                                                               \u001b[16;1H~                                                                               \u001b[17;1H~                                                                               \u001b[18;1H~                                                                               \u001b[19;1H~                                                                               \u001b[20;1H~                                                                               \u001b[21;1H~                                                                               \u001b[22;1H~                                                                               \u001b[23;1H~                                                                               \u001b[m\u001b[24;63H0,0-1\u001b[9CAll\u001b[1;1H\u001b[?25h\u001b[24;1H\u001b[?2004l\u001b[?1l\u001b>\u001b[>4;m\u001b[2J\u001b[?47l\u001b8Vim: Caught deadly signal TERM\n",
            "Vim: Finished.\n",
            "\u001b[24;1H\u001b[23;2t\u001b[23;1t\n",
            "^C\n"
          ]
        }
      ]
    },
    {
      "cell_type": "code",
      "source": [
        "#cat (concatenate): Displays the contents of a file.\n",
        "!cat new_file.txt"
      ],
      "metadata": {
        "id": "ke3r2f3O5hQl"
      },
      "execution_count": null,
      "outputs": []
    },
    {
      "cell_type": "markdown",
      "source": [
        "- **Searching and Filtering:** Explore how to search for specific content within files and directories using commands like grep and find.\n"
      ],
      "metadata": {
        "id": "bZkbFWTHze2-"
      }
    },
    {
      "cell_type": "code",
      "source": [
        "!grep (global regular expression print): Searches for a specific pattern in a file or multiple files.\n",
        "!grep 'search_pattern' new_file.txt"
      ],
      "metadata": {
        "colab": {
          "base_uri": "https://localhost:8080/"
        },
        "id": "whXWOIsFzgIb",
        "outputId": "089a2425-63c7-4d45-e89e-9855de837056"
      },
      "execution_count": null,
      "outputs": [
        {
          "output_type": "stream",
          "name": "stdout",
          "text": [
            "/bin/bash: -c: line 0: syntax error near unexpected token `global'\n",
            "/bin/bash: -c: line 0: `grep (global regular expression print): Searches for a specific pattern in a file or multiple files.'\n"
          ]
        }
      ]
    },
    {
      "cell_type": "code",
      "source": [
        "!mkdir python_aws"
      ],
      "metadata": {
        "id": "4oCRcaze5-Pw"
      },
      "execution_count": null,
      "outputs": []
    },
    {
      "cell_type": "code",
      "source": [
        "!mv new_file.txt python_aws/"
      ],
      "metadata": {
        "id": "6H4Awn366ID4"
      },
      "execution_count": null,
      "outputs": []
    },
    {
      "cell_type": "code",
      "source": [
        "#find (find files): Searches for files and directories in a directory hierarchy based on different criteria.\n",
        "!find python_aws/ -iname 'new_file.txt'"
      ],
      "metadata": {
        "colab": {
          "base_uri": "https://localhost:8080/"
        },
        "id": "s9zTxvoh544-",
        "outputId": "62cc8ec6-4e8a-435f-aa85-988ac4aba66b"
      },
      "execution_count": null,
      "outputs": [
        {
          "output_type": "stream",
          "name": "stdout",
          "text": [
            "python_aws/new_file.txt\n"
          ]
        }
      ]
    },
    {
      "cell_type": "markdown",
      "source": [
        "- **Basic System Information and Management:** Learn about commands that help you monitor system resources, manage processes, and perform simple system updates and maintenance."
      ],
      "metadata": {
        "id": "6pe2T47kzgqG"
      }
    },
    {
      "cell_type": "code",
      "source": [
        "!top"
      ],
      "metadata": {
        "colab": {
          "base_uri": "https://localhost:8080/"
        },
        "id": "G21ePqCEzhJy",
        "outputId": "6ba730c0-22f4-4f6d-90ce-bf238ae57c4d"
      },
      "execution_count": null,
      "outputs": [
        {
          "output_type": "stream",
          "name": "stdout",
          "text": [
            "\u001b[?1h\u001b=\u001b[H\u001b[2J\u001b[mtop - 18:38:14 up 28 min,  0 users,  load average: 0.15, 0.18, 0.23\u001b[m\u001b[m\u001b[m\u001b[m\u001b[K\n",
            "Tasks:\u001b[m\u001b[m\u001b[1m  15 \u001b[m\u001b[mtotal,\u001b[m\u001b[m\u001b[1m   1 \u001b[m\u001b[mrunning,\u001b[m\u001b[m\u001b[1m  13 \u001b[m\u001b[msleeping,\u001b[m\u001b[m\u001b[1m   0 \u001b[m\u001b[mstopped,\u001b[m\u001b[m\u001b[1m   1 \u001b[m\u001b[mzombie\u001b[m\u001b[m\u001b[m\u001b[m\u001b[K\n",
            "%Cpu(s):\u001b[m\u001b[m\u001b[1m  3.3 \u001b[m\u001b[mus,\u001b[m\u001b[m\u001b[1m  0.0 \u001b[m\u001b[msy,\u001b[m\u001b[m\u001b[1m  0.0 \u001b[m\u001b[mni,\u001b[m\u001b[m\u001b[1m 96.7 \u001b[m\u001b[mid,\u001b[m\u001b[m\u001b[1m  0.0 \u001b[m\u001b[mwa,\u001b[m\u001b[m\u001b[1m  0.0 \u001b[m\u001b[mhi,\u001b[m\u001b[m\u001b[1m  0.0 \u001b[m\u001b[msi,\u001b[m\u001b[m\u001b[1m  0.0 \u001b[m\u001b[mst\u001b[m\u001b[m\u001b[m\u001b[m\u001b[K\n",
            "MiB Mem :\u001b[m\u001b[m\u001b[1m  12985.5 \u001b[m\u001b[mtotal,\u001b[m\u001b[m\u001b[1m   9044.0 \u001b[m\u001b[mfree,\u001b[m\u001b[m\u001b[1m    692.1 \u001b[m\u001b[mused,\u001b[m\u001b[m\u001b[1m   3249.4 \u001b[m\u001b[mbuff/cache\u001b[m\u001b[m\u001b[m\u001b[m\u001b[K\n",
            "MiB Swap:\u001b[m\u001b[m\u001b[1m      0.0 \u001b[m\u001b[mtotal,\u001b[m\u001b[m\u001b[1m      0.0 \u001b[m\u001b[mfree,\u001b[m\u001b[m\u001b[1m      0.0 \u001b[m\u001b[mused.\u001b[m\u001b[m\u001b[1m  12012.4 \u001b[m\u001b[mavail Mem \u001b[m\u001b[m\u001b[m\u001b[m\u001b[K\n",
            "\u001b[K\n",
            "\u001b[7m    PID USER      PR  NI    VIRT    RES    SHR S  %CPU  %MEM     TIME+ COMMAND  \u001b[m\u001b[m\u001b[K\n",
            "\u001b[m    270 root      20   0 1283240 186508  60272 S   6.7   1.4   0:14.01 python3  \u001b[m\u001b[m\u001b[K\n",
            "\u001b[m      1 root      20   0    1012      8      0 S   0.0   0.0   0:00.65 docker-+ \u001b[m\u001b[m\u001b[K\n",
            "\u001b[m      6 root      20   0  897648  50948  30848 S   0.0   0.4   0:06.94 node     \u001b[m\u001b[m\u001b[K\n",
            "\u001b[m     18 root      20   0    5524    512    444 S   0.0   0.0   0:00.73 tail     \u001b[m\u001b[m\u001b[K\n",
            "\u001b[m     28 root      20   0    6904   3236   2948 S   0.0   0.0   0:01.08 oom_mon+ \u001b[m\u001b[m\u001b[K\n",
            "\u001b[m     30 root      20   0    6904   1624   1352 S   0.0   0.0   0:00.00 run.sh   \u001b[m\u001b[m\u001b[K\n",
            "\u001b[m     32 root      20   0  722040  13860   8028 S   0.0   0.1   0:00.99 kernel_+ \u001b[m\u001b[m\u001b[K\n",
            "\u001b[m     58 root      20   0       0      0      0 Z   0.0   0.0   0:07.22 python3  \u001b[m\u001b[m\u001b[K\n",
            "\u001b[m     59 root      20   0   73832  40724  13036 S   0.0   0.3   0:00.66 colab-f+ \u001b[m\u001b[m\u001b[K\n",
            "\u001b[m     80 root      20   0  556536 152912  48692 S   0.0   1.1   0:07.91 jupyter+ \u001b[m\u001b[m\u001b[K\n",
            "\u001b[m     81 root      20   0  713148   8544   2864 S   0.0   0.1   0:01.00 dap_mul+ \u001b[m\u001b[m\u001b[K\n",
            "\u001b[m    303 root      20   0  537860  14468   5596 S   0.0   0.1   0:01.72 python3  \u001b[m\u001b[m\u001b[K\n",
            "\u001b[m    334 root      20   0  888792 122160  30252 S   0.0   0.9   0:14.97 node     \u001b[m\u001b[m\u001b[K\n",
            "\u001b[m   7247 root      20   0    5488    584    516 S   0.0   0.0   0:00.00 sleep    \u001b[m\u001b[m\u001b[K\n",
            "\u001b[m\u001b[1m   7248 root      20   0    9128   3652   3156 R   0.0   0.0   0:00.01 top      \u001b[m\u001b[m\u001b[K\n",
            "\u001b[J\u001b[H\u001b[mtop - 18:38:17 up 28 min,  0 users,  load average: 0.15, 0.18, 0.23\u001b[m\u001b[m\u001b[m\u001b[m\u001b[K\n",
            "\n",
            "%Cpu(s):\u001b[m\u001b[m\u001b[1m  2.5 \u001b[m\u001b[mus,\u001b[m\u001b[m\u001b[1m  1.5 \u001b[m\u001b[msy,\u001b[m\u001b[m\u001b[1m  0.0 \u001b[m\u001b[mni,\u001b[m\u001b[m\u001b[1m 95.8 \u001b[m\u001b[mid,\u001b[m\u001b[m\u001b[1m  0.0 \u001b[m\u001b[mwa,\u001b[m\u001b[m\u001b[1m  0.0 \u001b[m\u001b[mhi,\u001b[m\u001b[m\u001b[1m  0.2 \u001b[m\u001b[msi,\u001b[m\u001b[m\u001b[1m  0.0 \u001b[m\u001b[mst\u001b[m\u001b[m\u001b[m\u001b[m\u001b[K\n",
            "MiB Mem :\u001b[m\u001b[m\u001b[1m  12985.5 \u001b[m\u001b[mtotal,\u001b[m\u001b[m\u001b[1m   9042.5 \u001b[m\u001b[mfree,\u001b[m\u001b[m\u001b[1m    693.5 \u001b[m\u001b[mused,\u001b[m\u001b[m\u001b[1m   3249.5 \u001b[m\u001b[mbuff/cache\u001b[m\u001b[m\u001b[m\u001b[m\u001b[K\n",
            "MiB Swap:\u001b[m\u001b[m\u001b[1m      0.0 \u001b[m\u001b[mtotal,\u001b[m\u001b[m\u001b[1m      0.0 \u001b[m\u001b[mfree,\u001b[m\u001b[m\u001b[1m      0.0 \u001b[m\u001b[mused.\u001b[m\u001b[m\u001b[1m  12010.9 \u001b[m\u001b[mavail Mem \u001b[m\u001b[m\u001b[m\u001b[m\u001b[K\n",
            "\u001b[K\n",
            "\n",
            "\u001b[m      6 root      20   0  897648  51212  30848 S   1.0   0.4   0:06.97 node     \u001b[m\u001b[m\u001b[K\n",
            "\u001b[m    270 root      20   0 1283240 186508  60272 S   0.7   1.4   0:14.03 python3  \u001b[m\u001b[m\u001b[K\n",
            "\u001b[m     28 root      20   0    6904   3236   2948 S   0.3   0.0   0:01.09 oom_mon+ \u001b[m\u001b[m\u001b[K\n",
            "\u001b[m     32 root      20   0  722040  13860   8028 S   0.3   0.1   0:01.00 kernel_+ \u001b[m\u001b[m\u001b[K\n",
            "\u001b[m     80 root      20   0  556536 152912  48692 S   0.3   1.1   0:07.92 jupyter+ \u001b[m\u001b[m\u001b[K\n",
            "\u001b[m     81 root      20   0  713148   8544   2864 S   0.3   0.1   0:01.01 dap_mul+ \u001b[m\u001b[m\u001b[K\n",
            "\u001b[m    303 root      20   0  537860  14468   5596 S   0.3   0.1   0:01.73 python3  \u001b[m\u001b[m\u001b[K\n",
            "\u001b[m      1 root      20   0    1012      8      0 S   0.0   0.0   0:00.65 docker-+ \u001b[m\u001b[m\u001b[K\n",
            "\u001b[m     18 root      20   0    5524    512    444 S   0.0   0.0   0:00.73 tail     \u001b[m\u001b[m\u001b[K\n",
            "\u001b[m     30 root      20   0    6904   1624   1352 S   0.0   0.0   0:00.00 run.sh   \u001b[m\u001b[m\u001b[K\n",
            "\u001b[m     58 root      20   0       0      0      0 Z   0.0   0.0   0:07.22 python3  \u001b[m\u001b[m\u001b[K\n",
            "\u001b[m     59 root      20   0   73832  40724  13036 S   0.0   0.3   0:00.66 colab-f+ \u001b[m\u001b[m\u001b[K\n",
            "\n",
            "\u001b[m\u001b[1m   7248 root      20   0    9128   3652   3156 R   0.0   0.0   0:00.01 top      \u001b[m\u001b[m\u001b[K\n",
            "\u001b[m   7262 root      20   0    5488    576    512 S   0.0   0.0   0:00.00 sleep    \u001b[m\u001b[m\u001b[K\n",
            "\u001b[J\u001b[H\u001b[mtop - 18:38:20 up 28 min,  0 users,  load average: 0.14, 0.18, 0.23\u001b[m\u001b[m\u001b[m\u001b[m\u001b[K\n",
            "\n",
            "%Cpu(s):\u001b[m\u001b[m\u001b[1m  8.4 \u001b[m\u001b[mus,\u001b[m\u001b[m\u001b[1m  3.7 \u001b[m\u001b[msy,\u001b[m\u001b[m\u001b[1m  0.0 \u001b[m\u001b[mni,\u001b[m\u001b[m\u001b[1m 87.6 \u001b[m\u001b[mid,\u001b[m\u001b[m\u001b[1m  0.2 \u001b[m\u001b[mwa,\u001b[m\u001b[m\u001b[1m  0.0 \u001b[m\u001b[mhi,\u001b[m\u001b[m\u001b[1m  0.2 \u001b[m\u001b[msi,\u001b[m\u001b[m\u001b[1m  0.0 \u001b[m\u001b[mst\u001b[m\u001b[m\u001b[m\u001b[m\u001b[K\n",
            "MiB Mem :\u001b[m\u001b[m\u001b[1m  12985.5 \u001b[m\u001b[mtotal,\u001b[m\u001b[m\u001b[1m   9041.3 \u001b[m\u001b[mfree,\u001b[m\u001b[m\u001b[1m    694.6 \u001b[m\u001b[mused,\u001b[m\u001b[m\u001b[1m   3249.6 \u001b[m\u001b[mbuff/cache\u001b[m\u001b[m\u001b[m\u001b[m\u001b[K\n",
            "MiB Swap:\u001b[m\u001b[m\u001b[1m      0.0 \u001b[m\u001b[mtotal,\u001b[m\u001b[m\u001b[1m      0.0 \u001b[m\u001b[mfree,\u001b[m\u001b[m\u001b[1m      0.0 \u001b[m\u001b[mused.\u001b[m\u001b[m\u001b[1m  12009.8 \u001b[m\u001b[mavail Mem \u001b[m\u001b[m\u001b[m\u001b[m\u001b[K\n",
            "\u001b[K\n",
            "\n",
            "\u001b[m    270 root      20   0 1283240 186508  60272 S   1.3   1.4   0:14.07 python3  \u001b[m\u001b[m\u001b[K\n",
            "\u001b[m      6 root      20   0  897648  51476  30848 S   0.3   0.4   0:06.98 node     \u001b[m\u001b[m\u001b[K\n",
            "\u001b[m     80 root      20   0  556536 152912  48692 S   0.3   1.1   0:07.93 jupyter+ \u001b[m\u001b[m\u001b[K\n",
            "\u001b[m     81 root      20   0  713148   8544   2864 S   0.3   0.1   0:01.02 dap_mul+ \u001b[m\u001b[m\u001b[K\n",
            "\u001b[m    303 root      20   0  537860  14468   5596 S   0.3   0.1   0:01.74 python3  \u001b[m\u001b[m\u001b[K\n",
            "\u001b[m      1 root      20   0    1012      8      0 S   0.0   0.0   0:00.65 docker-+ \u001b[m\u001b[m\u001b[K\n",
            "\u001b[m     18 root      20   0    5524    512    444 S   0.0   0.0   0:00.73 tail     \u001b[m\u001b[m\u001b[K\n",
            "\u001b[m     28 root      20   0    6904   3236   2948 S   0.0   0.0   0:01.09 oom_mon+ \u001b[m\u001b[m\u001b[K\n",
            "\u001b[m     30 root      20   0    6904   1624   1352 S   0.0   0.0   0:00.00 run.sh   \u001b[m\u001b[m\u001b[K\n",
            "\u001b[m     32 root      20   0  722040  13860   8028 S   0.0   0.1   0:01.00 kernel_+ \u001b[m\u001b[m\u001b[K\n",
            "\n",
            "\n",
            "\n",
            "\n",
            "\u001b[m   7274 root      20   0    5488    520    448 S   0.0   0.0   0:00.00 sleep    \u001b[m\u001b[m\u001b[K\n",
            "\u001b[J\u001b[?1l\u001b>\u001b[25;1H\n",
            "\u001b[K"
          ]
        }
      ]
    },
    {
      "cell_type": "code",
      "source": [
        "#chmod (change mode): Changes the permissions of a file or directory.\n",
        "!chmod 755 python_aws/new_file.txt"
      ],
      "metadata": {
        "id": "shUgsDGI6R7q"
      },
      "execution_count": null,
      "outputs": []
    },
    {
      "cell_type": "code",
      "source": [
        "#Use the nproc command to find the number of CPU cores on your system.\n",
        "!nproc"
      ],
      "metadata": {
        "colab": {
          "base_uri": "https://localhost:8080/"
        },
        "id": "bhrgiy6F6izr",
        "outputId": "793d6d46-d05d-426f-e461-206fe4ff7f3d"
      },
      "execution_count": null,
      "outputs": [
        {
          "output_type": "stream",
          "name": "stdout",
          "text": [
            "2\n"
          ]
        }
      ]
    },
    {
      "cell_type": "markdown",
      "source": [
        "## 19. What is MLflow, and how can it help in terms of MLOps?"
      ],
      "metadata": {
        "id": "Srju0Jr2SLtT"
      }
    },
    {
      "cell_type": "markdown",
      "source": [
        "MLflow is an open-source platform for managing the end-to-end machine learning lifecycle. It provides tools for tracking experiments, packaging and sharing code, and deploying models.\n",
        "\n",
        "MLflow provides a unified platform for managing the entire machine learning lifecycle, from experimentation to deployment. It helps to increase productivity, collaboration, and reproducibility in data science projects.\n",
        "\n",
        "Here are the main components of MLflow:\n",
        "\n",
        "Experiment Tracking: This component helps you to track your machine learning experiments by recording and visualizing metrics, parameters, and artifacts. It allows you to easily compare different runs and reproduce results.\n",
        "\n",
        "Model Packaging: This component provides a simple format for packaging data science code in a reusable and reproducible way. It also allows you to specify dependencies, such as libraries and data files, and to run code in different environments. This component provides a standardized way to package and deploy machine learning models. It supports a variety of popular frameworks, such as TensorFlow, PyTorch, and Scikit-learn, and provides tools for deploying models to a variety of platforms, such as Docker containers and cloud services.\n",
        "\n",
        "Model Registry: This component provides a centralized repository for managing and sharing machine learning models. It allows you to track model versions, assign permissions, and share models with other users."
      ],
      "metadata": {
        "id": "fMNDI6PED2eI"
      }
    },
    {
      "cell_type": "markdown",
      "source": [
        "![picture](https://raw.githubusercontent.com/aaubs/ds-master/main/data/Images/mlflow.jpg)"
      ],
      "metadata": {
        "id": "VSZBN1xWD8_y"
      }
    },
    {
      "cell_type": "markdown",
      "source": [],
      "metadata": {
        "id": "R_T73BxXEMF1"
      }
    },
    {
      "cell_type": "markdown",
      "source": [
        "MLflow is an open-source platform for managing the end-to-end machine learning lifecycle. It provides tools for tracking experiments, packaging and sharing code, and deploying models.\n",
        "\n",
        "MLflow provides a unified platform for managing the entire machine learning lifecycle, from experimentation to deployment. It helps to increase productivity, collaboration, and reproducibility in data science projects."
      ],
      "metadata": {
        "id": "Z2N3wsFADoo9"
      }
    },
    {
      "cell_type": "markdown",
      "source": [
        "Here are the main components of MLflow:\n",
        "\n",
        "> 1. Experiment Tracking: This component helps you to track your machine learning experiments by recording and visualizing metrics, parameters, and artifacts. It allows you to easily compare different runs and reproduce results.\n",
        "\n",
        "> 2. Model Packaging: This component provides a simple format for packaging data science code in a reusable and reproducible way. It also allows you to specify dependencies, such as libraries and data files, and to run code in different environments. This component provides a standardized way to package and deploy machine learning models. It supports a variety of popular frameworks, such as TensorFlow, PyTorch, and Scikit-learn, and provides tools for deploying models to a variety of platforms, such as Docker containers and cloud services.\n",
        "\n",
        "> 3. Model Registry: This component provides a centralized repository for managing and sharing machine learning models. It allows you to track model versions, assign permissions, and share models with other users."
      ],
      "metadata": {
        "id": "zAEAcF4PD4pJ"
      }
    },
    {
      "cell_type": "markdown",
      "source": [],
      "metadata": {
        "id": "0PSVDz2mETIN"
      }
    },
    {
      "cell_type": "markdown",
      "source": [
        "MLflow is an open-source platform for managing the end-to-end machine learning lifecycle. It includes tools for tracking experiments, packaging code into reproducible runs, and sharing and deploying models. Here are some of the main MLflow commands and a simple example:"
      ],
      "metadata": {
        "id": "-cuEq6cWWzoZ"
      }
    },
    {
      "cell_type": "markdown",
      "source": [
        "```\n",
        "`mlflow.start_run()`\n",
        "```\n",
        "> This command is used to start a new MLflow run. It is typically used at the beginning of the machine learning code. This sets the active experiment to my-experiment, and starts a new run for the machine learning code.\n"
      ],
      "metadata": {
        "id": "5yaGPLa9W7xQ"
      }
    },
    {
      "cell_type": "code",
      "execution_count": null,
      "metadata": {
        "id": "Q3EEis6PWvE5"
      },
      "outputs": [],
      "source": [
        "import mlflow\n",
        "\n",
        "mlflow.set_experiment(\"my-experiment\")\n",
        "\n",
        "with mlflow.start_run():\n",
        "    # Your machine learning code here\n"
      ]
    },
    {
      "cell_type": "markdown",
      "source": [
        "```\n",
        "`mlflow.log_param()`\n",
        "```\n",
        "> This command is used to log a parameter value for the current run. This logs a parameter value of 0.01 for the current run, with the parameter name \"learning_rate\"."
      ],
      "metadata": {
        "id": "jMa6Hh4Ba7-3"
      }
    },
    {
      "cell_type": "code",
      "source": [
        "import mlflow\n",
        "\n",
        "with mlflow.start_run():\n",
        "    mlflow.log_param(\"learning_rate\", 0.01)\n",
        "    # Your machine learning code here\n"
      ],
      "metadata": {
        "id": "AheeNacpa0cL"
      },
      "execution_count": null,
      "outputs": []
    },
    {
      "cell_type": "markdown",
      "source": [
        "```\n",
        "`mlflow.log_metric()`\n",
        "```\n",
        "> This command is used to log a metric value for the current run. This logs a metric value of 0.85 for the current run, with the metric name \"accuracy\"."
      ],
      "metadata": {
        "id": "MS-zsfIWbM8X"
      }
    },
    {
      "cell_type": "code",
      "source": [
        "import mlflow\n",
        "\n",
        "with mlflow.start_run():\n",
        "    # Your machine learning code here\n",
        "    mlflow.log_metric(\"accuracy\", 0.85)\n"
      ],
      "metadata": {
        "id": "MhuCzfBubTiP"
      },
      "execution_count": null,
      "outputs": []
    },
    {
      "cell_type": "markdown",
      "source": [
        "```\n",
        "`mlflow.log_artifact()`\n",
        "```\n",
        "> This command is used to log an artifact (e.g., a trained model) for the current run. This logs the artifact file model.pkl for the current run.\n"
      ],
      "metadata": {
        "id": "dIJgYG40bYhu"
      }
    },
    {
      "cell_type": "code",
      "source": [
        "import mlflow\n",
        "\n",
        "with mlflow.start_run():\n",
        "    # Your machine learning code here\n",
        "    mlflow.log_artifact(\"model.pkl\")\n"
      ],
      "metadata": {
        "id": "4xtHJPQdbhYb"
      },
      "execution_count": null,
      "outputs": []
    },
    {
      "cell_type": "markdown",
      "source": [
        "```\n",
        "`mlflow.end_run()`\n",
        "```\n",
        "> This command is used to end the current run. This ends the current run and finalizes the run in MLflow."
      ],
      "metadata": {
        "id": "hC9v3-fQby_6"
      }
    },
    {
      "cell_type": "code",
      "source": [
        "import mlflow\n",
        "\n",
        "with mlflow.start_run():\n",
        "    # Your machine learning code here\n",
        "    mlflow.log_metric(\"accuracy\", 0.85)\n",
        "    \n",
        "    # End the current run\n",
        "    mlflow.end_run()\n"
      ],
      "metadata": {
        "id": "Wp3OFbnub7oE"
      },
      "execution_count": null,
      "outputs": []
    },
    {
      "cell_type": "markdown",
      "source": [
        "```\n",
        "`mlflow ui`\n",
        "```\n",
        "> This command is used to launch the MLflow UI, which allows you to visualize and explore the results of your machine learning experiments. This launches the MLflow UI, which can be accessed in a web browser at http://localhost:5000."
      ],
      "metadata": {
        "id": "ke7DxIOub-_f"
      }
    },
    {
      "cell_type": "code",
      "source": [
        "mlflow ui"
      ],
      "metadata": {
        "id": "57U4W7h3cGfh"
      },
      "execution_count": null,
      "outputs": []
    },
    {
      "cell_type": "markdown",
      "source": [],
      "metadata": {
        "id": "fzaIdvpfE4TS"
      }
    },
    {
      "cell_type": "markdown",
      "source": [
        "MLflow supports several tracking backend stores, including file systems, databases, object storage, and more. One of the supported database backends is SQLite. SQLite is a file-based database system that is lightweight and easy to use. It is also included with most operating systems, making it a popular choice for local development and testing.\n",
        "\n",
        "Using SQLite as the tracking backend for MLflow has several benefits, including:\n",
        "\n",
        "> It requires minimal setup and configuration, as it is file-based and does not require an external database server.\n",
        "\n",
        "> It is fast and efficient, making it a good choice for small to medium-scale ML projects.\n",
        "\n",
        "> It is well-suited for single-user or small team environments, as it does not support concurrent access or multiple users writing to the same database at the same time.\n",
        "\n",
        "To use SQLite as the tracking backend for MLflow, you simply need to set the MLflow tracking URI to the URI of the SQLite database file."
      ],
      "metadata": {
        "id": "j6aUHhljQPkG"
      }
    },
    {
      "cell_type": "code",
      "metadata": {
        "id": "-2qajaKpyvZW",
        "colab": {
          "base_uri": "https://localhost:8080/"
        },
        "outputId": "75208424-2e5b-40a1-f70a-b2423730add1"
      },
      "source": [
        "!pip install mlflow --quiet"
      ],
      "execution_count": null,
      "outputs": [
        {
          "output_type": "stream",
          "name": "stdout",
          "text": [
            "\u001b[2K     \u001b[90m━━━━━━━━━━━━━━━━━━━━━━━━━━━━━━━━━━━━━━━━\u001b[0m \u001b[32m17.6/17.6 MB\u001b[0m \u001b[31m50.9 MB/s\u001b[0m eta \u001b[36m0:00:00\u001b[0m\n",
            "\u001b[2K     \u001b[90m━━━━━━━━━━━━━━━━━━━━━━━━━━━━━━━━━━━━━━\u001b[0m \u001b[32m184.3/184.3 kB\u001b[0m \u001b[31m11.4 MB/s\u001b[0m eta \u001b[36m0:00:00\u001b[0m\n",
            "\u001b[2K     \u001b[90m━━━━━━━━━━━━━━━━━━━━━━━━━━━━━━━━━━━━━━━━\u001b[0m \u001b[32m79.5/79.5 kB\u001b[0m \u001b[31m5.5 MB/s\u001b[0m eta \u001b[36m0:00:00\u001b[0m\n",
            "\u001b[2K     \u001b[90m━━━━━━━━━━━━━━━━━━━━━━━━━━━━━━━━━━━━━━\u001b[0m \u001b[32m147.5/147.5 kB\u001b[0m \u001b[31m10.0 MB/s\u001b[0m eta \u001b[36m0:00:00\u001b[0m\n",
            "\u001b[2K     \u001b[90m━━━━━━━━━━━━━━━━━━━━━━━━━━━━━━━━━━━━━━━━\u001b[0m \u001b[32m82.7/82.7 kB\u001b[0m \u001b[31m6.6 MB/s\u001b[0m eta \u001b[36m0:00:00\u001b[0m\n",
            "\u001b[?25h  Preparing metadata (setup.py) ... \u001b[?25l\u001b[?25hdone\n",
            "\u001b[2K     \u001b[90m━━━━━━━━━━━━━━━━━━━━━━━━━━━━━━━━━━━━━━\u001b[0m \u001b[32m572.4/572.4 kB\u001b[0m \u001b[31m30.2 MB/s\u001b[0m eta \u001b[36m0:00:00\u001b[0m\n",
            "\u001b[2K     \u001b[90m━━━━━━━━━━━━━━━━━━━━━━━━━━━━━━━━━━━━━━\u001b[0m \u001b[32m212.3/212.3 kB\u001b[0m \u001b[31m14.2 MB/s\u001b[0m eta \u001b[36m0:00:00\u001b[0m\n",
            "\u001b[2K     \u001b[90m━━━━━━━━━━━━━━━━━━━━━━━━━━━━━━━━━━━━━━━━\u001b[0m \u001b[32m78.7/78.7 kB\u001b[0m \u001b[31m3.1 MB/s\u001b[0m eta \u001b[36m0:00:00\u001b[0m\n",
            "\u001b[2K     \u001b[90m━━━━━━━━━━━━━━━━━━━━━━━━━━━━━━━━━━━━━━━━\u001b[0m \u001b[32m62.7/62.7 kB\u001b[0m \u001b[31m4.3 MB/s\u001b[0m eta \u001b[36m0:00:00\u001b[0m\n",
            "\u001b[?25h  Building wheel for databricks-cli (setup.py) ... \u001b[?25l\u001b[?25hdone\n"
          ]
        }
      ]
    },
    {
      "cell_type": "markdown",
      "source": [
        "We will import several Python packages and sets the MLflow tracking server URI to be a local SQLite database. It also suppresses any warnings and prints the version of MLflow that is installed.\n",
        "\n"
      ],
      "metadata": {
        "id": "VsB80to9Ol5J"
      }
    },
    {
      "cell_type": "code",
      "metadata": {
        "id": "qBW83qrRym9Z"
      },
      "source": [
        "import os\n",
        "import shutil\n",
        "import pprint\n",
        "\n",
        "from random import random, randint\n",
        "import mlflow.sklearn\n",
        "from mlflow import log_metric, log_param, log_artifacts\n",
        "from sklearn.ensemble import RandomForestRegressor\n",
        "from mlflow.tracking import MlflowClient\n",
        "import warnings"
      ],
      "execution_count": null,
      "outputs": []
    },
    {
      "cell_type": "code",
      "metadata": {
        "id": "TSrlV2qIzRRj",
        "colab": {
          "base_uri": "https://localhost:8080/"
        },
        "outputId": "d15f53e6-9b1a-4a98-d954-ecc90d80785f"
      },
      "source": [
        "warnings.filterwarnings(\"ignore\")\n",
        "print(mlflow.__version__)"
      ],
      "execution_count": null,
      "outputs": [
        {
          "output_type": "stream",
          "name": "stdout",
          "text": [
            "2.2.2\n"
          ]
        }
      ]
    },
    {
      "cell_type": "markdown",
      "source": [
        "This cell loads the iris dataset, sets the MLflow tracking server URI to be a local SQLite database, trains a random forest classifier on the iris dataset, and logs the hyperparameters and accuracy metric to the MLflow tracking server. It also registers the trained model with the name \"iris-rf\" on the MLflow tracking server.\n"
      ],
      "metadata": {
        "id": "1uS2glfbO3Ds"
      }
    },
    {
      "cell_type": "code",
      "source": [
        "import mlflow\n",
        "from sklearn.datasets import load_iris\n",
        "from sklearn.model_selection import train_test_split\n",
        "from sklearn.ensemble import RandomForestClassifier\n",
        "\n",
        "# Load iris dataset\n",
        "iris = load_iris()\n",
        "X_train, X_test, y_train, y_test = train_test_split(iris.data, iris.target, test_size=0.2, random_state=42)\n",
        "\n",
        "# Set the tracking server to be localhost with sqlite as tracking store\n",
        "mlflow.set_tracking_uri(\"sqlite:///mlruns.db\")\n",
        "\n",
        "# Train a random forest classifier and log parameters and metrics\n",
        "with mlflow.start_run(run_name=\"iris-rf\") as run:\n",
        "    params = {\"n_estimators\": 100, \"max_depth\": 5}\n",
        "    clf = RandomForestClassifier(**params)\n",
        "    clf.fit(X_train, y_train)\n",
        "\n",
        "    mlflow.log_params(params)\n",
        "    mlflow.log_metric(\"accuracy\", clf.score(X_test, y_test))\n",
        "\n",
        "    # Log and register the model at the same time\n",
        "    mlflow.sklearn.log_model(clf, \"model\")\n",
        "    mlflow.sklearn.log_model(clf, \"model\", registered_model_name=\"iris-rf\")\n"
      ],
      "metadata": {
        "colab": {
          "base_uri": "https://localhost:8080/"
        },
        "id": "-4wr8Ig8Z85F",
        "outputId": "bd5d5697-38cf-44f5-9d14-319e7b910fdf"
      },
      "execution_count": null,
      "outputs": [
        {
          "output_type": "stream",
          "name": "stderr",
          "text": [
            "2023/04/12 11:25:23 INFO mlflow.store.db.utils: Creating initial MLflow database tables...\n",
            "2023/04/12 11:25:23 INFO mlflow.store.db.utils: Updating database tables\n",
            "INFO  [alembic.runtime.migration] Context impl SQLiteImpl.\n",
            "INFO  [alembic.runtime.migration] Will assume non-transactional DDL.\n",
            "INFO  [alembic.runtime.migration] Running upgrade  -> 451aebb31d03, add metric step\n",
            "INFO  [alembic.runtime.migration] Running upgrade 451aebb31d03 -> 90e64c465722, migrate user column to tags\n",
            "INFO  [alembic.runtime.migration] Running upgrade 90e64c465722 -> 181f10493468, allow nulls for metric values\n",
            "INFO  [alembic.runtime.migration] Running upgrade 181f10493468 -> df50e92ffc5e, Add Experiment Tags Table\n",
            "INFO  [alembic.runtime.migration] Running upgrade df50e92ffc5e -> 7ac759974ad8, Update run tags with larger limit\n",
            "INFO  [alembic.runtime.migration] Running upgrade 7ac759974ad8 -> 89d4b8295536, create latest metrics table\n",
            "INFO  [89d4b8295536_create_latest_metrics_table_py] Migration complete!\n",
            "INFO  [alembic.runtime.migration] Running upgrade 89d4b8295536 -> 2b4d017a5e9b, add model registry tables to db\n",
            "INFO  [2b4d017a5e9b_add_model_registry_tables_to_db_py] Adding registered_models and model_versions tables to database.\n",
            "INFO  [2b4d017a5e9b_add_model_registry_tables_to_db_py] Migration complete!\n",
            "INFO  [alembic.runtime.migration] Running upgrade 2b4d017a5e9b -> cfd24bdc0731, Update run status constraint with killed\n",
            "INFO  [alembic.runtime.migration] Running upgrade cfd24bdc0731 -> 0a8213491aaa, drop_duplicate_killed_constraint\n",
            "INFO  [alembic.runtime.migration] Running upgrade 0a8213491aaa -> 728d730b5ebd, add registered model tags table\n",
            "INFO  [alembic.runtime.migration] Running upgrade 728d730b5ebd -> 27a6a02d2cf1, add model version tags table\n",
            "INFO  [alembic.runtime.migration] Running upgrade 27a6a02d2cf1 -> 84291f40a231, add run_link to model_version\n",
            "INFO  [alembic.runtime.migration] Running upgrade 84291f40a231 -> a8c4a736bde6, allow nulls for run_id\n",
            "INFO  [alembic.runtime.migration] Running upgrade a8c4a736bde6 -> 39d1c3be5f05, add_is_nan_constraint_for_metrics_tables_if_necessary\n",
            "INFO  [alembic.runtime.migration] Running upgrade 39d1c3be5f05 -> c48cb773bb87, reset_default_value_for_is_nan_in_metrics_table_for_mysql\n",
            "INFO  [alembic.runtime.migration] Running upgrade c48cb773bb87 -> bd07f7e963c5, create index on run_uuid\n",
            "INFO  [alembic.runtime.migration] Running upgrade bd07f7e963c5 -> 0c779009ac13, add deleted_time field to runs table\n",
            "INFO  [alembic.runtime.migration] Running upgrade 0c779009ac13 -> cc1f77228345, change param value length to 500\n",
            "INFO  [alembic.runtime.migration] Running upgrade cc1f77228345 -> 97727af70f4d, Add creation_time and last_update_time to experiments table\n",
            "INFO  [alembic.runtime.migration] Context impl SQLiteImpl.\n",
            "INFO  [alembic.runtime.migration] Will assume non-transactional DDL.\n",
            "2023/04/12 11:25:30 INFO mlflow.store.db.utils: Creating initial MLflow database tables...\n",
            "2023/04/12 11:25:30 INFO mlflow.store.db.utils: Updating database tables\n",
            "INFO  [alembic.runtime.migration] Context impl SQLiteImpl.\n",
            "INFO  [alembic.runtime.migration] Will assume non-transactional DDL.\n",
            "Successfully registered model 'iris-rf'.\n",
            "2023/04/12 11:25:30 INFO mlflow.tracking._model_registry.client: Waiting up to 300 seconds for model version to finish creation.                     Model name: iris-rf, version 1\n",
            "Created version '1' of model 'iris-rf'.\n"
          ]
        }
      ]
    },
    {
      "cell_type": "markdown",
      "source": [
        "Here we retrieve a list of all registered models from the MLflow tracking server and print their names and latest version numbers."
      ],
      "metadata": {
        "id": "6nqapEd2O86F"
      }
    },
    {
      "cell_type": "code",
      "source": [
        "import mlflow\n",
        "\n",
        "client = mlflow.tracking.MlflowClient()\n",
        "\n",
        "# Get a list of all registered models\n",
        "model_names = set()\n",
        "for mv in client.search_model_versions(\"\"):\n",
        "    model_name = mv.name\n",
        "    model_names.add(model_name)\n",
        "\n",
        "for model_name in model_names:\n",
        "    latest_version = client.get_latest_versions(model_name, stages=None)[0]\n",
        "    print(model_name, latest_version.version)\n"
      ],
      "metadata": {
        "colab": {
          "base_uri": "https://localhost:8080/"
        },
        "id": "DDXJ27TOPB3t",
        "outputId": "8d8046ce-5a96-4be5-f557-aaffd9120d64"
      },
      "execution_count": null,
      "outputs": [
        {
          "output_type": "stream",
          "name": "stdout",
          "text": [
            "iris-rf 1\n"
          ]
        }
      ]
    },
    {
      "cell_type": "markdown",
      "source": [
        "This cell starts the MLflow tracking UI server in the background on port 5000 with a SQLite database backend. \n"
      ],
      "metadata": {
        "id": "X4IpTXGcPYCR"
      }
    },
    {
      "cell_type": "code",
      "metadata": {
        "id": "znD1BRJe6V7c"
      },
      "source": [
        "# run tracking UI in the background\n",
        "get_ipython().system_raw(\"mlflow ui --backend-store-uri sqlite:///mlruns.db --port 5000 &\")# run tracking UI in the background"
      ],
      "execution_count": null,
      "outputs": []
    },
    {
      "cell_type": "markdown",
      "source": [
        "We then install the Pyngrok package and set up an HTTPS tunnel using Ngrok to allow access to the MLflow tracking UI from a remote browser.\n"
      ],
      "metadata": {
        "id": "zpkn4EhiPZ6b"
      }
    },
    {
      "cell_type": "markdown",
      "source": [
        "After installing Pyngrok, the cell prompts the user to enter their Ngrok authtoken, which is required to create an HTTPS tunnel. Once the authtoken is set, it uses the ngrok.connect function to create the tunnel, and prints the public URL that can be used to access the MLflow tracking UI.\n",
        "\n"
      ],
      "metadata": {
        "id": "GQZbZW6-PmVJ"
      }
    },
    {
      "cell_type": "code",
      "metadata": {
        "id": "eQT8Jgkc6c_6",
        "colab": {
          "base_uri": "https://localhost:8080/"
        },
        "outputId": "e78dff5d-de84-49a5-874d-aca0070f7e26"
      },
      "source": [
        "# create remote tunnel using ngrok.com to allow local port access\n",
        "# borrowed from https://colab.research.google.com/github/alfozan/MLflow-GBRT-demo/blob/master/MLflow-GBRT-demo.ipynb#scrollTo=4h3bKHMYUIG6\n",
        "!pip install pyngrok --quiet\n",
        "from pyngrok import ngrok\n",
        "from getpass import getpass\n",
        "\n",
        "\n",
        "# Terminate open tunnels if exist\n",
        "ngrok.kill()\n",
        "\n",
        "# Setting the authtoken (optional)\n",
        "# Get your authtoken from https://dashboard.ngrok.com/auth\n",
        "NGROK_AUTH_TOKEN = getpass('Enter the ngrok authtoken: ')\n",
        "ngrok.set_auth_token(NGROK_AUTH_TOKEN)\n",
        "\n",
        "ngrok_tunnel = ngrok.connect(addr=\"5000\", proto=\"http\", bind_tls=True)\n",
        "print(\"MLflow Tracking UI:\", ngrok_tunnel.public_url)"
      ],
      "execution_count": null,
      "outputs": [
        {
          "output_type": "stream",
          "name": "stdout",
          "text": [
            "Enter the ngrok authtoken: ··········\n",
            "MLflow Tracking UI: https://e9bc-34-150-178-14.ngrok-free.app\n"
          ]
        }
      ]
    },
    {
      "cell_type": "markdown",
      "source": [
        "Finally, the cell connects to the SQLite database used by the MLflow tracking server and executes two SQL queries to retrieve the names of all tables and all parameter values, and prints the results. \n",
        "\n"
      ],
      "metadata": {
        "id": "Vth8G6-8Pp61"
      }
    },
    {
      "cell_type": "code",
      "metadata": {
        "id": "Nx3i5ORB65Qa",
        "colab": {
          "base_uri": "https://localhost:8080/"
        },
        "outputId": "e3c15560-1c30-4393-abdc-fd41286a3580"
      },
      "source": [
        "import sqlite3\n",
        "\n",
        "# Connect to the SQLite database\n",
        "conn = sqlite3.connect(\"/content/mlruns.db\")\n",
        "\n",
        "# Execute a query and print the results\n",
        "cursor = conn.execute(\"SELECT name FROM sqlite_master WHERE type='table'\")\n",
        "for row in cursor:\n",
        "    print(row[0])\n"
      ],
      "execution_count": null,
      "outputs": [
        {
          "output_type": "stream",
          "name": "stdout",
          "text": [
            "experiments\n",
            "alembic_version\n",
            "experiment_tags\n",
            "tags\n",
            "registered_models\n",
            "runs\n",
            "registered_model_tags\n",
            "model_version_tags\n",
            "model_versions\n",
            "latest_metrics\n",
            "metrics\n",
            "params\n"
          ]
        }
      ]
    },
    {
      "cell_type": "code",
      "source": [
        "# Execute a query and print the results\n",
        "cursor = conn.execute(\"SELECT * FROM params\")\n",
        "for row in cursor:\n",
        "    print(row)"
      ],
      "metadata": {
        "id": "Pgjr8fLJkoAs",
        "outputId": "422ac3cf-d675-466e-db72-6eb0ab831ed0",
        "colab": {
          "base_uri": "https://localhost:8080/"
        }
      },
      "execution_count": null,
      "outputs": [
        {
          "output_type": "stream",
          "name": "stdout",
          "text": [
            "('n_estimators', '100', '0626c9e2a35c43cf9932fdb3f135453c')\n",
            "('max_depth', '5', '0626c9e2a35c43cf9932fdb3f135453c')\n"
          ]
        }
      ]
    },
    {
      "cell_type": "markdown",
      "source": [
        "MLflow is an open-source platform that provides tools for managing the end-to-end machine learning lifecycle. It is designed to help data scientists and machine learning engineers streamline the process of developing, testing, deploying, and managing machine learning models.\n",
        "\n",
        "MLflow consists of several components, including:\n",
        "\n",
        "- Tracking: This component allows users to track experiments and model runs, including metrics, parameters, and artifacts, in a centralized repository.\n",
        "- Projects: This component provides a standardized format for packaging and deploying machine learning code, making it easier to reproduce and share models across teams and environments.\n",
        "- Models: This component provides tools for managing and deploying machine learning models in various formats, including PMML, TensorFlow, and PyTorch.\n",
        "- Model Registry: This component provides a central repository for managing models, including versioning, access control, and collaboration features.\n",
        "MLflow can help in terms of MLOps by providing a centralized platform for managing the end-to-end machine learning lifecycle, from data preparation and model development to deployment and monitoring. By using MLflow, teams can work collaboratively on machine learning projects, easily reproduce experiments, and deploy models in a standardized and scalable way.\n",
        "\n",
        "MLflow also supports continuous integration and continuous deployment (CI/CD) workflows, making it easier to integrate machine learning models into production environments. For example, MLflow can be integrated with tools like Jenkins or GitLab CI/CD pipelines to automate the process of building, testing, and deploying machine learning models.\n",
        "\n",
        "Overall, MLflow can help organizations to achieve better results from their machine learning projects by providing a standardized and streamlined approach to managing the entire machine learning lifecycle."
      ],
      "metadata": {
        "id": "LgKfSHGtfmvx"
      }
    },
    {
      "cell_type": "markdown",
      "source": [
        "# 20. What types of information can be stored in MLflow?"
      ],
      "metadata": {
        "id": "2NzmDB8uSLq6"
      }
    },
    {
      "cell_type": "markdown",
      "source": [
        "MLflow can store various types of information related to machine learning experiments, including:\n",
        "\n",
        "- Metrics: Numeric values that track the performance of a machine learning model during training or testing, such as accuracy, precision, recall, and F1-score.\n",
        "- Parameters: Settings and configurations used during model training, such as learning rate, batch size, and number of epochs.\n",
        "- Artifacts: Any output generated during model training or evaluation, such as trained models, visualizations, or data preprocessing scripts.\n",
        "- Source code: The code used to train and evaluate the model, along with any dependencies and environment settings.\n",
        "Experiment metadata: Information about the experiment, such as the name, date, user, and any tags or annotations.\n",
        "\n",
        "All of this information is stored in a centralized repository, which can be accessed and managed through the MLflow UI or API. By storing all of this information in a single location, MLflow provides a centralized platform for managing and tracking machine learning experiments, making it easier to reproduce and share models across teams and environments."
      ],
      "metadata": {
        "id": "lK6L6IsAf_Ij"
      }
    },
    {
      "cell_type": "markdown",
      "source": [
        "# SSH"
      ],
      "metadata": {
        "id": "MkniJ-75mhaD"
      }
    },
    {
      "cell_type": "markdown",
      "source": [
        "## 21. What is the purpose of SSH?"
      ],
      "metadata": {
        "id": "cefZyOhDSLol"
      }
    },
    {
      "cell_type": "markdown",
      "source": [
        "SSH (Secure Shell) is a cryptographic network protocol used to securely connect and communicate between two networked devices. The purpose of SSH is to provide a secure and encrypted channel over an unsecured network, such as the internet, to enable secure remote access to a server or network device.\n",
        "\n",
        "The main purpose of SSH is to establish a secure connection between two devices, allowing a user to securely log in and remotely control a server or network device. SSH provides encryption and authentication mechanisms to protect against eavesdropping, data tampering, and unauthorized access to the remote device.\n",
        "\n",
        "SSH is commonly used by system administrators and developers to remotely access servers and devices for tasks such as software installation, system configuration, and debugging. It is also used for secure file transfer between devices using the Secure Copy (SCP) or Secure File Transfer Protocol (SFTP) features provided by SSH.\n",
        "\n",
        "Overall, the purpose of SSH is to provide a secure and reliable mechanism for remote access and communication between networked devices, helping to ensure the confidentiality, integrity, and availability of data and resources on the network."
      ],
      "metadata": {
        "id": "CUprTxx7gPDb"
      }
    },
    {
      "cell_type": "markdown",
      "source": [
        "# Docker"
      ],
      "metadata": {
        "id": "LdcFDsY6mmFl"
      }
    },
    {
      "cell_type": "markdown",
      "source": [
        "Docker is an open-source platform that simplifies the development, deployment, and management of applications. It enables developers to create, package, and distribute applications as lightweight containers that can run consistently across various environments.\n",
        "\n",
        "Machine Learning (ML) models often require specific dependencies, libraries, and configurations to function properly. Docker simplifies the deployment of ML models by creating an isolated environment that contains all the necessary dependencies.\n",
        "\n",
        "In this session, we’ll introduce Docker, its main concepts, and how to deploy scalable ML models using Docker containers.\n",
        "\n",
        "![picture](https://miro.medium.com/v2/resize:fit:1400/format:webp/1*gLwtHvsO8yebQzwB05nZ8Q.png)\n",
        "\n",
        "Docker Basics\n",
        "\n",
        "a. Dockerfile: A text file containing instructions and commands for building a Docker image. It defines the environment, dependencies, and configurations required for the application.\n",
        "b. Images: A Docker image is a lightweight, stand-alone, executable package that includes everything needed to run a piece of software, including the code, runtime, system tools, libraries, and settings. Images are built from a series of layers, each representing a set of instructions defined in a Dockerfile.\n",
        "c. Containers: A container is a lightweight, stand-alone, and executable software package that includes everything needed to run a piece of software, including the code, runtime, system tools, libraries, and settings.\n",
        "\n",
        "\n",
        "Deploying Scalable ML Models\n",
        "\n",
        "![picture](https://editor.analyticsvidhya.com/uploads/85227PSLLpU1LQX8EY9LNae5tvSpq0BXn7DLhlI9VRp-rMxPxtqcbwa6EpAeQI6WFheKQZ4jtvJC2DgaSW9Ogs3ON5BksIKFgxNlczWKTrCI8k0WrBFMA2byFJElr3V-tfLDSV0C1eRE6.png)\n",
        "\n",
        "Docker can be combined with orchestration tools like Kubernetes or Docker Swarm to deploy scalable ML models. These tools help manage, scale, and distribute Docker containers across multiple nodes or clusters. This allows you to handle high loads and serve multiple requests concurrently, ensuring a reliable and efficient service."
      ],
      "metadata": {
        "id": "7iz_Tao9N9mK"
      }
    },
    {
      "cell_type": "markdown",
      "source": [],
      "metadata": {
        "id": "7eN0vyuhOWgQ"
      }
    },
    {
      "cell_type": "markdown",
      "source": [
        "Docker is a popular platform that simplifies the process of building, shipping, and running applications inside containers. Here's a tutorial covering some of the most common Docker commands along with examples for each."
      ],
      "metadata": {
        "id": "EsBAbkR55lKr"
      }
    },
    {
      "cell_type": "markdown",
      "source": [
        "![](https://thesolving.com/wp-content/uploads/2021/05/How-docker-works-structure-and-functioning-in-detail.png)"
      ],
      "metadata": {
        "id": "8pCIpsSp5hLr"
      }
    },
    {
      "cell_type": "markdown",
      "source": [
        "\n",
        "```\n",
        "$ docker version\n",
        "```\n",
        "\n",
        "\n",
        "Displays the Docker version installed on your system.\n"
      ],
      "metadata": {
        "id": "W3QNDp_651ov"
      }
    },
    {
      "cell_type": "markdown",
      "source": [
        "\n",
        "```\n",
        "$ docker info\n",
        "```\n",
        "Provides more detailed information about the Docker installation, such as the number of containers and images on your system."
      ],
      "metadata": {
        "id": "JYmh3xVZ6KvG"
      }
    },
    {
      "cell_type": "markdown",
      "source": [
        "\n",
        "```\n",
        "$ docker pull docker_image_name\n",
        "```\n",
        "\n",
        "Downloads a Docker image from the Docker Hub registry.\n",
        "Example:"
      ],
      "metadata": {
        "id": "L_HZICGS6PCZ"
      }
    },
    {
      "cell_type": "markdown",
      "source": [
        "\n",
        "```\n",
        "$ docker images\n",
        "```\n",
        "Lists all the Docker images available on your local system.\n",
        "Example:"
      ],
      "metadata": {
        "id": "KJwv2To06PuR"
      }
    },
    {
      "cell_type": "markdown",
      "source": [
        "\n",
        "```\n",
        "$ docker run -it --name my_container_local docker_image_name /bin/bash\n",
        "```\n",
        "\n",
        "\n",
        "Creates and starts a new Docker container from an image.\n",
        "Example:"
      ],
      "metadata": {
        "id": "kRMxQSAo6Qbj"
      }
    },
    {
      "cell_type": "markdown",
      "source": [
        "\n",
        "```\n",
        "$ docker ps\n",
        "```\n",
        "Lists all running containers."
      ],
      "metadata": {
        "id": "UMtfNNbB6Q6v"
      }
    },
    {
      "cell_type": "markdown",
      "source": [
        "\n",
        "```\n",
        "$ docker ps -a\n",
        "```\n",
        "\n",
        "Lists all containers, including stopped ones.\n"
      ],
      "metadata": {
        "id": "y090k1YA6Rah"
      }
    },
    {
      "cell_type": "markdown",
      "source": [
        "\n",
        "```\n",
        "$ docker start my_container_loacl\n",
        "```\n",
        "\n",
        "Starts an existing container."
      ],
      "metadata": {
        "id": "fQPaOVla6R8I"
      }
    },
    {
      "cell_type": "markdown",
      "source": [
        "\n",
        "```\n",
        "$ docker stop my_container_local\n",
        "```\n",
        "\n",
        "Stops a running container."
      ],
      "metadata": {
        "id": "Z7uFXbA56SY3"
      }
    },
    {
      "cell_type": "markdown",
      "source": [
        "\n",
        "```\n",
        "$ docker rm my _container_local\n",
        "```\n",
        "\n",
        "Removes a container."
      ],
      "metadata": {
        "id": "QyJgp3dG6S5Z"
      }
    },
    {
      "cell_type": "markdown",
      "source": [
        "\n",
        "```\n",
        "$ docker rmi docker_image_name\n",
        "```\n",
        "\n",
        "Removes an image."
      ],
      "metadata": {
        "id": "Z1XOxg9c6TZs"
      }
    },
    {
      "cell_type": "markdown",
      "source": [
        "\n",
        "```\n",
        "$ docker exec -it my_container_local /bin/bash\n",
        "```\n",
        "\n",
        "Executes a command inside a running container."
      ],
      "metadata": {
        "id": "Oz-qj8sOFIIo"
      }
    },
    {
      "cell_type": "markdown",
      "source": [
        "\n",
        "```\n",
        "$ docker logs my_container_local\n",
        "```\n",
        "\n",
        "Shows the logs of a container."
      ],
      "metadata": {
        "id": "lPagOyqIFJO9"
      }
    },
    {
      "cell_type": "markdown",
      "source": [
        "\n",
        "```\n",
        "$ docker cp my_container_local:/path/to/file/on/container /path/to/file/on/host\n",
        "```\n",
        "\n",
        "docker cp: Copies files or directories between a container and the local filesystem.\n"
      ],
      "metadata": {
        "id": "k3x7Nr48FJ-y"
      }
    },
    {
      "cell_type": "markdown",
      "source": [
        "\n",
        "```\n",
        "$ docker build -t my_image:latest .\n",
        "```\n",
        "\n",
        "docker build: Builds a Docker image from a Dockerfile. This command builds an image named my_image with the latest tag from the Dockerfile in the current directory.\n"
      ],
      "metadata": {
        "id": "TP26POntIT5G"
      }
    },
    {
      "cell_type": "markdown",
      "source": [],
      "metadata": {
        "id": "DzrmkfkqOph8"
      }
    },
    {
      "cell_type": "markdown",
      "source": [
        "###Introduction to Docker:\n",
        "\n",
        "Docker is an open-source platform that simplifies the process of developing, deploying, and running applications inside lightweight, portable containers. Containers allow developers to package up an application with all its dependencies and libraries, ensuring that the application runs consistently across different environments. Docker achieves this by utilizing containerization technology, which isolates each application in a separate container while sharing the host operating system's resources."
      ],
      "metadata": {
        "id": "kJ3zQdI1roh_"
      }
    },
    {
      "cell_type": "markdown",
      "source": [
        "![](https://miro.medium.com/v2/resize:fit:1400/format:webp/1*3ds-PdxGGMN-ZzJH95_lsA.png)"
      ],
      "metadata": {
        "id": "3RaPDmckrryu"
      }
    },
    {
      "cell_type": "markdown",
      "source": [
        "In Docker, an image and a container are related but distinct concepts that serve different purposes. Here's a brief explanation of each:\n",
        "\n",
        "Image: A Docker image is a lightweight, standalone, and executable software package that includes everything needed to run a piece of software, including the code, runtime, system tools, libraries, and settings. Docker images are built from a series of layers, each representing an instruction in the Dockerfile. Images are stored in a registry, such as Docker Hub, or can be stored locally on your machine. They act as a blueprint or template from which containers can be created.\n",
        "\n",
        "Container: A Docker container is a running instance of a Docker image. When you start a container, Docker creates a writable layer on top of the image layers, allowing the container to modify the filesystem without affecting the underlying image. Containers are isolated from each other and from the host system, providing a consistent and reproducible runtime environment for the application. Containers can be started, stopped, and removed, while the underlying image remains unchanged."
      ],
      "metadata": {
        "id": "Pl4kEnU4ZISU"
      }
    },
    {
      "cell_type": "markdown",
      "source": [
        "####Step 1: Create a Dockerfile\n",
        "\n",
        "Create a new file called **Dockerfile** in the project directory and add the following:"
      ],
      "metadata": {
        "id": "ozqanwODviv3"
      }
    },
    {
      "cell_type": "code",
      "execution_count": null,
      "metadata": {
        "id": "kWv_mK2bZFi1"
      },
      "outputs": [],
      "source": [
        "# Use an official Python runtime as a parent image\n",
        "FROM python:3.9-slim\n",
        "\n",
        "# Set the working directory\n",
        "WORKDIR /app\n",
        "\n",
        "# Copy the requirements file into the container\n",
        "COPY requirements.txt /app\n",
        "\n",
        "# Install any needed packages specified in requirements.txt\n",
        "RUN pip install --trusted-host pypi.python.org -r requirements.txt\n",
        "\n",
        "# Copy the rest of the application code\n",
        "COPY . /app\n",
        "\n",
        "# Make the script executable\n",
        "RUN chmod +x /app/app.py\n",
        "\n",
        "# Run the Python scripts sequentially when the container launches\n",
        "CMD python database.py && python ml_model.py && python app.py\n"
      ]
    },
    {
      "cell_type": "markdown",
      "source": [
        "After updating the Dockerfile, build the Docker image and run the container as described in the previous response:\n",
        "\n",
        "#### Step 2: Build the Docker image\n",
        "\n",
        "Run the following command in your terminal to build the Docker image:\n"
      ],
      "metadata": {
        "id": "kpKCsutkwJdA"
      }
    },
    {
      "cell_type": "code",
      "source": [
        "docker build -t iris-docker ."
      ],
      "metadata": {
        "id": "CTvAU9AVwP2Z"
      },
      "execution_count": null,
      "outputs": []
    },
    {
      "cell_type": "markdown",
      "source": [
        "####Step 3: Run the Docker container\n",
        "\n",
        "After the image is built, you can run the Docker container with:"
      ],
      "metadata": {
        "id": "rKAd6L_kwTmv"
      }
    },
    {
      "cell_type": "code",
      "source": [
        "docker run iris-docker"
      ],
      "metadata": {
        "id": "BjjpBeQHwY2-"
      },
      "execution_count": null,
      "outputs": []
    },
    {
      "cell_type": "markdown",
      "source": [
        "That's it! You've successfully containerized a simple machine learning project based on the Iris dataset using Docker. This container can now be shared and run consistently across different environments."
      ],
      "metadata": {
        "id": "lyCzWrh8w5MA"
      }
    },
    {
      "cell_type": "markdown",
      "source": [
        "####Step 4: Push the Docker image to Docker Hub\n",
        "\n",
        "Log in to your Docker Hub account from the command line:\n"
      ],
      "metadata": {
        "id": "TX7QynAHyxPT"
      }
    },
    {
      "cell_type": "code",
      "source": [
        "docker login"
      ],
      "metadata": {
        "id": "adAOtZk6y1rJ"
      },
      "execution_count": null,
      "outputs": []
    },
    {
      "cell_type": "markdown",
      "source": [
        "Enter your Docker Hub username and password when prompted.\n",
        "\n",
        "Push the Docker image to your Docker Hub repository:"
      ],
      "metadata": {
        "id": "fuV1OGTvy7sZ"
      }
    },
    {
      "cell_type": "code",
      "source": [
        "docker push your_dockerhub_username/iris_docker:v1.0.0"
      ],
      "metadata": {
        "id": "KzypXhmRy8IN"
      },
      "execution_count": null,
      "outputs": []
    },
    {
      "cell_type": "markdown",
      "source": [
        "####Step 5: Share the Docker image with the company\n",
        "\n",
        "Share the Docker image URL with the company. They can now pull the image from Docker Hub and run the container on their infrastructure:"
      ],
      "metadata": {
        "id": "wDNfYKrLzHMq"
      }
    },
    {
      "cell_type": "code",
      "source": [
        "docker pull your_dockerhub_username/iris_docker:v1.0.0\n",
        "docker run -p 8000:8000 your_dockerhub_username/iris_docker:v1.0.0"
      ],
      "metadata": {
        "id": "VKgekztbzMvc"
      },
      "execution_count": null,
      "outputs": []
    },
    {
      "cell_type": "markdown",
      "source": [
        "By following these steps, you have successfully containerized a simple Python ML application using Docker and shared it with a company via Docker Hub. The company can now easily deploy your application on their infrastructure without worrying about dependencies or environment-specific issues.\n",
        "\n",
        "\n",
        "\n",
        "\n"
      ],
      "metadata": {
        "id": "nxUQeQeNzWgy"
      }
    },
    {
      "cell_type": "markdown",
      "source": [
        "## 22. What is Docker, and why is it useful?"
      ],
      "metadata": {
        "id": "TLxhcC_NSLl-"
      }
    },
    {
      "cell_type": "markdown",
      "source": [
        "Docker is an open-source containerization platform that allows software developers and system administrators to package, distribute, and run applications in isolated and portable containers. Containers are lightweight, standalone, and portable units that contain all the necessary dependencies and configuration needed to run an application.\n",
        "\n",
        "Docker is useful for several reasons:\n",
        "\n",
        "- Portability: Docker allows developers to package an application with all its dependencies and configurations into a container, making it easily portable and deployable across different environments, such as local machines, servers, and cloud platforms.\n",
        "- Consistency: By using Docker, developers can ensure that the application runs consistently across different environments, eliminating the risk of issues arising due to differences in the underlying infrastructure or dependencies.\n",
        "- Scalability: Docker enables developers to quickly and easily spin up multiple instances of an application in a matter of seconds, making it easier to scale applications to meet changing demand.\n",
        "- Isolation: Docker containers provide a secure and isolated runtime environment, which helps prevent conflicts between different applications and dependencies.\n",
        "- Efficiency: Docker containers are lightweight and have minimal overhead, making them faster and more efficient than traditional virtual machines.\n",
        "\n",
        "Overall, Docker is a powerful tool that simplifies the process of building, distributing, and running applications, enabling developers to focus on their core tasks rather than the underlying infrastructure."
      ],
      "metadata": {
        "id": "q4QKh2HHgj5R"
      }
    },
    {
      "cell_type": "markdown",
      "source": [
        "## 23. What are containers, and how do they relate to Docker?"
      ],
      "metadata": {
        "id": "oXGFW9zPSLji"
      }
    },
    {
      "cell_type": "markdown",
      "source": [
        "Containers are a technology that allows software developers and system administrators to package and run applications with all their dependencies and configurations in an isolated environment. Containers are lightweight, portable, and provide a consistent runtime environment for applications, regardless of the underlying infrastructure.\n",
        "\n",
        "Docker is an open-source containerization platform that uses containers to package and distribute applications. Docker provides a set of tools and APIs for building, shipping, and running containers, making it easier for developers to build, deploy, and manage applications in a containerized environment.\n",
        "\n",
        "Docker uses a layered file system and container images to package and distribute applications. A container image is a lightweight, standalone, and portable package that contains all the necessary dependencies and configuration needed to run an application. Docker images can be shared and reused across different environments, making it easier to deploy applications consistently across different platforms.\n",
        "\n",
        "When a Docker image is run, it creates a container that runs in isolation from the host operating system, providing a secure and consistent runtime environment for the application. Multiple containers can be run on a single host, each with its own set of resources and isolated from other containers running on the same host.\n",
        "\n",
        "Overall, containers and Docker provide a powerful toolset for building, deploying, and managing applications in a consistent and efficient manner, enabling developers to focus on their core tasks rather than the underlying infrastructure."
      ],
      "metadata": {
        "id": "x3RKbNFVgyhH"
      }
    },
    {
      "cell_type": "markdown",
      "source": [
        "## 24. What is the difference between a virtual machine and a Docker container?"
      ],
      "metadata": {
        "id": "fbdhtfhaSLhC"
      }
    },
    {
      "cell_type": "markdown",
      "source": [
        "The main difference between a virtual machine (VM) and a Docker container is the way they use and interact with the host operating system.\n",
        "\n",
        "A virtual machine is an emulation of a complete computer system, including its own operating system, hardware, and resources, running on top of a hypervisor or virtual machine manager. Each virtual machine requires its own set of resources, including CPU, memory, and storage, and has its own isolated operating system environment. This makes virtual machines heavier and slower to start and run than Docker containers.\n",
        "\n",
        "In contrast, a Docker container is a lightweight and portable package that includes only the application and its dependencies, sharing the underlying host operating system with other containers. Containers use a layered file system and container images to package and distribute applications, making them faster and more efficient to start and run than virtual machines.\n",
        "\n",
        "Another difference between VMs and Docker containers is the level of isolation they provide. Virtual machines offer complete isolation from the host operating system, while Docker containers share the same kernel as the host but are still isolated from each other. This makes Docker containers more lightweight and efficient than virtual machines, as they use fewer resources and start faster.\n",
        "\n",
        "Overall, Docker containers provide a more efficient and lightweight alternative to virtual machines, allowing developers to package and distribute applications quickly and easily across different environments while leveraging the underlying host operating system."
      ],
      "metadata": {
        "id": "HVXvgCvEhBZE"
      }
    },
    {
      "cell_type": "markdown",
      "source": [
        "## 25. What is a Docker image, and how is it created?"
      ],
      "metadata": {
        "id": "ErS2UcgVS96Z"
      }
    },
    {
      "cell_type": "markdown",
      "source": [
        "A Docker image is a lightweight, standalone, and executable package that contains everything needed to run a piece of software, including the code, libraries, dependencies, and configuration files. Docker images are used to create Docker containers, which can be run on any platform that supports Docker.\n",
        "\n",
        "Docker images are created using a Dockerfile, which is a text file that contains instructions on how to build the image. The Dockerfile specifies the base image, sets environment variables, copies files, installs dependencies, and runs commands to configure the software. The Dockerfile is then used to build the Docker image, which is stored in a Docker registry.\n",
        "\n",
        "Here's an example of a simple Dockerfile that creates a Docker image for a Python Flask web application:"
      ],
      "metadata": {
        "id": "TnT_QpzZhNp7"
      }
    },
    {
      "cell_type": "code",
      "source": [
        "# Set the base image\n",
        "FROM python:3.9\n",
        "\n",
        "# Set the working directory\n",
        "WORKDIR /app\n",
        "\n",
        "# Copy the requirements file\n",
        "COPY requirements.txt .\n",
        "\n",
        "# Install the dependencies\n",
        "RUN pip install --no-cache-dir -r requirements.txt\n",
        "\n",
        "# Copy the application code\n",
        "COPY . .\n",
        "\n",
        "# Set the environment variables\n",
        "ENV FLASK_APP=app.py\n",
        "\n",
        "# Expose the application port\n",
        "EXPOSE 5000\n",
        "\n",
        "# Run the application\n",
        "CMD [\"flask\", \"run\", \"--host=0.0.0.0\"]"
      ],
      "metadata": {
        "id": "thvnhmk7hQ4M"
      },
      "execution_count": null,
      "outputs": []
    },
    {
      "cell_type": "markdown",
      "source": [
        "This Dockerfile sets the base image to Python 3.9, installs the dependencies from the requirements file, copies the application code to the working directory, sets the environment variables, exposes port 5000 for the application, and runs the Flask web server.\n",
        "\n",
        "To build the Docker image from the Dockerfile, we can run the following command in the same directory as the Dockerfile:"
      ],
      "metadata": {
        "id": "TWUKsdmUhSs-"
      }
    },
    {
      "cell_type": "code",
      "source": [
        "docker build -t my-flask-app ."
      ],
      "metadata": {
        "id": "W-m2uOThhUlV"
      },
      "execution_count": null,
      "outputs": []
    },
    {
      "cell_type": "markdown",
      "source": [
        "This command builds a Docker image with the tag \"my-flask-app\" using the Dockerfile in the current directory (\".\") as the build context. Once the Docker image is built, it can be run as a Docker container on any platform that supports Docker."
      ],
      "metadata": {
        "id": "2hgJTLZehU8s"
      }
    },
    {
      "cell_type": "markdown",
      "source": [
        "## 26. How do you run a Docker container from an image?"
      ],
      "metadata": {
        "id": "nvoZvyRpS90T"
      }
    },
    {
      "cell_type": "markdown",
      "source": [
        "To run a Docker container from an image, you need to use the docker run command followed by the name of the Docker image you want to run. Here's the basic syntax:"
      ],
      "metadata": {
        "id": "Ka4Pnf9Nhd8m"
      }
    },
    {
      "cell_type": "code",
      "source": [
        "docker run <image_name>"
      ],
      "metadata": {
        "id": "lGUDbRDphfNW"
      },
      "execution_count": null,
      "outputs": []
    },
    {
      "cell_type": "markdown",
      "source": [
        "For example, if you have a Docker image named \"my-flask-app\" that you want to run as a container, you can run the following command:"
      ],
      "metadata": {
        "id": "cxwA48kphhte"
      }
    },
    {
      "cell_type": "code",
      "source": [
        "docker run my-flask-app"
      ],
      "metadata": {
        "id": "1e1YrXdghhEp"
      },
      "execution_count": null,
      "outputs": []
    },
    {
      "cell_type": "markdown",
      "source": [
        "By default, Docker will create a new container from the image and start it in the foreground. You can interact with the container by typing commands into the terminal.\n",
        "\n",
        "However, you may want to customize the behavior of the container by passing additional arguments to the docker run command. Here are some common options:\n",
        "\n",
        "-d: Runs the container in the background (detached mode).\n",
        "-p: Maps a port on the host machine to a port on the container.\n",
        "--name: Assigns a name to the container.\n",
        "-v: Mounts a volume from the host machine to the container.\n",
        "-e: Sets environment variables for the container.\n",
        "For example, to run the \"my-flask-app\" container in detached mode and map port 5000 on the host machine to port 5000 on the container, you can run the following command:"
      ],
      "metadata": {
        "id": "EW1befz4hmYe"
      }
    },
    {
      "cell_type": "code",
      "source": [
        "docker run -d -p 5000:5000 my-flask-app"
      ],
      "metadata": {
        "id": "5hDkckb7hl24"
      },
      "execution_count": null,
      "outputs": []
    },
    {
      "cell_type": "markdown",
      "source": [
        "This command runs the container in the background, maps port 5000 on the host machine to port 5000 on the container, and assigns a random name to the container. You can use the docker ps command to see a list of running containers and their details."
      ],
      "metadata": {
        "id": "uejBMu2Phrpa"
      }
    },
    {
      "cell_type": "markdown",
      "source": [
        "## 27. What is Docker Hub, and what is its purpose?"
      ],
      "metadata": {
        "id": "WVoVgIZwS9uW"
      }
    },
    {
      "cell_type": "markdown",
      "source": [
        "Docker Hub is a public registry that allows developers to store, share, and distribute Docker images. It serves as a central repository for Docker images, much like GitHub is for code. Docker Hub provides both free and paid services to developers and organizations.\n",
        "\n",
        "Developers can use Docker Hub to:\n",
        "\n",
        "Store their own Docker images and make them available to others\n",
        "Discover and download images that others have created and shared\n",
        "Collaborate with others by sharing images and collaborating on Dockerfiles\n",
        "Automate the build and testing of images using Continuous Integration (CI) tools\n",
        "Docker Hub also provides additional features for paid users, such as private repositories, role-based access control, and image vulnerability scanning.\n",
        "\n",
        "Using Docker Hub can save developers time and effort by allowing them to easily access and share Docker images without having to build them from scratch every time. It also enables collaboration and sharing of best practices within the Docker community."
      ],
      "metadata": {
        "id": "2zeZmwzXh26V"
      }
    },
    {
      "cell_type": "markdown",
      "source": [
        "## 28. What is a Dockerfile, and what are its main components?"
      ],
      "metadata": {
        "id": "_F1VruIPS9oq"
      }
    },
    {
      "cell_type": "markdown",
      "source": [
        "A Dockerfile is a text file that contains instructions for building a Docker image. These instructions tell Docker how to build the image by specifying what packages and dependencies to install, what commands to run, and what files to include.\n",
        "\n",
        "The main components of a Dockerfile are:\n",
        "\n",
        "Base image: This is the starting point for the image. The base image provides a set of pre-configured operating system files and packages that the new image can build on.\n",
        "Instructions: These are the commands that tell Docker how to build the image. For example, an instruction might install a specific package or copy files from the local file system into the image.\n",
        "Arguments: These are variables that can be passed to the Dockerfile at build time. Arguments allow the Dockerfile to be customized for different environments or use cases.\n",
        "Environment variables: These are variables that can be set within the image and used by the container at runtime.\n",
        "Labels: These are key-value pairs that provide metadata about the image, such as the version, author, and build date.\n",
        "Working directory: This is the directory where the Dockerfile instructions are executed. It can be set to any location within the image.\n",
        "Using a Dockerfile provides a consistent and repeatable way to build Docker images, making it easier to manage and deploy containers. By defining the image creation process in a Dockerfile, developers can easily version control their image builds and ensure that the same image is built every time."
      ],
      "metadata": {
        "id": "n_6Hvek6iCdl"
      }
    },
    {
      "cell_type": "markdown",
      "source": [
        "## 29. How do you build a Docker image using a Dockerfile?"
      ],
      "metadata": {
        "id": "dD3R-8HxS9i6"
      }
    },
    {
      "cell_type": "markdown",
      "source": [
        "To build a Docker image using a Dockerfile, follow these steps:\n",
        "\n",
        "Create a Dockerfile: Create a text file called \"Dockerfile\" in a directory where you want to build the image.\n",
        "Write the Dockerfile instructions: In the Dockerfile, write the instructions for building the image. These instructions typically start with a base image and include commands for installing packages, copying files, and configuring the environment.\n",
        "Build the Docker image: Run the \"docker build\" command in the directory where the Dockerfile is located. This command will read the instructions in the Dockerfile and build a Docker image based on those instructions. For example:"
      ],
      "metadata": {
        "id": "EpyBZFsXiUEh"
      }
    },
    {
      "cell_type": "code",
      "source": [
        "docker build -t my-image-name ."
      ],
      "metadata": {
        "id": "XKq7pks7iVUb"
      },
      "execution_count": null,
      "outputs": []
    },
    {
      "cell_type": "markdown",
      "source": [
        "The \"-t\" flag is used to specify the name and tag for the image, and the \".\" indicates that the build context is the current directory.\n",
        "\n",
        "Check the Docker image: After the build is complete, run the \"docker images\" command to see a list of all the Docker images on your system. Your newly created image should be listed in the output.\n",
        "You can now use the Docker image to create and run Docker containers, or push the image to a container registry like Docker Hub for others to use."
      ],
      "metadata": {
        "id": "mLaMAKBhiX5G"
      }
    },
    {
      "cell_type": "markdown",
      "source": [
        "## 30. How can you share data between Docker containers?"
      ],
      "metadata": {
        "id": "NOjs4QhMS9dv"
      }
    },
    {
      "cell_type": "markdown",
      "source": [
        "There are several ways to share data between Docker containers:\n",
        "\n",
        "- Using Docker volumes: A volume is a persistent data storage mechanism that can be shared between multiple containers. Volumes can be created using the \"docker volume create\" command, and then mounted to one or more containers using the \"-v\" flag. Data written to the volume from one container can be read from another container that shares the same volume.\n",
        "- Using Docker networks: Docker networks enable containers to communicate with each other, and data can be shared between containers through network connections. Containers can be connected to the same network using the \"docker network connect\" command.\n",
        "- Using shared file systems: If multiple containers are running on the same host, they can share data using a shared file system. In this approach, files are stored on the host file system and mounted into the containers using the \"-v\" flag.\n",
        "- Using Docker Compose: Docker Compose is a tool for defining and running multi-container Docker applications. With Docker Compose, you can define multiple services (containers) that interact with each other and share data through volumes or networks.\n",
        "Overall, the approach for sharing data between Docker containers depends on the specific use case and requirements of the application."
      ],
      "metadata": {
        "id": "gaZdrLc_ihNQ"
      }
    },
    {
      "cell_type": "markdown",
      "source": [],
      "metadata": {
        "id": "RGeKrLN-OxYS"
      }
    },
    {
      "cell_type": "markdown",
      "source": [
        "![](https://techmormo.com/wp-content/uploads/2022/11/docker4-stateless-containers.png)"
      ],
      "metadata": {
        "id": "-kTb0apvTlMq"
      }
    },
    {
      "cell_type": "markdown",
      "source": [
        "Mounting a volume to a Docker container allows you to persist data across container restarts and share data between containers. Docker supports two types of volumes: \n",
        "- Bind mounts: \n",
        "- Managed volumes\n",
        "\n",
        "In this tutorial, we'll cover both methods.\n",
        "\n"
      ],
      "metadata": {
        "id": "iGpN85z-RM-D"
      }
    },
    {
      "cell_type": "markdown",
      "source": [
        "![](https://techmormo.com/wp-content/uploads/2022/11/docker4-stateful-containers.png)"
      ],
      "metadata": {
        "id": "uAqrwTs0TeIG"
      }
    },
    {
      "cell_type": "markdown",
      "source": [
        "###Bind Mounts\n",
        "\n",
        "Bind mounts map a directory or file on the host system to a directory or file in the container. This method is useful when you need to access files on the host system or share data between the host and the container."
      ],
      "metadata": {
        "id": "ORvN4gWWT51H"
      }
    },
    {
      "cell_type": "markdown",
      "source": [
        "1. Create a directory on the host system:\n",
        "\n",
        "```\n",
        "$ mkdir /path/to/host/directory\n",
        "```\n",
        "\n",
        "2. Run a Docker container with the -v or --mount flag to mount the host directory as a volume:\n",
        "\n",
        "```\n",
        "$ docker run -d -p 5000:5000 -v /path/to/host/directory:/path/to/container/directory --name my_container my_image\n",
        "```\n",
        "\n",
        "```\n",
        "$ docker run -d -p 5000:5000 --mount type=bind,source=/path/to/host/directory,target=/path/to/container/directory --name my_container my_image\n",
        "```\n"
      ],
      "metadata": {
        "id": "1HDb2KnIW-l2"
      }
    },
    {
      "cell_type": "markdown",
      "source": [
        "###Managed Volumes\n",
        "\n",
        "Managed volumes are created and managed by Docker, providing better isolation and improved performance compared to bind mounts. Docker automatically manages the storage and lifecycle of these volumes.\n",
        "\n"
      ],
      "metadata": {
        "id": "uJg0D1-zX_wf"
      }
    },
    {
      "cell_type": "markdown",
      "source": [
        "1. Create a managed volume:\n",
        "```\n",
        "$ docker volume create my_volume\n",
        "```\n",
        "2. Run a Docker container with the -v or --mount flag to attach the managed volume:\n",
        "\n",
        "\n",
        "```\n",
        "$ docker run -d -p 5000:5000 -v my_volume:/path/to/container/directory --name my_container my_image\n",
        "```\n",
        "\n",
        "```\n",
        "$ docker run -d -p 5000:5000 --mount type=volume,source=my_volume,target=/path/to/container/directory --name my_container my_image\n",
        "```"
      ],
      "metadata": {
        "id": "7jd-_tzGYGHG"
      }
    },
    {
      "cell_type": "markdown",
      "source": [
        "In both bind mounts and managed volumes, the volume is mounted at /path/to/container/directory in the container, and any changes made in the container's mounted directory will persist even after the container is stopped or removed.\n",
        "\n",
        "To remove a managed volume, first stop and remove any containers using the volume, and then use the following command:\n",
        "\n",
        "```\n",
        "$ docker volume rm my_volume\n",
        "```\n"
      ],
      "metadata": {
        "id": "1ysWxAaGYbJ-"
      }
    },
    {
      "cell_type": "markdown",
      "source": [
        "# Code Refactoring"
      ],
      "metadata": {
        "id": "KxS6JIN8my8m"
      }
    },
    {
      "cell_type": "markdown",
      "source": [
        "## 31. How would you define Code Refactoring (CF)?"
      ],
      "metadata": {
        "id": "wwIpqqf-S9X6"
      }
    },
    {
      "cell_type": "markdown",
      "source": [
        "The aim:\n",
        "- Transformation of 'wroking' coe into deployed code\n",
        "- separating parts of code into multiple files\n",
        "- organixing repository to be deployment-ready"
      ],
      "metadata": {
        "id": "lX5PRWjpGINS"
      }
    },
    {
      "cell_type": "markdown",
      "source": [
        "What is code refactoring:\n",
        "\n",
        "definition:\n",
        "\n",
        "code refactoring is the process pf resturtucing existing code to mimrpcoe its internal strucute, without chaing its external behabiour\n",
        "\n",
        "goals:\n",
        "\n",
        "to make the code easier to read,understand, and maintain as well as to improce its performance, scalabiltiy and reliability\n"
      ],
      "metadata": {
        "id": "H854HAjsGh24"
      }
    },
    {
      "cell_type": "markdown",
      "source": [
        "Code refactoring is the process of restructuring and improving existing source code without changing its external behavior. The main purpose of code refactoring is to improve the code quality, maintainability, and extensibility, while reducing technical debt and increasing efficiency.\n",
        "\n",
        "Code refactoring can involve various tasks such as:\n",
        "\n",
        "Simplifying code by removing unnecessary complexity or duplication\n",
        "Modifying the code structure to make it more modular and easier to maintain\n",
        "Improving code readability and naming conventions\n",
        "Optimizing code performance\n",
        "Removing code smells or anti-patterns\n",
        "Code refactoring is an essential part of the software development process and is often done as a proactive measure to prevent future issues or as a reactive measure to resolve existing problems. It can be carried out manually or with the help of automated tools."
      ],
      "metadata": {
        "id": "kcKBRmk5is3c"
      }
    },
    {
      "cell_type": "markdown",
      "source": [
        "### 1. How does CF influence the external behavior of the code?"
      ],
      "metadata": {
        "id": "CbO9k3hhS9Sw"
      }
    },
    {
      "cell_type": "markdown",
      "source": [
        "Code refactoring should not change the external behavior of the code. The purpose of refactoring is to improve the internal structure and design of the code, without modifying its functionality or behavior.\n",
        "\n",
        "Code refactoring involves making changes to the code that are safe and do not introduce new bugs or errors. The process should be carried out in a way that ensures that the code still behaves exactly the same way before and after refactoring.\n",
        "\n",
        "While the refactoring process does not affect the external behavior of the code, it can have a positive impact on the overall quality and maintainability of the code. By improving the code structure, readability, and maintainability, it becomes easier for developers to work with the code, make changes, and add new features."
      ],
      "metadata": {
        "id": "s-roxamli0Zj"
      }
    },
    {
      "cell_type": "markdown",
      "source": [
        "### 2. What are the concrete goals one wants to achieve with CF?"
      ],
      "metadata": {
        "id": "uFRAzkSLS9Mm"
      }
    },
    {
      "cell_type": "markdown",
      "source": [
        "The concrete goals of code refactoring can vary depending on the specific situation and the code being refactored. However, some common goals that are typically aimed for include:\n",
        "\n",
        "- Improving code readability: By improving the structure and organization of the code, it becomes easier for developers to understand and work with the code.\n",
        "- Increasing code maintainability: Refactoring can help simplify complex code, reduce dependencies, and eliminate redundant code, making it easier to maintain the code in the long run.\n",
        "- Enhancing code reusability: Refactoring can help extract common functionality into reusable components, reducing the amount of code that needs to be written and improving overall code efficiency.\n",
        "- Optimizing code performance: Refactoring can help identify and eliminate bottlenecks and improve the overall performance of the code.\n",
        "- Reducing technical debt: By addressing technical debt, or the accumulation of bad code practices over time, refactoring can help improve the overall quality and sustainability of the codebase.\n",
        "- Making the code more testable: Refactoring can help reduce coupling and increase cohesion, making the code more modular and easier to test."
      ],
      "metadata": {
        "id": "iTHr1HK9i9Lt"
      }
    },
    {
      "cell_type": "markdown",
      "source": [
        "## 32. What do we call “code smell,” and what are the most common types?"
      ],
      "metadata": {
        "id": "DuXBt70RS9Ha"
      }
    },
    {
      "cell_type": "markdown",
      "source": [
        "code smeel types:\n",
        "- long functions\n",
        "- duplicate code\n",
        "- dead code\n",
        "- data clumps\n",
        "- improper names"
      ],
      "metadata": {
        "id": "nZrIB5OoGyLU"
      }
    },
    {
      "cell_type": "markdown",
      "source": [
        "\"Code smell\" is a term used to describe symptoms in code that indicate potential design problems or poor programming practices. Code smells are not necessarily bugs or errors, but they can indicate that the code may be difficult to maintain, modify, or extend over time. Some common types of code smells include:\n",
        "\n",
        "- Duplicated code: Repeated code that performs the same function in different parts of the codebase, which can make the code harder to maintain.\n",
        "Long method: A method that is too long and complex, which can make the code harder to understand and modify.\n",
        "- Large class: A class that has too many responsibilities or methods, which can make the code harder to understand and maintain.\n",
        "- Feature envy: A code smell where a method or class is more interested in the data or behavior of another class, rather than its own data or behavior, which can lead to increased coupling and reduced cohesion.\n",
        "- Primitive obsession: A code smell where simple data types, such as integers or strings, are used excessively instead of creating custom classes, which can make the code harder to maintain and understand.\n",
        "- Shotgun surgery: A code smell where a single change requires modifications to many different parts of the code, which can make the codebase more fragile and difficult to modify.\n",
        "- God object: A class that does too much or has too much knowledge of other classes, which can lead to increased coupling and reduced cohesion.\n",
        "Identifying and addressing code smells is an important part of code refactoring and can help improve the overall quality and maintainability of the codebase."
      ],
      "metadata": {
        "id": "NZUgh1mijOJ8"
      }
    },
    {
      "cell_type": "markdown",
      "source": [
        "### 1. Can you describe any of the types, why does it appear and how to solve/improve it?"
      ],
      "metadata": {
        "id": "Nn40nDB_S9Bm"
      }
    },
    {
      "cell_type": "markdown",
      "source": [
        "One common type of code smell is a long method or function, which occurs when a function contains too many lines of code or performs too many tasks. This can make the code difficult to read, test, and maintain. To solve this code smell, the method can be broken down into smaller, more focused methods, each responsible for a specific task. This can make the code more modular, easier to test, and more reusable.\n",
        "\n",
        "Another type of code smell is duplicated code, which occurs when the same or similar code is repeated in multiple places throughout the codebase. This can lead to inconsistencies, errors, and difficulties in maintenance. To solve this code smell, the duplicated code can be extracted into a separate function or class and reused where needed. This can make the code more modular, reduce redundancy, and make it easier to maintain.\n",
        "\n",
        "A third type of code smell is a complex conditional or switch statement, which occurs when the logic of a function relies heavily on multiple nested if-else or switch-case statements. This can make the code difficult to read and understand, and can lead to errors and difficulties in maintenance. To solve this code smell, the logic can be refactored using polymorphism or the strategy pattern, which can simplify the logic and make it more modular and maintainable.\n",
        "\n",
        "Overall, code smells are indicators of potential problems in code, and by identifying and addressing them, developers can improve the quality, maintainability, and readability of their code."
      ],
      "metadata": {
        "id": "5FYlZQtHlfPo"
      }
    },
    {
      "cell_type": "markdown",
      "source": [
        "## 33. How can we improve understanding in reusability of our code when publishing in a specific platform or in specific company?"
      ],
      "metadata": {
        "id": "TFJLbyCnS86f"
      }
    },
    {
      "cell_type": "markdown",
      "source": [
        "Improving understanding of code reusability when publishing in a specific platform or company can be achieved through the following practices:\n",
        "\n",
        "- Standardization: Developing a set of coding guidelines and standards can help ensure that the code is written in a consistent and reusable manner. Standardization can also facilitate code reviews and make it easier for developers to collaborate on projects.\n",
        "- Documentation: Documenting the code, including comments, API documentation, and user guides, can help other developers understand how to use the code and how it fits into the overall architecture. This documentation should be accessible to all developers who will be using the code.\n",
        "- Code reuse analysis: Analyzing the code to identify common patterns or functions that can be reused can help improve the code's reusability. This can include looking for duplicate code, creating libraries or modules that can be used across projects, and developing code that is designed to be generic and reusable.\n",
        "- Education and training: Providing education and training to developers can help them understand the importance of code reusability and best practices for achieving it. This can include training on coding standards, documentation practices, and code reuse analysis.\n",
        "\n",
        "Collaboration: Encouraging collaboration among developers can help improve understanding of code reusability. This can include pair programming, code reviews, and working together on shared projects."
      ],
      "metadata": {
        "id": "YZCYYebilp7m"
      }
    },
    {
      "cell_type": "markdown",
      "source": [
        "# API"
      ],
      "metadata": {
        "id": "06Lxngysm6fb"
      }
    },
    {
      "cell_type": "markdown",
      "source": [
        "![picture](https://res.cloudinary.com/dyd911kmh/image/upload/v1664210695/A_simple_API_architecture_design_f98bfad9ce.png)"
      ],
      "metadata": {
        "id": "6dI5zxgrB80k"
      }
    },
    {
      "cell_type": "markdown",
      "source": [
        "## 34. Can you define Application Programming Interface?"
      ],
      "metadata": {
        "id": "zP5J_iVIS80K"
      }
    },
    {
      "cell_type": "markdown",
      "source": [
        "Definition\n",
        "1. It is a set of defined rules that enable different applications to communicate with each other.\n",
        "2. It acts as an intermediary layer that processes data transfers between systems."
      ],
      "metadata": {
        "id": "ahXoEo8TCWii"
      }
    },
    {
      "cell_type": "markdown",
      "source": [
        "Usability:\n",
        "\n",
        "APIs simplify software development and innovation by enabling applications to exchange data and functionality easily and securely"
      ],
      "metadata": {
        "id": "nc9_iifPCcUj"
      }
    },
    {
      "cell_type": "markdown",
      "source": [
        "An Application Programming Interface (API) is a set of protocols, routines, and tools for building software applications. It specifies how software components should interact and exchange data with each other. APIs are commonly used for building web applications, allowing different software components to communicate and share data with each other over the internet. APIs can be built for internal use within an organization or external use by third-party developers. They typically expose a set of endpoints or functions that can be called by other software components to perform specific tasks or retrieve specific information."
      ],
      "metadata": {
        "id": "_tLinABrl9Y4"
      }
    },
    {
      "cell_type": "markdown",
      "source": [
        "## 35. What types of API do we know based on their availability?"
      ],
      "metadata": {
        "id": "VWljM134S8vE"
      }
    },
    {
      "cell_type": "markdown",
      "source": [
        "Types regarding availability:\n",
        "- Public API is open and available for use by any outside developer or business. These are also called open or external APIs\n",
        "- Partner API is only available to specifically selected and authorized outside developers or API consumers. It facilitates business-to-business activities\n",
        "- Private API is intended only for use within the enterprise to connect systems and data within the business\n",
        "- Composite API is a sequence of tasks that run synchronously as a result of the execution and not at the request of a task."
      ],
      "metadata": {
        "id": "-b2k9mDJChl3"
      }
    },
    {
      "cell_type": "markdown",
      "source": [
        "Types regarding protocol:\n",
        "- 1 REST (Representational State Transfer) is a web services API and crucial for modern web applications\n",
        "- 2 SOAP (Simple object access protocol) is a well-established protocol but comes with strict rules, rigid standards\n",
        "- 3 RPC (Remote Procedure Call protocol) is the oldest and simplest type of API with a goal for the client to execute code on a server\n",
        "- 4 Event-driven or asynchronous APIs transmit information in quasi-real-time. The advantage is that it allows the source to send a response only when the information is new or has changed, useful for stock exchanges"
      ],
      "metadata": {
        "id": "OcYC7k8gColz"
      }
    },
    {
      "cell_type": "markdown",
      "source": [
        "Based on their availability, there are two main types of APIs:\n",
        "\n",
        "- Public APIs: These are APIs that are made available to third-party developers and the public. Public APIs are typically used to provide access to a service or data from a company or organization. For example, Twitter's API allows developers to access Twitter's data and build applications on top of it.\n",
        "- Private APIs: These are APIs that are used within a company or organization, and are not made available to third-party developers or the public. Private APIs are typically used to enable communication between different internal systems or applications. For example, a company might use a private API to allow their customer service application to access data from their order processing system."
      ],
      "metadata": {
        "id": "rDwhSa1KmEUd"
      }
    },
    {
      "cell_type": "markdown",
      "source": [
        "Requests:\n",
        "- GET - is a read-only operation and doesn’t change the state of the resource but only retrieve data\n",
        "- POST - sends data to a server to create or update a resource and is often used when submitting web forms\n",
        "- PUT - is used to update an existing resource with new data\n",
        "- PATCH - is used to apply partial modifications to a resource'- DELETE - used to delete a specified resource from the server"
      ],
      "metadata": {
        "id": "Q9WILnL3Ct1r"
      }
    },
    {
      "cell_type": "markdown",
      "source": [
        "FastAPI\n",
        "\n",
        "FastAPI is a modern, fast (high-performance) web framework for building APIs with Python 3.7+.\n",
        "- It is fast\n",
        "- Supports asynchronous code (async and await commands). It can perform multiple tasks concurrently. In that way, it doesn’t need to wait until one called to be answered and can continue with a new request\n",
        "- Short development line 7-8 lines of code\n",
        "\n",
        "\n",
        "Uvicorn + FastAPI\n",
        "- Uvicorn is a lightning-fast ASGI server that is used to serve FastAPI applications.\n",
        "- FastAPI is built on top of Starlette which itself is built on top of Uvicorn."
      ],
      "metadata": {
        "id": "5WBIur8SC8ev"
      }
    },
    {
      "cell_type": "markdown",
      "source": [
        "Tranformation process\n",
        "\n",
        "Starting point: A folder with working python code for prediction on already trained model saved in sub-folder.\n",
        "Steps:\n",
        "- Install dependencies: fastapi, uvicorn, pydentic\n",
        "- Create a new python script based on prediction script which initiate fastapi app\n",
        "- define request parameters and their types\n",
        "- start uvicorn server and define address and fastapi app \n",
        "- Send request and hope for response 200 :)"
      ],
      "metadata": {
        "id": "4aFsMZNvDPm1"
      }
    },
    {
      "cell_type": "markdown",
      "source": [
        "### 1. Can you describe any of the types, how they differentiate from others, and can you tell one case you would use it?"
      ],
      "metadata": {
        "id": "n0tG2gptTeLS"
      }
    },
    {
      "cell_type": "markdown",
      "source": [
        "Sure, here are some common types of APIs based on their availability and usage:\n",
        "\n",
        "- Open/Public APIs: These APIs are available for public use and can be accessed by anyone. They are typically offered by companies or organizations as a way to promote their services, products, or platforms. One example is the OpenWeatherMap API, which provides weather data for various locations around the world. It can be used by developers to integrate weather information into their applications.\n",
        "- Internal/Private APIs: These APIs are used within an organization and are not accessible to the public. They are typically used to facilitate communication between different systems or services within the organization. For example, a company might use an internal API to allow different departments to share data and information.\n",
        "- Partner APIs: These APIs are offered to partners or third-party developers for specific purposes. They are typically used to integrate with a specific service or platform. For example, a social media platform might offer an API to allow developers to integrate their applications with the platform and access user data.\n",
        "- Composite APIs: These APIs are created by combining multiple APIs into a single interface. They are used to simplify complex processes and provide a unified interface to developers. For example, a travel booking website might use a composite API to integrate with multiple airlines and hotels.\n",
        "\n",
        "Each type of API has its own advantages and use cases. Open/Public APIs are useful for promoting services or products, while Internal/Private APIs are useful for facilitating communication within an organization. Partner APIs are useful for integrating with specific services or platforms, while Composite APIs are useful for simplifying complex processes.\n",
        "\n",
        "Choosing the right type of API for a specific use case depends on the specific needs of the project or application.\n",
        "\n",
        "\n",
        "\n",
        "\n",
        "\n"
      ],
      "metadata": {
        "id": "iUycNEGjmYgG"
      }
    },
    {
      "cell_type": "markdown",
      "source": [
        "## 36. What are the types based on their protocol?"
      ],
      "metadata": {
        "id": "bzjgCc31TeIT"
      }
    },
    {
      "cell_type": "markdown",
      "source": [
        "Based on their protocol, there are four types of APIs:\n",
        "\n",
        "- RESTful API: REST (Representational State Transfer) is a software architectural style for building distributed systems. A RESTful API uses HTTP requests to GET, POST, PUT, and DELETE data. It is stateless, meaning that the server does not store any session data, making it easier to scale. A RESTful API is widely used in web-based applications and mobile applications.\n",
        "- SOAP API: SOAP (Simple Object Access Protocol) is a messaging protocol for exchanging structured data between applications. SOAP APIs use XML to encode the data, and the messages are transported over HTTP or SMTP. It is more secure than RESTful APIs as it has built-in error handling and supports encryption. However, it is also more complex, and the data payload is larger than RESTful APIs.\n",
        "- GraphQL API: GraphQL is a query language for APIs developed by Facebook. It allows the client to specify the data that it needs, and the server will return only the requested data. It uses a single endpoint for all requests, and the response is in JSON format. It is popular in modern web applications where the client needs to fetch large amounts of data.\n",
        "- WebSocket API: WebSocket is a protocol for real-time communication between the client and the server. Unlike HTTP, which is request/response-based, WebSocket provides a bidirectional communication channel, enabling the server to push data to the client at any time. It is commonly used in applications that require real-time updates, such as chat applications, multiplayer games, and financial trading platforms.\n",
        "\n",
        "Each protocol has its advantages and disadvantages, and the choice of API protocol depends on the specific use case and requirements of the application."
      ],
      "metadata": {
        "id": "6bMzHnMXmq1h"
      }
    },
    {
      "cell_type": "markdown",
      "source": [
        "### 1. Can you describe any of the types, how they differentiate from others, and can you tell one case you would use it?"
      ],
      "metadata": {
        "id": "CkEE3W1STeFF"
      }
    },
    {
      "cell_type": "markdown",
      "source": [
        "Sure! Here are some examples of API types based on their protocol:\n",
        "\n",
        "- REST (Representational State Transfer) API: REST is a widely used protocol for building APIs, and it relies on HTTP to transfer data. REST APIs are stateless and allow clients to access and manipulate web resources using a set of predefined operations, such as GET, POST, PUT, and DELETE. They are popular for building web applications and mobile apps that need to interact with web servers.\n",
        "- SOAP (Simple Object Access Protocol) API: SOAP is a protocol for exchanging structured information between applications. SOAP APIs are based on XML and use a set of well-defined rules for defining messages and operations. They require a more complex setup than REST APIs but offer features like encryption, authentication, and reliability. They are often used for building enterprise-level applications that require secure and reliable communication.\n",
        "- GraphQL API: GraphQL is a query language for APIs that was developed by Facebook. It allows clients to request exactly the data they need and nothing more, which can help reduce overfetching and underfetching of data. GraphQL APIs have a strongly typed schema and allow clients to specify the shape and structure of the response they want. They are popular for building complex client-side applications that need to fetch data from multiple sources.\n",
        "\n",
        "For example, if you were building a mobile app that needs to display a list of products, a REST API could be a good choice. You could define a set of endpoints for retrieving, creating, updating, and deleting products, and the mobile app could make requests to these endpoints using HTTP. On the other hand, if you were building a financial application that needs to securely transfer data between different systems, a SOAP API could be a better choice. It would allow you to define a set of operations for transferring data, and you could use encryption and authentication to ensure that the data is transmitted securely. Finally, if you were building a complex web application that needs to fetch data from multiple sources, a GraphQL API could be a good choice. It would allow you to define a schema for your data and let clients query for exactly the data they need, reducing network traffic and improving performance."
      ],
      "metadata": {
        "id": "ZvklpkS_m-Xe"
      }
    },
    {
      "cell_type": "markdown",
      "source": [
        "## 37. We use API options that can be passed with the endpoint to influence the response. How do we call them, and can you give a few examples?"
      ],
      "metadata": {
        "id": "PPwH5FGTTeBc"
      }
    },
    {
      "cell_type": "markdown",
      "source": [
        "The API options that can be passed with the endpoint to influence the response are called \"query parameters\" or \"query strings\". Here are a few examples:\n",
        "\n",
        "- https://api.example.com/books?limit=10&offset=20: This endpoint retrieves a list of 10 books starting from the 21st book (offset=20).\n",
        "- https://api.example.com/search?q=python&lang=en: This endpoint searches for books with the keyword \"python\" and filters the results to only include books in English.\n",
        "- https://api.example.com/books?sort=title: This endpoint retrieves a list of books sorted by title in ascending order.\n",
        "- https://api.example.com/books?id=1234: This endpoint retrieves the details of a book with the ID \"1234\".\n",
        "\n",
        "Query parameters allow clients to specify additional information about the request, such as filtering, sorting, pagination, and search criteria."
      ],
      "metadata": {
        "id": "HWYDzD0MnRI2"
      }
    },
    {
      "cell_type": "markdown",
      "source": [
        "### 1. Can you describe any of the request types, and for what purpose do we use it?"
      ],
      "metadata": {
        "id": "ri3c3JPBTd9h"
      }
    },
    {
      "cell_type": "markdown",
      "source": [
        "Yes, there are several types of requests that can be made through an API, including:\n",
        "\n",
        "- GET: This request type is used to retrieve data from a server. For example, if you want to retrieve information about a user from a database, you would use a GET request to retrieve that information.\n",
        "- POST: This request type is used to send data to a server to create or update a resource. For example, if you want to create a new user in a database, you would use a POST request to send the user's information to the server.\n",
        "- PUT: This request type is used to update an existing resource on the server. For example, if you want to update a user's information in a database, you would use a PUT request to send the updated information to the server.\n",
        "- DELETE: This request type is used to delete a resource from the server. For example, if you want to delete a user from a database, you would use a DELETE request to remove that user's information from the server.\n",
        "- PATCH: This request type is used to make a partial update to an existing resource on the server. For example, if you want to update only a specific field of a user's information in a database, you would use a PATCH request to send only the updated field to the server.\n",
        "\n",
        "Each request type serves a specific purpose in communicating with an API and can be used to interact with the server in different ways."
      ],
      "metadata": {
        "id": "e2gPTsPAnhrT"
      }
    },
    {
      "cell_type": "markdown",
      "source": [
        "## 38. Discuss pro/cons of using API deployement on a virtual machine vs a managed serverless solution (e.g. GCP CloudRun)."
      ],
      "metadata": {
        "id": "EOd_cD8BTqyG"
      }
    },
    {
      "cell_type": "markdown",
      "source": [
        "API deployment on a virtual machine and a managed serverless solution each have their own advantages and disadvantages, which should be considered when deciding which approach to use.\n",
        "\n",
        "Virtual Machine (VM)\n",
        "\n",
        "Pros:\n",
        "\n",
        "- More control: With a VM, you have complete control over the software stack, including the operating system and any libraries or dependencies that are required for your API. This can be important if you have specific requirements or need to make changes to the underlying system.\n",
        "- Customizable infrastructure: You can customize the infrastructure to your exact needs, such as storage, networking, and security.\n",
        "- Flexibility: A VM can be used to deploy a wide range of applications, including APIs, web applications, and databases.\n",
        "\n",
        "Cons:\n",
        "\n",
        "- Maintenance: Managing a VM requires ongoing maintenance, including security updates, software updates, and patches.\n",
        "- Scalability: Scaling a VM can be complex, as it requires additional resources and configuration.\n",
        "- Cost: VMs can be expensive to run, especially if you require a high level of resources or require custom infrastructure.\n",
        "\n",
        "Managed Serverless Solution\n",
        "\n",
        "Pros:\n",
        "\n",
        "- Easy deployment: Managed serverless solutions make it easy to deploy and run your API, as they handle the underlying infrastructure for you.\n",
        "- Automatic scaling: These solutions can automatically scale to handle increases in traffic, which can be beneficial for APIs that experience fluctuating traffic.\n",
        "- Low maintenance: With a serverless solution, you don't need to worry about managing the underlying infrastructure, as this is taken care of for you.\n",
        "- Cost-effective: You only pay for the resources you use, so serverless solutions can be cost-effective for APIs with low to moderate traffic.\n",
        "\n",
        "Cons:\n",
        "\n",
        "- Less control: With a serverless solution, you have less control over the underlying infrastructure, which can be a problem if you require specific configurations.\n",
        "- Performance: Serverless solutions can be slower than running an API on a dedicated VM, as the infrastructure needs time to spin up when a request is made.\n",
        "- Vendor lock-in: You may be locked into a specific vendor's platform if you choose to use a serverless solution, which can be problematic if you want to switch to a different provider.\n",
        "\n",
        "Overall, the decision of whether to use a virtual machine or a managed serverless solution for API deployment will depend on your specific needs and resources. If you require a high level of control and customization or have specific requirements, then a VM may be the better choice. On the other hand, if you want a cost-effective, easy-to-deploy solution with automatic scaling, then a managed serverless solution may be more appropriate."
      ],
      "metadata": {
        "id": "rm1Uwbo0n3Z9"
      }
    }
  ]
}